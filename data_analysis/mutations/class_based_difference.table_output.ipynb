{
 "cells": [
  {
   "cell_type": "code",
   "execution_count": 1,
   "metadata": {
    "collapsed": false
   },
   "outputs": [
    {
     "name": "stderr",
     "output_type": "stream",
     "text": [
      "/cellar/users/ramarty/anaconda/lib/python2.7/site-packages/IPython/nbformat/current.py:19: UserWarning: IPython.nbformat.current is deprecated.\n",
      "\n",
      "- use IPython.nbformat for read/write/validate public API\n",
      "- use IPython.nbformat.vX directly to composing notebooks of a particular version\n",
      "\n",
      "  \"\"\")\n",
      "/cellar/users/ramarty/anaconda/lib/python2.7/site-packages/sklearn/cross_validation.py:44: DeprecationWarning: This module was deprecated in version 0.18 in favor of the model_selection module into which all the refactored classes and functions are moved. Also note that the interface of the new CV iterators are different from that of this module. This module will be removed in 0.20.\n",
      "  \"This module will be removed in 0.20.\", DeprecationWarning)\n"
     ]
    },
    {
     "name": "stdout",
     "output_type": "stream",
     "text": [
      "Populating the interactive namespace from numpy and matplotlib\n"
     ]
    }
   ],
   "source": [
    "import io\n",
    "from IPython.nbformat import current\n",
    "def execute_notebook(nbfile):\n",
    "    with io.open(nbfile) as f:\n",
    "        nb = current.read(f, 'json')\n",
    "    ip = get_ipython()\n",
    "    for cell in nb.worksheets[0].cells:\n",
    "        if cell.cell_type != 'code':\n",
    "            continue\n",
    "        ip.run_cell(cell.input)\n",
    "execute_notebook(\"/cellar/users/ramarty/Projects/hla_ii/bin/imports.ipynb\")\\"
   ]
  },
  {
   "cell_type": "code",
   "execution_count": 2,
   "metadata": {
    "collapsed": true
   },
   "outputs": [],
   "source": [
    "patient_affinitiesI = pd.read_csv('/cellar/users/ramarty/Data/hla_ii/presentation/clean_matrices/patient_affinities.cancer.TCGA.conservative.mut.ClassI.csv',\n",
    "                               index_col=0)\n",
    "patient_affinitiesII = pd.read_csv('/cellar/users/ramarty/Data/hla_ii/presentation/clean_matrices/patient_affinities.cancer.TCGA.conservative.mut.ClassII.csv',\n",
    "                              index_col=0)"
   ]
  },
  {
   "cell_type": "code",
   "execution_count": 3,
   "metadata": {
    "collapsed": true
   },
   "outputs": [],
   "source": [
    "def patient_fractions_dataframe(MHCI_cutoff, MHCII_cutoff, patient_affinitiesI, patient_affinitiesII, high_frequency_mutations):\n",
    "    fractionsI, fractionsII = [], []\n",
    "    mutation_count = []\n",
    "    for mutation in high_frequency_mutations:\n",
    "        fractionsI.append(len(patient_affinitiesI[mutation][patient_affinitiesI[mutation] < MHCI_cutoff]) / float(len(patient_affinitiesI)))\n",
    "        fractionsII.append(len(patient_affinitiesII[mutation][patient_affinitiesII[mutation] < MHCII_cutoff]) / float(len(patient_affinitiesII)))\n",
    "        #mutation_count.append(patient_mutations.sum().ix[mutation])\n",
    "    df = pd.DataFrame({'Mutation': high_frequency_mutations,\n",
    "                       'MHCI': fractionsI,\n",
    "                       'MHCII': fractionsII})\n",
    "    return df"
   ]
  },
  {
   "cell_type": "code",
   "execution_count": 4,
   "metadata": {
    "collapsed": true
   },
   "outputs": [],
   "source": [
    "def plot_patient_fractions(MHCI_cutoff, MHCII_cutoff, patient_affinitiesI, patient_affinitiesII, high_frequency_mutations):\n",
    "    fractionsI, fractionsII = [], []\n",
    "    mutation_count = []\n",
    "    for mutation in high_frequency_mutations:\n",
    "        fractionsI.append(len(patient_affinitiesI[mutation][patient_affinitiesI[mutation] < MHCI_cutoff]) / float(len(patient_affinitiesI)))\n",
    "        fractionsII.append(len(patient_affinitiesII[mutation][patient_affinitiesII[mutation] < MHCII_cutoff]) / float(len(patient_affinitiesII)))\n",
    "        #mutation_count.append(patient_mutations.sum().ix[mutation])\n",
    "    df = pd.DataFrame({'Mutation': high_frequency_mutations,\n",
    "                       'MHCI': fractionsI,\n",
    "                       'MHCII': fractionsII})\n",
    "                       #'Mutation_count': mutation_count})\n",
    "    fig, ax = plt.subplots()\n",
    "    plt.axhline(0.5, color='darkred', lw=2)\n",
    "    plt.axvline(0.5, color='darkred', lw=2)\n",
    "    ax.scatter(df.MHCI, df.MHCII, color='grey', alpha=0.3)\n",
    "    #for i, txt in enumerate(df.Mutation):\n",
    "    #    ax.annotate(txt, (df.MHCI[i],df.MHCII[i]), size=8)\n",
    "    plt.xlabel('Fraction of patients with MHC-I presentation')\n",
    "    plt.ylabel('Fraction of patients with\\nMHC-II presentation')\n",
    "    plt.xlim(-0.05, max(df.MHCI))\n",
    "    plt.ylim(-0.05, max(df.MHCII))\n",
    "    #plt.savefig('/cellar/users/ramarty/Data/hla_ii/generated_figures/overview/fraction_of_patients.MHCI_{0}.MHCII_{1}.pdf'.format(MHCI_cutoff,\n",
    "    #                                                                                                                             MHCII_cutoff),\n",
    "    #            bbox_tight=True) \n",
    "    return df"
   ]
  },
  {
   "cell_type": "code",
   "execution_count": 6,
   "metadata": {
    "collapsed": true
   },
   "outputs": [],
   "source": [
    "df = patient_fractions_dataframe(2, 10, patient_affinitiesI, patient_affinitiesII, list(patient_affinitiesII.columns))"
   ]
  },
  {
   "cell_type": "code",
   "execution_count": 7,
   "metadata": {
    "collapsed": false
   },
   "outputs": [],
   "source": [
    "from pandas import ExcelWriter\n",
    "writer = ExcelWriter('/cellar/users/ramarty/Data/hla_ii/generated_data/tables/fraction_of_presentation.xlsx')\n",
    "df.sort_values('MHCII').to_excel(writer,'Fraction of Presentation', index=False)\n",
    "writer.save()"
   ]
  },
  {
   "cell_type": "code",
   "execution_count": null,
   "metadata": {
    "collapsed": true
   },
   "outputs": [],
   "source": []
  }
 ],
 "metadata": {
  "kernelspec": {
   "display_name": "Python 2",
   "language": "python",
   "name": "python2"
  },
  "language_info": {
   "codemirror_mode": {
    "name": "ipython",
    "version": 2
   },
   "file_extension": ".py",
   "mimetype": "text/x-python",
   "name": "python",
   "nbconvert_exporter": "python",
   "pygments_lexer": "ipython2",
   "version": "2.7.14"
  }
 },
 "nbformat": 4,
 "nbformat_minor": 0
}
