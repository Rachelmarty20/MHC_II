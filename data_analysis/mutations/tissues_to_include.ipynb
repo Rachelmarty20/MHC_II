{
 "cells": [
  {
   "cell_type": "code",
   "execution_count": 1,
   "metadata": {
    "collapsed": false
   },
   "outputs": [
    {
     "name": "stderr",
     "output_type": "stream",
     "text": [
      "/cellar/users/ramarty/anaconda/lib/python2.7/site-packages/IPython/nbformat/current.py:19: UserWarning: IPython.nbformat.current is deprecated.\n",
      "\n",
      "- use IPython.nbformat for read/write/validate public API\n",
      "- use IPython.nbformat.vX directly to composing notebooks of a particular version\n",
      "\n",
      "  \"\"\")\n",
      "/cellar/users/ramarty/anaconda/lib/python2.7/site-packages/sklearn/cross_validation.py:44: DeprecationWarning: This module was deprecated in version 0.18 in favor of the model_selection module into which all the refactored classes and functions are moved. Also note that the interface of the new CV iterators are different from that of this module. This module will be removed in 0.20.\n",
      "  \"This module will be removed in 0.20.\", DeprecationWarning)\n"
     ]
    },
    {
     "name": "stdout",
     "output_type": "stream",
     "text": [
      "Populating the interactive namespace from numpy and matplotlib\n"
     ]
    }
   ],
   "source": [
    "import io\n",
    "from IPython.nbformat import current\n",
    "def execute_notebook(nbfile):\n",
    "    with io.open(nbfile) as f:\n",
    "        nb = current.read(f, 'json')\n",
    "    ip = get_ipython()\n",
    "    for cell in nb.worksheets[0].cells:\n",
    "        if cell.cell_type != 'code':\n",
    "            continue\n",
    "        ip.run_cell(cell.input)\n",
    "execute_notebook(\"/cellar/users/ramarty/Projects/hla_ii/bin/imports.ipynb\")"
   ]
  },
  {
   "cell_type": "code",
   "execution_count": 2,
   "metadata": {
    "collapsed": true
   },
   "outputs": [],
   "source": [
    "patient_mutations = pd.read_csv('/cellar/users/ramarty/Data/hla_ii/presentation/clean_matrices/patient_mutations.cancer.TCGA.conservative.mut.csv',\n",
    "                                index_col=0)\n",
    "patient_tissues = pd.read_csv('/cellar/users/ramarty/Data/hla_ii/presentation/clean_matrices/patient_tissues.conservative.csv',\n",
    "                              index_col=0)"
   ]
  },
  {
   "cell_type": "code",
   "execution_count": 13,
   "metadata": {
    "collapsed": false
   },
   "outputs": [],
   "source": [
    "mutations = list(patient_mutations.sum()[patient_mutations.sum() > 2].index)\n",
    "patient_mutations = patient_mutations[mutations]"
   ]
  },
  {
   "cell_type": "code",
   "execution_count": 17,
   "metadata": {
    "collapsed": false
   },
   "outputs": [
    {
     "name": "stdout",
     "output_type": "stream",
     "text": [
      "GBM 187\n",
      "OV 81\n",
      "LUAD 372\n",
      "LUSC 279\n",
      "PRAD 93\n",
      "BLCA 305\n",
      "PAAD 191\n",
      "LIHC 135\n",
      "STAD 278\n",
      "COAD 456\n",
      "BRCA 102\n",
      "UCEC 155\n",
      "READ 115\n",
      "HNSC 354\n",
      "SKCM 574\n",
      "THCA 276\n",
      "LGG 621\n",
      "UCS 80\n"
     ]
    }
   ],
   "source": [
    "tissues_to_use = []\n",
    "for tissue in patient_tissues.Tissue.unique():\n",
    "    patients = list(patient_tissues[patient_tissues.Tissue == tissue].index)\n",
    "    count = patient_mutations.loc[patients].sum().sum()\n",
    "    if count > 50: \n",
    "        print tissue, count\n",
    "        tissues_to_use.append(tissue)"
   ]
  },
  {
   "cell_type": "code",
   "execution_count": 18,
   "metadata": {
    "collapsed": true
   },
   "outputs": [],
   "source": [
    "with open('/cellar/users/ramarty/Data/hla_ii/presentation/clean_matrices/tissues_to_use.txt', 'w') as outfile:\n",
    "    for tissue in tissues_to_use:\n",
    "        outfile.write('{0}\\n'.format(tissue))"
   ]
  },
  {
   "cell_type": "markdown",
   "metadata": {
    "collapsed": true
   },
   "source": [
    "THCA exploration"
   ]
  },
  {
   "cell_type": "code",
   "execution_count": 5,
   "metadata": {
    "collapsed": false
   },
   "outputs": [
    {
     "data": {
      "text/plain": [
       "BRAF_V600E            219\n",
       "NRAS_Q61R              25\n",
       "HRAS_Q61R              10\n",
       "NRAS_Q61K               7\n",
       "AKT1_E17K               3\n",
       "BRAF_K601E              2\n",
       "HRAS_Q61K               2\n",
       "KRAS_Q61K               2\n",
       "UBQLN2_R309S            2\n",
       "OR5I1_L294F             1\n",
       "KRAS_Q61R               1\n",
       "AKT1_L52R               1\n",
       "PPP2R1A_A273V           1\n",
       "PIK3CA_D186H            1\n",
       "BRAF_ifd_140778037      1\n",
       "PIK3CA_M1043I           1\n",
       "MYH2_E878K              0\n",
       "CSMD3_P184S             0\n",
       "MYF5_R129C              0\n",
       "COL5A2_D1414N           0\n",
       "MED12_L1224F            0\n",
       "CSMD3_R3025C            0\n",
       "MAP2K1_P124L            0\n",
       "BRAF_V600G              0\n",
       "HRAS_G13D               0\n",
       "MYH2_D756N              0\n",
       "CSMD3_R683C             0\n",
       "EGFR_T263P              0\n",
       "FLT3_R387Q              0\n",
       "ERBB3_A245V             0\n",
       "                     ... \n",
       "TP53_L130V              0\n",
       "PTEN_P246L              0\n",
       "PBRM1_R876C             0\n",
       "TP53_R249M              0\n",
       "TP53_R280G              0\n",
       "FBXW7_S582L             0\n",
       "TP53_P278T              0\n",
       "TP53_G105C              0\n",
       "ARID1A_G2087R           0\n",
       "TP53_Q331H              0\n",
       "EP300_R580Q             0\n",
       "TGFBR2_D446N            0\n",
       "MAP3K1_S1330L           0\n",
       "TP53_G244C              0\n",
       "TP53_D259V              0\n",
       "PTEN_R130L              0\n",
       "COL4A2_R1410Q           0\n",
       "TP53_A161T              0\n",
       "PIK3R1_L56V             0\n",
       "CDKN2A_P48L             0\n",
       "TP53_E286G              0\n",
       "CREBBP_R1446H           0\n",
       "TP53_R267W              0\n",
       "GATA3_A395T             0\n",
       "TP53_D259Y              0\n",
       "DNMT3A_R882C            0\n",
       "TP53_R156P              0\n",
       "TP53_P278R              0\n",
       "TP53_D281E              0\n",
       "EGFR_ifd_55174772       0\n",
       "dtype: int64"
      ]
     },
     "execution_count": 5,
     "metadata": {},
     "output_type": "execute_result"
    }
   ],
   "source": [
    "tissue = 'THCA'\n",
    "patients = list(patient_tissues[patient_tissues.Tissue == tissue].index)\n",
    "print \n",
    "patient_mutations.loc[patients].sum().sort_values(ascending=False)"
   ]
  },
  {
   "cell_type": "code",
   "execution_count": null,
   "metadata": {
    "collapsed": true
   },
   "outputs": [],
   "source": []
  }
 ],
 "metadata": {
  "kernelspec": {
   "display_name": "Python 2",
   "language": "python",
   "name": "python2"
  },
  "language_info": {
   "codemirror_mode": {
    "name": "ipython",
    "version": 2
   },
   "file_extension": ".py",
   "mimetype": "text/x-python",
   "name": "python",
   "nbconvert_exporter": "python",
   "pygments_lexer": "ipython2",
   "version": "2.7.14"
  }
 },
 "nbformat": 4,
 "nbformat_minor": 0
}
