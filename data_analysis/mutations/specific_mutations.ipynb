{
 "cells": [
  {
   "cell_type": "code",
   "execution_count": 2,
   "metadata": {
    "collapsed": false
   },
   "outputs": [
    {
     "name": "stdout",
     "output_type": "stream",
     "text": [
      "Populating the interactive namespace from numpy and matplotlib\n"
     ]
    }
   ],
   "source": [
    "import io\n",
    "from IPython.nbformat import current\n",
    "def execute_notebook(nbfile):\n",
    "    with io.open(nbfile) as f:\n",
    "        nb = current.read(f, 'json')\n",
    "    ip = get_ipython()\n",
    "    for cell in nb.worksheets[0].cells:\n",
    "        if cell.cell_type != 'code':\n",
    "            continue\n",
    "        ip.run_cell(cell.input)\n",
    "execute_notebook(\"/cellar/users/ramarty/Projects/hla_ii/bin/imports.ipynb\")\n",
    "execute_notebook(\"/cellar/users/ramarty/Projects/hla_ii/bin/plotting.ipynb\")"
   ]
  },
  {
   "cell_type": "code",
   "execution_count": 88,
   "metadata": {
    "collapsed": true
   },
   "outputs": [],
   "source": [
    "mutations = os.listdir('/cellar/users/ramarty/Data/hla_ii/generated_data/mutations/specific_mutations/')\n",
    "mutation = mutations[0]"
   ]
  },
  {
   "cell_type": "code",
   "execution_count": 89,
   "metadata": {
    "collapsed": false
   },
   "outputs": [],
   "source": [
    "all_dfs = []\n",
    "for mutation in mutations:\n",
    "    df = pd.read_csv('/cellar/users/ramarty/Data/hla_ii/generated_data/mutations/specific_mutations/' + mutation, sep=' ')\n",
    "    df['Mutation'] = mutation.split('.')[0]\n",
    "    all_dfs.append(df)\n",
    "df = pd.concat(all_dfs)"
   ]
  },
  {
   "cell_type": "code",
   "execution_count": 91,
   "metadata": {
    "collapsed": false
   },
   "outputs": [
    {
     "data": {
      "text/html": [
       "<div>\n",
       "<table border=\"1\" class=\"dataframe\">\n",
       "  <thead>\n",
       "    <tr style=\"text-align: right;\">\n",
       "      <th></th>\n",
       "      <th>OR</th>\n",
       "      <th>conf_OR_low</th>\n",
       "      <th>conf_OR_high</th>\n",
       "      <th>P</th>\n",
       "      <th>Mutation</th>\n",
       "    </tr>\n",
       "  </thead>\n",
       "  <tbody>\n",
       "    <tr>\n",
       "      <th>MHC-I</th>\n",
       "      <td>1.761191</td>\n",
       "      <td>0.902133</td>\n",
       "      <td>3.438290</td>\n",
       "      <td>0.097267</td>\n",
       "      <td>TP53_R273H</td>\n",
       "    </tr>\n",
       "    <tr>\n",
       "      <th>Both</th>\n",
       "      <td>1.882393</td>\n",
       "      <td>0.956043</td>\n",
       "      <td>3.706323</td>\n",
       "      <td>0.067257</td>\n",
       "      <td>TP53_R273H</td>\n",
       "    </tr>\n",
       "    <tr>\n",
       "      <th>MHC-II</th>\n",
       "      <td>0.615046</td>\n",
       "      <td>0.352117</td>\n",
       "      <td>1.074305</td>\n",
       "      <td>0.087614</td>\n",
       "      <td>BRAF_V600E</td>\n",
       "    </tr>\n",
       "    <tr>\n",
       "      <th>MHC-II</th>\n",
       "      <td>0.056792</td>\n",
       "      <td>0.002056</td>\n",
       "      <td>1.568487</td>\n",
       "      <td>0.090237</td>\n",
       "      <td>IDH1_R132C</td>\n",
       "    </tr>\n",
       "    <tr>\n",
       "      <th>MHC-II</th>\n",
       "      <td>0.079804</td>\n",
       "      <td>0.008048</td>\n",
       "      <td>0.791319</td>\n",
       "      <td>0.030775</td>\n",
       "      <td>TP53_H179R</td>\n",
       "    </tr>\n",
       "    <tr>\n",
       "      <th>MHC-I</th>\n",
       "      <td>0.494676</td>\n",
       "      <td>0.305602</td>\n",
       "      <td>0.800728</td>\n",
       "      <td>0.004178</td>\n",
       "      <td>TP53_R273C</td>\n",
       "    </tr>\n",
       "    <tr>\n",
       "      <th>Both</th>\n",
       "      <td>0.497895</td>\n",
       "      <td>0.306870</td>\n",
       "      <td>0.807833</td>\n",
       "      <td>0.004739</td>\n",
       "      <td>TP53_R273C</td>\n",
       "    </tr>\n",
       "  </tbody>\n",
       "</table>\n",
       "</div>"
      ],
      "text/plain": [
       "              OR  conf_OR_low  conf_OR_high         P    Mutation\n",
       "MHC-I   1.761191     0.902133      3.438290  0.097267  TP53_R273H\n",
       "Both    1.882393     0.956043      3.706323  0.067257  TP53_R273H\n",
       "MHC-II  0.615046     0.352117      1.074305  0.087614  BRAF_V600E\n",
       "MHC-II  0.056792     0.002056      1.568487  0.090237  IDH1_R132C\n",
       "MHC-II  0.079804     0.008048      0.791319  0.030775  TP53_H179R\n",
       "MHC-I   0.494676     0.305602      0.800728  0.004178  TP53_R273C\n",
       "Both    0.497895     0.306870      0.807833  0.004739  TP53_R273C"
      ]
     },
     "execution_count": 91,
     "metadata": {},
     "output_type": "execute_result"
    }
   ],
   "source": [
    "df[df.P < 0.1]"
   ]
  },
  {
   "cell_type": "code",
   "execution_count": null,
   "metadata": {
    "collapsed": true
   },
   "outputs": [],
   "source": []
  },
  {
   "cell_type": "code",
   "execution_count": null,
   "metadata": {
    "collapsed": true
   },
   "outputs": [],
   "source": []
  },
  {
   "cell_type": "code",
   "execution_count": null,
   "metadata": {
    "collapsed": true
   },
   "outputs": [],
   "source": []
  },
  {
   "cell_type": "code",
   "execution_count": null,
   "metadata": {
    "collapsed": true
   },
   "outputs": [],
   "source": []
  },
  {
   "cell_type": "code",
   "execution_count": null,
   "metadata": {
    "collapsed": true
   },
   "outputs": [],
   "source": []
  },
  {
   "cell_type": "code",
   "execution_count": 20,
   "metadata": {
    "collapsed": false
   },
   "outputs": [],
   "source": [
    "patient_mutations = pd.read_csv('/cellar/users/ramarty/Data/hla_ii/generated_data/mutations/patient_mutations.HF.csv',\n",
    "                                index_col=0)\n",
    "patient_affinitiesI = pd.read_csv('/cellar/users/ramarty/Data/hla_ii/generated_data/mutations/patient_affinitiesI.HF.csv',\n",
    "                                index_col=0)\n",
    "patient_affinitiesII = pd.read_csv('/cellar/users/ramarty/Data/hla_ii/generated_data/mutations/patient_affinitiesII.HF.csv',\n",
    "                                index_col=0)"
   ]
  },
  {
   "cell_type": "code",
   "execution_count": 21,
   "metadata": {
    "collapsed": true
   },
   "outputs": [],
   "source": [
    "import statsmodels.api as sm"
   ]
  },
  {
   "cell_type": "code",
   "execution_count": 22,
   "metadata": {
    "collapsed": false
   },
   "outputs": [
    {
     "data": {
      "text/plain": [
       "['BRAF_V600E',\n",
       " 'IDH1_R132H',\n",
       " 'PIK3CA_E545K',\n",
       " 'PIK3CA_H1047R',\n",
       " 'KRAS_G12D',\n",
       " 'KRAS_G12V',\n",
       " 'PIK3CA_E542K',\n",
       " 'NRAS_Q61R',\n",
       " 'KRAS_G12C',\n",
       " 'KRAS_G13D',\n",
       " 'NRAS_Q61K',\n",
       " 'PIK3CA_R88Q',\n",
       " 'IDH1_R132C',\n",
       " 'KRAS_G12A',\n",
       " 'BRAF_V600M',\n",
       " 'ERBB2_S310F',\n",
       " 'KRAS_G12R',\n",
       " 'HRAS_Q61R',\n",
       " 'TP53_R175H',\n",
       " 'TP53_R273C',\n",
       " 'TP53_R248Q',\n",
       " 'TP53_R273H',\n",
       " 'TP53_R248W',\n",
       " 'TP53_R282W',\n",
       " 'TP53_Y220C',\n",
       " 'TP53_G245S',\n",
       " 'TP53_H179R',\n",
       " 'TP53_V157F']"
      ]
     },
     "execution_count": 22,
     "metadata": {},
     "output_type": "execute_result"
    }
   ],
   "source": [
    "mutations = list(patient_mutations.columns)\n",
    "mutations"
   ]
  },
  {
   "cell_type": "code",
   "execution_count": 62,
   "metadata": {
    "collapsed": true
   },
   "outputs": [],
   "source": [
    "mutation = 'KRAS_G12V'"
   ]
  },
  {
   "cell_type": "code",
   "execution_count": 63,
   "metadata": {
    "collapsed": false
   },
   "outputs": [],
   "source": [
    "glm_binom = sm.GLM(patient_mutations[mutation], patient_affinitiesI[mutation], family=sm.families.Binomial())"
   ]
  },
  {
   "cell_type": "code",
   "execution_count": 64,
   "metadata": {
    "collapsed": false
   },
   "outputs": [],
   "source": [
    "glm_results = glm_binom.fit()"
   ]
  },
  {
   "cell_type": "code",
   "execution_count": 74,
   "metadata": {
    "collapsed": false
   },
   "outputs": [
    {
     "ename": "TypeError",
     "evalue": "t_test() takes at least 2 arguments (1 given)",
     "output_type": "error",
     "traceback": [
      "\u001b[1;31m---------------------------------------------------------------------------\u001b[0m",
      "\u001b[1;31mTypeError\u001b[0m                                 Traceback (most recent call last)",
      "\u001b[1;32m<ipython-input-74-65847a3c17c1>\u001b[0m in \u001b[0;36m<module>\u001b[1;34m()\u001b[0m\n\u001b[1;32m----> 1\u001b[1;33m \u001b[0mglm_results\u001b[0m\u001b[1;33m.\u001b[0m\u001b[0mt_test\u001b[0m\u001b[1;33m(\u001b[0m\u001b[1;33m)\u001b[0m\u001b[1;33m\u001b[0m\u001b[0m\n\u001b[0m",
      "\u001b[1;31mTypeError\u001b[0m: t_test() takes at least 2 arguments (1 given)"
     ]
    }
   ],
   "source": [
    "glm_results."
   ]
  },
  {
   "cell_type": "code",
   "execution_count": 70,
   "metadata": {
    "collapsed": false
   },
   "outputs": [
    {
     "data": {
      "text/plain": [
       "0.18659775905361181"
      ]
     },
     "execution_count": 70,
     "metadata": {},
     "output_type": "execute_result"
    }
   ],
   "source": [
    "exp(-1.6788)"
   ]
  },
  {
   "cell_type": "code",
   "execution_count": 71,
   "metadata": {
    "collapsed": false
   },
   "outputs": [
    {
     "data": {
      "text/plain": [
       "11.8837161144"
      ]
     },
     "execution_count": 71,
     "metadata": {},
     "output_type": "execute_result"
    }
   ],
   "source": [
    "patient_affinitiesII.loc[patient_mutations[mutation][patient_mutations[mutation] == 1].index][mutation].median()"
   ]
  },
  {
   "cell_type": "code",
   "execution_count": 72,
   "metadata": {
    "collapsed": false
   },
   "outputs": [
    {
     "data": {
      "text/plain": [
       "11.7659310088"
      ]
     },
     "execution_count": 72,
     "metadata": {},
     "output_type": "execute_result"
    }
   ],
   "source": [
    "patient_affinitiesII.loc[patient_mutations[mutation][patient_mutations[mutation] == 0].index][mutation].median()"
   ]
  },
  {
   "cell_type": "code",
   "execution_count": null,
   "metadata": {
    "collapsed": true
   },
   "outputs": [],
   "source": []
  }
 ],
 "metadata": {
  "kernelspec": {
   "display_name": "Python 2",
   "language": "python",
   "name": "python2"
  },
  "language_info": {
   "codemirror_mode": {
    "name": "ipython",
    "version": 2
   },
   "file_extension": ".py",
   "mimetype": "text/x-python",
   "name": "python",
   "nbconvert_exporter": "python",
   "pygments_lexer": "ipython2",
   "version": "2.7.14"
  }
 },
 "nbformat": 4,
 "nbformat_minor": 0
}
