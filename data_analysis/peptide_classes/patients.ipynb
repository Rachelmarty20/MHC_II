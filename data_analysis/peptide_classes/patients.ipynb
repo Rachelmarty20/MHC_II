{
 "cells": [
  {
   "cell_type": "code",
   "execution_count": 1,
   "metadata": {
    "collapsed": false
   },
   "outputs": [
    {
     "name": "stderr",
     "output_type": "stream",
     "text": [
      "/cellar/users/ramarty/anaconda/lib/python2.7/site-packages/IPython/nbformat/current.py:19: UserWarning: IPython.nbformat.current is deprecated.\n",
      "\n",
      "- use IPython.nbformat for read/write/validate public API\n",
      "- use IPython.nbformat.vX directly to composing notebooks of a particular version\n",
      "\n",
      "  \"\"\")\n",
      "/cellar/users/ramarty/anaconda/lib/python2.7/site-packages/sklearn/cross_validation.py:44: DeprecationWarning: This module was deprecated in version 0.18 in favor of the model_selection module into which all the refactored classes and functions are moved. Also note that the interface of the new CV iterators are different from that of this module. This module will be removed in 0.20.\n",
      "  \"This module will be removed in 0.20.\", DeprecationWarning)\n"
     ]
    },
    {
     "name": "stdout",
     "output_type": "stream",
     "text": [
      "Populating the interactive namespace from numpy and matplotlib\n"
     ]
    }
   ],
   "source": [
    "import io\n",
    "from IPython.nbformat import current\n",
    "def execute_notebook(nbfile):\n",
    "    with io.open(nbfile) as f:\n",
    "        nb = current.read(f, 'json')\n",
    "    ip = get_ipython()\n",
    "    for cell in nb.worksheets[0].cells:\n",
    "        if cell.cell_type != 'code':\n",
    "            continue\n",
    "        ip.run_cell(cell.input)\n",
    "execute_notebook(\"../../bin/imports.ipynb\")"
   ]
  },
  {
   "cell_type": "code",
   "execution_count": 2,
   "metadata": {
    "collapsed": true
   },
   "outputs": [],
   "source": [
    "def get_values_from_df(df):\n",
    "    values = []\n",
    "    for a in df.values:\n",
    "        values.extend(a)\n",
    "    return values"
   ]
  },
  {
   "cell_type": "code",
   "execution_count": 3,
   "metadata": {
    "collapsed": true
   },
   "outputs": [],
   "source": [
    "df = pd.read_csv('/cellar/users/ramarty/Data/hla_ii/presentation/clean_matrices/patient_mutations.cancer.TCGA.conservative.mut.csv', index_col=0)"
   ]
  },
  {
   "cell_type": "code",
   "execution_count": 4,
   "metadata": {
    "collapsed": false
   },
   "outputs": [
    {
     "data": {
      "text/plain": [
       "787"
      ]
     },
     "execution_count": 4,
     "metadata": {},
     "output_type": "execute_result"
    }
   ],
   "source": [
    "len(df.sum()[df.sum() >= 2])"
   ]
  },
  {
   "cell_type": "code",
   "execution_count": 5,
   "metadata": {
    "collapsed": false
   },
   "outputs": [
    {
     "data": {
      "text/plain": [
       "(5942, 1018)"
      ]
     },
     "execution_count": 5,
     "metadata": {},
     "output_type": "execute_result"
    }
   ],
   "source": [
    "df.shape"
   ]
  },
  {
   "cell_type": "code",
   "execution_count": 6,
   "metadata": {
    "collapsed": false
   },
   "outputs": [],
   "source": [
    "conserved_patients = list(df.index)"
   ]
  },
  {
   "cell_type": "code",
   "execution_count": 7,
   "metadata": {
    "collapsed": false
   },
   "outputs": [
    {
     "name": "stdout",
     "output_type": "stream",
     "text": [
      "1018\n",
      "oncogenes 3042304 643 512\n",
      "tsgenes 2893754 602 487\n",
      "random 17478000\n",
      "germline 5826000\n",
      "viral 5826000\n",
      "bacterial 5826000\n"
     ]
    }
   ],
   "source": [
    "mutation_counts = pd.DataFrame(df.sum()).reset_index()\n",
    "mutation_counts.columns = ['mutation', 'count']\n",
    "#driver_mutations = list(mutation_counts[mutation_counts['count'] > 10].mutation)\n",
    "driver_mutations = list(mutation_counts.mutation)\n",
    "print len(driver_mutations)\n",
    "categories = ['oncogenes', 'tsgenes', 'random', 'germline', 'viral', 'bacterial']\n",
    "value_types = []\n",
    "for category in categories:\n",
    "    # restrict the columns to higher frequency mutations\n",
    "    if category == 'oncogenes' or category == 'tsgenes':\n",
    "        df = pd.read_csv('/cellar/users/ramarty/Data/hla_ii/presentation/patient_matrices/{0}.all.csv'.format(category), index_col=0)\n",
    "        #df.set_index('mutation', inplace=True)\n",
    "        app_restricted_space = [x for x in driver_mutations if x in df.index]\n",
    "        values = get_values_from_df(df.ix[app_restricted_space, conserved_patients])\n",
    "        print category, len(values), len(df.index), len(app_restricted_space)\n",
    "        value_types.append(values)\n",
    "    else:\n",
    "        df = pd.read_csv('/cellar/users/ramarty/Data/hla_ii/presentation/patient_matrices/{0}.all.csv'.format(category), index_col=0)\n",
    "        df = df.ix[:, conserved_patients].dropna(axis=1)\n",
    "        #df.set_index('mutation', inplace=True)\n",
    "        values = get_values_from_df(df)\n",
    "        value_types.append(values)\n",
    "        print category, len(values)\n",
    "\n",
    "plotting = pd.DataFrame({'category': ['Oncogenes' for x in value_types[0]] + ['TSgenes' for x in value_types[1]] + ['Random' for x in value_types[2]] + ['Germline' for x in value_types[3]] + ['Viral' for x in value_types[4]] + ['Bacterial' for x in value_types[5]],\n",
    "                         'PHBR': value_types[0] + value_types[1] + value_types[2] + value_types[3] + value_types[4] + value_types[5]})\n"
   ]
  },
  {
   "cell_type": "code",
   "execution_count": 15,
   "metadata": {
    "collapsed": false
   },
   "outputs": [
    {
     "ename": "KeyboardInterrupt",
     "evalue": "",
     "output_type": "error",
     "traceback": [
      "\u001b[1;31m---------------------------------------------------------------------------\u001b[0m",
      "\u001b[1;31mKeyboardInterrupt\u001b[0m                         Traceback (most recent call last)",
      "\u001b[1;32m<ipython-input-15-a333c2ed51ed>\u001b[0m in \u001b[0;36m<module>\u001b[1;34m()\u001b[0m\n\u001b[0;32m      3\u001b[0m \u001b[0mplt\u001b[0m\u001b[1;33m.\u001b[0m\u001b[0mfigure\u001b[0m\u001b[1;33m(\u001b[0m\u001b[0mfigsize\u001b[0m\u001b[1;33m=\u001b[0m\u001b[1;33m(\u001b[0m\u001b[1;36m3.5\u001b[0m\u001b[1;33m,\u001b[0m \u001b[1;36m3\u001b[0m\u001b[1;33m)\u001b[0m\u001b[1;33m)\u001b[0m\u001b[1;33m\u001b[0m\u001b[0m\n\u001b[0;32m      4\u001b[0m sns.violinplot(x='category', y='PHBR', data=plotting, order=['TSgenes', 'Oncogenes', 'Random', 'Germline', 'Viral', 'Bacterial'],\n\u001b[1;32m----> 5\u001b[1;33m               palette=sns.xkcd_palette(colors))\n\u001b[0m\u001b[0;32m      6\u001b[0m \u001b[0mplt\u001b[0m\u001b[1;33m.\u001b[0m\u001b[0mxticks\u001b[0m\u001b[1;33m(\u001b[0m\u001b[0mrotation\u001b[0m\u001b[1;33m=\u001b[0m\u001b[1;36m45\u001b[0m\u001b[1;33m)\u001b[0m\u001b[1;33m\u001b[0m\u001b[0m\n\u001b[0;32m      7\u001b[0m \u001b[0mplt\u001b[0m\u001b[1;33m.\u001b[0m\u001b[0mxlabel\u001b[0m\u001b[1;33m(\u001b[0m\u001b[1;34m''\u001b[0m\u001b[1;33m)\u001b[0m\u001b[1;33m\u001b[0m\u001b[0m\n",
      "\u001b[1;32m/cellar/users/ramarty/anaconda/lib/python2.7/site-packages/seaborn/categorical.pyc\u001b[0m in \u001b[0;36mviolinplot\u001b[1;34m(x, y, hue, data, order, hue_order, bw, cut, scale, scale_hue, gridsize, width, inner, split, dodge, orient, linewidth, color, palette, saturation, ax, **kwargs)\u001b[0m\n\u001b[0;32m   2343\u001b[0m                              \u001b[0mbw\u001b[0m\u001b[1;33m,\u001b[0m \u001b[0mcut\u001b[0m\u001b[1;33m,\u001b[0m \u001b[0mscale\u001b[0m\u001b[1;33m,\u001b[0m \u001b[0mscale_hue\u001b[0m\u001b[1;33m,\u001b[0m \u001b[0mgridsize\u001b[0m\u001b[1;33m,\u001b[0m\u001b[1;33m\u001b[0m\u001b[0m\n\u001b[0;32m   2344\u001b[0m                              \u001b[0mwidth\u001b[0m\u001b[1;33m,\u001b[0m \u001b[0minner\u001b[0m\u001b[1;33m,\u001b[0m \u001b[0msplit\u001b[0m\u001b[1;33m,\u001b[0m \u001b[0mdodge\u001b[0m\u001b[1;33m,\u001b[0m \u001b[0morient\u001b[0m\u001b[1;33m,\u001b[0m \u001b[0mlinewidth\u001b[0m\u001b[1;33m,\u001b[0m\u001b[1;33m\u001b[0m\u001b[0m\n\u001b[1;32m-> 2345\u001b[1;33m                              color, palette, saturation)\n\u001b[0m\u001b[0;32m   2346\u001b[0m \u001b[1;33m\u001b[0m\u001b[0m\n\u001b[0;32m   2347\u001b[0m     \u001b[1;32mif\u001b[0m \u001b[0max\u001b[0m \u001b[1;32mis\u001b[0m \u001b[0mNone\u001b[0m\u001b[1;33m:\u001b[0m\u001b[1;33m\u001b[0m\u001b[0m\n",
      "\u001b[1;32m/cellar/users/ramarty/anaconda/lib/python2.7/site-packages/seaborn/categorical.pyc\u001b[0m in \u001b[0;36m__init__\u001b[1;34m(self, x, y, hue, data, order, hue_order, bw, cut, scale, scale_hue, gridsize, width, inner, split, dodge, orient, linewidth, color, palette, saturation)\u001b[0m\n\u001b[0;32m    549\u001b[0m         \u001b[0mself\u001b[0m\u001b[1;33m.\u001b[0m\u001b[0mestablish_variables\u001b[0m\u001b[1;33m(\u001b[0m\u001b[0mx\u001b[0m\u001b[1;33m,\u001b[0m \u001b[0my\u001b[0m\u001b[1;33m,\u001b[0m \u001b[0mhue\u001b[0m\u001b[1;33m,\u001b[0m \u001b[0mdata\u001b[0m\u001b[1;33m,\u001b[0m \u001b[0morient\u001b[0m\u001b[1;33m,\u001b[0m \u001b[0morder\u001b[0m\u001b[1;33m,\u001b[0m \u001b[0mhue_order\u001b[0m\u001b[1;33m)\u001b[0m\u001b[1;33m\u001b[0m\u001b[0m\n\u001b[0;32m    550\u001b[0m         \u001b[0mself\u001b[0m\u001b[1;33m.\u001b[0m\u001b[0mestablish_colors\u001b[0m\u001b[1;33m(\u001b[0m\u001b[0mcolor\u001b[0m\u001b[1;33m,\u001b[0m \u001b[0mpalette\u001b[0m\u001b[1;33m,\u001b[0m \u001b[0msaturation\u001b[0m\u001b[1;33m)\u001b[0m\u001b[1;33m\u001b[0m\u001b[0m\n\u001b[1;32m--> 551\u001b[1;33m         \u001b[0mself\u001b[0m\u001b[1;33m.\u001b[0m\u001b[0mestimate_densities\u001b[0m\u001b[1;33m(\u001b[0m\u001b[0mbw\u001b[0m\u001b[1;33m,\u001b[0m \u001b[0mcut\u001b[0m\u001b[1;33m,\u001b[0m \u001b[0mscale\u001b[0m\u001b[1;33m,\u001b[0m \u001b[0mscale_hue\u001b[0m\u001b[1;33m,\u001b[0m \u001b[0mgridsize\u001b[0m\u001b[1;33m)\u001b[0m\u001b[1;33m\u001b[0m\u001b[0m\n\u001b[0m\u001b[0;32m    552\u001b[0m \u001b[1;33m\u001b[0m\u001b[0m\n\u001b[0;32m    553\u001b[0m         \u001b[0mself\u001b[0m\u001b[1;33m.\u001b[0m\u001b[0mgridsize\u001b[0m \u001b[1;33m=\u001b[0m \u001b[0mgridsize\u001b[0m\u001b[1;33m\u001b[0m\u001b[0m\n",
      "\u001b[1;32m/cellar/users/ramarty/anaconda/lib/python2.7/site-packages/seaborn/categorical.pyc\u001b[0m in \u001b[0;36mestimate_densities\u001b[1;34m(self, bw, cut, scale, scale_hue, gridsize)\u001b[0m\n\u001b[0;32m    619\u001b[0m                 \u001b[1;31m# Determine the support grid and get the density over it\u001b[0m\u001b[1;33m\u001b[0m\u001b[1;33m\u001b[0m\u001b[0m\n\u001b[0;32m    620\u001b[0m                 \u001b[0msupport_i\u001b[0m \u001b[1;33m=\u001b[0m \u001b[0mself\u001b[0m\u001b[1;33m.\u001b[0m\u001b[0mkde_support\u001b[0m\u001b[1;33m(\u001b[0m\u001b[0mkde_data\u001b[0m\u001b[1;33m,\u001b[0m \u001b[0mbw_used\u001b[0m\u001b[1;33m,\u001b[0m \u001b[0mcut\u001b[0m\u001b[1;33m,\u001b[0m \u001b[0mgridsize\u001b[0m\u001b[1;33m)\u001b[0m\u001b[1;33m\u001b[0m\u001b[0m\n\u001b[1;32m--> 621\u001b[1;33m                 \u001b[0mdensity_i\u001b[0m \u001b[1;33m=\u001b[0m \u001b[0mkde\u001b[0m\u001b[1;33m.\u001b[0m\u001b[0mevaluate\u001b[0m\u001b[1;33m(\u001b[0m\u001b[0msupport_i\u001b[0m\u001b[1;33m)\u001b[0m\u001b[1;33m\u001b[0m\u001b[0m\n\u001b[0m\u001b[0;32m    622\u001b[0m \u001b[1;33m\u001b[0m\u001b[0m\n\u001b[0;32m    623\u001b[0m                 \u001b[1;31m# Update the data structures with these results\u001b[0m\u001b[1;33m\u001b[0m\u001b[1;33m\u001b[0m\u001b[0m\n",
      "\u001b[1;32m/cellar/users/ramarty/anaconda/lib/python2.7/site-packages/scipy/stats/kde.pyc\u001b[0m in \u001b[0;36mevaluate\u001b[1;34m(self, points)\u001b[0m\n\u001b[0;32m    220\u001b[0m                 \u001b[0mtdiff\u001b[0m \u001b[1;33m=\u001b[0m \u001b[0mdot\u001b[0m\u001b[1;33m(\u001b[0m\u001b[0mself\u001b[0m\u001b[1;33m.\u001b[0m\u001b[0minv_cov\u001b[0m\u001b[1;33m,\u001b[0m \u001b[0mdiff\u001b[0m\u001b[1;33m)\u001b[0m\u001b[1;33m\u001b[0m\u001b[0m\n\u001b[0;32m    221\u001b[0m                 \u001b[0menergy\u001b[0m \u001b[1;33m=\u001b[0m \u001b[0msum\u001b[0m\u001b[1;33m(\u001b[0m\u001b[0mdiff\u001b[0m \u001b[1;33m*\u001b[0m \u001b[0mtdiff\u001b[0m\u001b[1;33m,\u001b[0m \u001b[0maxis\u001b[0m\u001b[1;33m=\u001b[0m\u001b[1;36m0\u001b[0m\u001b[1;33m)\u001b[0m \u001b[1;33m/\u001b[0m \u001b[1;36m2.0\u001b[0m\u001b[1;33m\u001b[0m\u001b[0m\n\u001b[1;32m--> 222\u001b[1;33m                 \u001b[0mresult\u001b[0m\u001b[1;33m[\u001b[0m\u001b[0mi\u001b[0m\u001b[1;33m]\u001b[0m \u001b[1;33m=\u001b[0m \u001b[0msum\u001b[0m\u001b[1;33m(\u001b[0m\u001b[0mexp\u001b[0m\u001b[1;33m(\u001b[0m\u001b[1;33m-\u001b[0m\u001b[0menergy\u001b[0m\u001b[1;33m)\u001b[0m\u001b[1;33m,\u001b[0m \u001b[0maxis\u001b[0m\u001b[1;33m=\u001b[0m\u001b[1;36m0\u001b[0m\u001b[1;33m)\u001b[0m\u001b[1;33m\u001b[0m\u001b[0m\n\u001b[0m\u001b[0;32m    223\u001b[0m \u001b[1;33m\u001b[0m\u001b[0m\n\u001b[0;32m    224\u001b[0m         \u001b[0mresult\u001b[0m \u001b[1;33m=\u001b[0m \u001b[0mresult\u001b[0m \u001b[1;33m/\u001b[0m \u001b[0mself\u001b[0m\u001b[1;33m.\u001b[0m\u001b[0m_norm_factor\u001b[0m\u001b[1;33m\u001b[0m\u001b[0m\n",
      "\u001b[1;31mKeyboardInterrupt\u001b[0m: "
     ]
    },
    {
     "data": {
      "image/png": "[encoded data removed]",
      "text/plain": [
       "<matplotlib.figure.Figure at 0x7fe8273f7b10>"
      ]
     },
     "metadata": {},
     "output_type": "display_data"
    },
    {
     "data": {
      "text/plain": [
       "<matplotlib.figure.Figure at 0x7fe8273f7850>"
      ]
     },
     "metadata": {},
     "output_type": "display_data"
    }
   ],
   "source": [
    "colors = [\"windows blue\", \"amber\", \"greyish\", \"dark rose\", \"faded green\", \"dusty purple\"]\n",
    "sns.palplot(sns.xkcd_palette(colors))\n",
    "plt.figure(figsize=(3.5, 3))\n",
    "sns.violinplot(x='category', y='PHBR', data=plotting, order=['TSgenes', 'Oncogenes', 'Random', 'Germline', 'Viral', 'Bacterial'],\n",
    "              palette=sns.xkcd_palette(colors))\n",
    "plt.xticks(rotation=45)\n",
    "plt.xlabel('')\n",
    "plt.ylabel('PHBR-II')\n",
    "plt.ylim(-5, 105)\n",
    "plt.tight_layout()\n",
    "#plt.savefig('/cellar/users/ramarty/Data/hla_ii/generated_figures/class_comparison/patient.all_mutations.conservative.pdf')"
   ]
  },
  {
   "cell_type": "code",
   "execution_count": 8,
   "metadata": {
    "collapsed": false,
    "scrolled": true
   },
   "outputs": [
    {
     "name": "stdout",
     "output_type": "stream",
     "text": [
      "MannwhitneyuResult(statistic=3801337354570.0, pvalue=0.0)\n",
      "MannwhitneyuResult(statistic=26433098695138.5, pvalue=1.1277041285564257e-58)\n",
      "MannwhitneyuResult(statistic=48485786383725.0, pvalue=0.0)\n",
      "MannwhitneyuResult(statistic=14304113033446.5, pvalue=0.0)\n",
      "MannwhitneyuResult(statistic=16544832980692.5, pvalue=0.0)\n"
     ]
    }
   ],
   "source": [
    "print sp.mannwhitneyu(plotting[plotting.category == 'TSgenes'].PHBR, plotting[plotting.category == 'Oncogenes'].PHBR)\n",
    "print sp.mannwhitneyu(plotting[plotting.category == 'Oncogenes'].PHBR, plotting[plotting.category == 'Random'].PHBR)\n",
    "print sp.mannwhitneyu(plotting[plotting.category == 'Random'].PHBR, plotting[plotting.category == 'Germline'].PHBR)\n",
    "print sp.mannwhitneyu(plotting[plotting.category == 'Germline'].PHBR, plotting[plotting.category == 'Viral'].PHBR)\n",
    "print sp.mannwhitneyu(plotting[plotting.category == 'Viral'].PHBR, plotting[plotting.category == 'Bacterial'].PHBR)"
   ]
  },
  {
   "cell_type": "code",
   "execution_count": 20,
   "metadata": {
    "collapsed": false
   },
   "outputs": [
    {
     "data": {
      "text/plain": [
       "24189882"
      ]
     },
     "execution_count": 20,
     "metadata": {},
     "output_type": "execute_result"
    }
   ],
   "source": [
    "231738 + 190144 + (5942000*4)"
   ]
  },
  {
   "cell_type": "code",
   "execution_count": 7,
   "metadata": {
    "collapsed": false
   },
   "outputs": [
    {
     "name": "stdout",
     "output_type": "stream",
     "text": [
      "72\n",
      "oncogenes 231738 643 39\n",
      "tsgenes 190144 602 32\n",
      "random 17478000\n",
      "germline 5826000\n",
      "viral 5826000\n",
      "bacterial 5826000\n"
     ]
    }
   ],
   "source": [
    "df = pd.read_csv('/cellar/users/ramarty/Data/hla_ii/presentation/clean_matrices/patient_mutations.cancer.TCGA.conservative.mut.csv', index_col=0)\n",
    "mutation_counts = pd.DataFrame(df.sum()).reset_index()\n",
    "mutation_counts.columns = ['mutation', 'count']\n",
    "driver_mutations = list(mutation_counts[mutation_counts['count'] > 10].mutation)\n",
    "#driver_mutations = list(mutation_counts.mutation)\n",
    "print len(driver_mutations)\n",
    "categories = ['oncogenes', 'tsgenes', 'random', 'germline', 'viral', 'bacterial']\n",
    "value_types = []\n",
    "for category in categories:\n",
    "    # restrict the columns to higher frequency mutations\n",
    "    if category == 'oncogenes' or category == 'tsgenes':\n",
    "        df = pd.read_csv('/cellar/users/ramarty/Data/hla_ii/presentation/patient_matrices/{0}.all.csv'.format(category), index_col=0)\n",
    "        #df.set_index('mutation', inplace=True)\n",
    "        app_restricted_space = [x for x in driver_mutations if x in df.index]\n",
    "        values = get_values_from_df(df.ix[app_restricted_space, conserved_patients])\n",
    "        print category, len(values), len(df.index), len(app_restricted_space)\n",
    "        value_types.append(values)\n",
    "    else:\n",
    "        df = pd.read_csv('/cellar/users/ramarty/Data/hla_ii/presentation/patient_matrices/{0}.all.csv'.format(category), index_col=0)\n",
    "        df = df.ix[:, conserved_patients].dropna(axis=1)\n",
    "        #df.set_index('mutation', inplace=True)\n",
    "        values = get_values_from_df(df)\n",
    "        value_types.append(values)\n",
    "        print category, len(values)\n",
    "\n",
    "plotting = pd.DataFrame({'category': ['Oncogenes' for x in value_types[0]] + ['TSgenes' for x in value_types[1]] + ['Random' for x in value_types[2]] + ['Germline' for x in value_types[3]] + ['Viral' for x in value_types[4]] + ['Bacterial' for x in value_types[5]],\n",
    "                         'PHBR': value_types[0] + value_types[1] + value_types[2] + value_types[3] + value_types[4] + value_types[5]})\n"
   ]
  },
  {
   "cell_type": "code",
   "execution_count": 18,
   "metadata": {
    "collapsed": false
   },
   "outputs": [
    {
     "ename": "KeyboardInterrupt",
     "evalue": "",
     "output_type": "error",
     "traceback": [
      "\u001b[1;31m---------------------------------------------------------------------------\u001b[0m",
      "\u001b[1;31mKeyboardInterrupt\u001b[0m                         Traceback (most recent call last)",
      "\u001b[1;32m<ipython-input-18-4b37ef7771f5>\u001b[0m in \u001b[0;36m<module>\u001b[1;34m()\u001b[0m\n\u001b[0;32m      3\u001b[0m \u001b[0mplt\u001b[0m\u001b[1;33m.\u001b[0m\u001b[0mfigure\u001b[0m\u001b[1;33m(\u001b[0m\u001b[0mfigsize\u001b[0m\u001b[1;33m=\u001b[0m\u001b[1;33m(\u001b[0m\u001b[1;36m3.5\u001b[0m\u001b[1;33m,\u001b[0m \u001b[1;36m3\u001b[0m\u001b[1;33m)\u001b[0m\u001b[1;33m)\u001b[0m\u001b[1;33m\u001b[0m\u001b[0m\n\u001b[0;32m      4\u001b[0m sns.violinplot(x='category', y='PHBR', data=plotting, order=['TSgenes', 'Oncogenes', 'Random', 'Germline', 'Viral', 'Bacterial'],\n\u001b[1;32m----> 5\u001b[1;33m               palette=sns.xkcd_palette(colors))\n\u001b[0m\u001b[0;32m      6\u001b[0m \u001b[0mplt\u001b[0m\u001b[1;33m.\u001b[0m\u001b[0mxticks\u001b[0m\u001b[1;33m(\u001b[0m\u001b[0mrotation\u001b[0m\u001b[1;33m=\u001b[0m\u001b[1;36m45\u001b[0m\u001b[1;33m)\u001b[0m\u001b[1;33m\u001b[0m\u001b[0m\n\u001b[0;32m      7\u001b[0m \u001b[0mplt\u001b[0m\u001b[1;33m.\u001b[0m\u001b[0mxlabel\u001b[0m\u001b[1;33m(\u001b[0m\u001b[1;34m''\u001b[0m\u001b[1;33m)\u001b[0m\u001b[1;33m\u001b[0m\u001b[0m\n",
      "\u001b[1;32m/cellar/users/ramarty/anaconda/lib/python2.7/site-packages/seaborn/categorical.pyc\u001b[0m in \u001b[0;36mviolinplot\u001b[1;34m(x, y, hue, data, order, hue_order, bw, cut, scale, scale_hue, gridsize, width, inner, split, dodge, orient, linewidth, color, palette, saturation, ax, **kwargs)\u001b[0m\n\u001b[0;32m   2343\u001b[0m                              \u001b[0mbw\u001b[0m\u001b[1;33m,\u001b[0m \u001b[0mcut\u001b[0m\u001b[1;33m,\u001b[0m \u001b[0mscale\u001b[0m\u001b[1;33m,\u001b[0m \u001b[0mscale_hue\u001b[0m\u001b[1;33m,\u001b[0m \u001b[0mgridsize\u001b[0m\u001b[1;33m,\u001b[0m\u001b[1;33m\u001b[0m\u001b[0m\n\u001b[0;32m   2344\u001b[0m                              \u001b[0mwidth\u001b[0m\u001b[1;33m,\u001b[0m \u001b[0minner\u001b[0m\u001b[1;33m,\u001b[0m \u001b[0msplit\u001b[0m\u001b[1;33m,\u001b[0m \u001b[0mdodge\u001b[0m\u001b[1;33m,\u001b[0m \u001b[0morient\u001b[0m\u001b[1;33m,\u001b[0m \u001b[0mlinewidth\u001b[0m\u001b[1;33m,\u001b[0m\u001b[1;33m\u001b[0m\u001b[0m\n\u001b[1;32m-> 2345\u001b[1;33m                              color, palette, saturation)\n\u001b[0m\u001b[0;32m   2346\u001b[0m \u001b[1;33m\u001b[0m\u001b[0m\n\u001b[0;32m   2347\u001b[0m     \u001b[1;32mif\u001b[0m \u001b[0max\u001b[0m \u001b[1;32mis\u001b[0m \u001b[0mNone\u001b[0m\u001b[1;33m:\u001b[0m\u001b[1;33m\u001b[0m\u001b[0m\n",
      "\u001b[1;32m/cellar/users/ramarty/anaconda/lib/python2.7/site-packages/seaborn/categorical.pyc\u001b[0m in \u001b[0;36m__init__\u001b[1;34m(self, x, y, hue, data, order, hue_order, bw, cut, scale, scale_hue, gridsize, width, inner, split, dodge, orient, linewidth, color, palette, saturation)\u001b[0m\n\u001b[0;32m    549\u001b[0m         \u001b[0mself\u001b[0m\u001b[1;33m.\u001b[0m\u001b[0mestablish_variables\u001b[0m\u001b[1;33m(\u001b[0m\u001b[0mx\u001b[0m\u001b[1;33m,\u001b[0m \u001b[0my\u001b[0m\u001b[1;33m,\u001b[0m \u001b[0mhue\u001b[0m\u001b[1;33m,\u001b[0m \u001b[0mdata\u001b[0m\u001b[1;33m,\u001b[0m \u001b[0morient\u001b[0m\u001b[1;33m,\u001b[0m \u001b[0morder\u001b[0m\u001b[1;33m,\u001b[0m \u001b[0mhue_order\u001b[0m\u001b[1;33m)\u001b[0m\u001b[1;33m\u001b[0m\u001b[0m\n\u001b[0;32m    550\u001b[0m         \u001b[0mself\u001b[0m\u001b[1;33m.\u001b[0m\u001b[0mestablish_colors\u001b[0m\u001b[1;33m(\u001b[0m\u001b[0mcolor\u001b[0m\u001b[1;33m,\u001b[0m \u001b[0mpalette\u001b[0m\u001b[1;33m,\u001b[0m \u001b[0msaturation\u001b[0m\u001b[1;33m)\u001b[0m\u001b[1;33m\u001b[0m\u001b[0m\n\u001b[1;32m--> 551\u001b[1;33m         \u001b[0mself\u001b[0m\u001b[1;33m.\u001b[0m\u001b[0mestimate_densities\u001b[0m\u001b[1;33m(\u001b[0m\u001b[0mbw\u001b[0m\u001b[1;33m,\u001b[0m \u001b[0mcut\u001b[0m\u001b[1;33m,\u001b[0m \u001b[0mscale\u001b[0m\u001b[1;33m,\u001b[0m \u001b[0mscale_hue\u001b[0m\u001b[1;33m,\u001b[0m \u001b[0mgridsize\u001b[0m\u001b[1;33m)\u001b[0m\u001b[1;33m\u001b[0m\u001b[0m\n\u001b[0m\u001b[0;32m    552\u001b[0m \u001b[1;33m\u001b[0m\u001b[0m\n\u001b[0;32m    553\u001b[0m         \u001b[0mself\u001b[0m\u001b[1;33m.\u001b[0m\u001b[0mgridsize\u001b[0m \u001b[1;33m=\u001b[0m \u001b[0mgridsize\u001b[0m\u001b[1;33m\u001b[0m\u001b[0m\n",
      "\u001b[1;32m/cellar/users/ramarty/anaconda/lib/python2.7/site-packages/seaborn/categorical.pyc\u001b[0m in \u001b[0;36mestimate_densities\u001b[1;34m(self, bw, cut, scale, scale_hue, gridsize)\u001b[0m\n\u001b[0;32m    619\u001b[0m                 \u001b[1;31m# Determine the support grid and get the density over it\u001b[0m\u001b[1;33m\u001b[0m\u001b[1;33m\u001b[0m\u001b[0m\n\u001b[0;32m    620\u001b[0m                 \u001b[0msupport_i\u001b[0m \u001b[1;33m=\u001b[0m \u001b[0mself\u001b[0m\u001b[1;33m.\u001b[0m\u001b[0mkde_support\u001b[0m\u001b[1;33m(\u001b[0m\u001b[0mkde_data\u001b[0m\u001b[1;33m,\u001b[0m \u001b[0mbw_used\u001b[0m\u001b[1;33m,\u001b[0m \u001b[0mcut\u001b[0m\u001b[1;33m,\u001b[0m \u001b[0mgridsize\u001b[0m\u001b[1;33m)\u001b[0m\u001b[1;33m\u001b[0m\u001b[0m\n\u001b[1;32m--> 621\u001b[1;33m                 \u001b[0mdensity_i\u001b[0m \u001b[1;33m=\u001b[0m \u001b[0mkde\u001b[0m\u001b[1;33m.\u001b[0m\u001b[0mevaluate\u001b[0m\u001b[1;33m(\u001b[0m\u001b[0msupport_i\u001b[0m\u001b[1;33m)\u001b[0m\u001b[1;33m\u001b[0m\u001b[0m\n\u001b[0m\u001b[0;32m    622\u001b[0m \u001b[1;33m\u001b[0m\u001b[0m\n\u001b[0;32m    623\u001b[0m                 \u001b[1;31m# Update the data structures with these results\u001b[0m\u001b[1;33m\u001b[0m\u001b[1;33m\u001b[0m\u001b[0m\n",
      "\u001b[1;32m/cellar/users/ramarty/anaconda/lib/python2.7/site-packages/scipy/stats/kde.pyc\u001b[0m in \u001b[0;36mevaluate\u001b[1;34m(self, points)\u001b[0m\n\u001b[0;32m    220\u001b[0m                 \u001b[0mtdiff\u001b[0m \u001b[1;33m=\u001b[0m \u001b[0mdot\u001b[0m\u001b[1;33m(\u001b[0m\u001b[0mself\u001b[0m\u001b[1;33m.\u001b[0m\u001b[0minv_cov\u001b[0m\u001b[1;33m,\u001b[0m \u001b[0mdiff\u001b[0m\u001b[1;33m)\u001b[0m\u001b[1;33m\u001b[0m\u001b[0m\n\u001b[0;32m    221\u001b[0m                 \u001b[0menergy\u001b[0m \u001b[1;33m=\u001b[0m \u001b[0msum\u001b[0m\u001b[1;33m(\u001b[0m\u001b[0mdiff\u001b[0m \u001b[1;33m*\u001b[0m \u001b[0mtdiff\u001b[0m\u001b[1;33m,\u001b[0m \u001b[0maxis\u001b[0m\u001b[1;33m=\u001b[0m\u001b[1;36m0\u001b[0m\u001b[1;33m)\u001b[0m \u001b[1;33m/\u001b[0m \u001b[1;36m2.0\u001b[0m\u001b[1;33m\u001b[0m\u001b[0m\n\u001b[1;32m--> 222\u001b[1;33m                 \u001b[0mresult\u001b[0m\u001b[1;33m[\u001b[0m\u001b[0mi\u001b[0m\u001b[1;33m]\u001b[0m \u001b[1;33m=\u001b[0m \u001b[0msum\u001b[0m\u001b[1;33m(\u001b[0m\u001b[0mexp\u001b[0m\u001b[1;33m(\u001b[0m\u001b[1;33m-\u001b[0m\u001b[0menergy\u001b[0m\u001b[1;33m)\u001b[0m\u001b[1;33m,\u001b[0m \u001b[0maxis\u001b[0m\u001b[1;33m=\u001b[0m\u001b[1;36m0\u001b[0m\u001b[1;33m)\u001b[0m\u001b[1;33m\u001b[0m\u001b[0m\n\u001b[0m\u001b[0;32m    223\u001b[0m \u001b[1;33m\u001b[0m\u001b[0m\n\u001b[0;32m    224\u001b[0m         \u001b[0mresult\u001b[0m \u001b[1;33m=\u001b[0m \u001b[0mresult\u001b[0m \u001b[1;33m/\u001b[0m \u001b[0mself\u001b[0m\u001b[1;33m.\u001b[0m\u001b[0m_norm_factor\u001b[0m\u001b[1;33m\u001b[0m\u001b[0m\n",
      "\u001b[1;31mKeyboardInterrupt\u001b[0m: "
     ]
    },
    {
     "data": {
      "image/png": "[encoded data removed]",
      "text/plain": [
       "<matplotlib.figure.Figure at 0x7fe81a6f1610>"
      ]
     },
     "metadata": {},
     "output_type": "display_data"
    },
    {
     "data": {
      "text/plain": [
       "<matplotlib.figure.Figure at 0x7fe81a6f1810>"
      ]
     },
     "metadata": {},
     "output_type": "display_data"
    }
   ],
   "source": [
    "colors = [\"windows blue\", \"amber\", \"greyish\", \"dark rose\", \"faded green\", \"dusty purple\"]\n",
    "sns.palplot(sns.xkcd_palette(colors))\n",
    "plt.figure(figsize=(3.5, 3))\n",
    "sns.violinplot(x='category', y='PHBR', data=plotting, order=['TSgenes', 'Oncogenes', 'Random', 'Germline', 'Viral', 'Bacterial'],\n",
    "              palette=sns.xkcd_palette(colors))\n",
    "plt.xticks(rotation=45)\n",
    "plt.xlabel('')\n",
    "plt.ylabel('PHBR-II')\n",
    "plt.ylim(-5, 105)\n",
    "plt.tight_layout()\n",
    "#plt.savefig('/cellar/users/ramarty/Data/hla_ii/generated_figures/class_comparison/patient.g10.conservative.pdf')"
   ]
  },
  {
   "cell_type": "code",
   "execution_count": 8,
   "metadata": {
    "collapsed": false,
    "scrolled": false
   },
   "outputs": [
    {
     "data": {
      "text/html": [
       "<div>\n",
       "<table border=\"1\" class=\"dataframe\">\n",
       "  <thead>\n",
       "    <tr style=\"text-align: right;\">\n",
       "      <th></th>\n",
       "      <th>PHBR</th>\n",
       "      <th>category</th>\n",
       "    </tr>\n",
       "  </thead>\n",
       "  <tbody>\n",
       "    <tr>\n",
       "      <th>0</th>\n",
       "      <td>31.155983</td>\n",
       "      <td>Oncogenes</td>\n",
       "    </tr>\n",
       "    <tr>\n",
       "      <th>1</th>\n",
       "      <td>28.255881</td>\n",
       "      <td>Oncogenes</td>\n",
       "    </tr>\n",
       "    <tr>\n",
       "      <th>2</th>\n",
       "      <td>35.682270</td>\n",
       "      <td>Oncogenes</td>\n",
       "    </tr>\n",
       "    <tr>\n",
       "      <th>3</th>\n",
       "      <td>24.251931</td>\n",
       "      <td>Oncogenes</td>\n",
       "    </tr>\n",
       "    <tr>\n",
       "      <th>4</th>\n",
       "      <td>41.664451</td>\n",
       "      <td>Oncogenes</td>\n",
       "    </tr>\n",
       "  </tbody>\n",
       "</table>\n",
       "</div>"
      ],
      "text/plain": [
       "        PHBR   category\n",
       "0  31.155983  Oncogenes\n",
       "1  28.255881  Oncogenes\n",
       "2  35.682270  Oncogenes\n",
       "3  24.251931  Oncogenes\n",
       "4  41.664451  Oncogenes"
      ]
     },
     "execution_count": 8,
     "metadata": {},
     "output_type": "execute_result"
    }
   ],
   "source": [
    "plotting.head()"
   ]
  },
  {
   "cell_type": "code",
   "execution_count": null,
   "metadata": {
    "collapsed": false
   },
   "outputs": [],
   "source": [
    "len(value_types[0]), len(pd.Series(value_types[0]).dropna())"
   ]
  },
  {
   "cell_type": "code",
   "execution_count": 12,
   "metadata": {
    "collapsed": false
   },
   "outputs": [
    {
     "name": "stdout",
     "output_type": "stream",
     "text": [
      "TSgenes 0.0727323388203\n",
      "Oncogenes 0.121413246105\n",
      "Random 0.230647599451\n",
      "Germline 0.222607270233\n",
      "Viral 0.272259533608\n",
      "Bacterial 0.286406858711\n"
     ]
    }
   ],
   "source": [
    "for cat in ['TSgenes', 'Oncogenes', 'Random', 'Germline', 'Viral', 'Bacterial']:\n",
    "    print cat, mean(plotting[plotting.category == cat].PHBR < 6)"
   ]
  },
  {
   "cell_type": "code",
   "execution_count": 10,
   "metadata": {
    "collapsed": false
   },
   "outputs": [
    {
     "name": "stdout",
     "output_type": "stream",
     "text": [
      "MannwhitneyuResult(statistic=48485786383725.0, pvalue=0.0)\n",
      "MannwhitneyuResult(statistic=14304113033446.5, pvalue=0.0)\n"
     ]
    }
   ],
   "source": [
    "print sp.mannwhitneyu(plotting[plotting.category == 'Random'].PHBR, plotting[plotting.category == 'Germline'].PHBR)\n",
    "print sp.mannwhitneyu(plotting[plotting.category == 'Germline'].PHBR, plotting[plotting.category == 'Viral'].PHBR)"
   ]
  },
  {
   "cell_type": "code",
   "execution_count": 11,
   "metadata": {
    "collapsed": false
   },
   "outputs": [
    {
     "name": "stdout",
     "output_type": "stream",
     "text": [
      "MannwhitneyuResult(statistic=16544832980692.5, pvalue=0.0)\n"
     ]
    }
   ],
   "source": [
    "print sp.mannwhitneyu(plotting[plotting.category == 'Viral'].PHBR, plotting[plotting.category == 'Bacterial'].PHBR)"
   ]
  },
  {
   "cell_type": "markdown",
   "metadata": {},
   "source": [
    "Alternate population"
   ]
  },
  {
   "cell_type": "code",
   "execution_count": 9,
   "metadata": {
    "collapsed": true
   },
   "outputs": [],
   "source": [
    "df = pd.read_csv('/cellar/users/ramarty/Data/hla_ii/presentation/clean_matrices/patient_mutations.cancer.TCGA.conservative.mut.csv', index_col=0)\n",
    "mutation_counts = pd.DataFrame(df.sum()).reset_index()\n",
    "mutation_counts.columns = ['mutation', 'count']\n",
    "driver_mutations = list(mutation_counts[mutation_counts['count'] > 10].mutation)\n",
    "#driver_mutations = list(mutation_counts.mutation)"
   ]
  },
  {
   "cell_type": "code",
   "execution_count": 10,
   "metadata": {
    "collapsed": false
   },
   "outputs": [
    {
     "name": "stdout",
     "output_type": "stream",
     "text": [
      "oncogenes 25389 643 39\n",
      "tsgenes 20128 602 32\n",
      "random 1887000\n",
      "germline 629000\n",
      "viral 629000\n",
      "bacterial 629000\n"
     ]
    }
   ],
   "source": [
    "categories = ['oncogenes', 'tsgenes', 'random', 'germline', 'viral', 'bacterial']\n",
    "value_types = []\n",
    "for category in categories:\n",
    "    # restrict the columns to higher frequency mutations\n",
    "    if category == 'oncogenes' or category == 'tsgenes':\n",
    "        df = pd.read_csv('/cellar/users/ramarty/Data/hla_ii/presentation/patient_matrices/{0}.all.alternate.csv'.format(category), index_col=0)\n",
    "        #df.set_index('mutation', inplace=True)\n",
    "        app_restricted_space = [x for x in driver_mutations if x in df.index]\n",
    "        values = get_values_from_df(df.ix[app_restricted_space, :])\n",
    "        print category, len(values), len(df.index), len(app_restricted_space)\n",
    "        value_types.append(values)\n",
    "    else:\n",
    "        df = pd.read_csv('/cellar/users/ramarty/Data/hla_ii/presentation/patient_matrices/{0}.all.alternate.csv'.format(category), index_col=0)\n",
    "        #df.set_index('mutation', inplace=True)\n",
    "        values = get_values_from_df(df)\n",
    "        value_types.append(values)\n",
    "        print category, len(values)"
   ]
  },
  {
   "cell_type": "code",
   "execution_count": 11,
   "metadata": {
    "collapsed": true
   },
   "outputs": [],
   "source": [
    "plotting = pd.DataFrame({'category': ['Oncogenes' for x in value_types[0]] + ['TSgenes' for x in value_types[1]] + \n",
    "                         ['Random' for x in value_types[2]] + ['Germline' for x in value_types[3]] + \n",
    "                         ['Viral' for x in value_types[4]] + ['Bacterial' for x in value_types[5]],\n",
    "                         'PHBR': value_types[0] + value_types[1] + value_types[2] + value_types[3] + value_types[4] + value_types[5]})"
   ]
  },
  {
   "cell_type": "code",
   "execution_count": 12,
   "metadata": {
    "collapsed": false
   },
   "outputs": [
    {
     "name": "stdout",
     "output_type": "stream",
     "text": [
      "MannwhitneyuResult(statistic=186348358.5, pvalue=0.0)\n",
      "MannwhitneyuResult(statistic=21038997726.5, pvalue=2.1015631964213929e-244)\n",
      "MannwhitneyuResult(statistic=563946692083.5, pvalue=0.0)\n",
      "MannwhitneyuResult(statistic=166522417486.0, pvalue=0.0)\n",
      "MannwhitneyuResult(statistic=192392791285.5, pvalue=8.6770603530931373e-157)\n"
     ]
    }
   ],
   "source": [
    "print sp.mannwhitneyu(plotting[plotting.category == 'TSgenes'].PHBR, plotting[plotting.category == 'Oncogenes'].PHBR)\n",
    "print sp.mannwhitneyu(plotting[plotting.category == 'Oncogenes'].PHBR, plotting[plotting.category == 'Random'].PHBR)\n",
    "print sp.mannwhitneyu(plotting[plotting.category == 'Random'].PHBR, plotting[plotting.category == 'Germline'].PHBR)\n",
    "print sp.mannwhitneyu(plotting[plotting.category == 'Germline'].PHBR, plotting[plotting.category == 'Viral'].PHBR)\n",
    "print sp.mannwhitneyu(plotting[plotting.category == 'Viral'].PHBR, plotting[plotting.category == 'Bacterial'].PHBR)"
   ]
  },
  {
   "cell_type": "code",
   "execution_count": 41,
   "metadata": {
    "collapsed": false
   },
   "outputs": [
    {
     "data": {
      "image/png": "[encoded data removed]",
      "text/plain": [
       "<matplotlib.figure.Figure at 0x7f1bef7dec90>"
      ]
     },
     "metadata": {},
     "output_type": "display_data"
    }
   ],
   "source": [
    "colors = [\"windows blue\", \"amber\", \"greyish\", \"dark rose\", \"faded green\", \"dusty purple\"]\n",
    "sns.palplot(sns.xkcd_palette(colors))"
   ]
  },
  {
   "cell_type": "code",
   "execution_count": 43,
   "metadata": {
    "collapsed": false
   },
   "outputs": [
    {
     "data": {
      "image/png": "[encoded data removed]",
      "text/plain": [
       "<matplotlib.figure.Figure at 0x7f1bf02eded0>"
      ]
     },
     "metadata": {},
     "output_type": "display_data"
    }
   ],
   "source": [
    "plt.figure(figsize=(3.5, 3))\n",
    "sns.violinplot(x='category', y='PHBR', data=plotting, order=['TSgenes', 'Oncogenes', 'Random', 'Germline', 'Viral', 'Bacterial'],\n",
    "              palette=sns.xkcd_palette(colors))\n",
    "plt.xticks(rotation=45)\n",
    "plt.xlabel('')\n",
    "plt.ylabel('PHBR-II')\n",
    "plt.ylim(-5, 105)\n",
    "plt.tight_layout()\n",
    "plt.savefig('/cellar/users/ramarty/Data/hla_ii/generated_figures/class_comparison/patient.alternate.pdf')"
   ]
  },
  {
   "cell_type": "code",
   "execution_count": null,
   "metadata": {
    "collapsed": true
   },
   "outputs": [],
   "source": []
  },
  {
   "cell_type": "markdown",
   "metadata": {},
   "source": [
    "Removed from manuscript"
   ]
  },
  {
   "cell_type": "code",
   "execution_count": 16,
   "metadata": {
    "collapsed": true
   },
   "outputs": [],
   "source": [
    "def threshold(x):\n",
    "    if x < 10:\n",
    "        return 1\n",
    "    else:\n",
    "        return 0\n",
    "plotting['PHBR_Threshold'] = plotting.PHBR.apply(threshold)\n",
    "plotting_thresholds = pd.DataFrame({'Recurrency': ['Oncogenes', 'TSgenes', 'Random', 'Germline', 'Viral', 'Bacterial'],\n",
    "                                    'Fraction': [plotting[plotting.category  == 'Oncogenes'].PHBR_Threshold.mean(),\n",
    "                                                 plotting[plotting.category  == 'TSgenes'].PHBR_Threshold.mean(),\n",
    "                                                 plotting[plotting.category  == 'Random'].PHBR_Threshold.mean(),\n",
    "                                                 plotting[plotting.category  == 'Germline'].PHBR_Threshold.mean(),\n",
    "                                                plotting[plotting.category  == 'Viral'].PHBR_Threshold.mean(),\n",
    "                                                 plotting[plotting.category  == 'Bacterial'].PHBR_Threshold.mean()]})\n",
    "plt.figure(figsize=(2.5, 3))\n",
    "sns.barplot(x='Recurrency', y='Fraction', data=plotting_thresholds, color='lightgrey',\n",
    "           order=['TSgenes', 'Oncogenes', 'Random', 'Germline', 'Viral', 'Bacterial'])\n",
    "plt.xticks(rotation=45)\n",
    "plt.tight_layout()\n",
    "plt.xlabel('')\n",
    "plt.ylabel('Fraction of Mutations\\nbelow 10 PHBR')\n",
    "plt.locator_params(axis='y', nbins=5)\n",
    "plt.savefig('/cellar/users/ramarty/Data/hla_ii/generated_figures/class_comparison/patient.threshold.all_mutations.pdf')"
   ]
  }
 ],
 "metadata": {
  "kernelspec": {
   "display_name": "Python 2",
   "language": "python",
   "name": "python2"
  },
  "language_info": {
   "codemirror_mode": {
    "name": "ipython",
    "version": 2
   },
   "file_extension": ".py",
   "mimetype": "text/x-python",
   "name": "python",
   "nbconvert_exporter": "python",
   "pygments_lexer": "ipython2",
   "version": "2.7.14"
  }
 },
 "nbformat": 4,
 "nbformat_minor": 0
}
