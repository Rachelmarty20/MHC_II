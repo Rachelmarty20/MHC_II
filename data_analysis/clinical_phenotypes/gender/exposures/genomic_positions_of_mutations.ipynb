{
 "cells": [
  {
   "cell_type": "code",
   "execution_count": 2,
   "metadata": {
    "collapsed": false
   },
   "outputs": [
    {
     "name": "stdout",
     "output_type": "stream",
     "text": [
      "Populating the interactive namespace from numpy and matplotlib\n"
     ]
    }
   ],
   "source": [
    "import io\n",
    "from IPython.nbformat import current\n",
    "def execute_notebook(nbfile):\n",
    "    with io.open(nbfile) as f:\n",
    "        nb = current.read(f, 'json')\n",
    "    ip = get_ipython()\n",
    "    for cell in nb.worksheets[0].cells:\n",
    "        if cell.cell_type != 'code':\n",
    "            continue\n",
    "        ip.run_cell(cell.input)\n",
    "execute_notebook(\"/cellar/users/ramarty/Projects/hla_ii/bin/imports.ipynb\")"
   ]
  },
  {
   "cell_type": "code",
   "execution_count": 29,
   "metadata": {
    "collapsed": true
   },
   "outputs": [],
   "source": [
    "df = pd.read_csv('/cellar/users/ramarty/Data/hla/mutations/processed_mutation_files.full_tcga.csv',\n",
    "                 index_col=0)"
   ]
  },
  {
   "cell_type": "code",
   "execution_count": 30,
   "metadata": {
    "collapsed": false
   },
   "outputs": [
    {
     "data": {
      "text/html": [
       "<div>\n",
       "<table border=\"1\" class=\"dataframe\">\n",
       "  <thead>\n",
       "    <tr style=\"text-align: right;\">\n",
       "      <th></th>\n",
       "      <th>Tumor_Sample_Barcode</th>\n",
       "      <th>Hugo_Symbol</th>\n",
       "      <th>Variant_Classification</th>\n",
       "      <th>Protein_position</th>\n",
       "      <th>Amino_acids</th>\n",
       "      <th>Chromosome</th>\n",
       "      <th>Start_Position</th>\n",
       "      <th>Strand</th>\n",
       "      <th>Reference_Allele</th>\n",
       "      <th>Tumor_Seq_Allele2</th>\n",
       "      <th>Transcript_ID</th>\n",
       "      <th>Barcode</th>\n",
       "      <th>combined</th>\n",
       "    </tr>\n",
       "  </thead>\n",
       "  <tbody>\n",
       "    <tr>\n",
       "      <th>0</th>\n",
       "      <td>TCGA-FX-A3NJ-01A-11D-A21Q-09</td>\n",
       "      <td>INTS3</td>\n",
       "      <td>Missense_Mutation</td>\n",
       "      <td>500/1042</td>\n",
       "      <td>P/R</td>\n",
       "      <td>chr1</td>\n",
       "      <td>153761659</td>\n",
       "      <td>+</td>\n",
       "      <td>C</td>\n",
       "      <td>G</td>\n",
       "      <td>ENST00000318967</td>\n",
       "      <td>TCGA-FX-A3NJ</td>\n",
       "      <td>INTS3_P500R</td>\n",
       "    </tr>\n",
       "    <tr>\n",
       "      <th>3</th>\n",
       "      <td>TCGA-FX-A3NJ-01A-11D-A21Q-09</td>\n",
       "      <td>PLD5</td>\n",
       "      <td>Missense_Mutation</td>\n",
       "      <td>536/536</td>\n",
       "      <td>V/L</td>\n",
       "      <td>chr1</td>\n",
       "      <td>242089859</td>\n",
       "      <td>+</td>\n",
       "      <td>C</td>\n",
       "      <td>G</td>\n",
       "      <td>ENST00000442594</td>\n",
       "      <td>TCGA-FX-A3NJ</td>\n",
       "      <td>PLD5_V536L</td>\n",
       "    </tr>\n",
       "    <tr>\n",
       "      <th>7</th>\n",
       "      <td>TCGA-FX-A3NJ-01A-11D-A21Q-09</td>\n",
       "      <td>GC</td>\n",
       "      <td>Missense_Mutation</td>\n",
       "      <td>406/474</td>\n",
       "      <td>L/R</td>\n",
       "      <td>chr4</td>\n",
       "      <td>71754456</td>\n",
       "      <td>+</td>\n",
       "      <td>A</td>\n",
       "      <td>C</td>\n",
       "      <td>ENST00000273951</td>\n",
       "      <td>TCGA-FX-A3NJ</td>\n",
       "      <td>GC_L406R</td>\n",
       "    </tr>\n",
       "    <tr>\n",
       "      <th>9</th>\n",
       "      <td>TCGA-FX-A3NJ-01A-11D-A21Q-09</td>\n",
       "      <td>PSMG4</td>\n",
       "      <td>Missense_Mutation</td>\n",
       "      <td>65/123</td>\n",
       "      <td>T/A</td>\n",
       "      <td>chr6</td>\n",
       "      <td>3263702</td>\n",
       "      <td>+</td>\n",
       "      <td>A</td>\n",
       "      <td>G</td>\n",
       "      <td>ENST00000438998</td>\n",
       "      <td>TCGA-FX-A3NJ</td>\n",
       "      <td>PSMG4_T65A</td>\n",
       "    </tr>\n",
       "    <tr>\n",
       "      <th>10</th>\n",
       "      <td>TCGA-FX-A3NJ-01A-11D-A21Q-09</td>\n",
       "      <td>BCLAF1</td>\n",
       "      <td>Missense_Mutation</td>\n",
       "      <td>307/920</td>\n",
       "      <td>P/S</td>\n",
       "      <td>chr6</td>\n",
       "      <td>136277962</td>\n",
       "      <td>+</td>\n",
       "      <td>G</td>\n",
       "      <td>A</td>\n",
       "      <td>ENST00000531224</td>\n",
       "      <td>TCGA-FX-A3NJ</td>\n",
       "      <td>BCLAF1_P307S</td>\n",
       "    </tr>\n",
       "  </tbody>\n",
       "</table>\n",
       "</div>"
      ],
      "text/plain": [
       "            Tumor_Sample_Barcode Hugo_Symbol Variant_Classification  \\\n",
       "0   TCGA-FX-A3NJ-01A-11D-A21Q-09       INTS3      Missense_Mutation   \n",
       "3   TCGA-FX-A3NJ-01A-11D-A21Q-09        PLD5      Missense_Mutation   \n",
       "7   TCGA-FX-A3NJ-01A-11D-A21Q-09          GC      Missense_Mutation   \n",
       "9   TCGA-FX-A3NJ-01A-11D-A21Q-09       PSMG4      Missense_Mutation   \n",
       "10  TCGA-FX-A3NJ-01A-11D-A21Q-09      BCLAF1      Missense_Mutation   \n",
       "\n",
       "   Protein_position Amino_acids Chromosome  Start_Position Strand  \\\n",
       "0          500/1042         P/R       chr1       153761659      +   \n",
       "3           536/536         V/L       chr1       242089859      +   \n",
       "7           406/474         L/R       chr4        71754456      +   \n",
       "9            65/123         T/A       chr6         3263702      +   \n",
       "10          307/920         P/S       chr6       136277962      +   \n",
       "\n",
       "   Reference_Allele Tumor_Seq_Allele2    Transcript_ID       Barcode  \\\n",
       "0                 C                 G  ENST00000318967  TCGA-FX-A3NJ   \n",
       "3                 C                 G  ENST00000442594  TCGA-FX-A3NJ   \n",
       "7                 A                 C  ENST00000273951  TCGA-FX-A3NJ   \n",
       "9                 A                 G  ENST00000438998  TCGA-FX-A3NJ   \n",
       "10                G                 A  ENST00000531224  TCGA-FX-A3NJ   \n",
       "\n",
       "        combined  \n",
       "0    INTS3_P500R  \n",
       "3     PLD5_V536L  \n",
       "7       GC_L406R  \n",
       "9     PSMG4_T65A  \n",
       "10  BCLAF1_P307S  "
      ]
     },
     "execution_count": 30,
     "metadata": {},
     "output_type": "execute_result"
    }
   ],
   "source": [
    "df.head()"
   ]
  },
  {
   "cell_type": "code",
   "execution_count": 31,
   "metadata": {
    "collapsed": false
   },
   "outputs": [],
   "source": [
    "#mutations = list(pd.read_csv('/cellar/users/ramarty/Data/hla/git_data/data/patient_mutations.cancer.PHBR.csv',\n",
    "#            index_col=0).columns)[18:]\n",
    "mutations = list(pd.read_csv('/cellar/users/ramarty/Data/hla_ii/presentation/clean_matrices/patient_mutations.cancer.all.csv',\n",
    "            index_col=0).columns)[18:]"
   ]
  },
  {
   "cell_type": "code",
   "execution_count": 32,
   "metadata": {
    "collapsed": false,
    "scrolled": true
   },
   "outputs": [
    {
     "data": {
      "text/plain": [
       "1000"
      ]
     },
     "execution_count": 32,
     "metadata": {},
     "output_type": "execute_result"
    }
   ],
   "source": [
    "len(mutations) "
   ]
  },
  {
   "cell_type": "code",
   "execution_count": 33,
   "metadata": {
    "collapsed": true
   },
   "outputs": [],
   "source": [
    "all_mutations = list(df.combined)"
   ]
  },
  {
   "cell_type": "code",
   "execution_count": 34,
   "metadata": {
    "collapsed": false
   },
   "outputs": [
    {
     "data": {
      "text/plain": [
       "[]"
      ]
     },
     "execution_count": 34,
     "metadata": {},
     "output_type": "execute_result"
    }
   ],
   "source": [
    "[x for x in mutations if x not in all_mutations]"
   ]
  },
  {
   "cell_type": "code",
   "execution_count": 59,
   "metadata": {
    "collapsed": false
   },
   "outputs": [],
   "source": [
    "df_reduced = df[df.combined.isin(mutations)].drop_duplicates('combined')"
   ]
  },
  {
   "cell_type": "code",
   "execution_count": 60,
   "metadata": {
    "collapsed": false
   },
   "outputs": [],
   "source": [
    "df_reduced = df_reduced[['Chromosome', 'Start_Position', 'combined', \n",
    "                         'Strand', 'Reference_Allele', 'Tumor_Seq_Allele2']].reindex()"
   ]
  },
  {
   "cell_type": "code",
   "execution_count": 61,
   "metadata": {
    "collapsed": true
   },
   "outputs": [],
   "source": [
    "df_reduced['End_Position'] = df_reduced.Start_Position + 1"
   ]
  },
  {
   "cell_type": "code",
   "execution_count": 62,
   "metadata": {
    "collapsed": true
   },
   "outputs": [],
   "source": [
    "df_reduced = df_reduced[['Chromosome', 'Start_Position', 'End_Position', 'combined', \n",
    "                         'Strand', 'Reference_Allele', 'Tumor_Seq_Allele2']]"
   ]
  },
  {
   "cell_type": "code",
   "execution_count": 63,
   "metadata": {
    "collapsed": false
   },
   "outputs": [],
   "source": [
    "df_reduced.columns = ['Chromosome', 'Start_Position', 'End_Position', 'ID', 'Strand',\n",
    "                      'Reference_Allele', 'Tumor_Allele']"
   ]
  },
  {
   "cell_type": "code",
   "execution_count": 64,
   "metadata": {
    "collapsed": true
   },
   "outputs": [],
   "source": [
    "df_reduced.to_csv('/cellar/users/ramarty/Data/hla_ii/generated_data/gender/genomic_positions.hg38.bed',\n",
    "                 index=None, sep='\\t', header=None)"
   ]
  },
  {
   "cell_type": "code",
   "execution_count": 71,
   "metadata": {
    "collapsed": false
   },
   "outputs": [],
   "source": [
    "df = pd.read_csv('/cellar/users/ramarty/Data/hla_ii/generated_data/gender/hglft_genome_4256_2d3f20.bed',\n",
    "                sep='\\t', header=None)"
   ]
  },
  {
   "cell_type": "code",
   "execution_count": 73,
   "metadata": {
    "collapsed": false
   },
   "outputs": [],
   "source": [
    "df.columns = ['Chromosome', 'Start_Position', 'End_Position', 'ID', 'Strand',\n",
    "                      'Reference_Allele', 'Tumor_Allele']"
   ]
  },
  {
   "cell_type": "code",
   "execution_count": 75,
   "metadata": {
    "collapsed": false
   },
   "outputs": [],
   "source": [
    "df = df[['Chromosome', 'Start_Position', 'ID', 'Strand',\n",
    "                      'Reference_Allele', 'Tumor_Allele']]"
   ]
  },
  {
   "cell_type": "code",
   "execution_count": 76,
   "metadata": {
    "collapsed": true
   },
   "outputs": [],
   "source": [
    "df.to_csv('/cellar/users/ramarty/Data/hla_ii/generated_data/gender/genomic_positions.hg19.bed',\n",
    "          index=None, sep='\\t')"
   ]
  },
  {
   "cell_type": "code",
   "execution_count": null,
   "metadata": {
    "collapsed": true
   },
   "outputs": [],
   "source": []
  }
 ],
 "metadata": {
  "kernelspec": {
   "display_name": "Python 2",
   "language": "python",
   "name": "python2"
  },
  "language_info": {
   "codemirror_mode": {
    "name": "ipython",
    "version": 2
   },
   "file_extension": ".py",
   "mimetype": "text/x-python",
   "name": "python",
   "nbconvert_exporter": "python",
   "pygments_lexer": "ipython2",
   "version": "2.7.14"
  }
 },
 "nbformat": 4,
 "nbformat_minor": 0
}
