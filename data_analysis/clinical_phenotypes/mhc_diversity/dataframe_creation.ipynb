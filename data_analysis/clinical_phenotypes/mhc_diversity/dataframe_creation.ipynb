{
 "cells": [
  {
   "cell_type": "code",
   "execution_count": 325,
   "metadata": {
    "collapsed": false,
    "scrolled": false
   },
   "outputs": [
    {
     "name": "stdout",
     "output_type": "stream",
     "text": [
      "Populating the interactive namespace from numpy and matplotlib\n"
     ]
    }
   ],
   "source": [
    "import io\n",
    "from IPython.nbformat import current\n",
    "def execute_notebook(nbfile):\n",
    "    with io.open(nbfile) as f:\n",
    "        nb = current.read(f, 'json')\n",
    "    ip = get_ipython()\n",
    "    for cell in nb.worksheets[0].cells:\n",
    "        if cell.cell_type != 'code':\n",
    "            continue\n",
    "        ip.run_cell(cell.input)\n",
    "execute_notebook(\"/cellar/users/ramarty/Projects/hla_ii/bin/imports.ipynb\")"
   ]
  },
  {
   "cell_type": "code",
   "execution_count": 326,
   "metadata": {
    "collapsed": false
   },
   "outputs": [],
   "source": [
    "classI = pd.read_csv('/cellar/users/ramarty/Data/hla_ii/presentation/clean_matrices/patient_affinities.cancer.TCGA.conservative.mut.ClassI.csv',\n",
    "                     index_col=0)\n",
    "classII = pd.read_csv('/cellar/users/ramarty/Data/hla_ii/presentation/clean_matrices/patient_affinities.cancer.TCGA.conservative.mut.ClassII.csv',\n",
    "                     index_col=0)"
   ]
  },
  {
   "cell_type": "code",
   "execution_count": 327,
   "metadata": {
    "collapsed": false
   },
   "outputs": [
    {
     "name": "stdout",
     "output_type": "stream",
     "text": [
      "1018\n"
     ]
    }
   ],
   "source": [
    "# remove to go back to all mutations\n",
    "patient_mutations = pd.read_csv('/cellar/users/ramarty/Data/hla_ii/presentation/clean_matrices/patient_mutations.cancer.TCGA.conservative.mut.csv',\n",
    "                                index_col=0)\n",
    "frequent_mutations = list(patient_mutations.sum().sort_values()[patient_mutations.sum().sort_values() >= 0].index)\n",
    "print len(frequent_mutations)\n",
    "classI = classI[frequent_mutations]\n",
    "classII = classII[frequent_mutations]"
   ]
  },
  {
   "cell_type": "code",
   "execution_count": 328,
   "metadata": {
    "collapsed": false
   },
   "outputs": [
    {
     "name": "stdout",
     "output_type": "stream",
     "text": [
      "5942 5942\n"
     ]
    }
   ],
   "source": [
    "# previously 0.5 and 2\n",
    "\n",
    "tmp1 = pd.DataFrame(sum(classI < 2, axis=1) / len(frequent_mutations) )\n",
    "tmp1.columns = ['classI']\n",
    "# was 15??\n",
    "tmp2 = pd.DataFrame(sum(classII < 10, axis=1) / len(frequent_mutations) )\n",
    "tmp2.columns = ['classII']\n",
    "print len(tmp1), len(tmp2)\n",
    "df = pd.merge(tmp1, tmp2, left_index=True, right_index=True, how='outer')\n",
    "\n",
    "#df = pd.DataFrame(sum(classI < 2, axis=1) / 1018)\n",
    "#df.columns = ['classI']"
   ]
  },
  {
   "cell_type": "code",
   "execution_count": 329,
   "metadata": {
    "collapsed": false,
    "scrolled": true
   },
   "outputs": [
    {
     "data": {
      "text/plain": [
       "(5942, 2)"
      ]
     },
     "execution_count": 329,
     "metadata": {},
     "output_type": "execute_result"
    }
   ],
   "source": [
    "df.shape"
   ]
  },
  {
   "cell_type": "code",
   "execution_count": 330,
   "metadata": {
    "collapsed": false
   },
   "outputs": [
    {
     "data": {
      "text/html": [
       "<div>\n",
       "<table border=\"1\" class=\"dataframe\">\n",
       "  <thead>\n",
       "    <tr style=\"text-align: right;\">\n",
       "      <th></th>\n",
       "      <th>classI</th>\n",
       "      <th>classII</th>\n",
       "    </tr>\n",
       "  </thead>\n",
       "  <tbody>\n",
       "    <tr>\n",
       "      <th>TCGA-02-0003</th>\n",
       "      <td>0.475442</td>\n",
       "      <td>0.330059</td>\n",
       "    </tr>\n",
       "    <tr>\n",
       "      <th>TCGA-02-0033</th>\n",
       "      <td>0.524558</td>\n",
       "      <td>0.327112</td>\n",
       "    </tr>\n",
       "    <tr>\n",
       "      <th>TCGA-02-0047</th>\n",
       "      <td>0.441061</td>\n",
       "      <td>0.348723</td>\n",
       "    </tr>\n",
       "    <tr>\n",
       "      <th>TCGA-02-0055</th>\n",
       "      <td>0.523576</td>\n",
       "      <td>0.328094</td>\n",
       "    </tr>\n",
       "    <tr>\n",
       "      <th>TCGA-02-2466</th>\n",
       "      <td>0.584479</td>\n",
       "      <td>0.318271</td>\n",
       "    </tr>\n",
       "  </tbody>\n",
       "</table>\n",
       "</div>"
      ],
      "text/plain": [
       "                classI   classII\n",
       "TCGA-02-0003  0.475442  0.330059\n",
       "TCGA-02-0033  0.524558  0.327112\n",
       "TCGA-02-0047  0.441061  0.348723\n",
       "TCGA-02-0055  0.523576  0.328094\n",
       "TCGA-02-2466  0.584479  0.318271"
      ]
     },
     "execution_count": 330,
     "metadata": {},
     "output_type": "execute_result"
    }
   ],
   "source": [
    "df.head()"
   ]
  },
  {
   "cell_type": "markdown",
   "metadata": {},
   "source": [
    "Covariates"
   ]
  },
  {
   "cell_type": "code",
   "execution_count": 331,
   "metadata": {
    "collapsed": true
   },
   "outputs": [],
   "source": [
    "patient_tissues = pd.read_csv('/cellar/users/ramarty/Data/hla_ii/clinical/tissue_type/patient_tissues.csv', index_col=0)\n",
    "patient_tissues.index = patient_tissues.Sample\n",
    "df['Tissue'] = patient_tissues.ix[df.index].Tissue "
   ]
  },
  {
   "cell_type": "code",
   "execution_count": 332,
   "metadata": {
    "collapsed": true
   },
   "outputs": [],
   "source": [
    "age = pd.read_csv('/cellar/users/ramarty/Data/hla_ii/clinical/age_at_diagnosis.csv', index_col=0)\n",
    "df['Age'] = age.ix[df.index].age"
   ]
  },
  {
   "cell_type": "code",
   "execution_count": 333,
   "metadata": {
    "collapsed": true
   },
   "outputs": [],
   "source": [
    "ancestry = pd.read_csv('/cellar/users/ramarty/Data/hla/git_data/data/clinical/ancestory.csv', index_col=0)\n",
    "df['Race'] = ancestry.ix[df.index].race"
   ]
  },
  {
   "cell_type": "code",
   "execution_count": 334,
   "metadata": {
    "collapsed": false
   },
   "outputs": [
    {
     "data": {
      "text/html": [
       "<div>\n",
       "<table border=\"1\" class=\"dataframe\">\n",
       "  <thead>\n",
       "    <tr style=\"text-align: right;\">\n",
       "      <th></th>\n",
       "      <th>race</th>\n",
       "    </tr>\n",
       "  </thead>\n",
       "  <tbody>\n",
       "    <tr>\n",
       "      <th>TCGA-02-0001</th>\n",
       "      <td>WHITE</td>\n",
       "    </tr>\n",
       "    <tr>\n",
       "      <th>TCGA-02-0003</th>\n",
       "      <td>WHITE</td>\n",
       "    </tr>\n",
       "    <tr>\n",
       "      <th>TCGA-02-0004</th>\n",
       "      <td>WHITE</td>\n",
       "    </tr>\n",
       "    <tr>\n",
       "      <th>TCGA-02-0006</th>\n",
       "      <td>WHITE</td>\n",
       "    </tr>\n",
       "    <tr>\n",
       "      <th>TCGA-02-0007</th>\n",
       "      <td>WHITE</td>\n",
       "    </tr>\n",
       "  </tbody>\n",
       "</table>\n",
       "</div>"
      ],
      "text/plain": [
       "               race\n",
       "TCGA-02-0001  WHITE\n",
       "TCGA-02-0003  WHITE\n",
       "TCGA-02-0004  WHITE\n",
       "TCGA-02-0006  WHITE\n",
       "TCGA-02-0007  WHITE"
      ]
     },
     "execution_count": 334,
     "metadata": {},
     "output_type": "execute_result"
    }
   ],
   "source": [
    "ancestry.head()"
   ]
  },
  {
   "cell_type": "code",
   "execution_count": 335,
   "metadata": {
    "collapsed": false
   },
   "outputs": [],
   "source": [
    "homozygosity = pd.read_csv('/cellar/users/ramarty/Data/hla_ii/generated_data/mhc_diversity/homozygous_counts.csv',\n",
    "                           index_col=0)\n",
    "df['homozygous_classI'] = homozygosity.ix[df.index].homozygous_classI\n",
    "df['homozygous_classII'] = homozygosity.ix[df.index].homozygous_classII\n",
    "df['homozygous_total'] = homozygosity.ix[df.index].homozygous_total"
   ]
  },
  {
   "cell_type": "code",
   "execution_count": 336,
   "metadata": {
    "collapsed": false
   },
   "outputs": [
    {
     "data": {
      "text/plain": [
       "5942"
      ]
     },
     "execution_count": 336,
     "metadata": {},
     "output_type": "execute_result"
    }
   ],
   "source": [
    "len(df)"
   ]
  },
  {
   "cell_type": "markdown",
   "metadata": {},
   "source": [
    "Add passenger space"
   ]
  },
  {
   "cell_type": "code",
   "execution_count": 337,
   "metadata": {
    "collapsed": true
   },
   "outputs": [],
   "source": [
    "passengerI = pd.read_csv('/cellar/users/ramarty/Data/hla_ii/presentation/clean_matrices/patient_affinities.passenger.TCGA.conservative.mut.ClassI.csv',\n",
    "                     index_col=0)\n",
    "passengerII = pd.read_csv('/cellar/users/ramarty/Data/hla_ii/presentation/clean_matrices/patient_affinities.passenger.TCGA.conservative.mut.ClassII.csv',\n",
    "                     index_col=0)\n",
    "df_passI = pd.DataFrame(mean(passengerI < 2, axis=1))\n",
    "df_passI.columns = ['passenger_coverageI']\n",
    "df_passII = pd.DataFrame(mean(passengerII < 10, axis=1))\n",
    "df_passII.columns = ['passenger_coverageII']\n",
    "df_pass = pd.merge(df_passI, df_passII, left_index=True, right_index=True)"
   ]
  },
  {
   "cell_type": "code",
   "execution_count": 338,
   "metadata": {
    "collapsed": false
   },
   "outputs": [
    {
     "data": {
      "text/plain": [
       "5942"
      ]
     },
     "execution_count": 338,
     "metadata": {},
     "output_type": "execute_result"
    }
   ],
   "source": [
    "len(df_pass)"
   ]
  },
  {
   "cell_type": "code",
   "execution_count": 339,
   "metadata": {
    "collapsed": false
   },
   "outputs": [],
   "source": [
    "df = pd.merge(df, df_pass, left_index=True, right_index=True, how='inner')"
   ]
  },
  {
   "cell_type": "code",
   "execution_count": 340,
   "metadata": {
    "collapsed": false
   },
   "outputs": [
    {
     "data": {
      "text/plain": [
       "5942"
      ]
     },
     "execution_count": 340,
     "metadata": {},
     "output_type": "execute_result"
    }
   ],
   "source": [
    "len(df)"
   ]
  },
  {
   "cell_type": "markdown",
   "metadata": {},
   "source": [
    "Patients to drop"
   ]
  },
  {
   "cell_type": "code",
   "execution_count": 341,
   "metadata": {
    "collapsed": false
   },
   "outputs": [],
   "source": [
    "to_drop = pd.read_csv('/cellar/users/ramarty/Data/hla_ii/clinical/Lynch.MSIH.labels', sep='\\t', header=None)\n",
    "to_drop.columns = ['patient', 'disease']"
   ]
  },
  {
   "cell_type": "code",
   "execution_count": 342,
   "metadata": {
    "collapsed": false
   },
   "outputs": [],
   "source": [
    "patients_to_drop = list(to_drop[to_drop.disease == 'LYNCH'].patient)"
   ]
  },
  {
   "cell_type": "code",
   "execution_count": 343,
   "metadata": {
    "collapsed": false
   },
   "outputs": [],
   "source": [
    "df = df.ix[[x for x in df.index if x not in patients_to_drop]]"
   ]
  },
  {
   "cell_type": "markdown",
   "metadata": {},
   "source": [
    "Splitting into coverage groups"
   ]
  },
  {
   "cell_type": "code",
   "execution_count": 344,
   "metadata": {
    "collapsed": true
   },
   "outputs": [],
   "source": [
    "def assign_categoryI(x):\n",
    "    if x < df.classI.dropna().quantile(L):\n",
    "        return 'low'\n",
    "    elif x > df.classI.dropna().quantile(H):\n",
    "        return 'high'\n",
    "    else:\n",
    "        return 'other'\n",
    "def assign_categoryII(x):\n",
    "    if x < df.classII.dropna().quantile(L):\n",
    "        return 'low'\n",
    "    elif x > df.classII.dropna().quantile(H):\n",
    "        return 'high'\n",
    "    else:\n",
    "        return 'other'"
   ]
  },
  {
   "cell_type": "code",
   "execution_count": 345,
   "metadata": {
    "collapsed": false,
    "scrolled": true
   },
   "outputs": [],
   "source": [
    "L, H = 0.25, 0.75\n",
    "df['classI_cat'] = df.classI.apply(assign_categoryI)\n",
    "df['classII_cat'] = df.classII.apply(assign_categoryII)"
   ]
  },
  {
   "cell_type": "code",
   "execution_count": 346,
   "metadata": {
    "collapsed": false
   },
   "outputs": [
    {
     "data": {
      "text/plain": [
       "0.48231827111984282"
      ]
     },
     "execution_count": 346,
     "metadata": {},
     "output_type": "execute_result"
    }
   ],
   "source": [
    "df.classI.dropna().quantile(L)"
   ]
  },
  {
   "cell_type": "code",
   "execution_count": 347,
   "metadata": {
    "collapsed": false,
    "scrolled": true
   },
   "outputs": [
    {
     "data": {
      "text/plain": [
       "'low'"
      ]
     },
     "execution_count": 347,
     "metadata": {},
     "output_type": "execute_result"
    }
   ],
   "source": [
    "assign_categoryI(0.169941)"
   ]
  },
  {
   "cell_type": "code",
   "execution_count": 348,
   "metadata": {
    "collapsed": true
   },
   "outputs": [],
   "source": [
    "def assign_categoryI(x):\n",
    "    if x == 0:\n",
    "        return 'het'\n",
    "    elif x >= 2:\n",
    "        return 'homo'\n",
    "    else:\n",
    "        return 'other'\n",
    "def assign_categoryII(x):\n",
    "    if x <= 2:\n",
    "        return 'het'\n",
    "    else:\n",
    "        return 'homo'"
   ]
  },
  {
   "cell_type": "code",
   "execution_count": 349,
   "metadata": {
    "collapsed": true
   },
   "outputs": [],
   "source": [
    "df['classI_het'] = df.homozygous_classI.apply(assign_categoryI)\n",
    "df['classII_het'] = df.homozygous_classII.apply(assign_categoryII)"
   ]
  },
  {
   "cell_type": "markdown",
   "metadata": {},
   "source": [
    "Output"
   ]
  },
  {
   "cell_type": "code",
   "execution_count": 350,
   "metadata": {
    "collapsed": false
   },
   "outputs": [],
   "source": [
    "df.dropna().to_csv('/cellar/users/ramarty/Data/hla_ii/generated_data/mhc_diversity/dataframe.nonan.csv')"
   ]
  },
  {
   "cell_type": "code",
   "execution_count": 351,
   "metadata": {
    "collapsed": true
   },
   "outputs": [],
   "source": [
    "df.to_csv('/cellar/users/ramarty/Data/hla_ii/generated_data/mhc_diversity/dataframe.csv')"
   ]
  },
  {
   "cell_type": "code",
   "execution_count": 323,
   "metadata": {
    "collapsed": false
   },
   "outputs": [
    {
     "name": "stdout",
     "output_type": "stream",
     "text": [
      "(4573, 14) (5786, 14)\n"
     ]
    }
   ],
   "source": [
    "print df.dropna().shape, df.shape"
   ]
  },
  {
   "cell_type": "code",
   "execution_count": 296,
   "metadata": {
    "collapsed": false
   },
   "outputs": [
    {
     "data": {
      "text/plain": [
       "1.0    2324\n",
       "0.0    1662\n",
       "2.0    1280\n",
       "3.0     286\n",
       "4.0     160\n",
       "5.0      74\n",
       "Name: homozygous_classII, dtype: int64"
      ]
     },
     "execution_count": 296,
     "metadata": {},
     "output_type": "execute_result"
    }
   ],
   "source": [
    "df.homozygous_classII.value_counts()"
   ]
  },
  {
   "cell_type": "code",
   "execution_count": 42,
   "metadata": {
    "collapsed": false
   },
   "outputs": [
    {
     "data": {
      "text/plain": [
       "0.0    5895\n",
       "1.0    1523\n",
       "2.0     395\n",
       "3.0     221\n",
       "Name: homozygous_classI, dtype: int64"
      ]
     },
     "execution_count": 42,
     "metadata": {},
     "output_type": "execute_result"
    }
   ],
   "source": [
    "df.homozygous_classI.value_counts()"
   ]
  },
  {
   "cell_type": "code",
   "execution_count": null,
   "metadata": {
    "collapsed": true
   },
   "outputs": [],
   "source": []
  }
 ],
 "metadata": {
  "kernelspec": {
   "display_name": "Python 2",
   "language": "python",
   "name": "python2"
  },
  "language_info": {
   "codemirror_mode": {
    "name": "ipython",
    "version": 2
   },
   "file_extension": ".py",
   "mimetype": "text/x-python",
   "name": "python",
   "nbconvert_exporter": "python",
   "pygments_lexer": "ipython2",
   "version": "2.7.14"
  }
 },
 "nbformat": 4,
 "nbformat_minor": 0
}
