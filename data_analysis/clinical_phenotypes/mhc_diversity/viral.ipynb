{
 "cells": [
  {
   "cell_type": "code",
   "execution_count": 20,
   "metadata": {
    "collapsed": false
   },
   "outputs": [
    {
     "name": "stdout",
     "output_type": "stream",
     "text": [
      "Populating the interactive namespace from numpy and matplotlib\n"
     ]
    }
   ],
   "source": [
    "import io\n",
    "from IPython.nbformat import current\n",
    "def execute_notebook(nbfile):\n",
    "    with io.open(nbfile) as f:\n",
    "        nb = current.read(f, 'json')\n",
    "    ip = get_ipython()\n",
    "    for cell in nb.worksheets[0].cells:\n",
    "        if cell.cell_type != 'code':\n",
    "            continue\n",
    "        ip.run_cell(cell.input)\n",
    "execute_notebook(\"/cellar/users/ramarty/Projects/hla_ii/bin/imports.ipynb\")"
   ]
  },
  {
   "cell_type": "code",
   "execution_count": 21,
   "metadata": {
    "collapsed": true
   },
   "outputs": [],
   "source": [
    "df = pd.read_csv('/cellar/users/ramarty/Data/hla_ii/generated_data/mhc_diversity/dataframe.csv',\n",
    "                index_col=0)"
   ]
  },
  {
   "cell_type": "code",
   "execution_count": 22,
   "metadata": {
    "collapsed": false
   },
   "outputs": [
    {
     "data": {
      "text/html": [
       "<div>\n",
       "<table border=\"1\" class=\"dataframe\">\n",
       "  <thead>\n",
       "    <tr style=\"text-align: right;\">\n",
       "      <th></th>\n",
       "      <th>classI</th>\n",
       "      <th>classII</th>\n",
       "      <th>Tissue</th>\n",
       "      <th>Age</th>\n",
       "      <th>Race</th>\n",
       "      <th>homozygous_classI</th>\n",
       "      <th>homozygous_classII</th>\n",
       "      <th>homozygous_total</th>\n",
       "    </tr>\n",
       "  </thead>\n",
       "  <tbody>\n",
       "    <tr>\n",
       "      <th>TCGA-02-0003</th>\n",
       "      <td>0.169941</td>\n",
       "      <td>0.494106</td>\n",
       "      <td>GBM</td>\n",
       "      <td>50.0</td>\n",
       "      <td>WHITE</td>\n",
       "      <td>0.0</td>\n",
       "      <td>1.0</td>\n",
       "      <td>1.0</td>\n",
       "    </tr>\n",
       "    <tr>\n",
       "      <th>TCGA-02-0033</th>\n",
       "      <td>0.184676</td>\n",
       "      <td>0.487230</td>\n",
       "      <td>GBM</td>\n",
       "      <td>54.0</td>\n",
       "      <td>WHITE</td>\n",
       "      <td>0.0</td>\n",
       "      <td>2.0</td>\n",
       "      <td>2.0</td>\n",
       "    </tr>\n",
       "    <tr>\n",
       "      <th>TCGA-02-0047</th>\n",
       "      <td>0.120825</td>\n",
       "      <td>0.472495</td>\n",
       "      <td>GBM</td>\n",
       "      <td>78.0</td>\n",
       "      <td>WHITE</td>\n",
       "      <td>2.0</td>\n",
       "      <td>1.0</td>\n",
       "      <td>3.0</td>\n",
       "    </tr>\n",
       "    <tr>\n",
       "      <th>TCGA-02-0055</th>\n",
       "      <td>0.152259</td>\n",
       "      <td>0.496071</td>\n",
       "      <td>GBM</td>\n",
       "      <td>62.0</td>\n",
       "      <td>WHITE</td>\n",
       "      <td>0.0</td>\n",
       "      <td>2.0</td>\n",
       "      <td>2.0</td>\n",
       "    </tr>\n",
       "    <tr>\n",
       "      <th>TCGA-02-2466</th>\n",
       "      <td>0.181729</td>\n",
       "      <td>0.414538</td>\n",
       "      <td>GBM</td>\n",
       "      <td>61.0</td>\n",
       "      <td>WHITE</td>\n",
       "      <td>0.0</td>\n",
       "      <td>1.0</td>\n",
       "      <td>1.0</td>\n",
       "    </tr>\n",
       "  </tbody>\n",
       "</table>\n",
       "</div>"
      ],
      "text/plain": [
       "                classI   classII Tissue   Age   Race  homozygous_classI  \\\n",
       "TCGA-02-0003  0.169941  0.494106    GBM  50.0  WHITE                0.0   \n",
       "TCGA-02-0033  0.184676  0.487230    GBM  54.0  WHITE                0.0   \n",
       "TCGA-02-0047  0.120825  0.472495    GBM  78.0  WHITE                2.0   \n",
       "TCGA-02-0055  0.152259  0.496071    GBM  62.0  WHITE                0.0   \n",
       "TCGA-02-2466  0.181729  0.414538    GBM  61.0  WHITE                0.0   \n",
       "\n",
       "              homozygous_classII  homozygous_total  \n",
       "TCGA-02-0003                 1.0               1.0  \n",
       "TCGA-02-0033                 2.0               2.0  \n",
       "TCGA-02-0047                 1.0               3.0  \n",
       "TCGA-02-0055                 2.0               2.0  \n",
       "TCGA-02-2466                 1.0               1.0  "
      ]
     },
     "execution_count": 22,
     "metadata": {},
     "output_type": "execute_result"
    }
   ],
   "source": [
    "df.head()"
   ]
  },
  {
   "cell_type": "code",
   "execution_count": 23,
   "metadata": {
    "collapsed": false
   },
   "outputs": [],
   "source": [
    "hpv_neg = [x[:12] for x in open('/cellar/users/ramarty/Data/hla_ii/clinical/HPVneg.txt').readlines()[1:]]"
   ]
  },
  {
   "cell_type": "code",
   "execution_count": 24,
   "metadata": {
    "collapsed": true
   },
   "outputs": [],
   "source": [
    "df_hnsc = df[df.Tissue == 'HNSC']"
   ]
  },
  {
   "cell_type": "code",
   "execution_count": 25,
   "metadata": {
    "collapsed": false
   },
   "outputs": [
    {
     "data": {
      "text/plain": [
       "<matplotlib.axes._subplots.AxesSubplot at 0x7f88885d3bd0>"
      ]
     },
     "execution_count": 25,
     "metadata": {},
     "output_type": "execute_result"
    },
    {
     "data": {
      "image/png": "[encoded data removed]",
      "text/plain": [
       "<matplotlib.figure.Figure at 0x7f8848e6fcd0>"
      ]
     },
     "metadata": {},
     "output_type": "display_data"
    }
   ],
   "source": [
    "df_hnsc.ix[hpv_neg].classI.hist()"
   ]
  },
  {
   "cell_type": "code",
   "execution_count": 26,
   "metadata": {
    "collapsed": false
   },
   "outputs": [
    {
     "data": {
      "text/plain": [
       "<matplotlib.axes._subplots.AxesSubplot at 0x7f8848bda050>"
      ]
     },
     "execution_count": 26,
     "metadata": {},
     "output_type": "execute_result"
    },
    {
     "data": {
      "image/png": "[encoded data removed]",
      "text/plain": [
       "<matplotlib.figure.Figure at 0x7f8848be8190>"
      ]
     },
     "metadata": {},
     "output_type": "display_data"
    }
   ],
   "source": [
    "df_hnsc.ix[[x for x in df_hnsc.index if x not in hpv_neg]].classI.hist()"
   ]
  },
  {
   "cell_type": "code",
   "execution_count": 27,
   "metadata": {
    "collapsed": false,
    "scrolled": true
   },
   "outputs": [
    {
     "name": "stdout",
     "output_type": "stream",
     "text": [
      "0.168650148643\n",
      "0.167468328704\n"
     ]
    }
   ],
   "source": [
    "print df_hnsc.ix[hpv_neg].classI.mean()\n",
    "print df_hnsc.ix[[x for x in df_hnsc.index if x not in hpv_neg]].classI.mean()"
   ]
  },
  {
   "cell_type": "code",
   "execution_count": 28,
   "metadata": {
    "collapsed": false,
    "scrolled": true
   },
   "outputs": [
    {
     "data": {
      "text/plain": [
       "MannwhitneyuResult(statistic=18555.0, pvalue=0.37498547684397665)"
      ]
     },
     "execution_count": 28,
     "metadata": {},
     "output_type": "execute_result"
    }
   ],
   "source": [
    "sp.mannwhitneyu(df_hnsc.ix[hpv_neg].classI, \n",
    "                df_hnsc.ix[[x for x in df_hnsc.index if x not in hpv_neg]].classI)"
   ]
  },
  {
   "cell_type": "code",
   "execution_count": 29,
   "metadata": {
    "collapsed": false
   },
   "outputs": [
    {
     "data": {
      "text/plain": [
       "array(['GBM', 'OV', 'LUAD', 'LUSC', 'PRAD', 'BLCA', 'TGCT', 'PAAD', 'KIRP',\n",
       "       'LIHC', 'SARC', 'MESO', 'COAD', 'STAD', 'SKCM', 'KIRC', 'THCA',\n",
       "       'HNSC', 'BRCA', 'UCEC', 'LAML', nan, 'READ', 'CESC', 'LGG', 'DLBC',\n",
       "       'KICH', 'UCS', 'ACC', 'PCPG', 'UVM'], dtype=object)"
      ]
     },
     "execution_count": 29,
     "metadata": {},
     "output_type": "execute_result"
    }
   ],
   "source": [
    "df.Tissue.unique()"
   ]
  },
  {
   "cell_type": "code",
   "execution_count": 30,
   "metadata": {
    "collapsed": false
   },
   "outputs": [
    {
     "data": {
      "text/plain": [
       "0.17153063046967273"
      ]
     },
     "execution_count": 30,
     "metadata": {},
     "output_type": "execute_result"
    }
   ],
   "source": [
    "df[df.Tissue == 'CESC'].classI.mean()"
   ]
  },
  {
   "cell_type": "code",
   "execution_count": 32,
   "metadata": {
    "collapsed": false
   },
   "outputs": [
    {
     "data": {
      "text/plain": [
       "0.16806715625971411"
      ]
     },
     "execution_count": 32,
     "metadata": {},
     "output_type": "execute_result"
    }
   ],
   "source": [
    "df[df.Tissue != 'CESC'].classI.mean()"
   ]
  },
  {
   "cell_type": "code",
   "execution_count": 33,
   "metadata": {
    "collapsed": false
   },
   "outputs": [
    {
     "data": {
      "text/plain": [
       "MannwhitneyuResult(statistic=234311.5, pvalue=0.18283003958140132)"
      ]
     },
     "execution_count": 33,
     "metadata": {},
     "output_type": "execute_result"
    }
   ],
   "source": [
    "sp.mannwhitneyu(df[df.Tissue == 'CESC'].classI,\n",
    "                df[df.Tissue != 'CESC'].classI)"
   ]
  },
  {
   "cell_type": "code",
   "execution_count": null,
   "metadata": {
    "collapsed": true
   },
   "outputs": [],
   "source": []
  }
 ],
 "metadata": {
  "kernelspec": {
   "display_name": "Python 2",
   "language": "python",
   "name": "python2"
  },
  "language_info": {
   "codemirror_mode": {
    "name": "ipython",
    "version": 2
   },
   "file_extension": ".py",
   "mimetype": "text/x-python",
   "name": "python",
   "nbconvert_exporter": "python",
   "pygments_lexer": "ipython2",
   "version": "2.7.14"
  }
 },
 "nbformat": 4,
 "nbformat_minor": 0
}
