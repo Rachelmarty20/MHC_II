{
 "cells": [
  {
   "cell_type": "code",
   "execution_count": 1,
   "metadata": {
    "collapsed": false
   },
   "outputs": [
    {
     "name": "stderr",
     "output_type": "stream",
     "text": [
      "/cellar/users/ramarty/anaconda/lib/python2.7/site-packages/IPython/nbformat/current.py:19: UserWarning: IPython.nbformat.current is deprecated.\n",
      "\n",
      "- use IPython.nbformat for read/write/validate public API\n",
      "- use IPython.nbformat.vX directly to composing notebooks of a particular version\n",
      "\n",
      "  \"\"\")\n",
      "/cellar/users/ramarty/anaconda/lib/python2.7/site-packages/sklearn/cross_validation.py:44: DeprecationWarning: This module was deprecated in version 0.18 in favor of the model_selection module into which all the refactored classes and functions are moved. Also note that the interface of the new CV iterators are different from that of this module. This module will be removed in 0.20.\n",
      "  \"This module will be removed in 0.20.\", DeprecationWarning)\n"
     ]
    },
    {
     "name": "stdout",
     "output_type": "stream",
     "text": [
      "Populating the interactive namespace from numpy and matplotlib\n"
     ]
    }
   ],
   "source": [
    "import io\n",
    "from IPython.nbformat import current\n",
    "def execute_notebook(nbfile):\n",
    "    with io.open(nbfile) as f:\n",
    "        nb = current.read(f, 'json')\n",
    "    ip = get_ipython()\n",
    "    for cell in nb.worksheets[0].cells:\n",
    "        if cell.cell_type != 'code':\n",
    "            continue\n",
    "        ip.run_cell(cell.input)\n",
    "execute_notebook(\"/cellar/users/ramarty/Projects/hla_ii/bin/imports.ipynb\")"
   ]
  },
  {
   "cell_type": "markdown",
   "metadata": {},
   "source": [
    "# Exploring the relationship between low/high tapasin expressers and HLA genotype <br>\n",
    "Hypothesis: Since the functional relationship between these genes is important and they come from the same region of the genome, we think there may be a germline relationship <br>\n",
    "Approach: Test all HLA genotypes with expression to see if there is enrichement (fisher's exact test) <br>\n",
    "Data: MHC-I/MHC-II typing; tapasin expression is from Su Xian"
   ]
  },
  {
   "cell_type": "markdown",
   "metadata": {},
   "source": [
    "Tapasin expression groups"
   ]
  },
  {
   "cell_type": "code",
   "execution_count": 58,
   "metadata": {
    "collapsed": false
   },
   "outputs": [],
   "source": [
    "df = pd.read_csv('/cellar/users/ramarty/Data/hla_ii/clinical/TAPBP/TAPBP_expression.csv', header=None, sep='\\t')\n",
    "df.columns = ['last_four', 'TAPBP']"
   ]
  },
  {
   "cell_type": "code",
   "execution_count": 59,
   "metadata": {
    "collapsed": false
   },
   "outputs": [
    {
     "data": {
      "text/html": [
       "<div>\n",
       "<table border=\"1\" class=\"dataframe\">\n",
       "  <thead>\n",
       "    <tr style=\"text-align: right;\">\n",
       "      <th></th>\n",
       "      <th>last_four</th>\n",
       "      <th>TAPBP</th>\n",
       "    </tr>\n",
       "  </thead>\n",
       "  <tbody>\n",
       "    <tr>\n",
       "      <th>0</th>\n",
       "      <td>5630</td>\n",
       "      <td>1.559648</td>\n",
       "    </tr>\n",
       "    <tr>\n",
       "      <th>1</th>\n",
       "      <td>A7B0</td>\n",
       "      <td>6.077753</td>\n",
       "    </tr>\n",
       "    <tr>\n",
       "      <th>2</th>\n",
       "      <td>A829</td>\n",
       "      <td>3.320446</td>\n",
       "    </tr>\n",
       "    <tr>\n",
       "      <th>3</th>\n",
       "      <td>7222</td>\n",
       "      <td>4.938917</td>\n",
       "    </tr>\n",
       "    <tr>\n",
       "      <th>4</th>\n",
       "      <td>6972</td>\n",
       "      <td>2.883482</td>\n",
       "    </tr>\n",
       "  </tbody>\n",
       "</table>\n",
       "</div>"
      ],
      "text/plain": [
       "  last_four     TAPBP\n",
       "0      5630  1.559648\n",
       "1      A7B0  6.077753\n",
       "2      A829  3.320446\n",
       "3      7222  4.938917\n",
       "4      6972  2.883482"
      ]
     },
     "execution_count": 59,
     "metadata": {},
     "output_type": "execute_result"
    }
   ],
   "source": [
    "df.head()"
   ]
  },
  {
   "cell_type": "markdown",
   "metadata": {},
   "source": [
    "HLA genotypes"
   ]
  },
  {
   "cell_type": "code",
   "execution_count": 60,
   "metadata": {
    "collapsed": true
   },
   "outputs": [],
   "source": [
    "classI_types = pd.read_csv('/cellar/users/ramarty/Data/hla/hla_typing/sample_and_types.with_homomzygous.csv', index_col=0)\n",
    "classI_types.index = list(classI_types['Sample'])\n",
    "classII_types = pd.read_csv('/cellar/users/ramarty/Data/hla_ii/hla_types/hla_types.tcga.csv', index_col=0)"
   ]
  },
  {
   "cell_type": "code",
   "execution_count": 61,
   "metadata": {
    "collapsed": true
   },
   "outputs": [],
   "source": [
    "classI_types = classI_types[['Sample', 'A1', 'A2', 'B1', 'B2', 'C1', 'C2']]"
   ]
  },
  {
   "cell_type": "markdown",
   "metadata": {},
   "source": [
    "Restricting high/low tapasin expression to patients with types"
   ]
  },
  {
   "cell_type": "code",
   "execution_count": 62,
   "metadata": {
    "collapsed": false
   },
   "outputs": [
    {
     "name": "stderr",
     "output_type": "stream",
     "text": [
      "/cellar/users/ramarty/anaconda/lib/python2.7/site-packages/IPython/kernel/__main__.py:4: SettingWithCopyWarning: \n",
      "A value is trying to be set on a copy of a slice from a DataFrame.\n",
      "Try using .loc[row_indexer,col_indexer] = value instead\n",
      "\n",
      "See the caveats in the documentation: http://pandas.pydata.org/pandas-docs/stable/indexing.html#indexing-view-versus-copy\n"
     ]
    }
   ],
   "source": [
    "restricted = classI_types[['Sample']]\n",
    "def get_last_four_digits(x):\n",
    "    return x[-4:]\n",
    "restricted['last_four'] = classI_types['Sample'].apply(get_last_four_digits)"
   ]
  },
  {
   "cell_type": "code",
   "execution_count": 63,
   "metadata": {
    "collapsed": false
   },
   "outputs": [],
   "source": [
    "df = pd.merge(restricted, df, on='last_four', how='inner')"
   ]
  },
  {
   "cell_type": "markdown",
   "metadata": {},
   "source": [
    "Add a column for number of alleles with each significant allele"
   ]
  },
  {
   "cell_type": "code",
   "execution_count": 64,
   "metadata": {
    "collapsed": true
   },
   "outputs": [],
   "source": [
    "results_df = pd.read_csv('/cellar/users/ramarty/Data/hla_ii/generated_data/TAPBP/tapasin_hla_genotype.fisher_exact_results.csv',\n",
    "                        index_col=0)"
   ]
  },
  {
   "cell_type": "code",
   "execution_count": 65,
   "metadata": {
    "collapsed": false
   },
   "outputs": [],
   "source": [
    "significant_alleles = list(results_df[:13].Allele)"
   ]
  },
  {
   "cell_type": "code",
   "execution_count": 66,
   "metadata": {
    "collapsed": false
   },
   "outputs": [],
   "source": [
    "for allele in significant_alleles:\n",
    "    def allele_copy(x):\n",
    "        occur = list(x).count(allele)\n",
    "        return occur\n",
    "    classI_types[allele] = classI_types[['A1', 'A2', 'B1', 'B2', 'C1', 'C2']].apply(allele_copy, axis=1)"
   ]
  },
  {
   "cell_type": "code",
   "execution_count": 67,
   "metadata": {
    "collapsed": true
   },
   "outputs": [],
   "source": [
    "expression_df = pd.merge(classI_types, df, on='Sample', how='inner')"
   ]
  },
  {
   "cell_type": "code",
   "execution_count": 68,
   "metadata": {
    "collapsed": false
   },
   "outputs": [
    {
     "data": {
      "text/html": [
       "<div>\n",
       "<table border=\"1\" class=\"dataframe\">\n",
       "  <thead>\n",
       "    <tr style=\"text-align: right;\">\n",
       "      <th></th>\n",
       "      <th>Sample</th>\n",
       "      <th>A1</th>\n",
       "      <th>A2</th>\n",
       "      <th>B1</th>\n",
       "      <th>B2</th>\n",
       "      <th>C1</th>\n",
       "      <th>C2</th>\n",
       "      <th>B*08:01</th>\n",
       "      <th>C*02:10</th>\n",
       "      <th>B*53:01</th>\n",
       "      <th>...</th>\n",
       "      <th>B*57:03</th>\n",
       "      <th>C*07:01</th>\n",
       "      <th>B*54:01</th>\n",
       "      <th>A*36:01</th>\n",
       "      <th>A*24:07</th>\n",
       "      <th>A*74:01</th>\n",
       "      <th>B*58:02</th>\n",
       "      <th>C*05:01</th>\n",
       "      <th>last_four</th>\n",
       "      <th>TAPBP</th>\n",
       "    </tr>\n",
       "  </thead>\n",
       "  <tbody>\n",
       "    <tr>\n",
       "      <th>0</th>\n",
       "      <td>TCGA-P5-A780</td>\n",
       "      <td>A*01:01</td>\n",
       "      <td>A*02:01</td>\n",
       "      <td>B*07:02</td>\n",
       "      <td>B*35:03</td>\n",
       "      <td>C*04:01</td>\n",
       "      <td>C*07:02</td>\n",
       "      <td>0</td>\n",
       "      <td>0</td>\n",
       "      <td>0</td>\n",
       "      <td>...</td>\n",
       "      <td>0</td>\n",
       "      <td>0</td>\n",
       "      <td>0</td>\n",
       "      <td>0</td>\n",
       "      <td>0</td>\n",
       "      <td>0</td>\n",
       "      <td>0</td>\n",
       "      <td>0</td>\n",
       "      <td>A780</td>\n",
       "      <td>0.329949</td>\n",
       "    </tr>\n",
       "    <tr>\n",
       "      <th>1</th>\n",
       "      <td>TCGA-55-A494</td>\n",
       "      <td>A*02:01</td>\n",
       "      <td>A*24:02</td>\n",
       "      <td>B*15:01</td>\n",
       "      <td>B*57:01</td>\n",
       "      <td>C*03:03</td>\n",
       "      <td>C*07:01</td>\n",
       "      <td>0</td>\n",
       "      <td>0</td>\n",
       "      <td>0</td>\n",
       "      <td>...</td>\n",
       "      <td>0</td>\n",
       "      <td>1</td>\n",
       "      <td>0</td>\n",
       "      <td>0</td>\n",
       "      <td>0</td>\n",
       "      <td>0</td>\n",
       "      <td>0</td>\n",
       "      <td>0</td>\n",
       "      <td>A494</td>\n",
       "      <td>5.894547</td>\n",
       "    </tr>\n",
       "    <tr>\n",
       "      <th>2</th>\n",
       "      <td>TCGA-BR-6564</td>\n",
       "      <td>A*02:01</td>\n",
       "      <td>A*11:01</td>\n",
       "      <td>B*35:03</td>\n",
       "      <td>B*40:01</td>\n",
       "      <td>C*03:04</td>\n",
       "      <td>C*12:03</td>\n",
       "      <td>0</td>\n",
       "      <td>0</td>\n",
       "      <td>0</td>\n",
       "      <td>...</td>\n",
       "      <td>0</td>\n",
       "      <td>0</td>\n",
       "      <td>0</td>\n",
       "      <td>0</td>\n",
       "      <td>0</td>\n",
       "      <td>0</td>\n",
       "      <td>0</td>\n",
       "      <td>0</td>\n",
       "      <td>6564</td>\n",
       "      <td>5.953946</td>\n",
       "    </tr>\n",
       "    <tr>\n",
       "      <th>3</th>\n",
       "      <td>TCGA-BJ-A2P4</td>\n",
       "      <td>A*02:01</td>\n",
       "      <td>A*03:01</td>\n",
       "      <td>B*44:02</td>\n",
       "      <td>B*49:01</td>\n",
       "      <td>C*05:01</td>\n",
       "      <td>C*07:02</td>\n",
       "      <td>0</td>\n",
       "      <td>0</td>\n",
       "      <td>0</td>\n",
       "      <td>...</td>\n",
       "      <td>0</td>\n",
       "      <td>0</td>\n",
       "      <td>0</td>\n",
       "      <td>0</td>\n",
       "      <td>0</td>\n",
       "      <td>0</td>\n",
       "      <td>0</td>\n",
       "      <td>1</td>\n",
       "      <td>A2P4</td>\n",
       "      <td>0.211337</td>\n",
       "    </tr>\n",
       "    <tr>\n",
       "      <th>4</th>\n",
       "      <td>TCGA-N5-A4RJ</td>\n",
       "      <td>A*01:01</td>\n",
       "      <td>A*02:01</td>\n",
       "      <td>B*07:02</td>\n",
       "      <td>B*35:01</td>\n",
       "      <td>C*06:02</td>\n",
       "      <td>C*07:02</td>\n",
       "      <td>0</td>\n",
       "      <td>0</td>\n",
       "      <td>0</td>\n",
       "      <td>...</td>\n",
       "      <td>0</td>\n",
       "      <td>0</td>\n",
       "      <td>0</td>\n",
       "      <td>0</td>\n",
       "      <td>0</td>\n",
       "      <td>0</td>\n",
       "      <td>0</td>\n",
       "      <td>0</td>\n",
       "      <td>A4RJ</td>\n",
       "      <td>5.522056</td>\n",
       "    </tr>\n",
       "  </tbody>\n",
       "</table>\n",
       "<p>5 rows × 22 columns</p>\n",
       "</div>"
      ],
      "text/plain": [
       "         Sample       A1       A2       B1       B2       C1       C2  \\\n",
       "0  TCGA-P5-A780  A*01:01  A*02:01  B*07:02  B*35:03  C*04:01  C*07:02   \n",
       "1  TCGA-55-A494  A*02:01  A*24:02  B*15:01  B*57:01  C*03:03  C*07:01   \n",
       "2  TCGA-BR-6564  A*02:01  A*11:01  B*35:03  B*40:01  C*03:04  C*12:03   \n",
       "3  TCGA-BJ-A2P4  A*02:01  A*03:01  B*44:02  B*49:01  C*05:01  C*07:02   \n",
       "4  TCGA-N5-A4RJ  A*01:01  A*02:01  B*07:02  B*35:01  C*06:02  C*07:02   \n",
       "\n",
       "   B*08:01  C*02:10  B*53:01    ...     B*57:03  C*07:01  B*54:01  A*36:01  \\\n",
       "0        0        0        0    ...           0        0        0        0   \n",
       "1        0        0        0    ...           0        1        0        0   \n",
       "2        0        0        0    ...           0        0        0        0   \n",
       "3        0        0        0    ...           0        0        0        0   \n",
       "4        0        0        0    ...           0        0        0        0   \n",
       "\n",
       "   A*24:07  A*74:01  B*58:02  C*05:01  last_four     TAPBP  \n",
       "0        0        0        0        0       A780  0.329949  \n",
       "1        0        0        0        0       A494  5.894547  \n",
       "2        0        0        0        0       6564  5.953946  \n",
       "3        0        0        0        1       A2P4  0.211337  \n",
       "4        0        0        0        0       A4RJ  5.522056  \n",
       "\n",
       "[5 rows x 22 columns]"
      ]
     },
     "execution_count": 68,
     "metadata": {},
     "output_type": "execute_result"
    }
   ],
   "source": [
    "expression_df.head()"
   ]
  },
  {
   "cell_type": "code",
   "execution_count": 69,
   "metadata": {
    "collapsed": false
   },
   "outputs": [],
   "source": [
    "expression_df.to_csv('/cellar/users/ramarty/Data/hla_ii/generated_data/TAPBP/expression_df.csv')"
   ]
  },
  {
   "cell_type": "code",
   "execution_count": 70,
   "metadata": {
    "collapsed": false
   },
   "outputs": [
    {
     "name": "stdout",
     "output_type": "stream",
     "text": [
      "0    8190\n",
      "1    1526\n",
      "2     123\n",
      "Name: B*08:01, dtype: int64\n",
      "0    9714\n",
      "1     124\n",
      "2       1\n",
      "Name: C*02:10, dtype: int64\n",
      "0    9616\n",
      "1     204\n",
      "2      19\n",
      "Name: B*53:01, dtype: int64\n",
      "0    9717\n",
      "1     117\n",
      "2       5\n",
      "Name: B*15:03, dtype: int64\n",
      "0    9387\n",
      "1     432\n",
      "2      20\n",
      "Name: A*23:01, dtype: int64\n",
      "0    9772\n",
      "1      66\n",
      "2       1\n",
      "Name: B*57:03, dtype: int64\n",
      "0    7263\n",
      "1    2359\n",
      "2     217\n",
      "Name: C*07:01, dtype: int64\n",
      "0    9803\n",
      "1      34\n",
      "2       2\n",
      "Name: B*54:01, dtype: int64\n",
      "0    9776\n",
      "1      63\n",
      "Name: A*36:01, dtype: int64\n",
      "0    9811\n",
      "1      25\n",
      "2       3\n",
      "Name: A*24:07, dtype: int64\n",
      "0    9736\n",
      "1      99\n",
      "2       4\n",
      "Name: A*74:01, dtype: int64\n",
      "0    9769\n",
      "1      69\n",
      "2       1\n",
      "Name: B*58:02, dtype: int64\n",
      "0    8438\n",
      "1    1321\n",
      "2      80\n",
      "Name: C*05:01, dtype: int64\n"
     ]
    }
   ],
   "source": [
    "for allele in significant_alleles:\n",
    "    print classI_types[allele].value_counts()"
   ]
  },
  {
   "cell_type": "code",
   "execution_count": null,
   "metadata": {
    "collapsed": true
   },
   "outputs": [],
   "source": []
  }
 ],
 "metadata": {
  "kernelspec": {
   "display_name": "Python 2",
   "language": "python",
   "name": "python2"
  },
  "language_info": {
   "codemirror_mode": {
    "name": "ipython",
    "version": 2
   },
   "file_extension": ".py",
   "mimetype": "text/x-python",
   "name": "python",
   "nbconvert_exporter": "python",
   "pygments_lexer": "ipython2",
   "version": "2.7.14"
  }
 },
 "nbformat": 4,
 "nbformat_minor": 0
}
