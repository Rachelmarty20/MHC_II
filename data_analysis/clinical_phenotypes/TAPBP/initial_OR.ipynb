{
 "cells": [
  {
   "cell_type": "code",
   "execution_count": 2,
   "metadata": {
    "collapsed": false
   },
   "outputs": [
    {
     "name": "stdout",
     "output_type": "stream",
     "text": [
      "Populating the interactive namespace from numpy and matplotlib\n"
     ]
    }
   ],
   "source": [
    "import io\n",
    "from IPython.nbformat import current\n",
    "def execute_notebook(nbfile):\n",
    "    with io.open(nbfile) as f:\n",
    "        nb = current.read(f, 'json')\n",
    "    ip = get_ipython()\n",
    "    for cell in nb.worksheets[0].cells:\n",
    "        if cell.cell_type != 'code':\n",
    "            continue\n",
    "        ip.run_cell(cell.input)\n",
    "execute_notebook(\"/cellar/users/ramarty/Projects/hla_ii/bin/imports.ipynb\")"
   ]
  },
  {
   "cell_type": "markdown",
   "metadata": {},
   "source": [
    "# Exploring the relationship between low/high tapasin expressers and HLA genotype <br>\n",
    "Hypothesis: Since the functional relationship between these genes is important and they come from the same region of the genome, we think there may be a germline relationship <br>\n",
    "Approach: Test all HLA genotypes with expression to see if there is enrichement (fisher's exact test) <br>\n",
    "Data: MHC-I/MHC-II typing; tapasin expression is from Su Xian"
   ]
  },
  {
   "cell_type": "markdown",
   "metadata": {},
   "source": [
    "Tapasin expression groups"
   ]
  },
  {
   "cell_type": "code",
   "execution_count": 2,
   "metadata": {
    "collapsed": false
   },
   "outputs": [],
   "source": [
    "df = pd.read_csv('/cellar/users/ramarty/Data/hla_ii/clinical/TAPBP/TAPBP_expression.csv', header=None, sep='\\t')\n",
    "df.columns = ['Patient', 'TAPBP']"
   ]
  },
  {
   "cell_type": "code",
   "execution_count": 3,
   "metadata": {
    "collapsed": false
   },
   "outputs": [],
   "source": [
    "low_TAPBP_expr_patients = [x.strip() for x in open('/cellar/users/ramarty/Data/hla_ii/clinical/TAPBP/Low_TAPBP.txt').readlines()]\n",
    "high_TAPBP_expr_patients = [x.strip() for x in open('/cellar/users/ramarty/Data/hla_ii/clinical/TAPBP/High_TAPBP.txt').readlines()]"
   ]
  },
  {
   "cell_type": "markdown",
   "metadata": {},
   "source": [
    "HLA genotypes"
   ]
  },
  {
   "cell_type": "code",
   "execution_count": 4,
   "metadata": {
    "collapsed": true
   },
   "outputs": [],
   "source": [
    "classI_types = pd.read_csv('/cellar/users/ramarty/Data/hla/hla_typing/sample_and_types.with_homomzygous.csv', index_col=0)\n",
    "classI_types.index = list(classI_types['Sample'])\n",
    "classII_types = pd.read_csv('/cellar/users/ramarty/Data/hla_ii/hla_types/hla_types.tcga.csv', index_col=0)"
   ]
  },
  {
   "cell_type": "code",
   "execution_count": 5,
   "metadata": {
    "collapsed": false
   },
   "outputs": [
    {
     "data": {
      "text/html": [
       "<div>\n",
       "<table border=\"1\" class=\"dataframe\">\n",
       "  <thead>\n",
       "    <tr style=\"text-align: right;\">\n",
       "      <th></th>\n",
       "      <th>A1</th>\n",
       "      <th>A2</th>\n",
       "      <th>B1</th>\n",
       "      <th>B2</th>\n",
       "      <th>C1</th>\n",
       "      <th>C2</th>\n",
       "      <th>Sample</th>\n",
       "      <th>homozygous_A</th>\n",
       "      <th>homozygous_B</th>\n",
       "      <th>homozygous_C</th>\n",
       "    </tr>\n",
       "  </thead>\n",
       "  <tbody>\n",
       "    <tr>\n",
       "      <th>TCGA-P5-A780</th>\n",
       "      <td>A*01:01</td>\n",
       "      <td>A*02:01</td>\n",
       "      <td>B*07:02</td>\n",
       "      <td>B*35:03</td>\n",
       "      <td>C*04:01</td>\n",
       "      <td>C*07:02</td>\n",
       "      <td>TCGA-P5-A780</td>\n",
       "      <td>False</td>\n",
       "      <td>False</td>\n",
       "      <td>False</td>\n",
       "    </tr>\n",
       "    <tr>\n",
       "      <th>TCGA-55-A494</th>\n",
       "      <td>A*02:01</td>\n",
       "      <td>A*24:02</td>\n",
       "      <td>B*15:01</td>\n",
       "      <td>B*57:01</td>\n",
       "      <td>C*03:03</td>\n",
       "      <td>C*07:01</td>\n",
       "      <td>TCGA-55-A494</td>\n",
       "      <td>False</td>\n",
       "      <td>False</td>\n",
       "      <td>False</td>\n",
       "    </tr>\n",
       "    <tr>\n",
       "      <th>TCGA-BR-8382</th>\n",
       "      <td>A*02:01</td>\n",
       "      <td>A*02:01</td>\n",
       "      <td>B*08:01</td>\n",
       "      <td>B*57:01</td>\n",
       "      <td>C*06:02</td>\n",
       "      <td>C*07:01</td>\n",
       "      <td>TCGA-BR-8382</td>\n",
       "      <td>True</td>\n",
       "      <td>False</td>\n",
       "      <td>False</td>\n",
       "    </tr>\n",
       "    <tr>\n",
       "      <th>TCGA-Z2-AA3S</th>\n",
       "      <td>A*02:01</td>\n",
       "      <td>A*02:01</td>\n",
       "      <td>B*07:04</td>\n",
       "      <td>B*52:01</td>\n",
       "      <td>C*07:02</td>\n",
       "      <td>C*12:02</td>\n",
       "      <td>TCGA-Z2-AA3S</td>\n",
       "      <td>True</td>\n",
       "      <td>False</td>\n",
       "      <td>False</td>\n",
       "    </tr>\n",
       "    <tr>\n",
       "      <th>TCGA-BR-6564</th>\n",
       "      <td>A*02:01</td>\n",
       "      <td>A*11:01</td>\n",
       "      <td>B*35:03</td>\n",
       "      <td>B*40:01</td>\n",
       "      <td>C*03:04</td>\n",
       "      <td>C*12:03</td>\n",
       "      <td>TCGA-BR-6564</td>\n",
       "      <td>False</td>\n",
       "      <td>False</td>\n",
       "      <td>False</td>\n",
       "    </tr>\n",
       "  </tbody>\n",
       "</table>\n",
       "</div>"
      ],
      "text/plain": [
       "                   A1       A2       B1       B2       C1       C2  \\\n",
       "TCGA-P5-A780  A*01:01  A*02:01  B*07:02  B*35:03  C*04:01  C*07:02   \n",
       "TCGA-55-A494  A*02:01  A*24:02  B*15:01  B*57:01  C*03:03  C*07:01   \n",
       "TCGA-BR-8382  A*02:01  A*02:01  B*08:01  B*57:01  C*06:02  C*07:01   \n",
       "TCGA-Z2-AA3S  A*02:01  A*02:01  B*07:04  B*52:01  C*07:02  C*12:02   \n",
       "TCGA-BR-6564  A*02:01  A*11:01  B*35:03  B*40:01  C*03:04  C*12:03   \n",
       "\n",
       "                    Sample homozygous_A homozygous_B homozygous_C  \n",
       "TCGA-P5-A780  TCGA-P5-A780        False        False        False  \n",
       "TCGA-55-A494  TCGA-55-A494        False        False        False  \n",
       "TCGA-BR-8382  TCGA-BR-8382         True        False        False  \n",
       "TCGA-Z2-AA3S  TCGA-Z2-AA3S         True        False        False  \n",
       "TCGA-BR-6564  TCGA-BR-6564        False        False        False  "
      ]
     },
     "execution_count": 5,
     "metadata": {},
     "output_type": "execute_result"
    }
   ],
   "source": [
    "classI_types.head()"
   ]
  },
  {
   "cell_type": "markdown",
   "metadata": {},
   "source": [
    "Restricting high/low tapasin expression to patients with types"
   ]
  },
  {
   "cell_type": "code",
   "execution_count": 6,
   "metadata": {
    "collapsed": false
   },
   "outputs": [
    {
     "name": "stderr",
     "output_type": "stream",
     "text": [
      "/cellar/users/ramarty/anaconda/lib/python2.7/site-packages/IPython/kernel/__main__.py:4: SettingWithCopyWarning: \n",
      "A value is trying to be set on a copy of a slice from a DataFrame.\n",
      "Try using .loc[row_indexer,col_indexer] = value instead\n",
      "\n",
      "See the caveats in the documentation: http://pandas.pydata.org/pandas-docs/stable/indexing.html#indexing-view-versus-copy\n"
     ]
    }
   ],
   "source": [
    "restricted = classI_types[['Sample']]\n",
    "def get_last_four_digits(x):\n",
    "    return x[-4:]\n",
    "restricted['last_four'] = classI_types['Sample'].apply(get_last_four_digits)"
   ]
  },
  {
   "cell_type": "code",
   "execution_count": 10,
   "metadata": {
    "collapsed": false
   },
   "outputs": [],
   "source": [
    "restricted = restricted[restricted.last_four.isin(low_TAPBP_expr_patients+high_TAPBP_expr_patients)]"
   ]
  },
  {
   "cell_type": "code",
   "execution_count": 11,
   "metadata": {
    "collapsed": false
   },
   "outputs": [
    {
     "name": "stderr",
     "output_type": "stream",
     "text": [
      "/cellar/users/ramarty/anaconda/lib/python2.7/site-packages/IPython/kernel/__main__.py:8: SettingWithCopyWarning: \n",
      "A value is trying to be set on a copy of a slice from a DataFrame.\n",
      "Try using .loc[row_indexer,col_indexer] = value instead\n",
      "\n",
      "See the caveats in the documentation: http://pandas.pydata.org/pandas-docs/stable/indexing.html#indexing-view-versus-copy\n"
     ]
    }
   ],
   "source": [
    "def get_expression(x):\n",
    "    if x in low_TAPBP_expr_patients:\n",
    "        return 'low'\n",
    "    elif x in high_TAPBP_expr_patients:\n",
    "        return 'high'\n",
    "    else:\n",
    "        return 'med'\n",
    "restricted['expression'] = restricted.last_four.apply(get_expression)"
   ]
  },
  {
   "cell_type": "code",
   "execution_count": 13,
   "metadata": {
    "collapsed": false,
    "scrolled": true
   },
   "outputs": [],
   "source": [
    "low_TAPBP_expr_patients = list(restricted[restricted.expression == 'low'].Sample)\n",
    "high_TAPBP_expr_patients = list(restricted[restricted.expression == 'high'].Sample)"
   ]
  },
  {
   "cell_type": "markdown",
   "metadata": {},
   "source": [
    "Actual analysis"
   ]
  },
  {
   "cell_type": "code",
   "execution_count": 14,
   "metadata": {
    "collapsed": false
   },
   "outputs": [
    {
     "name": "stdout",
     "output_type": "stream",
     "text": [
      "245\n"
     ]
    }
   ],
   "source": [
    "all_alleles = list(set(list(classI_types.A1)+list(classI_types.A2)+\n",
    "                      list(classI_types.B1)+list(classI_types.B2)+\n",
    "                      list(classI_types.C1)+list(classI_types.C2)))\n",
    "print len(all_alleles)"
   ]
  },
  {
   "cell_type": "code",
   "execution_count": 15,
   "metadata": {
    "collapsed": false
   },
   "outputs": [
    {
     "name": "stdout",
     "output_type": "stream",
     "text": [
      "0\n",
      "10\n",
      "20\n",
      "30\n",
      "40\n",
      "50\n",
      "60\n",
      "70\n",
      "80\n",
      "90\n",
      "100\n",
      "110\n",
      "120\n",
      "130\n",
      "140\n",
      "150\n",
      "160\n",
      "170\n",
      "180\n",
      "190\n",
      "200\n",
      "210\n",
      "220\n",
      "230\n",
      "240\n"
     ]
    }
   ],
   "source": [
    "ORs, Ps, alleles_used, patient_frequency = [], [], [], []\n",
    "for i, allele in enumerate(all_alleles):\n",
    "    \n",
    "    if i % 10 == 0:\n",
    "        print i\n",
    "    def allele_present(x):\n",
    "        if allele in list(x):\n",
    "            return True\n",
    "        else:\n",
    "            return False\n",
    "    classI_types['allele_present'] = classI_types[['A1', 'A2', 'B1', 'B2', 'C1', 'C2']].apply(allele_present, axis=1)\n",
    "    \n",
    "    patients_with_allele = list(classI_types[classI_types.allele_present].index)\n",
    "    \n",
    "    if len(patients_with_allele) > 25:\n",
    "        patients_without_allele = list(classI_types[~classI_types.allele_present].index)\n",
    "    \n",
    "        OR, P = sp.fisher_exact([[len([x for x in low_TAPBP_expr_patients if x in patients_with_allele]),\n",
    "                          len([x for x in low_TAPBP_expr_patients if x in patients_without_allele])],\n",
    "                         [len([x for x in high_TAPBP_expr_patients if x in patients_with_allele]),\n",
    "                          len([x for x in high_TAPBP_expr_patients if x in patients_without_allele])]])\n",
    "        ORs.append(OR)\n",
    "        Ps.append(P)\n",
    "        alleles_used.append(allele)\n",
    "        patient_frequency.append(float(len(patients_with_allele))/(len(patients_with_allele)+len(patients_without_allele)))"
   ]
  },
  {
   "cell_type": "code",
   "execution_count": 80,
   "metadata": {
    "collapsed": false,
    "scrolled": true
   },
   "outputs": [
    {
     "name": "stdout",
     "output_type": "stream",
     "text": [
      "112\n"
     ]
    }
   ],
   "source": [
    "results_df = pd.DataFrame({'Allele': alleles_used,\n",
    "                           'OR': ORs, \n",
    "                           'P': Ps,\n",
    "                           'Allele_frequency': patient_frequency})\n",
    "print len(results_df)"
   ]
  },
  {
   "cell_type": "code",
   "execution_count": 81,
   "metadata": {
    "collapsed": true
   },
   "outputs": [],
   "source": [
    "stats = importr('stats')\n",
    "results_df['P_BH_adjusted'] = stats.p_adjust(FloatVector(list(results_df.P)), method = 'BH')"
   ]
  },
  {
   "cell_type": "code",
   "execution_count": 82,
   "metadata": {
    "collapsed": false
   },
   "outputs": [],
   "source": [
    "results_df.sort_values('P_BH_adjusted').to_csv('/cellar/users/ramarty/Data/hla_ii/generated_data/TAPBP/tapasin_hla_genotype.fisher_exact_results.csv')"
   ]
  },
  {
   "cell_type": "code",
   "execution_count": 9,
   "metadata": {
    "collapsed": true
   },
   "outputs": [],
   "source": [
    "results_df = pd.read_csv('/cellar/users/ramarty/Data/hla_ii/generated_data/TAPBP/tapasin_hla_genotype.fisher_exact_results.csv',\n",
    "                        index_col=0)"
   ]
  },
  {
   "cell_type": "code",
   "execution_count": 11,
   "metadata": {
    "collapsed": false
   },
   "outputs": [
    {
     "data": {
      "text/html": [
       "<div>\n",
       "<table border=\"1\" class=\"dataframe\">\n",
       "  <thead>\n",
       "    <tr style=\"text-align: right;\">\n",
       "      <th></th>\n",
       "      <th>Allele</th>\n",
       "      <th>Allele_frequency</th>\n",
       "      <th>OR</th>\n",
       "      <th>P</th>\n",
       "      <th>P_BH_adjusted</th>\n",
       "    </tr>\n",
       "  </thead>\n",
       "  <tbody>\n",
       "    <tr>\n",
       "      <th>22</th>\n",
       "      <td>B*08:01</td>\n",
       "      <td>0.167598</td>\n",
       "      <td>1.461516</td>\n",
       "      <td>8.228516e-07</td>\n",
       "      <td>0.000092</td>\n",
       "    </tr>\n",
       "    <tr>\n",
       "      <th>97</th>\n",
       "      <td>C*02:10</td>\n",
       "      <td>0.012705</td>\n",
       "      <td>0.172835</td>\n",
       "      <td>1.132717e-05</td>\n",
       "      <td>0.000634</td>\n",
       "    </tr>\n",
       "    <tr>\n",
       "      <th>63</th>\n",
       "      <td>B*53:01</td>\n",
       "      <td>0.022665</td>\n",
       "      <td>0.394872</td>\n",
       "      <td>2.721334e-04</td>\n",
       "      <td>0.007385</td>\n",
       "    </tr>\n",
       "    <tr>\n",
       "      <th>41</th>\n",
       "      <td>B*15:03</td>\n",
       "      <td>0.012400</td>\n",
       "      <td>0.270408</td>\n",
       "      <td>2.975389e-04</td>\n",
       "      <td>0.007385</td>\n",
       "    </tr>\n",
       "    <tr>\n",
       "      <th>89</th>\n",
       "      <td>A*23:01</td>\n",
       "      <td>0.045940</td>\n",
       "      <td>0.574037</td>\n",
       "      <td>3.297058e-04</td>\n",
       "      <td>0.007385</td>\n",
       "    </tr>\n",
       "    <tr>\n",
       "      <th>6</th>\n",
       "      <td>B*57:03</td>\n",
       "      <td>0.006810</td>\n",
       "      <td>0.086957</td>\n",
       "      <td>4.960796e-04</td>\n",
       "      <td>0.009260</td>\n",
       "    </tr>\n",
       "    <tr>\n",
       "      <th>27</th>\n",
       "      <td>C*07:01</td>\n",
       "      <td>0.261815</td>\n",
       "      <td>1.256113</td>\n",
       "      <td>6.561299e-04</td>\n",
       "      <td>0.010498</td>\n",
       "    </tr>\n",
       "    <tr>\n",
       "      <th>80</th>\n",
       "      <td>B*54:01</td>\n",
       "      <td>0.003659</td>\n",
       "      <td>3.655952</td>\n",
       "      <td>8.868894e-04</td>\n",
       "      <td>0.012416</td>\n",
       "    </tr>\n",
       "    <tr>\n",
       "      <th>59</th>\n",
       "      <td>A*36:01</td>\n",
       "      <td>0.006403</td>\n",
       "      <td>0.096488</td>\n",
       "      <td>1.827591e-03</td>\n",
       "      <td>0.022743</td>\n",
       "    </tr>\n",
       "    <tr>\n",
       "      <th>2</th>\n",
       "      <td>A*24:07</td>\n",
       "      <td>0.002846</td>\n",
       "      <td>3.743891</td>\n",
       "      <td>3.079381e-03</td>\n",
       "      <td>0.034000</td>\n",
       "    </tr>\n",
       "    <tr>\n",
       "      <th>100</th>\n",
       "      <td>A*74:01</td>\n",
       "      <td>0.010469</td>\n",
       "      <td>0.320070</td>\n",
       "      <td>3.339250e-03</td>\n",
       "      <td>0.034000</td>\n",
       "    </tr>\n",
       "    <tr>\n",
       "      <th>109</th>\n",
       "      <td>B*58:02</td>\n",
       "      <td>0.007115</td>\n",
       "      <td>0.233521</td>\n",
       "      <td>4.084530e-03</td>\n",
       "      <td>0.038122</td>\n",
       "    </tr>\n",
       "    <tr>\n",
       "      <th>7</th>\n",
       "      <td>C*05:01</td>\n",
       "      <td>0.142393</td>\n",
       "      <td>0.773378</td>\n",
       "      <td>4.552528e-03</td>\n",
       "      <td>0.039222</td>\n",
       "    </tr>\n",
       "  </tbody>\n",
       "</table>\n",
       "</div>"
      ],
      "text/plain": [
       "      Allele  Allele_frequency        OR             P  P_BH_adjusted\n",
       "22   B*08:01          0.167598  1.461516  8.228516e-07       0.000092\n",
       "97   C*02:10          0.012705  0.172835  1.132717e-05       0.000634\n",
       "63   B*53:01          0.022665  0.394872  2.721334e-04       0.007385\n",
       "41   B*15:03          0.012400  0.270408  2.975389e-04       0.007385\n",
       "89   A*23:01          0.045940  0.574037  3.297058e-04       0.007385\n",
       "6    B*57:03          0.006810  0.086957  4.960796e-04       0.009260\n",
       "27   C*07:01          0.261815  1.256113  6.561299e-04       0.010498\n",
       "80   B*54:01          0.003659  3.655952  8.868894e-04       0.012416\n",
       "59   A*36:01          0.006403  0.096488  1.827591e-03       0.022743\n",
       "2    A*24:07          0.002846  3.743891  3.079381e-03       0.034000\n",
       "100  A*74:01          0.010469  0.320070  3.339250e-03       0.034000\n",
       "109  B*58:02          0.007115  0.233521  4.084530e-03       0.038122\n",
       "7    C*05:01          0.142393  0.773378  4.552528e-03       0.039222"
      ]
     },
     "execution_count": 11,
     "metadata": {},
     "output_type": "execute_result"
    }
   ],
   "source": [
    "results_df.sort_values('P_BH_adjusted').head(13)"
   ]
  },
  {
   "cell_type": "code",
   "execution_count": 95,
   "metadata": {
    "collapsed": false
   },
   "outputs": [
    {
     "data": {
      "text/plain": [
       "<matplotlib.axes._subplots.AxesSubplot at 0x7fc6d3431990>"
      ]
     },
     "execution_count": 95,
     "metadata": {},
     "output_type": "execute_result"
    },
    {
     "data": {
      "image/png": "[encoded data removed]",
      "text/plain": [
       "<matplotlib.figure.Figure at 0x7fc6d3431390>"
      ]
     },
     "metadata": {},
     "output_type": "display_data"
    }
   ],
   "source": [
    "np.log(results_df.sort_values('P_BH_adjusted').P_BH_adjusted).plot(kind='bar', color='grey')"
   ]
  },
  {
   "cell_type": "markdown",
   "metadata": {
    "collapsed": true
   },
   "source": [
    "### Do other associations depend on B*08:01? "
   ]
  },
  {
   "cell_type": "code",
   "execution_count": 16,
   "metadata": {
    "collapsed": true
   },
   "outputs": [],
   "source": [
    "allele = 'B*08:01'\n",
    "def allele_present(x):\n",
    "    if allele in list(x):\n",
    "        return True\n",
    "    else:\n",
    "        return False\n",
    "classI_types['allele_present'] = classI_types[['A1', 'A2', 'B1', 'B2', 'C1', 'C2']].apply(allele_present, axis=1)\n",
    "\n",
    "patients_with_B0801 = list(classI_types[classI_types.allele_present].index)"
   ]
  },
  {
   "cell_type": "code",
   "execution_count": 7,
   "metadata": {
    "collapsed": false
   },
   "outputs": [
    {
     "data": {
      "text/plain": [
       "1649"
      ]
     },
     "execution_count": 7,
     "metadata": {},
     "output_type": "execute_result"
    }
   ],
   "source": [
    "len(patients_with_allele)"
   ]
  },
  {
   "cell_type": "code",
   "execution_count": 14,
   "metadata": {
    "collapsed": true
   },
   "outputs": [],
   "source": [
    "significant_alleles = list(results_df.sort_values('P_BH_adjusted').head(13).Allele)[1:]"
   ]
  },
  {
   "cell_type": "code",
   "execution_count": 15,
   "metadata": {
    "collapsed": false
   },
   "outputs": [
    {
     "data": {
      "text/plain": [
       "['C*02:10',\n",
       " 'B*53:01',\n",
       " 'B*15:03',\n",
       " 'A*23:01',\n",
       " 'B*57:03',\n",
       " 'C*07:01',\n",
       " 'B*54:01',\n",
       " 'A*36:01',\n",
       " 'A*24:07',\n",
       " 'A*74:01',\n",
       " 'B*58:02',\n",
       " 'C*05:01']"
      ]
     },
     "execution_count": 15,
     "metadata": {},
     "output_type": "execute_result"
    }
   ],
   "source": [
    "significant_alleles"
   ]
  },
  {
   "cell_type": "code",
   "execution_count": 44,
   "metadata": {
    "collapsed": false
   },
   "outputs": [],
   "source": [
    "ORs, Ps, alleles_used, patient_frequency, segregation, number_positive = [], [], [], [], [], []\n",
    "association = 'with_B0801'\n",
    "for allele in significant_alleles:\n",
    "\n",
    "    def allele_present(x):\n",
    "        if allele in list(x):\n",
    "            return True\n",
    "        else:\n",
    "            return False\n",
    "    classI_types['allele_present'] = classI_types[['A1', 'A2', 'B1', 'B2', 'C1', 'C2']].apply(allele_present, axis=1)\n",
    "\n",
    "    patients_with_allele = [x for x in list(classI_types[classI_types.allele_present].index) if x in patients_with_B0801]\n",
    "\n",
    "    if len(patients_with_allele) > 2:\n",
    "        patients_without_allele = [x for x in list(classI_types[~classI_types.allele_present].index) if x in patients_with_B0801]\n",
    "\n",
    "        OR, P = sp.fisher_exact([[len([x for x in low_TAPBP_expr_patients if x in patients_with_allele]),\n",
    "                          len([x for x in low_TAPBP_expr_patients if x in patients_without_allele])],\n",
    "                         [len([x for x in high_TAPBP_expr_patients if x in patients_with_allele]),\n",
    "                          len([x for x in high_TAPBP_expr_patients if x in patients_without_allele])]])\n",
    "        ORs.append(OR)\n",
    "        Ps.append(P)\n",
    "        alleles_used.append(allele)\n",
    "        patient_frequency.append(float(len(patients_with_allele))/(len(patients_with_allele)+len(patients_without_allele)))\n",
    "        segregation.append(association)\n",
    "        number_positive.append(len(patients_with_allele))\n",
    "        \n",
    "association = 'without_B0801'\n",
    "for allele in significant_alleles:\n",
    "\n",
    "    def allele_present(x):\n",
    "        if allele in list(x):\n",
    "            return True\n",
    "        else:\n",
    "            return False\n",
    "    classI_types['allele_present'] = classI_types[['A1', 'A2', 'B1', 'B2', 'C1', 'C2']].apply(allele_present, axis=1)\n",
    "\n",
    "    patients_with_allele = [x for x in list(classI_types[classI_types.allele_present].index) if x not in patients_with_B0801]\n",
    "\n",
    "    if len(patients_with_allele) > 2:\n",
    "        patients_without_allele = [x for x in list(classI_types[~classI_types.allele_present].index) if x in patients_with_B0801]\n",
    "\n",
    "        OR, P = sp.fisher_exact([[len([x for x in low_TAPBP_expr_patients if x in patients_with_allele]),\n",
    "                          len([x for x in low_TAPBP_expr_patients if x in patients_without_allele])],\n",
    "                         [len([x for x in high_TAPBP_expr_patients if x in patients_with_allele]),\n",
    "                          len([x for x in high_TAPBP_expr_patients if x in patients_without_allele])]])\n",
    "        ORs.append(OR)\n",
    "        Ps.append(P)\n",
    "        alleles_used.append(allele)\n",
    "        patient_frequency.append(float(len(patients_with_allele))/(len(patients_with_allele)+len(patients_without_allele)))\n",
    "        segregation.append(association)\n",
    "        number_positive.append(len(patients_with_allele))"
   ]
  },
  {
   "cell_type": "code",
   "execution_count": 45,
   "metadata": {
    "collapsed": false
   },
   "outputs": [],
   "source": [
    "stats = importr('stats')\n",
    "results_df = pd.DataFrame({'Allele': alleles_used,\n",
    "                           'OR': ORs, \n",
    "                           'P': Ps,\n",
    "                           'Allele_frequency': patient_frequency,\n",
    "                           'B0801_patients': segregation,\n",
    "                           'Number_of_positive_patients': number_positive})\n",
    "results_df['P_BH_adjusted'] = stats.p_adjust(FloatVector(list(results_df.P)), method = 'BH')"
   ]
  },
  {
   "cell_type": "code",
   "execution_count": 46,
   "metadata": {
    "collapsed": false
   },
   "outputs": [
    {
     "data": {
      "text/html": [
       "<div>\n",
       "<table border=\"1\" class=\"dataframe\">\n",
       "  <thead>\n",
       "    <tr style=\"text-align: right;\">\n",
       "      <th></th>\n",
       "      <th>Allele</th>\n",
       "      <th>Allele_frequency</th>\n",
       "      <th>B0801_patients</th>\n",
       "      <th>Number_of_positive_patients</th>\n",
       "      <th>OR</th>\n",
       "      <th>P</th>\n",
       "      <th>P_BH_adjusted</th>\n",
       "    </tr>\n",
       "  </thead>\n",
       "  <tbody>\n",
       "    <tr>\n",
       "      <th>0</th>\n",
       "      <td>C*02:10</td>\n",
       "      <td>0.002426</td>\n",
       "      <td>with_B0801</td>\n",
       "      <td>4</td>\n",
       "      <td>0.000000</td>\n",
       "      <td>5.786032e-01</td>\n",
       "      <td>0.729009</td>\n",
       "    </tr>\n",
       "    <tr>\n",
       "      <th>1</th>\n",
       "      <td>B*53:01</td>\n",
       "      <td>0.003639</td>\n",
       "      <td>with_B0801</td>\n",
       "      <td>6</td>\n",
       "      <td>0.817944</td>\n",
       "      <td>1.000000e+00</td>\n",
       "      <td>1.000000</td>\n",
       "    </tr>\n",
       "    <tr>\n",
       "      <th>2</th>\n",
       "      <td>B*15:03</td>\n",
       "      <td>0.003639</td>\n",
       "      <td>with_B0801</td>\n",
       "      <td>6</td>\n",
       "      <td>0.000000</td>\n",
       "      <td>5.964619e-01</td>\n",
       "      <td>0.729009</td>\n",
       "    </tr>\n",
       "    <tr>\n",
       "      <th>3</th>\n",
       "      <td>A*23:01</td>\n",
       "      <td>0.032141</td>\n",
       "      <td>with_B0801</td>\n",
       "      <td>53</td>\n",
       "      <td>0.699614</td>\n",
       "      <td>4.731736e-01</td>\n",
       "      <td>0.729009</td>\n",
       "    </tr>\n",
       "    <tr>\n",
       "      <th>4</th>\n",
       "      <td>B*57:03</td>\n",
       "      <td>0.001819</td>\n",
       "      <td>with_B0801</td>\n",
       "      <td>3</td>\n",
       "      <td>0.000000</td>\n",
       "      <td>1.000000e+00</td>\n",
       "      <td>1.000000</td>\n",
       "    </tr>\n",
       "    <tr>\n",
       "      <th>5</th>\n",
       "      <td>C*07:01</td>\n",
       "      <td>0.964221</td>\n",
       "      <td>with_B0801</td>\n",
       "      <td>1590</td>\n",
       "      <td>0.999499</td>\n",
       "      <td>1.000000e+00</td>\n",
       "      <td>1.000000</td>\n",
       "    </tr>\n",
       "    <tr>\n",
       "      <th>6</th>\n",
       "      <td>A*36:01</td>\n",
       "      <td>0.003032</td>\n",
       "      <td>with_B0801</td>\n",
       "      <td>5</td>\n",
       "      <td>0.000000</td>\n",
       "      <td>5.786032e-01</td>\n",
       "      <td>0.729009</td>\n",
       "    </tr>\n",
       "    <tr>\n",
       "      <th>7</th>\n",
       "      <td>A*74:01</td>\n",
       "      <td>0.002426</td>\n",
       "      <td>with_B0801</td>\n",
       "      <td>4</td>\n",
       "      <td>1.639373</td>\n",
       "      <td>5.508027e-01</td>\n",
       "      <td>0.729009</td>\n",
       "    </tr>\n",
       "    <tr>\n",
       "      <th>8</th>\n",
       "      <td>B*58:02</td>\n",
       "      <td>0.002426</td>\n",
       "      <td>with_B0801</td>\n",
       "      <td>4</td>\n",
       "      <td>0.000000</td>\n",
       "      <td>1.000000e+00</td>\n",
       "      <td>1.000000</td>\n",
       "    </tr>\n",
       "    <tr>\n",
       "      <th>9</th>\n",
       "      <td>C*05:01</td>\n",
       "      <td>0.091571</td>\n",
       "      <td>with_B0801</td>\n",
       "      <td>151</td>\n",
       "      <td>0.734260</td>\n",
       "      <td>2.817584e-01</td>\n",
       "      <td>0.516557</td>\n",
       "    </tr>\n",
       "    <tr>\n",
       "      <th>10</th>\n",
       "      <td>C*02:10</td>\n",
       "      <td>0.068516</td>\n",
       "      <td>without_B0801</td>\n",
       "      <td>121</td>\n",
       "      <td>0.133078</td>\n",
       "      <td>2.994348e-07</td>\n",
       "      <td>0.000002</td>\n",
       "    </tr>\n",
       "    <tr>\n",
       "      <th>11</th>\n",
       "      <td>B*53:01</td>\n",
       "      <td>0.116667</td>\n",
       "      <td>without_B0801</td>\n",
       "      <td>217</td>\n",
       "      <td>0.279823</td>\n",
       "      <td>9.422960e-07</td>\n",
       "      <td>0.000005</td>\n",
       "    </tr>\n",
       "    <tr>\n",
       "      <th>12</th>\n",
       "      <td>B*15:03</td>\n",
       "      <td>0.065947</td>\n",
       "      <td>without_B0801</td>\n",
       "      <td>116</td>\n",
       "      <td>0.210125</td>\n",
       "      <td>1.298931e-05</td>\n",
       "      <td>0.000057</td>\n",
       "    </tr>\n",
       "    <tr>\n",
       "      <th>13</th>\n",
       "      <td>A*23:01</td>\n",
       "      <td>0.200000</td>\n",
       "      <td>without_B0801</td>\n",
       "      <td>399</td>\n",
       "      <td>0.392529</td>\n",
       "      <td>9.156520e-08</td>\n",
       "      <td>0.000002</td>\n",
       "    </tr>\n",
       "    <tr>\n",
       "      <th>14</th>\n",
       "      <td>B*57:03</td>\n",
       "      <td>0.037427</td>\n",
       "      <td>without_B0801</td>\n",
       "      <td>64</td>\n",
       "      <td>0.066681</td>\n",
       "      <td>4.695515e-05</td>\n",
       "      <td>0.000148</td>\n",
       "    </tr>\n",
       "    <tr>\n",
       "      <th>15</th>\n",
       "      <td>C*07:01</td>\n",
       "      <td>0.943541</td>\n",
       "      <td>without_B0801</td>\n",
       "      <td>986</td>\n",
       "      <td>0.671064</td>\n",
       "      <td>3.191091e-01</td>\n",
       "      <td>0.540031</td>\n",
       "    </tr>\n",
       "    <tr>\n",
       "      <th>16</th>\n",
       "      <td>B*54:01</td>\n",
       "      <td>0.021365</td>\n",
       "      <td>without_B0801</td>\n",
       "      <td>36</td>\n",
       "      <td>2.660373</td>\n",
       "      <td>1.334426e-02</td>\n",
       "      <td>0.029357</td>\n",
       "    </tr>\n",
       "    <tr>\n",
       "      <th>17</th>\n",
       "      <td>A*36:01</td>\n",
       "      <td>0.034078</td>\n",
       "      <td>without_B0801</td>\n",
       "      <td>58</td>\n",
       "      <td>0.077629</td>\n",
       "      <td>2.924193e-04</td>\n",
       "      <td>0.000804</td>\n",
       "    </tr>\n",
       "    <tr>\n",
       "      <th>18</th>\n",
       "      <td>A*24:07</td>\n",
       "      <td>0.016696</td>\n",
       "      <td>without_B0801</td>\n",
       "      <td>28</td>\n",
       "      <td>2.728588</td>\n",
       "      <td>2.253522e-02</td>\n",
       "      <td>0.045070</td>\n",
       "    </tr>\n",
       "    <tr>\n",
       "      <th>19</th>\n",
       "      <td>A*74:01</td>\n",
       "      <td>0.056766</td>\n",
       "      <td>without_B0801</td>\n",
       "      <td>99</td>\n",
       "      <td>0.202392</td>\n",
       "      <td>4.016042e-05</td>\n",
       "      <td>0.000147</td>\n",
       "    </tr>\n",
       "    <tr>\n",
       "      <th>20</th>\n",
       "      <td>B*58:02</td>\n",
       "      <td>0.038574</td>\n",
       "      <td>without_B0801</td>\n",
       "      <td>66</td>\n",
       "      <td>0.181327</td>\n",
       "      <td>5.329770e-04</td>\n",
       "      <td>0.001303</td>\n",
       "    </tr>\n",
       "    <tr>\n",
       "      <th>21</th>\n",
       "      <td>C*05:01</td>\n",
       "      <td>0.454876</td>\n",
       "      <td>without_B0801</td>\n",
       "      <td>1250</td>\n",
       "      <td>0.554107</td>\n",
       "      <td>2.298112e-07</td>\n",
       "      <td>0.000002</td>\n",
       "    </tr>\n",
       "  </tbody>\n",
       "</table>\n",
       "</div>"
      ],
      "text/plain": [
       "     Allele  Allele_frequency B0801_patients  Number_of_positive_patients  \\\n",
       "0   C*02:10          0.002426     with_B0801                            4   \n",
       "1   B*53:01          0.003639     with_B0801                            6   \n",
       "2   B*15:03          0.003639     with_B0801                            6   \n",
       "3   A*23:01          0.032141     with_B0801                           53   \n",
       "4   B*57:03          0.001819     with_B0801                            3   \n",
       "5   C*07:01          0.964221     with_B0801                         1590   \n",
       "6   A*36:01          0.003032     with_B0801                            5   \n",
       "7   A*74:01          0.002426     with_B0801                            4   \n",
       "8   B*58:02          0.002426     with_B0801                            4   \n",
       "9   C*05:01          0.091571     with_B0801                          151   \n",
       "10  C*02:10          0.068516  without_B0801                          121   \n",
       "11  B*53:01          0.116667  without_B0801                          217   \n",
       "12  B*15:03          0.065947  without_B0801                          116   \n",
       "13  A*23:01          0.200000  without_B0801                          399   \n",
       "14  B*57:03          0.037427  without_B0801                           64   \n",
       "15  C*07:01          0.943541  without_B0801                          986   \n",
       "16  B*54:01          0.021365  without_B0801                           36   \n",
       "17  A*36:01          0.034078  without_B0801                           58   \n",
       "18  A*24:07          0.016696  without_B0801                           28   \n",
       "19  A*74:01          0.056766  without_B0801                           99   \n",
       "20  B*58:02          0.038574  without_B0801                           66   \n",
       "21  C*05:01          0.454876  without_B0801                         1250   \n",
       "\n",
       "          OR             P  P_BH_adjusted  \n",
       "0   0.000000  5.786032e-01       0.729009  \n",
       "1   0.817944  1.000000e+00       1.000000  \n",
       "2   0.000000  5.964619e-01       0.729009  \n",
       "3   0.699614  4.731736e-01       0.729009  \n",
       "4   0.000000  1.000000e+00       1.000000  \n",
       "5   0.999499  1.000000e+00       1.000000  \n",
       "6   0.000000  5.786032e-01       0.729009  \n",
       "7   1.639373  5.508027e-01       0.729009  \n",
       "8   0.000000  1.000000e+00       1.000000  \n",
       "9   0.734260  2.817584e-01       0.516557  \n",
       "10  0.133078  2.994348e-07       0.000002  \n",
       "11  0.279823  9.422960e-07       0.000005  \n",
       "12  0.210125  1.298931e-05       0.000057  \n",
       "13  0.392529  9.156520e-08       0.000002  \n",
       "14  0.066681  4.695515e-05       0.000148  \n",
       "15  0.671064  3.191091e-01       0.540031  \n",
       "16  2.660373  1.334426e-02       0.029357  \n",
       "17  0.077629  2.924193e-04       0.000804  \n",
       "18  2.728588  2.253522e-02       0.045070  \n",
       "19  0.202392  4.016042e-05       0.000147  \n",
       "20  0.181327  5.329770e-04       0.001303  \n",
       "21  0.554107  2.298112e-07       0.000002  "
      ]
     },
     "execution_count": 46,
     "metadata": {},
     "output_type": "execute_result"
    }
   ],
   "source": [
    "results_df"
   ]
  },
  {
   "cell_type": "code",
   "execution_count": null,
   "metadata": {
    "collapsed": true
   },
   "outputs": [],
   "source": []
  }
 ],
 "metadata": {
  "kernelspec": {
   "display_name": "Python 2",
   "language": "python",
   "name": "python2"
  },
  "language_info": {
   "codemirror_mode": {
    "name": "ipython",
    "version": 2
   },
   "file_extension": ".py",
   "mimetype": "text/x-python",
   "name": "python",
   "nbconvert_exporter": "python",
   "pygments_lexer": "ipython2",
   "version": "2.7.14"
  }
 },
 "nbformat": 4,
 "nbformat_minor": 0
}
