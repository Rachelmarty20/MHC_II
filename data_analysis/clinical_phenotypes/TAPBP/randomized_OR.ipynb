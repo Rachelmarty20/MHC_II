{
 "cells": [
  {
   "cell_type": "code",
   "execution_count": 2,
   "metadata": {
    "collapsed": false
   },
   "outputs": [
    {
     "name": "stdout",
     "output_type": "stream",
     "text": [
      "Populating the interactive namespace from numpy and matplotlib\n"
     ]
    }
   ],
   "source": [
    "import io\n",
    "from IPython.nbformat import current\n",
    "def execute_notebook(nbfile):\n",
    "    with io.open(nbfile) as f:\n",
    "        nb = current.read(f, 'json')\n",
    "    ip = get_ipython()\n",
    "    for cell in nb.worksheets[0].cells:\n",
    "        if cell.cell_type != 'code':\n",
    "            continue\n",
    "        ip.run_cell(cell.input)\n",
    "execute_notebook(\"/cellar/users/ramarty/Projects/hla_ii/bin/imports.ipynb\")"
   ]
  },
  {
   "cell_type": "markdown",
   "metadata": {},
   "source": [
    "# Exploring the relationship between low/high tapasin expressers and HLA genotype <br>\n",
    "Hypothesis: Since the functional relationship between these genes is important and they come from the same region of the genome, we think there may be a germline relationship <br>\n",
    "Approach: Test all HLA genotypes with expression to see if there is enrichement (fisher's exact test) <br>\n",
    "Data: MHC-I/MHC-II typing; tapasin expression is from Su Xian"
   ]
  },
  {
   "cell_type": "markdown",
   "metadata": {},
   "source": [
    "Tapasin expression groups"
   ]
  },
  {
   "cell_type": "code",
   "execution_count": 16,
   "metadata": {
    "collapsed": false
   },
   "outputs": [],
   "source": [
    "df = pd.read_csv('/cellar/users/ramarty/Data/hla_ii/clinical/TAPBP/TAPBP_expression.csv', header=None, sep='\\t')\n",
    "df.columns = ['Patient', 'TAPBP']"
   ]
  },
  {
   "cell_type": "code",
   "execution_count": 17,
   "metadata": {
    "collapsed": false
   },
   "outputs": [],
   "source": [
    "low_TAPBP_expr_digits = [x.strip() for x in open('/cellar/users/ramarty/Data/hla_ii/clinical/TAPBP/Low_TAPBP.txt').readlines()]\n",
    "high_TAPBP_expr_digits = [x.strip() for x in open('/cellar/users/ramarty/Data/hla_ii/clinical/TAPBP/High_TAPBP.txt').readlines()]"
   ]
  },
  {
   "cell_type": "code",
   "execution_count": 18,
   "metadata": {
    "collapsed": false
   },
   "outputs": [
    {
     "name": "stdout",
     "output_type": "stream",
     "text": [
      "1533 6940\n"
     ]
    }
   ],
   "source": [
    "print len(low_TAPBP_expr_digits), len(high_TAPBP_expr_digits)"
   ]
  },
  {
   "cell_type": "markdown",
   "metadata": {},
   "source": [
    "HLA genotypes"
   ]
  },
  {
   "cell_type": "code",
   "execution_count": 19,
   "metadata": {
    "collapsed": true
   },
   "outputs": [],
   "source": [
    "classI_types = pd.read_csv('/cellar/users/ramarty/Data/hla/hla_typing/sample_and_types.with_homomzygous.csv', index_col=0)\n",
    "classI_types.index = list(classI_types['Sample'])\n",
    "classII_types = pd.read_csv('/cellar/users/ramarty/Data/hla_ii/hla_types/hla_types.tcga.csv', index_col=0)"
   ]
  },
  {
   "cell_type": "markdown",
   "metadata": {},
   "source": [
    "Restricting high/low tapasin expression to patients with types"
   ]
  },
  {
   "cell_type": "code",
   "execution_count": 20,
   "metadata": {
    "collapsed": false
   },
   "outputs": [
    {
     "name": "stderr",
     "output_type": "stream",
     "text": [
      "/cellar/users/ramarty/anaconda/lib/python2.7/site-packages/IPython/kernel/__main__.py:4: SettingWithCopyWarning: \n",
      "A value is trying to be set on a copy of a slice from a DataFrame.\n",
      "Try using .loc[row_indexer,col_indexer] = value instead\n",
      "\n",
      "See the caveats in the documentation: http://pandas.pydata.org/pandas-docs/stable/indexing.html#indexing-view-versus-copy\n"
     ]
    }
   ],
   "source": [
    "restricted = classI_types[['Sample']]\n",
    "def get_last_four_digits(x):\n",
    "    return x[-4:]\n",
    "restricted['last_four'] = classI_types['Sample'].apply(get_last_four_digits)\n",
    "restricted = restricted[restricted.last_four.isin(low_TAPBP_expr_digits+high_TAPBP_expr_digits)]\n",
    "def get_expression(x):\n",
    "    if x in low_TAPBP_expr_digits:\n",
    "        return 'low'\n",
    "    elif x in high_TAPBP_expr_digits:\n",
    "        return 'high'\n",
    "    else:\n",
    "        return 'med'\n",
    "restricted['expression'] = restricted.last_four.apply(get_expression)"
   ]
  },
  {
   "cell_type": "code",
   "execution_count": 21,
   "metadata": {
    "collapsed": false
   },
   "outputs": [
    {
     "data": {
      "text/plain": [
       "high    6140\n",
       "low     1374\n",
       "Name: expression, dtype: int64"
      ]
     },
     "execution_count": 21,
     "metadata": {},
     "output_type": "execute_result"
    }
   ],
   "source": [
    "restricted.expression.value_counts()"
   ]
  },
  {
   "cell_type": "code",
   "execution_count": 22,
   "metadata": {
    "collapsed": false,
    "scrolled": true
   },
   "outputs": [],
   "source": [
    "low_TAPBP_expr_patients = list(restricted[restricted.expression == 'low'].Sample)\n",
    "high_TAPBP_expr_patients = list(restricted[restricted.expression == 'high'].Sample)"
   ]
  },
  {
   "cell_type": "markdown",
   "metadata": {},
   "source": [
    "Actual analysis"
   ]
  },
  {
   "cell_type": "code",
   "execution_count": 23,
   "metadata": {
    "collapsed": false
   },
   "outputs": [
    {
     "name": "stdout",
     "output_type": "stream",
     "text": [
      "245\n"
     ]
    }
   ],
   "source": [
    "all_alleles = list(set(list(classI_types.A1)+list(classI_types.A2)+\n",
    "                      list(classI_types.B1)+list(classI_types.B2)+\n",
    "                      list(classI_types.C1)+list(classI_types.C2)))\n",
    "print len(all_alleles)"
   ]
  },
  {
   "cell_type": "code",
   "execution_count": 24,
   "metadata": {
    "collapsed": false
   },
   "outputs": [
    {
     "data": {
      "text/plain": [
       "(1374, 6140)"
      ]
     },
     "execution_count": 24,
     "metadata": {},
     "output_type": "execute_result"
    }
   ],
   "source": [
    "len(low_TAPBP_expr_patients), len(high_TAPBP_expr_patients)"
   ]
  },
  {
   "cell_type": "code",
   "execution_count": 25,
   "metadata": {
    "collapsed": false
   },
   "outputs": [
    {
     "data": {
      "text/plain": [
       "7514"
      ]
     },
     "execution_count": 25,
     "metadata": {},
     "output_type": "execute_result"
    }
   ],
   "source": [
    "len(restricted)"
   ]
  },
  {
   "cell_type": "code",
   "execution_count": 28,
   "metadata": {
    "collapsed": false
   },
   "outputs": [
    {
     "name": "stdout",
     "output_type": "stream",
     "text": [
      "1374 6140\n"
     ]
    }
   ],
   "source": [
    "low_TAPBP_expr_patients = list(restricted.sample(1374).Sample)\n",
    "high_TAPBP_expr_patients = [x for x in list(restricted.Sample) if x not in low_TAPBP_expr_patients]\n",
    "print len(low_TAPBP_expr_patients), len(high_TAPBP_expr_patients)"
   ]
  },
  {
   "cell_type": "code",
   "execution_count": 29,
   "metadata": {
    "collapsed": false
   },
   "outputs": [
    {
     "name": "stdout",
     "output_type": "stream",
     "text": [
      "0\n",
      "10\n",
      "20\n",
      "30\n",
      "40\n",
      "50\n",
      "60\n",
      "70\n",
      "80\n",
      "90\n",
      "100\n",
      "110\n",
      "120\n",
      "130\n",
      "140\n",
      "150\n",
      "160\n",
      "170\n",
      "180\n",
      "190\n",
      "200\n",
      "210\n",
      "220\n",
      "230\n",
      "240\n"
     ]
    }
   ],
   "source": [
    "ORs, Ps, alleles_used, patient_frequency = [], [], [], []\n",
    "for i, allele in enumerate(all_alleles):\n",
    "    \n",
    "    if i % 10 == 0:\n",
    "        print i\n",
    "    def allele_present(x):\n",
    "        if allele in list(x):\n",
    "            return True\n",
    "        else:\n",
    "            return False\n",
    "    classI_types['allele_present'] = classI_types[['A1', 'A2', 'B1', 'B2', 'C1', 'C2']].apply(allele_present, axis=1)\n",
    "    \n",
    "    patients_with_allele = list(classI_types[classI_types.allele_present].index)\n",
    "    \n",
    "    if len(patients_with_allele) > 25:\n",
    "        patients_without_allele = list(classI_types[~classI_types.allele_present].index)\n",
    "    \n",
    "        OR, P = sp.fisher_exact([[len([x for x in low_TAPBP_expr_patients if x in patients_with_allele]),\n",
    "                          len([x for x in low_TAPBP_expr_patients if x in patients_without_allele])],\n",
    "                         [len([x for x in high_TAPBP_expr_patients if x in patients_with_allele]),\n",
    "                          len([x for x in high_TAPBP_expr_patients if x in patients_without_allele])]])\n",
    "        ORs.append(OR)\n",
    "        Ps.append(P)\n",
    "        alleles_used.append(allele)\n",
    "        patient_frequency.append(float(len(patients_with_allele))/(len(patients_with_allele)+len(patients_without_allele)))"
   ]
  },
  {
   "cell_type": "code",
   "execution_count": 30,
   "metadata": {
    "collapsed": false,
    "scrolled": true
   },
   "outputs": [
    {
     "name": "stdout",
     "output_type": "stream",
     "text": [
      "112\n"
     ]
    }
   ],
   "source": [
    "results_df = pd.DataFrame({'Allele': alleles_used,\n",
    "                           'OR': ORs, \n",
    "                           'P': Ps,\n",
    "                           'Allele_frequency': patient_frequency})\n",
    "print len(results_df)"
   ]
  },
  {
   "cell_type": "code",
   "execution_count": 31,
   "metadata": {
    "collapsed": true
   },
   "outputs": [],
   "source": [
    "stats = importr('stats')\n",
    "results_df['P_BH_adjusted'] = stats.p_adjust(FloatVector(list(results_df.P)), method = 'BH')"
   ]
  },
  {
   "cell_type": "code",
   "execution_count": 33,
   "metadata": {
    "collapsed": false,
    "scrolled": true
   },
   "outputs": [
    {
     "data": {
      "text/html": [
       "<div>\n",
       "<table border=\"1\" class=\"dataframe\">\n",
       "  <thead>\n",
       "    <tr style=\"text-align: right;\">\n",
       "      <th></th>\n",
       "      <th>Allele</th>\n",
       "      <th>Allele_frequency</th>\n",
       "      <th>OR</th>\n",
       "      <th>P</th>\n",
       "      <th>P_BH_adjusted</th>\n",
       "    </tr>\n",
       "  </thead>\n",
       "  <tbody>\n",
       "    <tr>\n",
       "      <th>111</th>\n",
       "      <td>C*02:02</td>\n",
       "      <td>0.079988</td>\n",
       "      <td>1.266524</td>\n",
       "      <td>0.027259</td>\n",
       "      <td>0.559564</td>\n",
       "    </tr>\n",
       "    <tr>\n",
       "      <th>68</th>\n",
       "      <td>A*02:07</td>\n",
       "      <td>0.007115</td>\n",
       "      <td>1.891946</td>\n",
       "      <td>0.049324</td>\n",
       "      <td>0.559564</td>\n",
       "    </tr>\n",
       "    <tr>\n",
       "      <th>71</th>\n",
       "      <td>A*02:02</td>\n",
       "      <td>0.009351</td>\n",
       "      <td>0.423072</td>\n",
       "      <td>0.040732</td>\n",
       "      <td>0.559564</td>\n",
       "    </tr>\n",
       "    <tr>\n",
       "      <th>93</th>\n",
       "      <td>B*56:01</td>\n",
       "      <td>0.013619</td>\n",
       "      <td>1.684477</td>\n",
       "      <td>0.019531</td>\n",
       "      <td>0.559564</td>\n",
       "    </tr>\n",
       "    <tr>\n",
       "      <th>30</th>\n",
       "      <td>C*08:02</td>\n",
       "      <td>0.060169</td>\n",
       "      <td>0.758736</td>\n",
       "      <td>0.041565</td>\n",
       "      <td>0.559564</td>\n",
       "    </tr>\n",
       "    <tr>\n",
       "      <th>49</th>\n",
       "      <td>A*30:02</td>\n",
       "      <td>0.025612</td>\n",
       "      <td>0.627990</td>\n",
       "      <td>0.032850</td>\n",
       "      <td>0.559564</td>\n",
       "    </tr>\n",
       "    <tr>\n",
       "      <th>48</th>\n",
       "      <td>B*46:01</td>\n",
       "      <td>0.009757</td>\n",
       "      <td>1.833936</td>\n",
       "      <td>0.023910</td>\n",
       "      <td>0.559564</td>\n",
       "    </tr>\n",
       "    <tr>\n",
       "      <th>23</th>\n",
       "      <td>B*18:01</td>\n",
       "      <td>0.092591</td>\n",
       "      <td>1.215660</td>\n",
       "      <td>0.049961</td>\n",
       "      <td>0.559564</td>\n",
       "    </tr>\n",
       "    <tr>\n",
       "      <th>83</th>\n",
       "      <td>B*44:05</td>\n",
       "      <td>0.005082</td>\n",
       "      <td>2.336370</td>\n",
       "      <td>0.018399</td>\n",
       "      <td>0.559564</td>\n",
       "    </tr>\n",
       "    <tr>\n",
       "      <th>14</th>\n",
       "      <td>B*39:06</td>\n",
       "      <td>0.016465</td>\n",
       "      <td>1.575780</td>\n",
       "      <td>0.044486</td>\n",
       "      <td>0.559564</td>\n",
       "    </tr>\n",
       "    <tr>\n",
       "      <th>63</th>\n",
       "      <td>B*53:01</td>\n",
       "      <td>0.022665</td>\n",
       "      <td>0.658804</td>\n",
       "      <td>0.070874</td>\n",
       "      <td>0.721630</td>\n",
       "    </tr>\n",
       "    <tr>\n",
       "      <th>91</th>\n",
       "      <td>A*29:02</td>\n",
       "      <td>0.048277</td>\n",
       "      <td>1.227400</td>\n",
       "      <td>0.126468</td>\n",
       "      <td>0.766067</td>\n",
       "    </tr>\n",
       "    <tr>\n",
       "      <th>99</th>\n",
       "      <td>B*81:01</td>\n",
       "      <td>0.003761</td>\n",
       "      <td>1.833566</td>\n",
       "      <td>0.157317</td>\n",
       "      <td>0.766067</td>\n",
       "    </tr>\n",
       "    <tr>\n",
       "      <th>33</th>\n",
       "      <td>C*01:02</td>\n",
       "      <td>0.082325</td>\n",
       "      <td>1.168771</td>\n",
       "      <td>0.131645</td>\n",
       "      <td>0.766067</td>\n",
       "    </tr>\n",
       "    <tr>\n",
       "      <th>87</th>\n",
       "      <td>B*37:01</td>\n",
       "      <td>0.032727</td>\n",
       "      <td>1.277225</td>\n",
       "      <td>0.126569</td>\n",
       "      <td>0.766067</td>\n",
       "    </tr>\n",
       "    <tr>\n",
       "      <th>77</th>\n",
       "      <td>A*69:01</td>\n",
       "      <td>0.003456</td>\n",
       "      <td>1.991866</td>\n",
       "      <td>0.122429</td>\n",
       "      <td>0.766067</td>\n",
       "    </tr>\n",
       "    <tr>\n",
       "      <th>8</th>\n",
       "      <td>B*41:01</td>\n",
       "      <td>0.012400</td>\n",
       "      <td>0.592266</td>\n",
       "      <td>0.093633</td>\n",
       "      <td>0.766067</td>\n",
       "    </tr>\n",
       "    <tr>\n",
       "      <th>53</th>\n",
       "      <td>B*14:01</td>\n",
       "      <td>0.016262</td>\n",
       "      <td>0.664308</td>\n",
       "      <td>0.157088</td>\n",
       "      <td>0.766067</td>\n",
       "    </tr>\n",
       "    <tr>\n",
       "      <th>6</th>\n",
       "      <td>B*57:03</td>\n",
       "      <td>0.006810</td>\n",
       "      <td>0.473478</td>\n",
       "      <td>0.146988</td>\n",
       "      <td>0.766067</td>\n",
       "    </tr>\n",
       "    <tr>\n",
       "      <th>5</th>\n",
       "      <td>B*57:01</td>\n",
       "      <td>0.054071</td>\n",
       "      <td>0.797588</td>\n",
       "      <td>0.120397</td>\n",
       "      <td>0.766067</td>\n",
       "    </tr>\n",
       "    <tr>\n",
       "      <th>54</th>\n",
       "      <td>B*14:02</td>\n",
       "      <td>0.047058</td>\n",
       "      <td>0.795017</td>\n",
       "      <td>0.130898</td>\n",
       "      <td>0.766067</td>\n",
       "    </tr>\n",
       "    <tr>\n",
       "      <th>51</th>\n",
       "      <td>C*03:02</td>\n",
       "      <td>0.015042</td>\n",
       "      <td>0.653378</td>\n",
       "      <td>0.147233</td>\n",
       "      <td>0.766067</td>\n",
       "    </tr>\n",
       "    <tr>\n",
       "      <th>94</th>\n",
       "      <td>B*42:01</td>\n",
       "      <td>0.013721</td>\n",
       "      <td>1.478678</td>\n",
       "      <td>0.092780</td>\n",
       "      <td>0.766067</td>\n",
       "    </tr>\n",
       "    <tr>\n",
       "      <th>3</th>\n",
       "      <td>B*38:02</td>\n",
       "      <td>0.004472</td>\n",
       "      <td>0.417670</td>\n",
       "      <td>0.186545</td>\n",
       "      <td>0.870544</td>\n",
       "    </tr>\n",
       "    <tr>\n",
       "      <th>29</th>\n",
       "      <td>C*07:04</td>\n",
       "      <td>0.031406</td>\n",
       "      <td>1.231534</td>\n",
       "      <td>0.222667</td>\n",
       "      <td>0.890667</td>\n",
       "    </tr>\n",
       "    <tr>\n",
       "      <th>64</th>\n",
       "      <td>C*14:02</td>\n",
       "      <td>0.028560</td>\n",
       "      <td>0.779095</td>\n",
       "      <td>0.216059</td>\n",
       "      <td>0.890667</td>\n",
       "    </tr>\n",
       "    <tr>\n",
       "      <th>16</th>\n",
       "      <td>B*40:06</td>\n",
       "      <td>0.003252</td>\n",
       "      <td>0.371477</td>\n",
       "      <td>0.207580</td>\n",
       "      <td>0.890667</td>\n",
       "    </tr>\n",
       "    <tr>\n",
       "      <th>12</th>\n",
       "      <td>A*68:01</td>\n",
       "      <td>0.071145</td>\n",
       "      <td>1.150049</td>\n",
       "      <td>0.221646</td>\n",
       "      <td>0.890667</td>\n",
       "    </tr>\n",
       "    <tr>\n",
       "      <th>50</th>\n",
       "      <td>C*03:03</td>\n",
       "      <td>0.086289</td>\n",
       "      <td>1.126932</td>\n",
       "      <td>0.242012</td>\n",
       "      <td>0.932776</td>\n",
       "    </tr>\n",
       "    <tr>\n",
       "      <th>70</th>\n",
       "      <td>A*02:01</td>\n",
       "      <td>0.417929</td>\n",
       "      <td>0.932173</td>\n",
       "      <td>0.249851</td>\n",
       "      <td>0.932776</td>\n",
       "    </tr>\n",
       "    <tr>\n",
       "      <th>...</th>\n",
       "      <td>...</td>\n",
       "      <td>...</td>\n",
       "      <td>...</td>\n",
       "      <td>...</td>\n",
       "      <td>...</td>\n",
       "    </tr>\n",
       "    <tr>\n",
       "      <th>7</th>\n",
       "      <td>C*05:01</td>\n",
       "      <td>0.142393</td>\n",
       "      <td>0.943763</td>\n",
       "      <td>0.519517</td>\n",
       "      <td>1.000000</td>\n",
       "    </tr>\n",
       "    <tr>\n",
       "      <th>4</th>\n",
       "      <td>B*38:01</td>\n",
       "      <td>0.040655</td>\n",
       "      <td>0.967853</td>\n",
       "      <td>0.879574</td>\n",
       "      <td>1.000000</td>\n",
       "    </tr>\n",
       "    <tr>\n",
       "      <th>2</th>\n",
       "      <td>A*24:07</td>\n",
       "      <td>0.002846</td>\n",
       "      <td>0.993025</td>\n",
       "      <td>1.000000</td>\n",
       "      <td>1.000000</td>\n",
       "    </tr>\n",
       "    <tr>\n",
       "      <th>1</th>\n",
       "      <td>A*24:03</td>\n",
       "      <td>0.004574</td>\n",
       "      <td>0.924229</td>\n",
       "      <td>1.000000</td>\n",
       "      <td>1.000000</td>\n",
       "    </tr>\n",
       "    <tr>\n",
       "      <th>28</th>\n",
       "      <td>C*07:02</td>\n",
       "      <td>0.240777</td>\n",
       "      <td>0.934290</td>\n",
       "      <td>0.346112</td>\n",
       "      <td>1.000000</td>\n",
       "    </tr>\n",
       "    <tr>\n",
       "      <th>31</th>\n",
       "      <td>C*07:06</td>\n",
       "      <td>0.003354</td>\n",
       "      <td>0.930728</td>\n",
       "      <td>1.000000</td>\n",
       "      <td>1.000000</td>\n",
       "    </tr>\n",
       "    <tr>\n",
       "      <th>32</th>\n",
       "      <td>B*55:01</td>\n",
       "      <td>0.026934</td>\n",
       "      <td>1.205639</td>\n",
       "      <td>0.295073</td>\n",
       "      <td>1.000000</td>\n",
       "    </tr>\n",
       "    <tr>\n",
       "      <th>34</th>\n",
       "      <td>C*04:01</td>\n",
       "      <td>0.220653</td>\n",
       "      <td>1.006592</td>\n",
       "      <td>0.942666</td>\n",
       "      <td>1.000000</td>\n",
       "    </tr>\n",
       "    <tr>\n",
       "      <th>60</th>\n",
       "      <td>B*15:16</td>\n",
       "      <td>0.004472</td>\n",
       "      <td>0.837171</td>\n",
       "      <td>0.834729</td>\n",
       "      <td>1.000000</td>\n",
       "    </tr>\n",
       "    <tr>\n",
       "      <th>59</th>\n",
       "      <td>A*36:01</td>\n",
       "      <td>0.006403</td>\n",
       "      <td>0.780907</td>\n",
       "      <td>0.705031</td>\n",
       "      <td>1.000000</td>\n",
       "    </tr>\n",
       "    <tr>\n",
       "      <th>58</th>\n",
       "      <td>B*41:02</td>\n",
       "      <td>0.005895</td>\n",
       "      <td>1.051761</td>\n",
       "      <td>0.842504</td>\n",
       "      <td>1.000000</td>\n",
       "    </tr>\n",
       "    <tr>\n",
       "      <th>57</th>\n",
       "      <td>B*15:10</td>\n",
       "      <td>0.007115</td>\n",
       "      <td>1.118209</td>\n",
       "      <td>0.737163</td>\n",
       "      <td>1.000000</td>\n",
       "    </tr>\n",
       "    <tr>\n",
       "      <th>56</th>\n",
       "      <td>A*01:01</td>\n",
       "      <td>0.254599</td>\n",
       "      <td>1.000666</td>\n",
       "      <td>1.000000</td>\n",
       "      <td>1.000000</td>\n",
       "    </tr>\n",
       "    <tr>\n",
       "      <th>110</th>\n",
       "      <td>B*47:01</td>\n",
       "      <td>0.003761</td>\n",
       "      <td>0.581962</td>\n",
       "      <td>0.609178</td>\n",
       "      <td>1.000000</td>\n",
       "    </tr>\n",
       "    <tr>\n",
       "      <th>52</th>\n",
       "      <td>C*08:01</td>\n",
       "      <td>0.013924</td>\n",
       "      <td>0.981869</td>\n",
       "      <td>1.000000</td>\n",
       "      <td>1.000000</td>\n",
       "    </tr>\n",
       "    <tr>\n",
       "      <th>47</th>\n",
       "      <td>A*30:01</td>\n",
       "      <td>0.035776</td>\n",
       "      <td>1.063464</td>\n",
       "      <td>0.689185</td>\n",
       "      <td>1.000000</td>\n",
       "    </tr>\n",
       "    <tr>\n",
       "      <th>46</th>\n",
       "      <td>A*30:04</td>\n",
       "      <td>0.005082</td>\n",
       "      <td>1.042916</td>\n",
       "      <td>0.833601</td>\n",
       "      <td>1.000000</td>\n",
       "    </tr>\n",
       "    <tr>\n",
       "      <th>62</th>\n",
       "      <td>B*15:18</td>\n",
       "      <td>0.004879</td>\n",
       "      <td>0.977414</td>\n",
       "      <td>1.000000</td>\n",
       "      <td>1.000000</td>\n",
       "    </tr>\n",
       "    <tr>\n",
       "      <th>45</th>\n",
       "      <td>A*11:01</td>\n",
       "      <td>0.110987</td>\n",
       "      <td>0.932981</td>\n",
       "      <td>0.507315</td>\n",
       "      <td>1.000000</td>\n",
       "    </tr>\n",
       "    <tr>\n",
       "      <th>43</th>\n",
       "      <td>B*15:01</td>\n",
       "      <td>0.098181</td>\n",
       "      <td>0.966293</td>\n",
       "      <td>0.764738</td>\n",
       "      <td>1.000000</td>\n",
       "    </tr>\n",
       "    <tr>\n",
       "      <th>42</th>\n",
       "      <td>B*15:02</td>\n",
       "      <td>0.009046</td>\n",
       "      <td>1.137614</td>\n",
       "      <td>0.650462</td>\n",
       "      <td>1.000000</td>\n",
       "    </tr>\n",
       "    <tr>\n",
       "      <th>41</th>\n",
       "      <td>B*15:03</td>\n",
       "      <td>0.012400</td>\n",
       "      <td>0.934452</td>\n",
       "      <td>0.898521</td>\n",
       "      <td>1.000000</td>\n",
       "    </tr>\n",
       "    <tr>\n",
       "      <th>40</th>\n",
       "      <td>B*35:02</td>\n",
       "      <td>0.021242</td>\n",
       "      <td>0.937762</td>\n",
       "      <td>0.839668</td>\n",
       "      <td>1.000000</td>\n",
       "    </tr>\n",
       "    <tr>\n",
       "      <th>39</th>\n",
       "      <td>B*35:03</td>\n",
       "      <td>0.029881</td>\n",
       "      <td>1.133937</td>\n",
       "      <td>0.434707</td>\n",
       "      <td>1.000000</td>\n",
       "    </tr>\n",
       "    <tr>\n",
       "      <th>38</th>\n",
       "      <td>B*35:01</td>\n",
       "      <td>0.121659</td>\n",
       "      <td>0.977027</td>\n",
       "      <td>0.819430</td>\n",
       "      <td>1.000000</td>\n",
       "    </tr>\n",
       "    <tr>\n",
       "      <th>37</th>\n",
       "      <td>B*35:08</td>\n",
       "      <td>0.009046</td>\n",
       "      <td>1.140410</td>\n",
       "      <td>0.628370</td>\n",
       "      <td>1.000000</td>\n",
       "    </tr>\n",
       "    <tr>\n",
       "      <th>36</th>\n",
       "      <td>A*26:01</td>\n",
       "      <td>0.059457</td>\n",
       "      <td>0.985263</td>\n",
       "      <td>0.949208</td>\n",
       "      <td>1.000000</td>\n",
       "    </tr>\n",
       "    <tr>\n",
       "      <th>35</th>\n",
       "      <td>C*04:03</td>\n",
       "      <td>0.003659</td>\n",
       "      <td>0.714161</td>\n",
       "      <td>0.637921</td>\n",
       "      <td>1.000000</td>\n",
       "    </tr>\n",
       "    <tr>\n",
       "      <th>44</th>\n",
       "      <td>C*03:04</td>\n",
       "      <td>0.126131</td>\n",
       "      <td>1.020331</td>\n",
       "      <td>0.823556</td>\n",
       "      <td>1.000000</td>\n",
       "    </tr>\n",
       "    <tr>\n",
       "      <th>55</th>\n",
       "      <td>C*15:02</td>\n",
       "      <td>0.053461</td>\n",
       "      <td>0.935419</td>\n",
       "      <td>0.685053</td>\n",
       "      <td>1.000000</td>\n",
       "    </tr>\n",
       "  </tbody>\n",
       "</table>\n",
       "<p>112 rows × 5 columns</p>\n",
       "</div>"
      ],
      "text/plain": [
       "      Allele  Allele_frequency        OR         P  P_BH_adjusted\n",
       "111  C*02:02          0.079988  1.266524  0.027259       0.559564\n",
       "68   A*02:07          0.007115  1.891946  0.049324       0.559564\n",
       "71   A*02:02          0.009351  0.423072  0.040732       0.559564\n",
       "93   B*56:01          0.013619  1.684477  0.019531       0.559564\n",
       "30   C*08:02          0.060169  0.758736  0.041565       0.559564\n",
       "49   A*30:02          0.025612  0.627990  0.032850       0.559564\n",
       "48   B*46:01          0.009757  1.833936  0.023910       0.559564\n",
       "23   B*18:01          0.092591  1.215660  0.049961       0.559564\n",
       "83   B*44:05          0.005082  2.336370  0.018399       0.559564\n",
       "14   B*39:06          0.016465  1.575780  0.044486       0.559564\n",
       "63   B*53:01          0.022665  0.658804  0.070874       0.721630\n",
       "91   A*29:02          0.048277  1.227400  0.126468       0.766067\n",
       "99   B*81:01          0.003761  1.833566  0.157317       0.766067\n",
       "33   C*01:02          0.082325  1.168771  0.131645       0.766067\n",
       "87   B*37:01          0.032727  1.277225  0.126569       0.766067\n",
       "77   A*69:01          0.003456  1.991866  0.122429       0.766067\n",
       "8    B*41:01          0.012400  0.592266  0.093633       0.766067\n",
       "53   B*14:01          0.016262  0.664308  0.157088       0.766067\n",
       "6    B*57:03          0.006810  0.473478  0.146988       0.766067\n",
       "5    B*57:01          0.054071  0.797588  0.120397       0.766067\n",
       "54   B*14:02          0.047058  0.795017  0.130898       0.766067\n",
       "51   C*03:02          0.015042  0.653378  0.147233       0.766067\n",
       "94   B*42:01          0.013721  1.478678  0.092780       0.766067\n",
       "3    B*38:02          0.004472  0.417670  0.186545       0.870544\n",
       "29   C*07:04          0.031406  1.231534  0.222667       0.890667\n",
       "64   C*14:02          0.028560  0.779095  0.216059       0.890667\n",
       "16   B*40:06          0.003252  0.371477  0.207580       0.890667\n",
       "12   A*68:01          0.071145  1.150049  0.221646       0.890667\n",
       "50   C*03:03          0.086289  1.126932  0.242012       0.932776\n",
       "70   A*02:01          0.417929  0.932173  0.249851       0.932776\n",
       "..       ...               ...       ...       ...            ...\n",
       "7    C*05:01          0.142393  0.943763  0.519517       1.000000\n",
       "4    B*38:01          0.040655  0.967853  0.879574       1.000000\n",
       "2    A*24:07          0.002846  0.993025  1.000000       1.000000\n",
       "1    A*24:03          0.004574  0.924229  1.000000       1.000000\n",
       "28   C*07:02          0.240777  0.934290  0.346112       1.000000\n",
       "31   C*07:06          0.003354  0.930728  1.000000       1.000000\n",
       "32   B*55:01          0.026934  1.205639  0.295073       1.000000\n",
       "34   C*04:01          0.220653  1.006592  0.942666       1.000000\n",
       "60   B*15:16          0.004472  0.837171  0.834729       1.000000\n",
       "59   A*36:01          0.006403  0.780907  0.705031       1.000000\n",
       "58   B*41:02          0.005895  1.051761  0.842504       1.000000\n",
       "57   B*15:10          0.007115  1.118209  0.737163       1.000000\n",
       "56   A*01:01          0.254599  1.000666  1.000000       1.000000\n",
       "110  B*47:01          0.003761  0.581962  0.609178       1.000000\n",
       "52   C*08:01          0.013924  0.981869  1.000000       1.000000\n",
       "47   A*30:01          0.035776  1.063464  0.689185       1.000000\n",
       "46   A*30:04          0.005082  1.042916  0.833601       1.000000\n",
       "62   B*15:18          0.004879  0.977414  1.000000       1.000000\n",
       "45   A*11:01          0.110987  0.932981  0.507315       1.000000\n",
       "43   B*15:01          0.098181  0.966293  0.764738       1.000000\n",
       "42   B*15:02          0.009046  1.137614  0.650462       1.000000\n",
       "41   B*15:03          0.012400  0.934452  0.898521       1.000000\n",
       "40   B*35:02          0.021242  0.937762  0.839668       1.000000\n",
       "39   B*35:03          0.029881  1.133937  0.434707       1.000000\n",
       "38   B*35:01          0.121659  0.977027  0.819430       1.000000\n",
       "37   B*35:08          0.009046  1.140410  0.628370       1.000000\n",
       "36   A*26:01          0.059457  0.985263  0.949208       1.000000\n",
       "35   C*04:03          0.003659  0.714161  0.637921       1.000000\n",
       "44   C*03:04          0.126131  1.020331  0.823556       1.000000\n",
       "55   C*15:02          0.053461  0.935419  0.685053       1.000000\n",
       "\n",
       "[112 rows x 5 columns]"
      ]
     },
     "execution_count": 33,
     "metadata": {},
     "output_type": "execute_result"
    }
   ],
   "source": [
    "results_df.sort_values('P_BH_adjusted')"
   ]
  },
  {
   "cell_type": "code",
   "execution_count": 34,
   "metadata": {
    "collapsed": false
   },
   "outputs": [],
   "source": [
    "results_df.sort_values('P_BH_adjusted').to_csv('/cellar/users/ramarty/Data/hla_ii/generated_data/TAPBP/tapasin_hla_genotype.fisher_exact_results.randomized.csv')"
   ]
  },
  {
   "cell_type": "code",
   "execution_count": null,
   "metadata": {
    "collapsed": true
   },
   "outputs": [],
   "source": []
  }
 ],
 "metadata": {
  "kernelspec": {
   "display_name": "Python 2",
   "language": "python",
   "name": "python2"
  },
  "language_info": {
   "codemirror_mode": {
    "name": "ipython",
    "version": 2
   },
   "file_extension": ".py",
   "mimetype": "text/x-python",
   "name": "python",
   "nbconvert_exporter": "python",
   "pygments_lexer": "ipython2",
   "version": "2.7.14"
  }
 },
 "nbformat": 4,
 "nbformat_minor": 0
}
