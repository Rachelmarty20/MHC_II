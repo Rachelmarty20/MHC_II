{
 "cells": [
  {
   "cell_type": "code",
   "execution_count": 4,
   "metadata": {
    "collapsed": false
   },
   "outputs": [
    {
     "name": "stdout",
     "output_type": "stream",
     "text": [
      "Populating the interactive namespace from numpy and matplotlib\n"
     ]
    }
   ],
   "source": [
    "import io\n",
    "from IPython.nbformat import current\n",
    "def execute_notebook(nbfile):\n",
    "    with io.open(nbfile) as f:\n",
    "        nb = current.read(f, 'json')\n",
    "    ip = get_ipython()\n",
    "    for cell in nb.worksheets[0].cells:\n",
    "        if cell.cell_type != 'code':\n",
    "            continue\n",
    "        ip.run_cell(cell.input)\n",
    "execute_notebook(\"/cellar/users/ramarty/Projects/hla_ii/bin/imports.ipynb\")"
   ]
  },
  {
   "cell_type": "code",
   "execution_count": 102,
   "metadata": {
    "collapsed": false
   },
   "outputs": [],
   "source": [
    "# All patient mutations\n",
    "mutations = pd.read_csv('/cellar/users/ramarty/Data/hla/mutations/processed_mutation_files.full_tcga.all_valid_muts.csv', index_col=0)\n",
    "mutations = mutations[['Hugo_Symbol', 'Barcode', 'combined']]"
   ]
  },
  {
   "cell_type": "code",
   "execution_count": 17,
   "metadata": {
    "collapsed": true
   },
   "outputs": [],
   "source": [
    "classI = pd.read_csv('/cellar/users/ramarty/Data/hla_ii/presentation/clean_matrices/combined_classes/patient_affinities.class_i.csv', index_col=0)\n",
    "classII = pd.read_csv('/cellar/users/ramarty/Data/hla_ii/presentation/clean_matrices/combined_classes/patient_affinities.class_ii.csv', index_col=0)\n",
    "both = pd.concat([classI.transpose(), classII.transpose()]).transpose()"
   ]
  },
  {
   "cell_type": "markdown",
   "metadata": {},
   "source": [
    "Segregate patients by mutation status"
   ]
  },
  {
   "cell_type": "code",
   "execution_count": 93,
   "metadata": {
    "collapsed": true
   },
   "outputs": [],
   "source": [
    "gene = 'CTNNB1'"
   ]
  },
  {
   "cell_type": "code",
   "execution_count": 94,
   "metadata": {
    "collapsed": false
   },
   "outputs": [
    {
     "name": "stdout",
     "output_type": "stream",
     "text": [
      "Mutated patients:  261\n",
      "Not mutated patients:  6824\n",
      "Weight shift:  26.1455938697\n"
     ]
    }
   ],
   "source": [
    "mutated_patients = [x for x in list(set(mutations[mutations.Hugo_Symbol == gene].Barcode)) if x in both.index]\n",
    "not_mutated_patients = [x for x in both.index if x not in mutated_patients]\n",
    "print 'Mutated patients: ', len(mutated_patients)\n",
    "print 'Not mutated patients: ', len(not_mutated_patients)\n",
    "patients = mutated_patients + not_mutated_patients\n",
    "weight_shift = float(len(not_mutated_patients))/len(mutated_patients)\n",
    "print 'Weight shift: ', weight_shift"
   ]
  },
  {
   "cell_type": "code",
   "execution_count": 95,
   "metadata": {
    "collapsed": false
   },
   "outputs": [],
   "source": [
    "# create a Series with mutation status for patients\n",
    "mutation_status = pd.Series([1 for x in mutated_patients] + [0 for x in not_mutated_patients])\n",
    "mutation_status.index = mutated_patients + not_mutated_patients"
   ]
  },
  {
   "cell_type": "markdown",
   "metadata": {},
   "source": [
    "Reduce PHBR scores to those in gene"
   ]
  },
  {
   "cell_type": "code",
   "execution_count": 96,
   "metadata": {
    "collapsed": false
   },
   "outputs": [],
   "source": [
    "mutations_in_gene = [x for x in both.columns if gene in x]"
   ]
  },
  {
   "cell_type": "code",
   "execution_count": 97,
   "metadata": {
    "collapsed": false
   },
   "outputs": [],
   "source": [
    "both_restricted = both.ix[:, mutations_in_gene]"
   ]
  },
  {
   "cell_type": "code",
   "execution_count": 98,
   "metadata": {
    "collapsed": false
   },
   "outputs": [],
   "source": [
    "X = both_restricted.ix[patients].as_matrix()\n",
    "Y = mutation_status.ix[patients]"
   ]
  },
  {
   "cell_type": "code",
   "execution_count": 99,
   "metadata": {
    "collapsed": false
   },
   "outputs": [
    {
     "name": "stdout",
     "output_type": "stream",
     "text": [
      "[[0.22988505747126436, 0.7701149425287356], [0.26065719360568385, 0.7393428063943162]]\n",
      "0.720393330483\n"
     ]
    },
    {
     "data": {
      "image/png": "[encoded data removed]",
      "text/plain": [
       "<matplotlib.figure.Figure at 0x7f9facf4f990>"
      ]
     },
     "metadata": {},
     "output_type": "display_data"
    }
   ],
   "source": [
    "X_train, X_test, Y_train, Y_test = train_test_split(X, Y, test_size=0.33, random_state=41)\n",
    "clf = RandomForestClassifier(min_weight_fraction_leaf=.15, class_weight={1:weight_shift, 0:1})\n",
    "clf = clf.fit(X_train, Y_train)\n",
    "predicted = clf.predict(X_test)\n",
    "mutations_clf = clf\n",
    "mutations_X_test = X_test\n",
    "mutations_Y_test = Y_test\n",
    "matrix = []\n",
    "for true_tissue in [1, 0]:\n",
    "    array = []\n",
    "    for predicted_tissue in [1, 0]:\n",
    "        try:\n",
    "        #if true_tissue == predicted_tissue:\n",
    "            number_predicted = len([x for x,y in zip(list(Y_test), predicted) if x == true_tissue and y == predicted_tissue])\n",
    "            number_true = len([x for x in Y_test if x == true_tissue])\n",
    "            #print true_tissue, predicted_tissue, number_true, number_predicted\n",
    "            array.append(float(number_predicted)/float(number_true))\n",
    "        #else:\n",
    "         #   array.append(np.nan)\n",
    "        except: \n",
    "            array.append(np.nan)\n",
    "    matrix.append(array)\n",
    "sns.heatmap(matrix, xticklabels=['Mutated', 'Not mutated'], yticklabels=['Mutated', 'Not mutated'], cmap=\"Oranges\")\n",
    "plt.xlabel('Predicted')\n",
    "plt.ylabel('True')\n",
    "plt.title('From mutations')\n",
    "print matrix\n",
    "print len([x for x,y in zip(Y_test, predicted) if x == y])/float(len(Y_test))"
   ]
  },
  {
   "cell_type": "code",
   "execution_count": 100,
   "metadata": {
    "collapsed": false
   },
   "outputs": [
    {
     "data": {
      "image/png": "[encoded data removed]",
      "text/plain": [
       "<matplotlib.figure.Figure at 0x7f9fb212fe10>"
      ]
     },
     "metadata": {},
     "output_type": "display_data"
    }
   ],
   "source": [
    "prediction_probabilities = clf.predict_proba(X_test)[:,1]\n",
    "\n",
    "fpr_PHBR, tpr_PHBR, thresholds = metrics.roc_curve(Y_test, prediction_probabilities, pos_label=1)\n",
    "sns.set_style(\"white\")\n",
    "plt.figure(figsize=(6,5))\n",
    "plt.plot([0,1], [0, 1], c='k', label='Random')\n",
    "plt.plot(fpr_PHBR, tpr_PHBR, c='r', label='From PHBR: {0}'.format(round(metrics.roc_auc_score(Y_test, \n",
    "                                                            prediction_probabilities),2)))\n",
    "plt.title('Gene: {0}'.format(gene))\n",
    "plt.legend(loc=4)\n",
    "plt.xlabel('FPR')\n",
    "plt.ylabel('TPR')\n",
    "plt.show()"
   ]
  },
  {
   "cell_type": "code",
   "execution_count": 84,
   "metadata": {
    "collapsed": false
   },
   "outputs": [
    {
     "data": {
      "text/plain": [
       "array([ 0.        ,  0.        ,  0.00939329,  0.        ,  0.        ,\n",
       "        0.        ,  0.        ,  0.01772392,  0.03572014,  0.        ,\n",
       "        0.0578955 ,  0.        ,  0.        ,  0.        ,  0.        ,\n",
       "        0.06135196,  0.        ,  0.        ,  0.04180748,  0.        ,\n",
       "        0.02247238,  0.        ,  0.02390654,  0.03343884,  0.03865146,\n",
       "        0.02115199,  0.        ,  0.        ,  0.        ,  0.        ,\n",
       "        0.02675728,  0.        ,  0.02136123,  0.02152133,  0.01940797,\n",
       "        0.03008481,  0.        ,  0.07138643,  0.02272544,  0.        ,\n",
       "        0.09050877,  0.        ,  0.        ,  0.        ,  0.        ,\n",
       "        0.        ,  0.        ,  0.        ,  0.        ,  0.05009969,\n",
       "        0.        ,  0.0362751 ,  0.        ,  0.        ,  0.00666922,\n",
       "        0.01513392,  0.        ,  0.01576055,  0.        ,  0.13177041,\n",
       "        0.        ,  0.        ,  0.05241575,  0.        ,  0.        ,\n",
       "        0.0246086 ,  0.        ,  0.        ])"
      ]
     },
     "execution_count": 84,
     "metadata": {},
     "output_type": "execute_result"
    }
   ],
   "source": [
    "clf.feature_importances_"
   ]
  },
  {
   "cell_type": "code",
   "execution_count": null,
   "metadata": {
    "collapsed": true
   },
   "outputs": [],
   "source": []
  },
  {
   "cell_type": "code",
   "execution_count": 101,
   "metadata": {
    "collapsed": false
   },
   "outputs": [
    {
     "data": {
      "text/plain": [
       "['CTNNB1_ifd_41224643',\n",
       " 'CTNNB1_S37F',\n",
       " 'CTNNB1_T41A',\n",
       " 'CTNNB1_S45P',\n",
       " 'CTNNB1_S37C',\n",
       " 'CTNNB1_S33C',\n",
       " 'CTNNB1_S33F',\n",
       " 'CTNNB1_S45F',\n",
       " 'CTNNB1_G34R',\n",
       " 'CTNNB1_S33Y',\n",
       " 'CTNNB1_D32G',\n",
       " 'CTNNB1_T41I',\n",
       " 'CTNNB1_G34E',\n",
       " 'CTNNB1_D32N',\n",
       " 'CTNNB1_S33P',\n",
       " 'CTNNB1_D32Y',\n",
       " 'CTNNB1_G34V',\n",
       " 'CTNNB1_R587Q',\n",
       " 'CTNNB1_D32V',\n",
       " 'CTNNB1_K335I',\n",
       " 'CTNNB1_S37A',\n",
       " 'CTNNB1_H36P',\n",
       " 'CTNNB1_S45Y',\n",
       " 'CTNNB1_D32H',\n",
       " 'CTNNB1_I35S',\n",
       " 'CTNNB1_S33A',\n",
       " 'CTNNB1_N387K',\n",
       " 'CTNNB1_A391S',\n",
       " 'CTNNB1_R515Q',\n",
       " 'CTNNB1_ifd_41224643',\n",
       " 'CTNNB1_S37F',\n",
       " 'CTNNB1_T41A',\n",
       " 'CTNNB1_S45P',\n",
       " 'CTNNB1_S37C',\n",
       " 'CTNNB1_S33C',\n",
       " 'CTNNB1_S33F',\n",
       " 'CTNNB1_S45F',\n",
       " 'CTNNB1_G34R',\n",
       " 'CTNNB1_S33Y',\n",
       " 'CTNNB1_D32G',\n",
       " 'CTNNB1_T41I',\n",
       " 'CTNNB1_G34E',\n",
       " 'CTNNB1_D32N',\n",
       " 'CTNNB1_S33P',\n",
       " 'CTNNB1_D32Y',\n",
       " 'CTNNB1_G34V',\n",
       " 'CTNNB1_R587Q',\n",
       " 'CTNNB1_D32V',\n",
       " 'CTNNB1_K335I',\n",
       " 'CTNNB1_S37A',\n",
       " 'CTNNB1_H36P',\n",
       " 'CTNNB1_S45Y',\n",
       " 'CTNNB1_D32H',\n",
       " 'CTNNB1_I35S',\n",
       " 'CTNNB1_S33A',\n",
       " 'CTNNB1_N387K',\n",
       " 'CTNNB1_A391S',\n",
       " 'CTNNB1_R515Q']"
      ]
     },
     "execution_count": 101,
     "metadata": {},
     "output_type": "execute_result"
    }
   ],
   "source": [
    "mutations_in_gene"
   ]
  },
  {
   "cell_type": "code",
   "execution_count": 103,
   "metadata": {
    "collapsed": true
   },
   "outputs": [],
   "source": [
    "mutations_observed = list(set(mutations[mutations.Hugo_Symbol == gene].combined))"
   ]
  },
  {
   "cell_type": "code",
   "execution_count": 104,
   "metadata": {
    "collapsed": false
   },
   "outputs": [
    {
     "data": {
      "text/plain": [
       "160"
      ]
     },
     "execution_count": 104,
     "metadata": {},
     "output_type": "execute_result"
    }
   ],
   "source": [
    "len(mutations_observed)"
   ]
  },
  {
   "cell_type": "code",
   "execution_count": 106,
   "metadata": {
    "collapsed": false
   },
   "outputs": [
    {
     "data": {
      "text/plain": [
       "0.825"
      ]
     },
     "execution_count": 106,
     "metadata": {},
     "output_type": "execute_result"
    }
   ],
   "source": [
    "len([x for x in mutations_observed if x not in mutations_in_gene])/float(len(mutations_observed))"
   ]
  },
  {
   "cell_type": "code",
   "execution_count": null,
   "metadata": {
    "collapsed": true
   },
   "outputs": [],
   "source": []
  }
 ],
 "metadata": {
  "kernelspec": {
   "display_name": "Python 2",
   "language": "python",
   "name": "python2"
  },
  "language_info": {
   "codemirror_mode": {
    "name": "ipython",
    "version": 2
   },
   "file_extension": ".py",
   "mimetype": "text/x-python",
   "name": "python",
   "nbconvert_exporter": "python",
   "pygments_lexer": "ipython2",
   "version": "2.7.12"
  }
 },
 "nbformat": 4,
 "nbformat_minor": 0
}
