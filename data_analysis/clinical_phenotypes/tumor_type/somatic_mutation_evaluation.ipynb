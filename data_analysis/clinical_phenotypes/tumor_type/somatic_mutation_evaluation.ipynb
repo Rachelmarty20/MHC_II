{
 "cells": [
  {
   "cell_type": "code",
   "execution_count": 1,
   "metadata": {
    "collapsed": false
   },
   "outputs": [
    {
     "name": "stderr",
     "output_type": "stream",
     "text": [
      "/cellar/users/ramarty/anaconda/lib/python2.7/site-packages/IPython/nbformat/current.py:19: UserWarning: IPython.nbformat.current is deprecated.\n",
      "\n",
      "- use IPython.nbformat for read/write/validate public API\n",
      "- use IPython.nbformat.vX directly to composing notebooks of a particular version\n",
      "\n",
      "  \"\"\")\n",
      "/cellar/users/ramarty/anaconda/lib/python2.7/site-packages/sklearn/cross_validation.py:44: DeprecationWarning: This module was deprecated in version 0.18 in favor of the model_selection module into which all the refactored classes and functions are moved. Also note that the interface of the new CV iterators are different from that of this module. This module will be removed in 0.20.\n",
      "  \"This module will be removed in 0.20.\", DeprecationWarning)\n"
     ]
    },
    {
     "name": "stdout",
     "output_type": "stream",
     "text": [
      "Populating the interactive namespace from numpy and matplotlib\n"
     ]
    }
   ],
   "source": [
    "import io\n",
    "from IPython.nbformat import current\n",
    "def execute_notebook(nbfile):\n",
    "    with io.open(nbfile) as f:\n",
    "        nb = current.read(f, 'json')\n",
    "    ip = get_ipython()\n",
    "    for cell in nb.worksheets[0].cells:\n",
    "        if cell.cell_type != 'code':\n",
    "            continue\n",
    "        ip.run_cell(cell.input)\n",
    "execute_notebook(\"/cellar/users/ramarty/Projects/hla_ii/bin/imports.ipynb\")"
   ]
  },
  {
   "cell_type": "markdown",
   "metadata": {},
   "source": [
    "## Optimize prediction of tumor types by somatic mutations"
   ]
  },
  {
   "cell_type": "markdown",
   "metadata": {},
   "source": [
    "Goals: <br>\n",
    "1. Determine number of patients without driver mutations <br>\n",
    "2. Determine increase of driver space if extended to frequent mutations across all tumor types individually <br>\n",
    "3. Cluster tumor types by patient mutation frequencies <br>\n",
    "4. Predictions on new clusters"
   ]
  },
  {
   "cell_type": "markdown",
   "metadata": {},
   "source": [
    "### Current state of patients with driver mutations"
   ]
  },
  {
   "cell_type": "code",
   "execution_count": 2,
   "metadata": {
    "collapsed": true
   },
   "outputs": [],
   "source": [
    "patient_mutations = pd.read_csv('/cellar/users/ramarty/Data/hla_ii/presentation/clean_matrices/combined_classes/patient_mutations.csv', index_col=0)"
   ]
  },
  {
   "cell_type": "code",
   "execution_count": 3,
   "metadata": {
    "collapsed": false
   },
   "outputs": [
    {
     "data": {
      "text/plain": [
       "0     3014\n",
       "1     2540\n",
       "2     1020\n",
       "3      341\n",
       "4       89\n",
       "5       37\n",
       "6       15\n",
       "7        4\n",
       "8        4\n",
       "12       4\n",
       "16       3\n",
       "15       2\n",
       "13       2\n",
       "9        1\n",
       "19       1\n",
       "17       1\n",
       "11       1\n",
       "21       1\n",
       "23       1\n",
       "10       1\n",
       "14       1\n",
       "22       1\n",
       "27       1\n",
       "dtype: int64"
      ]
     },
     "execution_count": 3,
     "metadata": {},
     "output_type": "execute_result"
    }
   ],
   "source": [
    "patient_mutations.sum(axis=1).value_counts()"
   ]
  },
  {
   "cell_type": "markdown",
   "metadata": {},
   "source": [
    "### Possible increase in driver space <br>\n",
    "Ignore known cancer genes and only go off of frequency"
   ]
  },
  {
   "cell_type": "code",
   "execution_count": 4,
   "metadata": {
    "collapsed": true
   },
   "outputs": [],
   "source": [
    "patient_tissues = pd.read_csv('/cellar/users/ramarty/Data/hla_ii/presentation/clean_matrices/patient_tissues.csv', index_col=0)\n",
    "all_patients = list(patient_tissues.index.unique())"
   ]
  },
  {
   "cell_type": "code",
   "execution_count": 5,
   "metadata": {
    "collapsed": true
   },
   "outputs": [],
   "source": [
    "cancer_genes = [x.strip() for x in open('/cellar/users/ramarty/Data/hla/git_data/data/onco_genes.txt').readlines()] + \\\n",
    "[x.strip() for x in open('/cellar/users/ramarty/Data/hla/git_data/data/tumor_suppressor_genes.txt').readlines()]"
   ]
  },
  {
   "cell_type": "code",
   "execution_count": 6,
   "metadata": {
    "collapsed": false
   },
   "outputs": [
    {
     "data": {
      "text/plain": [
       "202"
      ]
     },
     "execution_count": 6,
     "metadata": {},
     "output_type": "execute_result"
    }
   ],
   "source": [
    "len(cancer_genes)"
   ]
  },
  {
   "cell_type": "code",
   "execution_count": 7,
   "metadata": {
    "collapsed": false
   },
   "outputs": [],
   "source": [
    "df = pd.read_csv('/cellar/users/ramarty/Data/hla/mutations/processed_mutation_files.full_tcga.all_mutation_types.csv', index_col=0)"
   ]
  },
  {
   "cell_type": "code",
   "execution_count": 8,
   "metadata": {
    "collapsed": true
   },
   "outputs": [],
   "source": [
    "# Only keep missense mutations\n",
    "df = df[df.Variant_Classification == 'Missense_Mutation']"
   ]
  },
  {
   "cell_type": "code",
   "execution_count": 9,
   "metadata": {
    "collapsed": true
   },
   "outputs": [],
   "source": [
    "# Drop duplicates\n",
    "df = df.drop_duplicates(['Barcode', 'combined'])"
   ]
  },
  {
   "cell_type": "code",
   "execution_count": 10,
   "metadata": {
    "collapsed": true
   },
   "outputs": [],
   "source": [
    "df_cancer_genes = df[df.Hugo_Symbol.isin(cancer_genes)]"
   ]
  },
  {
   "cell_type": "code",
   "execution_count": 11,
   "metadata": {
    "collapsed": false
   },
   "outputs": [
    {
     "data": {
      "text/html": [
       "<div>\n",
       "<table border=\"1\" class=\"dataframe\">\n",
       "  <thead>\n",
       "    <tr style=\"text-align: right;\">\n",
       "      <th></th>\n",
       "      <th>Tumor_Sample_Barcode</th>\n",
       "      <th>Hugo_Symbol</th>\n",
       "      <th>Variant_Classification</th>\n",
       "      <th>Protein_position</th>\n",
       "      <th>Amino_acids</th>\n",
       "      <th>Chromosome</th>\n",
       "      <th>Start_Position</th>\n",
       "      <th>Strand</th>\n",
       "      <th>Reference_Allele</th>\n",
       "      <th>Tumor_Seq_Allele2</th>\n",
       "      <th>Transcript_ID</th>\n",
       "      <th>Barcode</th>\n",
       "      <th>combined</th>\n",
       "    </tr>\n",
       "  </thead>\n",
       "  <tbody>\n",
       "    <tr>\n",
       "      <th>0</th>\n",
       "      <td>TCGA-FX-A3NJ-01A-11D-A21Q-09</td>\n",
       "      <td>INTS3</td>\n",
       "      <td>Missense_Mutation</td>\n",
       "      <td>500/1042</td>\n",
       "      <td>P/R</td>\n",
       "      <td>chr1</td>\n",
       "      <td>153761659</td>\n",
       "      <td>+</td>\n",
       "      <td>C</td>\n",
       "      <td>G</td>\n",
       "      <td>ENST00000318967</td>\n",
       "      <td>TCGA-FX-A3NJ</td>\n",
       "      <td>INTS3_P500R</td>\n",
       "    </tr>\n",
       "    <tr>\n",
       "      <th>3</th>\n",
       "      <td>TCGA-FX-A3NJ-01A-11D-A21Q-09</td>\n",
       "      <td>PLD5</td>\n",
       "      <td>Missense_Mutation</td>\n",
       "      <td>536/536</td>\n",
       "      <td>V/L</td>\n",
       "      <td>chr1</td>\n",
       "      <td>242089859</td>\n",
       "      <td>+</td>\n",
       "      <td>C</td>\n",
       "      <td>G</td>\n",
       "      <td>ENST00000442594</td>\n",
       "      <td>TCGA-FX-A3NJ</td>\n",
       "      <td>PLD5_V536L</td>\n",
       "    </tr>\n",
       "    <tr>\n",
       "      <th>7</th>\n",
       "      <td>TCGA-FX-A3NJ-01A-11D-A21Q-09</td>\n",
       "      <td>GC</td>\n",
       "      <td>Missense_Mutation</td>\n",
       "      <td>406/474</td>\n",
       "      <td>L/R</td>\n",
       "      <td>chr4</td>\n",
       "      <td>71754456</td>\n",
       "      <td>+</td>\n",
       "      <td>A</td>\n",
       "      <td>C</td>\n",
       "      <td>ENST00000273951</td>\n",
       "      <td>TCGA-FX-A3NJ</td>\n",
       "      <td>GC_L406R</td>\n",
       "    </tr>\n",
       "    <tr>\n",
       "      <th>9</th>\n",
       "      <td>TCGA-FX-A3NJ-01A-11D-A21Q-09</td>\n",
       "      <td>PSMG4</td>\n",
       "      <td>Missense_Mutation</td>\n",
       "      <td>65/123</td>\n",
       "      <td>T/A</td>\n",
       "      <td>chr6</td>\n",
       "      <td>3263702</td>\n",
       "      <td>+</td>\n",
       "      <td>A</td>\n",
       "      <td>G</td>\n",
       "      <td>ENST00000438998</td>\n",
       "      <td>TCGA-FX-A3NJ</td>\n",
       "      <td>PSMG4_T65A</td>\n",
       "    </tr>\n",
       "    <tr>\n",
       "      <th>10</th>\n",
       "      <td>TCGA-FX-A3NJ-01A-11D-A21Q-09</td>\n",
       "      <td>BCLAF1</td>\n",
       "      <td>Missense_Mutation</td>\n",
       "      <td>307/920</td>\n",
       "      <td>P/S</td>\n",
       "      <td>chr6</td>\n",
       "      <td>136277962</td>\n",
       "      <td>+</td>\n",
       "      <td>G</td>\n",
       "      <td>A</td>\n",
       "      <td>ENST00000531224</td>\n",
       "      <td>TCGA-FX-A3NJ</td>\n",
       "      <td>BCLAF1_P307S</td>\n",
       "    </tr>\n",
       "  </tbody>\n",
       "</table>\n",
       "</div>"
      ],
      "text/plain": [
       "            Tumor_Sample_Barcode Hugo_Symbol Variant_Classification  \\\n",
       "0   TCGA-FX-A3NJ-01A-11D-A21Q-09       INTS3      Missense_Mutation   \n",
       "3   TCGA-FX-A3NJ-01A-11D-A21Q-09        PLD5      Missense_Mutation   \n",
       "7   TCGA-FX-A3NJ-01A-11D-A21Q-09          GC      Missense_Mutation   \n",
       "9   TCGA-FX-A3NJ-01A-11D-A21Q-09       PSMG4      Missense_Mutation   \n",
       "10  TCGA-FX-A3NJ-01A-11D-A21Q-09      BCLAF1      Missense_Mutation   \n",
       "\n",
       "   Protein_position Amino_acids Chromosome  Start_Position Strand  \\\n",
       "0          500/1042         P/R       chr1       153761659      +   \n",
       "3           536/536         V/L       chr1       242089859      +   \n",
       "7           406/474         L/R       chr4        71754456      +   \n",
       "9            65/123         T/A       chr6         3263702      +   \n",
       "10          307/920         P/S       chr6       136277962      +   \n",
       "\n",
       "   Reference_Allele Tumor_Seq_Allele2    Transcript_ID       Barcode  \\\n",
       "0                 C                 G  ENST00000318967  TCGA-FX-A3NJ   \n",
       "3                 C                 G  ENST00000442594  TCGA-FX-A3NJ   \n",
       "7                 A                 C  ENST00000273951  TCGA-FX-A3NJ   \n",
       "9                 A                 G  ENST00000438998  TCGA-FX-A3NJ   \n",
       "10                G                 A  ENST00000531224  TCGA-FX-A3NJ   \n",
       "\n",
       "        combined  \n",
       "0    INTS3_P500R  \n",
       "3     PLD5_V536L  \n",
       "7       GC_L406R  \n",
       "9     PSMG4_T65A  \n",
       "10  BCLAF1_P307S  "
      ]
     },
     "execution_count": 11,
     "metadata": {},
     "output_type": "execute_result"
    }
   ],
   "source": [
    "df.head()"
   ]
  },
  {
   "cell_type": "code",
   "execution_count": 12,
   "metadata": {
    "collapsed": false
   },
   "outputs": [
    {
     "data": {
      "text/plain": [
       "10177"
      ]
     },
     "execution_count": 12,
     "metadata": {},
     "output_type": "execute_result"
    }
   ],
   "source": [
    "len(df.Barcode.unique())"
   ]
  },
  {
   "cell_type": "code",
   "execution_count": 13,
   "metadata": {
    "collapsed": false
   },
   "outputs": [],
   "source": [
    "new_mutations = list(df.combined.value_counts()[df.combined.value_counts() > 3].index)"
   ]
  },
  {
   "cell_type": "code",
   "execution_count": 14,
   "metadata": {
    "collapsed": false,
    "scrolled": true
   },
   "outputs": [],
   "source": [
    "oldish_mutations = list(df_cancer_genes.combined.value_counts()[df_cancer_genes.combined.value_counts() > 1].index)"
   ]
  },
  {
   "cell_type": "code",
   "execution_count": 15,
   "metadata": {
    "collapsed": false
   },
   "outputs": [
    {
     "data": {
      "text/plain": [
       "(8459, 3733)"
      ]
     },
     "execution_count": 15,
     "metadata": {},
     "output_type": "execute_result"
    }
   ],
   "source": [
    "len(new_mutations), len(oldish_mutations)"
   ]
  },
  {
   "cell_type": "code",
   "execution_count": 16,
   "metadata": {
    "collapsed": false
   },
   "outputs": [
    {
     "data": {
      "text/plain": [
       "(7635, 6571)"
      ]
     },
     "execution_count": 16,
     "metadata": {},
     "output_type": "execute_result"
    }
   ],
   "source": [
    "len(df[df.combined.isin(new_mutations)].Barcode.unique()), len(df[df.combined.isin(oldish_mutations)].Barcode.unique())"
   ]
  },
  {
   "cell_type": "markdown",
   "metadata": {},
   "source": [
    "#### Proof of concept in breast cancer"
   ]
  },
  {
   "cell_type": "code",
   "execution_count": 17,
   "metadata": {
    "collapsed": false
   },
   "outputs": [
    {
     "data": {
      "text/plain": [
       "1097"
      ]
     },
     "execution_count": 17,
     "metadata": {},
     "output_type": "execute_result"
    }
   ],
   "source": [
    "tissue_specific_patients = list(patient_tissues[patient_tissues.Tissue == 'BRCA'].index)\n",
    "len(tissue_specific_patients)"
   ]
  },
  {
   "cell_type": "code",
   "execution_count": 18,
   "metadata": {
    "collapsed": true
   },
   "outputs": [],
   "source": [
    "tissue_df = df[df.Barcode.isin(tissue_specific_patients)]\n",
    "cancer_tissue_df = df_cancer_genes[df_cancer_genes.Barcode.isin(tissue_specific_patients)]"
   ]
  },
  {
   "cell_type": "code",
   "execution_count": 19,
   "metadata": {
    "collapsed": false
   },
   "outputs": [
    {
     "name": "stdout",
     "output_type": "stream",
     "text": [
      "All repeated mutations: 550\n",
      "Cancer related repeated mutations: 95\n"
     ]
    }
   ],
   "source": [
    "tissue_repeated_mutations = tissue_df.combined.value_counts()[tissue_df.combined.value_counts() > 1].index\n",
    "tissue_repeated_cancer_mutations = cancer_tissue_df.combined.value_counts()[cancer_tissue_df.combined.value_counts() > 1].index\n",
    "print 'All repeated mutations:', len(tissue_repeated_mutations)\n",
    "print 'Cancer related repeated mutations:', len(tissue_repeated_cancer_mutations)"
   ]
  },
  {
   "cell_type": "code",
   "execution_count": 20,
   "metadata": {
    "collapsed": false
   },
   "outputs": [
    {
     "name": "stdout",
     "output_type": "stream",
     "text": [
      "725\n",
      "479\n"
     ]
    }
   ],
   "source": [
    "# coverage of breast cancer patients\n",
    "print len(tissue_df[tissue_df.combined.isin(tissue_repeated_mutations)].Barcode.unique())\n",
    "print len(tissue_df[tissue_df.combined.isin(tissue_repeated_cancer_mutations)].Barcode.unique())"
   ]
  },
  {
   "cell_type": "code",
   "execution_count": 21,
   "metadata": {
    "collapsed": false
   },
   "outputs": [],
   "source": [
    "# create features\n",
    "tissue_mutation_features = pd.DataFrame(np.zeros((len(all_patients), len(tissue_repeated_mutations))))\n",
    "tissue_mutation_features.columns = tissue_repeated_mutations\n",
    "tissue_mutation_features.index = all_patients\n",
    "for x in df[df.combined.isin(tissue_repeated_mutations)].iterrows():\n",
    "    if x[1]['Barcode'] in all_patients:\n",
    "        tissue_mutation_features.set_value(x[1]['Barcode'], x[1]['combined'], 1)"
   ]
  },
  {
   "cell_type": "code",
   "execution_count": 22,
   "metadata": {
    "collapsed": false
   },
   "outputs": [],
   "source": [
    "# create limited (cancer) features\n",
    "tissue_mutation_cancer_features = pd.DataFrame(np.zeros((len(all_patients), len(tissue_repeated_cancer_mutations))))\n",
    "tissue_mutation_cancer_features.columns = tissue_repeated_cancer_mutations\n",
    "tissue_mutation_cancer_features.index = all_patients\n",
    "for x in df[df.combined.isin(tissue_repeated_cancer_mutations)].iterrows():\n",
    "    if x[1]['Barcode'] in all_patients:\n",
    "        tissue_mutation_cancer_features.set_value(x[1]['Barcode'], x[1]['combined'], 1)"
   ]
  },
  {
   "cell_type": "code",
   "execution_count": 35,
   "metadata": {
    "collapsed": true
   },
   "outputs": [],
   "source": [
    "# create labels\n",
    "def is_tissue(x):\n",
    "    if x == 'BRCA':\n",
    "        return 1\n",
    "    else:\n",
    "        return 0\n",
    "patient_tissues['is_tissue'] = patient_tissues['Tissue'].apply(is_tissue)\n",
    "weight_shift = float(len(patient_tissues[patient_tissues.is_tissue == 0]))/len(patient_tissues[patient_tissues.is_tissue == 1])"
   ]
  },
  {
   "cell_type": "markdown",
   "metadata": {},
   "source": [
    "Test model with all mutations"
   ]
  },
  {
   "cell_type": "code",
   "execution_count": 36,
   "metadata": {
    "collapsed": false
   },
   "outputs": [
    {
     "data": {
      "text/plain": [
       "8.989972652689152"
      ]
     },
     "execution_count": 36,
     "metadata": {},
     "output_type": "execute_result"
    }
   ],
   "source": [
    "weight_shift"
   ]
  },
  {
   "cell_type": "code",
   "execution_count": 37,
   "metadata": {
    "collapsed": false
   },
   "outputs": [
    {
     "data": {
      "text/plain": [
       "0.86841865133680085"
      ]
     },
     "execution_count": 37,
     "metadata": {},
     "output_type": "execute_result"
    }
   ],
   "source": [
    "X = tissue_mutation_features.as_matrix()\n",
    "Y = patient_tissues.is_tissue\n",
    "clf = RandomForestClassifier(max_depth=2, random_state=0, oob_score=True, class_weight={1:weight_shift, 0:1})\n",
    "clf.fit(X, Y)\n",
    "clf.oob_score_"
   ]
  },
  {
   "cell_type": "code",
   "execution_count": 38,
   "metadata": {
    "collapsed": false
   },
   "outputs": [
    {
     "data": {
      "text/plain": [
       "array(['TCGA-02-0001', 'TCGA-02-0003', 'TCGA-02-0004', ..., 'TCGA-ZU-A8S4',\n",
       "       'TCGA-ZX-AA5X', 'edu_clinical'], dtype=object)"
      ]
     },
     "execution_count": 38,
     "metadata": {},
     "output_type": "execute_result"
    }
   ],
   "source": [
    "patient_tissues.index.values"
   ]
  },
  {
   "cell_type": "code",
   "execution_count": 39,
   "metadata": {
    "collapsed": false
   },
   "outputs": [
    {
     "data": {
      "text/plain": [
       "0    761\n",
       "1    336\n",
       "dtype: int64"
      ]
     },
     "execution_count": 39,
     "metadata": {},
     "output_type": "execute_result"
    }
   ],
   "source": [
    "pd.Series(clf.predict(tissue_mutation_features.ix[tissue_specific_patients])).value_counts()"
   ]
  },
  {
   "cell_type": "markdown",
   "metadata": {},
   "source": [
    "Test model with limited mutations"
   ]
  },
  {
   "cell_type": "code",
   "execution_count": 40,
   "metadata": {
    "collapsed": false,
    "scrolled": true
   },
   "outputs": [
    {
     "data": {
      "text/plain": [
       "0.85664750433433712"
      ]
     },
     "execution_count": 40,
     "metadata": {},
     "output_type": "execute_result"
    }
   ],
   "source": [
    "X = tissue_mutation_cancer_features.as_matrix()\n",
    "Y = patient_tissues.is_tissue\n",
    "clf = RandomForestClassifier(max_depth=2, random_state=0, oob_score=True, class_weight={1:weight_shift, 0:1})\n",
    "clf.fit(X, Y)\n",
    "clf.oob_score_"
   ]
  },
  {
   "cell_type": "code",
   "execution_count": 42,
   "metadata": {
    "collapsed": false
   },
   "outputs": [
    {
     "data": {
      "text/plain": [
       "0    860\n",
       "1    237\n",
       "dtype: int64"
      ]
     },
     "execution_count": 42,
     "metadata": {},
     "output_type": "execute_result"
    }
   ],
   "source": [
    "pd.Series(clf.predict(tissue_mutation_cancer_features.ix[tissue_specific_patients])).value_counts()"
   ]
  },
  {
   "cell_type": "code",
   "execution_count": null,
   "metadata": {
    "collapsed": true
   },
   "outputs": [],
   "source": []
  }
 ],
 "metadata": {
  "kernelspec": {
   "display_name": "Python 2",
   "language": "python",
   "name": "python2"
  },
  "language_info": {
   "codemirror_mode": {
    "name": "ipython",
    "version": 2
   },
   "file_extension": ".py",
   "mimetype": "text/x-python",
   "name": "python",
   "nbconvert_exporter": "python",
   "pygments_lexer": "ipython2",
   "version": "2.7.14"
  }
 },
 "nbformat": 4,
 "nbformat_minor": 0
}
