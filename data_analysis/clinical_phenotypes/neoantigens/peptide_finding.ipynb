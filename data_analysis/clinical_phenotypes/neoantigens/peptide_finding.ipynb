{
 "cells": [
  {
   "cell_type": "code",
   "execution_count": 1,
   "metadata": {
    "collapsed": false,
    "scrolled": true
   },
   "outputs": [
    {
     "name": "stderr",
     "output_type": "stream",
     "text": [
      "/cellar/users/ramarty/anaconda/lib/python2.7/site-packages/IPython/nbformat/current.py:19: UserWarning: IPython.nbformat.current is deprecated.\n",
      "\n",
      "- use IPython.nbformat for read/write/validate public API\n",
      "- use IPython.nbformat.vX directly to composing notebooks of a particular version\n",
      "\n",
      "  \"\"\")\n",
      "/cellar/users/ramarty/anaconda/lib/python2.7/site-packages/sklearn/cross_validation.py:44: DeprecationWarning: This module was deprecated in version 0.18 in favor of the model_selection module into which all the refactored classes and functions are moved. Also note that the interface of the new CV iterators are different from that of this module. This module will be removed in 0.20.\n",
      "  \"This module will be removed in 0.20.\", DeprecationWarning)\n"
     ]
    },
    {
     "name": "stdout",
     "output_type": "stream",
     "text": [
      "Populating the interactive namespace from numpy and matplotlib\n"
     ]
    }
   ],
   "source": [
    "import io\n",
    "from IPython.nbformat import current\n",
    "def execute_notebook(nbfile):\n",
    "    with io.open(nbfile) as f:\n",
    "        nb = current.read(f, 'json')\n",
    "    ip = get_ipython()\n",
    "    for cell in nb.worksheets[0].cells:\n",
    "        if cell.cell_type != 'code':\n",
    "            continue\n",
    "        ip.run_cell(cell.input)\n",
    "execute_notebook(\"/cellar/users/ramarty/Projects/hla_ii/bin/imports.ipynb\")"
   ]
  },
  {
   "cell_type": "code",
   "execution_count": 2,
   "metadata": {
    "collapsed": false
   },
   "outputs": [],
   "source": [
    "files = [x for x in os.listdir('/cellar/users/ramarty/Data/hla_ii/presentation/affinities/oncogenes/') if 'wt' not in x]"
   ]
  },
  {
   "cell_type": "code",
   "execution_count": 25,
   "metadata": {
    "collapsed": false
   },
   "outputs": [
    {
     "data": {
      "text/plain": [
       "660"
      ]
     },
     "execution_count": 25,
     "metadata": {},
     "output_type": "execute_result"
    }
   ],
   "source": [
    "len([x for x in files if 'DR' in x])"
   ]
  },
  {
   "cell_type": "code",
   "execution_count": 3,
   "metadata": {
    "collapsed": false
   },
   "outputs": [
    {
     "name": "stdout",
     "output_type": "stream",
     "text": [
      "5620\n"
     ]
    }
   ],
   "source": [
    "print len(files)"
   ]
  },
  {
   "cell_type": "code",
   "execution_count": 4,
   "metadata": {
    "collapsed": true
   },
   "outputs": [],
   "source": [
    "f = files[0]"
   ]
  },
  {
   "cell_type": "code",
   "execution_count": 5,
   "metadata": {
    "collapsed": false
   },
   "outputs": [
    {
     "data": {
      "text/plain": [
       "'HLA-DQA10404-DQB10630'"
      ]
     },
     "execution_count": 5,
     "metadata": {},
     "output_type": "execute_result"
    }
   ],
   "source": [
    "f.split('.')[0]"
   ]
  },
  {
   "cell_type": "code",
   "execution_count": 6,
   "metadata": {
    "collapsed": false,
    "scrolled": true
   },
   "outputs": [
    {
     "name": "stdout",
     "output_type": "stream",
     "text": [
      "0\n",
      "100\n",
      "200\n",
      "300\n",
      "400\n",
      "500\n",
      "600\n",
      "700\n",
      "800\n",
      "900\n",
      "1000\n",
      "1100\n",
      "1200\n",
      "1300\n",
      "1400\n",
      "1500\n",
      "1600\n",
      "1700\n",
      "1800\n",
      "1900\n",
      "2000\n",
      "2100\n",
      "2200\n",
      "2300\n",
      "2400\n",
      "2500\n",
      "2600\n",
      "2700\n",
      "2800\n",
      "2900\n",
      "3000\n",
      "3100\n",
      "3200\n",
      "3300\n",
      "3400\n",
      "3500\n",
      "3600\n",
      "3700\n",
      "3800\n",
      "3900\n",
      "4000\n",
      "4100\n",
      "4200\n",
      "4300\n",
      "4400\n",
      "4500\n",
      "4600\n",
      "4700\n",
      "4800\n",
      "4900\n",
      "5000\n",
      "5100\n",
      "5200\n",
      "5300\n",
      "5400\n",
      "5500\n",
      "5600\n"
     ]
    }
   ],
   "source": [
    "all_dfs = []\n",
    "for i, f in enumerate(files):\n",
    "    if i % 100 == 0:\n",
    "        print i\n",
    "    df = pd.read_csv('/cellar/users/ramarty/Data/hla_ii/presentation/affinities/tsgenes/{0}'.format(f), \\\n",
    "            skiprows=1, index_col=0, sep='\\t')\n",
    "    df['allele'] = f.split('.')[0]\n",
    "    all_dfs.append(df[df.Rank < 2])\n",
    "df = pd.concat(all_dfs)"
   ]
  },
  {
   "cell_type": "code",
   "execution_count": 7,
   "metadata": {
    "collapsed": false
   },
   "outputs": [
    {
     "data": {
      "text/plain": [
       "478526"
      ]
     },
     "execution_count": 7,
     "metadata": {},
     "output_type": "execute_result"
    }
   ],
   "source": [
    "len(df)"
   ]
  },
  {
   "cell_type": "code",
   "execution_count": 8,
   "metadata": {
    "collapsed": true
   },
   "outputs": [],
   "source": [
    "df.to_csv('/cellar/users/ramarty/Data/hla_ii/generated_data/neoantigens/peptides_below_2.tsgenes.csv')"
   ]
  },
  {
   "cell_type": "code",
   "execution_count": 17,
   "metadata": {
    "collapsed": true
   },
   "outputs": [],
   "source": [
    "cutoff = 2\n",
    "strength = 'strong'"
   ]
  },
  {
   "cell_type": "code",
   "execution_count": 18,
   "metadata": {
    "collapsed": false
   },
   "outputs": [],
   "source": [
    "df = pd.concat([pd.read_csv('/cellar/users/ramarty/Data/hla_ii/generated_data/neoantigens/peptides_below_{0}.csv'.format(cutoff),\n",
    "                index_col=0),\n",
    "                pd.read_csv('/cellar/users/ramarty/Data/hla_ii/generated_data/neoantigens/peptides_below_{0}.tsgenes.csv'.format(cutoff),\n",
    "                index_col=0)])"
   ]
  },
  {
   "cell_type": "code",
   "execution_count": 19,
   "metadata": {
    "collapsed": true
   },
   "outputs": [],
   "source": [
    "def get_gene(x):\n",
    "    if len(x.split('-')) > 2:\n",
    "        return x.split('-')[1][:2]\n",
    "    else:\n",
    "        return x[:2]\n",
    "df['Gene'] = df['allele'].apply(get_gene)"
   ]
  },
  {
   "cell_type": "code",
   "execution_count": null,
   "metadata": {
    "collapsed": true
   },
   "outputs": [],
   "source": []
  },
  {
   "cell_type": "code",
   "execution_count": 20,
   "metadata": {
    "collapsed": true
   },
   "outputs": [],
   "source": [
    "patient_mutations = pd.read_csv('/cellar/users/ramarty/Data/hla_ii/presentation/clean_matrices/patient_mutations.cancer.all.csv',\n",
    "                 index_col=0)"
   ]
  },
  {
   "cell_type": "code",
   "execution_count": 21,
   "metadata": {
    "collapsed": false
   },
   "outputs": [],
   "source": [
    "mutation_counts = pd.DataFrame(patient_mutations.sum()).reset_index()\n",
    "mutation_counts.columns = ['ID', 'mutation_count_in_TCGA']"
   ]
  },
  {
   "cell_type": "code",
   "execution_count": 22,
   "metadata": {
    "collapsed": false
   },
   "outputs": [
    {
     "data": {
      "text/html": [
       "<div>\n",
       "<table border=\"1\" class=\"dataframe\">\n",
       "  <thead>\n",
       "    <tr style=\"text-align: right;\">\n",
       "      <th></th>\n",
       "      <th>ID</th>\n",
       "      <th>mutation_count_in_TCGA</th>\n",
       "    </tr>\n",
       "  </thead>\n",
       "  <tbody>\n",
       "    <tr>\n",
       "      <th>0</th>\n",
       "      <td>EGFR_ifd_55174772</td>\n",
       "      <td>13</td>\n",
       "    </tr>\n",
       "    <tr>\n",
       "      <th>1</th>\n",
       "      <td>NOTCH1_ifd_136518618</td>\n",
       "      <td>7</td>\n",
       "    </tr>\n",
       "    <tr>\n",
       "      <th>2</th>\n",
       "      <td>PIK3R1_ifd_68295304</td>\n",
       "      <td>5</td>\n",
       "    </tr>\n",
       "    <tr>\n",
       "      <th>3</th>\n",
       "      <td>CTNNB1_ifd_41224643</td>\n",
       "      <td>5</td>\n",
       "    </tr>\n",
       "    <tr>\n",
       "      <th>4</th>\n",
       "      <td>PIK3R1_ifd_68293795</td>\n",
       "      <td>4</td>\n",
       "    </tr>\n",
       "  </tbody>\n",
       "</table>\n",
       "</div>"
      ],
      "text/plain": [
       "                     ID  mutation_count_in_TCGA\n",
       "0     EGFR_ifd_55174772                      13\n",
       "1  NOTCH1_ifd_136518618                       7\n",
       "2   PIK3R1_ifd_68295304                       5\n",
       "3   CTNNB1_ifd_41224643                       5\n",
       "4   PIK3R1_ifd_68293795                       4"
      ]
     },
     "execution_count": 22,
     "metadata": {},
     "output_type": "execute_result"
    }
   ],
   "source": [
    "mutation_counts.head()"
   ]
  },
  {
   "cell_type": "code",
   "execution_count": null,
   "metadata": {
    "collapsed": true
   },
   "outputs": [],
   "source": []
  },
  {
   "cell_type": "code",
   "execution_count": null,
   "metadata": {
    "collapsed": true
   },
   "outputs": [],
   "source": []
  },
  {
   "cell_type": "code",
   "execution_count": 23,
   "metadata": {
    "collapsed": true
   },
   "outputs": [],
   "source": [
    "df_resticted = df[df.Gene == 'DR'].groupby(['Peptide', 'ID']).count()[['allele']].sort_values('allele', ascending=False).reset_index()[:500]\n",
    "df_resticted.columns = ['Peptide', 'ID', 'number_of_alleles_binding']"
   ]
  },
  {
   "cell_type": "code",
   "execution_count": 24,
   "metadata": {
    "collapsed": false
   },
   "outputs": [],
   "source": [
    "pd.merge(df_resticted, mutation_counts, on='ID', how='left').dropna() \\\n",
    "        .to_csv('/cellar/users/ramarty/Data/hla_ii/generated_data/neoantigens/neoantigens.{0}.csv'.format(strength))"
   ]
  },
  {
   "cell_type": "code",
   "execution_count": 63,
   "metadata": {
    "collapsed": false
   },
   "outputs": [
    {
     "data": {
      "text/plain": [
       "38"
      ]
     },
     "execution_count": 63,
     "metadata": {},
     "output_type": "execute_result"
    }
   ],
   "source": [
    "well_presented_peptides = list(df.Peptide.value_counts()[df.Peptide.value_counts() > 4000].index)\n",
    "len(well_presented_peptides)"
   ]
  },
  {
   "cell_type": "code",
   "execution_count": 64,
   "metadata": {
    "collapsed": false
   },
   "outputs": [
    {
     "data": {
      "text/html": [
       "<div>\n",
       "<table border=\"1\" class=\"dataframe\">\n",
       "  <thead>\n",
       "    <tr style=\"text-align: right;\">\n",
       "      <th></th>\n",
       "      <th>Peptide</th>\n",
       "      <th>ID</th>\n",
       "    </tr>\n",
       "    <tr>\n",
       "      <th>Pos</th>\n",
       "      <th></th>\n",
       "      <th></th>\n",
       "    </tr>\n",
       "  </thead>\n",
       "  <tbody>\n",
       "    <tr>\n",
       "      <th>0</th>\n",
       "      <td>DMALALESARLLTWH</td>\n",
       "      <td>ACADS_R330H</td>\n",
       "    </tr>\n",
       "    <tr>\n",
       "      <th>4</th>\n",
       "      <td>NEIMELLSAATFFQL</td>\n",
       "      <td>BTBD11_K1003T</td>\n",
       "    </tr>\n",
       "    <tr>\n",
       "      <th>5</th>\n",
       "      <td>EIMELLSAATFFQLE</td>\n",
       "      <td>BTBD11_K1003T</td>\n",
       "    </tr>\n",
       "    <tr>\n",
       "      <th>6</th>\n",
       "      <td>IMELLSAATFFQLEA</td>\n",
       "      <td>BTBD11_K1003T</td>\n",
       "    </tr>\n",
       "    <tr>\n",
       "      <th>7</th>\n",
       "      <td>MELLSAATFFQLEAL</td>\n",
       "      <td>BTBD11_K1003T</td>\n",
       "    </tr>\n",
       "    <tr>\n",
       "      <th>8</th>\n",
       "      <td>ELLSAATFFQLEALQ</td>\n",
       "      <td>BTBD11_K1003T</td>\n",
       "    </tr>\n",
       "    <tr>\n",
       "      <th>9</th>\n",
       "      <td>LLSAATFFQLEALQR</td>\n",
       "      <td>BTBD11_K1003T</td>\n",
       "    </tr>\n",
       "    <tr>\n",
       "      <th>10</th>\n",
       "      <td>LSAATFFQLEALQRH</td>\n",
       "      <td>BTBD11_K1003T</td>\n",
       "    </tr>\n",
       "    <tr>\n",
       "      <th>0</th>\n",
       "      <td>DRFRSFEALLADLTQ</td>\n",
       "      <td>DCLK1_R93Q</td>\n",
       "    </tr>\n",
       "    <tr>\n",
       "      <th>1</th>\n",
       "      <td>RFRSFEALLADLTQT</td>\n",
       "      <td>DCLK1_R93Q</td>\n",
       "    </tr>\n",
       "    <tr>\n",
       "      <th>2</th>\n",
       "      <td>FRSFEALLADLTQTL</td>\n",
       "      <td>DCLK1_R93Q</td>\n",
       "    </tr>\n",
       "    <tr>\n",
       "      <th>0</th>\n",
       "      <td>ESFILAAMAYDRYVT</td>\n",
       "      <td>OR5I1_A127T</td>\n",
       "    </tr>\n",
       "    <tr>\n",
       "      <th>1</th>\n",
       "      <td>SFILAAMAYDRYVTI</td>\n",
       "      <td>OR5I1_A127T</td>\n",
       "    </tr>\n",
       "    <tr>\n",
       "      <th>11</th>\n",
       "      <td>PGNYFNVSSLVELDL</td>\n",
       "      <td>LUM_S250Y</td>\n",
       "    </tr>\n",
       "    <tr>\n",
       "      <th>12</th>\n",
       "      <td>GNYFNVSSLVELDLS</td>\n",
       "      <td>LUM_S250Y</td>\n",
       "    </tr>\n",
       "    <tr>\n",
       "      <th>13</th>\n",
       "      <td>NYFNVSSLVELDLSY</td>\n",
       "      <td>LUM_S250Y</td>\n",
       "    </tr>\n",
       "    <tr>\n",
       "      <th>10</th>\n",
       "      <td>AGCFQFGAYLVAHKL</td>\n",
       "      <td>ABCB1_R958Q</td>\n",
       "    </tr>\n",
       "    <tr>\n",
       "      <th>11</th>\n",
       "      <td>GCFQFGAYLVAHKLM</td>\n",
       "      <td>ABCB1_R958Q</td>\n",
       "    </tr>\n",
       "    <tr>\n",
       "      <th>12</th>\n",
       "      <td>CFQFGAYLVAHKLMS</td>\n",
       "      <td>ABCB1_R958Q</td>\n",
       "    </tr>\n",
       "    <tr>\n",
       "      <th>13</th>\n",
       "      <td>FQFGAYLVAHKLMSF</td>\n",
       "      <td>ABCB1_R958Q</td>\n",
       "    </tr>\n",
       "    <tr>\n",
       "      <th>9</th>\n",
       "      <td>TFDLQIIGFAAEQLA</td>\n",
       "      <td>TUSC3_R170I</td>\n",
       "    </tr>\n",
       "    <tr>\n",
       "      <th>10</th>\n",
       "      <td>FDLQIIGFAAEQLAK</td>\n",
       "      <td>TUSC3_R170I</td>\n",
       "    </tr>\n",
       "    <tr>\n",
       "      <th>11</th>\n",
       "      <td>DLQIIGFAAEQLAKW</td>\n",
       "      <td>TUSC3_R170I</td>\n",
       "    </tr>\n",
       "    <tr>\n",
       "      <th>12</th>\n",
       "      <td>LQIIGFAAEQLAKWI</td>\n",
       "      <td>TUSC3_R170I</td>\n",
       "    </tr>\n",
       "    <tr>\n",
       "      <th>13</th>\n",
       "      <td>QIIGFAAEQLAKWIA</td>\n",
       "      <td>TUSC3_R170I</td>\n",
       "    </tr>\n",
       "    <tr>\n",
       "      <th>14</th>\n",
       "      <td>IIGFAAEQLAKWIAD</td>\n",
       "      <td>TUSC3_R170I</td>\n",
       "    </tr>\n",
       "    <tr>\n",
       "      <th>11</th>\n",
       "      <td>SPDWFRSFEALLADL</td>\n",
       "      <td>DCLK1_R80W</td>\n",
       "    </tr>\n",
       "    <tr>\n",
       "      <th>12</th>\n",
       "      <td>PDWFRSFEALLADLT</td>\n",
       "      <td>DCLK1_R80W</td>\n",
       "    </tr>\n",
       "    <tr>\n",
       "      <th>13</th>\n",
       "      <td>DWFRSFEALLADLTR</td>\n",
       "      <td>DCLK1_R80W</td>\n",
       "    </tr>\n",
       "    <tr>\n",
       "      <th>14</th>\n",
       "      <td>WFRSFEALLADLTRT</td>\n",
       "      <td>DCLK1_R80W</td>\n",
       "    </tr>\n",
       "    <tr>\n",
       "      <th>10</th>\n",
       "      <td>EAQYQFIYMAVQHYI</td>\n",
       "      <td>PTPN11_R512Q</td>\n",
       "    </tr>\n",
       "    <tr>\n",
       "      <th>11</th>\n",
       "      <td>AQYQFIYMAVQHYIE</td>\n",
       "      <td>PTPN11_R512Q</td>\n",
       "    </tr>\n",
       "    <tr>\n",
       "      <th>12</th>\n",
       "      <td>QYQFIYMAVQHYIET</td>\n",
       "      <td>PTPN11_R512Q</td>\n",
       "    </tr>\n",
       "    <tr>\n",
       "      <th>13</th>\n",
       "      <td>ALYRFIYMAVQHYIE</td>\n",
       "      <td>PTPN11_Q510L</td>\n",
       "    </tr>\n",
       "    <tr>\n",
       "      <th>14</th>\n",
       "      <td>LYRFIYMAVQHYIET</td>\n",
       "      <td>PTPN11_Q510L</td>\n",
       "    </tr>\n",
       "    <tr>\n",
       "      <th>13</th>\n",
       "      <td>INNFSIASFFPAFIT</td>\n",
       "      <td>FAM8A1_K374N</td>\n",
       "    </tr>\n",
       "    <tr>\n",
       "      <th>14</th>\n",
       "      <td>QFGAYLVAHKLMSFE</td>\n",
       "      <td>ABCB1_R958Q</td>\n",
       "    </tr>\n",
       "    <tr>\n",
       "      <th>10</th>\n",
       "      <td>ADGVGKSALTIQLIQ</td>\n",
       "      <td>KRAS_G12D</td>\n",
       "    </tr>\n",
       "    <tr>\n",
       "      <th>10</th>\n",
       "      <td>ADGVGKSALTIQLIQ</td>\n",
       "      <td>NRAS_G12D</td>\n",
       "    </tr>\n",
       "    <tr>\n",
       "      <th>10</th>\n",
       "      <td>ADGVGKSALTIQLIQ</td>\n",
       "      <td>HRAS_G12D</td>\n",
       "    </tr>\n",
       "  </tbody>\n",
       "</table>\n",
       "</div>"
      ],
      "text/plain": [
       "             Peptide             ID\n",
       "Pos                                \n",
       "0    DMALALESARLLTWH    ACADS_R330H\n",
       "4    NEIMELLSAATFFQL  BTBD11_K1003T\n",
       "5    EIMELLSAATFFQLE  BTBD11_K1003T\n",
       "6    IMELLSAATFFQLEA  BTBD11_K1003T\n",
       "7    MELLSAATFFQLEAL  BTBD11_K1003T\n",
       "8    ELLSAATFFQLEALQ  BTBD11_K1003T\n",
       "9    LLSAATFFQLEALQR  BTBD11_K1003T\n",
       "10   LSAATFFQLEALQRH  BTBD11_K1003T\n",
       "0    DRFRSFEALLADLTQ     DCLK1_R93Q\n",
       "1    RFRSFEALLADLTQT     DCLK1_R93Q\n",
       "2    FRSFEALLADLTQTL     DCLK1_R93Q\n",
       "0    ESFILAAMAYDRYVT    OR5I1_A127T\n",
       "1    SFILAAMAYDRYVTI    OR5I1_A127T\n",
       "11   PGNYFNVSSLVELDL      LUM_S250Y\n",
       "12   GNYFNVSSLVELDLS      LUM_S250Y\n",
       "13   NYFNVSSLVELDLSY      LUM_S250Y\n",
       "10   AGCFQFGAYLVAHKL    ABCB1_R958Q\n",
       "11   GCFQFGAYLVAHKLM    ABCB1_R958Q\n",
       "12   CFQFGAYLVAHKLMS    ABCB1_R958Q\n",
       "13   FQFGAYLVAHKLMSF    ABCB1_R958Q\n",
       "9    TFDLQIIGFAAEQLA    TUSC3_R170I\n",
       "10   FDLQIIGFAAEQLAK    TUSC3_R170I\n",
       "11   DLQIIGFAAEQLAKW    TUSC3_R170I\n",
       "12   LQIIGFAAEQLAKWI    TUSC3_R170I\n",
       "13   QIIGFAAEQLAKWIA    TUSC3_R170I\n",
       "14   IIGFAAEQLAKWIAD    TUSC3_R170I\n",
       "11   SPDWFRSFEALLADL     DCLK1_R80W\n",
       "12   PDWFRSFEALLADLT     DCLK1_R80W\n",
       "13   DWFRSFEALLADLTR     DCLK1_R80W\n",
       "14   WFRSFEALLADLTRT     DCLK1_R80W\n",
       "10   EAQYQFIYMAVQHYI   PTPN11_R512Q\n",
       "11   AQYQFIYMAVQHYIE   PTPN11_R512Q\n",
       "12   QYQFIYMAVQHYIET   PTPN11_R512Q\n",
       "13   ALYRFIYMAVQHYIE   PTPN11_Q510L\n",
       "14   LYRFIYMAVQHYIET   PTPN11_Q510L\n",
       "13   INNFSIASFFPAFIT   FAM8A1_K374N\n",
       "14   QFGAYLVAHKLMSFE    ABCB1_R958Q\n",
       "10   ADGVGKSALTIQLIQ      KRAS_G12D\n",
       "10   ADGVGKSALTIQLIQ      NRAS_G12D\n",
       "10   ADGVGKSALTIQLIQ      HRAS_G12D"
      ]
     },
     "execution_count": 64,
     "metadata": {},
     "output_type": "execute_result"
    }
   ],
   "source": [
    "df[df.Peptide.isin(well_presented_peptides)][['Peptide', 'ID']].drop_duplicates()"
   ]
  },
  {
   "cell_type": "code",
   "execution_count": 65,
   "metadata": {
    "collapsed": true
   },
   "outputs": [],
   "source": [
    "ras = 'ADGVGKSALTIQLIQ'"
   ]
  },
  {
   "cell_type": "code",
   "execution_count": 67,
   "metadata": {
    "collapsed": false
   },
   "outputs": [
    {
     "data": {
      "text/html": [
       "<div>\n",
       "<table border=\"1\" class=\"dataframe\">\n",
       "  <thead>\n",
       "    <tr style=\"text-align: right;\">\n",
       "      <th></th>\n",
       "      <th>1-log50k</th>\n",
       "      <th>nM</th>\n",
       "      <th>Rank</th>\n",
       "      <th>Ave</th>\n",
       "      <th>NB</th>\n",
       "    </tr>\n",
       "  </thead>\n",
       "  <tbody>\n",
       "    <tr>\n",
       "      <th>count</th>\n",
       "      <td>4443.00000</td>\n",
       "      <td>4443.000000</td>\n",
       "      <td>4443.000000</td>\n",
       "      <td>4443.00000</td>\n",
       "      <td>4443.000000</td>\n",
       "    </tr>\n",
       "    <tr>\n",
       "      <th>mean</th>\n",
       "      <td>0.53807</td>\n",
       "      <td>181.945172</td>\n",
       "      <td>6.828832</td>\n",
       "      <td>0.53807</td>\n",
       "      <td>0.961512</td>\n",
       "    </tr>\n",
       "    <tr>\n",
       "      <th>std</th>\n",
       "      <td>0.06067</td>\n",
       "      <td>118.365332</td>\n",
       "      <td>1.699053</td>\n",
       "      <td>0.06067</td>\n",
       "      <td>0.192392</td>\n",
       "    </tr>\n",
       "    <tr>\n",
       "      <th>min</th>\n",
       "      <td>0.40300</td>\n",
       "      <td>36.350000</td>\n",
       "      <td>3.000000</td>\n",
       "      <td>0.40300</td>\n",
       "      <td>0.000000</td>\n",
       "    </tr>\n",
       "    <tr>\n",
       "      <th>25%</th>\n",
       "      <td>0.49700</td>\n",
       "      <td>91.090000</td>\n",
       "      <td>5.500000</td>\n",
       "      <td>0.49700</td>\n",
       "      <td>1.000000</td>\n",
       "    </tr>\n",
       "    <tr>\n",
       "      <th>50%</th>\n",
       "      <td>0.53100</td>\n",
       "      <td>160.400000</td>\n",
       "      <td>7.000000</td>\n",
       "      <td>0.53100</td>\n",
       "      <td>1.000000</td>\n",
       "    </tr>\n",
       "    <tr>\n",
       "      <th>75%</th>\n",
       "      <td>0.58300</td>\n",
       "      <td>232.220000</td>\n",
       "      <td>8.500000</td>\n",
       "      <td>0.58300</td>\n",
       "      <td>1.000000</td>\n",
       "    </tr>\n",
       "    <tr>\n",
       "      <th>max</th>\n",
       "      <td>0.66800</td>\n",
       "      <td>642.130000</td>\n",
       "      <td>9.500000</td>\n",
       "      <td>0.66800</td>\n",
       "      <td>1.000000</td>\n",
       "    </tr>\n",
       "  </tbody>\n",
       "</table>\n",
       "</div>"
      ],
      "text/plain": [
       "         1-log50k           nM         Rank         Ave           NB\n",
       "count  4443.00000  4443.000000  4443.000000  4443.00000  4443.000000\n",
       "mean      0.53807   181.945172     6.828832     0.53807     0.961512\n",
       "std       0.06067   118.365332     1.699053     0.06067     0.192392\n",
       "min       0.40300    36.350000     3.000000     0.40300     0.000000\n",
       "25%       0.49700    91.090000     5.500000     0.49700     1.000000\n",
       "50%       0.53100   160.400000     7.000000     0.53100     1.000000\n",
       "75%       0.58300   232.220000     8.500000     0.58300     1.000000\n",
       "max       0.66800   642.130000     9.500000     0.66800     1.000000"
      ]
     },
     "execution_count": 67,
     "metadata": {},
     "output_type": "execute_result"
    }
   ],
   "source": [
    "df[df.Peptide == ras].describe()"
   ]
  },
  {
   "cell_type": "code",
   "execution_count": null,
   "metadata": {
    "collapsed": true
   },
   "outputs": [],
   "source": []
  },
  {
   "cell_type": "code",
   "execution_count": null,
   "metadata": {
    "collapsed": true
   },
   "outputs": [],
   "source": []
  },
  {
   "cell_type": "code",
   "execution_count": null,
   "metadata": {
    "collapsed": true
   },
   "outputs": [],
   "source": []
  }
 ],
 "metadata": {
  "kernelspec": {
   "display_name": "Python 2",
   "language": "python",
   "name": "python2"
  },
  "language_info": {
   "codemirror_mode": {
    "name": "ipython",
    "version": 2
   },
   "file_extension": ".py",
   "mimetype": "text/x-python",
   "name": "python",
   "nbconvert_exporter": "python",
   "pygments_lexer": "ipython2",
   "version": "2.7.14"
  }
 },
 "nbformat": 4,
 "nbformat_minor": 0
}
