{
 "cells": [
  {
   "cell_type": "code",
   "execution_count": 5,
   "metadata": {
    "collapsed": false
   },
   "outputs": [
    {
     "name": "stdout",
     "output_type": "stream",
     "text": [
      "Populating the interactive namespace from numpy and matplotlib\n"
     ]
    },
    {
     "name": "stderr",
     "output_type": "stream",
     "text": [
      "WARNING: pylab import has clobbered these variables: ['f']\n",
      "`%matplotlib` prevents importing * from pylab and numpy\n"
     ]
    }
   ],
   "source": [
    "import io\n",
    "from IPython.nbformat import current\n",
    "def execute_notebook(nbfile):\n",
    "    with io.open(nbfile) as f:\n",
    "        nb = current.read(f, 'json')\n",
    "    ip = get_ipython()\n",
    "    for cell in nb.worksheets[0].cells:\n",
    "        if cell.cell_type != 'code':\n",
    "            continue\n",
    "        ip.run_cell(cell.input)\n",
    "execute_notebook(\"/cellar/users/ramarty/Projects/hla_ii/bin/imports.ipynb\")"
   ]
  },
  {
   "cell_type": "markdown",
   "metadata": {},
   "source": [
    "##Cibersort"
   ]
  },
  {
   "cell_type": "code",
   "execution_count": 29,
   "metadata": {
    "collapsed": true
   },
   "outputs": [],
   "source": [
    "PATH='/cellar/users/ramarty/Data/hla_ii/clinical/immune_infiltration/'\n",
    "files = [PATH+x for x in os.listdir(PATH)]"
   ]
  },
  {
   "cell_type": "code",
   "execution_count": 30,
   "metadata": {
    "collapsed": false
   },
   "outputs": [],
   "source": [
    "all_dfs = []\n",
    "for f in files:\n",
    "    all_dfs.append(pd.read_csv(f, index_col=0))\n",
    "df = pd.concat(all_dfs)"
   ]
  },
  {
   "cell_type": "code",
   "execution_count": 31,
   "metadata": {
    "collapsed": false
   },
   "outputs": [],
   "source": [
    "df.to_csv('/cellar/users/ramarty/Data/hla_ii/generated_data/cibersort.csv')"
   ]
  },
  {
   "cell_type": "markdown",
   "metadata": {},
   "source": [
    "Division into hot/cold based on CD4"
   ]
  },
  {
   "cell_type": "code",
   "execution_count": 32,
   "metadata": {
    "collapsed": false
   },
   "outputs": [
    {
     "data": {
      "text/plain": [
       "Index([u'B cells naive', u'B cells memory', u'Plasma cells', u'T cells CD8',\n",
       "       u'T cells CD4 naive', u'T cells CD4 memory resting',\n",
       "       u'T cells CD4 memory activated', u'T cells follicular helper',\n",
       "       u'T cells regulatory (Tregs)', u'T cells gamma delta',\n",
       "       u'NK cells resting', u'NK cells activated', u'Monocytes',\n",
       "       u'Macrophages M0', u'Macrophages M1', u'Macrophages M2',\n",
       "       u'Dendritic cells resting', u'Dendritic cells activated',\n",
       "       u'Mast cells resting', u'Mast cells activated', u'Eosinophils',\n",
       "       u'Neutrophils', u'P-value', u'Pearson Correlation', u'RMSE'],\n",
       "      dtype='object')"
      ]
     },
     "execution_count": 32,
     "metadata": {},
     "output_type": "execute_result"
    }
   ],
   "source": [
    "df.columns"
   ]
  },
  {
   "cell_type": "code",
   "execution_count": 33,
   "metadata": {
    "collapsed": false
   },
   "outputs": [],
   "source": [
    "df['CD4'] = df['T cells CD4 naive'] + df['T cells CD4 memory resting'] \\\n",
    "            + df['T cells CD4 memory activated']"
   ]
  },
  {
   "cell_type": "code",
   "execution_count": 34,
   "metadata": {
    "collapsed": true
   },
   "outputs": [],
   "source": [
    "conservative_patients = list(pd.read_csv('/cellar/users/ramarty/Data/hla_ii/presentation/clean_matrices/patient_affinities.cancer.TCGA.conservative.mut.ClassI.csv',\n",
    "            index_col=0).index)"
   ]
  },
  {
   "cell_type": "code",
   "execution_count": 35,
   "metadata": {
    "collapsed": false
   },
   "outputs": [],
   "source": [
    "df = df.loc[conservative_patients, 'CD4'].dropna()"
   ]
  },
  {
   "cell_type": "code",
   "execution_count": 42,
   "metadata": {
    "collapsed": false
   },
   "outputs": [],
   "source": [
    "cold = list(df[df <= df.quantile(.25)].index)\n",
    "cool = list(df[(df > df.quantile(.25))&(df <= df.quantile(.5))].index)\n",
    "warm = list(df[(df > df.quantile(.5))&(df <= df.quantile(.75))].index)\n",
    "hot = list(df[df > df.quantile(.75)].index)"
   ]
  },
  {
   "cell_type": "code",
   "execution_count": 44,
   "metadata": {
    "collapsed": false
   },
   "outputs": [],
   "source": [
    "for l, heat in zip([cold, cool, warm, hot], ['cold', 'cool', 'warm', 'hot']):\n",
    "    with open('/cellar/users/ramarty/Data/hla_ii/generated_data/clinical/CD4_infiltration.{0}.txt'.format(heat), 'w') as f:\n",
    "        for p in l:\n",
    "            f.write('{0}\\n'.format(p))"
   ]
  },
  {
   "cell_type": "markdown",
   "metadata": {},
   "source": [
    "##Cytotoxicity"
   ]
  },
  {
   "cell_type": "code",
   "execution_count": 36,
   "metadata": {
    "collapsed": true
   },
   "outputs": [],
   "source": [
    "PATH='/cellar/users/ramarty/Data/hla_ii/clinical/expression/'\n",
    "files = [PATH+x for x in os.listdir(PATH)]"
   ]
  },
  {
   "cell_type": "code",
   "execution_count": 37,
   "metadata": {
    "collapsed": false
   },
   "outputs": [
    {
     "name": "stdout",
     "output_type": "stream",
     "text": [
      "/cellar/users/ramarty/Data/hla_ii/clinical/expression/expression.6000_7000.tsv\n"
     ]
    }
   ],
   "source": [
    "all_dfs = []\n",
    "for f in files:\n",
    "    try:\n",
    "        all_dfs.append(pd.read_csv(f, sep='\\t', index_col=0).transpose()[['GZMA', 'PRF1']])\n",
    "    except:\n",
    "        print f\n",
    "df = pd.concat(all_dfs)"
   ]
  },
  {
   "cell_type": "code",
   "execution_count": 38,
   "metadata": {
    "collapsed": true
   },
   "outputs": [],
   "source": [
    "df['Cytolytic'] = sp.mstats.gmean(df[['GZMA', 'PRF1']], axis=1)"
   ]
  },
  {
   "cell_type": "code",
   "execution_count": 39,
   "metadata": {
    "collapsed": false
   },
   "outputs": [],
   "source": [
    "df.to_csv('/cellar/users/ramarty/Data/hla_ii/generated_data/cytotoxicity.csv')"
   ]
  },
  {
   "cell_type": "code",
   "execution_count": 34,
   "metadata": {
    "collapsed": false
   },
   "outputs": [
    {
     "data": {
      "text/plain": [
       "(8658, 3)"
      ]
     },
     "execution_count": 34,
     "metadata": {},
     "output_type": "execute_result"
    }
   ],
   "source": [
    "df.shape"
   ]
  },
  {
   "cell_type": "code",
   "execution_count": 24,
   "metadata": {
    "collapsed": false
   },
   "outputs": [],
   "source": [
    "# missing some genes\n",
    "test = pd.read_csv('/cellar/users/ramarty/Data/hla_ii/clinical/expression/expression.6000_7000.tsv', sep='\\t',\n",
    "                  index_col=0).transpose()"
   ]
  },
  {
   "cell_type": "code",
   "execution_count": 33,
   "metadata": {
    "collapsed": false
   },
   "outputs": [
    {
     "data": {
      "text/html": [
       "<div>\n",
       "<table border=\"1\" class=\"dataframe\">\n",
       "  <thead>\n",
       "    <tr style=\"text-align: right;\">\n",
       "      <th>symbol</th>\n",
       "      <th>GZMA</th>\n",
       "    </tr>\n",
       "  </thead>\n",
       "  <tbody>\n",
       "    <tr>\n",
       "      <th>TCGA-A7-A26H</th>\n",
       "      <td>359</td>\n",
       "    </tr>\n",
       "    <tr>\n",
       "      <th>TCGA-VD-A8KD</th>\n",
       "      <td>622</td>\n",
       "    </tr>\n",
       "    <tr>\n",
       "      <th>TCGA-24-1616</th>\n",
       "      <td>80</td>\n",
       "    </tr>\n",
       "    <tr>\n",
       "      <th>TCGA-56-8503</th>\n",
       "      <td>214</td>\n",
       "    </tr>\n",
       "    <tr>\n",
       "      <th>TCGA-CJ-4874</th>\n",
       "      <td>2338</td>\n",
       "    </tr>\n",
       "  </tbody>\n",
       "</table>\n",
       "</div>"
      ],
      "text/plain": [
       "symbol        GZMA\n",
       "TCGA-A7-A26H   359\n",
       "TCGA-VD-A8KD   622\n",
       "TCGA-24-1616    80\n",
       "TCGA-56-8503   214\n",
       "TCGA-CJ-4874  2338"
      ]
     },
     "execution_count": 33,
     "metadata": {},
     "output_type": "execute_result"
    }
   ],
   "source": [
    "test[['GZMA']].head()"
   ]
  },
  {
   "cell_type": "code",
   "execution_count": null,
   "metadata": {
    "collapsed": true
   },
   "outputs": [],
   "source": []
  }
 ],
 "metadata": {
  "kernelspec": {
   "display_name": "Python 2",
   "language": "python",
   "name": "python2"
  },
  "language_info": {
   "codemirror_mode": {
    "name": "ipython",
    "version": 2
   },
   "file_extension": ".py",
   "mimetype": "text/x-python",
   "name": "python",
   "nbconvert_exporter": "python",
   "pygments_lexer": "ipython2",
   "version": "2.7.14"
  }
 },
 "nbformat": 4,
 "nbformat_minor": 0
}
