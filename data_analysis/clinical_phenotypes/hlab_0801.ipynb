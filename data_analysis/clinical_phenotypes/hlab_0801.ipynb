{
 "cells": [
  {
   "cell_type": "code",
   "execution_count": 1,
   "metadata": {
    "collapsed": false
   },
   "outputs": [
    {
     "name": "stdout",
     "output_type": "stream",
     "text": [
      "Populating the interactive namespace from numpy and matplotlib\n"
     ]
    },
    {
     "name": "stderr",
     "output_type": "stream",
     "text": [
      "/cellar/users/ramarty/anaconda/lib/python2.7/site-packages/IPython/nbformat/current.py:19: UserWarning: IPython.nbformat.current is deprecated.\n",
      "\n",
      "- use IPython.nbformat for read/write/validate public API\n",
      "- use IPython.nbformat.vX directly to composing notebooks of a particular version\n",
      "\n",
      "  \"\"\")\n"
     ]
    }
   ],
   "source": [
    "import io\n",
    "from IPython.nbformat import current\n",
    "def execute_notebook(nbfile):\n",
    "    with io.open(nbfile) as f:\n",
    "        nb = current.read(f, 'json')\n",
    "    ip = get_ipython()\n",
    "    for cell in nb.worksheets[0].cells:\n",
    "        if cell.cell_type != 'code':\n",
    "            continue\n",
    "        ip.run_cell(cell.input)\n",
    "execute_notebook(\"../../bin/imports.ipynb\")"
   ]
  },
  {
   "cell_type": "code",
   "execution_count": 2,
   "metadata": {
    "collapsed": true
   },
   "outputs": [],
   "source": [
    "hla_types = pd.read_csv('/cellar/users/ramarty/Data/hla/hla_typing/sample_and_types.complete.csv', index_col=0)\n",
    "tissue_df = pd.read_csv('/cellar/users/ramarty/Data/hla/sandbox/david/patient_tissues.csv', index_col=0)"
   ]
  },
  {
   "cell_type": "code",
   "execution_count": 3,
   "metadata": {
    "collapsed": false
   },
   "outputs": [
    {
     "data": {
      "text/html": [
       "<div>\n",
       "<table border=\"1\" class=\"dataframe\">\n",
       "  <thead>\n",
       "    <tr style=\"text-align: right;\">\n",
       "      <th></th>\n",
       "      <th>A1</th>\n",
       "      <th>A2</th>\n",
       "      <th>B1</th>\n",
       "      <th>B2</th>\n",
       "      <th>C1</th>\n",
       "      <th>C2</th>\n",
       "      <th>Sample</th>\n",
       "    </tr>\n",
       "  </thead>\n",
       "  <tbody>\n",
       "    <tr>\n",
       "      <th>0</th>\n",
       "      <td>A*01:01</td>\n",
       "      <td>A*02:01</td>\n",
       "      <td>B*07:02</td>\n",
       "      <td>B*35:03</td>\n",
       "      <td>C*04:01</td>\n",
       "      <td>C*07:02</td>\n",
       "      <td>TCGA-P5-A780</td>\n",
       "    </tr>\n",
       "    <tr>\n",
       "      <th>1</th>\n",
       "      <td>A*02:01</td>\n",
       "      <td>A*24:02</td>\n",
       "      <td>B*15:01</td>\n",
       "      <td>B*57:01</td>\n",
       "      <td>C*03:03</td>\n",
       "      <td>C*07:01</td>\n",
       "      <td>TCGA-55-A494</td>\n",
       "    </tr>\n",
       "    <tr>\n",
       "      <th>2</th>\n",
       "      <td>A*02:01</td>\n",
       "      <td>A*02:01</td>\n",
       "      <td>B*08:01</td>\n",
       "      <td>B*57:01</td>\n",
       "      <td>C*06:02</td>\n",
       "      <td>C*07:01</td>\n",
       "      <td>TCGA-BR-8382</td>\n",
       "    </tr>\n",
       "    <tr>\n",
       "      <th>3</th>\n",
       "      <td>A*02:01</td>\n",
       "      <td>A*02:01</td>\n",
       "      <td>B*07:04</td>\n",
       "      <td>B*52:01</td>\n",
       "      <td>C*07:02</td>\n",
       "      <td>C*12:02</td>\n",
       "      <td>TCGA-Z2-AA3S</td>\n",
       "    </tr>\n",
       "    <tr>\n",
       "      <th>4</th>\n",
       "      <td>A*02:01</td>\n",
       "      <td>A*11:01</td>\n",
       "      <td>B*35:03</td>\n",
       "      <td>B*40:01</td>\n",
       "      <td>C*03:04</td>\n",
       "      <td>C*12:03</td>\n",
       "      <td>TCGA-BR-6564</td>\n",
       "    </tr>\n",
       "  </tbody>\n",
       "</table>\n",
       "</div>"
      ],
      "text/plain": [
       "        A1       A2       B1       B2       C1       C2        Sample\n",
       "0  A*01:01  A*02:01  B*07:02  B*35:03  C*04:01  C*07:02  TCGA-P5-A780\n",
       "1  A*02:01  A*24:02  B*15:01  B*57:01  C*03:03  C*07:01  TCGA-55-A494\n",
       "2  A*02:01  A*02:01  B*08:01  B*57:01  C*06:02  C*07:01  TCGA-BR-8382\n",
       "3  A*02:01  A*02:01  B*07:04  B*52:01  C*07:02  C*12:02  TCGA-Z2-AA3S\n",
       "4  A*02:01  A*11:01  B*35:03  B*40:01  C*03:04  C*12:03  TCGA-BR-6564"
      ]
     },
     "execution_count": 3,
     "metadata": {},
     "output_type": "execute_result"
    }
   ],
   "source": [
    "hla_types.head()"
   ]
  },
  {
   "cell_type": "code",
   "execution_count": 4,
   "metadata": {
    "collapsed": false
   },
   "outputs": [
    {
     "data": {
      "text/html": [
       "<div>\n",
       "<table border=\"1\" class=\"dataframe\">\n",
       "  <thead>\n",
       "    <tr style=\"text-align: right;\">\n",
       "      <th></th>\n",
       "      <th>Tissue</th>\n",
       "    </tr>\n",
       "    <tr>\n",
       "      <th>Sample</th>\n",
       "      <th></th>\n",
       "    </tr>\n",
       "  </thead>\n",
       "  <tbody>\n",
       "    <tr>\n",
       "      <th>TCGA-3H-AB3K</th>\n",
       "      <td>MESO</td>\n",
       "    </tr>\n",
       "    <tr>\n",
       "      <th>TCGA-3H-AB3L</th>\n",
       "      <td>MESO</td>\n",
       "    </tr>\n",
       "    <tr>\n",
       "      <th>TCGA-3H-AB3M</th>\n",
       "      <td>MESO</td>\n",
       "    </tr>\n",
       "    <tr>\n",
       "      <th>TCGA-3H-AB3O</th>\n",
       "      <td>MESO</td>\n",
       "    </tr>\n",
       "    <tr>\n",
       "      <th>TCGA-3H-AB3S</th>\n",
       "      <td>MESO</td>\n",
       "    </tr>\n",
       "  </tbody>\n",
       "</table>\n",
       "</div>"
      ],
      "text/plain": [
       "             Tissue\n",
       "Sample             \n",
       "TCGA-3H-AB3K   MESO\n",
       "TCGA-3H-AB3L   MESO\n",
       "TCGA-3H-AB3M   MESO\n",
       "TCGA-3H-AB3O   MESO\n",
       "TCGA-3H-AB3S   MESO"
      ]
     },
     "execution_count": 4,
     "metadata": {},
     "output_type": "execute_result"
    }
   ],
   "source": [
    "tissue_df.head()"
   ]
  },
  {
   "cell_type": "code",
   "execution_count": 6,
   "metadata": {
    "collapsed": false
   },
   "outputs": [
    {
     "data": {
      "text/plain": [
       "(9176, 9176)"
      ]
     },
     "execution_count": 6,
     "metadata": {},
     "output_type": "execute_result"
    }
   ],
   "source": [
    "len(hla_types), len(tissue_df)"
   ]
  },
  {
   "cell_type": "code",
   "execution_count": 10,
   "metadata": {
    "collapsed": false
   },
   "outputs": [],
   "source": [
    "DLBC_samples = list(tissue_df[tissue_df.Tissue == 'DLBC'].index)\n",
    "other_samples = [x for x in tissue_df.index if x not in DLBC_samples]"
   ]
  },
  {
   "cell_type": "code",
   "execution_count": 20,
   "metadata": {
    "collapsed": false
   },
   "outputs": [
    {
     "data": {
      "text/plain": [
       "36"
      ]
     },
     "execution_count": 20,
     "metadata": {},
     "output_type": "execute_result"
    }
   ],
   "source": [
    "len(DLBC_samples)"
   ]
  },
  {
   "cell_type": "code",
   "execution_count": 14,
   "metadata": {
    "collapsed": false
   },
   "outputs": [],
   "source": [
    "DLBC_HLAB = list(hla_types[hla_types.Sample.isin(DLBC_samples)]['B1']) + list(hla_types[hla_types.Sample.isin(DLBC_samples)]['B2'])\n",
    "other_HLAB = list(hla_types[hla_types.Sample.isin(other_samples)]['B1']) + list(hla_types[hla_types.Sample.isin(other_samples)]['B2'])"
   ]
  },
  {
   "cell_type": "code",
   "execution_count": 18,
   "metadata": {
    "collapsed": false
   },
   "outputs": [
    {
     "data": {
      "text/plain": [
       "0.06944444444444445"
      ]
     },
     "execution_count": 18,
     "metadata": {},
     "output_type": "execute_result"
    }
   ],
   "source": [
    "DLBC_HLAB.count('B*08:01') / float(len(DLBC_HLAB))"
   ]
  },
  {
   "cell_type": "code",
   "execution_count": 19,
   "metadata": {
    "collapsed": false
   },
   "outputs": [
    {
     "data": {
      "text/plain": [
       "0.08971553610503283"
      ]
     },
     "execution_count": 19,
     "metadata": {},
     "output_type": "execute_result"
    }
   ],
   "source": [
    "other_HLAB.count('B*08:01') / float(len(other_HLAB))"
   ]
  },
  {
   "cell_type": "code",
   "execution_count": null,
   "metadata": {
    "collapsed": true
   },
   "outputs": [],
   "source": []
  },
  {
   "cell_type": "code",
   "execution_count": null,
   "metadata": {
    "collapsed": true
   },
   "outputs": [],
   "source": []
  }
 ],
 "metadata": {
  "kernelspec": {
   "display_name": "Python 2",
   "language": "python",
   "name": "python2"
  },
  "language_info": {
   "codemirror_mode": {
    "name": "ipython",
    "version": 2
   },
   "file_extension": ".py",
   "mimetype": "text/x-python",
   "name": "python",
   "nbconvert_exporter": "python",
   "pygments_lexer": "ipython2",
   "version": "2.7.12"
  }
 },
 "nbformat": 4,
 "nbformat_minor": 0
}
