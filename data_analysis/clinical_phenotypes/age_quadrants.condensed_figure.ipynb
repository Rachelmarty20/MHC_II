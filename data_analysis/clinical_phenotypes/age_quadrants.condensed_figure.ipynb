{
 "cells": [
  {
   "cell_type": "code",
   "execution_count": 2,
   "metadata": {
    "scrolled": true
   },
   "outputs": [
    {
     "name": "stdout",
     "output_type": "stream",
     "text": [
      "Populating the interactive namespace from numpy and matplotlib\n"
     ]
    }
   ],
   "source": [
    "import io\n",
    "from IPython.nbformat import current\n",
    "def execute_notebook(nbfile):\n",
    "    with io.open(nbfile) as f:\n",
    "        nb = current.read(f, 'json')\n",
    "    ip = get_ipython()\n",
    "    for cell in nb.worksheets[0].cells:\n",
    "        if cell.cell_type != 'code':\n",
    "            continue\n",
    "        ip.run_cell(cell.input)\n",
    "execute_notebook(\"/cellar/users/ramarty/Projects/hla_ii/bin/imports.ipynb\")"
   ]
  },
  {
   "cell_type": "markdown",
   "metadata": {},
   "source": [
    "## Patient Coverage"
   ]
  },
  {
   "cell_type": "code",
   "execution_count": 4,
   "metadata": {},
   "outputs": [],
   "source": [
    "clinical = pd.read_csv('/cellar/users/ramarty/Data/hla_ii/generated_data/mhc_diversity/dataframe.csv', index_col=0)"
   ]
  },
  {
   "cell_type": "code",
   "execution_count": 5,
   "metadata": {},
   "outputs": [
    {
     "data": {
      "text/html": [
       "<div>\n",
       "<style scoped>\n",
       "    .dataframe tbody tr th:only-of-type {\n",
       "        vertical-align: middle;\n",
       "    }\n",
       "\n",
       "    .dataframe tbody tr th {\n",
       "        vertical-align: top;\n",
       "    }\n",
       "\n",
       "    .dataframe thead th {\n",
       "        text-align: right;\n",
       "    }\n",
       "</style>\n",
       "<table border=\"1\" class=\"dataframe\">\n",
       "  <thead>\n",
       "    <tr style=\"text-align: right;\">\n",
       "      <th></th>\n",
       "      <th>classI</th>\n",
       "      <th>classII</th>\n",
       "      <th>Tissue</th>\n",
       "      <th>Age</th>\n",
       "      <th>Race</th>\n",
       "      <th>homozygous_classI</th>\n",
       "      <th>homozygous_classII</th>\n",
       "      <th>homozygous_total</th>\n",
       "      <th>passenger_coverageI</th>\n",
       "      <th>passenger_coverageII</th>\n",
       "      <th>classI_cat</th>\n",
       "      <th>classII_cat</th>\n",
       "      <th>classI_het</th>\n",
       "      <th>classII_het</th>\n",
       "    </tr>\n",
       "  </thead>\n",
       "  <tbody>\n",
       "    <tr>\n",
       "      <th>TCGA-DH-A7UV</th>\n",
       "      <td>0.494106</td>\n",
       "      <td>0.306483</td>\n",
       "      <td>LGG</td>\n",
       "      <td>49.0</td>\n",
       "      <td>WHITE</td>\n",
       "      <td>1.0</td>\n",
       "      <td>3.0</td>\n",
       "      <td>4.0</td>\n",
       "      <td>0.536184</td>\n",
       "      <td>0.340</td>\n",
       "      <td>other</td>\n",
       "      <td>other</td>\n",
       "      <td>other</td>\n",
       "      <td>homo</td>\n",
       "    </tr>\n",
       "    <tr>\n",
       "      <th>TCGA-DH-A7UT</th>\n",
       "      <td>0.554028</td>\n",
       "      <td>0.320236</td>\n",
       "      <td>LGG</td>\n",
       "      <td>30.0</td>\n",
       "      <td>WHITE</td>\n",
       "      <td>1.0</td>\n",
       "      <td>1.0</td>\n",
       "      <td>2.0</td>\n",
       "      <td>0.530702</td>\n",
       "      <td>0.387</td>\n",
       "      <td>high</td>\n",
       "      <td>other</td>\n",
       "      <td>other</td>\n",
       "      <td>het</td>\n",
       "    </tr>\n",
       "    <tr>\n",
       "      <th>TCGA-DH-A7UR</th>\n",
       "      <td>0.501965</td>\n",
       "      <td>0.310413</td>\n",
       "      <td>LGG</td>\n",
       "      <td>59.0</td>\n",
       "      <td>WHITE</td>\n",
       "      <td>0.0</td>\n",
       "      <td>0.0</td>\n",
       "      <td>0.0</td>\n",
       "      <td>0.514254</td>\n",
       "      <td>0.361</td>\n",
       "      <td>other</td>\n",
       "      <td>other</td>\n",
       "      <td>het</td>\n",
       "      <td>het</td>\n",
       "    </tr>\n",
       "    <tr>\n",
       "      <th>TCGA-DH-A7US</th>\n",
       "      <td>0.441061</td>\n",
       "      <td>0.332024</td>\n",
       "      <td>LGG</td>\n",
       "      <td>50.0</td>\n",
       "      <td>WHITE</td>\n",
       "      <td>0.0</td>\n",
       "      <td>2.0</td>\n",
       "      <td>2.0</td>\n",
       "      <td>0.527412</td>\n",
       "      <td>0.384</td>\n",
       "      <td>low</td>\n",
       "      <td>high</td>\n",
       "      <td>het</td>\n",
       "      <td>het</td>\n",
       "    </tr>\n",
       "    <tr>\n",
       "      <th>TCGA-DD-A4NB</th>\n",
       "      <td>0.482318</td>\n",
       "      <td>0.321218</td>\n",
       "      <td>LIHC</td>\n",
       "      <td>25.0</td>\n",
       "      <td>WHITE</td>\n",
       "      <td>0.0</td>\n",
       "      <td>0.0</td>\n",
       "      <td>0.0</td>\n",
       "      <td>0.493421</td>\n",
       "      <td>0.376</td>\n",
       "      <td>other</td>\n",
       "      <td>other</td>\n",
       "      <td>het</td>\n",
       "      <td>het</td>\n",
       "    </tr>\n",
       "  </tbody>\n",
       "</table>\n",
       "</div>"
      ],
      "text/plain": [
       "                classI   classII Tissue   Age   Race  homozygous_classI  \\\n",
       "TCGA-DH-A7UV  0.494106  0.306483    LGG  49.0  WHITE                1.0   \n",
       "TCGA-DH-A7UT  0.554028  0.320236    LGG  30.0  WHITE                1.0   \n",
       "TCGA-DH-A7UR  0.501965  0.310413    LGG  59.0  WHITE                0.0   \n",
       "TCGA-DH-A7US  0.441061  0.332024    LGG  50.0  WHITE                0.0   \n",
       "TCGA-DD-A4NB  0.482318  0.321218   LIHC  25.0  WHITE                0.0   \n",
       "\n",
       "              homozygous_classII  homozygous_total  passenger_coverageI  \\\n",
       "TCGA-DH-A7UV                 3.0               4.0             0.536184   \n",
       "TCGA-DH-A7UT                 1.0               2.0             0.530702   \n",
       "TCGA-DH-A7UR                 0.0               0.0             0.514254   \n",
       "TCGA-DH-A7US                 2.0               2.0             0.527412   \n",
       "TCGA-DD-A4NB                 0.0               0.0             0.493421   \n",
       "\n",
       "              passenger_coverageII classI_cat classII_cat classI_het  \\\n",
       "TCGA-DH-A7UV                 0.340      other       other      other   \n",
       "TCGA-DH-A7UT                 0.387       high       other      other   \n",
       "TCGA-DH-A7UR                 0.361      other       other        het   \n",
       "TCGA-DH-A7US                 0.384        low        high        het   \n",
       "TCGA-DD-A4NB                 0.376      other       other        het   \n",
       "\n",
       "             classII_het  \n",
       "TCGA-DH-A7UV        homo  \n",
       "TCGA-DH-A7UT         het  \n",
       "TCGA-DH-A7UR         het  \n",
       "TCGA-DH-A7US         het  \n",
       "TCGA-DD-A4NB         het  "
      ]
     },
     "execution_count": 5,
     "metadata": {},
     "output_type": "execute_result"
    }
   ],
   "source": [
    "clinical.head()"
   ]
  },
  {
   "cell_type": "code",
   "execution_count": 6,
   "metadata": {},
   "outputs": [],
   "source": [
    "clinical = clinical.dropna()"
   ]
  },
  {
   "cell_type": "code",
   "execution_count": 36,
   "metadata": {},
   "outputs": [],
   "source": [
    "median_dict = {}\n",
    "for tissue in clinical.Tissue.unique():\n",
    "    median_dict[tissue] = clinical[clinical.Tissue == tissue].Age.median()"
   ]
  },
  {
   "cell_type": "code",
   "execution_count": 39,
   "metadata": {},
   "outputs": [],
   "source": [
    "# Get median age for each tissue type\n",
    "def get_median(x):\n",
    "    return median_dict[x] \n",
    "clinical['tissue_median'] = clinical.Tissue.apply(get_median)"
   ]
  },
  {
   "cell_type": "code",
   "execution_count": 53,
   "metadata": {},
   "outputs": [],
   "source": [
    "# Get difference from median for each patient\n",
    "clinical['difference_in_median'] = clinical.Age - clinical['tissue_median'] "
   ]
  },
  {
   "cell_type": "code",
   "execution_count": 54,
   "metadata": {},
   "outputs": [
    {
     "data": {
      "text/plain": [
       "count    4662.000000\n",
       "mean       -0.159159\n",
       "std        12.444193\n",
       "min       -45.000000\n",
       "25%        -8.000000\n",
       "50%         0.000000\n",
       "75%         8.000000\n",
       "max        46.000000\n",
       "Name: difference_in_median, dtype: float64"
      ]
     },
     "execution_count": 54,
     "metadata": {},
     "output_type": "execute_result"
    }
   ],
   "source": [
    "clinical.difference_in_median.describe()"
   ]
  },
  {
   "cell_type": "code",
   "execution_count": 55,
   "metadata": {},
   "outputs": [],
   "source": [
    "tmp1 = clinical[clinical.Tissue == 'LIHC'][['classI_cat', 'difference_in_median']]\n",
    "tmp1['Category'] = 'LIHC'"
   ]
  },
  {
   "cell_type": "code",
   "execution_count": 56,
   "metadata": {},
   "outputs": [
    {
     "name": "stderr",
     "output_type": "stream",
     "text": [
      "/cellar/users/ramarty/anaconda/lib/python2.7/site-packages/ipykernel_launcher.py:2: SettingWithCopyWarning: \n",
      "A value is trying to be set on a copy of a slice from a DataFrame.\n",
      "Try using .loc[row_indexer,col_indexer] = value instead\n",
      "\n",
      "See the caveats in the documentation: http://pandas.pydata.org/pandas-docs/stable/indexing.html#indexing-view-versus-copy\n",
      "  \n"
     ]
    }
   ],
   "source": [
    "tmp2 = clinical[['classI_cat', 'difference_in_median']]\n",
    "tmp2['Category'] = 'Pan'"
   ]
  },
  {
   "cell_type": "code",
   "execution_count": 64,
   "metadata": {},
   "outputs": [],
   "source": [
    "tmp_all = pd.concat([tmp1, tmp2])\n",
    "tmp_all.columns = ['Coverage', 'Years\\nEarly Diagnosis < > Late Diagnosis', 'Tissue']"
   ]
  },
  {
   "cell_type": "code",
   "execution_count": 66,
   "metadata": {},
   "outputs": [
    {
     "data": {
      "image/png": "[encoded data removed]",
      "text/plain": [
       "<Figure size 432x288 with 1 Axes>"
      ]
     },
     "metadata": {},
     "output_type": "display_data"
    }
   ],
   "source": [
    "sns.boxplot(x='Tissue', y='Years\\nEarly Diagnosis < > Late Diagnosis', hue='Coverage', \n",
    "            data=tmp_all, hue_order=['low', 'high'])\n",
    "plt.savefig('/cellar/users/ramarty/Data/hla_ii/generated_figures/mhc_diversity/LIHC_PAN.age_at_diagnosis.pdf')"
   ]
  },
  {
   "cell_type": "code",
   "execution_count": 52,
   "metadata": {},
   "outputs": [
    {
     "data": {
      "text/html": [
       "<div>\n",
       "<style scoped>\n",
       "    .dataframe tbody tr th:only-of-type {\n",
       "        vertical-align: middle;\n",
       "    }\n",
       "\n",
       "    .dataframe tbody tr th {\n",
       "        vertical-align: top;\n",
       "    }\n",
       "\n",
       "    .dataframe thead th {\n",
       "        text-align: right;\n",
       "    }\n",
       "</style>\n",
       "<table border=\"1\" class=\"dataframe\">\n",
       "  <thead>\n",
       "    <tr style=\"text-align: right;\">\n",
       "      <th></th>\n",
       "      <th>Coverage</th>\n",
       "      <th>Difference from Median</th>\n",
       "      <th>Tissue</th>\n",
       "    </tr>\n",
       "  </thead>\n",
       "  <tbody>\n",
       "    <tr>\n",
       "      <th>TCGA-DD-A4NB</th>\n",
       "      <td>other</td>\n",
       "      <td>36.0</td>\n",
       "      <td>LIHC</td>\n",
       "    </tr>\n",
       "    <tr>\n",
       "      <th>TCGA-DD-A4NE</th>\n",
       "      <td>high</td>\n",
       "      <td>-14.0</td>\n",
       "      <td>LIHC</td>\n",
       "    </tr>\n",
       "    <tr>\n",
       "      <th>TCGA-DD-A4NF</th>\n",
       "      <td>other</td>\n",
       "      <td>-11.0</td>\n",
       "      <td>LIHC</td>\n",
       "    </tr>\n",
       "    <tr>\n",
       "      <th>TCGA-DD-A4NH</th>\n",
       "      <td>high</td>\n",
       "      <td>-4.0</td>\n",
       "      <td>LIHC</td>\n",
       "    </tr>\n",
       "    <tr>\n",
       "      <th>TCGA-DD-A4NJ</th>\n",
       "      <td>high</td>\n",
       "      <td>7.0</td>\n",
       "      <td>LIHC</td>\n",
       "    </tr>\n",
       "  </tbody>\n",
       "</table>\n",
       "</div>"
      ],
      "text/plain": [
       "             Coverage  Difference from Median Tissue\n",
       "TCGA-DD-A4NB    other                    36.0   LIHC\n",
       "TCGA-DD-A4NE     high                   -14.0   LIHC\n",
       "TCGA-DD-A4NF    other                   -11.0   LIHC\n",
       "TCGA-DD-A4NH     high                    -4.0   LIHC\n",
       "TCGA-DD-A4NJ     high                     7.0   LIHC"
      ]
     },
     "execution_count": 52,
     "metadata": {},
     "output_type": "execute_result"
    }
   ],
   "source": [
    "tmp_all.head()"
   ]
  },
  {
   "cell_type": "code",
   "execution_count": null,
   "metadata": {},
   "outputs": [],
   "source": []
  },
  {
   "cell_type": "code",
   "execution_count": 15,
   "metadata": {},
   "outputs": [
    {
     "name": "stdout",
     "output_type": "stream",
     "text": [
      "0.445972495088 0.293713163065\n"
     ]
    },
    {
     "data": {
      "image/png": "[encoded data removed]",
      "text/plain": [
       "<matplotlib.figure.Figure at 0x7f3e053f8650>"
      ]
     },
     "metadata": {},
     "output_type": "display_data"
    }
   ],
   "source": [
    "low, high = 0.1, 0.9\n",
    "\n",
    "print clinical.classI.quantile(low), clinical.classII.quantile(low)\n",
    "\n",
    "plt.figure(figsize=(4,2.5))\n",
    "\n",
    "plt.axhline(clinical.classII.quantile(high), color=sns.color_palette(\"Paired\")[0], lw=2)\n",
    "r1 = plt.Rectangle((0.35, clinical.classII.quantile(high)), 1, 1,\n",
    "                          fc=sns.color_palette(\"Paired\")[0], alpha=0.3)\n",
    "plt.gca().add_patch(r1)\n",
    "\n",
    "plt.axhline(clinical.classII.quantile(low), color=sns.color_palette(\"Paired\")[1], lw=2)\n",
    "r2 = plt.Rectangle((0, 0), 1, clinical.classII.quantile(low),\n",
    "                          fc=sns.color_palette(\"Paired\")[1], alpha=0.3)\n",
    "plt.gca().add_patch(r2)\n",
    "\n",
    "plt.axvline(clinical.classI.quantile(high), color=sns.color_palette(\"Paired\")[2], lw=2)\n",
    "r3 = plt.Rectangle((clinical.classI.quantile(high), 0), 1, 1,\n",
    "                          fc=sns.color_palette(\"Paired\")[2], alpha=0.3)\n",
    "plt.gca().add_patch(r3)\n",
    "\n",
    "plt.axvline(clinical.classI.quantile(low), color=sns.color_palette(\"Paired\")[3], lw=2)\n",
    "r4 = plt.Rectangle((0, 0), clinical.classI.quantile(low), 1,\n",
    "                          fc=sns.color_palette(\"Paired\")[3], alpha=0.3)\n",
    "plt.gca().add_patch(r4)\n",
    "\n",
    "plt.scatter(clinical.classI, clinical.classII, color='grey', alpha=0.5)\n",
    "plt.xlim(0.35, 0.65)\n",
    "plt.ylim(0.25, 0.38)\n",
    "\n",
    "plt.xlabel('MHC-I Driver Coverage')\n",
    "plt.ylabel('MHC-II Driver Coverage')\n",
    "plt.savefig('/cellar/users/ramarty/Data/hla_ii/generated_figures/mhc_diversity/age.scatter.pdf')"
   ]
  },
  {
   "cell_type": "code",
   "execution_count": 16,
   "metadata": {
    "collapsed": true
   },
   "outputs": [],
   "source": [
    "#show as violin plot instead"
   ]
  },
  {
   "cell_type": "code",
   "execution_count": 17,
   "metadata": {},
   "outputs": [
    {
     "name": "stdout",
     "output_type": "stream",
     "text": [
      "35 34 60 44\n"
     ]
    }
   ],
   "source": [
    "low_low_patients = list(clinical[(clinical.classI < clinical.classI.quantile(low))&(clinical.classII < clinical.classII.quantile(low))].index)\n",
    "high_high_patients = list(clinical[(clinical.classI > clinical.classI.quantile(high))&(clinical.classII > clinical.classII.quantile(high))].index)\n",
    "low_high_patients = list(clinical[(clinical.classI < clinical.classI.quantile(low))&(clinical.classII > clinical.classII.quantile(high))].index)\n",
    "high_low_patients = list(clinical[(clinical.classI > clinical.classI.quantile(high))&(clinical.classII < clinical.classII.quantile(low))].index)\n",
    "print len(low_low_patients), len(high_high_patients), len(low_high_patients), len(high_low_patients)"
   ]
  },
  {
   "cell_type": "code",
   "execution_count": 18,
   "metadata": {},
   "outputs": [
    {
     "name": "stdout",
     "output_type": "stream",
     "text": [
      "462 454 416 450\n"
     ]
    }
   ],
   "source": [
    "low_patientsI = list(clinical[(clinical.classI < clinical.classI.quantile(low))].index)\n",
    "high_patientsI = list(clinical[(clinical.classI > clinical.classI.quantile(high))].index)\n",
    "low_patientsII = list(clinical[(clinical.classII < clinical.classII.quantile(low))].index)\n",
    "high_patientsII = list(clinical[(clinical.classII > clinical.classII.quantile(high))].index)\n",
    "print len(low_patientsI), len(high_patientsI), len(low_patientsII), len(high_patientsII)"
   ]
  },
  {
   "cell_type": "code",
   "execution_count": 19,
   "metadata": {},
   "outputs": [
    {
     "name": "stdout",
     "output_type": "stream",
     "text": [
      "Ttest_indResult(statistic=-2.3072769658479699, pvalue=0.02126207670395967)\n",
      "Ttest_indResult(statistic=0.78320128593535099, pvalue=0.43372354466094531)\n"
     ]
    }
   ],
   "source": [
    "print sp.ttest_ind(clinical.loc[low_patientsI].Age,\n",
    "                clinical.loc[high_patientsI].Age)\n",
    "print sp.ttest_ind(clinical.loc[low_patientsII].Age,\n",
    "                clinical.loc[high_patientsII].Age)"
   ]
  },
  {
   "cell_type": "code",
   "execution_count": 20,
   "metadata": {
    "scrolled": false
   },
   "outputs": [
    {
     "name": "stdout",
     "output_type": "stream",
     "text": [
      "60.0\n",
      "62.0\n"
     ]
    }
   ],
   "source": [
    "print clinical.loc[low_patientsI].Age.median()\n",
    "print clinical.loc[high_patientsI].Age.median()"
   ]
  },
  {
   "cell_type": "code",
   "execution_count": 21,
   "metadata": {},
   "outputs": [
    {
     "name": "stdout",
     "output_type": "stream",
     "text": [
      "58.6060606061\n",
      "60.845814978\n"
     ]
    }
   ],
   "source": [
    "print clinical.loc[low_patientsI].Age.mean()\n",
    "print clinical.loc[high_patientsI].Age.mean()"
   ]
  },
  {
   "cell_type": "code",
   "execution_count": 25,
   "metadata": {
    "collapsed": true
   },
   "outputs": [],
   "source": [
    "age_df = pd.DataFrame({'Category': ['Low\\nMHC-II\\nCoverage' for x in clinical.loc[low_patientsII].Age] \\\n",
    "                       + ['High\\nMHC-II\\nCoverage' for x in clinical.loc[high_patientsII].Age] \\\n",
    "                       + ['Low\\nMHC-I\\nCoverage' for x in clinical.loc[low_patientsI].Age] \\\n",
    "                       + ['High\\nMHC-I\\nCoverage' for x in clinical.loc[high_patientsI].Age],\n",
    "                       'Age': list(clinical.loc[low_patientsII].Age) + list(clinical.loc[high_patientsII].Age) \\\n",
    "                          + list(clinical.loc[low_patientsI].Age) + list(clinical.loc[high_patientsI].Age)})"
   ]
  },
  {
   "cell_type": "code",
   "execution_count": 85,
   "metadata": {},
   "outputs": [],
   "source": [
    "statistic, p = sp.mannwhitneyu(age_df[age_df.Category == 'Low\\nMHC-I & MHC-II\\nCoverage'].Age,\n",
    "             age_df[age_df.Category == 'High\\nMHC-I & MHC-II\\nCoverage'].Age)"
   ]
  },
  {
   "cell_type": "code",
   "execution_count": 86,
   "metadata": {
    "collapsed": true
   },
   "outputs": [],
   "source": [
    "statistic, p = sp.mannwhitneyu(age_df[age_df.Category == 'Low\\nMHC-I & MHC-II\\nCoverage'].Age,\n",
    "             age_df[age_df.Category == 'High\\nMHC-I & MHC-II\\nCoverage'].Age)"
   ]
  },
  {
   "cell_type": "code",
   "execution_count": 87,
   "metadata": {},
   "outputs": [
    {
     "data": {
      "text/plain": [
       "MannwhitneyuResult(statistic=19854.0, pvalue=0.00055938617094778104)"
      ]
     },
     "execution_count": 87,
     "metadata": {},
     "output_type": "execute_result"
    }
   ],
   "source": [
    "sp.mannwhitneyu(age_df[age_df.Category == 'Low\\nMHC-I\\nCoverage'].Age,\n",
    "             age_df[age_df.Category == 'High\\nMHC-I\\nCoverage'].Age)"
   ]
  },
  {
   "cell_type": "code",
   "execution_count": 88,
   "metadata": {},
   "outputs": [
    {
     "data": {
      "text/plain": [
       "MannwhitneyuResult(statistic=22286.5, pvalue=0.2619353094343696)"
      ]
     },
     "execution_count": 88,
     "metadata": {},
     "output_type": "execute_result"
    }
   ],
   "source": [
    "sp.mannwhitneyu(age_df[age_df.Category == 'Low\\nMHC-II\\nCoverage'].Age,\n",
    "             age_df[age_df.Category == 'High\\nMHC-II\\nCoverage'].Age)"
   ]
  },
  {
   "cell_type": "code",
   "execution_count": 91,
   "metadata": {
    "scrolled": true
   },
   "outputs": [
    {
     "data": {
      "image/png": "[encoded data removed]",
      "text/plain": [
       "<matplotlib.figure.Figure at 0x7f3f588f1910>"
      ]
     },
     "metadata": {},
     "output_type": "display_data"
    }
   ],
   "source": [
    "plt.figure(figsize=(4,2.5))\n",
    "ax = sns.boxplot(x='Category', y='Age', data=age_df, palette=sns.color_palette(\"Paired\"), whis=np.inf)\n",
    "ax = sns.swarmplot(x='Category', y='Age', data=age_df, color='grey', size=3, alpha=.3)\n",
    "plt.xlabel('')\n",
    "plt.ylabel('Age at Diagnosis')\n",
    "#plt.title('P-value: {0}'.format(round(p, 4)))\n",
    "plt.savefig('/cellar/users/ramarty/Data/hla_ii/generated_figures/mhc_diversity/age.boxplots.pdf')"
   ]
  },
  {
   "cell_type": "code",
   "execution_count": 33,
   "metadata": {},
   "outputs": [
    {
     "data": {
      "text/plain": [
       "LIHC    24\n",
       "THCA    18\n",
       "SKCM    17\n",
       "STAD    17\n",
       "GBM     15\n",
       "HNSC    14\n",
       "LGG     14\n",
       "BLCA    13\n",
       "KIRC    13\n",
       "LUAD    13\n",
       "KIRP     8\n",
       "LUSC     8\n",
       "PAAD     7\n",
       "BRCA     6\n",
       "COAD     5\n",
       "PRAD     5\n",
       "OV       4\n",
       "UCEC     3\n",
       "KICH     3\n",
       "CESC     3\n",
       "READ     2\n",
       "DLBC     1\n",
       "Name: Tissue, dtype: int64"
      ]
     },
     "execution_count": 33,
     "metadata": {},
     "output_type": "execute_result"
    }
   ],
   "source": [
    "clinical.loc[low_patientsI].Tissue.value_counts()"
   ]
  },
  {
   "cell_type": "code",
   "execution_count": 63,
   "metadata": {},
   "outputs": [
    {
     "data": {
      "text/plain": [
       "HNSC    25\n",
       "LGG     20\n",
       "SKCM    19\n",
       "BLCA    17\n",
       "PAAD    14\n",
       "LUSC    14\n",
       "THCA    13\n",
       "COAD    13\n",
       "KIRP    11\n",
       "GBM     11\n",
       "KIRC    11\n",
       "LIHC    10\n",
       "LUAD    10\n",
       "STAD     9\n",
       "OV       6\n",
       "PRAD     5\n",
       "BRCA     4\n",
       "KICH     3\n",
       "UCEC     3\n",
       "READ     1\n",
       "Name: Tissue, dtype: int64"
      ]
     },
     "execution_count": 63,
     "metadata": {},
     "output_type": "execute_result"
    }
   ],
   "source": [
    "clinical.loc[high_patientsI].Tissue.value_counts()"
   ]
  },
  {
   "cell_type": "code",
   "execution_count": 194,
   "metadata": {},
   "outputs": [
    {
     "name": "stdout",
     "output_type": "stream",
     "text": [
      "B cells naive MannwhitneyuResult(statistic=1462.5, pvalue=0.22890257066490843)\n",
      "B cells memory MannwhitneyuResult(statistic=1559.0, pvalue=0.40579361837353839)\n",
      "Plasma cells MannwhitneyuResult(statistic=1270.5, pvalue=0.025795512216046021)\n",
      "T cells CD8 MannwhitneyuResult(statistic=1425.5, pvalue=0.16885143191679108)\n",
      "T cells CD4 naive MannwhitneyuResult(statistic=1560.5, pvalue=0.34195040891799589)\n",
      "T cells CD4 memory resting MannwhitneyuResult(statistic=1396.0, pvalue=0.1309585726632207)\n",
      "T cells CD4 memory activated MannwhitneyuResult(statistic=1425.0, pvalue=0.1272553112712192)\n",
      "T cells follicular helper MannwhitneyuResult(statistic=1207.0, pvalue=0.0075706660958651294)\n",
      "T cells regulatory (Tregs) MannwhitneyuResult(statistic=1336.5, pvalue=0.058980286112663732)\n",
      "T cells gamma delta MannwhitneyuResult(statistic=1578.5, pvalue=0.404234522738532)\n",
      "NK cells resting MannwhitneyuResult(statistic=1583.5, pvalue=0.48001579029087399)\n",
      "NK cells activated MannwhitneyuResult(statistic=1499.0, pvalue=0.29133954460723266)\n",
      "Monocytes MannwhitneyuResult(statistic=1353.0, pvalue=0.085498749104582772)\n",
      "Macrophages M0 MannwhitneyuResult(statistic=1459.0, pvalue=0.22272173730499356)\n",
      "Macrophages M1 MannwhitneyuResult(statistic=1287.0, pvalue=0.039803669307888208)\n",
      "Macrophages M2 MannwhitneyuResult(statistic=1443.0, pvalue=0.19686134062175736)\n",
      "Dendritic cells resting MannwhitneyuResult(statistic=1565.5, pvalue=0.42937906226525102)\n",
      "Dendritic cells activated MannwhitneyuResult(statistic=1255.0, pvalue=0.024492419138577047)\n",
      "Mast cells resting MannwhitneyuResult(statistic=1566.0, pvalue=0.44063625264681067)\n",
      "Mast cells activated MannwhitneyuResult(statistic=1476.0, pvalue=0.16753290843568847)\n",
      "Eosinophils MannwhitneyuResult(statistic=1538.5, pvalue=0.32830979034739538)\n",
      "Neutrophils MannwhitneyuResult(statistic=1486.5, pvalue=0.2393287879588476)\n",
      "P-value MannwhitneyuResult(statistic=1587.5, pvalue=0.4896617366465833)\n",
      "Pearson Correlation MannwhitneyuResult(statistic=1578.0, pvalue=0.46806547298445073)\n",
      "RMSE MannwhitneyuResult(statistic=1585.0, pvalue=0.48401992167688973)\n",
      "GZMA MannwhitneyuResult(statistic=1345.5, pvalue=0.079127897960516502)\n",
      "PRF1 MannwhitneyuResult(statistic=1343.0, pvalue=0.077038872738096911)\n",
      "Cytolytic MannwhitneyuResult(statistic=1354.0, pvalue=0.086555975284054731)\n",
      "CD4/CD8 Ratio MannwhitneyuResult(statistic=1478.5, pvalue=0.25670483220060891)\n"
     ]
    }
   ],
   "source": [
    "for cell in clinical.columns[14:]:\n",
    "    print cell, sp.mannwhitneyu(clinical.loc[low_low_patients][cell],\n",
    "                    clinical.loc[high_high_patients][cell])"
   ]
  },
  {
   "cell_type": "code",
   "execution_count": null,
   "metadata": {
    "collapsed": true
   },
   "outputs": [],
   "source": []
  },
  {
   "cell_type": "code",
   "execution_count": 70,
   "metadata": {},
   "outputs": [
    {
     "data": {
      "text/plain": [
       "<matplotlib.axes._subplots.AxesSubplot at 0x7f21e9b0aad0>"
      ]
     },
     "execution_count": 70,
     "metadata": {},
     "output_type": "execute_result"
    },
    {
     "data": {
      "image/png": "[encoded data removed]",
      "text/plain": [
       "<matplotlib.figure.Figure at 0x7f21e9b18fd0>"
      ]
     },
     "metadata": {},
     "output_type": "display_data"
    }
   ],
   "source": [
    "clinical.loc[high_high_patients].Age.hist(alpha=0.3)\n",
    "clinical.loc[low_low_patients].Age.hist(alpha=0.3)"
   ]
  }
 ],
 "metadata": {
  "kernelspec": {
   "display_name": "Python 2",
   "language": "python",
   "name": "python2"
  },
  "language_info": {
   "codemirror_mode": {
    "name": "ipython",
    "version": 2
   },
   "file_extension": ".py",
   "mimetype": "text/x-python",
   "name": "python",
   "nbconvert_exporter": "python",
   "pygments_lexer": "ipython2",
   "version": "2.7.15"
  }
 },
 "nbformat": 4,
 "nbformat_minor": 1
}
