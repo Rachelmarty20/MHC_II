{
 "cells": [
  {
   "cell_type": "code",
   "execution_count": 2,
   "metadata": {
    "collapsed": false
   },
   "outputs": [
    {
     "name": "stderr",
     "output_type": "stream",
     "text": [
      "/cellar/users/ramarty/anaconda/lib/python2.7/site-packages/IPython/nbformat/current.py:19: UserWarning: IPython.nbformat.current is deprecated.\n",
      "\n",
      "- use IPython.nbformat for read/write/validate public API\n",
      "- use IPython.nbformat.vX directly to composing notebooks of a particular version\n",
      "\n",
      "  \"\"\")\n",
      "/cellar/users/ramarty/anaconda/lib/python2.7/site-packages/sklearn/cross_validation.py:44: DeprecationWarning: This module was deprecated in version 0.18 in favor of the model_selection module into which all the refactored classes and functions are moved. Also note that the interface of the new CV iterators are different from that of this module. This module will be removed in 0.20.\n",
      "  \"This module will be removed in 0.20.\", DeprecationWarning)\n"
     ]
    },
    {
     "name": "stdout",
     "output_type": "stream",
     "text": [
      "Populating the interactive namespace from numpy and matplotlib\n"
     ]
    }
   ],
   "source": [
    "import io\n",
    "from IPython.nbformat import current\n",
    "def execute_notebook(nbfile):\n",
    "    with io.open(nbfile) as f:\n",
    "        nb = current.read(f, 'json')\n",
    "    ip = get_ipython()\n",
    "    for cell in nb.worksheets[0].cells:\n",
    "        if cell.cell_type != 'code':\n",
    "            continue\n",
    "        ip.run_cell(cell.input)\n",
    "execute_notebook(\"../../../bin/imports.ipynb\")\n",
    "execute_notebook(\"../../../bin/plotting.ipynb\")"
   ]
  },
  {
   "cell_type": "markdown",
   "metadata": {},
   "source": [
    "###Getting a clean run of all of the results "
   ]
  },
  {
   "cell_type": "code",
   "execution_count": 3,
   "metadata": {
    "collapsed": false
   },
   "outputs": [],
   "source": [
    "def create_cluster_script(script_label, pans, classes, names, thresholds, tissue_fs, mut_fs, aff_fs):\n",
    "    \n",
    "    new_script_file = \\\n",
    "    '/cellar/users/ramarty/Projects/hla_ii/data_analysis/patient_selection/cluster/OR.{0}.sh'.format(script_label)\n",
    "    \n",
    "    with open(new_script_file, 'w') as out_file:\n",
    "        out_file.write(\"#! /bin/csh\\n\")\n",
    "        out_file.write(\"#$ -V\\n\")\n",
    "        out_file.write(\"#$ -S /bin/csh\\n\")\n",
    "        out_file.write(\"#$ -o /cellar/users/ramarty/Data/hla_ii/sge-system_files\\n\")\n",
    "        out_file.write(\"#$ -e /cellar/users/ramarty/Data/hla_ii/sge-system_files\\n\")\n",
    "        out_file.write(\"#$ -cwd\\n\")\n",
    "        out_file.write(\"#$ -t 1-{0}\\n\".format(len(thresholds)))\n",
    "        out_file.write(\"#$ -l h_vmem=6G\\n\")\n",
    "        out_file.write(\"#$ -tc 50\\n\")\n",
    "        out_file.write(\"#$ -l long\")\n",
    "        out_file.write(\"\\n\")\n",
    "\n",
    "        out_file.write(\"set thresholds=({0})\\n\".format(\" \".join(thresholds)))\n",
    "        out_file.write(\"set classes=({0})\\n\".format(\" \".join(classes)))\n",
    "        out_file.write(\"set tissue_fs=({0})\\n\".format(\" \".join(tissue_fs)))\n",
    "        out_file.write(\"set mut_fs=({0})\\n\".format(\" \".join(mut_fs)))\n",
    "        out_file.write(\"set aff_fs=({0})\\n\".format(\" \".join(aff_fs)))\n",
    "        out_file.write(\"set names=({0})\\n\".format(\" \".join(names)))\n",
    "        out_file.write(\"set pans=({0})\\n\".format(\" \".join(pans)))\n",
    "        out_file.write(\"\\n\")\n",
    "\n",
    "        out_file.write(\"set threshold=$thresholds[$SGE_TASK_ID]\\n\")\n",
    "        out_file.write(\"set class=$classes[$SGE_TASK_ID]\\n\")\n",
    "        out_file.write(\"set tissue_f=$tissue_fs[$SGE_TASK_ID]\\n\")\n",
    "        out_file.write(\"set mut_f=$mut_fs[$SGE_TASK_ID]\\n\")\n",
    "        out_file.write(\"set aff_f=$aff_fs[$SGE_TASK_ID]\\n\")\n",
    "        out_file.write(\"set name=$names[$SGE_TASK_ID]\\n\")\n",
    "        out_file.write(\"set pan=$pans[$SGE_TASK_ID]\\n\")\n",
    "        out_file.write(\"\\n\")\n",
    "        \n",
    "        out_file.write(\"date\\n\")\n",
    "        out_file.write(\"hostname\\n\")\n",
    "        out_file.write(\"\\n\")\n",
    "  \n",
    "        out_file.write(\"Rscript --vanilla /cellar/users/ramarty/Projects/hla_ii/data_analysis/patient_selection/OR_clean.R \" \\\n",
    "                        \"$pan $class $name $threshold $tissue_f $mut_f $aff_f\\n\")\n",
    "        out_file.write(\"\\n\")\n",
    "                       \n",
    "        out_file.write(\"date\\n\")"
   ]
  },
  {
   "cell_type": "markdown",
   "metadata": {},
   "source": [
    "Actual"
   ]
  },
  {
   "cell_type": "code",
   "execution_count": 5,
   "metadata": {
    "collapsed": true
   },
   "outputs": [],
   "source": [
    "# first MHC-I only (driver, passenger, germline); then both (driver, passenger, germline)\n",
    "subset = 'inclusive'\n",
    "pans = ['1', '1', '0', '0']\n",
    "classes = ['class_i', 'class_ii']*2\n",
    "names = ['cancer']*4\n",
    "thresholds = ['10']*4\n",
    "tissue_fs = ['patient_tissues.{0}.csv'.format(subset)]*4\n",
    "mut_fs = ['patient_mutations.cancer.TCGA.inclusive.mut.csv']*4\n",
    "aff_fs = ['patient_affinities.cancer.TCGA.inclusive.mut.ClassI.csv', \n",
    "          'patient_affinities.cancer.TCGA.inclusive.mut.ClassII.csv']*2\n",
    "\n",
    "script_label='cancer'\n",
    "create_cluster_script(script_label, pans, classes, names, thresholds, tissue_fs, mut_fs, aff_fs)"
   ]
  },
  {
   "cell_type": "markdown",
   "metadata": {},
   "source": [
    "Randomized"
   ]
  },
  {
   "cell_type": "code",
   "execution_count": 6,
   "metadata": {
    "collapsed": false
   },
   "outputs": [],
   "source": [
    "# number of randomizations\n",
    "pans = ['1', '1']*200 +  ['0', '0']*200\n",
    "classes = ['random']*400\n",
    "names = ['class_i_{0}'.format(x) for x in range(100)] + \\\n",
    "        ['class_ii_{0}'.format(x) for x in range(100)] + \\\n",
    "        ['class_i_{0}'.format(x) for x in range(100)] + \\\n",
    "        ['class_ii_{0}'.format(x) for x in range(100)]\n",
    "thresholds = ['2']*400\n",
    "tissue_fs = ['patient_tissues.csv']*400\n",
    "mut_fs = ['patient_mutations.cancer.TCGA.inclusive.mut.csv']*400\n",
    "aff_fs = ['patient_affinities.cancer.TCGA.inclusive.mut.ClassI.csv']*100 + \\\n",
    "         ['patient_affinities.cancer.TCGA.inclusive.mut.ClassII.csv']*100 + \\\n",
    "         ['patient_affinities.cancer.TCGA.inclusive.mut.ClassI.csv']*100 + \\\n",
    "         ['patient_affinities.cancer.TCGA.inclusive.mut.ClassII.csv']*100\n",
    "\n",
    "script_label='randomizations'\n",
    "create_cluster_script(script_label, pans, classes, names, thresholds, tissue_fs, mut_fs, aff_fs)"
   ]
  },
  {
   "cell_type": "markdown",
   "metadata": {},
   "source": [
    "Passenger"
   ]
  },
  {
   "cell_type": "code",
   "execution_count": 9,
   "metadata": {
    "collapsed": true
   },
   "outputs": [],
   "source": [
    "subset = 'conservative'\n",
    "pans = ['1', '1', '0', '0']\n",
    "classes = ['class_i', 'class_ii']*2\n",
    "names = ['passenger.{0}'.format(subset)]*4\n",
    "thresholds = ['2']*4\n",
    "tissue_fs = ['patient_tissues.{0}.csv'.format(subset)]*4\n",
    "mut_fs = ['patient_mutations.passenger.TCGA.{0}.mut.ClassI.csv'.format(subset),\n",
    "          'patient_mutations.passenger.TCGA.{0}.mut.ClassII.csv'.format(subset)]*2\n",
    "aff_fs = ['patient_affinities.passenger.TCGA.{0}.mut.ClassI.csv'.format(subset), \n",
    "          'patient_affinities.passenger.TCGA.{0}.mut.ClassII.csv'.format(subset)]*2\n",
    "\n",
    "script_label='passenger.{0}'.format(subset)\n",
    "create_cluster_script(script_label, pans, classes, names, thresholds, tissue_fs, mut_fs, aff_fs)"
   ]
  },
  {
   "cell_type": "markdown",
   "metadata": {},
   "source": [
    "Germline"
   ]
  },
  {
   "cell_type": "code",
   "execution_count": 19,
   "metadata": {
    "collapsed": true
   },
   "outputs": [],
   "source": [
    "subset = 'conservative'\n",
    "\n",
    "pans = ['1', '1', '0', '0']\n",
    "classes = ['class_i', 'class_ii']*2\n",
    "names = ['germline.{0}'.format(subset)]*4\n",
    "thresholds = ['2']*4\n",
    "tissue_fs = ['patient_tissues.{0}.csv'.format(subset)]*4\n",
    "mut_fs = ['patient_mutations.germline.TCGA.{0}.mut.ClassI.csv'.format(subset),\n",
    "          'patient_mutations.germline.TCGA.{0}.mut.ClassII.csv'.format(subset)]*2\n",
    "aff_fs = ['patient_affinities.germline.TCGA.{0}.mut.ClassI.csv'.format(subset), \n",
    "          'patient_affinities.germline.TCGA.{0}.mut.ClassII.csv'.format(subset)]*2\n",
    "\n",
    "script_label='germline.{0}'.format(subset)\n",
    "create_cluster_script(script_label, pans, classes, names, thresholds, tissue_fs, mut_fs, aff_fs)"
   ]
  },
  {
   "cell_type": "markdown",
   "metadata": {},
   "source": [
    "High Allelic Fraction"
   ]
  },
  {
   "cell_type": "code",
   "execution_count": null,
   "metadata": {
    "collapsed": true
   },
   "outputs": [],
   "source": [
    "# see allelic_fraction notebook"
   ]
  },
  {
   "cell_type": "markdown",
   "metadata": {},
   "source": [
    "Conservative"
   ]
  },
  {
   "cell_type": "code",
   "execution_count": 11,
   "metadata": {
    "collapsed": false
   },
   "outputs": [],
   "source": [
    "pans = ['1', '1', '0', '0']\n",
    "classes = ['class_i', 'class_ii']*2\n",
    "names = ['conservative']*4\n",
    "thresholds = ['5']*4\n",
    "tissue_fs = ['patient_tissues.csv']*4\n",
    "mut_fs = ['patient_mutations.cancer.TCGA.conservative.mut.csv']*4\n",
    "aff_fs = ['patient_affinities.cancer.TCGA.conservative.mut.ClassI.csv', \n",
    "          'patient_affinities.cancer.TCGA.conservative.mut.ClassII.csv']*2\n",
    "\n",
    "script_label='conservative'\n",
    "create_cluster_script(script_label, pans, classes, names, thresholds, tissue_fs, mut_fs, aff_fs)"
   ]
  },
  {
   "cell_type": "markdown",
   "metadata": {
    "collapsed": true
   },
   "source": [
    "Non-cancer"
   ]
  },
  {
   "cell_type": "code",
   "execution_count": 7,
   "metadata": {
    "collapsed": true
   },
   "outputs": [],
   "source": [
    "subset = 'conservative'\n",
    "\n",
    "pans = ['1', '0']\n",
    "classes = [ 'class_ii']*2\n",
    "names = ['non_cancer.{0}'.format(subset)]*2\n",
    "thresholds = ['2']*2\n",
    "tissue_fs = ['patient_tissues.{0}.csv'.format(subset)]*2\n",
    "mut_fs = ['patient_mutations.non_cancer.TCGA.{0}.mut.csv'.format(subset)]*2\n",
    "aff_fs = ['patient_affinities.non_cancer.TCGA.{0}.mut.ClassII.csv'.format(subset)]*2\n",
    "\n",
    "script_label='non_cancer.{0}'.format(subset)\n",
    "create_cluster_script(script_label, pans, classes, names, thresholds, tissue_fs, mut_fs, aff_fs)"
   ]
  },
  {
   "cell_type": "code",
   "execution_count": 19,
   "metadata": {
    "collapsed": true
   },
   "outputs": [],
   "source": [
    "pans = ['1', '0']\n",
    "classes = [ 'class_ii']*2\n",
    "names = ['known_non_cancer.{0}'.format(subset)]*2\n",
    "thresholds = ['2']*2\n",
    "tissue_fs = ['patient_tissues.{0}.csv'.format(subset)]*2\n",
    "mut_fs = ['patient_mutations.known_non_cancer.TCGA.{0}.mut.csv'.format(subset)]*2\n",
    "aff_fs = ['patient_affinities.known_non_cancer.TCGA.{0}.mut.ClassII.csv'.format(subset)]*2\n",
    "\n",
    "script_label='known_non_cancer.{0}'.format(subset)\n",
    "create_cluster_script(script_label, pans, classes, names, thresholds, tissue_fs, mut_fs, aff_fs)"
   ]
  },
  {
   "cell_type": "markdown",
   "metadata": {},
   "source": [
    "CGC genes - this is currently just the new ones.. which won't be representative because likely lower frequency?"
   ]
  },
  {
   "cell_type": "code",
   "execution_count": 7,
   "metadata": {
    "collapsed": false
   },
   "outputs": [],
   "source": [
    "pans = ['1', '0']\n",
    "classes = ['class_ii']*2\n",
    "names = ['cgc_new']*2\n",
    "thresholds = ['5']*2\n",
    "tissue_fs = ['patient_tissues.conservative.csv']*2\n",
    "mut_fs = ['patient_mutations.cgc_new.TCGA.conservative.mut.ClassII.csv']*2\n",
    "aff_fs = ['patient_affinities.cgc_new.TCGA.conservative.mut.ClassII.csv']*2\n",
    "\n",
    "script_label='cgc_new'\n",
    "create_cluster_script(script_label, pans, classes, names, thresholds, tissue_fs, mut_fs, aff_fs)"
   ]
  },
  {
   "cell_type": "code",
   "execution_count": 12,
   "metadata": {
    "collapsed": true
   },
   "outputs": [],
   "source": [
    "pans = ['1', '0']\n",
    "classes = ['class_ii']*2\n",
    "names = ['cgc']*2\n",
    "thresholds = ['2']*2\n",
    "tissue_fs = ['patient_tissues.conservative.csv']*2\n",
    "mut_fs = ['patient_mutations.cgc.TCGA.conservative.mut.ClassII.csv']*2\n",
    "aff_fs = ['patient_affinities.cgc.TCGA.conservative.mut.ClassII.csv']*2\n",
    "\n",
    "script_label='cgc'\n",
    "create_cluster_script(script_label, pans, classes, names, thresholds, tissue_fs, mut_fs, aff_fs)"
   ]
  },
  {
   "cell_type": "markdown",
   "metadata": {},
   "source": [
    "APC infiltration - by pan"
   ]
  },
  {
   "cell_type": "code",
   "execution_count": 3,
   "metadata": {
    "collapsed": true
   },
   "outputs": [],
   "source": [
    "subset = 'inclusive'\n",
    "\n",
    "pans = ['1', '1', '0', '0']\n",
    "classes = ['class_i', 'class_ii']*2\n",
    "names = ['high_apc_expr.{0}'.format(subset)]*4\n",
    "thresholds = ['2']*4\n",
    "tissue_fs = ['patient_tissues.{0}.csv'.format(subset)]*4\n",
    "mut_fs = ['patient_mutations.high_apc_expr.TCGA.{0}.mut.csv'.format(subset),\n",
    "          'patient_mutations.high_apc_expr.TCGA.{0}.mut.csv'.format(subset)]*2\n",
    "aff_fs = ['patient_affinities.high_apc_expr.TCGA.{0}.mut.ClassI.csv'.format(subset), \n",
    "          'patient_affinities.high_apc_expr.TCGA.{0}.mut.ClassII.csv'.format(subset)]*2\n",
    "\n",
    "script_label='high_apc_expr.{0}'.format(subset)\n",
    "\n",
    "create_cluster_script(script_label, pans, classes, names, thresholds, tissue_fs, mut_fs, aff_fs)\n",
    "pans = ['1', '1', '0', '0']\n",
    "classes = ['class_i', 'class_ii']*2\n",
    "names = ['low_apc_expr.{0}'.format(subset)]*4\n",
    "thresholds = ['2']*4\n",
    "tissue_fs = ['patient_tissues.{0}.csv'.format(subset)]*4\n",
    "mut_fs = ['patient_mutations.low_apc_expr.TCGA.{0}.mut.csv'.format(subset),\n",
    "          'patient_mutations.low_apc_expr.TCGA.{0}.mut.csv'.format(subset)]*2\n",
    "aff_fs = ['patient_affinities.low_apc_expr.TCGA.{0}.mut.ClassI.csv'.format(subset), \n",
    "          'patient_affinities.low_apc_expr.TCGA.{0}.mut.ClassII.csv'.format(subset)]*2\n",
    "\n",
    "script_label='low_apc_expr.{0}'.format(subset)\n",
    "create_cluster_script(script_label, pans, classes, names, thresholds, tissue_fs, mut_fs, aff_fs)"
   ]
  },
  {
   "cell_type": "markdown",
   "metadata": {},
   "source": [
    "APC infiltration - by tissue"
   ]
  },
  {
   "cell_type": "code",
   "execution_count": 6,
   "metadata": {
    "collapsed": true
   },
   "outputs": [],
   "source": [
    "subset = 'conservative'\n",
    "\n",
    "pans = ['1', '1', '0', '0']\n",
    "classes = ['class_i', 'class_ii']*2\n",
    "names = ['high_apc_expr_by_tissue.{0}'.format(subset)]*4\n",
    "thresholds = ['2']*4\n",
    "tissue_fs = ['patient_tissues.{0}.csv'.format(subset)]*4\n",
    "mut_fs = ['patient_mutations.high_apc_expr_by_tissue.TCGA.{0}.mut.csv'.format(subset),\n",
    "          'patient_mutations.high_apc_expr_by_tissue.TCGA.{0}.mut.csv'.format(subset)]*2\n",
    "aff_fs = ['patient_affinities.high_apc_expr_by_tissue.TCGA.{0}.mut.ClassI.csv'.format(subset), \n",
    "          'patient_affinities.high_apc_expr_by_tissue.TCGA.{0}.mut.ClassII.csv'.format(subset)]*2\n",
    "\n",
    "script_label='high_apc_expr_by_tissue.{0}'.format(subset)\n",
    "\n",
    "create_cluster_script(script_label, pans, classes, names, thresholds, tissue_fs, mut_fs, aff_fs)\n",
    "pans = ['1', '1', '0', '0']\n",
    "classes = ['class_i', 'class_ii']*2\n",
    "names = ['low_apc_expr_by_tissue.{0}'.format(subset)]*4\n",
    "thresholds = ['2']*4\n",
    "tissue_fs = ['patient_tissues.{0}.csv'.format(subset)]*4\n",
    "mut_fs = ['patient_mutations.low_apc_expr_by_tissue.TCGA.{0}.mut.csv'.format(subset),\n",
    "          'patient_mutations.low_apc_expr_by_tissue.TCGA.{0}.mut.csv'.format(subset)]*2\n",
    "aff_fs = ['patient_affinities.low_apc_expr_by_tissue.TCGA.{0}.mut.ClassI.csv'.format(subset), \n",
    "          'patient_affinities.low_apc_expr_by_tissue.TCGA.{0}.mut.ClassII.csv'.format(subset)]*2\n",
    "\n",
    "script_label='low_apc_expr_by_tissue.{0}'.format(subset)\n",
    "create_cluster_script(script_label, pans, classes, names, thresholds, tissue_fs, mut_fs, aff_fs)"
   ]
  },
  {
   "cell_type": "markdown",
   "metadata": {},
   "source": [
    "Cytolytic score - by tissue"
   ]
  },
  {
   "cell_type": "code",
   "execution_count": 9,
   "metadata": {
    "collapsed": true
   },
   "outputs": [],
   "source": [
    "subset = 'inclusive'\n",
    "\n",
    "pans = ['1', '1', '0', '0']\n",
    "classes = ['class_i', 'class_ii']*2\n",
    "names = ['high_cytolytic_by_tissue.{0}'.format(subset)]*4\n",
    "thresholds = ['2']*4\n",
    "tissue_fs = ['patient_tissues.{0}.csv'.format(subset)]*4\n",
    "mut_fs = ['patient_mutations.high_cytolytic_by_tissue.TCGA.{0}.mut.csv'.format(subset),\n",
    "          'patient_mutations.high_cytolytic_by_tissue.TCGA.{0}.mut.csv'.format(subset)]*2\n",
    "aff_fs = ['patient_affinities.high_cytolytic_by_tissue.TCGA.{0}.mut.ClassI.csv'.format(subset), \n",
    "          'patient_affinities.high_cytolytic_by_tissue.TCGA.{0}.mut.ClassII.csv'.format(subset)]*2\n",
    "\n",
    "script_label='high_cytolytic_by_tissue.{0}'.format(subset)\n",
    "create_cluster_script(script_label, pans, classes, names, thresholds, tissue_fs, mut_fs, aff_fs)\n",
    "\n",
    "pans = ['1', '1', '0', '0']\n",
    "classes = ['class_i', 'class_ii']*2\n",
    "names = ['low_cytolytic_by_tissue.{0}'.format(subset)]*4\n",
    "thresholds = ['2']*4\n",
    "tissue_fs = ['patient_tissues.{0}.csv'.format(subset)]*4\n",
    "mut_fs = ['patient_mutations.low_cytolytic_by_tissue.TCGA.{0}.mut.csv'.format(subset),\n",
    "          'patient_mutations.low_cytolytic_by_tissue.TCGA.{0}.mut.csv'.format(subset)]*2\n",
    "aff_fs = ['patient_affinities.low_cytolytic_by_tissue.TCGA.{0}.mut.ClassI.csv'.format(subset), \n",
    "          'patient_affinities.low_cytolytic_by_tissue.TCGA.{0}.mut.ClassII.csv'.format(subset)]*2\n",
    "\n",
    "script_label='low_cytolytic_by_tissue.{0}'.format(subset)\n",
    "create_cluster_script(script_label, pans, classes, names, thresholds, tissue_fs, mut_fs, aff_fs)"
   ]
  },
  {
   "cell_type": "markdown",
   "metadata": {},
   "source": [
    "Cell score by tissue"
   ]
  },
  {
   "cell_type": "code",
   "execution_count": 13,
   "metadata": {
    "collapsed": false
   },
   "outputs": [],
   "source": [
    "for subset in ['conservative', 'inclusive']:\n",
    "    for cell in ['CD4', 'CD8']:\n",
    "        pans = ['1', '1', '0', '0']\n",
    "        classes = ['class_i', 'class_ii']*2\n",
    "        names = ['high_{0}_by_tissue.{1}'.format(cell, subset)]*4\n",
    "        thresholds = ['2']*4\n",
    "        tissue_fs = ['patient_tissues.{0}.csv'.format(subset)]*4\n",
    "        mut_fs = ['patient_mutations.high_{0}_by_tissue.TCGA.{1}.mut.csv'.format(cell, subset),\n",
    "                  'patient_mutations.high_{0}_by_tissue.TCGA.{1}.mut.csv'.format(cell, subset)]*2\n",
    "        aff_fs = ['patient_affinities.high_{0}_by_tissue.TCGA.{1}.mut.ClassI.csv'.format(cell, subset), \n",
    "                  'patient_affinities.high_{0}_by_tissue.TCGA.{1}.mut.ClassII.csv'.format(cell, subset)]*2\n",
    "\n",
    "        script_label='high_{0}_by_tissue.{1}'.format(cell, subset)\n",
    "        create_cluster_script(script_label, pans, classes, names, thresholds, tissue_fs, mut_fs, aff_fs)\n",
    "\n",
    "        pans = ['1', '1', '0', '0']\n",
    "        classes = ['class_i', 'class_ii']*2\n",
    "        names = ['low_{0}_by_tissue.{1}'.format(cell, subset)]*4\n",
    "        thresholds = ['2']*4\n",
    "        tissue_fs = ['patient_tissues.{0}.csv'.format(subset)]*4\n",
    "        mut_fs = ['patient_mutations.low_{0}_by_tissue.TCGA.{1}.mut.csv'.format(cell, subset),\n",
    "                  'patient_mutations.low_{0}_by_tissue.TCGA.{1}.mut.csv'.format(cell, subset)]*2\n",
    "        aff_fs = ['patient_affinities.low_{0}_by_tissue.TCGA.{1}.mut.ClassI.csv'.format(cell, subset), \n",
    "                  'patient_affinities.low_{0}_by_tissue.TCGA.{1}.mut.ClassII.csv'.format(cell, subset)]*2\n",
    "\n",
    "        script_label='low_{0}_by_tissue.{1}'.format(cell, subset)\n",
    "        create_cluster_script(script_label, pans, classes, names, thresholds, tissue_fs, mut_fs, aff_fs)"
   ]
  },
  {
   "cell_type": "markdown",
   "metadata": {
    "collapsed": true
   },
   "source": [
    "##Decoding results"
   ]
  },
  {
   "cell_type": "markdown",
   "metadata": {},
   "source": [
    "Pan"
   ]
  },
  {
   "cell_type": "code",
   "execution_count": 3,
   "metadata": {
    "collapsed": false
   },
   "outputs": [
    {
     "data": {
      "text/html": [
       "<div>\n",
       "<table border=\"1\" class=\"dataframe\">\n",
       "  <thead>\n",
       "    <tr style=\"text-align: right;\">\n",
       "      <th></th>\n",
       "      <th>OR</th>\n",
       "      <th>conf_OR_low</th>\n",
       "      <th>conf_OR_high</th>\n",
       "      <th>P</th>\n",
       "    </tr>\n",
       "  </thead>\n",
       "  <tbody>\n",
       "    <tr>\n",
       "      <th>mutation</th>\n",
       "      <td>1.204147</td>\n",
       "      <td>1.177512</td>\n",
       "      <td>1.231384</td>\n",
       "      <td>1.401241e-59</td>\n",
       "    </tr>\n",
       "  </tbody>\n",
       "</table>\n",
       "</div>"
      ],
      "text/plain": [
       "                OR  conf_OR_low  conf_OR_high             P\n",
       "mutation  1.204147     1.177512      1.231384  1.401241e-59"
      ]
     },
     "execution_count": 3,
     "metadata": {},
     "output_type": "execute_result"
    }
   ],
   "source": [
    "pd.read_csv('/cellar/users/ramarty/Data/hla_ii/generated_data/OR_clean/pan/class_ii/cancer.thresh_2.txt',\n",
    "           sep=' ')"
   ]
  },
  {
   "cell_type": "code",
   "execution_count": 4,
   "metadata": {
    "collapsed": false
   },
   "outputs": [
    {
     "data": {
      "text/html": [
       "<div>\n",
       "<table border=\"1\" class=\"dataframe\">\n",
       "  <thead>\n",
       "    <tr style=\"text-align: right;\">\n",
       "      <th></th>\n",
       "      <th>OR</th>\n",
       "      <th>conf_OR_low</th>\n",
       "      <th>conf_OR_high</th>\n",
       "      <th>P</th>\n",
       "    </tr>\n",
       "  </thead>\n",
       "  <tbody>\n",
       "    <tr>\n",
       "      <th>mutation</th>\n",
       "      <td>1.198532</td>\n",
       "      <td>1.174747</td>\n",
       "      <td>1.222799</td>\n",
       "      <td>3.647245e-70</td>\n",
       "    </tr>\n",
       "  </tbody>\n",
       "</table>\n",
       "</div>"
      ],
      "text/plain": [
       "                OR  conf_OR_low  conf_OR_high             P\n",
       "mutation  1.198532     1.174747      1.222799  3.647245e-70"
      ]
     },
     "execution_count": 4,
     "metadata": {},
     "output_type": "execute_result"
    }
   ],
   "source": [
    "pd.read_csv('/cellar/users/ramarty/Data/hla_ii/generated_data/OR_clean/pan/class_i/cancer.thresh_2.txt',\n",
    "           sep=' ')"
   ]
  },
  {
   "cell_type": "code",
   "execution_count": 13,
   "metadata": {
    "collapsed": false
   },
   "outputs": [],
   "source": [
    "randomizations = []\n",
    "for i in range(100):\n",
    "    randomizations.append(pd.read_csv('/cellar/users/ramarty/Data/hla_ii/generated_data/OR_clean/pan/random/class_ii_{0}.thresh_2.txt'.format(i),\n",
    "           sep=' ').ix['mutation', 'OR'])"
   ]
  },
  {
   "cell_type": "code",
   "execution_count": 14,
   "metadata": {
    "collapsed": false,
    "scrolled": true
   },
   "outputs": [
    {
     "data": {
      "text/plain": [
       "count    100.000000\n",
       "mean       1.204430\n",
       "std        0.005770\n",
       "min        1.188676\n",
       "25%        1.200565\n",
       "50%        1.204966\n",
       "75%        1.208086\n",
       "max        1.220599\n",
       "dtype: float64"
      ]
     },
     "execution_count": 14,
     "metadata": {},
     "output_type": "execute_result"
    }
   ],
   "source": [
    "pd.Series(randomizations).describe()"
   ]
  },
  {
   "cell_type": "markdown",
   "metadata": {
    "collapsed": true
   },
   "source": [
    "Tissue"
   ]
  },
  {
   "cell_type": "code",
   "execution_count": 57,
   "metadata": {
    "collapsed": false,
    "scrolled": false
   },
   "outputs": [],
   "source": [
    "df1 = pd.read_csv('/cellar/users/ramarty/Data/hla_ii/generated_data/OR_clean/tissue/class_ii/cancer.thresh_2.txt',\n",
    "           sep=',')\n",
    "df2 = pd.read_csv('/cellar/users/ramarty/Data/hla_ii/generated_data/OR_clean/tissue/class_ii/high_allelic_fraction.thresh_2.txt',\n",
    "           sep=',')"
   ]
  },
  {
   "cell_type": "code",
   "execution_count": 61,
   "metadata": {
    "collapsed": false,
    "scrolled": false
   },
   "outputs": [
    {
     "data": {
      "text/html": [
       "<div>\n",
       "<table border=\"1\" class=\"dataframe\">\n",
       "  <thead>\n",
       "    <tr style=\"text-align: right;\">\n",
       "      <th></th>\n",
       "      <th>OR</th>\n",
       "      <th>Lci</th>\n",
       "      <th>Hci</th>\n",
       "      <th>P</th>\n",
       "      <th>Error</th>\n",
       "    </tr>\n",
       "  </thead>\n",
       "  <tbody>\n",
       "    <tr>\n",
       "      <th>GBM</th>\n",
       "      <td>1.159707</td>\n",
       "      <td>1.032579</td>\n",
       "      <td>1.302488</td>\n",
       "      <td>1.237778e-02</td>\n",
       "      <td>0.127129</td>\n",
       "    </tr>\n",
       "    <tr>\n",
       "      <th>LUAD</th>\n",
       "      <td>1.072565</td>\n",
       "      <td>0.977291</td>\n",
       "      <td>1.177128</td>\n",
       "      <td>1.399395e-01</td>\n",
       "      <td>0.095274</td>\n",
       "    </tr>\n",
       "    <tr>\n",
       "      <th>LUSC</th>\n",
       "      <td>1.209307</td>\n",
       "      <td>1.087692</td>\n",
       "      <td>1.344520</td>\n",
       "      <td>4.406989e-04</td>\n",
       "      <td>0.121615</td>\n",
       "    </tr>\n",
       "    <tr>\n",
       "      <th>BLCA</th>\n",
       "      <td>1.335281</td>\n",
       "      <td>1.195050</td>\n",
       "      <td>1.491969</td>\n",
       "      <td>3.261492e-07</td>\n",
       "      <td>0.140232</td>\n",
       "    </tr>\n",
       "    <tr>\n",
       "      <th>PAAD</th>\n",
       "      <td>1.241835</td>\n",
       "      <td>1.010325</td>\n",
       "      <td>1.526394</td>\n",
       "      <td>3.962983e-02</td>\n",
       "      <td>0.231510</td>\n",
       "    </tr>\n",
       "    <tr>\n",
       "      <th>COAD</th>\n",
       "      <td>1.158516</td>\n",
       "      <td>1.156833</td>\n",
       "      <td>1.160203</td>\n",
       "      <td>0.000000e+00</td>\n",
       "      <td>0.001684</td>\n",
       "    </tr>\n",
       "    <tr>\n",
       "      <th>STAD</th>\n",
       "      <td>1.159879</td>\n",
       "      <td>1.035224</td>\n",
       "      <td>1.299544</td>\n",
       "      <td>1.056484e-02</td>\n",
       "      <td>0.124655</td>\n",
       "    </tr>\n",
       "    <tr>\n",
       "      <th>SKCM</th>\n",
       "      <td>1.298856</td>\n",
       "      <td>1.204125</td>\n",
       "      <td>1.401040</td>\n",
       "      <td>1.310182e-11</td>\n",
       "      <td>0.094731</td>\n",
       "    </tr>\n",
       "    <tr>\n",
       "      <th>THCA</th>\n",
       "      <td>2.717780</td>\n",
       "      <td>2.333033</td>\n",
       "      <td>3.165977</td>\n",
       "      <td>1.007315e-37</td>\n",
       "      <td>0.384747</td>\n",
       "    </tr>\n",
       "    <tr>\n",
       "      <th>HNSC</th>\n",
       "      <td>1.196227</td>\n",
       "      <td>1.073135</td>\n",
       "      <td>1.333437</td>\n",
       "      <td>1.220567e-03</td>\n",
       "      <td>0.123092</td>\n",
       "    </tr>\n",
       "    <tr>\n",
       "      <th>READ</th>\n",
       "      <td>1.016201</td>\n",
       "      <td>0.887793</td>\n",
       "      <td>1.163183</td>\n",
       "      <td>8.156188e-01</td>\n",
       "      <td>0.128408</td>\n",
       "    </tr>\n",
       "    <tr>\n",
       "      <th>LGG</th>\n",
       "      <td>2.020116</td>\n",
       "      <td>1.836910</td>\n",
       "      <td>2.221596</td>\n",
       "      <td>1.276168e-47</td>\n",
       "      <td>0.183207</td>\n",
       "    </tr>\n",
       "    <tr>\n",
       "      <th>BRCA</th>\n",
       "      <td>1.053322</td>\n",
       "      <td>0.921176</td>\n",
       "      <td>1.204424</td>\n",
       "      <td>4.475269e-01</td>\n",
       "      <td>0.132146</td>\n",
       "    </tr>\n",
       "    <tr>\n",
       "      <th>OV</th>\n",
       "      <td>1.409077</td>\n",
       "      <td>1.178242</td>\n",
       "      <td>1.685135</td>\n",
       "      <td>1.720258e-04</td>\n",
       "      <td>0.230834</td>\n",
       "    </tr>\n",
       "    <tr>\n",
       "      <th>PRAD</th>\n",
       "      <td>0.808665</td>\n",
       "      <td>0.697512</td>\n",
       "      <td>0.937531</td>\n",
       "      <td>4.877201e-03</td>\n",
       "      <td>0.111153</td>\n",
       "    </tr>\n",
       "  </tbody>\n",
       "</table>\n",
       "</div>"
      ],
      "text/plain": [
       "            OR       Lci       Hci             P     Error\n",
       "GBM   1.159707  1.032579  1.302488  1.237778e-02  0.127129\n",
       "LUAD  1.072565  0.977291  1.177128  1.399395e-01  0.095274\n",
       "LUSC  1.209307  1.087692  1.344520  4.406989e-04  0.121615\n",
       "BLCA  1.335281  1.195050  1.491969  3.261492e-07  0.140232\n",
       "PAAD  1.241835  1.010325  1.526394  3.962983e-02  0.231510\n",
       "COAD  1.158516  1.156833  1.160203  0.000000e+00  0.001684\n",
       "STAD  1.159879  1.035224  1.299544  1.056484e-02  0.124655\n",
       "SKCM  1.298856  1.204125  1.401040  1.310182e-11  0.094731\n",
       "THCA  2.717780  2.333033  3.165977  1.007315e-37  0.384747\n",
       "HNSC  1.196227  1.073135  1.333437  1.220567e-03  0.123092\n",
       "READ  1.016201  0.887793  1.163183  8.156188e-01  0.128408\n",
       "LGG   2.020116  1.836910  2.221596  1.276168e-47  0.183207\n",
       "BRCA  1.053322  0.921176  1.204424  4.475269e-01  0.132146\n",
       "OV    1.409077  1.178242  1.685135  1.720258e-04  0.230834\n",
       "PRAD  0.808665  0.697512  0.937531  4.877201e-03  0.111153"
      ]
     },
     "execution_count": 61,
     "metadata": {},
     "output_type": "execute_result"
    }
   ],
   "source": [
    "df2"
   ]
  }
 ],
 "metadata": {
  "kernelspec": {
   "display_name": "Python 2",
   "language": "python",
   "name": "python2"
  },
  "language_info": {
   "codemirror_mode": {
    "name": "ipython",
    "version": 2
   },
   "file_extension": ".py",
   "mimetype": "text/x-python",
   "name": "python",
   "nbconvert_exporter": "python",
   "pygments_lexer": "ipython2",
   "version": "2.7.14"
  }
 },
 "nbformat": 4,
 "nbformat_minor": 0
}
