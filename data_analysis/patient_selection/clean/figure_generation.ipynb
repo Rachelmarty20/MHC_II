{
 "cells": [
  {
   "cell_type": "code",
   "execution_count": 21,
   "metadata": {
    "collapsed": false
   },
   "outputs": [
    {
     "name": "stdout",
     "output_type": "stream",
     "text": [
      "Populating the interactive namespace from numpy and matplotlib\n"
     ]
    },
    {
     "name": "stderr",
     "output_type": "stream",
     "text": [
      "WARNING: pylab import has clobbered these variables: ['axes', 'sample']\n",
      "`%matplotlib` prevents importing * from pylab and numpy\n"
     ]
    }
   ],
   "source": [
    "import io\n",
    "from IPython.nbformat import current\n",
    "def execute_notebook(nbfile):\n",
    "    with io.open(nbfile) as f:\n",
    "        nb = current.read(f, 'json')\n",
    "    ip = get_ipython()\n",
    "    for cell in nb.worksheets[0].cells:\n",
    "        if cell.cell_type != 'code':\n",
    "            continue\n",
    "        ip.run_cell(cell.input)\n",
    "execute_notebook(\"/cellar/users/ramarty/Projects/hla_ii/bin/imports.ipynb\")\n",
    "execute_notebook(\"/cellar/users/ramarty/Projects/hla_ii/bin/plotting.ipynb\")"
   ]
  },
  {
   "cell_type": "markdown",
   "metadata": {},
   "source": [
    "Figure 4"
   ]
  },
  {
   "cell_type": "code",
   "execution_count": 3,
   "metadata": {
    "collapsed": true
   },
   "outputs": [],
   "source": [
    "classII = pd.read_csv('/cellar/users/ramarty/Data/hla_ii/presentation/clean_matrices/patient_affinities.cancer.TCGA.conservative.mut.ClassII.csv',\n",
    "                      index_col=0)"
   ]
  },
  {
   "cell_type": "code",
   "execution_count": 4,
   "metadata": {
    "collapsed": false
   },
   "outputs": [
    {
     "data": {
      "text/plain": [
       "(5942, 1018)"
      ]
     },
     "execution_count": 4,
     "metadata": {},
     "output_type": "execute_result"
    }
   ],
   "source": [
    "shape(classII)"
   ]
  },
  {
   "cell_type": "code",
   "execution_count": 5,
   "metadata": {
    "collapsed": false
   },
   "outputs": [
    {
     "name": "stdout",
     "output_type": "stream",
     "text": [
      "515\n"
     ]
    }
   ],
   "source": [
    "mutations = pd.read_csv('/cellar/users/ramarty/Data/hla_ii/presentation/clean_matrices/patient_mutations.cancer.TCGA.conservative.mut.csv',\n",
    "                        index_col=0)\n",
    "thresholded_mutations = list(mutations.sum()[mutations.sum() > 2].index)\n",
    "print len(thresholded_mutations)\n",
    "classII_thresh = classII[thresholded_mutations]"
   ]
  },
  {
   "cell_type": "code",
   "execution_count": 6,
   "metadata": {
    "collapsed": true
   },
   "outputs": [],
   "source": [
    "mutations_thresh = mutations[thresholded_mutations]"
   ]
  },
  {
   "cell_type": "code",
   "execution_count": 7,
   "metadata": {
    "collapsed": false
   },
   "outputs": [],
   "source": [
    "yes_mutation, no_mutation = [], []\n",
    "for mutation in thresholded_mutations:\n",
    "    yes_mutation.extend(list(classII_thresh[mutations_thresh[mutation].astype(bool)][mutation]))\n",
    "    no_mutation.extend(list(classII_thresh[~mutations_thresh[mutation].astype(bool)][mutation]))"
   ]
  },
  {
   "cell_type": "code",
   "execution_count": 8,
   "metadata": {
    "collapsed": false
   },
   "outputs": [],
   "source": [
    "split_df = pd.DataFrame({'Status': ['Mutation' for x in yes_mutation] + \n",
    "                                 ['No Mutation' for x in no_mutation],\n",
    "                         'PHBR-II': yes_mutation + no_mutation})"
   ]
  },
  {
   "cell_type": "code",
   "execution_count": 9,
   "metadata": {
    "collapsed": false,
    "scrolled": true
   },
   "outputs": [
    {
     "data": {
      "text/plain": [
       "3060130"
      ]
     },
     "execution_count": 9,
     "metadata": {},
     "output_type": "execute_result"
    }
   ],
   "source": [
    "len(split_df)"
   ]
  },
  {
   "cell_type": "code",
   "execution_count": 10,
   "metadata": {
    "collapsed": false
   },
   "outputs": [
    {
     "data": {
      "image/png": "[encoded data removed]",
      "text/plain": [
       "<matplotlib.figure.Figure at 0x7f3a90606ad0>"
      ]
     },
     "metadata": {},
     "output_type": "display_data"
    }
   ],
   "source": [
    "# Panel A\n",
    "plt.figure(figsize=(3,2.5))\n",
    "sns.violinplot(x='Status', y='PHBR-II', data=split_df, color='lightgrey')\n",
    "plt.ylim(0, 100)\n",
    "plt.xlabel('')\n",
    "plt.tight_layout()\n",
    "plt.savefig('/cellar/users/ramarty/Data/hla_ii/generated_figures/class_comparison/PHBR-II.mutation_split.conservative.pdf')"
   ]
  },
  {
   "cell_type": "code",
   "execution_count": null,
   "metadata": {
    "collapsed": true
   },
   "outputs": [],
   "source": [
    "# Panel B - point to script to run it"
   ]
  },
  {
   "cell_type": "code",
   "execution_count": null,
   "metadata": {
    "collapsed": true
   },
   "outputs": [],
   "source": [
    "# Panel C"
   ]
  },
  {
   "cell_type": "code",
   "execution_count": 25,
   "metadata": {
    "collapsed": true
   },
   "outputs": [],
   "source": [
    "df = pd.read_csv('/cellar/users/ramarty/Data/hla_ii/generated_data/OR_clean/tissue/class_ii/cancer.thresh_2.txt',\n",
    "           sep=',')\n",
    "outfile = '/cellar/users/ramarty/Data/hla_ii/generated_figures/mutations/cancer.conservative.classII_OR.pdf'"
   ]
  },
  {
   "cell_type": "code",
   "execution_count": 37,
   "metadata": {
    "collapsed": false
   },
   "outputs": [
    {
     "data": {
      "image/png": "[encoded data removed]",
      "text/plain": [
       "<matplotlib.figure.Figure at 0x7f3a3a034cd0>"
      ]
     },
     "metadata": {},
     "output_type": "display_data"
    }
   ],
   "source": [
    "df['Error'] = df['OR'] - df['Lci']\n",
    "ordered_tissues = df.OR.sort_values(ascending=False).index\n",
    "df = df.ix[ordered_tissues]\n",
    "plt.figure(figsize=(3.25, 5.75))\n",
    "plt.axvline(1, color='lightgrey')\n",
    "plt.errorbar(df.OR, [x + 0.2 for x in range(len(df))[::-1]], \n",
    "             xerr=list(df.Error), fmt='o', \n",
    "             color='grey', label='Class I')\n",
    "plt.yticks(range(len(df))[::-1], list(df.index))\n",
    "plt.ylim(-0.5, len(df)-0.2)\n",
    "plt.xlabel('Odds ratio')\n",
    "if outfile != None:\n",
    "    plt.savefig(outfile, bbox_inches='tight')"
   ]
  },
  {
   "cell_type": "code",
   "execution_count": null,
   "metadata": {
    "collapsed": true
   },
   "outputs": [],
   "source": []
  },
  {
   "cell_type": "markdown",
   "metadata": {},
   "source": [
    "Figure 5"
   ]
  },
  {
   "cell_type": "code",
   "execution_count": 17,
   "metadata": {
    "collapsed": false
   },
   "outputs": [
    {
     "name": "stdout",
     "output_type": "stream",
     "text": [
      "515\n"
     ]
    }
   ],
   "source": [
    "classI = pd.read_csv('/cellar/users/ramarty/Data/hla_ii/presentation/clean_matrices/patient_affinities.cancer.TCGA.conservative.mut.ClassI.csv',\n",
    "                     index_col=0)\n",
    "classII = pd.read_csv('/cellar/users/ramarty/Data/hla_ii/presentation/clean_matrices/patient_affinities.cancer.TCGA.conservative.mut.ClassII.csv',\n",
    "                      index_col=0)\n",
    "mutations = pd.read_csv('/cellar/users/ramarty/Data/hla_ii/presentation/clean_matrices/patient_mutations.cancer.TCGA.conservative.mut.csv',\n",
    "                        index_col=0)\n",
    "thresholded_mutations = list(mutations.sum()[mutations.sum() > 2].index)\n",
    "print len(thresholded_mutations)\n",
    "classI_thresh = classI[thresholded_mutations]\n",
    "classII_thresh = classII[thresholded_mutations]\n",
    "df = pd.DataFrame({'MHC-I': pd.Series(np.matrix(classI_thresh).flatten().tolist()[0]),\n",
    "                   'MHC-II': pd.Series(np.matrix(classII_thresh).flatten().tolist()[0])})\n",
    "df['log(PHBR-I)'] = np.log10(df['MHC-I'])\n",
    "df['log(PHBR-II)'] = np.log10(df['MHC-II'])"
   ]
  },
  {
   "cell_type": "code",
   "execution_count": 12,
   "metadata": {
    "collapsed": false
   },
   "outputs": [
    {
     "data": {
      "text/plain": [
       "1097.2167603845455"
      ]
     },
     "execution_count": 12,
     "metadata": {},
     "output_type": "execute_result"
    }
   ],
   "source": [
    "float(mutations.shape[0]*mutations.shape[1]) / mutations.sum().sum()"
   ]
  },
  {
   "cell_type": "code",
   "execution_count": 18,
   "metadata": {
    "collapsed": false
   },
   "outputs": [
    {
     "data": {
      "image/png": "[encoded data removed]",
      "text/plain": [
       "<matplotlib.figure.Figure at 0x7f3a496e1dd0>"
      ]
     },
     "metadata": {},
     "output_type": "display_data"
    }
   ],
   "source": [
    "# Panel A\n",
    "plt.figure(figsize=(3,3))\n",
    "\n",
    "sample = df.sample(1000).index\n",
    "g = sns.kdeplot(df.ix[sample]['log(PHBR-I)'], df.ix[sample]['log(PHBR-II)'],\n",
    "              cmap=\"Greys\", kind='kde', shade=True, color='lightgrey')\n",
    "plt.locator_params(nbins=6)\n",
    "axes = g.axes\n",
    "axes.set_ylim(-2,2)\n",
    "axes.set_xlim(-2,2)\n",
    "plt.tight_layout()\n",
    "plt.savefig('/cellar/users/ramarty/Data/hla_ii/generated_figures/class_comparison/PHBR_density.conservative.pdf')"
   ]
  },
  {
   "cell_type": "code",
   "execution_count": 15,
   "metadata": {
    "collapsed": true
   },
   "outputs": [],
   "source": [
    "# Panel B - Is in R, not sure if I can import it... \n",
    "def create_cluster_script():\n",
    "    \n",
    "    new_script_file = '/cellar/users/ramarty/Projects/hla_ii/data_analysis/class_comparison/mutation_probability_heatmap.sh'\n",
    "    \n",
    "    with open(new_script_file, 'w') as out_file:\n",
    "        out_file.write(\"#! /bin/csh\\n\")\n",
    "        out_file.write(\"#$ -V\\n\")\n",
    "        out_file.write(\"#$ -S /bin/csh\\n\")\n",
    "        out_file.write(\"#$ -o /cellar/users/ramarty/Data/hla_ii/sge-system_files\\n\")\n",
    "        out_file.write(\"#$ -e /cellar/users/ramarty/Data/hla_ii/sge-system_files\\n\")\n",
    "        out_file.write(\"#$ -l h_vmem=40G\\n\")\n",
    "        out_file.write(\"#$ -l long\")\n",
    "        out_file.write(\"\\n\")\n",
    "        \n",
    "        out_file.write(\"date\\n\")\n",
    "        out_file.write(\"hostname\\n\")\n",
    "        out_file.write(\"\\n\")\n",
    "        out_file.write(\"Rscript --vanilla /cellar/users/ramarty/Projects/hla_ii/data_analysis/class_comparison/mutation_probability_heatmap.R\\n\")\n",
    "                       \n",
    "        out_file.write(\"date\\n\")\n",
    "create_cluster_script()"
   ]
  },
  {
   "cell_type": "code",
   "execution_count": 16,
   "metadata": {
    "collapsed": false
   },
   "outputs": [
    {
     "data": {
      "text/plain": [
       "247"
      ]
     },
     "execution_count": 16,
     "metadata": {},
     "output_type": "execute_result"
    }
   ],
   "source": [
    "sum(np.arange(13,26))"
   ]
  },
  {
   "cell_type": "markdown",
   "metadata": {},
   "source": [
    "MHC-II only ORs"
   ]
  },
  {
   "cell_type": "code",
   "execution_count": 57,
   "metadata": {
    "collapsed": false,
    "scrolled": true
   },
   "outputs": [],
   "source": [
    "all_dfs = []\n",
    "for category, threshold in zip(['conservative', 'passenger', 'germline'], [2, 2, 2]):\n",
    "    if category == 'conservative':\n",
    "        all_dfs.append(pd.read_csv('/cellar/users/ramarty/Data/hla_ii/generated_data/OR_clean/pan/class_ii/{0}.thresh_{1}.txt'.format(category, threshold),\n",
    "                      sep=' '))\n",
    "    else:\n",
    "        all_dfs.append(pd.read_csv('/cellar/users/ramarty/Data/hla_ii/generated_data/OR_clean/pan/class_ii/{0}.conservative.thresh_{1}.txt'.format(category, threshold),\n",
    "                          sep=' '))\n",
    "df = pd.concat(all_dfs)\n",
    "df['Category'] = ['Driver','Passenger', 'Germline']\n",
    "df.to_csv('/cellar/users/ramarty/Data/hla_ii/generated_data/tables/MHCII_only.OR.csv')"
   ]
  },
  {
   "cell_type": "code",
   "execution_count": 58,
   "metadata": {
    "collapsed": false
   },
   "outputs": [
    {
     "data": {
      "text/html": [
       "<div>\n",
       "<table border=\"1\" class=\"dataframe\">\n",
       "  <thead>\n",
       "    <tr style=\"text-align: right;\">\n",
       "      <th></th>\n",
       "      <th>OR</th>\n",
       "      <th>conf_OR_low</th>\n",
       "      <th>conf_OR_high</th>\n",
       "      <th>P</th>\n",
       "      <th>Category</th>\n",
       "    </tr>\n",
       "  </thead>\n",
       "  <tbody>\n",
       "    <tr>\n",
       "      <th>mutation</th>\n",
       "      <td>1.228736</td>\n",
       "      <td>1.198148</td>\n",
       "      <td>1.260104</td>\n",
       "      <td>9.936955e-58</td>\n",
       "      <td>Driver</td>\n",
       "    </tr>\n",
       "    <tr>\n",
       "      <th>mutation</th>\n",
       "      <td>0.999933</td>\n",
       "      <td>0.944313</td>\n",
       "      <td>1.058830</td>\n",
       "      <td>9.981827e-01</td>\n",
       "      <td>Passenger</td>\n",
       "    </tr>\n",
       "    <tr>\n",
       "      <th>mutation</th>\n",
       "      <td>0.994688</td>\n",
       "      <td>0.992616</td>\n",
       "      <td>0.996765</td>\n",
       "      <td>5.581873e-07</td>\n",
       "      <td>Germline</td>\n",
       "    </tr>\n",
       "  </tbody>\n",
       "</table>\n",
       "</div>"
      ],
      "text/plain": [
       "                OR  conf_OR_low  conf_OR_high             P   Category\n",
       "mutation  1.228736     1.198148      1.260104  9.936955e-58     Driver\n",
       "mutation  0.999933     0.944313      1.058830  9.981827e-01  Passenger\n",
       "mutation  0.994688     0.992616      0.996765  5.581873e-07   Germline"
      ]
     },
     "execution_count": 58,
     "metadata": {},
     "output_type": "execute_result"
    }
   ],
   "source": [
    "df"
   ]
  },
  {
   "cell_type": "markdown",
   "metadata": {},
   "source": [
    "MHC-I/MHC-II Pan-cancer OR table"
   ]
  },
  {
   "cell_type": "code",
   "execution_count": 59,
   "metadata": {
    "collapsed": true
   },
   "outputs": [],
   "source": [
    "all_dfs = []\n",
    "for category, threshold in zip(['cancer', 'passenger', 'germline'], [2, 0, 0]):\n",
    "    \n",
    "    all_dfs.append(pd.read_csv('/cellar/users/ramarty/Data/hla_ii/generated_data/OR/Both.pan.thresh_{0}.{1}.txt'.format(threshold, category),\n",
    "                      sep=' '))\n",
    "df = pd.concat(all_dfs)\n",
    "df['Category'] = ['Driver']*2+['Passenger']*2+['Germline']*2\n",
    "df['Variable'] = ['MHC-I', 'MHC-II']*3\n",
    "df.to_csv('/cellar/users/ramarty/Data/hla_ii/generated_data/tables/Both.OR.csv')"
   ]
  },
  {
   "cell_type": "code",
   "execution_count": 60,
   "metadata": {
    "collapsed": false
   },
   "outputs": [
    {
     "data": {
      "text/html": [
       "<div>\n",
       "<table border=\"1\" class=\"dataframe\">\n",
       "  <thead>\n",
       "    <tr style=\"text-align: right;\">\n",
       "      <th></th>\n",
       "      <th>OR</th>\n",
       "      <th>CI_low</th>\n",
       "      <th>CI_high</th>\n",
       "      <th>predicted</th>\n",
       "      <th>Category</th>\n",
       "      <th>Variable</th>\n",
       "    </tr>\n",
       "  </thead>\n",
       "  <tbody>\n",
       "    <tr>\n",
       "      <th>1</th>\n",
       "      <td>1.595496</td>\n",
       "      <td>1.546324</td>\n",
       "      <td>1.646231</td>\n",
       "      <td>x</td>\n",
       "      <td>Driver</td>\n",
       "      <td>MHC-I</td>\n",
       "    </tr>\n",
       "    <tr>\n",
       "      <th>2</th>\n",
       "      <td>1.735370</td>\n",
       "      <td>1.672284</td>\n",
       "      <td>1.800837</td>\n",
       "      <td>z</td>\n",
       "      <td>Driver</td>\n",
       "      <td>MHC-II</td>\n",
       "    </tr>\n",
       "    <tr>\n",
       "      <th>1</th>\n",
       "      <td>1.008431</td>\n",
       "      <td>0.997265</td>\n",
       "      <td>1.019722</td>\n",
       "      <td>x</td>\n",
       "      <td>Passenger</td>\n",
       "      <td>MHC-I</td>\n",
       "    </tr>\n",
       "    <tr>\n",
       "      <th>2</th>\n",
       "      <td>1.007390</td>\n",
       "      <td>0.996463</td>\n",
       "      <td>1.018436</td>\n",
       "      <td>z</td>\n",
       "      <td>Passenger</td>\n",
       "      <td>MHC-II</td>\n",
       "    </tr>\n",
       "    <tr>\n",
       "      <th>1</th>\n",
       "      <td>1.057429</td>\n",
       "      <td>1.055964</td>\n",
       "      <td>1.058895</td>\n",
       "      <td>x</td>\n",
       "      <td>Germline</td>\n",
       "      <td>MHC-I</td>\n",
       "    </tr>\n",
       "    <tr>\n",
       "      <th>2</th>\n",
       "      <td>0.998968</td>\n",
       "      <td>0.995646</td>\n",
       "      <td>1.002300</td>\n",
       "      <td>z</td>\n",
       "      <td>Germline</td>\n",
       "      <td>MHC-II</td>\n",
       "    </tr>\n",
       "  </tbody>\n",
       "</table>\n",
       "</div>"
      ],
      "text/plain": [
       "         OR    CI_low   CI_high predicted   Category Variable\n",
       "1  1.595496  1.546324  1.646231         x     Driver    MHC-I\n",
       "2  1.735370  1.672284  1.800837         z     Driver   MHC-II\n",
       "1  1.008431  0.997265  1.019722         x  Passenger    MHC-I\n",
       "2  1.007390  0.996463  1.018436         z  Passenger   MHC-II\n",
       "1  1.057429  1.055964  1.058895         x   Germline    MHC-I\n",
       "2  0.998968  0.995646  1.002300         z   Germline   MHC-II"
      ]
     },
     "execution_count": 60,
     "metadata": {},
     "output_type": "execute_result"
    }
   ],
   "source": [
    "df"
   ]
  },
  {
   "cell_type": "markdown",
   "metadata": {},
   "source": [
    "MHC-I/MHC-II tissue OR comparison figure"
   ]
  },
  {
   "cell_type": "code",
   "execution_count": 40,
   "metadata": {
    "collapsed": false,
    "scrolled": true
   },
   "outputs": [
    {
     "data": {
      "text/html": [
       "<div>\n",
       "<table border=\"1\" class=\"dataframe\">\n",
       "  <thead>\n",
       "    <tr style=\"text-align: right;\">\n",
       "      <th></th>\n",
       "      <th>OR</th>\n",
       "      <th>CI_low</th>\n",
       "      <th>CI_high</th>\n",
       "      <th>predicted</th>\n",
       "      <th>tissues</th>\n",
       "    </tr>\n",
       "  </thead>\n",
       "  <tbody>\n",
       "    <tr>\n",
       "      <th>1</th>\n",
       "      <td>0.979069</td>\n",
       "      <td>0.962010</td>\n",
       "      <td>0.996429</td>\n",
       "      <td>x</td>\n",
       "      <td>GBM</td>\n",
       "    </tr>\n",
       "    <tr>\n",
       "      <th>2</th>\n",
       "      <td>0.822848</td>\n",
       "      <td>0.812861</td>\n",
       "      <td>0.832957</td>\n",
       "      <td>x</td>\n",
       "      <td>OV</td>\n",
       "    </tr>\n",
       "    <tr>\n",
       "      <th>3</th>\n",
       "      <td>1.071418</td>\n",
       "      <td>1.051508</td>\n",
       "      <td>1.091706</td>\n",
       "      <td>x</td>\n",
       "      <td>LUAD</td>\n",
       "    </tr>\n",
       "    <tr>\n",
       "      <th>4</th>\n",
       "      <td>0.848545</td>\n",
       "      <td>0.841230</td>\n",
       "      <td>0.855925</td>\n",
       "      <td>x</td>\n",
       "      <td>LUSC</td>\n",
       "    </tr>\n",
       "    <tr>\n",
       "      <th>5</th>\n",
       "      <td>1.051237</td>\n",
       "      <td>1.006086</td>\n",
       "      <td>1.098414</td>\n",
       "      <td>x</td>\n",
       "      <td>PRAD</td>\n",
       "    </tr>\n",
       "  </tbody>\n",
       "</table>\n",
       "</div>"
      ],
      "text/plain": [
       "         OR    CI_low   CI_high predicted tissues\n",
       "1  0.979069  0.962010  0.996429         x     GBM\n",
       "2  0.822848  0.812861  0.832957         x      OV\n",
       "3  1.071418  1.051508  1.091706         x    LUAD\n",
       "4  0.848545  0.841230  0.855925         x    LUSC\n",
       "5  1.051237  1.006086  1.098414         x    PRAD"
      ]
     },
     "execution_count": 40,
     "metadata": {},
     "output_type": "execute_result"
    }
   ],
   "source": [
    "both = pd.read_csv('/cellar/users/ramarty/Data/hla_ii/generated_data/OR/Both.tissue.thresh_2.cancer.txt',\n",
    "            sep=' ')\n",
    "both.head()"
   ]
  },
  {
   "cell_type": "code",
   "execution_count": 41,
   "metadata": {
    "collapsed": true
   },
   "outputs": [],
   "source": [
    "restricted_tissues = ['GBM', 'OV', 'LUAD', 'LUSC', 'PRAD', 'UCEC','BLCA', 'PAAD', \n",
    "                      'LIHC', 'BRCA', 'COAD', 'STAD', 'SKCM', 'THCA', 'HNSC', 'READ',\n",
    "                      'LGG', 'UCS']\n",
    "both = both[both.tissues.isin(restricted_tissues)]"
   ]
  },
  {
   "cell_type": "code",
   "execution_count": 42,
   "metadata": {
    "collapsed": false
   },
   "outputs": [],
   "source": [
    "both['OR_log'] = np.log2(both.OR)"
   ]
  },
  {
   "cell_type": "code",
   "execution_count": 43,
   "metadata": {
    "collapsed": false,
    "scrolled": true
   },
   "outputs": [],
   "source": [
    "# Gotta restrict this plot to those with enough mutations"
   ]
  },
  {
   "cell_type": "code",
   "execution_count": 56,
   "metadata": {
    "collapsed": false,
    "scrolled": true
   },
   "outputs": [
    {
     "data": {
      "image/png": "[encoded data removed]",
      "text/plain": [
       "<matplotlib.figure.Figure at 0x7f3a49279810>"
      ]
     },
     "metadata": {},
     "output_type": "display_data"
    }
   ],
   "source": [
    "fig, ax = plt.subplots(figsize=(2.5, 2.5))\n",
    "#plt.figure(figsize=(3, 3))\n",
    "plt.scatter(both[both.predicted == 'x'].OR,\n",
    "            both[both.predicted == 'z'].OR, c='k', s=3)\n",
    "for i, txt in enumerate(both[both.predicted == 'x'].tissues):\n",
    "    ax.annotate(txt, (list(both[both.predicted == 'x'].OR)[i], \n",
    "                      list(both[both.predicted == 'z'].OR)[i]), size=7)\n",
    "plt.xlabel('OR PHBR-I')\n",
    "plt.ylabel('OR PHBR-II')\n",
    "plt.axhline(1, c='k')\n",
    "plt.axvline(1, c='k')\n",
    "plt.locator_params(nbins=6)\n",
    "plt.xlim(0.5,1.7)\n",
    "plt.ylim(0.5,1.7)\n",
    "plt.tight_layout()\n",
    "plt.savefig('/cellar/users/ramarty/Data/hla_ii/generated_figures/class_comparison/OR.class_comparison.tissue.conservative.pdf')"
   ]
  },
  {
   "cell_type": "code",
   "execution_count": null,
   "metadata": {
    "collapsed": true
   },
   "outputs": [],
   "source": []
  }
 ],
 "metadata": {
  "kernelspec": {
   "display_name": "Python 2",
   "language": "python",
   "name": "python2"
  },
  "language_info": {
   "codemirror_mode": {
    "name": "ipython",
    "version": 2
   },
   "file_extension": ".py",
   "mimetype": "text/x-python",
   "name": "python",
   "nbconvert_exporter": "python",
   "pygments_lexer": "ipython2",
   "version": "2.7.14"
  }
 },
 "nbformat": 4,
 "nbformat_minor": 0
}
