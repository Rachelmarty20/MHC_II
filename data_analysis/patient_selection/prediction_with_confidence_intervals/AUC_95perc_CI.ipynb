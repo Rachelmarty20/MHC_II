{
 "cells": [
  {
   "cell_type": "code",
   "execution_count": 3,
   "metadata": {
    "collapsed": false
   },
   "outputs": [
    {
     "name": "stdout",
     "output_type": "stream",
     "text": [
      "Populating the interactive namespace from numpy and matplotlib\n"
     ]
    }
   ],
   "source": [
    "import io\n",
    "from IPython.nbformat import current\n",
    "def execute_notebook(nbfile):\n",
    "    with io.open(nbfile) as f:\n",
    "        nb = current.read(f, 'json')\n",
    "    ip = get_ipython()\n",
    "    for cell in nb.worksheets[0].cells:\n",
    "        if cell.cell_type != 'code':\n",
    "            continue\n",
    "        ip.run_cell(cell.input)\n",
    "execute_notebook(\"/cellar/users/ramarty/Projects/hla_ii/bin/imports.ipynb\")"
   ]
  },
  {
   "cell_type": "markdown",
   "metadata": {},
   "source": [
    "Run on cluster"
   ]
  },
  {
   "cell_type": "code",
   "execution_count": 3,
   "metadata": {
    "collapsed": true
   },
   "outputs": [],
   "source": [
    "def create_cluster_script(inputs, iterations):\n",
    "    \n",
    "    new_script_file = '/cellar/users/ramarty/Projects/hla_ii/data_analysis/patient_selection/confidence_intervals.sh'\n",
    "    \n",
    "    with open(new_script_file, 'w') as out_file:\n",
    "        out_file.write(\"#! /bin/csh\\n\")\n",
    "        out_file.write(\"#$ -V\\n\")\n",
    "        out_file.write(\"#$ -S /bin/csh\\n\")\n",
    "        out_file.write(\"#$ -o /cellar/users/ramarty/Data/hla_ii/sge-system_files\\n\")\n",
    "        out_file.write(\"#$ -e /cellar/users/ramarty/Data/hla_ii/sge-system_files\\n\")\n",
    "        out_file.write(\"#$ -cwd\\n\")\n",
    "        out_file.write(\"#$ -t 1-{0}\\n\".format(len(inputs)))\n",
    "        out_file.write(\"#$ -l h_vmem=30G\\n\")\n",
    "        out_file.write(\"#$ -tc 50\\n\")\n",
    "        out_file.write(\"#$ -l long\")\n",
    "        out_file.write(\"\\n\")\n",
    "\n",
    "        out_file.write(\"set inputs=({0})\\n\".format(\" \".join(inputs)))\n",
    "        out_file.write(\"set iterations=({0})\\n\".format(\" \".join(iterations)))\n",
    "        out_file.write(\"\\n\")\n",
    "\n",
    "        out_file.write(\"set input=$inputs[$SGE_TASK_ID]\\n\")\n",
    "        out_file.write(\"set iteration=$iterations[$SGE_TASK_ID]\\n\")\n",
    "        out_file.write(\"\\n\")\n",
    "        \n",
    "        out_file.write(\"date\\n\")\n",
    "        out_file.write(\"hostname\\n\")\n",
    "        out_file.write(\"\\n\")\n",
    "  \n",
    "        out_file.write(\"echo $input $iteration\\n\")\n",
    "        out_file.write(\"\\n\")\n",
    "\n",
    "        out_file.write(\"Rscript --vanilla /cellar/users/ramarty/Projects/hla_ii/data_analysis/patient_selection/prediction_with_confidence_intervals/confidence_intervals.R $input $iteration\\n\")\n",
    "        out_file.write(\"\\n\")\n",
    "                       \n",
    "        out_file.write(\"date\\n\")"
   ]
  },
  {
   "cell_type": "code",
   "execution_count": 4,
   "metadata": {
    "collapsed": false
   },
   "outputs": [],
   "source": [
    "iterations = [str(x) for x in range(1, 1001)*3]\n",
    "inputs = ['mhc_i' for i in range(1000)] + ['mhc_ii' for i in range(1000)] + ['both_classes' for i in range(1000)]"
   ]
  },
  {
   "cell_type": "code",
   "execution_count": 5,
   "metadata": {
    "collapsed": false
   },
   "outputs": [],
   "source": [
    "create_cluster_script(inputs, iterations)"
   ]
  },
  {
   "cell_type": "markdown",
   "metadata": {},
   "source": [
    "Analyze output"
   ]
  },
  {
   "cell_type": "code",
   "execution_count": null,
   "metadata": {
    "collapsed": true
   },
   "outputs": [],
   "source": [
    "modelI, modelII, modelboth = [2, 2, 2]\n",
    "threshold = 2\n",
    "df = pd.read_csv('/cellar/users/ramarty/Data/hla_ii/generated_data/predictions.mhc_i.model_{0}.{1}.10.data.txt'.format(modelI, \n",
    "                                                                                                                       threshold),\n",
    "                 sep=' ').dropna()\n",
    "precision_I, recall_I, thresholds = precision_recall_curve(df.label, df.predicted_prob, pos_label=1)\n",
    "fpr_I, tpr_I, thresholds = metrics.roc_curve(df.label, df.predicted_prob, pos_label=1)\n",
    "score_I = metrics.roc_auc_score(df.label, df.predicted_prob)\n",
    "df = pd.read_csv('/cellar/users/ramarty/Data/hla_ii/generated_data/predictions.mhc_ii.model_{0}.{1}.10.data.txt'.format(modelII, \n",
    "                                                                                                                        threshold), \n",
    "                 sep=' ').dropna()\n",
    "precision_II, recall_II, thresholds = precision_recall_curve(df.label, df.predicted_prob, pos_label=1)\n",
    "fpr_II, tpr_II, thresholds = metrics.roc_curve(df.label, df.predicted_prob, pos_label=1)\n",
    "score_II = metrics.roc_auc_score(df.label, df.predicted_prob)\n",
    "df = pd.read_csv('/cellar/users/ramarty/Data/hla_ii/generated_data/predictions.both_classes.model_{0}.{1}.10.data.txt'.format(modelboth,\n",
    "                                                                                                                              threshold),\n",
    "                 sep=' ').dropna()\n",
    "precision_both, recall_both, thresholds = precision_recall_curve(df.label, df.predicted_prob, pos_label=1)\n",
    "fpr_both, tpr_both, thresholds = metrics.roc_curve(df.label, df.predicted_prob, pos_label=1)\n",
    "score_both = metrics.roc_auc_score(df.label, df.predicted_prob)\n",
    "sns.set_style(\"white\")\n",
    "plt.plot([0,1], [0, 1], c='k', label='Random')\n",
    "plt.plot(fpr_II, tpr_II, c='g', label='MHC-II: {0}'.format(round(score_II, 2)))\n",
    "plt.plot(fpr_I, tpr_I, c='b', label='MHC-I: {0}'.format(round(score_I, 2)))\n",
    "plt.plot(fpr_both, tpr_both, c='r', label='MHC-II/MHC-I: {0}'.format(round(score_both, 2)))\n",
    "plt.legend(loc=2, prop={'size': 6})\n",
    "plt.xlabel('FPR')\n",
    "plt.ylabel('TPR')\n",
    "plt.tight_layout()\n"
   ]
  },
  {
   "cell_type": "code",
   "execution_count": 25,
   "metadata": {
    "collapsed": false
   },
   "outputs": [
    {
     "name": "stdout",
     "output_type": "stream",
     "text": [
      "10\n",
      "20\n",
      "30\n",
      "40\n",
      "50\n",
      "60\n",
      "70\n",
      "80\n",
      "90\n",
      "100\n",
      "10\n",
      "20\n",
      "30\n",
      "40\n",
      "50\n",
      "60\n",
      "70\n",
      "80\n",
      "90\n",
      "100\n",
      "10\n",
      "20\n",
      "30\n",
      "40\n",
      "50\n",
      "60\n",
      "70\n",
      "80\n",
      "90\n",
      "100\n"
     ]
    }
   ],
   "source": [
    "scores, models, precisions = [], [], []\n",
    "for model in ['mhc_i', 'mhc_ii', 'both_classes']:\n",
    "    for iteration in range(1, 101):\n",
    "        if iteration % 10 == 0:\n",
    "            print iteration\n",
    "        df = pd.read_csv('/cellar/users/ramarty/Data/hla_ii/generated_data/predictions/confidence_intervals/{0}/iteration_{1}.data.txt'.format(model, \n",
    "                                                                                                                        iteration),\n",
    "                         sep=' ').dropna()\n",
    "        score = metrics.roc_auc_score(df.label, df.predicted_prob)\n",
    "        precision, recall, thresholds = metrics.precision_recall_curve(df.label, df.predicted_prob)\n",
    "        scores.append(score)\n",
    "        models.append(model)\n",
    "        precisions.append(np.mean(precision))"
   ]
  },
  {
   "cell_type": "code",
   "execution_count": 26,
   "metadata": {
    "collapsed": true
   },
   "outputs": [],
   "source": [
    "results = pd.DataFrame({'Model': models,\n",
    "                        'AUCs': scores,\n",
    "                        'Precision': precisions})"
   ]
  },
  {
   "cell_type": "code",
   "execution_count": 27,
   "metadata": {
    "collapsed": false
   },
   "outputs": [
    {
     "data": {
      "text/html": [
       "<div>\n",
       "<table border=\"1\" class=\"dataframe\">\n",
       "  <thead>\n",
       "    <tr style=\"text-align: right;\">\n",
       "      <th></th>\n",
       "      <th></th>\n",
       "      <th>AUCs</th>\n",
       "      <th>Precision</th>\n",
       "    </tr>\n",
       "    <tr>\n",
       "      <th>Model</th>\n",
       "      <th></th>\n",
       "      <th></th>\n",
       "      <th></th>\n",
       "    </tr>\n",
       "  </thead>\n",
       "  <tbody>\n",
       "    <tr>\n",
       "      <th rowspan=\"8\" valign=\"top\">both_classes</th>\n",
       "      <th>count</th>\n",
       "      <td>100.000000</td>\n",
       "      <td>100.000000</td>\n",
       "    </tr>\n",
       "    <tr>\n",
       "      <th>mean</th>\n",
       "      <td>0.618140</td>\n",
       "      <td>0.001906</td>\n",
       "    </tr>\n",
       "    <tr>\n",
       "      <th>std</th>\n",
       "      <td>0.011572</td>\n",
       "      <td>0.000100</td>\n",
       "    </tr>\n",
       "    <tr>\n",
       "      <th>min</th>\n",
       "      <td>0.593149</td>\n",
       "      <td>0.001674</td>\n",
       "    </tr>\n",
       "    <tr>\n",
       "      <th>25%</th>\n",
       "      <td>0.611022</td>\n",
       "      <td>0.001835</td>\n",
       "    </tr>\n",
       "    <tr>\n",
       "      <th>50%</th>\n",
       "      <td>0.619291</td>\n",
       "      <td>0.001905</td>\n",
       "    </tr>\n",
       "    <tr>\n",
       "      <th>75%</th>\n",
       "      <td>0.624824</td>\n",
       "      <td>0.001980</td>\n",
       "    </tr>\n",
       "    <tr>\n",
       "      <th>max</th>\n",
       "      <td>0.654485</td>\n",
       "      <td>0.002195</td>\n",
       "    </tr>\n",
       "    <tr>\n",
       "      <th rowspan=\"8\" valign=\"top\">mhc_i</th>\n",
       "      <th>count</th>\n",
       "      <td>100.000000</td>\n",
       "      <td>100.000000</td>\n",
       "    </tr>\n",
       "    <tr>\n",
       "      <th>mean</th>\n",
       "      <td>0.620391</td>\n",
       "      <td>0.001943</td>\n",
       "    </tr>\n",
       "    <tr>\n",
       "      <th>std</th>\n",
       "      <td>0.009916</td>\n",
       "      <td>0.000095</td>\n",
       "    </tr>\n",
       "    <tr>\n",
       "      <th>min</th>\n",
       "      <td>0.591162</td>\n",
       "      <td>0.001721</td>\n",
       "    </tr>\n",
       "    <tr>\n",
       "      <th>25%</th>\n",
       "      <td>0.614293</td>\n",
       "      <td>0.001883</td>\n",
       "    </tr>\n",
       "    <tr>\n",
       "      <th>50%</th>\n",
       "      <td>0.621563</td>\n",
       "      <td>0.001942</td>\n",
       "    </tr>\n",
       "    <tr>\n",
       "      <th>75%</th>\n",
       "      <td>0.627265</td>\n",
       "      <td>0.001997</td>\n",
       "    </tr>\n",
       "    <tr>\n",
       "      <th>max</th>\n",
       "      <td>0.648640</td>\n",
       "      <td>0.002235</td>\n",
       "    </tr>\n",
       "    <tr>\n",
       "      <th rowspan=\"8\" valign=\"top\">mhc_ii</th>\n",
       "      <th>count</th>\n",
       "      <td>100.000000</td>\n",
       "      <td>100.000000</td>\n",
       "    </tr>\n",
       "    <tr>\n",
       "      <th>mean</th>\n",
       "      <td>0.616523</td>\n",
       "      <td>0.001917</td>\n",
       "    </tr>\n",
       "    <tr>\n",
       "      <th>std</th>\n",
       "      <td>0.011536</td>\n",
       "      <td>0.000093</td>\n",
       "    </tr>\n",
       "    <tr>\n",
       "      <th>min</th>\n",
       "      <td>0.589995</td>\n",
       "      <td>0.001717</td>\n",
       "    </tr>\n",
       "    <tr>\n",
       "      <th>25%</th>\n",
       "      <td>0.609137</td>\n",
       "      <td>0.001856</td>\n",
       "    </tr>\n",
       "    <tr>\n",
       "      <th>50%</th>\n",
       "      <td>0.616362</td>\n",
       "      <td>0.001906</td>\n",
       "    </tr>\n",
       "    <tr>\n",
       "      <th>75%</th>\n",
       "      <td>0.624695</td>\n",
       "      <td>0.001967</td>\n",
       "    </tr>\n",
       "    <tr>\n",
       "      <th>max</th>\n",
       "      <td>0.652786</td>\n",
       "      <td>0.002236</td>\n",
       "    </tr>\n",
       "  </tbody>\n",
       "</table>\n",
       "</div>"
      ],
      "text/plain": [
       "                          AUCs   Precision\n",
       "Model                                     \n",
       "both_classes count  100.000000  100.000000\n",
       "             mean     0.618140    0.001906\n",
       "             std      0.011572    0.000100\n",
       "             min      0.593149    0.001674\n",
       "             25%      0.611022    0.001835\n",
       "             50%      0.619291    0.001905\n",
       "             75%      0.624824    0.001980\n",
       "             max      0.654485    0.002195\n",
       "mhc_i        count  100.000000  100.000000\n",
       "             mean     0.620391    0.001943\n",
       "             std      0.009916    0.000095\n",
       "             min      0.591162    0.001721\n",
       "             25%      0.614293    0.001883\n",
       "             50%      0.621563    0.001942\n",
       "             75%      0.627265    0.001997\n",
       "             max      0.648640    0.002235\n",
       "mhc_ii       count  100.000000  100.000000\n",
       "             mean     0.616523    0.001917\n",
       "             std      0.011536    0.000093\n",
       "             min      0.589995    0.001717\n",
       "             25%      0.609137    0.001856\n",
       "             50%      0.616362    0.001906\n",
       "             75%      0.624695    0.001967\n",
       "             max      0.652786    0.002236"
      ]
     },
     "execution_count": 27,
     "metadata": {},
     "output_type": "execute_result"
    }
   ],
   "source": [
    "results.groupby('Model').describe()"
   ]
  },
  {
   "cell_type": "code",
   "execution_count": 20,
   "metadata": {
    "collapsed": true
   },
   "outputs": [],
   "source": [
    "precision, recall, thresholds = metrics.precision_recall_curve(df.label, df.predicted_prob)"
   ]
  },
  {
   "cell_type": "code",
   "execution_count": 24,
   "metadata": {
    "collapsed": false
   },
   "outputs": [
    {
     "data": {
      "text/plain": [
       "0.0016367286016816004"
      ]
     },
     "execution_count": 24,
     "metadata": {},
     "output_type": "execute_result"
    }
   ],
   "source": [
    "np.median(precision)"
   ]
  },
  {
   "cell_type": "code",
   "execution_count": null,
   "metadata": {
    "collapsed": true
   },
   "outputs": [],
   "source": []
  },
  {
   "cell_type": "code",
   "execution_count": null,
   "metadata": {
    "collapsed": true
   },
   "outputs": [],
   "source": []
  },
  {
   "cell_type": "markdown",
   "metadata": {},
   "source": [
    "Experimental"
   ]
  },
  {
   "cell_type": "code",
   "execution_count": null,
   "metadata": {
    "collapsed": true
   },
   "outputs": [],
   "source": [
    "# example from previous\n",
    "sns.set_style(\"white\")\n",
    "fig = plt.figure(figsize=(3, 2.5))\n",
    "\n",
    "modelI, modelII, modelboth = [2, 2, 2]\n",
    "threshold = 2\n",
    "df = pd.read_csv('/cellar/users/ramarty/Data/hla_ii/generated_data/predictions.mhc_i.model_{0}.{1}.10.data.txt'.format(modelI, \n",
    "                                                                                                                       threshold),\n",
    "                 sep=' ').dropna()\n",
    "precision_I, recall_I, thresholds = precision_recall_curve(df.label, df.predicted_prob, pos_label=1)\n",
    "fpr_I, tpr_I, thresholds = metrics.roc_curve(df.label, df.predicted_prob, pos_label=1)\n",
    "score_I = metrics.roc_auc_score(df.label, df.predicted_prob)\n",
    "df = pd.read_csv('/cellar/users/ramarty/Data/hla_ii/generated_data/predictions.mhc_ii.model_{0}.{1}.10.data.txt'.format(modelII, \n",
    "                                                                                                                        threshold), \n",
    "                 sep=' ').dropna()\n",
    "precision_II, recall_II, thresholds = precision_recall_curve(df.label, df.predicted_prob, pos_label=1)\n",
    "fpr_II, tpr_II, thresholds = metrics.roc_curve(df.label, df.predicted_prob, pos_label=1)\n",
    "score_II = metrics.roc_auc_score(df.label, df.predicted_prob)\n",
    "df = pd.read_csv('/cellar/users/ramarty/Data/hla_ii/generated_data/predictions.both_classes.model_{0}.{1}.10.data.txt'.format(modelboth,\n",
    "                                                                                                                              threshold),\n",
    "                 sep=' ').dropna()\n",
    "precision_both, recall_both, thresholds = precision_recall_curve(df.label, df.predicted_prob, pos_label=1)\n",
    "fpr_both, tpr_both, thresholds = metrics.roc_curve(df.label, df.predicted_prob, pos_label=1)\n",
    "score_both = metrics.roc_auc_score(df.label, df.predicted_prob)\n",
    "sns.set_style(\"white\")\n",
    "plt.plot([0,1], [0, 1], c='k', label='Random')\n",
    "plt.plot(fpr_II, tpr_II, c='g', label='MHC-II: {0}'.format(round(score_II, 2)))\n",
    "plt.plot(fpr_I, tpr_I, c='b', label='MHC-I: {0}'.format(round(score_I, 2)))\n",
    "plt.plot(fpr_both, tpr_both, c='r', label='MHC-II/MHC-I: {0}'.format(round(score_both, 2)))\n",
    "plt.legend(loc=2, prop={'size': 6})\n",
    "plt.xlabel('FPR')\n",
    "plt.ylabel('TPR')\n",
    "plt.tight_layout()\n",
    "#plt.savefig('/cellar/users/ramarty/Data/hla_ii/generated_figures/predictions/Pan_AUC.pdf')"
   ]
  },
  {
   "cell_type": "markdown",
   "metadata": {},
   "source": [
    "Trying to add confidence intervals"
   ]
  },
  {
   "cell_type": "code",
   "execution_count": 4,
   "metadata": {
    "collapsed": true
   },
   "outputs": [],
   "source": [
    "modelI, modelII, modelboth = [2, 2, 2]\n",
    "threshold = 2"
   ]
  },
  {
   "cell_type": "code",
   "execution_count": 6,
   "metadata": {
    "collapsed": false,
    "scrolled": true
   },
   "outputs": [
    {
     "name": "stderr",
     "output_type": "stream",
     "text": [
      "/cellar/users/ramarty/anaconda/lib/python2.7/site-packages/IPython/core/interactiveshell.py:2868: DtypeWarning: Columns (0) have mixed types. Specify dtype option on import or set low_memory=False.\n",
      "  interactivity=interactivity, compiler=compiler, result=result)\n"
     ]
    }
   ],
   "source": [
    "df = pd.read_csv('/cellar/users/ramarty/Data/hla_ii/generated_data/predictions/predictions.mhc_i.model_{0}.{1}.10.data.txt'.format(modelI, \n",
    "                                                                                                                       threshold),\n",
    "                 sep=' ').dropna()"
   ]
  },
  {
   "cell_type": "code",
   "execution_count": 7,
   "metadata": {
    "collapsed": false
   },
   "outputs": [
    {
     "data": {
      "text/html": [
       "<div>\n",
       "<table border=\"1\" class=\"dataframe\">\n",
       "  <thead>\n",
       "    <tr style=\"text-align: right;\">\n",
       "      <th></th>\n",
       "      <th>label</th>\n",
       "      <th>predicted</th>\n",
       "      <th>predicted_prob</th>\n",
       "      <th>label_fact</th>\n",
       "    </tr>\n",
       "  </thead>\n",
       "  <tbody>\n",
       "    <tr>\n",
       "      <th>2280107</th>\n",
       "      <td>0.0</td>\n",
       "      <td>-6.469952</td>\n",
       "      <td>0.001549</td>\n",
       "      <td>0.0</td>\n",
       "    </tr>\n",
       "    <tr>\n",
       "      <th>4465664</th>\n",
       "      <td>0.0</td>\n",
       "      <td>-7.062235</td>\n",
       "      <td>0.000857</td>\n",
       "      <td>0.0</td>\n",
       "    </tr>\n",
       "    <tr>\n",
       "      <th>63674</th>\n",
       "      <td>0.0</td>\n",
       "      <td>-6.884375</td>\n",
       "      <td>0.001024</td>\n",
       "      <td>0.0</td>\n",
       "    </tr>\n",
       "    <tr>\n",
       "      <th>988334</th>\n",
       "      <td>0.0</td>\n",
       "      <td>-6.458738</td>\n",
       "      <td>0.001567</td>\n",
       "      <td>0.0</td>\n",
       "    </tr>\n",
       "    <tr>\n",
       "      <th>1042901</th>\n",
       "      <td>0.0</td>\n",
       "      <td>-6.479807</td>\n",
       "      <td>0.001534</td>\n",
       "      <td>0.0</td>\n",
       "    </tr>\n",
       "  </tbody>\n",
       "</table>\n",
       "</div>"
      ],
      "text/plain": [
       "         label  predicted  predicted_prob  label_fact\n",
       "2280107    0.0  -6.469952        0.001549         0.0\n",
       "4465664    0.0  -7.062235        0.000857         0.0\n",
       "63674      0.0  -6.884375        0.001024         0.0\n",
       "988334     0.0  -6.458738        0.001567         0.0\n",
       "1042901    0.0  -6.479807        0.001534         0.0"
      ]
     },
     "execution_count": 7,
     "metadata": {},
     "output_type": "execute_result"
    }
   ],
   "source": [
    "df.head()"
   ]
  },
  {
   "cell_type": "code",
   "execution_count": 8,
   "metadata": {
    "collapsed": false,
    "scrolled": true
   },
   "outputs": [
    {
     "data": {
      "text/plain": [
       "4697355"
      ]
     },
     "execution_count": 8,
     "metadata": {},
     "output_type": "execute_result"
    }
   ],
   "source": [
    "len(df)"
   ]
  },
  {
   "cell_type": "code",
   "execution_count": 17,
   "metadata": {
    "collapsed": false
   },
   "outputs": [
    {
     "name": "stdout",
     "output_type": "stream",
     "text": [
      "0\n",
      "10\n",
      "20\n",
      "30\n",
      "40\n",
      "50\n",
      "60\n",
      "70\n",
      "80\n",
      "90\n"
     ]
    }
   ],
   "source": [
    "all_scores = []\n",
    "for i in range(100):\n",
    "    if i % 10 == 0:\n",
    "        print i\n",
    "    df_boot = df.sample(frac=1, replace=True)\n",
    "    score_I = metrics.roc_auc_score(df_boot.label, df_boot.predicted_prob)\n",
    "    all_scores.append(score_I)"
   ]
  },
  {
   "cell_type": "code",
   "execution_count": 23,
   "metadata": {
    "collapsed": false
   },
   "outputs": [
    {
     "name": "stdout",
     "output_type": "stream",
     "text": [
      "0.570587088317\n",
      "0.584019256625\n"
     ]
    }
   ],
   "source": [
    "print pd.Series(all_scores).quantile(0.025)\n",
    "print pd.Series(all_scores).quantile(0.975)"
   ]
  },
  {
   "cell_type": "code",
   "execution_count": 24,
   "metadata": {
    "collapsed": false
   },
   "outputs": [
    {
     "name": "stdout",
     "output_type": "stream",
     "text": [
      "0\n",
      "10\n",
      "20\n",
      "30\n",
      "40\n",
      "50\n",
      "60\n",
      "70\n",
      "80\n",
      "90\n"
     ]
    }
   ],
   "source": [
    "df = pd.read_csv('/cellar/users/ramarty/Data/hla_ii/generated_data/predictions/predictions.mhc_ii.model_{0}.{1}.10.data.txt'.format(modelI, \n",
    "                                                                                                                       threshold),\n",
    "                 sep=' ').dropna()\n",
    "all_scoresII = []\n",
    "for i in range(100):\n",
    "    if i % 10 == 0:\n",
    "        print i\n",
    "    df_boot = df.sample(frac=1, replace=True)\n",
    "    score_I = metrics.roc_auc_score(df_boot.label, df_boot.predicted_prob)\n",
    "    all_scoresII.append(score_I)"
   ]
  },
  {
   "cell_type": "code",
   "execution_count": 25,
   "metadata": {
    "collapsed": false
   },
   "outputs": [
    {
     "name": "stdout",
     "output_type": "stream",
     "text": [
      "0.592599518945\n",
      "0.605893406638\n"
     ]
    }
   ],
   "source": [
    "print pd.Series(all_scoresII).quantile(0.025)\n",
    "print pd.Series(all_scoresII).quantile(0.975)"
   ]
  },
  {
   "cell_type": "code",
   "execution_count": 26,
   "metadata": {
    "collapsed": false
   },
   "outputs": [
    {
     "name": "stdout",
     "output_type": "stream",
     "text": [
      "0\n",
      "10\n",
      "20\n",
      "30\n",
      "40\n",
      "50\n",
      "60\n",
      "70\n",
      "80\n",
      "90\n"
     ]
    }
   ],
   "source": [
    "df = pd.read_csv('/cellar/users/ramarty/Data/hla_ii/generated_data/predictions/predictions.both_classes.model_{0}.{1}.10.data.txt'.format(modelI, \n",
    "                                                                                                                       threshold),\n",
    "                 sep=' ').dropna()\n",
    "all_scores_both = []\n",
    "for i in range(100):\n",
    "    if i % 10 == 0:\n",
    "        print i\n",
    "    df_boot = df.sample(frac=1, replace=True)\n",
    "    score_I = metrics.roc_auc_score(df_boot.label, df_boot.predicted_prob)\n",
    "    all_scores_both.append(score_I)"
   ]
  },
  {
   "cell_type": "code",
   "execution_count": 27,
   "metadata": {
    "collapsed": false
   },
   "outputs": [
    {
     "name": "stdout",
     "output_type": "stream",
     "text": [
      "0.609456616844\n",
      "0.622601954002\n"
     ]
    }
   ],
   "source": [
    "print pd.Series(all_scores_both).quantile(0.025)\n",
    "print pd.Series(all_scores_both).quantile(0.975)"
   ]
  },
  {
   "cell_type": "code",
   "execution_count": null,
   "metadata": {
    "collapsed": true
   },
   "outputs": [],
   "source": []
  }
 ],
 "metadata": {
  "kernelspec": {
   "display_name": "Python 2",
   "language": "python",
   "name": "python2"
  },
  "language_info": {
   "codemirror_mode": {
    "name": "ipython",
    "version": 2
   },
   "file_extension": ".py",
   "mimetype": "text/x-python",
   "name": "python",
   "nbconvert_exporter": "python",
   "pygments_lexer": "ipython2",
   "version": "2.7.14"
  }
 },
 "nbformat": 4,
 "nbformat_minor": 0
}
