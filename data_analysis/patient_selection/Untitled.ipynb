{
 "cells": [
  {
   "cell_type": "code",
   "execution_count": 1,
   "metadata": {
    "collapsed": true
   },
   "outputs": [],
   "source": [
    "import pandas as pd"
   ]
  },
  {
   "cell_type": "code",
   "execution_count": 2,
   "metadata": {
    "collapsed": true
   },
   "outputs": [],
   "source": [
    "tissues = pd.read_csv('../../../clean_matrices/patient_tissues.csv', index_col=0)"
   ]
  },
  {
   "cell_type": "code",
   "execution_count": 3,
   "metadata": {
    "collapsed": true
   },
   "outputs": [],
   "source": [
    "patient_affinities = pd.read_csv('../../../clean_matrices/patient_affinities.cancer.csv', index_col=0)"
   ]
  },
  {
   "cell_type": "code",
   "execution_count": 5,
   "metadata": {
    "collapsed": false
   },
   "outputs": [],
   "source": [
    "patients = list(patient_affinities.index)"
   ]
  },
  {
   "cell_type": "code",
   "execution_count": 8,
   "metadata": {
    "collapsed": false
   },
   "outputs": [
    {
     "data": {
      "text/plain": [
       "HNSC    118\n",
       "LUAD    116\n",
       "PRAD    113\n",
       "LUSC    106\n",
       "LGG      99\n",
       "BRCA     97\n",
       "GBM      95\n",
       "STAD     91\n",
       "THCA     86\n",
       "SKCM     86\n",
       "COAD     72\n",
       "LIHC     71\n",
       "BLCA     70\n",
       "KIRC     62\n",
       "OV       53\n",
       "KIRP     47\n",
       "PCPG     39\n",
       "PAAD     34\n",
       "UCEC     30\n",
       "MESO     28\n",
       "READ     25\n",
       "LAML     24\n",
       "TGCT     22\n",
       "UVM      20\n",
       "ACC      20\n",
       "KICH     11\n",
       "CESC     10\n",
       "UCS      10\n",
       "DLBC      5\n",
       "Name: Tissue, dtype: int64"
      ]
     },
     "execution_count": 8,
     "metadata": {},
     "output_type": "execute_result"
    }
   ],
   "source": [
    "tissues.ix[patients].Tissue.value_counts()"
   ]
  },
  {
   "cell_type": "code",
   "execution_count": null,
   "metadata": {
    "collapsed": true
   },
   "outputs": [],
   "source": []
  }
 ],
 "metadata": {
  "kernelspec": {
   "display_name": "Python [conda root]",
   "language": "python",
   "name": "conda-root-py"
  },
  "language_info": {
   "codemirror_mode": {
    "name": "ipython",
    "version": 2
   },
   "file_extension": ".py",
   "mimetype": "text/x-python",
   "name": "python",
   "nbconvert_exporter": "python",
   "pygments_lexer": "ipython2",
   "version": "2.7.12"
  }
 },
 "nbformat": 4,
 "nbformat_minor": 1
}
