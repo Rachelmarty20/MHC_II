{
 "cells": [
  {
   "cell_type": "code",
   "execution_count": 4,
   "metadata": {
    "collapsed": false,
    "scrolled": true
   },
   "outputs": [
    {
     "name": "stdout",
     "output_type": "stream",
     "text": [
      "Populating the interactive namespace from numpy and matplotlib\n"
     ]
    }
   ],
   "source": [
    "import io\n",
    "from IPython.nbformat import current\n",
    "def execute_notebook(nbfile):\n",
    "    with io.open(nbfile) as f:\n",
    "        nb = current.read(f, 'json')\n",
    "    ip = get_ipython()\n",
    "    for cell in nb.worksheets[0].cells:\n",
    "        if cell.cell_type != 'code':\n",
    "            continue\n",
    "        ip.run_cell(cell.input)\n",
    "execute_notebook(\"../../bin/imports.ipynb\")"
   ]
  },
  {
   "cell_type": "markdown",
   "metadata": {},
   "source": [
    "### Set up analysis"
   ]
  },
  {
   "cell_type": "markdown",
   "metadata": {},
   "source": [
    "Make data frames (affinities, mutations, tissuse)"
   ]
  },
  {
   "cell_type": "code",
   "execution_count": 5,
   "metadata": {
    "collapsed": true
   },
   "outputs": [],
   "source": [
    "patient_affinitiesI = pd.read_csv('/cellar/users/ramarty/Data/hla_ii/presentation/clean_matrices/combined_classes/patient_affinities.class_i.csv',\n",
    "                                 index_col=0)\n",
    "patient_mutationsI = pd.read_csv('/cellar/users/ramarty/Data/hla_ii/presentation/clean_matrices/combined_classes/patient_mutations.csv',\n",
    "                                 index_col=0)"
   ]
  },
  {
   "cell_type": "code",
   "execution_count": 30,
   "metadata": {
    "collapsed": false
   },
   "outputs": [],
   "source": [
    "universal = list(patient_affinitiesI.min()[patient_affinitiesI.min() > 1].index)"
   ]
  },
  {
   "cell_type": "code",
   "execution_count": 17,
   "metadata": {
    "collapsed": false
   },
   "outputs": [],
   "source": [
    "universal_median = list(patient_affinitiesI.median()[patient_affinitiesI.median() > 5].index)"
   ]
  },
  {
   "cell_type": "code",
   "execution_count": 32,
   "metadata": {
    "collapsed": false
   },
   "outputs": [
    {
     "name": "stdout",
     "output_type": "stream",
     "text": [
      "118 157\n",
      "88\n"
     ]
    }
   ],
   "source": [
    "print len(universal), len(universal_median)\n",
    "print len([x for x in universal if x in universal_median])"
   ]
  },
  {
   "cell_type": "code",
   "execution_count": 29,
   "metadata": {
    "collapsed": false,
    "scrolled": true
   },
   "outputs": [
    {
     "data": {
      "text/plain": [
       "EGFR_ifd_55174772       47.852697\n",
       "NOTCH1_ifd_136518618    56.902227\n",
       "PIK3R1_ifd_68293795     51.256718\n",
       "PIK3R1_ifd_68293758     47.618755\n",
       "TP53_ifd_7675066        61.084634\n",
       "BRAF_V600E              37.937580\n",
       "KRAS_G12D               17.630693\n",
       "IDH1_R132C              37.017827\n",
       "PIK3CA_Q546R            23.622226\n",
       "KRAS_A146T              25.412118\n",
       "NFE2L2_R34G             11.272805\n",
       "PIK3CA_R108H            26.165541\n",
       "GNAS_R201C              23.641063\n",
       "GNAS_R201H              20.247709\n",
       "PIK3CA_Q546K            24.133188\n",
       "NRAS_G12D               17.630693\n",
       "ERBB2_L755S             12.834235\n",
       "FGFR2_N549K              8.920664\n",
       "PIK3CA_Q546P            24.521025\n",
       "CHD4_R1338I             48.265769\n",
       "EGFR_R222C              48.800473\n",
       "PIK3CA_E545G            27.156291\n",
       "PIK3CA_K111N            21.091266\n",
       "DKK2_R230H              47.446602\n",
       "NFE2L2_R34Q              7.482343\n",
       "NFE2L2_R34P             10.665263\n",
       "SF3B1_E902K             15.602794\n",
       "INTS7_R940C             34.088574\n",
       "HRAS_K117N              36.847432\n",
       "KRAS_K117N              56.773967\n",
       "                          ...    \n",
       "TP53_D281N              66.269496\n",
       "ZC3H13_R453Q            94.998208\n",
       "USP28_R141C             85.777175\n",
       "SETD2_R1335C            74.916161\n",
       "TP53_V274D              65.660561\n",
       "NOTCH2_R1726C           51.383504\n",
       "KANSL1_R1066H           75.004141\n",
       "SETD2_H1629Y            58.683812\n",
       "SETD2_R1625C            72.757348\n",
       "MLLT4_S1510N            56.445277\n",
       "CHD8_N2372H             38.870858\n",
       "LARP4B_E486K            52.524249\n",
       "NCOR1_R330W             79.714997\n",
       "SMARCB1_R374W           17.446788\n",
       "TP53_A276D              59.973158\n",
       "CREBBP_W1472C           37.561525\n",
       "APC_S1696N              70.668236\n",
       "TP53_R280S              70.690050\n",
       "APC_G1767C              75.732834\n",
       "THRAP3_R723H            53.543789\n",
       "COL4A2_P123Q            78.936481\n",
       "ATM_R23Q                32.654400\n",
       "ELF3_E262Q              41.197139\n",
       "TP53_C176S              50.575047\n",
       "CHD8_R578H              71.631849\n",
       "APC_S2601R              67.205148\n",
       "KMT2B_E324K             27.482300\n",
       "THRAP3_R504W            89.313014\n",
       "KMT2C_W430C             46.360119\n",
       "TCF12_R589H             46.460475\n",
       "dtype: float64"
      ]
     },
     "execution_count": 29,
     "metadata": {},
     "output_type": "execute_result"
    }
   ],
   "source": [
    "patient_affinitiesII[universal_median].mean()"
   ]
  },
  {
   "cell_type": "code",
   "execution_count": 33,
   "metadata": {
    "collapsed": false
   },
   "outputs": [
    {
     "data": {
      "text/html": [
       "<div>\n",
       "<table border=\"1\" class=\"dataframe\">\n",
       "  <thead>\n",
       "    <tr style=\"text-align: right;\">\n",
       "      <th></th>\n",
       "      <th>EGFR_ifd_55174772</th>\n",
       "      <th>NOTCH1_ifd_136518618</th>\n",
       "      <th>PIK3R1_ifd_68293795</th>\n",
       "      <th>PIK3R1_ifd_68293758</th>\n",
       "      <th>TP53_ifd_7675066</th>\n",
       "      <th>BRAF_V600E</th>\n",
       "      <th>KRAS_G12D</th>\n",
       "      <th>IDH1_R132C</th>\n",
       "      <th>PIK3CA_Q546R</th>\n",
       "      <th>KRAS_A146T</th>\n",
       "      <th>...</th>\n",
       "      <th>COL4A2_P123Q</th>\n",
       "      <th>ATM_R23Q</th>\n",
       "      <th>ELF3_E262Q</th>\n",
       "      <th>TP53_C176S</th>\n",
       "      <th>CHD8_R578H</th>\n",
       "      <th>APC_S2601R</th>\n",
       "      <th>KMT2B_E324K</th>\n",
       "      <th>THRAP3_R504W</th>\n",
       "      <th>KMT2C_W430C</th>\n",
       "      <th>TCF12_R589H</th>\n",
       "    </tr>\n",
       "  </thead>\n",
       "  <tbody>\n",
       "    <tr>\n",
       "      <th>TCGA-DH-A7UV</th>\n",
       "      <td>28.821415</td>\n",
       "      <td>46.202687</td>\n",
       "      <td>57.436539</td>\n",
       "      <td>38.566793</td>\n",
       "      <td>43.059937</td>\n",
       "      <td>27.049159</td>\n",
       "      <td>10.032599</td>\n",
       "      <td>31.829353</td>\n",
       "      <td>16.928642</td>\n",
       "      <td>19.944385</td>\n",
       "      <td>...</td>\n",
       "      <td>38.659669</td>\n",
       "      <td>24.151682</td>\n",
       "      <td>27.799228</td>\n",
       "      <td>45.091971</td>\n",
       "      <td>52.085106</td>\n",
       "      <td>48.441765</td>\n",
       "      <td>24.686469</td>\n",
       "      <td>75.759494</td>\n",
       "      <td>32.882562</td>\n",
       "      <td>52.459239</td>\n",
       "    </tr>\n",
       "    <tr>\n",
       "      <th>TCGA-DH-A7UT</th>\n",
       "      <td>39.531191</td>\n",
       "      <td>57.903340</td>\n",
       "      <td>52.756904</td>\n",
       "      <td>41.263955</td>\n",
       "      <td>59.712589</td>\n",
       "      <td>42.020244</td>\n",
       "      <td>16.678980</td>\n",
       "      <td>35.175929</td>\n",
       "      <td>19.114653</td>\n",
       "      <td>24.335388</td>\n",
       "      <td>...</td>\n",
       "      <td>85.248759</td>\n",
       "      <td>26.978071</td>\n",
       "      <td>41.109254</td>\n",
       "      <td>48.920050</td>\n",
       "      <td>74.155998</td>\n",
       "      <td>71.929766</td>\n",
       "      <td>30.911447</td>\n",
       "      <td>91.057165</td>\n",
       "      <td>58.341430</td>\n",
       "      <td>22.315583</td>\n",
       "    </tr>\n",
       "    <tr>\n",
       "      <th>TCGA-DH-A7UU</th>\n",
       "      <td>52.124140</td>\n",
       "      <td>68.136439</td>\n",
       "      <td>59.433962</td>\n",
       "      <td>52.101186</td>\n",
       "      <td>65.500945</td>\n",
       "      <td>46.293154</td>\n",
       "      <td>8.720764</td>\n",
       "      <td>30.307817</td>\n",
       "      <td>18.966565</td>\n",
       "      <td>35.862069</td>\n",
       "      <td>...</td>\n",
       "      <td>95.000000</td>\n",
       "      <td>36.263904</td>\n",
       "      <td>39.793305</td>\n",
       "      <td>51.877729</td>\n",
       "      <td>82.374194</td>\n",
       "      <td>69.484716</td>\n",
       "      <td>23.593043</td>\n",
       "      <td>93.272727</td>\n",
       "      <td>46.536235</td>\n",
       "      <td>64.826941</td>\n",
       "    </tr>\n",
       "    <tr>\n",
       "      <th>TCGA-DH-A7UR</th>\n",
       "      <td>52.010197</td>\n",
       "      <td>55.363392</td>\n",
       "      <td>55.965864</td>\n",
       "      <td>46.989507</td>\n",
       "      <td>58.518331</td>\n",
       "      <td>39.537715</td>\n",
       "      <td>15.625638</td>\n",
       "      <td>34.093667</td>\n",
       "      <td>24.441671</td>\n",
       "      <td>26.396874</td>\n",
       "      <td>...</td>\n",
       "      <td>61.114990</td>\n",
       "      <td>27.004667</td>\n",
       "      <td>34.575179</td>\n",
       "      <td>51.706896</td>\n",
       "      <td>69.733579</td>\n",
       "      <td>62.976902</td>\n",
       "      <td>23.029291</td>\n",
       "      <td>84.752187</td>\n",
       "      <td>47.423036</td>\n",
       "      <td>51.506694</td>\n",
       "    </tr>\n",
       "    <tr>\n",
       "      <th>TCGA-DH-A7US</th>\n",
       "      <td>52.185286</td>\n",
       "      <td>53.700057</td>\n",
       "      <td>52.326696</td>\n",
       "      <td>46.083023</td>\n",
       "      <td>69.785382</td>\n",
       "      <td>31.748599</td>\n",
       "      <td>14.389809</td>\n",
       "      <td>36.762196</td>\n",
       "      <td>25.999518</td>\n",
       "      <td>23.372204</td>\n",
       "      <td>...</td>\n",
       "      <td>77.207021</td>\n",
       "      <td>38.011792</td>\n",
       "      <td>44.244093</td>\n",
       "      <td>54.263729</td>\n",
       "      <td>82.917537</td>\n",
       "      <td>64.350593</td>\n",
       "      <td>30.747916</td>\n",
       "      <td>90.496141</td>\n",
       "      <td>36.175729</td>\n",
       "      <td>48.461538</td>\n",
       "    </tr>\n",
       "  </tbody>\n",
       "</table>\n",
       "<p>5 rows × 157 columns</p>\n",
       "</div>"
      ],
      "text/plain": [
       "              EGFR_ifd_55174772  NOTCH1_ifd_136518618  PIK3R1_ifd_68293795  \\\n",
       "TCGA-DH-A7UV          28.821415             46.202687            57.436539   \n",
       "TCGA-DH-A7UT          39.531191             57.903340            52.756904   \n",
       "TCGA-DH-A7UU          52.124140             68.136439            59.433962   \n",
       "TCGA-DH-A7UR          52.010197             55.363392            55.965864   \n",
       "TCGA-DH-A7US          52.185286             53.700057            52.326696   \n",
       "\n",
       "              PIK3R1_ifd_68293758  TP53_ifd_7675066  BRAF_V600E  KRAS_G12D  \\\n",
       "TCGA-DH-A7UV            38.566793         43.059937   27.049159  10.032599   \n",
       "TCGA-DH-A7UT            41.263955         59.712589   42.020244  16.678980   \n",
       "TCGA-DH-A7UU            52.101186         65.500945   46.293154   8.720764   \n",
       "TCGA-DH-A7UR            46.989507         58.518331   39.537715  15.625638   \n",
       "TCGA-DH-A7US            46.083023         69.785382   31.748599  14.389809   \n",
       "\n",
       "              IDH1_R132C  PIK3CA_Q546R  KRAS_A146T     ...       COL4A2_P123Q  \\\n",
       "TCGA-DH-A7UV   31.829353     16.928642   19.944385     ...          38.659669   \n",
       "TCGA-DH-A7UT   35.175929     19.114653   24.335388     ...          85.248759   \n",
       "TCGA-DH-A7UU   30.307817     18.966565   35.862069     ...          95.000000   \n",
       "TCGA-DH-A7UR   34.093667     24.441671   26.396874     ...          61.114990   \n",
       "TCGA-DH-A7US   36.762196     25.999518   23.372204     ...          77.207021   \n",
       "\n",
       "               ATM_R23Q  ELF3_E262Q  TP53_C176S  CHD8_R578H  APC_S2601R  \\\n",
       "TCGA-DH-A7UV  24.151682   27.799228   45.091971   52.085106   48.441765   \n",
       "TCGA-DH-A7UT  26.978071   41.109254   48.920050   74.155998   71.929766   \n",
       "TCGA-DH-A7UU  36.263904   39.793305   51.877729   82.374194   69.484716   \n",
       "TCGA-DH-A7UR  27.004667   34.575179   51.706896   69.733579   62.976902   \n",
       "TCGA-DH-A7US  38.011792   44.244093   54.263729   82.917537   64.350593   \n",
       "\n",
       "              KMT2B_E324K  THRAP3_R504W  KMT2C_W430C  TCF12_R589H  \n",
       "TCGA-DH-A7UV    24.686469     75.759494    32.882562    52.459239  \n",
       "TCGA-DH-A7UT    30.911447     91.057165    58.341430    22.315583  \n",
       "TCGA-DH-A7UU    23.593043     93.272727    46.536235    64.826941  \n",
       "TCGA-DH-A7UR    23.029291     84.752187    47.423036    51.506694  \n",
       "TCGA-DH-A7US    30.747916     90.496141    36.175729    48.461538  \n",
       "\n",
       "[5 rows x 157 columns]"
      ]
     },
     "execution_count": 33,
     "metadata": {},
     "output_type": "execute_result"
    }
   ],
   "source": [
    "patient_affinitiesII.ix[:, universal_median].head()"
   ]
  },
  {
   "cell_type": "code",
   "execution_count": 35,
   "metadata": {
    "collapsed": false
   },
   "outputs": [
    {
     "data": {
      "text/html": [
       "<div>\n",
       "<table border=\"1\" class=\"dataframe\">\n",
       "  <thead>\n",
       "    <tr style=\"text-align: right;\">\n",
       "      <th></th>\n",
       "      <th>EGFR_ifd_55174772</th>\n",
       "      <th>NOTCH1_ifd_136518618</th>\n",
       "      <th>PIK3R1_ifd_68293795</th>\n",
       "      <th>PIK3R1_ifd_68293758</th>\n",
       "      <th>TP53_ifd_7675066</th>\n",
       "      <th>BRAF_V600E</th>\n",
       "      <th>KRAS_G12D</th>\n",
       "      <th>IDH1_R132C</th>\n",
       "      <th>PIK3CA_Q546R</th>\n",
       "      <th>KRAS_A146T</th>\n",
       "      <th>...</th>\n",
       "      <th>COL4A2_P123Q</th>\n",
       "      <th>ATM_R23Q</th>\n",
       "      <th>ELF3_E262Q</th>\n",
       "      <th>TP53_C176S</th>\n",
       "      <th>CHD8_R578H</th>\n",
       "      <th>APC_S2601R</th>\n",
       "      <th>KMT2B_E324K</th>\n",
       "      <th>THRAP3_R504W</th>\n",
       "      <th>KMT2C_W430C</th>\n",
       "      <th>TCF12_R589H</th>\n",
       "    </tr>\n",
       "  </thead>\n",
       "  <tbody>\n",
       "    <tr>\n",
       "      <th>TCGA-DH-A7UV</th>\n",
       "      <td>0</td>\n",
       "      <td>0</td>\n",
       "      <td>0</td>\n",
       "      <td>0</td>\n",
       "      <td>0</td>\n",
       "      <td>0</td>\n",
       "      <td>0</td>\n",
       "      <td>0</td>\n",
       "      <td>0</td>\n",
       "      <td>0</td>\n",
       "      <td>...</td>\n",
       "      <td>0</td>\n",
       "      <td>0</td>\n",
       "      <td>0</td>\n",
       "      <td>0</td>\n",
       "      <td>0</td>\n",
       "      <td>0</td>\n",
       "      <td>0</td>\n",
       "      <td>0</td>\n",
       "      <td>0</td>\n",
       "      <td>0</td>\n",
       "    </tr>\n",
       "    <tr>\n",
       "      <th>TCGA-DH-A7UT</th>\n",
       "      <td>0</td>\n",
       "      <td>0</td>\n",
       "      <td>0</td>\n",
       "      <td>0</td>\n",
       "      <td>0</td>\n",
       "      <td>0</td>\n",
       "      <td>0</td>\n",
       "      <td>0</td>\n",
       "      <td>0</td>\n",
       "      <td>0</td>\n",
       "      <td>...</td>\n",
       "      <td>0</td>\n",
       "      <td>0</td>\n",
       "      <td>0</td>\n",
       "      <td>0</td>\n",
       "      <td>0</td>\n",
       "      <td>0</td>\n",
       "      <td>0</td>\n",
       "      <td>0</td>\n",
       "      <td>0</td>\n",
       "      <td>0</td>\n",
       "    </tr>\n",
       "    <tr>\n",
       "      <th>TCGA-DH-A7UU</th>\n",
       "      <td>0</td>\n",
       "      <td>0</td>\n",
       "      <td>0</td>\n",
       "      <td>0</td>\n",
       "      <td>0</td>\n",
       "      <td>0</td>\n",
       "      <td>0</td>\n",
       "      <td>0</td>\n",
       "      <td>0</td>\n",
       "      <td>0</td>\n",
       "      <td>...</td>\n",
       "      <td>0</td>\n",
       "      <td>0</td>\n",
       "      <td>0</td>\n",
       "      <td>0</td>\n",
       "      <td>0</td>\n",
       "      <td>0</td>\n",
       "      <td>0</td>\n",
       "      <td>0</td>\n",
       "      <td>0</td>\n",
       "      <td>0</td>\n",
       "    </tr>\n",
       "    <tr>\n",
       "      <th>TCGA-DH-A7UR</th>\n",
       "      <td>0</td>\n",
       "      <td>0</td>\n",
       "      <td>0</td>\n",
       "      <td>0</td>\n",
       "      <td>0</td>\n",
       "      <td>0</td>\n",
       "      <td>0</td>\n",
       "      <td>0</td>\n",
       "      <td>0</td>\n",
       "      <td>0</td>\n",
       "      <td>...</td>\n",
       "      <td>0</td>\n",
       "      <td>0</td>\n",
       "      <td>0</td>\n",
       "      <td>0</td>\n",
       "      <td>0</td>\n",
       "      <td>0</td>\n",
       "      <td>0</td>\n",
       "      <td>0</td>\n",
       "      <td>0</td>\n",
       "      <td>0</td>\n",
       "    </tr>\n",
       "    <tr>\n",
       "      <th>TCGA-DH-A7US</th>\n",
       "      <td>0</td>\n",
       "      <td>0</td>\n",
       "      <td>0</td>\n",
       "      <td>0</td>\n",
       "      <td>0</td>\n",
       "      <td>0</td>\n",
       "      <td>0</td>\n",
       "      <td>0</td>\n",
       "      <td>0</td>\n",
       "      <td>0</td>\n",
       "      <td>...</td>\n",
       "      <td>0</td>\n",
       "      <td>0</td>\n",
       "      <td>0</td>\n",
       "      <td>0</td>\n",
       "      <td>0</td>\n",
       "      <td>0</td>\n",
       "      <td>0</td>\n",
       "      <td>0</td>\n",
       "      <td>0</td>\n",
       "      <td>0</td>\n",
       "    </tr>\n",
       "  </tbody>\n",
       "</table>\n",
       "<p>5 rows × 157 columns</p>\n",
       "</div>"
      ],
      "text/plain": [
       "              EGFR_ifd_55174772  NOTCH1_ifd_136518618  PIK3R1_ifd_68293795  \\\n",
       "TCGA-DH-A7UV                  0                     0                    0   \n",
       "TCGA-DH-A7UT                  0                     0                    0   \n",
       "TCGA-DH-A7UU                  0                     0                    0   \n",
       "TCGA-DH-A7UR                  0                     0                    0   \n",
       "TCGA-DH-A7US                  0                     0                    0   \n",
       "\n",
       "              PIK3R1_ifd_68293758  TP53_ifd_7675066  BRAF_V600E  KRAS_G12D  \\\n",
       "TCGA-DH-A7UV                    0                 0           0          0   \n",
       "TCGA-DH-A7UT                    0                 0           0          0   \n",
       "TCGA-DH-A7UU                    0                 0           0          0   \n",
       "TCGA-DH-A7UR                    0                 0           0          0   \n",
       "TCGA-DH-A7US                    0                 0           0          0   \n",
       "\n",
       "              IDH1_R132C  PIK3CA_Q546R  KRAS_A146T     ...       COL4A2_P123Q  \\\n",
       "TCGA-DH-A7UV           0             0           0     ...                  0   \n",
       "TCGA-DH-A7UT           0             0           0     ...                  0   \n",
       "TCGA-DH-A7UU           0             0           0     ...                  0   \n",
       "TCGA-DH-A7UR           0             0           0     ...                  0   \n",
       "TCGA-DH-A7US           0             0           0     ...                  0   \n",
       "\n",
       "              ATM_R23Q  ELF3_E262Q  TP53_C176S  CHD8_R578H  APC_S2601R  \\\n",
       "TCGA-DH-A7UV         0           0           0           0           0   \n",
       "TCGA-DH-A7UT         0           0           0           0           0   \n",
       "TCGA-DH-A7UU         0           0           0           0           0   \n",
       "TCGA-DH-A7UR         0           0           0           0           0   \n",
       "TCGA-DH-A7US         0           0           0           0           0   \n",
       "\n",
       "              KMT2B_E324K  THRAP3_R504W  KMT2C_W430C  TCF12_R589H  \n",
       "TCGA-DH-A7UV            0             0            0            0  \n",
       "TCGA-DH-A7UT            0             0            0            0  \n",
       "TCGA-DH-A7UU            0             0            0            0  \n",
       "TCGA-DH-A7UR            0             0            0            0  \n",
       "TCGA-DH-A7US            0             0            0            0  \n",
       "\n",
       "[5 rows x 157 columns]"
      ]
     },
     "execution_count": 35,
     "metadata": {},
     "output_type": "execute_result"
    }
   ],
   "source": [
    "patient_mutationsII.ix[:, universal_median].head()"
   ]
  },
  {
   "cell_type": "code",
   "execution_count": 19,
   "metadata": {
    "collapsed": false,
    "scrolled": true
   },
   "outputs": [],
   "source": [
    "patient_affinitiesII = pd.read_csv('/cellar/users/ramarty/Data/hla_ii/presentation/clean_matrices/combined_classes/patient_affinities.class_ii.csv',\n",
    "                                 index_col=0)\n",
    "patient_mutationsII = pd.read_csv('/cellar/users/ramarty/Data/hla_ii/presentation/clean_matrices/combined_classes/patient_mutations.csv',\n",
    "                                 index_col=0)"
   ]
  },
  {
   "cell_type": "code",
   "execution_count": 20,
   "metadata": {
    "collapsed": true
   },
   "outputs": [],
   "source": [
    "out = '/cellar/users/ramarty/Data/hla_ii/presentation/clean_matrices/combined_classes/'"
   ]
  },
  {
   "cell_type": "code",
   "execution_count": 21,
   "metadata": {
    "collapsed": false
   },
   "outputs": [
    {
     "ename": "NameError",
     "evalue": "name 'universal' is not defined",
     "output_type": "error",
     "traceback": [
      "\u001b[1;31m---------------------------------------------------------------------------\u001b[0m",
      "\u001b[1;31mNameError\u001b[0m                                 Traceback (most recent call last)",
      "\u001b[1;32m<ipython-input-21-772514258f8d>\u001b[0m in \u001b[0;36m<module>\u001b[1;34m()\u001b[0m\n\u001b[1;32m----> 1\u001b[1;33m \u001b[0mpatient_affinitiesII\u001b[0m\u001b[1;33m.\u001b[0m\u001b[0mix\u001b[0m\u001b[1;33m[\u001b[0m\u001b[1;33m:\u001b[0m\u001b[1;33m,\u001b[0m \u001b[0muniversal\u001b[0m\u001b[1;33m]\u001b[0m\u001b[1;33m.\u001b[0m\u001b[0mto_csv\u001b[0m\u001b[1;33m(\u001b[0m\u001b[0mout\u001b[0m \u001b[1;33m+\u001b[0m \u001b[1;34m'patient_affinities.class_ii.universal.csv'\u001b[0m\u001b[1;33m)\u001b[0m\u001b[1;33m\u001b[0m\u001b[0m\n\u001b[0m\u001b[0;32m      2\u001b[0m \u001b[1;33m\u001b[0m\u001b[0m\n\u001b[0;32m      3\u001b[0m \u001b[0mpatient_mutationsII\u001b[0m\u001b[1;33m.\u001b[0m\u001b[0mix\u001b[0m\u001b[1;33m[\u001b[0m\u001b[1;33m:\u001b[0m\u001b[1;33m,\u001b[0m \u001b[0muniversal\u001b[0m\u001b[1;33m]\u001b[0m\u001b[1;33m.\u001b[0m\u001b[0mto_csv\u001b[0m\u001b[1;33m(\u001b[0m\u001b[0mout\u001b[0m \u001b[1;33m+\u001b[0m \u001b[1;34m'patient_mutations.class_ii.universal.csv'\u001b[0m\u001b[1;33m)\u001b[0m\u001b[1;33m\u001b[0m\u001b[0m\n",
      "\u001b[1;31mNameError\u001b[0m: name 'universal' is not defined"
     ]
    }
   ],
   "source": [
    "patient_affinitiesII.ix[:, universal].to_csv(out + 'patient_affinities.class_ii.universal.csv')\n",
    "\n",
    "patient_mutationsII.ix[:, universal].to_csv(out + 'patient_mutations.class_ii.universal.csv')\n"
   ]
  },
  {
   "cell_type": "code",
   "execution_count": 22,
   "metadata": {
    "collapsed": true
   },
   "outputs": [],
   "source": [
    "patient_affinitiesII.ix[:, universal_median].to_csv(out + 'patient_affinities.class_ii.universal_median.csv')\n",
    "\n",
    "patient_mutationsII.ix[:, universal_median].to_csv(out + 'patient_mutations.class_ii.universal_median.csv')\n"
   ]
  },
  {
   "cell_type": "markdown",
   "metadata": {},
   "source": [
    "Run OR"
   ]
  },
  {
   "cell_type": "code",
   "execution_count": 23,
   "metadata": {
    "collapsed": true
   },
   "outputs": [],
   "source": [
    "def create_cluster_script(thresholds, models, tissue_fs, mut_fs, aff1_fs, aff2_fs, names, pans):\n",
    "    \n",
    "    new_script_file = '/cellar/users/ramarty/Projects/hla_ii/data_analysis/patient_selection/OR.cytotoxic.sh'\n",
    "    \n",
    "    with open(new_script_file, 'w') as out_file:\n",
    "        out_file.write(\"#! /bin/csh\\n\")\n",
    "        out_file.write(\"#$ -V\\n\")\n",
    "        out_file.write(\"#$ -S /bin/csh\\n\")\n",
    "        out_file.write(\"#$ -o /cellar/users/ramarty/Data/hla_ii/sge-system_files\\n\")\n",
    "        out_file.write(\"#$ -e /cellar/users/ramarty/Data/hla_ii/sge-system_files\\n\")\n",
    "        out_file.write(\"#$ -cwd\\n\")\n",
    "        #out_file.write(\"#$ -t 1-4\\n\".format(len(thresholds)))\n",
    "        out_file.write(\"#$ -t 1-{0}\\n\".format(len(thresholds)))\n",
    "        out_file.write(\"#$ -l h_vmem=30G\\n\")\n",
    "        out_file.write(\"#$ -tc 50\\n\")\n",
    "        out_file.write(\"#$ -l long\")\n",
    "        out_file.write(\"\\n\")\n",
    "\n",
    "        out_file.write(\"set thresholds=({0})\\n\".format(\" \".join(thresholds)))\n",
    "        out_file.write(\"set models=({0})\\n\".format(\" \".join(models)))\n",
    "        out_file.write(\"set tissue_fs=({0})\\n\".format(\" \".join(tissue_fs)))\n",
    "        out_file.write(\"set mut_fs=({0})\\n\".format(\" \".join(mut_fs)))\n",
    "        out_file.write(\"set aff1_fs=({0})\\n\".format(\" \".join(aff1_fs)))\n",
    "        out_file.write(\"set aff2_fs=({0})\\n\".format(\" \".join(aff2_fs)))\n",
    "        out_file.write(\"set names=({0})\\n\".format(\" \".join(names)))\n",
    "        out_file.write(\"set pans=({0})\\n\".format(\" \".join(pans)))\n",
    "        out_file.write(\"\\n\")\n",
    "\n",
    "        out_file.write(\"set threshold=$thresholds[$SGE_TASK_ID]\\n\")\n",
    "        out_file.write(\"set model=$models[$SGE_TASK_ID]\\n\")\n",
    "        out_file.write(\"set tissue_f=$tissue_fs[$SGE_TASK_ID]\\n\")\n",
    "        out_file.write(\"set mut_f=$mut_fs[$SGE_TASK_ID]\\n\")\n",
    "        out_file.write(\"set aff1_f=$aff1_fs[$SGE_TASK_ID]\\n\")\n",
    "        out_file.write(\"set aff2_f=$aff2_fs[$SGE_TASK_ID]\\n\")\n",
    "        out_file.write(\"set name=$names[$SGE_TASK_ID]\\n\")\n",
    "        out_file.write(\"set pan=$pans[$SGE_TASK_ID]\\n\")\n",
    "        out_file.write(\"\\n\")\n",
    "        \n",
    "        out_file.write(\"date\\n\")\n",
    "        out_file.write(\"hostname\\n\")\n",
    "        out_file.write(\"\\n\")\n",
    "  \n",
    "        out_file.write(\"Rscript --vanilla /cellar/users/ramarty/Projects/hla_ii/data_analysis/patient_selection/OR.R $threshold $model $tissue_f $mut_f $aff1_f $aff2_f $name $pan\\n\")\n",
    "        out_file.write(\"\\n\")\n",
    "                       \n",
    "        out_file.write(\"date\\n\")"
   ]
  },
  {
   "cell_type": "code",
   "execution_count": 24,
   "metadata": {
    "collapsed": false
   },
   "outputs": [],
   "source": [
    "# first MHC-II only (driver, passenger, germline); then both (driver, passenger, germline)\n",
    "models = ['0']\n",
    "pans = ['1']\n",
    "thresholds = ['2']\n",
    "tissue_fs = ['patient_tissues.csv']\n",
    "mut_fs = ['combined_classes/patient_mutations.class_ii.universal_median.csv']\n",
    "aff1_fs = ['combined_classes/patient_affinities.class_ii.universal_median.csv']\n",
    "aff2_fs = ['patient_affinities.cancer.all.csv']\n",
    "names = ['class_ii.universal_median']\n",
    "\n",
    "create_cluster_script(thresholds, models, tissue_fs, mut_fs, aff1_fs, aff2_fs, names, pans)"
   ]
  },
  {
   "cell_type": "markdown",
   "metadata": {
    "collapsed": true
   },
   "source": [
    "### Results"
   ]
  },
  {
   "cell_type": "markdown",
   "metadata": {},
   "source": [
    "Pan"
   ]
  },
  {
   "cell_type": "code",
   "execution_count": 3,
   "metadata": {
    "collapsed": false,
    "scrolled": true
   },
   "outputs": [
    {
     "data": {
      "text/html": [
       "<div>\n",
       "<table border=\"1\" class=\"dataframe\">\n",
       "  <thead>\n",
       "    <tr style=\"text-align: right;\">\n",
       "      <th></th>\n",
       "      <th>OR</th>\n",
       "      <th>conf_OR_low</th>\n",
       "      <th>conf_OR_high</th>\n",
       "      <th>P</th>\n",
       "    </tr>\n",
       "  </thead>\n",
       "  <tbody>\n",
       "    <tr>\n",
       "      <th>mutation</th>\n",
       "      <td>0.793191</td>\n",
       "      <td>0.747375</td>\n",
       "      <td>0.841815</td>\n",
       "      <td>2.299697e-14</td>\n",
       "    </tr>\n",
       "    <tr>\n",
       "      <th>patient</th>\n",
       "      <td>0.793191</td>\n",
       "      <td>0.747375</td>\n",
       "      <td>0.841815</td>\n",
       "      <td>2.299697e-14</td>\n",
       "    </tr>\n",
       "  </tbody>\n",
       "</table>\n",
       "</div>"
      ],
      "text/plain": [
       "                OR  conf_OR_low  conf_OR_high             P\n",
       "mutation  0.793191     0.747375      0.841815  2.299697e-14\n",
       "patient   0.793191     0.747375      0.841815  2.299697e-14"
      ]
     },
     "execution_count": 3,
     "metadata": {},
     "output_type": "execute_result"
    }
   ],
   "source": [
    "pd.read_csv('/cellar/users/ramarty/Data/hla_ii/generated_data/OR/MHC_II.pan.thresh_2.class_ii.universal.txt',\n",
    "           sep= ' ')"
   ]
  },
  {
   "cell_type": "code",
   "execution_count": 27,
   "metadata": {
    "collapsed": false
   },
   "outputs": [
    {
     "data": {
      "text/html": [
       "<div>\n",
       "<table border=\"1\" class=\"dataframe\">\n",
       "  <thead>\n",
       "    <tr style=\"text-align: right;\">\n",
       "      <th></th>\n",
       "      <th>OR</th>\n",
       "      <th>conf_OR_low</th>\n",
       "      <th>conf_OR_high</th>\n",
       "      <th>P</th>\n",
       "    </tr>\n",
       "  </thead>\n",
       "  <tbody>\n",
       "    <tr>\n",
       "      <th>mutation</th>\n",
       "      <td>0.815811</td>\n",
       "      <td>0.766073</td>\n",
       "      <td>0.868777</td>\n",
       "      <td>2.253181e-10</td>\n",
       "    </tr>\n",
       "    <tr>\n",
       "      <th>patient</th>\n",
       "      <td>0.815811</td>\n",
       "      <td>0.766073</td>\n",
       "      <td>0.868777</td>\n",
       "      <td>2.253181e-10</td>\n",
       "    </tr>\n",
       "  </tbody>\n",
       "</table>\n",
       "</div>"
      ],
      "text/plain": [
       "                OR  conf_OR_low  conf_OR_high             P\n",
       "mutation  0.815811     0.766073      0.868777  2.253181e-10\n",
       "patient   0.815811     0.766073      0.868777  2.253181e-10"
      ]
     },
     "execution_count": 27,
     "metadata": {},
     "output_type": "execute_result"
    }
   ],
   "source": [
    "pd.read_csv('/cellar/users/ramarty/Data/hla_ii/generated_data/OR/MHC_II.pan.thresh_2.class_ii.universal_median.txt',\n",
    "           sep= ' ')"
   ]
  },
  {
   "cell_type": "code",
   "execution_count": null,
   "metadata": {
    "collapsed": true
   },
   "outputs": [],
   "source": []
  }
 ],
 "metadata": {
  "kernelspec": {
   "display_name": "Python 2",
   "language": "python",
   "name": "python2"
  },
  "language_info": {
   "codemirror_mode": {
    "name": "ipython",
    "version": 2
   },
   "file_extension": ".py",
   "mimetype": "text/x-python",
   "name": "python",
   "nbconvert_exporter": "python",
   "pygments_lexer": "ipython2",
   "version": "2.7.14"
  }
 },
 "nbformat": 4,
 "nbformat_minor": 0
}
