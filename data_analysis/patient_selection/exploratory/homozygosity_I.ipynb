{
 "cells": [
  {
   "cell_type": "code",
   "execution_count": 4,
   "metadata": {
    "collapsed": false,
    "scrolled": true
   },
   "outputs": [
    {
     "name": "stdout",
     "output_type": "stream",
     "text": [
      "Populating the interactive namespace from numpy and matplotlib\n"
     ]
    }
   ],
   "source": [
    "import io\n",
    "from IPython.nbformat import current\n",
    "def execute_notebook(nbfile):\n",
    "    with io.open(nbfile) as f:\n",
    "        nb = current.read(f, 'json')\n",
    "    ip = get_ipython()\n",
    "    for cell in nb.worksheets[0].cells:\n",
    "        if cell.cell_type != 'code':\n",
    "            continue\n",
    "        ip.run_cell(cell.input)\n",
    "execute_notebook(\"../../bin/imports.ipynb\")"
   ]
  },
  {
   "cell_type": "markdown",
   "metadata": {},
   "source": [
    "This notebook spawned from: http://localhost:5000/notebooks/Projects/hla_ii/data_analysis/patient_selection/helper_II.ipynb"
   ]
  },
  {
   "cell_type": "markdown",
   "metadata": {},
   "source": [
    "### Set up analysis"
   ]
  },
  {
   "cell_type": "markdown",
   "metadata": {},
   "source": [
    "Split patients"
   ]
  },
  {
   "cell_type": "code",
   "execution_count": 13,
   "metadata": {
    "collapsed": true
   },
   "outputs": [],
   "source": [
    "df = pd.read_csv('/cellar/users/ramarty/Data/hla_ii/generated_data/mhc_diversity/dataframe.csv',\n",
    "                 index_col=0)\n",
    "df = df.dropna()"
   ]
  },
  {
   "cell_type": "code",
   "execution_count": 14,
   "metadata": {
    "collapsed": false,
    "scrolled": true
   },
   "outputs": [
    {
     "data": {
      "text/plain": [
       "0.0    4115\n",
       "1.0    1007\n",
       "2.0     247\n",
       "3.0     129\n",
       "Name: homozygous_classI, dtype: int64"
      ]
     },
     "execution_count": 14,
     "metadata": {},
     "output_type": "execute_result"
    }
   ],
   "source": [
    "df.homozygous_classI.value_counts()"
   ]
  },
  {
   "cell_type": "code",
   "execution_count": 15,
   "metadata": {
    "collapsed": false
   },
   "outputs": [
    {
     "data": {
      "text/plain": [
       "het      4115\n",
       "other    1007\n",
       "homo      376\n",
       "Name: classI_het, dtype: int64"
      ]
     },
     "execution_count": 15,
     "metadata": {},
     "output_type": "execute_result"
    }
   ],
   "source": [
    "df.classI_het.value_counts()"
   ]
  },
  {
   "cell_type": "code",
   "execution_count": 16,
   "metadata": {
    "collapsed": false
   },
   "outputs": [
    {
     "data": {
      "text/plain": [
       "other    2966\n",
       "low      1297\n",
       "high     1235\n",
       "Name: classII_cat, dtype: int64"
      ]
     },
     "execution_count": 16,
     "metadata": {},
     "output_type": "execute_result"
    }
   ],
   "source": [
    "df.classII_cat.value_counts()"
   ]
  },
  {
   "cell_type": "code",
   "execution_count": 17,
   "metadata": {
    "collapsed": false
   },
   "outputs": [
    {
     "data": {
      "text/plain": [
       "Index([u'TCGA-02-2470', u'TCGA-02-2483', u'TCGA-02-2485', u'TCGA-04-1346',\n",
       "       u'TCGA-04-1362', u'TCGA-06-0130', u'TCGA-06-0141', u'TCGA-06-0168',\n",
       "       u'TCGA-06-0173', u'TCGA-06-0189',\n",
       "       ...\n",
       "       u'TCGA-Z2-AA3V', u'TCGA-Z5-AAPL', u'TCGA-ZF-A9R0', u'TCGA-ZF-A9RN',\n",
       "       u'TCGA-ZF-AA4U', u'TCGA-ZF-AA4X', u'TCGA-ZF-AA51', u'TCGA-ZF-AA5P',\n",
       "       u'TCGA-ZP-A9D2', u'TCGA-ZS-A9CF'],\n",
       "      dtype='object', length=1297)"
      ]
     },
     "execution_count": 17,
     "metadata": {},
     "output_type": "execute_result"
    }
   ],
   "source": [
    "df[df.classII_cat == 'low'].index"
   ]
  },
  {
   "cell_type": "markdown",
   "metadata": {},
   "source": [
    "Make data frames (affinities, mutations, tissuse)"
   ]
  },
  {
   "cell_type": "code",
   "execution_count": 19,
   "metadata": {
    "collapsed": true
   },
   "outputs": [],
   "source": [
    "class_label = 'class_i'\n",
    "patient_affinities = pd.read_csv('/cellar/users/ramarty/Data/hla_ii/presentation/clean_matrices/combined_classes/patient_affinities.{0}.csv'.format(class_label),\n",
    "                                 index_col=0)\n",
    "patient_mutations = pd.read_csv('/cellar/users/ramarty/Data/hla_ii/presentation/clean_matrices/combined_classes/patient_mutations.csv',\n",
    "                                 index_col=0)"
   ]
  },
  {
   "cell_type": "code",
   "execution_count": 20,
   "metadata": {
    "collapsed": true
   },
   "outputs": [],
   "source": [
    "out = '/cellar/users/ramarty/Data/hla_ii/presentation/clean_matrices/combined_classes/'"
   ]
  },
  {
   "cell_type": "code",
   "execution_count": 21,
   "metadata": {
    "collapsed": true
   },
   "outputs": [],
   "source": [
    "patient_affinities.ix[df[df.classI_cat == 'low'].index].to_csv(out + 'patient_affinities.{0}.low_i_cov.csv'.format(class_label))\n",
    "patient_affinities.ix[df[df.classI_cat == 'high'].index].to_csv(out + 'patient_affinities.{0}.high_i_cov.csv'.format(class_label))\n",
    "\n",
    "patient_mutations.ix[df[df.classI_cat == 'low'].index].to_csv(out + 'patient_mutations.{0}.low_i_cov.csv'.format(class_label))\n",
    "patient_mutations.ix[df[df.classI_cat == 'high'].index].to_csv(out + 'patient_mutations.{0}.high_i_cov.csv'.format(class_label))"
   ]
  },
  {
   "cell_type": "code",
   "execution_count": 22,
   "metadata": {
    "collapsed": true
   },
   "outputs": [],
   "source": [
    "patient_affinities.ix[df[df.classI_het == 'homo'].index].to_csv(out + 'patient_affinities.{0}.i_homo.csv'.format(class_label))\n",
    "patient_affinities.ix[df[df.classI_het == 'het'].index].to_csv(out + 'patient_affinities.{0}.i_het.csv'.format(class_label))\n",
    "\n",
    "patient_mutations.ix[df[df.classI_het == 'homo'].index].to_csv(out + 'patient_mutations.{0}.i_homo.csv'.format(class_label))\n",
    "patient_mutations.ix[df[df.classI_het == 'het'].index].to_csv(out + 'patient_mutations.{0}.i_het.csv'.format(class_label))"
   ]
  },
  {
   "cell_type": "markdown",
   "metadata": {},
   "source": [
    "Run OR"
   ]
  },
  {
   "cell_type": "code",
   "execution_count": 27,
   "metadata": {
    "collapsed": true
   },
   "outputs": [],
   "source": [
    "def create_cluster_script(thresholds, models, tissue_fs, mut_fs, aff1_fs, aff2_fs, names, pans):\n",
    "    \n",
    "    new_script_file = '/cellar/users/ramarty/Projects/hla_ii/data_analysis/patient_selection/OR.helper.sh'\n",
    "    \n",
    "    with open(new_script_file, 'w') as out_file:\n",
    "        out_file.write(\"#! /bin/csh\\n\")\n",
    "        out_file.write(\"#$ -V\\n\")\n",
    "        out_file.write(\"#$ -S /bin/csh\\n\")\n",
    "        out_file.write(\"#$ -o /cellar/users/ramarty/Data/hla_ii/sge-system_files\\n\")\n",
    "        out_file.write(\"#$ -e /cellar/users/ramarty/Data/hla_ii/sge-system_files\\n\")\n",
    "        out_file.write(\"#$ -cwd\\n\")\n",
    "        #out_file.write(\"#$ -t 1-4\\n\".format(len(thresholds)))\n",
    "        out_file.write(\"#$ -t 1-{0}\\n\".format(len(thresholds)))\n",
    "        out_file.write(\"#$ -l h_vmem=30G\\n\")\n",
    "        out_file.write(\"#$ -tc 100\\n\")\n",
    "        out_file.write(\"#$ -l long\")\n",
    "        out_file.write(\"\\n\")\n",
    "\n",
    "        out_file.write(\"set thresholds=({0})\\n\".format(\" \".join(thresholds)))\n",
    "        out_file.write(\"set models=({0})\\n\".format(\" \".join(models)))\n",
    "        out_file.write(\"set tissue_fs=({0})\\n\".format(\" \".join(tissue_fs)))\n",
    "        out_file.write(\"set mut_fs=({0})\\n\".format(\" \".join(mut_fs)))\n",
    "        out_file.write(\"set aff1_fs=({0})\\n\".format(\" \".join(aff1_fs)))\n",
    "        out_file.write(\"set aff2_fs=({0})\\n\".format(\" \".join(aff2_fs)))\n",
    "        out_file.write(\"set names=({0})\\n\".format(\" \".join(names)))\n",
    "        out_file.write(\"set pans=({0})\\n\".format(\" \".join(pans)))\n",
    "        out_file.write(\"\\n\")\n",
    "\n",
    "        out_file.write(\"set threshold=$thresholds[$SGE_TASK_ID]\\n\")\n",
    "        out_file.write(\"set model=$models[$SGE_TASK_ID]\\n\")\n",
    "        out_file.write(\"set tissue_f=$tissue_fs[$SGE_TASK_ID]\\n\")\n",
    "        out_file.write(\"set mut_f=$mut_fs[$SGE_TASK_ID]\\n\")\n",
    "        out_file.write(\"set aff1_f=$aff1_fs[$SGE_TASK_ID]\\n\")\n",
    "        out_file.write(\"set aff2_f=$aff2_fs[$SGE_TASK_ID]\\n\")\n",
    "        out_file.write(\"set name=$names[$SGE_TASK_ID]\\n\")\n",
    "        out_file.write(\"set pan=$pans[$SGE_TASK_ID]\\n\")\n",
    "        out_file.write(\"\\n\")\n",
    "        \n",
    "        out_file.write(\"date\\n\")\n",
    "        out_file.write(\"hostname\\n\")\n",
    "        out_file.write(\"\\n\")\n",
    "  \n",
    "        out_file.write(\"Rscript --vanilla /cellar/users/ramarty/Projects/hla_ii/data_analysis/patient_selection/OR.R $threshold $model $tissue_f $mut_f $aff1_f $aff2_f $name $pan\\n\")\n",
    "        out_file.write(\"\\n\")\n",
    "                       \n",
    "        out_file.write(\"date\\n\")"
   ]
  },
  {
   "cell_type": "code",
   "execution_count": 31,
   "metadata": {
    "collapsed": false
   },
   "outputs": [],
   "source": [
    "# first MHC-II only (driver, passenger, germline); then both (driver, passenger, germline)\n",
    "class_label = 'class_i'\n",
    "models = ['0']*8\n",
    "pans = ['1']*4\n",
    "thresholds = ['2']*8\n",
    "tissue_fs = ['patient_tissues.csv']*8\n",
    "mut_fs = ['combined_classes/patient_mutations.{0}.low_i_cov.csv'.format(class_label),\n",
    "           'combined_classes/patient_mutations.{0}.high_i_cov.csv'.format(class_label),\n",
    "           'combined_classes/patient_mutations.{0}.i_homo.csv'.format(class_label),\n",
    "           'combined_classes/patient_mutations.{0}.i_het.csv'.format(class_label)]*2\n",
    "aff1_fs = ['combined_classes/patient_affinities.{0}.low_i_cov.csv'.format(class_label),\n",
    "           'combined_classes/patient_affinities.{0}.high_i_cov.csv'.format(class_label),\n",
    "           'combined_classes/patient_affinities.{0}.i_homo.csv'.format(class_label),\n",
    "           'combined_classes/patient_affinities.{0}.i_het.csv'.format(class_label)]*2\n",
    "# these are never referenced\n",
    "aff2_fs = (['patient_affinities.cancer.all.csv', 'patient_affinities.passenger.csv', \n",
    "            'patient_affinities.germline.all.csv', 'combined_classes/patient_affinities.class_ii.csv', \n",
    "            'combined_classes/patient_affinities.passenger.class_ii.csv', \n",
    "            'combined_classes/patient_affinities.germline.class_ii.csv'])*2\n",
    "names = ['{0}.low_i_cov'.format(class_label), \n",
    "         '{0}.high_i_cov'.format(class_label),\n",
    "         '{0}.i_homo'.format(class_label),\n",
    "         '{0}.i_het'.format(class_label)]*2\n",
    "\n",
    "create_cluster_script(thresholds, models, tissue_fs, mut_fs, aff1_fs, aff2_fs, names, pans)"
   ]
  },
  {
   "cell_type": "markdown",
   "metadata": {
    "collapsed": true
   },
   "source": [
    "### Results"
   ]
  },
  {
   "cell_type": "markdown",
   "metadata": {},
   "source": [
    "Pan"
   ]
  },
  {
   "cell_type": "code",
   "execution_count": 65,
   "metadata": {
    "collapsed": false,
    "scrolled": true
   },
   "outputs": [
    {
     "data": {
      "text/html": [
       "<div>\n",
       "<table border=\"1\" class=\"dataframe\">\n",
       "  <thead>\n",
       "    <tr style=\"text-align: right;\">\n",
       "      <th></th>\n",
       "      <th>OR</th>\n",
       "      <th>conf_OR_low</th>\n",
       "      <th>conf_OR_high</th>\n",
       "      <th>P</th>\n",
       "    </tr>\n",
       "  </thead>\n",
       "  <tbody>\n",
       "    <tr>\n",
       "      <th>mutation</th>\n",
       "      <td>1.211847</td>\n",
       "      <td>1.184584</td>\n",
       "      <td>1.239738</td>\n",
       "      <td>1.577777e-61</td>\n",
       "    </tr>\n",
       "    <tr>\n",
       "      <th>patient</th>\n",
       "      <td>1.211847</td>\n",
       "      <td>1.184584</td>\n",
       "      <td>1.239738</td>\n",
       "      <td>1.577777e-61</td>\n",
       "    </tr>\n",
       "  </tbody>\n",
       "</table>\n",
       "</div>"
      ],
      "text/plain": [
       "                OR  conf_OR_low  conf_OR_high             P\n",
       "mutation  1.211847     1.184584      1.239738  1.577777e-61\n",
       "patient   1.211847     1.184584      1.239738  1.577777e-61"
      ]
     },
     "execution_count": 65,
     "metadata": {},
     "output_type": "execute_result"
    }
   ],
   "source": [
    "pd.read_csv('/cellar/users/ramarty/Data/hla_ii/generated_data/OR/MHC_II.pan.thresh_0.class_i.ii_het.txt',\n",
    "           sep= ' ')"
   ]
  },
  {
   "cell_type": "code",
   "execution_count": 66,
   "metadata": {
    "collapsed": false
   },
   "outputs": [
    {
     "data": {
      "text/html": [
       "<div>\n",
       "<table border=\"1\" class=\"dataframe\">\n",
       "  <thead>\n",
       "    <tr style=\"text-align: right;\">\n",
       "      <th></th>\n",
       "      <th>OR</th>\n",
       "      <th>conf_OR_low</th>\n",
       "      <th>conf_OR_high</th>\n",
       "      <th>P</th>\n",
       "    </tr>\n",
       "  </thead>\n",
       "  <tbody>\n",
       "    <tr>\n",
       "      <th>mutation</th>\n",
       "      <td>1.184405</td>\n",
       "      <td>1.106395</td>\n",
       "      <td>1.267915</td>\n",
       "      <td>0.000001</td>\n",
       "    </tr>\n",
       "    <tr>\n",
       "      <th>patient</th>\n",
       "      <td>1.184405</td>\n",
       "      <td>1.106395</td>\n",
       "      <td>1.267915</td>\n",
       "      <td>0.000001</td>\n",
       "    </tr>\n",
       "  </tbody>\n",
       "</table>\n",
       "</div>"
      ],
      "text/plain": [
       "                OR  conf_OR_low  conf_OR_high         P\n",
       "mutation  1.184405     1.106395      1.267915  0.000001\n",
       "patient   1.184405     1.106395      1.267915  0.000001"
      ]
     },
     "execution_count": 66,
     "metadata": {},
     "output_type": "execute_result"
    }
   ],
   "source": [
    "pd.read_csv('/cellar/users/ramarty/Data/hla_ii/generated_data/OR/MHC_II.pan.thresh_0.class_i.ii_homo.txt',\n",
    "           sep= ' ')"
   ]
  },
  {
   "cell_type": "code",
   "execution_count": 3,
   "metadata": {
    "collapsed": false
   },
   "outputs": [
    {
     "data": {
      "text/html": [
       "<div>\n",
       "<table border=\"1\" class=\"dataframe\">\n",
       "  <thead>\n",
       "    <tr style=\"text-align: right;\">\n",
       "      <th></th>\n",
       "      <th>OR</th>\n",
       "      <th>conf_OR_low</th>\n",
       "      <th>conf_OR_high</th>\n",
       "      <th>P</th>\n",
       "    </tr>\n",
       "  </thead>\n",
       "  <tbody>\n",
       "    <tr>\n",
       "      <th>mutation</th>\n",
       "      <td>1.220781</td>\n",
       "      <td>1.192344</td>\n",
       "      <td>1.249896</td>\n",
       "      <td>8.331345e-62</td>\n",
       "    </tr>\n",
       "    <tr>\n",
       "      <th>patient</th>\n",
       "      <td>1.220781</td>\n",
       "      <td>1.192344</td>\n",
       "      <td>1.249896</td>\n",
       "      <td>8.331345e-62</td>\n",
       "    </tr>\n",
       "  </tbody>\n",
       "</table>\n",
       "</div>"
      ],
      "text/plain": [
       "                OR  conf_OR_low  conf_OR_high             P\n",
       "mutation  1.220781     1.192344      1.249896  8.331345e-62\n",
       "patient   1.220781     1.192344      1.249896  8.331345e-62"
      ]
     },
     "execution_count": 3,
     "metadata": {},
     "output_type": "execute_result"
    }
   ],
   "source": [
    "pd.read_csv('/cellar/users/ramarty/Data/hla_ii/generated_data/OR/MHC_II.pan.thresh_2.class_i.ii_het.txt',\n",
    "           sep= ' ')"
   ]
  },
  {
   "cell_type": "code",
   "execution_count": 93,
   "metadata": {
    "collapsed": false
   },
   "outputs": [
    {
     "data": {
      "text/html": [
       "<div>\n",
       "<table border=\"1\" class=\"dataframe\">\n",
       "  <thead>\n",
       "    <tr style=\"text-align: right;\">\n",
       "      <th></th>\n",
       "      <th>OR</th>\n",
       "      <th>conf_OR_low</th>\n",
       "      <th>conf_OR_high</th>\n",
       "      <th>P</th>\n",
       "    </tr>\n",
       "  </thead>\n",
       "  <tbody>\n",
       "    <tr>\n",
       "      <th>mutation</th>\n",
       "      <td>1.363103</td>\n",
       "      <td>1.240223</td>\n",
       "      <td>1.498159</td>\n",
       "      <td>1.305009e-10</td>\n",
       "    </tr>\n",
       "    <tr>\n",
       "      <th>patient</th>\n",
       "      <td>1.363103</td>\n",
       "      <td>1.240223</td>\n",
       "      <td>1.498159</td>\n",
       "      <td>1.305009e-10</td>\n",
       "    </tr>\n",
       "  </tbody>\n",
       "</table>\n",
       "</div>"
      ],
      "text/plain": [
       "                OR  conf_OR_low  conf_OR_high             P\n",
       "mutation  1.363103     1.240223      1.498159  1.305009e-10\n",
       "patient   1.363103     1.240223      1.498159  1.305009e-10"
      ]
     },
     "execution_count": 93,
     "metadata": {},
     "output_type": "execute_result"
    }
   ],
   "source": [
    "pd.read_csv('/cellar/users/ramarty/Data/hla_ii/generated_data/OR/MHC_II.pan.thresh_2.class_i.ii_homo.txt',\n",
    "           sep= ' ')"
   ]
  },
  {
   "cell_type": "markdown",
   "metadata": {},
   "source": [
    "Pan - class II"
   ]
  },
  {
   "cell_type": "code",
   "execution_count": 4,
   "metadata": {
    "collapsed": false,
    "scrolled": true
   },
   "outputs": [
    {
     "data": {
      "text/html": [
       "<div>\n",
       "<table border=\"1\" class=\"dataframe\">\n",
       "  <thead>\n",
       "    <tr style=\"text-align: right;\">\n",
       "      <th></th>\n",
       "      <th>OR</th>\n",
       "      <th>conf_OR_low</th>\n",
       "      <th>conf_OR_high</th>\n",
       "      <th>P</th>\n",
       "    </tr>\n",
       "  </thead>\n",
       "  <tbody>\n",
       "    <tr>\n",
       "      <th>mutation</th>\n",
       "      <td>1.224222</td>\n",
       "      <td>1.192723</td>\n",
       "      <td>1.256552</td>\n",
       "      <td>2.944859e-52</td>\n",
       "    </tr>\n",
       "    <tr>\n",
       "      <th>patient</th>\n",
       "      <td>1.224222</td>\n",
       "      <td>1.192723</td>\n",
       "      <td>1.256552</td>\n",
       "      <td>2.944859e-52</td>\n",
       "    </tr>\n",
       "  </tbody>\n",
       "</table>\n",
       "</div>"
      ],
      "text/plain": [
       "                OR  conf_OR_low  conf_OR_high             P\n",
       "mutation  1.224222     1.192723      1.256552  2.944859e-52\n",
       "patient   1.224222     1.192723      1.256552  2.944859e-52"
      ]
     },
     "execution_count": 4,
     "metadata": {},
     "output_type": "execute_result"
    }
   ],
   "source": [
    "pd.read_csv('/cellar/users/ramarty/Data/hla_ii/generated_data/OR/MHC_II.pan.thresh_2.class_ii.ii_het.txt',\n",
    "           sep= ' ')"
   ]
  },
  {
   "cell_type": "code",
   "execution_count": 110,
   "metadata": {
    "collapsed": false
   },
   "outputs": [
    {
     "data": {
      "text/html": [
       "<div>\n",
       "<table border=\"1\" class=\"dataframe\">\n",
       "  <thead>\n",
       "    <tr style=\"text-align: right;\">\n",
       "      <th></th>\n",
       "      <th>OR</th>\n",
       "      <th>conf_OR_low</th>\n",
       "      <th>conf_OR_high</th>\n",
       "      <th>P</th>\n",
       "    </tr>\n",
       "  </thead>\n",
       "  <tbody>\n",
       "    <tr>\n",
       "      <th>mutation</th>\n",
       "      <td>1.28935</td>\n",
       "      <td>1.150453</td>\n",
       "      <td>1.445017</td>\n",
       "      <td>0.000012</td>\n",
       "    </tr>\n",
       "    <tr>\n",
       "      <th>patient</th>\n",
       "      <td>1.28935</td>\n",
       "      <td>1.150453</td>\n",
       "      <td>1.445017</td>\n",
       "      <td>0.000012</td>\n",
       "    </tr>\n",
       "  </tbody>\n",
       "</table>\n",
       "</div>"
      ],
      "text/plain": [
       "               OR  conf_OR_low  conf_OR_high         P\n",
       "mutation  1.28935     1.150453      1.445017  0.000012\n",
       "patient   1.28935     1.150453      1.445017  0.000012"
      ]
     },
     "execution_count": 110,
     "metadata": {},
     "output_type": "execute_result"
    }
   ],
   "source": [
    "pd.read_csv('/cellar/users/ramarty/Data/hla_ii/generated_data/OR/MHC_II.pan.thresh_2.class_ii.ii_homo.txt',\n",
    "           sep= ' ')"
   ]
  },
  {
   "cell_type": "markdown",
   "metadata": {},
   "source": [
    "Tissue"
   ]
  },
  {
   "cell_type": "code",
   "execution_count": 13,
   "metadata": {
    "collapsed": false
   },
   "outputs": [
    {
     "data": {
      "text/html": [
       "<div>\n",
       "<table border=\"1\" class=\"dataframe\">\n",
       "  <thead>\n",
       "    <tr style=\"text-align: right;\">\n",
       "      <th></th>\n",
       "      <th>OR</th>\n",
       "      <th>Lci</th>\n",
       "      <th>Hci</th>\n",
       "      <th>P</th>\n",
       "    </tr>\n",
       "  </thead>\n",
       "  <tbody>\n",
       "    <tr>\n",
       "      <th>THCA</th>\n",
       "      <td>2.146184</td>\n",
       "      <td>1.725237</td>\n",
       "      <td>2.669840</td>\n",
       "      <td>7.085098e-12</td>\n",
       "    </tr>\n",
       "    <tr>\n",
       "      <th>LGG</th>\n",
       "      <td>1.464393</td>\n",
       "      <td>1.284892</td>\n",
       "      <td>1.668972</td>\n",
       "      <td>1.082669e-08</td>\n",
       "    </tr>\n",
       "    <tr>\n",
       "      <th>COAD</th>\n",
       "      <td>1.358520</td>\n",
       "      <td>1.355313</td>\n",
       "      <td>1.361735</td>\n",
       "      <td>0.000000e+00</td>\n",
       "    </tr>\n",
       "    <tr>\n",
       "      <th>PAAD</th>\n",
       "      <td>1.323129</td>\n",
       "      <td>1.045086</td>\n",
       "      <td>1.675145</td>\n",
       "      <td>1.999701e-02</td>\n",
       "    </tr>\n",
       "    <tr>\n",
       "      <th>READ</th>\n",
       "      <td>1.310537</td>\n",
       "      <td>0.961540</td>\n",
       "      <td>1.786205</td>\n",
       "      <td>8.694157e-02</td>\n",
       "    </tr>\n",
       "    <tr>\n",
       "      <th>OV</th>\n",
       "      <td>1.276041</td>\n",
       "      <td>0.968218</td>\n",
       "      <td>1.681730</td>\n",
       "      <td>8.350773e-02</td>\n",
       "    </tr>\n",
       "    <tr>\n",
       "      <th>SKCM</th>\n",
       "      <td>1.202931</td>\n",
       "      <td>1.066077</td>\n",
       "      <td>1.357352</td>\n",
       "      <td>2.714027e-03</td>\n",
       "    </tr>\n",
       "    <tr>\n",
       "      <th>GBM</th>\n",
       "      <td>1.175284</td>\n",
       "      <td>0.958076</td>\n",
       "      <td>1.441735</td>\n",
       "      <td>1.213347e-01</td>\n",
       "    </tr>\n",
       "    <tr>\n",
       "      <th>LUAD</th>\n",
       "      <td>1.143546</td>\n",
       "      <td>0.970958</td>\n",
       "      <td>1.346811</td>\n",
       "      <td>1.080707e-01</td>\n",
       "    </tr>\n",
       "    <tr>\n",
       "      <th>HNSC</th>\n",
       "      <td>1.098897</td>\n",
       "      <td>0.925539</td>\n",
       "      <td>1.304726</td>\n",
       "      <td>2.816465e-01</td>\n",
       "    </tr>\n",
       "    <tr>\n",
       "      <th>STAD</th>\n",
       "      <td>1.064104</td>\n",
       "      <td>0.898134</td>\n",
       "      <td>1.260745</td>\n",
       "      <td>4.726480e-01</td>\n",
       "    </tr>\n",
       "    <tr>\n",
       "      <th>UCEC</th>\n",
       "      <td>1.061142</td>\n",
       "      <td>0.910634</td>\n",
       "      <td>1.236525</td>\n",
       "      <td>4.469876e-01</td>\n",
       "    </tr>\n",
       "    <tr>\n",
       "      <th>LIHC</th>\n",
       "      <td>1.044017</td>\n",
       "      <td>0.815480</td>\n",
       "      <td>1.336601</td>\n",
       "      <td>7.325464e-01</td>\n",
       "    </tr>\n",
       "    <tr>\n",
       "      <th>BLCA</th>\n",
       "      <td>1.039646</td>\n",
       "      <td>0.883404</td>\n",
       "      <td>1.223521</td>\n",
       "      <td>6.398295e-01</td>\n",
       "    </tr>\n",
       "    <tr>\n",
       "      <th>LUSC</th>\n",
       "      <td>0.987207</td>\n",
       "      <td>0.799643</td>\n",
       "      <td>1.218766</td>\n",
       "      <td>9.046697e-01</td>\n",
       "    </tr>\n",
       "    <tr>\n",
       "      <th>BRCA</th>\n",
       "      <td>0.953059</td>\n",
       "      <td>0.757229</td>\n",
       "      <td>1.199533</td>\n",
       "      <td>6.820298e-01</td>\n",
       "    </tr>\n",
       "    <tr>\n",
       "      <th>PRAD</th>\n",
       "      <td>0.665547</td>\n",
       "      <td>0.338579</td>\n",
       "      <td>1.308273</td>\n",
       "      <td>2.377070e-01</td>\n",
       "    </tr>\n",
       "  </tbody>\n",
       "</table>\n",
       "</div>"
      ],
      "text/plain": [
       "            OR       Lci       Hci             P\n",
       "THCA  2.146184  1.725237  2.669840  7.085098e-12\n",
       "LGG   1.464393  1.284892  1.668972  1.082669e-08\n",
       "COAD  1.358520  1.355313  1.361735  0.000000e+00\n",
       "PAAD  1.323129  1.045086  1.675145  1.999701e-02\n",
       "READ  1.310537  0.961540  1.786205  8.694157e-02\n",
       "OV    1.276041  0.968218  1.681730  8.350773e-02\n",
       "SKCM  1.202931  1.066077  1.357352  2.714027e-03\n",
       "GBM   1.175284  0.958076  1.441735  1.213347e-01\n",
       "LUAD  1.143546  0.970958  1.346811  1.080707e-01\n",
       "HNSC  1.098897  0.925539  1.304726  2.816465e-01\n",
       "STAD  1.064104  0.898134  1.260745  4.726480e-01\n",
       "UCEC  1.061142  0.910634  1.236525  4.469876e-01\n",
       "LIHC  1.044017  0.815480  1.336601  7.325464e-01\n",
       "BLCA  1.039646  0.883404  1.223521  6.398295e-01\n",
       "LUSC  0.987207  0.799643  1.218766  9.046697e-01\n",
       "BRCA  0.953059  0.757229  1.199533  6.820298e-01\n",
       "PRAD  0.665547  0.338579  1.308273  2.377070e-01"
      ]
     },
     "execution_count": 13,
     "metadata": {},
     "output_type": "execute_result"
    }
   ],
   "source": [
    "pd.read_csv('/cellar/users/ramarty/Data/hla_ii/generated_data/OR/MHC_II.tissue.thresh_0.low_ii_cov.txt',\n",
    "           sep= ',').sort_values('OR', ascending=False)"
   ]
  },
  {
   "cell_type": "code",
   "execution_count": 14,
   "metadata": {
    "collapsed": false
   },
   "outputs": [
    {
     "data": {
      "text/html": [
       "<div>\n",
       "<table border=\"1\" class=\"dataframe\">\n",
       "  <thead>\n",
       "    <tr style=\"text-align: right;\">\n",
       "      <th></th>\n",
       "      <th>OR</th>\n",
       "      <th>Lci</th>\n",
       "      <th>Hci</th>\n",
       "      <th>P</th>\n",
       "    </tr>\n",
       "  </thead>\n",
       "  <tbody>\n",
       "    <tr>\n",
       "      <th>PRAD</th>\n",
       "      <td>2.012736</td>\n",
       "      <td>0.934835</td>\n",
       "      <td>4.333502</td>\n",
       "      <td>7.381225e-02</td>\n",
       "    </tr>\n",
       "    <tr>\n",
       "      <th>THCA</th>\n",
       "      <td>2.003193</td>\n",
       "      <td>1.562034</td>\n",
       "      <td>2.568947</td>\n",
       "      <td>4.397989e-08</td>\n",
       "    </tr>\n",
       "    <tr>\n",
       "      <th>LGG</th>\n",
       "      <td>1.596613</td>\n",
       "      <td>1.404076</td>\n",
       "      <td>1.815553</td>\n",
       "      <td>9.587896e-13</td>\n",
       "    </tr>\n",
       "    <tr>\n",
       "      <th>COAD</th>\n",
       "      <td>1.398756</td>\n",
       "      <td>1.164197</td>\n",
       "      <td>1.680572</td>\n",
       "      <td>3.391116e-04</td>\n",
       "    </tr>\n",
       "    <tr>\n",
       "      <th>HNSC</th>\n",
       "      <td>1.289147</td>\n",
       "      <td>1.106636</td>\n",
       "      <td>1.501759</td>\n",
       "      <td>1.110415e-03</td>\n",
       "    </tr>\n",
       "    <tr>\n",
       "      <th>UCEC</th>\n",
       "      <td>1.271838</td>\n",
       "      <td>1.267742</td>\n",
       "      <td>1.275947</td>\n",
       "      <td>0.000000e+00</td>\n",
       "    </tr>\n",
       "    <tr>\n",
       "      <th>PAAD</th>\n",
       "      <td>1.213673</td>\n",
       "      <td>0.983263</td>\n",
       "      <td>1.498075</td>\n",
       "      <td>7.140914e-02</td>\n",
       "    </tr>\n",
       "    <tr>\n",
       "      <th>LIHC</th>\n",
       "      <td>1.207256</td>\n",
       "      <td>0.917391</td>\n",
       "      <td>1.588708</td>\n",
       "      <td>1.787820e-01</td>\n",
       "    </tr>\n",
       "    <tr>\n",
       "      <th>READ</th>\n",
       "      <td>1.163709</td>\n",
       "      <td>0.897797</td>\n",
       "      <td>1.508379</td>\n",
       "      <td>2.520166e-01</td>\n",
       "    </tr>\n",
       "    <tr>\n",
       "      <th>BLCA</th>\n",
       "      <td>1.139314</td>\n",
       "      <td>0.962879</td>\n",
       "      <td>1.348079</td>\n",
       "      <td>1.286763e-01</td>\n",
       "    </tr>\n",
       "    <tr>\n",
       "      <th>BRCA</th>\n",
       "      <td>1.138249</td>\n",
       "      <td>0.847727</td>\n",
       "      <td>1.528336</td>\n",
       "      <td>3.890948e-01</td>\n",
       "    </tr>\n",
       "    <tr>\n",
       "      <th>GBM</th>\n",
       "      <td>1.106092</td>\n",
       "      <td>0.931509</td>\n",
       "      <td>1.313396</td>\n",
       "      <td>2.499440e-01</td>\n",
       "    </tr>\n",
       "    <tr>\n",
       "      <th>SKCM</th>\n",
       "      <td>1.100825</td>\n",
       "      <td>1.098531</td>\n",
       "      <td>1.103124</td>\n",
       "      <td>0.000000e+00</td>\n",
       "    </tr>\n",
       "    <tr>\n",
       "      <th>LUAD</th>\n",
       "      <td>1.069175</td>\n",
       "      <td>0.906122</td>\n",
       "      <td>1.261569</td>\n",
       "      <td>4.281906e-01</td>\n",
       "    </tr>\n",
       "    <tr>\n",
       "      <th>OV</th>\n",
       "      <td>1.038205</td>\n",
       "      <td>0.746787</td>\n",
       "      <td>1.443343</td>\n",
       "      <td>8.235008e-01</td>\n",
       "    </tr>\n",
       "    <tr>\n",
       "      <th>LUSC</th>\n",
       "      <td>1.022830</td>\n",
       "      <td>0.839658</td>\n",
       "      <td>1.245961</td>\n",
       "      <td>8.225943e-01</td>\n",
       "    </tr>\n",
       "    <tr>\n",
       "      <th>STAD</th>\n",
       "      <td>0.990381</td>\n",
       "      <td>0.830710</td>\n",
       "      <td>1.180742</td>\n",
       "      <td>9.141881e-01</td>\n",
       "    </tr>\n",
       "  </tbody>\n",
       "</table>\n",
       "</div>"
      ],
      "text/plain": [
       "            OR       Lci       Hci             P\n",
       "PRAD  2.012736  0.934835  4.333502  7.381225e-02\n",
       "THCA  2.003193  1.562034  2.568947  4.397989e-08\n",
       "LGG   1.596613  1.404076  1.815553  9.587896e-13\n",
       "COAD  1.398756  1.164197  1.680572  3.391116e-04\n",
       "HNSC  1.289147  1.106636  1.501759  1.110415e-03\n",
       "UCEC  1.271838  1.267742  1.275947  0.000000e+00\n",
       "PAAD  1.213673  0.983263  1.498075  7.140914e-02\n",
       "LIHC  1.207256  0.917391  1.588708  1.787820e-01\n",
       "READ  1.163709  0.897797  1.508379  2.520166e-01\n",
       "BLCA  1.139314  0.962879  1.348079  1.286763e-01\n",
       "BRCA  1.138249  0.847727  1.528336  3.890948e-01\n",
       "GBM   1.106092  0.931509  1.313396  2.499440e-01\n",
       "SKCM  1.100825  1.098531  1.103124  0.000000e+00\n",
       "LUAD  1.069175  0.906122  1.261569  4.281906e-01\n",
       "OV    1.038205  0.746787  1.443343  8.235008e-01\n",
       "LUSC  1.022830  0.839658  1.245961  8.225943e-01\n",
       "STAD  0.990381  0.830710  1.180742  9.141881e-01"
      ]
     },
     "execution_count": 14,
     "metadata": {},
     "output_type": "execute_result"
    }
   ],
   "source": [
    "pd.read_csv('/cellar/users/ramarty/Data/hla_ii/generated_data/OR/MHC_II.tissue.thresh_0.high_ii_cov.txt',\n",
    "           sep= ',').sort_values('OR', ascending=False)"
   ]
  },
  {
   "cell_type": "markdown",
   "metadata": {
    "collapsed": true
   },
   "source": [
    "###Checking CD4 cell infiltration"
   ]
  },
  {
   "cell_type": "code",
   "execution_count": 5,
   "metadata": {
    "collapsed": false
   },
   "outputs": [],
   "source": [
    "infilatration = pd.read_csv('/cellar/users/ramarty/Data/Michelle/infiltration/tcga_tumor_infiltration.csv',\n",
    "           index_col=0)"
   ]
  },
  {
   "cell_type": "code",
   "execution_count": 6,
   "metadata": {
    "collapsed": false
   },
   "outputs": [
    {
     "data": {
      "text/html": [
       "<div>\n",
       "<table border=\"1\" class=\"dataframe\">\n",
       "  <thead>\n",
       "    <tr style=\"text-align: right;\">\n",
       "      <th></th>\n",
       "      <th>Bcells</th>\n",
       "      <th>CAFs</th>\n",
       "      <th>CD4_Tcells</th>\n",
       "      <th>CD8_Tcells</th>\n",
       "      <th>Endothelial</th>\n",
       "      <th>Macrophages</th>\n",
       "      <th>NKcells</th>\n",
       "      <th>otherCells</th>\n",
       "    </tr>\n",
       "  </thead>\n",
       "  <tbody>\n",
       "    <tr>\n",
       "      <th>TCGA-J2-8192</th>\n",
       "      <td>1.085420e-02</td>\n",
       "      <td>0.632929</td>\n",
       "      <td>0.151642</td>\n",
       "      <td>2.800826e-06</td>\n",
       "      <td>0.051002</td>\n",
       "      <td>0.041217</td>\n",
       "      <td>2.418213e-08</td>\n",
       "      <td>0.112353</td>\n",
       "    </tr>\n",
       "    <tr>\n",
       "      <th>TCGA-CJ-4885</th>\n",
       "      <td>1.378148e-02</td>\n",
       "      <td>0.016618</td>\n",
       "      <td>0.172775</td>\n",
       "      <td>7.091380e-02</td>\n",
       "      <td>0.249376</td>\n",
       "      <td>0.015379</td>\n",
       "      <td>1.736642e-10</td>\n",
       "      <td>0.461156</td>\n",
       "    </tr>\n",
       "    <tr>\n",
       "      <th>TCGA-AS-3777</th>\n",
       "      <td>1.791679e-07</td>\n",
       "      <td>0.019457</td>\n",
       "      <td>0.089918</td>\n",
       "      <td>1.803341e-04</td>\n",
       "      <td>0.093512</td>\n",
       "      <td>0.221128</td>\n",
       "      <td>2.478879e-04</td>\n",
       "      <td>0.575557</td>\n",
       "    </tr>\n",
       "    <tr>\n",
       "      <th>TCGA-80-5611</th>\n",
       "      <td>6.413054e-03</td>\n",
       "      <td>0.056618</td>\n",
       "      <td>0.056634</td>\n",
       "      <td>1.237215e-07</td>\n",
       "      <td>0.016106</td>\n",
       "      <td>0.086903</td>\n",
       "      <td>8.023214e-04</td>\n",
       "      <td>0.776524</td>\n",
       "    </tr>\n",
       "    <tr>\n",
       "      <th>TCGA-A8-A06R</th>\n",
       "      <td>3.027370e-02</td>\n",
       "      <td>0.388013</td>\n",
       "      <td>0.038336</td>\n",
       "      <td>2.228835e-03</td>\n",
       "      <td>0.063700</td>\n",
       "      <td>0.017226</td>\n",
       "      <td>3.472072e-06</td>\n",
       "      <td>0.460220</td>\n",
       "    </tr>\n",
       "  </tbody>\n",
       "</table>\n",
       "</div>"
      ],
      "text/plain": [
       "                    Bcells      CAFs  CD4_Tcells    CD8_Tcells  Endothelial  \\\n",
       "TCGA-J2-8192  1.085420e-02  0.632929    0.151642  2.800826e-06     0.051002   \n",
       "TCGA-CJ-4885  1.378148e-02  0.016618    0.172775  7.091380e-02     0.249376   \n",
       "TCGA-AS-3777  1.791679e-07  0.019457    0.089918  1.803341e-04     0.093512   \n",
       "TCGA-80-5611  6.413054e-03  0.056618    0.056634  1.237215e-07     0.016106   \n",
       "TCGA-A8-A06R  3.027370e-02  0.388013    0.038336  2.228835e-03     0.063700   \n",
       "\n",
       "              Macrophages       NKcells  otherCells  \n",
       "TCGA-J2-8192     0.041217  2.418213e-08    0.112353  \n",
       "TCGA-CJ-4885     0.015379  1.736642e-10    0.461156  \n",
       "TCGA-AS-3777     0.221128  2.478879e-04    0.575557  \n",
       "TCGA-80-5611     0.086903  8.023214e-04    0.776524  \n",
       "TCGA-A8-A06R     0.017226  3.472072e-06    0.460220  "
      ]
     },
     "execution_count": 6,
     "metadata": {},
     "output_type": "execute_result"
    }
   ],
   "source": [
    "infilatration.head()"
   ]
  },
  {
   "cell_type": "code",
   "execution_count": 7,
   "metadata": {
    "collapsed": false
   },
   "outputs": [
    {
     "data": {
      "text/html": [
       "<div>\n",
       "<table border=\"1\" class=\"dataframe\">\n",
       "  <thead>\n",
       "    <tr style=\"text-align: right;\">\n",
       "      <th></th>\n",
       "      <th>classI</th>\n",
       "      <th>classII</th>\n",
       "      <th>Tissue</th>\n",
       "      <th>Age</th>\n",
       "      <th>Race</th>\n",
       "      <th>homozygous_classI</th>\n",
       "      <th>homozygous_classII</th>\n",
       "      <th>homozygous_total</th>\n",
       "      <th>passenger_coverageI</th>\n",
       "      <th>passenger_coverageII</th>\n",
       "      <th>classI_cat</th>\n",
       "      <th>classII_cat</th>\n",
       "      <th>classI_het</th>\n",
       "      <th>classII_het</th>\n",
       "    </tr>\n",
       "  </thead>\n",
       "  <tbody>\n",
       "    <tr>\n",
       "      <th>TCGA-02-0003</th>\n",
       "      <td>0.169941</td>\n",
       "      <td>0.073674</td>\n",
       "      <td>GBM</td>\n",
       "      <td>50.0</td>\n",
       "      <td>WHITE</td>\n",
       "      <td>0.0</td>\n",
       "      <td>1.0</td>\n",
       "      <td>1.0</td>\n",
       "      <td>0.169956</td>\n",
       "      <td>0.097588</td>\n",
       "      <td>other</td>\n",
       "      <td>other</td>\n",
       "      <td>het</td>\n",
       "      <td>het</td>\n",
       "    </tr>\n",
       "    <tr>\n",
       "      <th>TCGA-02-0033</th>\n",
       "      <td>0.184676</td>\n",
       "      <td>0.066798</td>\n",
       "      <td>GBM</td>\n",
       "      <td>54.0</td>\n",
       "      <td>WHITE</td>\n",
       "      <td>0.0</td>\n",
       "      <td>2.0</td>\n",
       "      <td>2.0</td>\n",
       "      <td>0.155702</td>\n",
       "      <td>0.094298</td>\n",
       "      <td>high</td>\n",
       "      <td>other</td>\n",
       "      <td>het</td>\n",
       "      <td>het</td>\n",
       "    </tr>\n",
       "    <tr>\n",
       "      <th>TCGA-02-0047</th>\n",
       "      <td>0.120825</td>\n",
       "      <td>0.085462</td>\n",
       "      <td>GBM</td>\n",
       "      <td>78.0</td>\n",
       "      <td>WHITE</td>\n",
       "      <td>2.0</td>\n",
       "      <td>1.0</td>\n",
       "      <td>3.0</td>\n",
       "      <td>0.164474</td>\n",
       "      <td>0.104167</td>\n",
       "      <td>low</td>\n",
       "      <td>high</td>\n",
       "      <td>homo</td>\n",
       "      <td>het</td>\n",
       "    </tr>\n",
       "    <tr>\n",
       "      <th>TCGA-02-0055</th>\n",
       "      <td>0.152259</td>\n",
       "      <td>0.066798</td>\n",
       "      <td>GBM</td>\n",
       "      <td>62.0</td>\n",
       "      <td>WHITE</td>\n",
       "      <td>0.0</td>\n",
       "      <td>2.0</td>\n",
       "      <td>2.0</td>\n",
       "      <td>0.166667</td>\n",
       "      <td>0.080044</td>\n",
       "      <td>low</td>\n",
       "      <td>other</td>\n",
       "      <td>het</td>\n",
       "      <td>het</td>\n",
       "    </tr>\n",
       "    <tr>\n",
       "      <th>TCGA-02-2466</th>\n",
       "      <td>0.181729</td>\n",
       "      <td>0.075639</td>\n",
       "      <td>GBM</td>\n",
       "      <td>61.0</td>\n",
       "      <td>WHITE</td>\n",
       "      <td>0.0</td>\n",
       "      <td>1.0</td>\n",
       "      <td>1.0</td>\n",
       "      <td>0.174342</td>\n",
       "      <td>0.093202</td>\n",
       "      <td>other</td>\n",
       "      <td>other</td>\n",
       "      <td>het</td>\n",
       "      <td>het</td>\n",
       "    </tr>\n",
       "  </tbody>\n",
       "</table>\n",
       "</div>"
      ],
      "text/plain": [
       "                classI   classII Tissue   Age   Race  homozygous_classI  \\\n",
       "TCGA-02-0003  0.169941  0.073674    GBM  50.0  WHITE                0.0   \n",
       "TCGA-02-0033  0.184676  0.066798    GBM  54.0  WHITE                0.0   \n",
       "TCGA-02-0047  0.120825  0.085462    GBM  78.0  WHITE                2.0   \n",
       "TCGA-02-0055  0.152259  0.066798    GBM  62.0  WHITE                0.0   \n",
       "TCGA-02-2466  0.181729  0.075639    GBM  61.0  WHITE                0.0   \n",
       "\n",
       "              homozygous_classII  homozygous_total  passenger_coverageI  \\\n",
       "TCGA-02-0003                 1.0               1.0             0.169956   \n",
       "TCGA-02-0033                 2.0               2.0             0.155702   \n",
       "TCGA-02-0047                 1.0               3.0             0.164474   \n",
       "TCGA-02-0055                 2.0               2.0             0.166667   \n",
       "TCGA-02-2466                 1.0               1.0             0.174342   \n",
       "\n",
       "              passenger_coverageII classI_cat classII_cat classI_het  \\\n",
       "TCGA-02-0003              0.097588      other       other        het   \n",
       "TCGA-02-0033              0.094298       high       other        het   \n",
       "TCGA-02-0047              0.104167        low        high       homo   \n",
       "TCGA-02-0055              0.080044        low       other        het   \n",
       "TCGA-02-2466              0.093202      other       other        het   \n",
       "\n",
       "             classII_het  \n",
       "TCGA-02-0003         het  \n",
       "TCGA-02-0033         het  \n",
       "TCGA-02-0047         het  \n",
       "TCGA-02-0055         het  \n",
       "TCGA-02-2466         het  "
      ]
     },
     "execution_count": 7,
     "metadata": {},
     "output_type": "execute_result"
    }
   ],
   "source": [
    "df.head()"
   ]
  },
  {
   "cell_type": "code",
   "execution_count": 8,
   "metadata": {
    "collapsed": false
   },
   "outputs": [
    {
     "data": {
      "text/plain": [
       "<matplotlib.axes._subplots.AxesSubplot at 0x7f09621abf90>"
      ]
     },
     "execution_count": 8,
     "metadata": {},
     "output_type": "execute_result"
    },
    {
     "data": {
      "image/png": "[encoded data removed]",
      "text/plain": [
       "<matplotlib.figure.Figure at 0x7f0962686c90>"
      ]
     },
     "metadata": {},
     "output_type": "display_data"
    }
   ],
   "source": [
    "infilatration['CD4_Tcells'].hist()"
   ]
  },
  {
   "cell_type": "code",
   "execution_count": 9,
   "metadata": {
    "collapsed": false
   },
   "outputs": [],
   "source": [
    "df_both = pd.merge(df, infilatration, left_index=True, right_index=True)"
   ]
  },
  {
   "cell_type": "code",
   "execution_count": 11,
   "metadata": {
    "collapsed": false
   },
   "outputs": [
    {
     "data": {
      "text/plain": [
       "1.0    1972\n",
       "0.0    1405\n",
       "2.0    1010\n",
       "3.0     234\n",
       "4.0     132\n",
       "5.0      53\n",
       "Name: homozygous_classII, dtype: int64"
      ]
     },
     "execution_count": 11,
     "metadata": {},
     "output_type": "execute_result"
    }
   ],
   "source": [
    "df_both.homozygous_classII.value_counts()"
   ]
  },
  {
   "cell_type": "code",
   "execution_count": 17,
   "metadata": {
    "collapsed": false
   },
   "outputs": [
    {
     "data": {
      "text/plain": [
       "MannwhitneyuResult(statistic=126271.0, pvalue=0.2647575286308349)"
      ]
     },
     "execution_count": 17,
     "metadata": {},
     "output_type": "execute_result"
    }
   ],
   "source": [
    "sp.mannwhitneyu(df_both[df_both.homozygous_classII > 3].CD4_Tcells,\n",
    "                df_both[df_both.homozygous_classII < 1].CD4_Tcells)"
   ]
  },
  {
   "cell_type": "code",
   "execution_count": 15,
   "metadata": {
    "collapsed": false
   },
   "outputs": [
    {
     "name": "stdout",
     "output_type": "stream",
     "text": [
      "0.072945702559\n",
      "0.088999166341\n"
     ]
    }
   ],
   "source": [
    "print df_both[df_both.homozygous_classII > 4].CD4_Tcells.mean()\n",
    "print df_both[df_both.homozygous_classII < 1].CD4_Tcells.mean()"
   ]
  },
  {
   "cell_type": "code",
   "execution_count": 21,
   "metadata": {
    "collapsed": false
   },
   "outputs": [
    {
     "data": {
      "text/plain": [
       "<seaborn.axisgrid.JointGrid at 0x7f2ebbe6ad10>"
      ]
     },
     "execution_count": 21,
     "metadata": {},
     "output_type": "execute_result"
    },
    {
     "data": {
      "image/png": "[encoded data removed]",
      "text/plain": [
       "<matplotlib.figure.Figure at 0x7f2ebbe6ad50>"
      ]
     },
     "metadata": {},
     "output_type": "display_data"
    }
   ],
   "source": [
    "sns.jointplot(df_both.classII, df_both.CD4_Tcells)"
   ]
  },
  {
   "cell_type": "code",
   "execution_count": 18,
   "metadata": {
    "collapsed": false
   },
   "outputs": [
    {
     "data": {
      "text/plain": [
       "<seaborn.axisgrid.JointGrid at 0x7f2ebf166f90>"
      ]
     },
     "execution_count": 18,
     "metadata": {},
     "output_type": "execute_result"
    },
    {
     "data": {
      "image/png": "[encoded data removed]",
      "text/plain": [
       "<matplotlib.figure.Figure at 0x7f2ebf166fd0>"
      ]
     },
     "metadata": {},
     "output_type": "display_data"
    }
   ],
   "source": [
    "sns.jointplot(df_both.homozygous_classII, df_both.CD4_Tcells)"
   ]
  },
  {
   "cell_type": "markdown",
   "metadata": {
    "collapsed": true
   },
   "source": [
    "### Variation of small sample sizes"
   ]
  },
  {
   "cell_type": "code",
   "execution_count": 9,
   "metadata": {
    "collapsed": true
   },
   "outputs": [],
   "source": [
    "out = '/cellar/users/ramarty/Data/hla_ii/presentation/clean_matrices/combined_classes/random/'"
   ]
  },
  {
   "cell_type": "code",
   "execution_count": 10,
   "metadata": {
    "collapsed": false
   },
   "outputs": [
    {
     "data": {
      "text/plain": [
       "Index([u'TCGA-02-2470', u'TCGA-02-2486', u'TCGA-04-1331', u'TCGA-06-0157',\n",
       "       u'TCGA-06-0167', u'TCGA-06-0189', u'TCGA-06-0686', u'TCGA-06-0749',\n",
       "       u'TCGA-06-0878', u'TCGA-06-5411',\n",
       "       ...\n",
       "       u'TCGA-XF-AAMR', u'TCGA-XF-AAN0', u'TCGA-XF-AAN5', u'TCGA-XV-A9W2',\n",
       "       u'TCGA-Y8-A8RY', u'TCGA-YC-A9TC', u'TCGA-ZF-A9R2', u'TCGA-ZF-A9R7',\n",
       "       u'TCGA-ZF-AA4X', u'TCGA-ZF-AA53'],\n",
       "      dtype='object', length=498)"
      ]
     },
     "execution_count": 10,
     "metadata": {},
     "output_type": "execute_result"
    }
   ],
   "source": [
    "df[df.classII_het == 'homo'].index"
   ]
  },
  {
   "cell_type": "code",
   "execution_count": 13,
   "metadata": {
    "collapsed": true
   },
   "outputs": [],
   "source": [
    "class_label = 'class_ii'\n",
    "patient_affinities = pd.read_csv('/cellar/users/ramarty/Data/hla_ii/presentation/clean_matrices/combined_classes/patient_affinities.{0}.csv'.format(class_label),\n",
    "                                 index_col=0)\n",
    "patient_mutations = pd.read_csv('/cellar/users/ramarty/Data/hla_ii/presentation/clean_matrices/combined_classes/patient_mutations.csv',\n",
    "                                 index_col=0)"
   ]
  },
  {
   "cell_type": "code",
   "execution_count": 14,
   "metadata": {
    "collapsed": false
   },
   "outputs": [
    {
     "name": "stdout",
     "output_type": "stream",
     "text": [
      "498\n"
     ]
    }
   ],
   "source": [
    "small_sample_size = len(df[df.classII_het == 'homo'].index)\n",
    "print small_sample_size"
   ]
  },
  {
   "cell_type": "code",
   "execution_count": 54,
   "metadata": {
    "collapsed": false
   },
   "outputs": [],
   "source": [
    "for i in range(100):\n",
    "    patient_samples = list(pd.Series(patient_affinities.index).sample(small_sample_size))\n",
    "    patient_affinities.ix[patient_samples].to_csv(out + 'patient_affinities.{0}.small_sample_{1}.csv'.format(class_label, i))\n",
    "    patient_mutations.ix[patient_samples].to_csv(out + 'patient_mutations.{0}.small_sample_{1}.csv'.format(class_label, i))"
   ]
  },
  {
   "cell_type": "code",
   "execution_count": null,
   "metadata": {
    "collapsed": true
   },
   "outputs": [],
   "source": []
  },
  {
   "cell_type": "code",
   "execution_count": 25,
   "metadata": {
    "collapsed": true
   },
   "outputs": [],
   "source": [
    "def create_cluster_script(thresholds, models, tissue_fs, mut_fs, aff1_fs, aff2_fs, names, pans):\n",
    "    \n",
    "    new_script_file = '/cellar/users/ramarty/Projects/hla_ii/data_analysis/patient_selection/OR.helper.random.sh'\n",
    "    \n",
    "    with open(new_script_file, 'w') as out_file:\n",
    "        out_file.write(\"#! /bin/csh\\n\")\n",
    "        out_file.write(\"#$ -V\\n\")\n",
    "        out_file.write(\"#$ -S /bin/csh\\n\")\n",
    "        out_file.write(\"#$ -o /cellar/users/ramarty/Data/hla_ii/sge-system_files\\n\")\n",
    "        out_file.write(\"#$ -e /cellar/users/ramarty/Data/hla_ii/sge-system_files\\n\")\n",
    "        out_file.write(\"#$ -cwd\\n\")\n",
    "        #out_file.write(\"#$ -t 1-2\\n\".format(len(thresholds)))\n",
    "        out_file.write(\"#$ -t 1-{0}\\n\".format(len(thresholds)))\n",
    "        out_file.write(\"#$ -l h_vmem=30G\\n\")\n",
    "        out_file.write(\"#$ -tc 50\\n\")\n",
    "        out_file.write(\"#$ -l long\")\n",
    "        out_file.write(\"\\n\")\n",
    "\n",
    "        out_file.write(\"set thresholds=({0})\\n\".format(\" \".join(thresholds)))\n",
    "        out_file.write(\"set models=({0})\\n\".format(\" \".join(models)))\n",
    "        out_file.write(\"set tissue_fs=({0})\\n\".format(\" \".join(tissue_fs)))\n",
    "        out_file.write(\"set mut_fs=({0})\\n\".format(\" \".join(mut_fs)))\n",
    "        out_file.write(\"set aff1_fs=({0})\\n\".format(\" \".join(aff1_fs)))\n",
    "        out_file.write(\"set aff2_fs=({0})\\n\".format(\" \".join(aff2_fs)))\n",
    "        out_file.write(\"set names=({0})\\n\".format(\" \".join(names)))\n",
    "        out_file.write(\"set pans=({0})\\n\".format(\" \".join(pans)))\n",
    "        out_file.write(\"\\n\")\n",
    "\n",
    "        out_file.write(\"set threshold=$thresholds[$SGE_TASK_ID]\\n\")\n",
    "        out_file.write(\"set model=$models[$SGE_TASK_ID]\\n\")\n",
    "        out_file.write(\"set tissue_f=$tissue_fs[$SGE_TASK_ID]\\n\")\n",
    "        out_file.write(\"set mut_f=$mut_fs[$SGE_TASK_ID]\\n\")\n",
    "        out_file.write(\"set aff1_f=$aff1_fs[$SGE_TASK_ID]\\n\")\n",
    "        out_file.write(\"set aff2_f=$aff2_fs[$SGE_TASK_ID]\\n\")\n",
    "        out_file.write(\"set name=$names[$SGE_TASK_ID]\\n\")\n",
    "        out_file.write(\"set pan=$pans[$SGE_TASK_ID]\\n\")\n",
    "        out_file.write(\"\\n\")\n",
    "        \n",
    "        out_file.write(\"date\\n\")\n",
    "        out_file.write(\"hostname\\n\")\n",
    "        out_file.write(\"\\n\")\n",
    "  \n",
    "        out_file.write(\"Rscript --vanilla /cellar/users/ramarty/Projects/hla_ii/data_analysis/patient_selection/OR.R $threshold $model $tissue_f $mut_f $aff1_f $aff2_f $name $pan\\n\")\n",
    "        out_file.write(\"\\n\")\n",
    "                       \n",
    "        out_file.write(\"date\\n\")"
   ]
  },
  {
   "cell_type": "code",
   "execution_count": 26,
   "metadata": {
    "collapsed": true
   },
   "outputs": [],
   "source": [
    "class_label = 'class_ii'\n",
    "iterations = 100\n",
    "models = ['0']*iterations\n",
    "pans = ['1']*iterations\n",
    "thresholds = ['0']*iterations\n",
    "tissue_fs = ['patient_tissues.csv']*iterations\n",
    "mut_fs = ['combined_classes/random/patient_mutations.{0}.small_sample_{1}.csv'.format(class_label, i) for i in range(100)]*iterations\n",
    "aff1_fs = ['combined_classes/random/patient_affinities.{0}.small_sample_{1}.csv'.format(class_label, i) for i in range(100)]*iterations\n",
    "aff2_fs = ['patient_affinities.cancer.all.csv']*iterations\n",
    "names = ['random.{0}.{1}'.format(class_label, i) for i in range(100)]*iterations\n",
    "\n",
    "create_cluster_script(thresholds, models, tissue_fs, mut_fs, aff1_fs, aff2_fs, names, pans)"
   ]
  },
  {
   "cell_type": "markdown",
   "metadata": {},
   "source": [
    "Checking results"
   ]
  },
  {
   "cell_type": "code",
   "execution_count": 100,
   "metadata": {
    "collapsed": false
   },
   "outputs": [],
   "source": [
    "ORs = []\n",
    "for i in range(100):\n",
    "    try:\n",
    "        ORs.append(pd.read_csv('/cellar/users/ramarty/Data/hla_ii/generated_data/OR/MHC_II.pan.thresh_2.random.class_i.{0}.txt'.format(i),\n",
    "               sep= ' ')['OR'][0])\n",
    "    except:\n",
    "        None"
   ]
  },
  {
   "cell_type": "code",
   "execution_count": 101,
   "metadata": {
    "collapsed": false
   },
   "outputs": [
    {
     "data": {
      "text/plain": [
       "<matplotlib.text.Text at 0x7f9efd668490>"
      ]
     },
     "execution_count": 101,
     "metadata": {},
     "output_type": "execute_result"
    },
    {
     "data": {
      "image/png": "[encoded data removed]",
      "text/plain": [
       "<matplotlib.figure.Figure at 0x7f9efd6ac4d0>"
      ]
     },
     "metadata": {},
     "output_type": "display_data"
    }
   ],
   "source": [
    "pd.Series(ORs).hist(bins=20)\n",
    "plt.xlabel('OR')"
   ]
  },
  {
   "cell_type": "code",
   "execution_count": 55,
   "metadata": {
    "collapsed": true
   },
   "outputs": [],
   "source": [
    "ORs = []\n",
    "for i in range(100):\n",
    "    try:\n",
    "        ORs.append(pd.read_csv('/cellar/users/ramarty/Data/hla_ii/generated_data/OR/MHC_II.pan.thresh_0.random.class_ii.{0}.txt'.format(i),\n",
    "               sep= ' ')['OR'][0])\n",
    "    except:\n",
    "        None"
   ]
  },
  {
   "cell_type": "code",
   "execution_count": 56,
   "metadata": {
    "collapsed": false
   },
   "outputs": [
    {
     "data": {
      "text/plain": [
       "<matplotlib.text.Text at 0x7ffb392f3e90>"
      ]
     },
     "execution_count": 56,
     "metadata": {},
     "output_type": "execute_result"
    },
    {
     "data": {
      "image/png": "[encoded data removed]",
      "text/plain": [
       "<matplotlib.figure.Figure at 0x7ffb393a7a10>"
      ]
     },
     "metadata": {},
     "output_type": "display_data"
    }
   ],
   "source": [
    "pd.Series(ORs).hist(bins=20)\n",
    "plt.xlabel('OR')"
   ]
  },
  {
   "cell_type": "code",
   "execution_count": 57,
   "metadata": {
    "collapsed": false,
    "scrolled": true
   },
   "outputs": [
    {
     "data": {
      "text/plain": [
       "0.04"
      ]
     },
     "execution_count": 57,
     "metadata": {},
     "output_type": "execute_result"
    }
   ],
   "source": [
    "len([x for x in ORs if x > 1.31]) / float(len(ORs))"
   ]
  },
  {
   "cell_type": "code",
   "execution_count": 58,
   "metadata": {
    "collapsed": false
   },
   "outputs": [
    {
     "data": {
      "text/plain": [
       "100"
      ]
     },
     "execution_count": 58,
     "metadata": {},
     "output_type": "execute_result"
    }
   ],
   "source": [
    "len(ORs)"
   ]
  },
  {
   "cell_type": "code",
   "execution_count": null,
   "metadata": {
    "collapsed": true
   },
   "outputs": [],
   "source": []
  }
 ],
 "metadata": {
  "kernelspec": {
   "display_name": "Python 2",
   "language": "python",
   "name": "python2"
  },
  "language_info": {
   "codemirror_mode": {
    "name": "ipython",
    "version": 2
   },
   "file_extension": ".py",
   "mimetype": "text/x-python",
   "name": "python",
   "nbconvert_exporter": "python",
   "pygments_lexer": "ipython2",
   "version": "2.7.14"
  }
 },
 "nbformat": 4,
 "nbformat_minor": 0
}
