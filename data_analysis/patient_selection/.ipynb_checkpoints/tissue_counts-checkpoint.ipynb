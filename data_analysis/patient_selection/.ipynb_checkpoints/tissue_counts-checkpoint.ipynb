{
 "cells": [
  {
   "cell_type": "code",
   "execution_count": 16,
   "metadata": {
    "collapsed": true
   },
   "outputs": [],
   "source": [
    "import pandas as pd"
   ]
  },
  {
   "cell_type": "code",
   "execution_count": 17,
   "metadata": {
    "collapsed": true
   },
   "outputs": [],
   "source": [
    "tissues = pd.read_csv('../../../clean_matrices/patient_tissues.csv', index_col=0)"
   ]
  },
  {
   "cell_type": "code",
   "execution_count": 23,
   "metadata": {
    "collapsed": true
   },
   "outputs": [],
   "source": [
    "patient_affinities = pd.read_csv('../../../clean_matrices/patient_affinities.cancer.DR.csv', index_col=0)"
   ]
  },
  {
   "cell_type": "code",
   "execution_count": 24,
   "metadata": {
    "collapsed": false
   },
   "outputs": [],
   "source": [
    "patients = list(patient_affinities.index)"
   ]
  },
  {
   "cell_type": "code",
   "execution_count": 25,
   "metadata": {
    "collapsed": false
   },
   "outputs": [
    {
     "data": {
      "text/plain": [
       "LUAD    311\n",
       "HNSC    295\n",
       "LGG     265\n",
       "GBM     253\n",
       "PRAD    250\n",
       "LUSC    249\n",
       "THCA    241\n",
       "STAD    236\n",
       "SKCM    232\n",
       "LIHC    219\n",
       "COAD    199\n",
       "BLCA    191\n",
       "KIRC    171\n",
       "BRCA    160\n",
       "KIRP    146\n",
       "OV      129\n",
       "LAML     84\n",
       "PAAD     82\n",
       "PCPG     78\n",
       "TGCT     69\n",
       "MESO     63\n",
       "READ     63\n",
       "ACC      58\n",
       "UCEC     53\n",
       "KICH     35\n",
       "UVM      27\n",
       "UCS      24\n",
       "CESC     21\n",
       "DLBC     19\n",
       "Name: Tissue, dtype: int64"
      ]
     },
     "execution_count": 25,
     "metadata": {},
     "output_type": "execute_result"
    }
   ],
   "source": [
    "tissues.ix[patients].Tissue.value_counts()"
   ]
  },
  {
   "cell_type": "markdown",
   "metadata": {
    "collapsed": true
   },
   "source": [
    "Debugging"
   ]
  },
  {
   "cell_type": "code",
   "execution_count": 4,
   "metadata": {
    "collapsed": true
   },
   "outputs": [],
   "source": [
    "import numpy as np\n",
    "import math"
   ]
  },
  {
   "cell_type": "code",
   "execution_count": 7,
   "metadata": {
    "collapsed": false
   },
   "outputs": [
    {
     "data": {
      "text/plain": [
       "1.8094085067159598"
      ]
     },
     "execution_count": 7,
     "metadata": {},
     "output_type": "execute_result"
    }
   ],
   "source": [
    "math.exp(0.593)"
   ]
  },
  {
   "cell_type": "code",
   "execution_count": 8,
   "metadata": {
    "collapsed": false
   },
   "outputs": [
    {
     "data": {
      "text/plain": [
       "1.0185906946544256"
      ]
     },
     "execution_count": 8,
     "metadata": {},
     "output_type": "execute_result"
    }
   ],
   "source": [
    "math.exp(0.01842)"
   ]
  },
  {
   "cell_type": "code",
   "execution_count": 26,
   "metadata": {
    "collapsed": false
   },
   "outputs": [
    {
     "data": {
      "text/plain": [
       "(1.282806171774919, 1.2442529717749191, 1.321359371774919)"
      ]
     },
     "execution_count": 26,
     "metadata": {},
     "output_type": "execute_result"
    }
   ],
   "source": [
    "# DR\n",
    "logxsel_estimate = 0.24905\n",
    "error = 0.01967\n",
    "math.exp(logxsel_estimate), math.exp(logxsel_estimate)-1.96*error, math.exp(logxsel_estimate)+1.96*error"
   ]
  },
  {
   "cell_type": "code",
   "execution_count": 27,
   "metadata": {
    "collapsed": false
   },
   "outputs": [
    {
     "data": {
      "text/plain": [
       "(1.2485963495415566, 1.2077695495415566, 1.2894231495415567)"
      ]
     },
     "execution_count": 27,
     "metadata": {},
     "output_type": "execute_result"
    }
   ],
   "source": [
    "# all\n",
    "logxsel_estimate = 0.22202\n",
    "error = 0.02083\n",
    "math.exp(logxsel_estimate), math.exp(logxsel_estimate)-1.96*error, math.exp(logxsel_estimate)+1.96*error"
   ]
  },
  {
   "cell_type": "code",
   "execution_count": null,
   "metadata": {
    "collapsed": true
   },
   "outputs": [],
   "source": []
  }
 ],
 "metadata": {
  "anaconda-cloud": {},
  "kernelspec": {
   "display_name": "Python [conda root]",
   "language": "python",
   "name": "conda-root-py"
  },
  "language_info": {
   "codemirror_mode": {
    "name": "ipython",
    "version": 2
   },
   "file_extension": ".py",
   "mimetype": "text/x-python",
   "name": "python",
   "nbconvert_exporter": "python",
   "pygments_lexer": "ipython2",
   "version": "2.7.12"
  }
 },
 "nbformat": 4,
 "nbformat_minor": 1
}
