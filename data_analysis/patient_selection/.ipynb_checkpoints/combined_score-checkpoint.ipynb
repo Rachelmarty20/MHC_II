{
 "cells": [
  {
   "cell_type": "code",
   "execution_count": 6,
   "metadata": {
    "collapsed": false
   },
   "outputs": [],
   "source": [
    "library(parallel)\n",
    "library(lme4)\n",
    "library(mgcv)\n",
    "library(xtable)"
   ]
  },
  {
   "cell_type": "code",
   "execution_count": 7,
   "metadata": {
    "collapsed": true
   },
   "outputs": [],
   "source": [
    "PATH_TO_DATA = '/Users/rachel/Documents/research/hla_ii/clean_matrices/'"
   ]
  },
  {
   "cell_type": "code",
   "execution_count": 8,
   "metadata": {
    "collapsed": true
   },
   "outputs": [],
   "source": [
    "get_or <- function(fit) { c(exp(c(coef(fit)[2,1],coef(fit)[2,1]-1.96*coef(fit)[2,2],coef(fit)[2,1]+1.96*coef(fit)[2,2])),coef(fit)[2,4]) }"
   ]
  },
  {
   "cell_type": "code",
   "execution_count": 9,
   "metadata": {
    "collapsed": true
   },
   "outputs": [],
   "source": [
    "#Format data\n",
    "tissue <- read.csv(paste(PATH_TO_DATA, 'patient_tissues.csv', sep=\"\"),header=TRUE)\n",
    "mut <- read.csv(paste(PATH_TO_DATA, 'combined_classes/patient_mutations.csv', sep=\"\"),header=TRUE)\n",
    "aff1 <- read.csv(paste(PATH_TO_DATA, 'combined_classes/patient_affinities.class_i.csv', sep=\"\"),header=TRUE)\n",
    "aff2 <- read.csv(paste(PATH_TO_DATA, 'combined_classes/patient_affinities.class_ii.csv', sep=\"\"),header=TRUE)\n",
    "patient <- as.character(mut[,1])\n",
    "mut <- as.matrix(mut[,-1])\n",
    "aff1 <- as.matrix(aff1[,-1])\n",
    "aff2 <- as.matrix(aff2[,-1])\n",
    "rownames(mut) <- rownames(aff1) <- rownames(aff2) <- patient"
   ]
  },
  {
   "cell_type": "code",
   "execution_count": 10,
   "metadata": {
    "collapsed": true
   },
   "outputs": [],
   "source": [
    "y= as.vector(mut); x= as.vector(aff1); z= as.vector(aff2)\n",
    "gene= rep(colnames(mut),each=nrow(mut))\n",
    "pat= rep(rownames(mut),ncol(mut))\n",
    "nmut= colSums(mut)\n",
    "sel= gene %in% names(nmut[nmut>=5])"
   ]
  },
  {
   "cell_type": "code",
   "execution_count": 12,
   "metadata": {
    "collapsed": false
   },
   "outputs": [
    {
     "name": "stderr",
     "output_type": "stream",
     "text": [
      "Warning message in checkConv(attr(opt, \"derivs\"), opt$par, ctrl = control$checkConv, :\n",
      "“Model is nearly unidentifiable: very large eigenvalue\n",
      " - Rescale variables?”"
     ]
    },
    {
     "data": {
      "text/plain": [
       "Generalized linear mixed model fit by maximum likelihood (Laplace\n",
       "  Approximation) [glmerMod]\n",
       " Family: binomial  ( logit )\n",
       "Formula: y[sel] ~ z[sel] + (1 | pat[sel])\n",
       "\n",
       "     AIC      BIC   logLik deviance df.resid \n",
       " 33282.8  33317.1 -16638.4  33276.8   696792 \n",
       "\n",
       "Scaled residuals: \n",
       "    Min      1Q  Median      3Q     Max \n",
       "-0.0774 -0.0631 -0.0584 -0.0555 18.7795 \n",
       "\n",
       "Random effects:\n",
       " Groups   Name        Variance  Std.Dev. \n",
       " pat[sel] (Intercept) 2.374e-11 4.873e-06\n",
       "Number of obs: 696795, groups:  pat[sel], 4223\n",
       "\n",
       "Fixed effects:\n",
       "              Estimate Std. Error z value Pr(>|z|)    \n",
       "(Intercept) -5.8657722  0.0337801 -173.65   <2e-16 ***\n",
       "z[sel]       0.0078761  0.0008106    9.72   <2e-16 ***\n",
       "---\n",
       "Signif. codes:  0 ‘***’ 0.001 ‘**’ 0.01 ‘*’ 0.05 ‘.’ 0.1 ‘ ’ 1\n",
       "\n",
       "Correlation of Fixed Effects:\n",
       "       (Intr)\n",
       "z[sel] -0.807\n",
       "convergence code: 0\n",
       "Model is nearly unidentifiable: very large eigenvalue\n",
       " - Rescale variables?\n"
      ]
     },
     "metadata": {},
     "output_type": "display_data"
    }
   ],
   "source": [
    "# only class i\n",
    "lme2= glmer(y[sel] ~ z[sel] + (1|pat[sel]), family='binomial')\n",
    "summary(lme2)"
   ]
  },
  {
   "cell_type": "code",
   "execution_count": 11,
   "metadata": {
    "collapsed": false
   },
   "outputs": [
    {
     "data": {
      "text/plain": [
       "Generalized linear mixed model fit by maximum likelihood (Laplace\n",
       "  Approximation) [glmerMod]\n",
       " Family: binomial  ( logit )\n",
       "Formula: y[sel] ~ log(x[sel]) + log(z[sel]) + (1 | pat[sel])\n",
       "\n",
       "     AIC      BIC   logLik deviance df.resid \n",
       " 33034.7  33080.5 -16513.4  33026.7   696791 \n",
       "\n",
       "Scaled residuals: \n",
       "   Min     1Q Median     3Q    Max \n",
       "-0.098 -0.067 -0.060 -0.052 41.507 \n",
       "\n",
       "Random effects:\n",
       " Groups   Name        Variance  Std.Dev. \n",
       " pat[sel] (Intercept) 2.873e-14 1.695e-07\n",
       "Number of obs: 696795, groups:  pat[sel], 4223\n",
       "\n",
       "Fixed effects:\n",
       "            Estimate Std. Error z value Pr(>|z|)    \n",
       "(Intercept) -6.31899    0.06544  -96.56   <2e-16 ***\n",
       "log(x[sel])  0.22863    0.01856   12.32   <2e-16 ***\n",
       "log(z[sel])  0.17165    0.02037    8.43   <2e-16 ***\n",
       "---\n",
       "Signif. codes:  0 ‘***’ 0.001 ‘**’ 0.01 ‘*’ 0.05 ‘.’ 0.1 ‘ ’ 1\n",
       "\n",
       "Correlation of Fixed Effects:\n",
       "            (Intr) lg(x[])\n",
       "log(x[sel])  0.021        \n",
       "log(z[sel]) -0.916 -0.293 "
      ]
     },
     "metadata": {},
     "output_type": "display_data"
    }
   ],
   "source": [
    "# both class i and class ii (additive)\n",
    "lme1= glmer(y[sel] ~ log(x[sel]) + log(z[sel]) + (1|pat[sel]), family='binomial')\n",
    "summary(lme1)"
   ]
  },
  {
   "cell_type": "code",
   "execution_count": null,
   "metadata": {
    "collapsed": true
   },
   "outputs": [],
   "source": []
  }
 ],
 "metadata": {
  "anaconda-cloud": {},
  "kernelspec": {
   "display_name": "R",
   "language": "R",
   "name": "ir"
  },
  "language_info": {
   "codemirror_mode": "r",
   "file_extension": ".r",
   "mimetype": "text/x-r-source",
   "name": "R",
   "pygments_lexer": "r",
   "version": "3.3.2"
  }
 },
 "nbformat": 4,
 "nbformat_minor": 1
}
