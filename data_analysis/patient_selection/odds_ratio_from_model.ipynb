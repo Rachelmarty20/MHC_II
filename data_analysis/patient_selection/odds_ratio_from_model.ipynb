{
 "cells": [
  {
   "cell_type": "code",
   "execution_count": 16,
   "metadata": {},
   "outputs": [],
   "source": [
    "import pandas as pd\n",
    "import numpy as np\n",
    "import math"
   ]
  },
  {
   "cell_type": "code",
   "execution_count": 7,
   "metadata": {},
   "outputs": [
    {
     "data": {
      "text/plain": [
       "1.8094085067159598"
      ]
     },
     "execution_count": 7,
     "output_type": "execute_result",
     "metadata": {}
    }
   ],
   "source": [
    "math.exp(0.593)"
   ]
  },
  {
   "cell_type": "code",
   "execution_count": 8,
   "metadata": {},
   "outputs": [
    {
     "data": {
      "text/plain": [
       "1.0185906946544256"
      ]
     },
     "execution_count": 8,
     "output_type": "execute_result",
     "metadata": {}
    }
   ],
   "source": [
    "math.exp(0.01842)"
   ]
  },
  {
   "cell_type": "code",
   "execution_count": 26,
   "metadata": {},
   "outputs": [
    {
     "data": {
      "text/plain": [
       "(1.282806171774919, 1.2442529717749191, 1.321359371774919)"
      ]
     },
     "execution_count": 26,
     "output_type": "execute_result",
     "metadata": {}
    }
   ],
   "source": [
    "# DR\n",
    "logxsel_estimate = 0.24905\n",
    "error = 0.01967\n",
    "math.exp(logxsel_estimate), math.exp(logxsel_estimate)-1.96*error, math.exp(logxsel_estimate)+1.96*error"
   ]
  },
  {
   "cell_type": "code",
   "execution_count": 27,
   "metadata": {},
   "outputs": [
    {
     "data": {
      "text/plain": [
       "(1.2485963495415566, 1.2077695495415566, 1.2894231495415567)"
      ]
     },
     "execution_count": 27,
     "output_type": "execute_result",
     "metadata": {}
    }
   ],
   "source": [
    "# all\n",
    "logxsel_estimate = 0.22202\n",
    "error = 0.02083\n",
    "math.exp(logxsel_estimate), math.exp(logxsel_estimate)-1.96*error, math.exp(logxsel_estimate)+1.96*error"
   ]
  },
  {
   "cell_type": "code",
   "execution_count": 34,
   "metadata": {},
   "outputs": [
    {
     "data": {
      "text/plain": [
       "(1.2665326882047576, 1.0063184220658161, 1.009495974065816)"
      ]
     },
     "execution_count": 34,
     "output_type": "execute_result",
     "metadata": {}
    }
   ],
   "source": [
    "# without log\n",
    "logxsel_estimate = 0.0078761\n",
    "error = 0.0008106\n",
    "math.exp(30*logxsel_estimate), math.exp(logxsel_estimate)-1.96*error, math.exp(logxsel_estimate)+1.96*error"
   ]
  },
  {
   "cell_type": "code",
   "execution_count": 36,
   "metadata": {},
   "outputs": [
    {
     "data": {
      "text/plain": [
       "(0.9944086898864056, 0.9925662898864056, 0.9962510898864056)"
      ]
     },
     "execution_count": 36,
     "output_type": "execute_result",
     "metadata": {}
    }
   ],
   "source": [
    "# without log\n",
    "logxsel_estimate = -0.005607\n",
    "error = 0.000940\n",
    "math.exp(logxsel_estimate), math.exp(logxsel_estimate)-1.96*error, math.exp(logxsel_estimate)+1.96*error"
   ]
  },
  {
   "cell_type": "markdown",
   "metadata": {},
   "source": [
    "#### Defining the PHBR ranges"
   ]
  },
  {
   "cell_type": "code",
   "execution_count": 41,
   "metadata": {},
   "outputs": [],
   "source": [
    "PATH_TO_DATA = '/Users/rachel/Documents/research/hla_ii/clean_matrices/'\n",
    "aff1 =  pd.read_csv(PATH_TO_DATA + 'combined_classes/patient_affinities.class_i.csv', index_col=0)\n",
    "aff2 =  pd.read_csv(PATH_TO_DATA + 'combined_classes/patient_affinities.class_ii.csv', index_col=0)"
   ]
  },
  {
   "cell_type": "code",
   "execution_count": 51,
   "metadata": {},
   "outputs": [],
   "source": [
    "mutations = list(aff1.columns)\n",
    "class_i_ranges, class_ii_ranges = [], []\n",
    "for mutation in mutations:\n",
    "    class_i_ranges.append(aff1.loc[:, mutation].quantile(.75) - aff1.loc[:, mutation].quantile(.25))\n",
    "    class_ii_ranges.append(aff2.loc[:, mutation].quantile(.75) - aff2.loc[:, mutation].quantile(.25))"
   ]
  },
  {
   "cell_type": "code",
   "execution_count": 54,
   "metadata": {},
   "outputs": [
    {
     "data": {
      "text/plain": [
       "(count    369.000000\n",
       " mean       2.547514\n",
       " std        2.319049\n",
       " min        0.052397\n",
       " 25%        1.022647\n",
       " 50%        1.739616\n",
       " 75%        3.197609\n",
       " max       13.662694\n",
       " dtype: float64, count    369.000000\n",
       " mean      11.085710\n",
       " std        6.481337\n",
       " min        0.000000\n",
       " 25%        6.410256\n",
       " 50%       10.114224\n",
       " 75%       14.451954\n",
       " max       39.924528\n",
       " dtype: float64)"
      ]
     },
     "execution_count": 54,
     "output_type": "execute_result",
     "metadata": {}
    }
   ],
   "source": [
    "pd.Series(class_i_ranges).describe(), pd.Series(class_ii_ranges).describe()"
   ]
  },
  {
   "cell_type": "markdown",
   "metadata": {},
   "source": [
    "### Combining MHC-I and MHC-II into a single model"
   ]
  },
  {
   "cell_type": "code",
   "execution_count": 62,
   "metadata": {},
   "outputs": [
    {
     "name": "stdout",
     "output_type": "stream",
     "text": [
      "1.02927142749 1.02087772749 1.03766512749\n",
      "1.00623012701 1.00454041101 1.00791984301\n",
      "0.0506395695601 0.0629865840677\n"
     ]
    }
   ],
   "source": [
    "# neither logged\n",
    "# class I\n",
    "logxsel_estimateI, errorI = 0.0288512, 0.0042825 \n",
    "print math.exp(logxsel_estimateI), math.exp(logxsel_estimateI)-1.96*errorI, math.exp(logxsel_estimateI)+1.96*errorI\n",
    "# class II\n",
    "logxsel_estimateII, errorII = 0.0062108, 0.0008621\n",
    "print math.exp(logxsel_estimateII), math.exp(logxsel_estimateII)-1.96*errorII, math.exp(logxsel_estimateII)+1.96*errorII\n",
    "print (math.exp(logxsel_estimateI)-1)*1.73, (math.exp(logxsel_estimateII)-1)*10.11"
   ]
  },
  {
   "cell_type": "code",
   "execution_count": 66,
   "metadata": {},
   "outputs": [
    {
     "name": "stdout",
     "output_type": "stream",
     "text": [
      "1.25687690851 1.22049930851 1.29325450851\n",
      "1.18726221871 1.14733701871 1.22718741871\n",
      "0.140799732906 0.433235830725\n"
     ]
    }
   ],
   "source": [
    "# both logged\n",
    "# class I\n",
    "logxsel_estimateI, errorI = 0.22863, 0.01856\n",
    "print math.exp(logxsel_estimateI), math.exp(logxsel_estimateI)-1.96*errorI, math.exp(logxsel_estimateI)+1.96*errorI\n",
    "# class II\n",
    "logxsel_estimateII, errorII = 0.17165, 0.02037\n",
    "print math.exp(logxsel_estimateII), math.exp(logxsel_estimateII)-1.96*errorII, math.exp(logxsel_estimateII)+1.96*errorII\n",
    "print (math.exp(logxsel_estimateI)-1)*np.log(1.73), (math.exp(logxsel_estimateII)-1)*np.log(10.11)"
   ]
  },
  {
   "cell_type": "code",
   "execution_count": 65,
   "metadata": {},
   "outputs": [
    {
     "name": "stdout",
     "output_type": "stream",
     "text": [
      "1.28428340331 1.24808063531 1.32048617131\n",
      "1.00462797615 1.00291572015 1.00634023215\n",
      "0.155821819437 0.046788838927\n"
     ]
    }
   ],
   "source": [
    "# only class I logged\n",
    "# class I\n",
    "logxsel_estimateI, errorI = 0.2502009, 0.0184708\n",
    "print math.exp(logxsel_estimateI), math.exp(logxsel_estimateI)-1.96*errorI, math.exp(logxsel_estimateI)+1.96*errorI\n",
    "# class II\n",
    "logxsel_estimateII, errorII = 0.0046173, 0.0008736\n",
    "print math.exp(logxsel_estimateII), math.exp(logxsel_estimateII)-1.96*errorII, math.exp(logxsel_estimateII)+1.96*errorII\n",
    "print (math.exp(logxsel_estimateI)-1)*np.log(1.73), (math.exp(logxsel_estimateII)-1)*10.11"
   ]
  },
  {
   "cell_type": "code",
   "execution_count": 67,
   "metadata": {},
   "outputs": [
    {
     "name": "stdout",
     "output_type": "stream",
     "text": [
      "1.02613980536 1.01774316536 1.03453644536\n",
      "1.242176397 1.202498157 1.281854637\n",
      "0.0452218632732 0.560281156879\n"
     ]
    }
   ],
   "source": [
    "# only class II logged\n",
    "# class I\n",
    "logxsel_estimateI, errorI = 0.025804, 0.004284\n",
    "print math.exp(logxsel_estimateI), math.exp(logxsel_estimateI)-1.96*errorI, math.exp(logxsel_estimateI)+1.96*errorI\n",
    "# class II\n",
    "logxsel_estimateII, errorII = 0.216865, 0.020244\n",
    "print math.exp(logxsel_estimateII), math.exp(logxsel_estimateII)-1.96*errorII, math.exp(logxsel_estimateII)+1.96*errorII\n",
    "print (math.exp(logxsel_estimateI)-1)*1.73, (math.exp(logxsel_estimateII)-1)*np.log(10.11)"
   ]
  },
  {
   "cell_type": "code",
   "execution_count": 70,
   "metadata": {},
   "outputs": [
    {
     "data": {
      "text/plain": [
       "(29.96410004739701, 54.598150033144236)"
      ]
     },
     "execution_count": 70,
     "output_type": "execute_result",
     "metadata": {}
    }
   ],
   "source": [
    "math.exp(3.4), math.exp(4)"
   ]
  },
  {
   "cell_type": "code",
   "execution_count": null,
   "metadata": {},
   "outputs": [],
   "source": [
    ""
   ]
  }
 ],
 "metadata": {
  "anaconda-cloud": {},
  "kernelspec": {
   "display_name": "Python [conda root]",
   "language": "python",
   "name": "conda-root-py"
  },
  "language_info": {
   "codemirror_mode": {
    "name": "ipython",
    "version": 2.0
   },
   "file_extension": ".py",
   "mimetype": "text/x-python",
   "name": "python",
   "nbconvert_exporter": "python",
   "pygments_lexer": "ipython2",
   "version": "2.7.12"
  }
 },
 "nbformat": 4,
 "nbformat_minor": 1
}