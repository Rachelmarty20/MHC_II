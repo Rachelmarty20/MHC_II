{
 "cells": [
  {
   "cell_type": "code",
   "execution_count": 2,
   "metadata": {
    "collapsed": false
   },
   "outputs": [
    {
     "name": "stdout",
     "output_type": "stream",
     "text": [
      "Populating the interactive namespace from numpy and matplotlib\n"
     ]
    }
   ],
   "source": [
    "import io\n",
    "from IPython.nbformat import current\n",
    "def execute_notebook(nbfile):\n",
    "    with io.open(nbfile) as f:\n",
    "        nb = current.read(f, 'json')\n",
    "    ip = get_ipython()\n",
    "    for cell in nb.worksheets[0].cells:\n",
    "        if cell.cell_type != 'code':\n",
    "            continue\n",
    "        ip.run_cell(cell.input)\n",
    "execute_notebook(\"/cellar/users/ramarty/Projects/hla_ii/bin/imports.ipynb\")"
   ]
  },
  {
   "cell_type": "code",
   "execution_count": 3,
   "metadata": {
    "collapsed": true
   },
   "outputs": [],
   "source": [
    "classI = pd.read_csv('/cellar/users/ramarty/Data/hla_ii/presentation/clean_matrices/combined_classes/patient_affinities.class_i.csv', index_col=0)\n",
    "classII = pd.read_csv('/cellar/users/ramarty/Data/hla_ii/presentation/clean_matrices/combined_classes/patient_affinities.class_ii.csv', index_col=0)"
   ]
  },
  {
   "cell_type": "code",
   "execution_count": 5,
   "metadata": {
    "collapsed": false
   },
   "outputs": [
    {
     "data": {
      "text/html": [
       "<div>\n",
       "<table border=\"1\" class=\"dataframe\">\n",
       "  <thead>\n",
       "    <tr style=\"text-align: right;\">\n",
       "      <th></th>\n",
       "      <th>EGFR_ifd_55174772</th>\n",
       "      <th>NOTCH1_ifd_136518618</th>\n",
       "      <th>PIK3R1_ifd_68295304</th>\n",
       "      <th>CTNNB1_ifd_41224643</th>\n",
       "      <th>PIK3R1_ifd_68293795</th>\n",
       "      <th>ERBB2_ifi_39724728</th>\n",
       "      <th>EGFR_ifd_55174773</th>\n",
       "      <th>PIK3R1_ifd_68293758</th>\n",
       "      <th>TP53_ifd_7675066</th>\n",
       "      <th>BRAF_ifd_140778037</th>\n",
       "      <th>...</th>\n",
       "      <th>THRAP3_R504W</th>\n",
       "      <th>KMT2C_W430C</th>\n",
       "      <th>KMT2B_R1597Q</th>\n",
       "      <th>PIK3R1_L573P</th>\n",
       "      <th>KMT2C_D4425Y</th>\n",
       "      <th>TCF12_R589H</th>\n",
       "      <th>TP53_A161D</th>\n",
       "      <th>KEAP1_V155F</th>\n",
       "      <th>NF1_P1990Q</th>\n",
       "      <th>TP53_I254S</th>\n",
       "    </tr>\n",
       "  </thead>\n",
       "  <tbody>\n",
       "    <tr>\n",
       "      <th>TCGA-DH-A7UV</th>\n",
       "      <td>1.481344</td>\n",
       "      <td>10.023656</td>\n",
       "      <td>5.007782</td>\n",
       "      <td>1.352657</td>\n",
       "      <td>14.478190</td>\n",
       "      <td>0.218066</td>\n",
       "      <td>1.172638</td>\n",
       "      <td>0.875865</td>\n",
       "      <td>3.733680</td>\n",
       "      <td>1.071241</td>\n",
       "      <td>...</td>\n",
       "      <td>9.177529</td>\n",
       "      <td>4.953467</td>\n",
       "      <td>8.623919</td>\n",
       "      <td>0.706888</td>\n",
       "      <td>0.526479</td>\n",
       "      <td>13.660365</td>\n",
       "      <td>0.536242</td>\n",
       "      <td>0.684959</td>\n",
       "      <td>0.118700</td>\n",
       "      <td>0.088862</td>\n",
       "    </tr>\n",
       "    <tr>\n",
       "      <th>TCGA-DH-A7UT</th>\n",
       "      <td>1.071580</td>\n",
       "      <td>6.658636</td>\n",
       "      <td>0.191098</td>\n",
       "      <td>0.977175</td>\n",
       "      <td>11.691608</td>\n",
       "      <td>2.100346</td>\n",
       "      <td>0.776297</td>\n",
       "      <td>0.437359</td>\n",
       "      <td>3.502862</td>\n",
       "      <td>0.443422</td>\n",
       "      <td>...</td>\n",
       "      <td>7.149870</td>\n",
       "      <td>2.752170</td>\n",
       "      <td>8.510487</td>\n",
       "      <td>0.773888</td>\n",
       "      <td>0.286124</td>\n",
       "      <td>13.076773</td>\n",
       "      <td>0.269831</td>\n",
       "      <td>0.496324</td>\n",
       "      <td>0.058071</td>\n",
       "      <td>0.126001</td>\n",
       "    </tr>\n",
       "    <tr>\n",
       "      <th>TCGA-DH-A7UU</th>\n",
       "      <td>6.558904</td>\n",
       "      <td>17.620928</td>\n",
       "      <td>0.343109</td>\n",
       "      <td>3.364486</td>\n",
       "      <td>21.409874</td>\n",
       "      <td>0.118091</td>\n",
       "      <td>3.206107</td>\n",
       "      <td>14.662500</td>\n",
       "      <td>3.343949</td>\n",
       "      <td>1.880597</td>\n",
       "      <td>...</td>\n",
       "      <td>12.807386</td>\n",
       "      <td>17.663551</td>\n",
       "      <td>7.964072</td>\n",
       "      <td>0.488674</td>\n",
       "      <td>3.483871</td>\n",
       "      <td>26.627041</td>\n",
       "      <td>3.311091</td>\n",
       "      <td>0.221675</td>\n",
       "      <td>1.530364</td>\n",
       "      <td>0.081374</td>\n",
       "    </tr>\n",
       "    <tr>\n",
       "      <th>TCGA-DH-A7UR</th>\n",
       "      <td>3.287671</td>\n",
       "      <td>3.791520</td>\n",
       "      <td>2.556488</td>\n",
       "      <td>0.445787</td>\n",
       "      <td>9.604060</td>\n",
       "      <td>1.743106</td>\n",
       "      <td>4.226370</td>\n",
       "      <td>4.692849</td>\n",
       "      <td>7.675281</td>\n",
       "      <td>0.331034</td>\n",
       "      <td>...</td>\n",
       "      <td>8.721333</td>\n",
       "      <td>3.894000</td>\n",
       "      <td>8.423544</td>\n",
       "      <td>4.410755</td>\n",
       "      <td>0.157320</td>\n",
       "      <td>12.770019</td>\n",
       "      <td>1.053892</td>\n",
       "      <td>0.785659</td>\n",
       "      <td>0.333317</td>\n",
       "      <td>0.605249</td>\n",
       "    </tr>\n",
       "    <tr>\n",
       "      <th>TCGA-DH-A7US</th>\n",
       "      <td>8.916829</td>\n",
       "      <td>8.130182</td>\n",
       "      <td>6.139012</td>\n",
       "      <td>2.755148</td>\n",
       "      <td>2.818378</td>\n",
       "      <td>0.199737</td>\n",
       "      <td>2.644281</td>\n",
       "      <td>19.311830</td>\n",
       "      <td>17.748077</td>\n",
       "      <td>4.145873</td>\n",
       "      <td>...</td>\n",
       "      <td>7.104604</td>\n",
       "      <td>20.052678</td>\n",
       "      <td>0.983496</td>\n",
       "      <td>20.976156</td>\n",
       "      <td>2.530929</td>\n",
       "      <td>7.988331</td>\n",
       "      <td>7.863174</td>\n",
       "      <td>0.422252</td>\n",
       "      <td>1.569366</td>\n",
       "      <td>3.112392</td>\n",
       "    </tr>\n",
       "  </tbody>\n",
       "</table>\n",
       "<p>5 rows × 1018 columns</p>\n",
       "</div>"
      ],
      "text/plain": [
       "              EGFR_ifd_55174772  NOTCH1_ifd_136518618  PIK3R1_ifd_68295304  \\\n",
       "TCGA-DH-A7UV           1.481344             10.023656             5.007782   \n",
       "TCGA-DH-A7UT           1.071580              6.658636             0.191098   \n",
       "TCGA-DH-A7UU           6.558904             17.620928             0.343109   \n",
       "TCGA-DH-A7UR           3.287671              3.791520             2.556488   \n",
       "TCGA-DH-A7US           8.916829              8.130182             6.139012   \n",
       "\n",
       "              CTNNB1_ifd_41224643  PIK3R1_ifd_68293795  ERBB2_ifi_39724728  \\\n",
       "TCGA-DH-A7UV             1.352657            14.478190            0.218066   \n",
       "TCGA-DH-A7UT             0.977175            11.691608            2.100346   \n",
       "TCGA-DH-A7UU             3.364486            21.409874            0.118091   \n",
       "TCGA-DH-A7UR             0.445787             9.604060            1.743106   \n",
       "TCGA-DH-A7US             2.755148             2.818378            0.199737   \n",
       "\n",
       "              EGFR_ifd_55174773  PIK3R1_ifd_68293758  TP53_ifd_7675066  \\\n",
       "TCGA-DH-A7UV           1.172638             0.875865          3.733680   \n",
       "TCGA-DH-A7UT           0.776297             0.437359          3.502862   \n",
       "TCGA-DH-A7UU           3.206107            14.662500          3.343949   \n",
       "TCGA-DH-A7UR           4.226370             4.692849          7.675281   \n",
       "TCGA-DH-A7US           2.644281            19.311830         17.748077   \n",
       "\n",
       "              BRAF_ifd_140778037     ...      THRAP3_R504W  KMT2C_W430C  \\\n",
       "TCGA-DH-A7UV            1.071241     ...          9.177529     4.953467   \n",
       "TCGA-DH-A7UT            0.443422     ...          7.149870     2.752170   \n",
       "TCGA-DH-A7UU            1.880597     ...         12.807386    17.663551   \n",
       "TCGA-DH-A7UR            0.331034     ...          8.721333     3.894000   \n",
       "TCGA-DH-A7US            4.145873     ...          7.104604    20.052678   \n",
       "\n",
       "              KMT2B_R1597Q  PIK3R1_L573P  KMT2C_D4425Y  TCF12_R589H  \\\n",
       "TCGA-DH-A7UV      8.623919      0.706888      0.526479    13.660365   \n",
       "TCGA-DH-A7UT      8.510487      0.773888      0.286124    13.076773   \n",
       "TCGA-DH-A7UU      7.964072      0.488674      3.483871    26.627041   \n",
       "TCGA-DH-A7UR      8.423544      4.410755      0.157320    12.770019   \n",
       "TCGA-DH-A7US      0.983496     20.976156      2.530929     7.988331   \n",
       "\n",
       "              TP53_A161D  KEAP1_V155F  NF1_P1990Q  TP53_I254S  \n",
       "TCGA-DH-A7UV    0.536242     0.684959    0.118700    0.088862  \n",
       "TCGA-DH-A7UT    0.269831     0.496324    0.058071    0.126001  \n",
       "TCGA-DH-A7UU    3.311091     0.221675    1.530364    0.081374  \n",
       "TCGA-DH-A7UR    1.053892     0.785659    0.333317    0.605249  \n",
       "TCGA-DH-A7US    7.863174     0.422252    1.569366    3.112392  \n",
       "\n",
       "[5 rows x 1018 columns]"
      ]
     },
     "execution_count": 5,
     "metadata": {},
     "output_type": "execute_result"
    }
   ],
   "source": [
    "classI.head()"
   ]
  },
  {
   "cell_type": "code",
   "execution_count": 6,
   "metadata": {
    "collapsed": false,
    "scrolled": true
   },
   "outputs": [
    {
     "data": {
      "text/html": [
       "<div>\n",
       "<table border=\"1\" class=\"dataframe\">\n",
       "  <thead>\n",
       "    <tr style=\"text-align: right;\">\n",
       "      <th></th>\n",
       "      <th>EGFR_ifd_55174772</th>\n",
       "      <th>NOTCH1_ifd_136518618</th>\n",
       "      <th>PIK3R1_ifd_68295304</th>\n",
       "      <th>CTNNB1_ifd_41224643</th>\n",
       "      <th>PIK3R1_ifd_68293795</th>\n",
       "      <th>ERBB2_ifi_39724728</th>\n",
       "      <th>EGFR_ifd_55174773</th>\n",
       "      <th>PIK3R1_ifd_68293758</th>\n",
       "      <th>TP53_ifd_7675066</th>\n",
       "      <th>BRAF_ifd_140778037</th>\n",
       "      <th>...</th>\n",
       "      <th>THRAP3_R504W</th>\n",
       "      <th>KMT2C_W430C</th>\n",
       "      <th>KMT2B_R1597Q</th>\n",
       "      <th>PIK3R1_L573P</th>\n",
       "      <th>KMT2C_D4425Y</th>\n",
       "      <th>TCF12_R589H</th>\n",
       "      <th>TP53_A161D</th>\n",
       "      <th>KEAP1_V155F</th>\n",
       "      <th>NF1_P1990Q</th>\n",
       "      <th>TP53_I254S</th>\n",
       "    </tr>\n",
       "  </thead>\n",
       "  <tbody>\n",
       "    <tr>\n",
       "      <th>TCGA-DH-A7UV</th>\n",
       "      <td>28.821415</td>\n",
       "      <td>46.202687</td>\n",
       "      <td>9.085546</td>\n",
       "      <td>5.809353</td>\n",
       "      <td>57.436539</td>\n",
       "      <td>3.452314</td>\n",
       "      <td>37.369338</td>\n",
       "      <td>38.566793</td>\n",
       "      <td>43.059937</td>\n",
       "      <td>13.691331</td>\n",
       "      <td>...</td>\n",
       "      <td>75.759494</td>\n",
       "      <td>32.882562</td>\n",
       "      <td>39.287207</td>\n",
       "      <td>21.158690</td>\n",
       "      <td>11.037227</td>\n",
       "      <td>52.459239</td>\n",
       "      <td>29.834988</td>\n",
       "      <td>8.186966</td>\n",
       "      <td>11.495902</td>\n",
       "      <td>32.162162</td>\n",
       "    </tr>\n",
       "    <tr>\n",
       "      <th>TCGA-DH-A7UT</th>\n",
       "      <td>39.531191</td>\n",
       "      <td>57.903340</td>\n",
       "      <td>1.324529</td>\n",
       "      <td>32.240555</td>\n",
       "      <td>52.756904</td>\n",
       "      <td>7.135842</td>\n",
       "      <td>33.804516</td>\n",
       "      <td>41.263955</td>\n",
       "      <td>59.712589</td>\n",
       "      <td>18.867511</td>\n",
       "      <td>...</td>\n",
       "      <td>91.057165</td>\n",
       "      <td>58.341430</td>\n",
       "      <td>30.426017</td>\n",
       "      <td>5.953635</td>\n",
       "      <td>7.947037</td>\n",
       "      <td>22.315583</td>\n",
       "      <td>30.263470</td>\n",
       "      <td>2.052804</td>\n",
       "      <td>6.920876</td>\n",
       "      <td>19.391694</td>\n",
       "    </tr>\n",
       "    <tr>\n",
       "      <th>TCGA-DH-A7UU</th>\n",
       "      <td>52.124140</td>\n",
       "      <td>68.136439</td>\n",
       "      <td>10.303556</td>\n",
       "      <td>46.047521</td>\n",
       "      <td>59.433962</td>\n",
       "      <td>6.094775</td>\n",
       "      <td>41.650485</td>\n",
       "      <td>52.101186</td>\n",
       "      <td>65.500945</td>\n",
       "      <td>19.980695</td>\n",
       "      <td>...</td>\n",
       "      <td>93.272727</td>\n",
       "      <td>46.536235</td>\n",
       "      <td>27.616998</td>\n",
       "      <td>17.740994</td>\n",
       "      <td>6.405351</td>\n",
       "      <td>64.826941</td>\n",
       "      <td>24.377845</td>\n",
       "      <td>1.069373</td>\n",
       "      <td>11.072368</td>\n",
       "      <td>30.739726</td>\n",
       "    </tr>\n",
       "    <tr>\n",
       "      <th>TCGA-DH-A7UR</th>\n",
       "      <td>52.010197</td>\n",
       "      <td>55.363392</td>\n",
       "      <td>10.166434</td>\n",
       "      <td>12.154159</td>\n",
       "      <td>55.965864</td>\n",
       "      <td>5.167660</td>\n",
       "      <td>37.453895</td>\n",
       "      <td>46.989507</td>\n",
       "      <td>58.518331</td>\n",
       "      <td>9.380651</td>\n",
       "      <td>...</td>\n",
       "      <td>84.752187</td>\n",
       "      <td>47.423036</td>\n",
       "      <td>31.843792</td>\n",
       "      <td>17.186108</td>\n",
       "      <td>6.487965</td>\n",
       "      <td>51.506694</td>\n",
       "      <td>33.080755</td>\n",
       "      <td>3.008474</td>\n",
       "      <td>13.483452</td>\n",
       "      <td>31.506036</td>\n",
       "    </tr>\n",
       "    <tr>\n",
       "      <th>TCGA-DH-A7US</th>\n",
       "      <td>52.185286</td>\n",
       "      <td>53.700057</td>\n",
       "      <td>8.331330</td>\n",
       "      <td>17.175878</td>\n",
       "      <td>52.326696</td>\n",
       "      <td>3.543450</td>\n",
       "      <td>32.481866</td>\n",
       "      <td>46.083023</td>\n",
       "      <td>69.785382</td>\n",
       "      <td>17.165383</td>\n",
       "      <td>...</td>\n",
       "      <td>90.496141</td>\n",
       "      <td>36.175729</td>\n",
       "      <td>28.077739</td>\n",
       "      <td>14.690326</td>\n",
       "      <td>7.106963</td>\n",
       "      <td>48.461538</td>\n",
       "      <td>30.157945</td>\n",
       "      <td>1.491287</td>\n",
       "      <td>15.099062</td>\n",
       "      <td>21.292467</td>\n",
       "    </tr>\n",
       "  </tbody>\n",
       "</table>\n",
       "<p>5 rows × 1018 columns</p>\n",
       "</div>"
      ],
      "text/plain": [
       "              EGFR_ifd_55174772  NOTCH1_ifd_136518618  PIK3R1_ifd_68295304  \\\n",
       "TCGA-DH-A7UV          28.821415             46.202687             9.085546   \n",
       "TCGA-DH-A7UT          39.531191             57.903340             1.324529   \n",
       "TCGA-DH-A7UU          52.124140             68.136439            10.303556   \n",
       "TCGA-DH-A7UR          52.010197             55.363392            10.166434   \n",
       "TCGA-DH-A7US          52.185286             53.700057             8.331330   \n",
       "\n",
       "              CTNNB1_ifd_41224643  PIK3R1_ifd_68293795  ERBB2_ifi_39724728  \\\n",
       "TCGA-DH-A7UV             5.809353            57.436539            3.452314   \n",
       "TCGA-DH-A7UT            32.240555            52.756904            7.135842   \n",
       "TCGA-DH-A7UU            46.047521            59.433962            6.094775   \n",
       "TCGA-DH-A7UR            12.154159            55.965864            5.167660   \n",
       "TCGA-DH-A7US            17.175878            52.326696            3.543450   \n",
       "\n",
       "              EGFR_ifd_55174773  PIK3R1_ifd_68293758  TP53_ifd_7675066  \\\n",
       "TCGA-DH-A7UV          37.369338            38.566793         43.059937   \n",
       "TCGA-DH-A7UT          33.804516            41.263955         59.712589   \n",
       "TCGA-DH-A7UU          41.650485            52.101186         65.500945   \n",
       "TCGA-DH-A7UR          37.453895            46.989507         58.518331   \n",
       "TCGA-DH-A7US          32.481866            46.083023         69.785382   \n",
       "\n",
       "              BRAF_ifd_140778037     ...      THRAP3_R504W  KMT2C_W430C  \\\n",
       "TCGA-DH-A7UV           13.691331     ...         75.759494    32.882562   \n",
       "TCGA-DH-A7UT           18.867511     ...         91.057165    58.341430   \n",
       "TCGA-DH-A7UU           19.980695     ...         93.272727    46.536235   \n",
       "TCGA-DH-A7UR            9.380651     ...         84.752187    47.423036   \n",
       "TCGA-DH-A7US           17.165383     ...         90.496141    36.175729   \n",
       "\n",
       "              KMT2B_R1597Q  PIK3R1_L573P  KMT2C_D4425Y  TCF12_R589H  \\\n",
       "TCGA-DH-A7UV     39.287207     21.158690     11.037227    52.459239   \n",
       "TCGA-DH-A7UT     30.426017      5.953635      7.947037    22.315583   \n",
       "TCGA-DH-A7UU     27.616998     17.740994      6.405351    64.826941   \n",
       "TCGA-DH-A7UR     31.843792     17.186108      6.487965    51.506694   \n",
       "TCGA-DH-A7US     28.077739     14.690326      7.106963    48.461538   \n",
       "\n",
       "              TP53_A161D  KEAP1_V155F  NF1_P1990Q  TP53_I254S  \n",
       "TCGA-DH-A7UV   29.834988     8.186966   11.495902   32.162162  \n",
       "TCGA-DH-A7UT   30.263470     2.052804    6.920876   19.391694  \n",
       "TCGA-DH-A7UU   24.377845     1.069373   11.072368   30.739726  \n",
       "TCGA-DH-A7UR   33.080755     3.008474   13.483452   31.506036  \n",
       "TCGA-DH-A7US   30.157945     1.491287   15.099062   21.292467  \n",
       "\n",
       "[5 rows x 1018 columns]"
      ]
     },
     "execution_count": 6,
     "metadata": {},
     "output_type": "execute_result"
    }
   ],
   "source": [
    "classII.head()"
   ]
  },
  {
   "cell_type": "code",
   "execution_count": 10,
   "metadata": {
    "collapsed": true
   },
   "outputs": [],
   "source": [
    "test = []"
   ]
  },
  {
   "cell_type": "code",
   "execution_count": 11,
   "metadata": {
    "collapsed": false
   },
   "outputs": [],
   "source": [
    "test.extend(classII.ix[:, 'EGFR_ifd_55174772'])"
   ]
  },
  {
   "cell_type": "code",
   "execution_count": 7,
   "metadata": {
    "collapsed": false
   },
   "outputs": [
    {
     "data": {
      "text/plain": [
       "((7085, 1018), (7085, 1018))"
      ]
     },
     "execution_count": 7,
     "metadata": {},
     "output_type": "execute_result"
    }
   ],
   "source": [
    "classI.shape, classII.shape"
   ]
  },
  {
   "cell_type": "code",
   "execution_count": 18,
   "metadata": {
    "collapsed": false
   },
   "outputs": [],
   "source": [
    "classI_values, classII_values = [], []\n",
    "mutations, patients = [], []\n",
    "for i, mutation in enumerate(classI.columns):\n",
    "    classI_values.extend(classI.ix[:, mutation])\n",
    "    classII_values.extend(classII.ix[:, mutation])\n",
    "    patients.extend(classI.index)\n",
    "    mutations.extend([mutation for x in classI.index])"
   ]
  },
  {
   "cell_type": "code",
   "execution_count": 19,
   "metadata": {
    "collapsed": true
   },
   "outputs": [],
   "source": [
    "df = pd.DataFrame({'Mutation': mutations, \n",
    "                   'Patients': patients,\n",
    "                   'ClassI': classI_values,\n",
    "                   'ClassII': classII_values})"
   ]
  },
  {
   "cell_type": "code",
   "execution_count": 21,
   "metadata": {
    "collapsed": true
   },
   "outputs": [],
   "source": [
    "df['log_ClassI'] = np.log(df['ClassI'])\n",
    "df['log_ClassII'] = np.log(df['ClassII'])"
   ]
  },
  {
   "cell_type": "code",
   "execution_count": 22,
   "metadata": {
    "collapsed": false
   },
   "outputs": [
    {
     "data": {
      "text/html": [
       "<div>\n",
       "<table border=\"1\" class=\"dataframe\">\n",
       "  <thead>\n",
       "    <tr style=\"text-align: right;\">\n",
       "      <th></th>\n",
       "      <th>ClassI</th>\n",
       "      <th>ClassII</th>\n",
       "      <th>Mutation</th>\n",
       "      <th>Patients</th>\n",
       "      <th>log_ClassI</th>\n",
       "      <th>log_ClassII</th>\n",
       "    </tr>\n",
       "  </thead>\n",
       "  <tbody>\n",
       "    <tr>\n",
       "      <th>0</th>\n",
       "      <td>1.481344</td>\n",
       "      <td>28.821415</td>\n",
       "      <td>EGFR_ifd_55174772</td>\n",
       "      <td>TCGA-DH-A7UV</td>\n",
       "      <td>0.392950</td>\n",
       "      <td>3.361119</td>\n",
       "    </tr>\n",
       "    <tr>\n",
       "      <th>1</th>\n",
       "      <td>1.071580</td>\n",
       "      <td>39.531191</td>\n",
       "      <td>EGFR_ifd_55174772</td>\n",
       "      <td>TCGA-DH-A7UT</td>\n",
       "      <td>0.069135</td>\n",
       "      <td>3.677090</td>\n",
       "    </tr>\n",
       "    <tr>\n",
       "      <th>2</th>\n",
       "      <td>6.558904</td>\n",
       "      <td>52.124140</td>\n",
       "      <td>EGFR_ifd_55174772</td>\n",
       "      <td>TCGA-DH-A7UU</td>\n",
       "      <td>1.880824</td>\n",
       "      <td>3.953628</td>\n",
       "    </tr>\n",
       "    <tr>\n",
       "      <th>3</th>\n",
       "      <td>3.287671</td>\n",
       "      <td>52.010197</td>\n",
       "      <td>EGFR_ifd_55174772</td>\n",
       "      <td>TCGA-DH-A7UR</td>\n",
       "      <td>1.190179</td>\n",
       "      <td>3.951440</td>\n",
       "    </tr>\n",
       "    <tr>\n",
       "      <th>4</th>\n",
       "      <td>8.916829</td>\n",
       "      <td>52.185286</td>\n",
       "      <td>EGFR_ifd_55174772</td>\n",
       "      <td>TCGA-DH-A7US</td>\n",
       "      <td>2.187940</td>\n",
       "      <td>3.954801</td>\n",
       "    </tr>\n",
       "  </tbody>\n",
       "</table>\n",
       "</div>"
      ],
      "text/plain": [
       "     ClassI    ClassII           Mutation      Patients  log_ClassI  \\\n",
       "0  1.481344  28.821415  EGFR_ifd_55174772  TCGA-DH-A7UV    0.392950   \n",
       "1  1.071580  39.531191  EGFR_ifd_55174772  TCGA-DH-A7UT    0.069135   \n",
       "2  6.558904  52.124140  EGFR_ifd_55174772  TCGA-DH-A7UU    1.880824   \n",
       "3  3.287671  52.010197  EGFR_ifd_55174772  TCGA-DH-A7UR    1.190179   \n",
       "4  8.916829  52.185286  EGFR_ifd_55174772  TCGA-DH-A7US    2.187940   \n",
       "\n",
       "   log_ClassII  \n",
       "0     3.361119  \n",
       "1     3.677090  \n",
       "2     3.953628  \n",
       "3     3.951440  \n",
       "4     3.954801  "
      ]
     },
     "execution_count": 22,
     "metadata": {},
     "output_type": "execute_result"
    }
   ],
   "source": [
    "df.head()"
   ]
  },
  {
   "cell_type": "code",
   "execution_count": 28,
   "metadata": {
    "collapsed": false
   },
   "outputs": [
    {
     "data": {
      "text/plain": [
       "ZC3H13_R453Q     6724\n",
       "COL4A2_P123Q     4685\n",
       "ZC3H13_R1261Q    4469\n",
       "MYCN_R373Q       4279\n",
       "EGFR_S229C       4098\n",
       "SETD2_R1335C     3778\n",
       "CSMD3_R5C        3641\n",
       "PTN_E68D         2541\n",
       "HGF_R178Q        2304\n",
       "TP53_R283P       2206\n",
       "TP53_R280G       1910\n",
       "COL4A2_R1410Q    1879\n",
       "APC_G1767C       1847\n",
       "TP53_R280K       1759\n",
       "ERBB3_A232V      1680\n",
       "ATRX_R781Q       1658\n",
       "TP53_R280S       1268\n",
       "COL5A2_A592V     1171\n",
       "THRAP3_R723H     1165\n",
       "NOTCH1_E455K     1159\n",
       "Name: Mutation, dtype: int64"
      ]
     },
     "execution_count": 28,
     "metadata": {},
     "output_type": "execute_result"
    }
   ],
   "source": [
    "df[(df.log_ClassI > 3)&(df.log_ClassII > 4)].Mutation.value_counts().head(20)"
   ]
  },
  {
   "cell_type": "code",
   "execution_count": null,
   "metadata": {
    "collapsed": true
   },
   "outputs": [],
   "source": [
    "# what are the frequency of these? "
   ]
  },
  {
   "cell_type": "code",
   "execution_count": 29,
   "metadata": {
    "collapsed": false
   },
   "outputs": [
    {
     "data": {
      "text/plain": [
       "DNMT3A_R736H           3368\n",
       "TBX18_S206L            3357\n",
       "KEAP1_V271L            2209\n",
       "TP53_C135F             2060\n",
       "SMAD4_D537H            1991\n",
       "TP53_C135Y             1887\n",
       "BTBD11_K1003T          1430\n",
       "TP53_P152L             1402\n",
       "EP300_D1399N           1397\n",
       "PTEN_C136Y             1346\n",
       "PTPN11_G503V           1333\n",
       "PIK3CA_R88Q            1321\n",
       "CTNNB1_K335I           1235\n",
       "MAP2K1_ifd_66436756    1223\n",
       "SMAD4_D537E            1216\n",
       "DCLK1_R80W             1168\n",
       "LUM_E240K              1143\n",
       "PTEN_C136F             1102\n",
       "SF3B1_R625H            1050\n",
       "CHD8_R1889H            1006\n",
       "Name: Mutation, dtype: int64"
      ]
     },
     "execution_count": 29,
     "metadata": {},
     "output_type": "execute_result"
    }
   ],
   "source": [
    "df[(df.log_ClassI > -2.5)&(df.log_ClassI < -0.5)&(df.log_ClassII > -1.5)&(df.log_ClassII < 0)].Mutation.value_counts().head(20)"
   ]
  },
  {
   "cell_type": "code",
   "execution_count": 32,
   "metadata": {
    "collapsed": false
   },
   "outputs": [
    {
     "data": {
      "text/plain": [
       "54323"
      ]
     },
     "execution_count": 32,
     "metadata": {},
     "output_type": "execute_result"
    }
   ],
   "source": [
    "len(df[(df.log_ClassI > -2.5)&(df.log_ClassI < -0.5)&(df.log_ClassII > -1.5)&(df.log_ClassII < 0)].Mutation)"
   ]
  },
  {
   "cell_type": "markdown",
   "metadata": {},
   "source": [
    "### Removing duplicate mutations from model"
   ]
  },
  {
   "cell_type": "code",
   "execution_count": 37,
   "metadata": {
    "collapsed": false
   },
   "outputs": [],
   "source": [
    "patient_mutations = pd.read_csv('/cellar/users/ramarty/Data/hla_ii/presentation/clean_matrices/combined_classes/patient_mutations.csv', index_col=0)"
   ]
  },
  {
   "cell_type": "code",
   "execution_count": 45,
   "metadata": {
    "collapsed": false
   },
   "outputs": [],
   "source": [
    "dedup = pd.DataFrame(patient_mutations.sum().sort_values(ascending=False)).reset_index()\n",
    "dedup.columns = ['mutation', 'mutation_count']"
   ]
  },
  {
   "cell_type": "code",
   "execution_count": 47,
   "metadata": {
    "collapsed": true
   },
   "outputs": [],
   "source": [
    "def remove_mutated_aa(x):\n",
    "    return x[:-1]\n",
    "dedup['mutated_residue'] = dedup['mutation'].apply(remove_mutated_aa)"
   ]
  },
  {
   "cell_type": "code",
   "execution_count": 50,
   "metadata": {
    "collapsed": false
   },
   "outputs": [],
   "source": [
    "dedup = dedup.drop_duplicates('mutated_residue')"
   ]
  },
  {
   "cell_type": "code",
   "execution_count": 53,
   "metadata": {
    "collapsed": false
   },
   "outputs": [],
   "source": [
    "unique_mutations = list(dedup.mutation)"
   ]
  },
  {
   "cell_type": "code",
   "execution_count": 55,
   "metadata": {
    "collapsed": false
   },
   "outputs": [],
   "source": [
    "classI.ix[:, unique_mutations].to_csv('/cellar/users/ramarty/Data/hla_ii/presentation/clean_matrices/combined_classes/patient_affinities.class_i.unique.csv')\n",
    "classII.ix[:, unique_mutations].to_csv('/cellar/users/ramarty/Data/hla_ii/presentation/clean_matrices/combined_classes/patient_affinities.class_ii.unique.csv')\n",
    "patient_mutations.ix[:, unique_mutations].to_csv('/cellar/users/ramarty/Data/hla_ii/presentation/clean_matrices/combined_classes/patient_mutations.unique.csv')"
   ]
  },
  {
   "cell_type": "code",
   "execution_count": 58,
   "metadata": {
    "collapsed": false
   },
   "outputs": [
    {
     "data": {
      "text/plain": [
       "223"
      ]
     },
     "execution_count": 58,
     "metadata": {},
     "output_type": "execute_result"
    }
   ],
   "source": [
    "len(patient_mutations.sum()[patient_mutations.sum() > 5])"
   ]
  },
  {
   "cell_type": "code",
   "execution_count": null,
   "metadata": {
    "collapsed": true
   },
   "outputs": [],
   "source": []
  }
 ],
 "metadata": {
  "kernelspec": {
   "display_name": "Python 2",
   "language": "python",
   "name": "python2"
  },
  "language_info": {
   "codemirror_mode": {
    "name": "ipython",
    "version": 2
   },
   "file_extension": ".py",
   "mimetype": "text/x-python",
   "name": "python",
   "nbconvert_exporter": "python",
   "pygments_lexer": "ipython2",
   "version": "2.7.14"
  }
 },
 "nbformat": 4,
 "nbformat_minor": 0
}
