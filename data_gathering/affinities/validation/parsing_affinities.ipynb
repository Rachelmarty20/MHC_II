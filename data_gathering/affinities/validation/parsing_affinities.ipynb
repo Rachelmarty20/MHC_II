{
 "cells": [
  {
   "cell_type": "code",
   "execution_count": 2,
   "metadata": {
    "collapsed": false
   },
   "outputs": [
    {
     "name": "stdout",
     "output_type": "stream",
     "text": [
      "Populating the interactive namespace from numpy and matplotlib\n"
     ]
    },
    {
     "name": "stderr",
     "output_type": "stream",
     "text": [
      "/cellar/users/ramarty/anaconda/lib/python2.7/site-packages/IPython/nbformat/current.py:19: UserWarning: IPython.nbformat.current is deprecated.\n",
      "\n",
      "- use IPython.nbformat for read/write/validate public API\n",
      "- use IPython.nbformat.vX directly to composing notebooks of a particular version\n",
      "\n",
      "  \"\"\")\n"
     ]
    }
   ],
   "source": [
    "import io\n",
    "from IPython.nbformat import current\n",
    "def execute_notebook(nbfile):\n",
    "    with io.open(nbfile) as f:\n",
    "        nb = current.read(f, 'json')\n",
    "    ip = get_ipython()\n",
    "    for cell in nb.worksheets[0].cells:\n",
    "        if cell.cell_type != 'code':\n",
    "            continue\n",
    "        ip.run_cell(cell.input)\n",
    "execute_notebook(\"/cellar/users/ramarty/Projects/hla_ii/bin/imports.ipynb\")\n",
    "execute_notebook(\"/cellar/users/ramarty/Projects/hla_ii/bin/gathering_affinities.ipynb\")"
   ]
  },
  {
   "cell_type": "markdown",
   "metadata": {},
   "source": [
    "### MS"
   ]
  },
  {
   "cell_type": "code",
   "execution_count": 3,
   "metadata": {
    "collapsed": false
   },
   "outputs": [],
   "source": [
    "donor_dictionary = {}\n",
    "for f in os.listdir('/cellar/users/ramarty/Data/hla_ii/validation/ciudad/raw/'):\n",
    "    donor = f.split('_')[0]\n",
    "    alleles = [x[:4]+'_'+x[4:] for x in f.split('.')[0].split('_')[1:]]\n",
    "    donor_dictionary[donor] = alleles"
   ]
  },
  {
   "cell_type": "code",
   "execution_count": 4,
   "metadata": {
    "collapsed": true
   },
   "outputs": [],
   "source": [
    "def PHBR(x):\n",
    "    number_of_alleles = len(x)\n",
    "    s = 0\n",
    "    for i in range(number_of_alleles):\n",
    "        s += 1/float(x[i])\n",
    "    return number_of_alleles / float(s)"
   ]
  },
  {
   "cell_type": "code",
   "execution_count": 5,
   "metadata": {
    "collapsed": true
   },
   "outputs": [],
   "source": [
    "lengths = [str(x) for x in range(13, 26)]"
   ]
  },
  {
   "cell_type": "code",
   "execution_count": 14,
   "metadata": {
    "collapsed": true
   },
   "outputs": [],
   "source": [
    "# only 15\n",
    "for donor in donor_dictionary.keys():\n",
    "    mutations = [x.strip() for x in open('/cellar/users/ramarty/Data/hla_ii/validation/ciudad/residues/{0}.txt'.format(donor)).readlines()]\n",
    "    donor_df = pd.DataFrame({'mutation': mutations})\n",
    "    for allele in donor_dictionary[donor]:\n",
    "        BR = []\n",
    "        df = pd.read_csv('/cellar/users/ramarty/Data/hla_ii/validation/ciudad/affinities/{0}.{1}.15.csv'.format(donor, allele, length), sep='\\t', skiprows=1)\n",
    "        for mutation in mutations: \n",
    "            BR.append(df[df.ID == mutation].Rank.min())\n",
    "        donor_df[allele] = BR\n",
    "    donor_df['PHBR'] = donor_df[donor_dictionary[donor]].apply(PHBR, axis=1)\n",
    "    donor_df.to_csv('/cellar/users/ramarty/Data/hla_ii/validation/ciudad/parsed/{0}.only_15.csv'.format(donor))"
   ]
  },
  {
   "cell_type": "code",
   "execution_count": 13,
   "metadata": {
    "collapsed": false
   },
   "outputs": [],
   "source": [
    "# all lengths\n",
    "for donor in donor_dictionary.keys():\n",
    "    mutations = [x.strip() for x in open('/cellar/users/ramarty/Data/hla_ii/validation/ciudad/residues/{0}.txt'.format(donor)).readlines()]\n",
    "    donor_df = pd.DataFrame({'mutation': mutations})\n",
    "    for allele in donor_dictionary[donor]:\n",
    "        BR = []\n",
    "        # must import all dfs\n",
    "        all_dfs = []\n",
    "        for length in lengths:\n",
    "            all_dfs.append(pd.read_csv('/cellar/users/ramarty/Data/hla_ii/validation/ciudad/affinities/{0}.{1}.{2}.csv'.format(donor, allele, length), sep='\\t', skiprows=1))\n",
    "        for mutation in mutations: \n",
    "            # cycle through all dfs to find min of each\n",
    "            mins = []\n",
    "            for i, length in enumerate(lengths):\n",
    "                mins.append(all_dfs[i][all_dfs[i].ID == mutation].Rank.min())\n",
    "            BR.append(min(mins))\n",
    "        donor_df[allele] = BR\n",
    "    donor_df['PHBR'] = donor_df[donor_dictionary[donor]].apply(PHBR, axis=1)\n",
    "    donor_df.to_csv('/cellar/users/ramarty/Data/hla_ii/validation/ciudad/parsed/{0}.all_lengths.csv'.format(donor))"
   ]
  },
  {
   "cell_type": "markdown",
   "metadata": {
    "collapsed": true
   },
   "source": [
    "### Random"
   ]
  },
  {
   "cell_type": "code",
   "execution_count": 18,
   "metadata": {
    "collapsed": true
   },
   "outputs": [],
   "source": [
    "donor_dictionary = {}\n",
    "for f in os.listdir('/cellar/users/ramarty/Data/hla_ii/validation/ciudad/raw/'):\n",
    "    donor = f.split('_')[0]\n",
    "    alleles = [x[:4]+'_'+x[4:] for x in f.split('.')[0].split('_')[1:]]\n",
    "    donor_dictionary[donor] = alleles"
   ]
  },
  {
   "cell_type": "code",
   "execution_count": 19,
   "metadata": {
    "collapsed": true
   },
   "outputs": [],
   "source": [
    "# only 15\n",
    "for donor in donor_dictionary.keys():\n",
    "    print donor\n",
    "    mutations = [x.strip() for x in open('/cellar/users/ramarty/Data/hla_ii/validation/ciudad/residues/{0}.random.txt'.format(donor)).readlines()]\n",
    "    donor_df = pd.DataFrame({'mutation': mutations})\n",
    "    for allele in donor_dictionary[donor]:\n",
    "        BR = []\n",
    "        df = pd.read_csv('/cellar/users/ramarty/Data/hla_ii/validation/ciudad/affinities/{0}.{1}.random.15.csv'.format(donor, allele, length), sep='\\t', skiprows=1)\n",
    "        for mutation in mutations: \n",
    "            BR.append(df[df.ID == mutation].Rank.min())\n",
    "        donor_df[allele] = BR\n",
    "    donor_df['PHBR'] = donor_df[donor_dictionary[donor]].apply(PHBR, axis=1)\n",
    "    donor_df.to_csv('/cellar/users/ramarty/Data/hla_ii/validation/ciudad/parsed/{0}.random.only_15.csv'.format(donor))"
   ]
  },
  {
   "cell_type": "code",
   "execution_count": 20,
   "metadata": {
    "collapsed": false
   },
   "outputs": [
    {
     "name": "stdout",
     "output_type": "stream",
     "text": [
      "DonorB\n",
      "DonorC\n",
      "DonorA\n",
      "DonorF\n",
      "DonorG\n",
      "DonorD\n",
      "DonorE\n"
     ]
    }
   ],
   "source": [
    "# all lengths\n",
    "for donor in donor_dictionary.keys():\n",
    "    print donor\n",
    "    mutations = [x.strip() for x in open('/cellar/users/ramarty/Data/hla_ii/validation/ciudad/residues/{0}.random.txt'.format(donor)).readlines()]\n",
    "    donor_df = pd.DataFrame({'mutation': mutations})\n",
    "    for allele in donor_dictionary[donor]:\n",
    "        BR = []\n",
    "        # must import all dfs\n",
    "        all_dfs = []\n",
    "        for length in lengths:\n",
    "            all_dfs.append(pd.read_csv('/cellar/users/ramarty/Data/hla_ii/validation/ciudad/affinities/{0}.{1}.random.{2}.csv'.format(donor, allele, length), sep='\\t', skiprows=1))\n",
    "        for mutation in mutations: \n",
    "            # cycle through all dfs to find min of each\n",
    "            mins = []\n",
    "            for i, length in enumerate(lengths):\n",
    "                mins.append(all_dfs[i][all_dfs[i].ID == mutation].Rank.min())\n",
    "            BR.append(min(mins))\n",
    "        donor_df[allele] = BR\n",
    "    donor_df['PHBR'] = donor_df[donor_dictionary[donor]].apply(PHBR, axis=1)\n",
    "    donor_df.to_csv('/cellar/users/ramarty/Data/hla_ii/validation/ciudad/parsed/{0}.random.all_lengths.csv'.format(donor))"
   ]
  },
  {
   "cell_type": "code",
   "execution_count": null,
   "metadata": {
    "collapsed": true
   },
   "outputs": [],
   "source": []
  }
 ],
 "metadata": {
  "kernelspec": {
   "display_name": "Python 2",
   "language": "python",
   "name": "python2"
  },
  "language_info": {
   "codemirror_mode": {
    "name": "ipython",
    "version": 2
   },
   "file_extension": ".py",
   "mimetype": "text/x-python",
   "name": "python",
   "nbconvert_exporter": "python",
   "pygments_lexer": "ipython2",
   "version": "2.7.12"
  }
 },
 "nbformat": 4,
 "nbformat_minor": 0
}
