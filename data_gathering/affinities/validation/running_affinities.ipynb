{
 "cells": [
  {
   "cell_type": "code",
   "execution_count": 8,
   "metadata": {
    "collapsed": false
   },
   "outputs": [
    {
     "name": "stdout",
     "output_type": "stream",
     "text": [
      "Populating the interactive namespace from numpy and matplotlib\n"
     ]
    },
    {
     "name": "stderr",
     "output_type": "stream",
     "text": [
      "/cellar/users/ramarty/anaconda/lib/python2.7/site-packages/IPython/nbformat/current.py:19: UserWarning: IPython.nbformat.current is deprecated.\n",
      "\n",
      "- use IPython.nbformat for read/write/validate public API\n",
      "- use IPython.nbformat.vX directly to composing notebooks of a particular version\n",
      "\n",
      "  \"\"\")\n"
     ]
    }
   ],
   "source": [
    "import io\n",
    "from IPython.nbformat import current\n",
    "def execute_notebook(nbfile):\n",
    "    with io.open(nbfile) as f:\n",
    "        nb = current.read(f, 'json')\n",
    "    ip = get_ipython()\n",
    "    for cell in nb.worksheets[0].cells:\n",
    "        if cell.cell_type != 'code':\n",
    "            continue\n",
    "        ip.run_cell(cell.input)\n",
    "execute_notebook(\"/cellar/users/ramarty/Projects/hla_ii/bin/imports.ipynb\")\n",
    "execute_notebook(\"/cellar/users/ramarty/Projects/hla_ii/bin/gathering_affinities.ipynb\")"
   ]
  },
  {
   "cell_type": "code",
   "execution_count": 9,
   "metadata": {
    "collapsed": false
   },
   "outputs": [],
   "source": [
    "donor_dictionary = {}\n",
    "for f in os.listdir('/cellar/users/ramarty/Data/hla_ii/validation/ciudad/raw/'):\n",
    "    donor = f.split('_')[0]\n",
    "    alleles = [x[:4]+'_'+x[4:] for x in f.split('.')[0].split('_')[1:]]\n",
    "    donor_dictionary[donor] = alleles"
   ]
  },
  {
   "cell_type": "code",
   "execution_count": 10,
   "metadata": {
    "collapsed": false
   },
   "outputs": [
    {
     "data": {
      "text/plain": [
       "{'DonorA': ['DRB1_0301', 'DRB1_1101'],\n",
       " 'DonorB': ['DRB1_0401', 'DRB1_1301'],\n",
       " 'DonorC': ['DRB1_0401', 'DRB1_1301'],\n",
       " 'DonorD': ['DRB1_0101', 'DRB1_0701'],\n",
       " 'DonorE': ['DRB1_0101', 'DRB1_1101'],\n",
       " 'DonorF': ['DRB1_0901', 'DRB1_1001'],\n",
       " 'DonorG': ['DRB1_0701', 'DRB1_1501', 'DRB5_0101']}"
      ]
     },
     "execution_count": 10,
     "metadata": {},
     "output_type": "execute_result"
    }
   ],
   "source": [
    "donor_dictionary"
   ]
  },
  {
   "cell_type": "code",
   "execution_count": 11,
   "metadata": {
    "collapsed": false
   },
   "outputs": [
    {
     "name": "stdout",
     "output_type": "stream",
     "text": [
      "15 15 13\n"
     ]
    }
   ],
   "source": [
    "# input allele and donors?? \n",
    "alleles, donors = [], []\n",
    "for donor in donor_dictionary.keys():\n",
    "    alleles.extend(donor_dictionary[donor])\n",
    "    donors.extend([donor for x in donor_dictionary[donor]])\n",
    "lengths = [str(x) for x in range(13, 26)]\n",
    "print len(alleles), len(donors), len(lengths)"
   ]
  },
  {
   "cell_type": "code",
   "execution_count": 13,
   "metadata": {
    "collapsed": false
   },
   "outputs": [
    {
     "name": "stdout",
     "output_type": "stream",
     "text": [
      "195 195 195\n"
     ]
    }
   ],
   "source": [
    "all_alleles = alleles*len(lengths)\n",
    "all_donors = donors*len(lengths)\n",
    "all_lengths = []\n",
    "for length in lengths:\n",
    "    all_lengths.extend([length]*15)\n",
    "print len(all_alleles), len(all_donors), len(all_lengths)"
   ]
  },
  {
   "cell_type": "code",
   "execution_count": 24,
   "metadata": {
    "collapsed": false
   },
   "outputs": [],
   "source": [
    "def create_cluster_script(alleles, donors, lengths):\n",
    "\n",
    "    new_script_file = '/cellar/users/ramarty/Projects/hla_ii/data_gathering/affinities/validation/netmhcpanII.ciudad.sh'\n",
    "    \n",
    "    with open(new_script_file, 'w') as out_file:\n",
    "        out_file.write(\"#! /bin/csh\\n\")\n",
    "        out_file.write(\"#$ -V\\n\")\n",
    "        out_file.write(\"#$ -S /bin/csh\\n\")\n",
    "        out_file.write(\"#$ -o /cellar/users/ramarty/Data/hla_ii/sge-system_files\\n\")\n",
    "        out_file.write(\"#$ -e /cellar/users/ramarty/Data/hla_ii/sge-system_files\\n\")\n",
    "        out_file.write(\"#$ -cwd\\n\")\n",
    "        out_file.write(\"#$ -t 1-{0}\\n\".format(len(alleles)))\n",
    "        #out_file.write(\"#$ -t 1-2\\n\".format(len(samples)))\n",
    "        out_file.write(\"#$ -l h_vmem=1G\\n\")\n",
    "        out_file.write(\"#$ -tc 200\\n\")\n",
    "        out_file.write(\"#$ -l long\")\n",
    "        out_file.write(\"\\n\")\n",
    "\n",
    "        out_file.write(\"set alleles=({0})\\n\".format(\" \".join(alleles)))\n",
    "        out_file.write(\"set donors=({0})\\n\".format(\" \".join(donors)))\n",
    "        out_file.write(\"set lengths=({0})\\n\".format(\" \".join(lengths)))\n",
    "        out_file.write(\"\\n\")\n",
    "\n",
    "        out_file.write(\"set allele=$alleles[$SGE_TASK_ID]\\n\")\n",
    "        out_file.write(\"set donor=$donors[$SGE_TASK_ID]\\n\")\n",
    "        out_file.write(\"set length=$lengths[$SGE_TASK_ID]\\n\")\n",
    "        out_file.write(\"\\n\")\n",
    "\n",
    "        out_file.write(\"date\\n\")\n",
    "        out_file.write(\"hostname\\n\")\n",
    "        out_file.write(\"\\n\")\n",
    "  \n",
    "        out_file.write(\"echo starting netMHCIIpan\\n\")\n",
    "        out_file.write(\"/cellar/users/ramarty/programs/netMHCIIpan-3.1/netMHCIIpan -f /cellar/users/ramarty/Data/hla_ii/validation/ciudad/fasta_files/$donor.$length.fa -a $allele -length $length -xls -xlsfile /cellar/users/ramarty/Data/hla_ii/validation/ciudad/affinities/$donor.$allele.$length.csv > /cellar/users/ramarty/Data/hla_ii/sge-system_files/$donor.$allele.$length.txt\\n\")\n",
    "        out_file.write(\"/cellar/users/ramarty/programs/netMHCIIpan-3.1/netMHCIIpan -f /cellar/users/ramarty/Data/hla_ii/validation/ciudad/fasta_files/$donor.random.$length.fa -a $allele -length $length -xls -xlsfile /cellar/users/ramarty/Data/hla_ii/validation/ciudad/affinities/$donor.$allele.random.$length.csv > /cellar/users/ramarty/Data/hla_ii/sge-system_files/$donor.$allele.random.$length.txt\\n\")\n",
    "        out_file.write(\"\\n\")\n",
    "                       \n",
    "        out_file.write(\"date\\n\")"
   ]
  },
  {
   "cell_type": "code",
   "execution_count": 25,
   "metadata": {
    "collapsed": false
   },
   "outputs": [],
   "source": [
    "create_cluster_script(all_alleles, all_donors, all_lengths)"
   ]
  },
  {
   "cell_type": "code",
   "execution_count": 7,
   "metadata": {
    "collapsed": false
   },
   "outputs": [
    {
     "name": "stdout",
     "output_type": "stream",
     "text": [
      "# NetMHCIIpan version 3.1\n",
      "\n",
      "# Input is in FASTA format\n",
      "\n",
      "# Peptide length 15\n",
      "\n",
      "# Threshold for Strong binding peptides (IC50)\t50.000 nM\n",
      "# Threshold for Weak binding peptides (IC50)\t500.000 nM\n",
      "\n",
      "# Threshold for Strong binding peptides (%Rank)\t0.5%\n",
      "# Threshold for Weak binding peptides (%Rank)\t2%\n",
      "\n",
      "# Allele: DRB1_0301\n",
      "--------------------------------------------------------------------------------------------------------------------------------------------\n",
      "   Seq          Allele              Peptide    Identity  Pos      Core  Core_Rel 1-log50k(aff)  Affinity(nM)  %Rank Exp_Bind  BindingLevel\n",
      "--------------------------------------------------------------------------------------------------------------------------------------------\n",
      "     0         DRB1_0301     VQALLCQFGTVQHVS  CD177_W33S    5    CQFGTVQHV 0.520         0.238       3803.21  65.00   9.999       \n",
      "     1         DRB1_0301     QALLCQFGTVQHVSK  CD177_W33S    4    CQFGTVQHV 0.475         0.261       2952.53  55.00   9.999       \n",
      "     2         DRB1_0301     ALLCQFGTVQHVSKV  CD177_W33S    3    CQFGTVQHV 0.440         0.272       2645.88  50.00   9.999       \n",
      "     3         DRB1_0301     LLCQFGTVQHVSKVS  CD177_W33S    2    CQFGTVQHV 0.420         0.266       2809.17  55.00   9.999       \n",
      "     4         DRB1_0301     LCQFGTVQHVSKVSD  CD177_W33S    1    CQFGTVQHV 0.335         0.241       3701.35  60.00   9.999       \n",
      "     5         DRB1_0301     CQFGTVQHVSKVSDL  CD177_W33S    2    FGTVQHVSK 0.260         0.219       4696.76  70.00   9.999       \n",
      "     6         DRB1_0301     QFGTVQHVSKVSDLP  CD177_W33S    4    VQHVSKVSD 0.300         0.198       5853.91  75.00   9.999       \n",
      "     7         DRB1_0301     FGTVQHVSKVSDLPR  CD177_W33S    6    VSKVSDLPR 0.420         0.242       3634.40  60.00   9.999       \n",
      "     8         DRB1_0301     GTVQHVSKVSDLPRQ  CD177_W33S    5    VSKVSDLPR 0.580         0.275       2551.42  49.00   9.999       \n",
      "     9         DRB1_0301     TVQHVSKVSDLPRQW  CD177_W33S    4    VSKVSDLPR 0.555         0.308       1786.86  39.00   9.999       \n",
      "    10         DRB1_0301     VQHVSKVSDLPRQWT  CD177_W33S    3    VSKVSDLPR 0.525         0.323       1521.00  35.00   9.999       \n",
      "    11         DRB1_0301     QHVSKVSDLPRQWTP  CD177_W33S    2    VSKVSDLPR 0.490         0.305       1852.18  40.00   9.999       \n",
      "    12         DRB1_0301     HVSKVSDLPRQWTPK  CD177_W33S    1    VSKVSDLPR 0.410         0.286       2260.31  46.00   9.999       \n",
      "    13         DRB1_0301     VSKVSDLPRQWTPKN  CD177_W33S    2    KVSDLPRQW 0.340         0.243       3588.96  60.00   9.999       \n",
      "    14         DRB1_0301     SKVSDLPRQWTPKNT  CD177_W33S    1    KVSDLPRQW 0.475         0.184       6797.19  80.00   9.999       \n",
      "--------------------------------------------------------------------------------------------------------------------------------------------\n",
      "Number of strong binders: 0 Number of weak binders: 0\n",
      "--------------------------------------------------------------------------------------------------------------------------------------------\n",
      "\n",
      "# Allele: DRB1_0301\n",
      "--------------------------------------------------------------------------------------------------------------------------------------------\n",
      "   Seq          Allele              Peptide    Identity  Pos      Core  Core_Rel 1-log50k(aff)  Affinity(nM)  %Rank Exp_Bind  BindingLevel\n",
      "--------------------------------------------------------------------------------------------------------------------------------------------\n",
      "     0         DRB1_0301     SPLLSQETAGQKPLF TSPAN10_S21F    3    LSQETAGQK 0.555         0.276       2522.84  49.00   9.999       \n",
      "     1         DRB1_0301     PLLSQETAGQKPLFV TSPAN10_S21F    2    LSQETAGQK 0.555         0.256       3132.95  55.00   9.999       \n",
      "     2         DRB1_0301     LLSQETAGQKPLFVH TSPAN10_S21F    1    LSQETAGQK 0.510         0.222       4537.08  70.00   9.999       \n",
      "     3         DRB1_0301     LSQETAGQKPLFVHR TSPAN10_S21F    4    TAGQKPLFV 0.305         0.172       7772.05  85.00   9.999       \n",
      "     4         DRB1_0301     SQETAGQKPLFVHRP TSPAN10_S21F    3    TAGQKPLFV 0.365         0.146      10266.48  90.00   9.999       \n",
      "     5         DRB1_0301     QETAGQKPLFVHRPP TSPAN10_S21F    2    TAGQKPLFV 0.340         0.137      11373.83  95.00   9.999       \n",
      "     6         DRB1_0301     ETAGQKPLFVHRPPT TSPAN10_S21F    1    TAGQKPLFV 0.225         0.135      11575.07  95.00   9.999       \n",
      "     7         DRB1_0301     TAGQKPLFVHRPPTS TSPAN10_S21F    6    LFVHRPPTS 0.485         0.171       7836.65  85.00   9.999       \n",
      "     8         DRB1_0301     AGQKPLFVHRPPTSG TSPAN10_S21F    5    LFVHRPPTS 0.565         0.186       6710.38  80.00   9.999       \n",
      "     9         DRB1_0301     GQKPLFVHRPPTSGC TSPAN10_S21F    4    LFVHRPPTS 0.535         0.191       6365.19  80.00   9.999       \n",
      "    10         DRB1_0301     QKPLFVHRPPTSGCL TSPAN10_S21F    3    LFVHRPPTS 0.545         0.211       5076.46  70.00   9.999       \n",
      "    11         DRB1_0301     KPLFVHRPPTSGCLG TSPAN10_S21F    2    LFVHRPPTS 0.520         0.199       5780.40  75.00   9.999       \n",
      "    12         DRB1_0301     PLFVHRPPTSGCLGP TSPAN10_S21F    1    LFVHRPPTS 0.485         0.169       8018.92  85.00   9.999       \n",
      "    13         DRB1_0301     LFVHRPPTSGCLGPV TSPAN10_S21F    1    FVHRPPTSG 0.425         0.127      12677.19  95.00   9.999       \n",
      "    14         DRB1_0301     FVHRPPTSGCLGPVP TSPAN10_S21F    0    FVHRPPTSG 0.350         0.069      23743.49  95.00   9.999       \n",
      "--------------------------------------------------------------------------------------------------------------------------------------------\n",
      "Number of strong binders: 0 Number of weak binders: 0\n",
      "--------------------------------------------------------------------------------------------------------------------------------------------\n"
     ]
    }
   ],
   "source": [
    "! /cellar/users/ramarty/programs/netMHCIIpan-3.1/netMHCIIpan -f /cellar/users/ramarty/Data/hla_ii/presentation/fasta_files/test.fa -a DRB1_0301 -xls -xlsfile /cellar/users/ramarty/Data/hla_ii/presentation/affinities/random/test.csv -length {lengths}"
   ]
  },
  {
   "cell_type": "code",
   "execution_count": null,
   "metadata": {
    "collapsed": true
   },
   "outputs": [],
   "source": []
  },
  {
   "cell_type": "code",
   "execution_count": null,
   "metadata": {
    "collapsed": true
   },
   "outputs": [],
   "source": []
  }
 ],
 "metadata": {
  "kernelspec": {
   "display_name": "Python 2",
   "language": "python",
   "name": "python2"
  },
  "language_info": {
   "codemirror_mode": {
    "name": "ipython",
    "version": 2
   },
   "file_extension": ".py",
   "mimetype": "text/x-python",
   "name": "python",
   "nbconvert_exporter": "python",
   "pygments_lexer": "ipython2",
   "version": "2.7.12"
  }
 },
 "nbformat": 4,
 "nbformat_minor": 0
}
