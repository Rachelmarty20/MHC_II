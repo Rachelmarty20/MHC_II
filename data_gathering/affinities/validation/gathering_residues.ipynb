{
 "cells": [
  {
   "cell_type": "code",
   "execution_count": 129,
   "metadata": {
    "collapsed": false
   },
   "outputs": [
    {
     "name": "stdout",
     "output_type": "stream",
     "text": [
      "Populating the interactive namespace from numpy and matplotlib\n"
     ]
    }
   ],
   "source": [
    "import io\n",
    "from IPython.nbformat import current\n",
    "def execute_notebook(nbfile):\n",
    "    with io.open(nbfile) as f:\n",
    "        nb = current.read(f, 'json')\n",
    "    ip = get_ipython()\n",
    "    for cell in nb.worksheets[0].cells:\n",
    "        if cell.cell_type != 'code':\n",
    "            continue\n",
    "        ip.run_cell(cell.input)\n",
    "execute_notebook(\"/cellar/users/ramarty/Projects/hla_ii/bin/imports.ipynb\")\n",
    "execute_notebook(\"/cellar/users/ramarty/Projects/hla_ii/bin/gathering_affinities.ipynb\")"
   ]
  },
  {
   "cell_type": "code",
   "execution_count": 130,
   "metadata": {
    "collapsed": false
   },
   "outputs": [],
   "source": [
    "# get proteome reference\n",
    "merged = gather_protein_sequences()"
   ]
  },
  {
   "cell_type": "code",
   "execution_count": 135,
   "metadata": {
    "collapsed": false
   },
   "outputs": [
    {
     "data": {
      "text/html": [
       "<div>\n",
       "<table border=\"1\" class=\"dataframe\">\n",
       "  <thead>\n",
       "    <tr style=\"text-align: right;\">\n",
       "      <th></th>\n",
       "      <th>gene</th>\n",
       "      <th>protein</th>\n",
       "      <th>sequence</th>\n",
       "      <th>uniprot_AC</th>\n",
       "      <th>length</th>\n",
       "    </tr>\n",
       "  </thead>\n",
       "  <tbody>\n",
       "    <tr>\n",
       "      <th>99474</th>\n",
       "      <td>TTN</td>\n",
       "      <td>ENSP00000467141</td>\n",
       "      <td>MTTQAPTFTQPLQSVVVLEGSTATFEAHISGFPVPEVSWFRDGQVI...</td>\n",
       "      <td>A0A0A0MTS7</td>\n",
       "      <td>35991</td>\n",
       "    </tr>\n",
       "    <tr>\n",
       "      <th>99472</th>\n",
       "      <td>TTN</td>\n",
       "      <td>ENSP00000343764</td>\n",
       "      <td>MTTQAPTFTQPLQSVVVLEGSTATFEAHISGFPVPEVSWFRDGQVI...</td>\n",
       "      <td>Q8WZ42</td>\n",
       "      <td>33423</td>\n",
       "    </tr>\n",
       "    <tr>\n",
       "      <th>99477</th>\n",
       "      <td>TTN</td>\n",
       "      <td>ENSP00000340554</td>\n",
       "      <td>MTTQAPTFTQPLQSVVVLEGSTATFEAHISGFPVPEVSWFRDGQVI...</td>\n",
       "      <td>A0A0A0MRA3</td>\n",
       "      <td>27118</td>\n",
       "    </tr>\n",
       "    <tr>\n",
       "      <th>72694</th>\n",
       "      <td>MUC16</td>\n",
       "      <td>ENSP00000381008</td>\n",
       "      <td>MLKPSGLPGSSSPTRSLMTGSRSTKATPEMDSGLTGATLSPKTSTG...</td>\n",
       "      <td>Q8WXI7</td>\n",
       "      <td>14507</td>\n",
       "    </tr>\n",
       "    <tr>\n",
       "      <th>61505</th>\n",
       "      <td>OBSCN</td>\n",
       "      <td>ENSP00000355668</td>\n",
       "      <td>MDQPQFSGAPRFLTRPKAFVVSVGKDATLSCQIVGNPTPQVSWEKD...</td>\n",
       "      <td>A6NGQ3</td>\n",
       "      <td>8923</td>\n",
       "    </tr>\n",
       "  </tbody>\n",
       "</table>\n",
       "</div>"
      ],
      "text/plain": [
       "        gene          protein  \\\n",
       "99474    TTN  ENSP00000467141   \n",
       "99472    TTN  ENSP00000343764   \n",
       "99477    TTN  ENSP00000340554   \n",
       "72694  MUC16  ENSP00000381008   \n",
       "61505  OBSCN  ENSP00000355668   \n",
       "\n",
       "                                                sequence  uniprot_AC  length  \n",
       "99474  MTTQAPTFTQPLQSVVVLEGSTATFEAHISGFPVPEVSWFRDGQVI...  A0A0A0MTS7   35991  \n",
       "99472  MTTQAPTFTQPLQSVVVLEGSTATFEAHISGFPVPEVSWFRDGQVI...      Q8WZ42   33423  \n",
       "99477  MTTQAPTFTQPLQSVVVLEGSTATFEAHISGFPVPEVSWFRDGQVI...  A0A0A0MRA3   27118  \n",
       "72694  MLKPSGLPGSSSPTRSLMTGSRSTKATPEMDSGLTGATLSPKTSTG...      Q8WXI7   14507  \n",
       "61505  MDQPQFSGAPRFLTRPKAFVVSVGKDATLSCQIVGNPTPQVSWEKD...      A6NGQ3    8923  "
      ]
     },
     "execution_count": 135,
     "metadata": {},
     "output_type": "execute_result"
    }
   ],
   "source": [
    "merged.head()"
   ]
  },
  {
   "cell_type": "code",
   "execution_count": 144,
   "metadata": {
    "collapsed": false
   },
   "outputs": [
    {
     "name": "stdout",
     "output_type": "stream",
     "text": [
      "140\n"
     ]
    }
   ],
   "source": [
    "# open the raw files\n",
    "ms = pd.read_csv('/cellar/users/ramarty/Data/hla_ii/validation/ciudad/raw/DonorA_DRB10301_DRB11101.csv')\n",
    "ms = ms[['Peptide sequence', 'Uniprot AC']]\n",
    "ms.columns = ['measured_peptide', 'uniprot_AC']\n",
    "print len(ms)"
   ]
  },
  {
   "cell_type": "code",
   "execution_count": 146,
   "metadata": {
    "collapsed": false
   },
   "outputs": [],
   "source": [
    "# merge together based on protein id\n",
    "ms = pd.merge(ms, merged, on='uniprot_AC', how='left')"
   ]
  },
  {
   "cell_type": "code",
   "execution_count": 147,
   "metadata": {
    "collapsed": false
   },
   "outputs": [
    {
     "data": {
      "text/html": [
       "<div>\n",
       "<table border=\"1\" class=\"dataframe\">\n",
       "  <thead>\n",
       "    <tr style=\"text-align: right;\">\n",
       "      <th></th>\n",
       "      <th>measured_peptide</th>\n",
       "      <th>uniprot_AC</th>\n",
       "      <th>gene</th>\n",
       "      <th>protein</th>\n",
       "      <th>sequence</th>\n",
       "      <th>length</th>\n",
       "    </tr>\n",
       "  </thead>\n",
       "  <tbody>\n",
       "    <tr>\n",
       "      <th>0</th>\n",
       "      <td>PSGWWKGRLHGQEGLFPGNYVEKI</td>\n",
       "      <td>O00160</td>\n",
       "      <td>MYO1F</td>\n",
       "      <td>ENSP00000344871</td>\n",
       "      <td>MGSKERFHWQSHNVKQSGVDDMVLLPQITEDAIAANLRKRFMDDYI...</td>\n",
       "      <td>1098.0</td>\n",
       "    </tr>\n",
       "    <tr>\n",
       "      <th>1</th>\n",
       "      <td>HVGFIFKNGKITSIVK</td>\n",
       "      <td>O00560</td>\n",
       "      <td>SDCBP</td>\n",
       "      <td>ENSP00000260130</td>\n",
       "      <td>MSLYPSLEDLKVDKVIQAQTAFSANPANPAILSEASAPIPHDGNLY...</td>\n",
       "      <td>298.0</td>\n",
       "    </tr>\n",
       "    <tr>\n",
       "      <th>2</th>\n",
       "      <td>ITSIVKDSSAARNGLL</td>\n",
       "      <td>O00560</td>\n",
       "      <td>SDCBP</td>\n",
       "      <td>ENSP00000260130</td>\n",
       "      <td>MSLYPSLEDLKVDKVIQAQTAFSANPANPAILSEASAPIPHDGNLY...</td>\n",
       "      <td>298.0</td>\n",
       "    </tr>\n",
       "    <tr>\n",
       "      <th>3</th>\n",
       "      <td>PRVPWVKMILNKLSQ</td>\n",
       "      <td>O00626</td>\n",
       "      <td>CCL22</td>\n",
       "      <td>ENSP00000219235</td>\n",
       "      <td>MDRLQTALLVVLVLLAVALQATEAGPYGANMEDSVCCRDYVRYRLP...</td>\n",
       "      <td>93.0</td>\n",
       "    </tr>\n",
       "    <tr>\n",
       "      <th>4</th>\n",
       "      <td>RGFYCNDESIKYPL</td>\n",
       "      <td>O14495</td>\n",
       "      <td>PLPP3</td>\n",
       "      <td>ENSP00000360296</td>\n",
       "      <td>MQNYKYDKAIVPESKNGGSPALNNNPRRSGSKRVLLICLDLFCLFM...</td>\n",
       "      <td>311.0</td>\n",
       "    </tr>\n",
       "  </tbody>\n",
       "</table>\n",
       "</div>"
      ],
      "text/plain": [
       "           measured_peptide uniprot_AC   gene          protein  \\\n",
       "0  PSGWWKGRLHGQEGLFPGNYVEKI     O00160  MYO1F  ENSP00000344871   \n",
       "1          HVGFIFKNGKITSIVK     O00560  SDCBP  ENSP00000260130   \n",
       "2          ITSIVKDSSAARNGLL     O00560  SDCBP  ENSP00000260130   \n",
       "3           PRVPWVKMILNKLSQ     O00626  CCL22  ENSP00000219235   \n",
       "4            RGFYCNDESIKYPL     O14495  PLPP3  ENSP00000360296   \n",
       "\n",
       "                                            sequence  length  \n",
       "0  MGSKERFHWQSHNVKQSGVDDMVLLPQITEDAIAANLRKRFMDDYI...  1098.0  \n",
       "1  MSLYPSLEDLKVDKVIQAQTAFSANPANPAILSEASAPIPHDGNLY...   298.0  \n",
       "2  MSLYPSLEDLKVDKVIQAQTAFSANPANPAILSEASAPIPHDGNLY...   298.0  \n",
       "3  MDRLQTALLVVLVLLAVALQATEAGPYGANMEDSVCCRDYVRYRLP...    93.0  \n",
       "4  MQNYKYDKAIVPESKNGGSPALNNNPRRSGSKRVLLICLDLFCLFM...   311.0  "
      ]
     },
     "execution_count": 147,
     "metadata": {},
     "output_type": "execute_result"
    }
   ],
   "source": [
    "ms.head()"
   ]
  },
  {
   "cell_type": "code",
   "execution_count": 149,
   "metadata": {
    "collapsed": false
   },
   "outputs": [],
   "source": [
    "def get_combined(x):\n",
    "    try:\n",
    "        gene = x[0]\n",
    "        peptide = x[1]\n",
    "        aa = peptide[len(peptide)/2]\n",
    "        residue = list(ms[ms.measured_peptide == peptide].sequence)[0].find(peptide) + 1 + (len(peptide) / 2)\n",
    "        return '{0}_{1}{2}{3}'.format(gene, aa, residue, aa)\n",
    "    except:\n",
    "        return 'fail'\n",
    "ms['combined'] = ms[['gene', 'measured_peptide', 'sequence']].apply(get_combined, axis=1)"
   ]
  },
  {
   "cell_type": "code",
   "execution_count": 151,
   "metadata": {
    "collapsed": true
   },
   "outputs": [],
   "source": [
    "processed = ms[ms.combined != 'fail']\n",
    "mutations = list(set(processed.combined))"
   ]
  },
  {
   "cell_type": "code",
   "execution_count": null,
   "metadata": {
    "collapsed": true
   },
   "outputs": [],
   "source": [
    "with open('/cellar/users/ramarty/Data/hla_ii/validation/ciudad/residues/{0}.txt'.format(allele), 'w') as outfile:\n",
    "    for mutation in mutations:\n",
    "        outfile.write('{0}\\n'.format(mutation))"
   ]
  },
  {
   "cell_type": "code",
   "execution_count": null,
   "metadata": {
    "collapsed": true
   },
   "outputs": [],
   "source": []
  },
  {
   "cell_type": "code",
   "execution_count": null,
   "metadata": {
    "collapsed": true
   },
   "outputs": [],
   "source": []
  }
 ],
 "metadata": {
  "kernelspec": {
   "display_name": "Python 2",
   "language": "python",
   "name": "python2"
  },
  "language_info": {
   "codemirror_mode": {
    "name": "ipython",
    "version": 2
   },
   "file_extension": ".py",
   "mimetype": "text/x-python",
   "name": "python",
   "nbconvert_exporter": "python",
   "pygments_lexer": "ipython2",
   "version": "2.7.12"
  }
 },
 "nbformat": 4,
 "nbformat_minor": 0
}
