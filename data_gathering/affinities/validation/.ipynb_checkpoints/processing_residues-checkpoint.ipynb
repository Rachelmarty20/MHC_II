{
 "cells": [
  {
   "cell_type": "code",
   "execution_count": 1,
   "metadata": {
    "collapsed": false
   },
   "outputs": [
    {
     "name": "stdout",
     "output_type": "stream",
     "text": [
      "Populating the interactive namespace from numpy and matplotlib\n"
     ]
    },
    {
     "name": "stderr",
     "output_type": "stream",
     "text": [
      "/cellar/users/ramarty/anaconda/lib/python2.7/site-packages/IPython/nbformat/current.py:19: UserWarning: IPython.nbformat.current is deprecated.\n",
      "\n",
      "- use IPython.nbformat for read/write/validate public API\n",
      "- use IPython.nbformat.vX directly to composing notebooks of a particular version\n",
      "\n",
      "  \"\"\")\n"
     ]
    }
   ],
   "source": [
    "import io\n",
    "from IPython.nbformat import current\n",
    "def execute_notebook(nbfile):\n",
    "    with io.open(nbfile) as f:\n",
    "        nb = current.read(f, 'json')\n",
    "    ip = get_ipython()\n",
    "    for cell in nb.worksheets[0].cells:\n",
    "        if cell.cell_type != 'code':\n",
    "            continue\n",
    "        ip.run_cell(cell.input)\n",
    "execute_notebook(\"/cellar/users/ramarty/Projects/hla_ii/bin/imports.ipynb\")\n",
    "execute_notebook(\"/cellar/users/ramarty/Projects/hla_ii/bin/gathering_affinities.ipynb\")"
   ]
  },
  {
   "cell_type": "markdown",
   "metadata": {},
   "source": [
    "###See python script <br>\n",
    "Notebook for working purposes only"
   ]
  },
  {
   "cell_type": "code",
   "execution_count": 130,
   "metadata": {
    "collapsed": false
   },
   "outputs": [],
   "source": [
    "# get proteome reference\n",
    "merged = gather_protein_sequences()"
   ]
  },
  {
   "cell_type": "code",
   "execution_count": 135,
   "metadata": {
    "collapsed": false,
    "scrolled": true
   },
   "outputs": [
    {
     "data": {
      "text/html": [
       "<div>\n",
       "<table border=\"1\" class=\"dataframe\">\n",
       "  <thead>\n",
       "    <tr style=\"text-align: right;\">\n",
       "      <th></th>\n",
       "      <th>gene</th>\n",
       "      <th>protein</th>\n",
       "      <th>sequence</th>\n",
       "      <th>uniprot_AC</th>\n",
       "      <th>length</th>\n",
       "    </tr>\n",
       "  </thead>\n",
       "  <tbody>\n",
       "    <tr>\n",
       "      <th>99474</th>\n",
       "      <td>TTN</td>\n",
       "      <td>ENSP00000467141</td>\n",
       "      <td>MTTQAPTFTQPLQSVVVLEGSTATFEAHISGFPVPEVSWFRDGQVI...</td>\n",
       "      <td>A0A0A0MTS7</td>\n",
       "      <td>35991</td>\n",
       "    </tr>\n",
       "    <tr>\n",
       "      <th>99472</th>\n",
       "      <td>TTN</td>\n",
       "      <td>ENSP00000343764</td>\n",
       "      <td>MTTQAPTFTQPLQSVVVLEGSTATFEAHISGFPVPEVSWFRDGQVI...</td>\n",
       "      <td>Q8WZ42</td>\n",
       "      <td>33423</td>\n",
       "    </tr>\n",
       "    <tr>\n",
       "      <th>99477</th>\n",
       "      <td>TTN</td>\n",
       "      <td>ENSP00000340554</td>\n",
       "      <td>MTTQAPTFTQPLQSVVVLEGSTATFEAHISGFPVPEVSWFRDGQVI...</td>\n",
       "      <td>A0A0A0MRA3</td>\n",
       "      <td>27118</td>\n",
       "    </tr>\n",
       "    <tr>\n",
       "      <th>72694</th>\n",
       "      <td>MUC16</td>\n",
       "      <td>ENSP00000381008</td>\n",
       "      <td>MLKPSGLPGSSSPTRSLMTGSRSTKATPEMDSGLTGATLSPKTSTG...</td>\n",
       "      <td>Q8WXI7</td>\n",
       "      <td>14507</td>\n",
       "    </tr>\n",
       "    <tr>\n",
       "      <th>61505</th>\n",
       "      <td>OBSCN</td>\n",
       "      <td>ENSP00000355668</td>\n",
       "      <td>MDQPQFSGAPRFLTRPKAFVVSVGKDATLSCQIVGNPTPQVSWEKD...</td>\n",
       "      <td>A6NGQ3</td>\n",
       "      <td>8923</td>\n",
       "    </tr>\n",
       "  </tbody>\n",
       "</table>\n",
       "</div>"
      ],
      "text/plain": [
       "        gene          protein  \\\n",
       "99474    TTN  ENSP00000467141   \n",
       "99472    TTN  ENSP00000343764   \n",
       "99477    TTN  ENSP00000340554   \n",
       "72694  MUC16  ENSP00000381008   \n",
       "61505  OBSCN  ENSP00000355668   \n",
       "\n",
       "                                                sequence  uniprot_AC  length  \n",
       "99474  MTTQAPTFTQPLQSVVVLEGSTATFEAHISGFPVPEVSWFRDGQVI...  A0A0A0MTS7   35991  \n",
       "99472  MTTQAPTFTQPLQSVVVLEGSTATFEAHISGFPVPEVSWFRDGQVI...      Q8WZ42   33423  \n",
       "99477  MTTQAPTFTQPLQSVVVLEGSTATFEAHISGFPVPEVSWFRDGQVI...  A0A0A0MRA3   27118  \n",
       "72694  MLKPSGLPGSSSPTRSLMTGSRSTKATPEMDSGLTGATLSPKTSTG...      Q8WXI7   14507  \n",
       "61505  MDQPQFSGAPRFLTRPKAFVVSVGKDATLSCQIVGNPTPQVSWEKD...      A6NGQ3    8923  "
      ]
     },
     "execution_count": 135,
     "metadata": {},
     "output_type": "execute_result"
    }
   ],
   "source": [
    "merged.head()"
   ]
  },
  {
   "cell_type": "code",
   "execution_count": 280,
   "metadata": {
    "collapsed": true
   },
   "outputs": [],
   "source": [
    "file_names = ['DonorA_DRB10301_DRB11101.csv',  'DonorD_DRB10101_DRB10701.csv',\n",
    "                  'DonorG_DRB10701_DRB11501_DRB50101.csv', 'DonorB_DRB10401_DRB11301.csv',\n",
    "                  'DonorE_DRB10101_DRB11101.csv', 'DonorC_DRB10401_DRB11301.csv',\n",
    "                  'DonorF_DRB10901_DRB11001.csv']"
   ]
  },
  {
   "cell_type": "code",
   "execution_count": 289,
   "metadata": {
    "collapsed": false
   },
   "outputs": [
    {
     "name": "stdout",
     "output_type": "stream",
     "text": [
      "219\n"
     ]
    }
   ],
   "source": [
    "# open the raw files\n",
    "donor = 'DonorD'\n",
    "file = [x for x in file_names if donor in x][0]\n",
    "ms = pd.read_csv('/cellar/users/ramarty/Data/hla_ii/validation/ciudad/raw/{0}'.format(file))\n",
    "ms = ms[['Peptide sequence', 'Uniprot AC']]\n",
    "ms.columns = ['measured_peptide', 'uniprot_AC']\n",
    "print len(ms)"
   ]
  },
  {
   "cell_type": "code",
   "execution_count": 295,
   "metadata": {
    "collapsed": true
   },
   "outputs": [],
   "source": [
    "# merge and unintential spaces\n",
    "def combine_separated_peptide(x):\n",
    "    if len(x.split(' ')) > 1:\n",
    "        return ''.join(x.split(' '))\n",
    "    else:\n",
    "        return x\n",
    "ms.measured_peptide = ms.measured_peptide.apply(combine_separated_peptide)"
   ]
  },
  {
   "cell_type": "code",
   "execution_count": 297,
   "metadata": {
    "collapsed": false
   },
   "outputs": [],
   "source": [
    "# merge together based on protein id\n",
    "ms = pd.merge(ms, merged, on='uniprot_AC', how='left')"
   ]
  },
  {
   "cell_type": "markdown",
   "metadata": {},
   "source": [
    "### Create residues"
   ]
  },
  {
   "cell_type": "code",
   "execution_count": 331,
   "metadata": {
    "collapsed": false
   },
   "outputs": [],
   "source": [
    "def get_combined(x):\n",
    "    try:\n",
    "        gene = x[0]\n",
    "        peptide = x[1]\n",
    "        aa = peptide[len(peptide)/2]\n",
    "        searched_position = list(ms[ms.measured_peptide == peptide].sequence)[0].find(peptide)\n",
    "        residue = searched_position + 1 + (len(peptide) / 2)\n",
    "        if searched_position == -1:\n",
    "            return 'fail'\n",
    "        else:\n",
    "            return '{0}_{1}{2}{3}'.format(gene, aa, residue, aa)\n",
    "    except:\n",
    "        return 'fail'\n",
    "ms['combined'] = ms[['gene', 'measured_peptide', 'sequence']].apply(get_combined, axis=1)"
   ]
  },
  {
   "cell_type": "code",
   "execution_count": 332,
   "metadata": {
    "collapsed": false
   },
   "outputs": [
    {
     "name": "stdout",
     "output_type": "stream",
     "text": [
      "142\n"
     ]
    }
   ],
   "source": [
    "processed = ms[ms.combined != 'fail']\n",
    "mutations = list(set(processed.combined))\n",
    "print len(mutations)"
   ]
  },
  {
   "cell_type": "code",
   "execution_count": 333,
   "metadata": {
    "collapsed": false
   },
   "outputs": [
    {
     "data": {
      "text/plain": [
       "False"
      ]
     },
     "execution_count": 333,
     "metadata": {},
     "output_type": "execute_result"
    }
   ],
   "source": [
    "'GDI2_A7A' in mutations"
   ]
  },
  {
   "cell_type": "code",
   "execution_count": 334,
   "metadata": {
    "collapsed": false
   },
   "outputs": [
    {
     "ename": "IndexError",
     "evalue": "list index out of range",
     "output_type": "error",
     "traceback": [
      "\u001b[1;31m---------------------------------------------------------------------------\u001b[0m",
      "\u001b[1;31mIndexError\u001b[0m                                Traceback (most recent call last)",
      "\u001b[1;32m<ipython-input-334-bf2276d50e95>\u001b[0m in \u001b[0;36m<module>\u001b[1;34m()\u001b[0m\n\u001b[1;32m----> 1\u001b[1;33m \u001b[0mpeptide\u001b[0m \u001b[1;33m=\u001b[0m \u001b[0mlist\u001b[0m\u001b[1;33m(\u001b[0m\u001b[0mprocessed\u001b[0m\u001b[1;33m[\u001b[0m\u001b[0mprocessed\u001b[0m\u001b[1;33m.\u001b[0m\u001b[0mcombined\u001b[0m \u001b[1;33m==\u001b[0m \u001b[1;34m'GDI2_A7A'\u001b[0m\u001b[1;33m]\u001b[0m\u001b[1;33m.\u001b[0m\u001b[0mmeasured_peptide\u001b[0m\u001b[1;33m)\u001b[0m\u001b[1;33m[\u001b[0m\u001b[1;36m0\u001b[0m\u001b[1;33m]\u001b[0m\u001b[1;33m\u001b[0m\u001b[0m\n\u001b[0m\u001b[0;32m      2\u001b[0m \u001b[0maa\u001b[0m \u001b[1;33m=\u001b[0m \u001b[0mpeptide\u001b[0m\u001b[1;33m[\u001b[0m\u001b[0mlen\u001b[0m\u001b[1;33m(\u001b[0m\u001b[0mpeptide\u001b[0m\u001b[1;33m)\u001b[0m\u001b[1;33m/\u001b[0m\u001b[1;36m2\u001b[0m\u001b[1;33m]\u001b[0m\u001b[1;33m\u001b[0m\u001b[0m\n\u001b[0;32m      3\u001b[0m \u001b[0mresidue\u001b[0m \u001b[1;33m=\u001b[0m \u001b[0mlist\u001b[0m\u001b[1;33m(\u001b[0m\u001b[0mms\u001b[0m\u001b[1;33m[\u001b[0m\u001b[0mms\u001b[0m\u001b[1;33m.\u001b[0m\u001b[0mmeasured_peptide\u001b[0m \u001b[1;33m==\u001b[0m \u001b[0mpeptide\u001b[0m\u001b[1;33m]\u001b[0m\u001b[1;33m.\u001b[0m\u001b[0msequence\u001b[0m\u001b[1;33m)\u001b[0m\u001b[1;33m[\u001b[0m\u001b[1;36m0\u001b[0m\u001b[1;33m]\u001b[0m\u001b[1;33m.\u001b[0m\u001b[0mfind\u001b[0m\u001b[1;33m(\u001b[0m\u001b[0mpeptide\u001b[0m\u001b[1;33m)\u001b[0m \u001b[1;33m+\u001b[0m \u001b[1;36m1\u001b[0m \u001b[1;33m+\u001b[0m \u001b[1;33m(\u001b[0m\u001b[0mlen\u001b[0m\u001b[1;33m(\u001b[0m\u001b[0mpeptide\u001b[0m\u001b[1;33m)\u001b[0m \u001b[1;33m/\u001b[0m \u001b[1;36m2\u001b[0m\u001b[1;33m)\u001b[0m\u001b[1;33m\u001b[0m\u001b[0m\n",
      "\u001b[1;31mIndexError\u001b[0m: list index out of range"
     ]
    }
   ],
   "source": [
    "peptide = list(processed[processed.combined == 'GDI2_A7A'].measured_peptide)[0]\n",
    "aa = peptide[len(peptide)/2]\n",
    "residue = list(ms[ms.measured_peptide == peptide].sequence)[0].find(peptide) + 1 + (len(peptide) / 2)"
   ]
  },
  {
   "cell_type": "code",
   "execution_count": 330,
   "metadata": {
    "collapsed": false
   },
   "outputs": [
    {
     "data": {
      "text/html": [
       "<div>\n",
       "<table border=\"1\" class=\"dataframe\">\n",
       "  <thead>\n",
       "    <tr style=\"text-align: right;\">\n",
       "      <th></th>\n",
       "      <th>measured_peptide</th>\n",
       "      <th>uniprot_AC</th>\n",
       "      <th>gene</th>\n",
       "      <th>protein</th>\n",
       "      <th>sequence</th>\n",
       "      <th>length</th>\n",
       "      <th>combined</th>\n",
       "    </tr>\n",
       "  </thead>\n",
       "  <tbody>\n",
       "    <tr>\n",
       "      <th>152</th>\n",
       "      <td>LIPKFLMANGQLVK</td>\n",
       "      <td>P50395</td>\n",
       "      <td>GDI2</td>\n",
       "      <td>ENSP00000369528</td>\n",
       "      <td>MNEEYDVIVLGTGLTECILSGIMSVNGKKVLHMDRNPYYGGESASI...</td>\n",
       "      <td>400.0</td>\n",
       "      <td>GDI2_A7A</td>\n",
       "    </tr>\n",
       "  </tbody>\n",
       "</table>\n",
       "</div>"
      ],
      "text/plain": [
       "    measured_peptide uniprot_AC  gene          protein  \\\n",
       "152   LIPKFLMANGQLVK     P50395  GDI2  ENSP00000369528   \n",
       "\n",
       "                                              sequence  length  combined  \n",
       "152  MNEEYDVIVLGTGLTECILSGIMSVNGKKVLHMDRNPYYGGESASI...   400.0  GDI2_A7A  "
      ]
     },
     "execution_count": 330,
     "metadata": {},
     "output_type": "execute_result"
    }
   ],
   "source": [
    "ms[ms.measured_peptide == peptide]"
   ]
  },
  {
   "cell_type": "code",
   "execution_count": 322,
   "metadata": {
    "collapsed": false
   },
   "outputs": [
    {
     "data": {
      "text/plain": [
       "('LIPKFLMANGQLVK',\n",
       " 'MNEEYDVIVLGTGLTECILSGIMSVNGKKVLHMDRNPYYGGESASITPLEDLYKRFKIPGSPPESMGRGRDWNVDLIPKFLMANGLMGLFEKRRFRKFLVYVANFDEKDPRTFEGIDPKKTTMRDVYKKFDLGQDVIDFTGHALALYRTDDYLDQPCYETINRIKLYSESLARYGKSPYLYPLYGLGELPQGFARLSAIYGGTYMLNKPIEEIIVQNGKVIGVKSEGEIARCKQLICDPSYVKDRVEKVGQVIRVICILSHPIKNTNDANSCQIIIPQNQVNRKSDIYVCMISFAHNVAAQGKYIAIVSTTVETKEPEKEIRPALELLEPIEQKFVSISDLLVPKDLGTESQIFISRTYDATTHFETTCDDIKNIYKRMTGSEFDFEEMKRKKNDIYGED')"
      ]
     },
     "execution_count": 322,
     "metadata": {},
     "output_type": "execute_result"
    }
   ],
   "source": [
    "peptide, sequence"
   ]
  },
  {
   "cell_type": "code",
   "execution_count": 300,
   "metadata": {
    "collapsed": false
   },
   "outputs": [
    {
     "data": {
      "text/html": [
       "<div>\n",
       "<table border=\"1\" class=\"dataframe\">\n",
       "  <thead>\n",
       "    <tr style=\"text-align: right;\">\n",
       "      <th></th>\n",
       "      <th>measured_peptide</th>\n",
       "      <th>uniprot_AC</th>\n",
       "      <th>gene</th>\n",
       "      <th>protein</th>\n",
       "      <th>sequence</th>\n",
       "      <th>length</th>\n",
       "      <th>combined</th>\n",
       "    </tr>\n",
       "  </thead>\n",
       "  <tbody>\n",
       "    <tr>\n",
       "      <th>4</th>\n",
       "      <td>VDKVIQAQTAFSANPA</td>\n",
       "      <td>O00560</td>\n",
       "      <td>SDCBP</td>\n",
       "      <td>ENSP00000260130</td>\n",
       "      <td>MSLYPSLEDLKVDKVIQAQTAFSANPANPAILSEASAPIPHDGNLY...</td>\n",
       "      <td>298.0</td>\n",
       "      <td>SDCBP_T20T</td>\n",
       "    </tr>\n",
       "    <tr>\n",
       "      <th>5</th>\n",
       "      <td>VDKVIQAQTAFSANPANPA</td>\n",
       "      <td>O00560</td>\n",
       "      <td>SDCBP</td>\n",
       "      <td>ENSP00000260130</td>\n",
       "      <td>MSLYPSLEDLKVDKVIQAQTAFSANPANPAILSEASAPIPHDGNLY...</td>\n",
       "      <td>298.0</td>\n",
       "      <td>SDCBP_A21A</td>\n",
       "    </tr>\n",
       "    <tr>\n",
       "      <th>6</th>\n",
       "      <td>PRVPWVKMILNKLSQ</td>\n",
       "      <td>O00626</td>\n",
       "      <td>CCL22</td>\n",
       "      <td>ENSP00000219235</td>\n",
       "      <td>MDRLQTALLVVLVLLAVALQATEAGPYGANMEDSVCCRDYVRYRLP...</td>\n",
       "      <td>93.0</td>\n",
       "      <td>CCL22_M86M</td>\n",
       "    </tr>\n",
       "    <tr>\n",
       "      <th>7</th>\n",
       "      <td>DTIHIWKTNSLPLR</td>\n",
       "      <td>O43157</td>\n",
       "      <td>PLXNB1</td>\n",
       "      <td>ENSP00000296440</td>\n",
       "      <td>MPALGPALLQALWAGWVLTLQPLPPTAFTPNGTYLQHLARDPTSGT...</td>\n",
       "      <td>2135.0</td>\n",
       "      <td>PLXNB1_T1978T</td>\n",
       "    </tr>\n",
       "    <tr>\n",
       "      <th>8</th>\n",
       "      <td>IHIWKTNSLPLR</td>\n",
       "      <td>O43157</td>\n",
       "      <td>PLXNB1</td>\n",
       "      <td>ENSP00000296440</td>\n",
       "      <td>MPALGPALLQALWAGWVLTLQPLPPTAFTPNGTYLQHLARDPTSGT...</td>\n",
       "      <td>2135.0</td>\n",
       "      <td>PLXNB1_N1979N</td>\n",
       "    </tr>\n",
       "    <tr>\n",
       "      <th>9</th>\n",
       "      <td>DTPDIRRFDPIPAQYVRVYPE</td>\n",
       "      <td>O60462</td>\n",
       "      <td>NRP2</td>\n",
       "      <td>ENSP00000272849</td>\n",
       "      <td>MDMFPLTWVFLALYFSRHQVRGQPDPPCGGRLNSKDAGYITSPGYP...</td>\n",
       "      <td>906.0</td>\n",
       "      <td>NRP2_I566I</td>\n",
       "    </tr>\n",
       "    <tr>\n",
       "      <th>10</th>\n",
       "      <td>IRRFDPIPAQYVR</td>\n",
       "      <td>O60462</td>\n",
       "      <td>NRP2</td>\n",
       "      <td>ENSP00000272849</td>\n",
       "      <td>MDMFPLTWVFLALYFSRHQVRGQPDPPCGGRLNSKDAGYITSPGYP...</td>\n",
       "      <td>906.0</td>\n",
       "      <td>NRP2_I566I</td>\n",
       "    </tr>\n",
       "    <tr>\n",
       "      <th>11</th>\n",
       "      <td>LLPIMFEVMLVSGVLY</td>\n",
       "      <td>O75027</td>\n",
       "      <td>ABCB7</td>\n",
       "      <td>ENSP00000253577</td>\n",
       "      <td>MALLAMHSWRWAAAAAAFEKRRHSAILIRPLVSVSGSGPQWRPHQL...</td>\n",
       "      <td>753.0</td>\n",
       "      <td>ABCB7_M280M</td>\n",
       "    </tr>\n",
       "    <tr>\n",
       "      <th>12</th>\n",
       "      <td>ALATISTLEAVRGRPF</td>\n",
       "      <td>O75629</td>\n",
       "      <td>CREG1</td>\n",
       "      <td>ENSP00000359540</td>\n",
       "      <td>MAGLSRGSARALLAALLASTLLALLVSPARGRGGRDHGDWDEASRL...</td>\n",
       "      <td>220.0</td>\n",
       "      <td>CREG1_E78E</td>\n",
       "    </tr>\n",
       "    <tr>\n",
       "      <th>13</th>\n",
       "      <td>ALATISTLEAVRGRPFA</td>\n",
       "      <td>O75629</td>\n",
       "      <td>CREG1</td>\n",
       "      <td>ENSP00000359540</td>\n",
       "      <td>MAGLSRGSARALLAALLASTLLALLVSPARGRGGRDHGDWDEASRL...</td>\n",
       "      <td>220.0</td>\n",
       "      <td>CREG1_E78E</td>\n",
       "    </tr>\n",
       "  </tbody>\n",
       "</table>\n",
       "</div>"
      ],
      "text/plain": [
       "         measured_peptide uniprot_AC    gene          protein  \\\n",
       "4        VDKVIQAQTAFSANPA     O00560   SDCBP  ENSP00000260130   \n",
       "5     VDKVIQAQTAFSANPANPA     O00560   SDCBP  ENSP00000260130   \n",
       "6         PRVPWVKMILNKLSQ     O00626   CCL22  ENSP00000219235   \n",
       "7          DTIHIWKTNSLPLR     O43157  PLXNB1  ENSP00000296440   \n",
       "8            IHIWKTNSLPLR     O43157  PLXNB1  ENSP00000296440   \n",
       "9   DTPDIRRFDPIPAQYVRVYPE     O60462    NRP2  ENSP00000272849   \n",
       "10          IRRFDPIPAQYVR     O60462    NRP2  ENSP00000272849   \n",
       "11       LLPIMFEVMLVSGVLY     O75027   ABCB7  ENSP00000253577   \n",
       "12       ALATISTLEAVRGRPF     O75629   CREG1  ENSP00000359540   \n",
       "13      ALATISTLEAVRGRPFA     O75629   CREG1  ENSP00000359540   \n",
       "\n",
       "                                             sequence  length       combined  \n",
       "4   MSLYPSLEDLKVDKVIQAQTAFSANPANPAILSEASAPIPHDGNLY...   298.0     SDCBP_T20T  \n",
       "5   MSLYPSLEDLKVDKVIQAQTAFSANPANPAILSEASAPIPHDGNLY...   298.0     SDCBP_A21A  \n",
       "6   MDRLQTALLVVLVLLAVALQATEAGPYGANMEDSVCCRDYVRYRLP...    93.0     CCL22_M86M  \n",
       "7   MPALGPALLQALWAGWVLTLQPLPPTAFTPNGTYLQHLARDPTSGT...  2135.0  PLXNB1_T1978T  \n",
       "8   MPALGPALLQALWAGWVLTLQPLPPTAFTPNGTYLQHLARDPTSGT...  2135.0  PLXNB1_N1979N  \n",
       "9   MDMFPLTWVFLALYFSRHQVRGQPDPPCGGRLNSKDAGYITSPGYP...   906.0     NRP2_I566I  \n",
       "10  MDMFPLTWVFLALYFSRHQVRGQPDPPCGGRLNSKDAGYITSPGYP...   906.0     NRP2_I566I  \n",
       "11  MALLAMHSWRWAAAAAAFEKRRHSAILIRPLVSVSGSGPQWRPHQL...   753.0    ABCB7_M280M  \n",
       "12  MAGLSRGSARALLAALLASTLLALLVSPARGRGGRDHGDWDEASRL...   220.0     CREG1_E78E  \n",
       "13  MAGLSRGSARALLAALLASTLLALLVSPARGRGGRDHGDWDEASRL...   220.0     CREG1_E78E  "
      ]
     },
     "execution_count": 300,
     "metadata": {},
     "output_type": "execute_result"
    }
   ],
   "source": [
    "processed.head(10)"
   ]
  },
  {
   "cell_type": "code",
   "execution_count": 302,
   "metadata": {
    "collapsed": true
   },
   "outputs": [],
   "source": [
    "with open('/cellar/users/ramarty/Data/hla_ii/validation/ciudad/residues/{0}.txt'.format(donor), 'w') as outfile:\n",
    "    for mutation in mutations:\n",
    "        outfile.write('{0}\\n'.format(mutation))"
   ]
  },
  {
   "cell_type": "markdown",
   "metadata": {},
   "source": [
    "Random also (want to keep validation contained in validation directory while testing)"
   ]
  },
  {
   "cell_type": "code",
   "execution_count": 2,
   "metadata": {
    "collapsed": true
   },
   "outputs": [],
   "source": [
    "mutations = [x.strip() for x in open('/cellar/users/ramarty/Data/hla_ii/presentation/residues/random.txt').readlines()][:1000]"
   ]
  },
  {
   "cell_type": "code",
   "execution_count": 3,
   "metadata": {
    "collapsed": true
   },
   "outputs": [],
   "source": [
    "for donor in ['DonorA', 'DonorB', 'DonorC', 'DonorD', 'DonorE', 'DonorF', 'DonorG']:\n",
    "    with open('/cellar/users/ramarty/Data/hla_ii/validation/ciudad/residues/{0}.random.txt'.format(donor), 'w') as outfile:\n",
    "        for mutation in mutations:\n",
    "            outfile.write('{0}\\n'.format(mutation))"
   ]
  },
  {
   "cell_type": "code",
   "execution_count": null,
   "metadata": {
    "collapsed": true
   },
   "outputs": [],
   "source": []
  },
  {
   "cell_type": "code",
   "execution_count": null,
   "metadata": {
    "collapsed": true
   },
   "outputs": [],
   "source": []
  },
  {
   "cell_type": "markdown",
   "metadata": {},
   "source": [
    "### Create fasta files <br>\n",
    "Start with lengths of 15 and go from there? Need 29 residues"
   ]
  },
  {
   "cell_type": "code",
   "execution_count": 4,
   "metadata": {
    "collapsed": false
   },
   "outputs": [
    {
     "ename": "NameError",
     "evalue": "name 'processed' is not defined",
     "output_type": "error",
     "traceback": [
      "\u001b[1;31m---------------------------------------------------------------------------\u001b[0m",
      "\u001b[1;31mNameError\u001b[0m                                 Traceback (most recent call last)",
      "\u001b[1;32m<ipython-input-4-14e9c9071195>\u001b[0m in \u001b[0;36m<module>\u001b[1;34m()\u001b[0m\n\u001b[0;32m     15\u001b[0m     \u001b[1;32melse\u001b[0m\u001b[1;33m:\u001b[0m\u001b[1;33m\u001b[0m\u001b[0m\n\u001b[0;32m     16\u001b[0m         \u001b[1;32mreturn\u001b[0m \u001b[1;34m'fail'\u001b[0m\u001b[1;33m\u001b[0m\u001b[0m\n\u001b[1;32m---> 17\u001b[1;33m \u001b[0mprocessed\u001b[0m\u001b[1;33m[\u001b[0m\u001b[1;34m'sequence_for_affinity'\u001b[0m\u001b[1;33m]\u001b[0m \u001b[1;33m=\u001b[0m \u001b[0mprocessed\u001b[0m\u001b[1;33m.\u001b[0m\u001b[0mloc\u001b[0m\u001b[1;33m[\u001b[0m\u001b[1;33m:\u001b[0m\u001b[1;33m,\u001b[0m \u001b[1;33m[\u001b[0m\u001b[1;34m'combined'\u001b[0m\u001b[1;33m,\u001b[0m \u001b[1;34m'sequence'\u001b[0m\u001b[1;33m]\u001b[0m\u001b[1;33m]\u001b[0m\u001b[1;33m.\u001b[0m\u001b[0mapply\u001b[0m\u001b[1;33m(\u001b[0m\u001b[0msequence_for_affinity\u001b[0m\u001b[1;33m,\u001b[0m \u001b[0maxis\u001b[0m\u001b[1;33m=\u001b[0m\u001b[1;36m1\u001b[0m\u001b[1;33m)\u001b[0m\u001b[1;33m\u001b[0m\u001b[0m\n\u001b[0m",
      "\u001b[1;31mNameError\u001b[0m: name 'processed' is not defined"
     ]
    }
   ],
   "source": [
    "def sequence_for_affinity(x):\n",
    "    combined = x[0]\n",
    "    sequence = x[1]\n",
    "    residue = combined.split('_')[1]\n",
    "    position = int(residue[1:len(residue)-1]) - 1\n",
    "    old_aa = residue[0]\n",
    "    new_aa = residue[-1:]\n",
    "    if len(sequence) >= position and sequence[position] == old_aa:\n",
    "        mutated_sequence = sequence[:position] + new_aa + sequence[position+1:]\n",
    "        if position > 13:\n",
    "            seq_for_affinity = mutated_sequence[position-14:position+15]\n",
    "        else:\n",
    "            seq_for_affinity = mutated_sequence[:position+15]\n",
    "        return seq_for_affinity\n",
    "    else:\n",
    "        return 'fail'\n",
    "processed['sequence_for_affinity'] = processed.loc[:, ['combined', 'sequence']].apply(sequence_for_affinity, axis=1)"
   ]
  },
  {
   "cell_type": "code",
   "execution_count": 305,
   "metadata": {
    "collapsed": false,
    "scrolled": true
   },
   "outputs": [],
   "source": [
    "with open('/cellar/users/ramarty/Data/hla_ii/validation/ciudad/fasta_files/{0}.fa'.format(donor), 'w') as outfile:\n",
    "    for row in processed.iterrows():\n",
    "        combined = row[1]['combined']\n",
    "        sequence = row[1]['sequence_for_affinity']\n",
    "        outfile.write('>{0}\\n'.format(combined))\n",
    "        outfile.write('{0}\\n'.format(sequence))"
   ]
  },
  {
   "cell_type": "markdown",
   "metadata": {
    "collapsed": true
   },
   "source": [
    "### Cluster run"
   ]
  },
  {
   "cell_type": "code",
   "execution_count": 11,
   "metadata": {
    "collapsed": true
   },
   "outputs": [],
   "source": [
    "def create_cluster_script(lengths):\n",
    "\n",
    "    new_script_file = '/cellar/users/ramarty/Projects/hla_ii/data_gathering/affinities/validation/generate_fastas.sh'\n",
    "    \n",
    "    with open(new_script_file, 'w') as out_file:\n",
    "        out_file.write(\"#! /bin/csh\\n\")\n",
    "        out_file.write(\"#$ -V\\n\")\n",
    "        out_file.write(\"#$ -S /bin/csh\\n\")\n",
    "        out_file.write(\"#$ -o /cellar/users/ramarty/Data/hla_ii/sge-system_files\\n\")\n",
    "        out_file.write(\"#$ -e /cellar/users/ramarty/Data/hla_ii/sge-system_files\\n\")\n",
    "        out_file.write(\"#$ -cwd\\n\")\n",
    "        out_file.write(\"#$ -t 1-{0}\\n\".format(len(lengths)))\n",
    "        out_file.write(\"#$ -l h_vmem=1G\\n\")\n",
    "        out_file.write(\"#$ -tc 50\\n\")\n",
    "        out_file.write(\"#$ -l long\")\n",
    "        out_file.write(\"\\n\")\n",
    "\n",
    "        out_file.write(\"set lengths=({0})\\n\".format(\" \".join(lengths)))\n",
    "        out_file.write(\"\\n\")\n",
    "\n",
    "        out_file.write(\"set length=$lengths[$SGE_TASK_ID]\\n\")\n",
    "        out_file.write(\"\\n\")\n",
    "\n",
    "        out_file.write(\"date\\n\")\n",
    "        out_file.write(\"hostname\\n\")\n",
    "        out_file.write(\"\\n\")\n",
    "  \n",
    "        out_file.write(\"python /cellar/users/ramarty/Projects/hla_ii/data_gathering/affinities/validation/process_ms_peptides.py $length\\n\")\n",
    "        out_file.write(\"\\n\")\n",
    "                       \n",
    "        out_file.write(\"date\\n\")"
   ]
  },
  {
   "cell_type": "code",
   "execution_count": 10,
   "metadata": {
    "collapsed": true
   },
   "outputs": [],
   "source": [
    "lengths = [str(x) for x in range(13, 26)]"
   ]
  },
  {
   "cell_type": "code",
   "execution_count": 12,
   "metadata": {
    "collapsed": false
   },
   "outputs": [],
   "source": [
    "create_cluster_script(lengths)"
   ]
  },
  {
   "cell_type": "code",
   "execution_count": null,
   "metadata": {
    "collapsed": true
   },
   "outputs": [],
   "source": []
  },
  {
   "cell_type": "code",
   "execution_count": null,
   "metadata": {
    "collapsed": true
   },
   "outputs": [],
   "source": []
  }
 ],
 "metadata": {
  "kernelspec": {
   "display_name": "Python 2",
   "language": "python",
   "name": "python2"
  },
  "language_info": {
   "codemirror_mode": {
    "name": "ipython",
    "version": 2
   },
   "file_extension": ".py",
   "mimetype": "text/x-python",
   "name": "python",
   "nbconvert_exporter": "python",
   "pygments_lexer": "ipython2",
   "version": "2.7.12"
  }
 },
 "nbformat": 4,
 "nbformat_minor": 0
}
