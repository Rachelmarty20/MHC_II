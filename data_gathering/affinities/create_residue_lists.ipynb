{
 "cells": [
  {
   "cell_type": "code",
   "execution_count": 1,
   "metadata": {
    "collapsed": false
   },
   "outputs": [
    {
     "name": "stderr",
     "output_type": "stream",
     "text": [
      "/cellar/users/ramarty/anaconda/lib/python2.7/site-packages/IPython/nbformat/current.py:19: UserWarning: IPython.nbformat.current is deprecated.\n",
      "\n",
      "- use IPython.nbformat for read/write/validate public API\n",
      "- use IPython.nbformat.vX directly to composing notebooks of a particular version\n",
      "\n",
      "  \"\"\")\n",
      "/cellar/users/ramarty/anaconda/lib/python2.7/site-packages/sklearn/cross_validation.py:44: DeprecationWarning: This module was deprecated in version 0.18 in favor of the model_selection module into which all the refactored classes and functions are moved. Also note that the interface of the new CV iterators are different from that of this module. This module will be removed in 0.20.\n",
      "  \"This module will be removed in 0.20.\", DeprecationWarning)\n"
     ]
    },
    {
     "name": "stdout",
     "output_type": "stream",
     "text": [
      "Populating the interactive namespace from numpy and matplotlib\n"
     ]
    }
   ],
   "source": [
    "import io\n",
    "from IPython.nbformat import current\n",
    "def execute_notebook(nbfile):\n",
    "    with io.open(nbfile) as f:\n",
    "        nb = current.read(f, 'json')\n",
    "    ip = get_ipython()\n",
    "    for cell in nb.worksheets[0].cells:\n",
    "        if cell.cell_type != 'code':\n",
    "            continue\n",
    "        ip.run_cell(cell.input)\n",
    "execute_notebook(\"/cellar/users/ramarty/Projects/hla_ii/bin/imports.ipynb\")\n",
    "execute_notebook(\"/cellar/users/ramarty/Projects/hla_ii/bin/gathering_affinities.ipynb\")"
   ]
  },
  {
   "cell_type": "markdown",
   "metadata": {},
   "source": [
    "## Create residue lists from every class <br>\n",
    "Move from hla class_i directory and verify that all are appropriate in the new build"
   ]
  },
  {
   "cell_type": "code",
   "execution_count": 2,
   "metadata": {
    "collapsed": false,
    "scrolled": false
   },
   "outputs": [
    {
     "name": "stderr",
     "output_type": "stream",
     "text": [
      "/cellar/users/ramarty/anaconda/lib/python2.7/site-packages/Bio/Seq.py:341: BiopythonDeprecationWarning: This method is obsolete; please use str(my_seq) instead of my_seq.tostring().\n",
      "  BiopythonDeprecationWarning)\n"
     ]
    }
   ],
   "source": [
    "ensemble = gather_protein_sequences_all()"
   ]
  },
  {
   "cell_type": "code",
   "execution_count": 3,
   "metadata": {
    "collapsed": false,
    "scrolled": true
   },
   "outputs": [
    {
     "data": {
      "text/html": [
       "<div>\n",
       "<table border=\"1\" class=\"dataframe\">\n",
       "  <thead>\n",
       "    <tr style=\"text-align: right;\">\n",
       "      <th></th>\n",
       "      <th>gene</th>\n",
       "      <th>protein</th>\n",
       "      <th>sequence</th>\n",
       "    </tr>\n",
       "  </thead>\n",
       "  <tbody>\n",
       "    <tr>\n",
       "      <th>0</th>\n",
       "      <td>TRDD2</td>\n",
       "      <td>ENSP00000451515</td>\n",
       "      <td>PSY</td>\n",
       "    </tr>\n",
       "    <tr>\n",
       "      <th>1</th>\n",
       "      <td>TRDD3</td>\n",
       "      <td>ENSP00000452494</td>\n",
       "      <td>TGGY</td>\n",
       "    </tr>\n",
       "    <tr>\n",
       "      <th>2</th>\n",
       "      <td>TRDD1</td>\n",
       "      <td>ENSP00000451042</td>\n",
       "      <td>EI</td>\n",
       "    </tr>\n",
       "    <tr>\n",
       "      <th>3</th>\n",
       "      <td>AC239618.6</td>\n",
       "      <td>ENSP00000488240</td>\n",
       "      <td>GTGG</td>\n",
       "    </tr>\n",
       "    <tr>\n",
       "      <th>4</th>\n",
       "      <td>AC245427.8</td>\n",
       "      <td>ENSP00000487941</td>\n",
       "      <td>GTGG</td>\n",
       "    </tr>\n",
       "  </tbody>\n",
       "</table>\n",
       "</div>"
      ],
      "text/plain": [
       "         gene          protein sequence\n",
       "0       TRDD2  ENSP00000451515      PSY\n",
       "1       TRDD3  ENSP00000452494     TGGY\n",
       "2       TRDD1  ENSP00000451042       EI\n",
       "3  AC239618.6  ENSP00000488240     GTGG\n",
       "4  AC245427.8  ENSP00000487941     GTGG"
      ]
     },
     "execution_count": 3,
     "metadata": {},
     "output_type": "execute_result"
    }
   ],
   "source": [
    "ensemble.head()"
   ]
  },
  {
   "cell_type": "code",
   "execution_count": 4,
   "metadata": {
    "collapsed": true
   },
   "outputs": [],
   "source": [
    "def get_valid_mutations(mutations):\n",
    "    mutations_used = []\n",
    "    for mutation in mutations:\n",
    "        try:\n",
    "            gene = mutation.split('_')[0]\n",
    "            if gene == 'MLLT4':\n",
    "                gene = 'AFDN'\n",
    "                mutation = '{0}_{1}'.format(gene, mutation.split('_')[1])\n",
    "            sequences = list(ensemble[ensemble.gene == gene].sequence)\n",
    "            for i, sequence in enumerate(sequences):\n",
    "                residue = mutation.split('_')[1]\n",
    "                position = int(residue[1:len(residue)-1]) - 1\n",
    "                old_aa = residue[0]\n",
    "                new_aa = residue[-1:]\n",
    "                if len(sequence) > position and sequence[position] == old_aa:\n",
    "                    mutations_used.append(mutation)\n",
    "                    break\n",
    "                else:\n",
    "                    if i+1 == len(sequences):\n",
    "                        print mutation\n",
    "                        continue \n",
    "        except:\n",
    "            print mutation\n",
    "    return mutations_used"
   ]
  },
  {
   "cell_type": "markdown",
   "metadata": {},
   "source": [
    "Oncogenes"
   ]
  },
  {
   "cell_type": "code",
   "execution_count": 5,
   "metadata": {
    "collapsed": false
   },
   "outputs": [
    {
     "name": "stdout",
     "output_type": "stream",
     "text": [
      "643 643\n"
     ]
    }
   ],
   "source": [
    "category = 'oncogenes'\n",
    "mutations = [x.strip() for x in open('/cellar/users/ramarty/Data/hla/residue/mutation_files/{0}.txt'.format(category)).readlines()]\n",
    "mutations_used = get_valid_mutations(mutations)\n",
    "print len(mutations), len(mutations_used)"
   ]
  },
  {
   "cell_type": "code",
   "execution_count": 6,
   "metadata": {
    "collapsed": false
   },
   "outputs": [],
   "source": [
    "with open('/cellar/users/ramarty/Data/hla_ii/presentation/residues/{0}.txt'.format(category), 'w') as outfile:\n",
    "    for mutation in mutations_used:\n",
    "        outfile.write('{0}\\n'.format(mutation))"
   ]
  },
  {
   "cell_type": "markdown",
   "metadata": {},
   "source": [
    "TSgenes"
   ]
  },
  {
   "cell_type": "code",
   "execution_count": 11,
   "metadata": {
    "collapsed": false
   },
   "outputs": [
    {
     "name": "stdout",
     "output_type": "stream",
     "text": [
      "602 602\n"
     ]
    }
   ],
   "source": [
    "category = 'tsgenes'\n",
    "mutations = [x.strip() for x in open('/cellar/users/ramarty/Data/hla/residue/mutation_files/{0}.txt'.format(category)).readlines()]\n",
    "mutations_used = get_valid_mutations(mutations)\n",
    "print len(mutations), len(mutations_used)"
   ]
  },
  {
   "cell_type": "code",
   "execution_count": 12,
   "metadata": {
    "collapsed": true
   },
   "outputs": [],
   "source": [
    "with open('/cellar/users/ramarty/Data/hla_ii/presentation/residues/{0}.txt'.format(category), 'w') as outfile:\n",
    "    for mutation in mutations_used:\n",
    "        outfile.write('{0}\\n'.format(mutation))"
   ]
  },
  {
   "cell_type": "markdown",
   "metadata": {},
   "source": [
    "CGC"
   ]
  },
  {
   "cell_type": "code",
   "execution_count": 5,
   "metadata": {
    "collapsed": false
   },
   "outputs": [
    {
     "name": "stdout",
     "output_type": "stream",
     "text": [
      "1118 1109\n"
     ]
    }
   ],
   "source": [
    "category = 'cgc_new'\n",
    "mutations = [x.strip() for x in open('/cellar/users/ramarty/Data/hla_ii/presentation/residues/{0}.test.txt'.format(category)).readlines()]\n",
    "mutations_used = get_valid_mutations(mutations)\n",
    "print len(mutations), len(mutations_used)"
   ]
  },
  {
   "cell_type": "code",
   "execution_count": 6,
   "metadata": {
    "collapsed": true
   },
   "outputs": [],
   "source": [
    "with open('/cellar/users/ramarty/Data/hla_ii/presentation/residues/{0}.txt'.format(category), 'w') as outfile:\n",
    "    for mutation in mutations_used:\n",
    "        outfile.write('{0}\\n'.format(mutation))"
   ]
  },
  {
   "cell_type": "markdown",
   "metadata": {},
   "source": [
    "Indels"
   ]
  },
  {
   "cell_type": "code",
   "execution_count": 80,
   "metadata": {
    "collapsed": false
   },
   "outputs": [],
   "source": [
    "category = 'indels'\n",
    "mutations = list(pd.read_csv('/cellar/users/ramarty/Data/hla/sandbox/david/patient_affinities.in_frame_indels.IS.csv', index_col=0).columns)"
   ]
  },
  {
   "cell_type": "code",
   "execution_count": 81,
   "metadata": {
    "collapsed": false
   },
   "outputs": [],
   "source": [
    "with open('/cellar/users/ramarty/Data/hla_ii/presentation/residues/{0}.txt'.format(category), 'w') as outfile:\n",
    "    for mutation in mutations:\n",
    "        outfile.write('{0}\\n'.format(mutation))"
   ]
  },
  {
   "cell_type": "markdown",
   "metadata": {},
   "source": [
    "Random (see below for an extension of more residues)"
   ]
  },
  {
   "cell_type": "code",
   "execution_count": 13,
   "metadata": {
    "collapsed": true
   },
   "outputs": [
    {
     "name": "stdout",
     "output_type": "stream",
     "text": [
      "PNLIPRP2_T53K\n",
      "ZAN_P2218A\n",
      "SOX7_S141Y\n",
      "GTPBP6_A89D\n",
      "TMEM199_A242P\n",
      "ZCCHC3_R234G\n",
      "RASSF4_Q109E\n",
      "ALMS1_T713N\n",
      "ALMS1_T1141S\n",
      "ALMS1_Y1391N\n",
      "ALMS1_T681N\n",
      "ALMS1_G1478R\n",
      "ALMS1_Q562L\n",
      "ALMS1_L616Q\n",
      "EPHB6_K291N\n",
      "SH2D4B_S422T\n",
      "HMGA1_T86P\n",
      "BIN2_K65T\n",
      "RYR2_A41G\n",
      "CDRT4_P27S\n",
      "RBMX_F3L\n",
      "PGBD2_G10V\n",
      "B3GNT6_H329D\n",
      "CHMP1A_P89T\n",
      "TM9SF1_G204R\n",
      "4738 4470\n"
     ]
    }
   ],
   "source": [
    "category = 'random'\n",
    "mutations = [x.strip() for x in open('/cellar/users/ramarty/Data/hla/residue/mutation_files/{0}.txt'.format(category)).readlines()]\n",
    "mutations_used = get_valid_mutations(mutations)\n",
    "print len(mutations), len(mutations_used)"
   ]
  },
  {
   "cell_type": "code",
   "execution_count": 14,
   "metadata": {
    "collapsed": true
   },
   "outputs": [],
   "source": [
    "with open('/cellar/users/ramarty/Data/hla_ii/presentation/residues/{0}.txt'.format(category), 'w') as outfile:\n",
    "    for mutation in mutations_used[:3000]:\n",
    "        outfile.write('{0}\\n'.format(mutation))"
   ]
  },
  {
   "cell_type": "markdown",
   "metadata": {},
   "source": [
    "Germline <br>\n",
    "see: http://localhost:5000/notebooks/Projects/hla_new/post_submission/individual_analysis/germline_analysis.gather.ipynb"
   ]
  },
  {
   "cell_type": "code",
   "execution_count": 6,
   "metadata": {
    "collapsed": true
   },
   "outputs": [
    {
     "name": "stdout",
     "output_type": "stream",
     "text": [
      "CDK11B_H112R\n",
      "AADACL3_C195F\n",
      "C1orf158_F191L\n",
      "PRAMEF12_M157T\n",
      "HSPG2_G81V\n",
      "HSPG2_W71S\n",
      "FOXO6_A475T\n",
      "DPYD_R29C\n",
      "NTNG1_C361Y\n",
      "ANKRD35_E661Q\n",
      "NBPF12_G3037E\n",
      "NBPF12_P3041S\n",
      "MTX1_T63S\n",
      "CFHR4_N210S\n",
      "CAPN8_T483M\n",
      "ZNF670_N133D\n",
      "CYP1B1_V432L\n",
      "ALMS1_V671G\n",
      "SULT1C3_L281M\n",
      "FSIP2_E5446D\n",
      "FSIP2_R5864Q\n",
      "TMEM40_P12R\n",
      "ZNF717_V648I\n",
      "TPRG1_T142S\n",
      "C4orf50_N39D\n",
      "SPP1_A24V\n",
      "KLKB1_W541R\n",
      "SRD5A1_A39G\n",
      "SRD5A1_T139A\n",
      "KLHL3_H39R\n",
      "SRA1_C20R\n",
      "PCDHB16_R525Q\n",
      "PCDHB16_E526A\n",
      "PCDHB16_E526D\n",
      "HLA-C_V50E\n",
      "HLA-C_A33T\n",
      "MICA_T383A\n",
      "HLA-DQA1_D177G\n",
      "HLA-DQA1_D182E\n",
      "CCDC167_I97V\n",
      "ADGB_K711R\n",
      "AGR2_A7V\n",
      "GTF2IRD2_H514N\n",
      "1200 1071\n"
     ]
    }
   ],
   "source": [
    "category = 'germline'\n",
    "mutations = [x.strip() for x in open('/cellar/users/ramarty/Data/hla/residue/mutation_files/{0}.txt'.format(category)).readlines()]\n",
    "mutations_used = get_valid_mutations(mutations)\n",
    "print len(mutations), len(mutations_used)"
   ]
  },
  {
   "cell_type": "code",
   "execution_count": 7,
   "metadata": {
    "collapsed": true
   },
   "outputs": [],
   "source": [
    "with open('/cellar/users/ramarty/Data/hla_ii/presentation/residues/{0}.txt'.format(category), 'w') as outfile:\n",
    "    for mutation in mutations_used[:1000]:\n",
    "        outfile.write('{0}\\n'.format(mutation))"
   ]
  },
  {
   "cell_type": "markdown",
   "metadata": {},
   "source": [
    "Common"
   ]
  },
  {
   "cell_type": "code",
   "execution_count": 17,
   "metadata": {
    "collapsed": true
   },
   "outputs": [
    {
     "name": "stdout",
     "output_type": "stream",
     "text": [
      "AADACL3_S47P\n",
      "ALMS1_R1005I\n",
      "ANO2_L618P\n",
      "ATF7_A460E\n",
      "CDK11B_H112R\n",
      "AADACL3_C195F\n",
      "C1orf158_F191L\n",
      "PRAMEF12_M157T\n",
      "HSPG2_G81V\n",
      "HSPG2_W71S\n",
      "FOXO6_A475T\n",
      "DPYD_R29C\n",
      "NTNG1_C361Y\n",
      "ANKRD35_E661Q\n",
      "NBPF12_G3037E\n",
      "NBPF12_P3041S\n",
      "MTX1_T63S\n",
      "CFHR4_N210S\n",
      "CAPN8_T483M\n",
      "ZNF670_N133D\n",
      "CYP1B1_V432L\n",
      "ALMS1_V671G\n",
      "SULT1C3_L281M\n",
      "FSIP2_E5446D\n",
      "FSIP2_R5864Q\n",
      "TMEM40_P12R\n",
      "ZNF717_V648I\n",
      "TPRG1_T142S\n",
      "C4orf50_N39D\n",
      "SPP1_A24V\n",
      "KLKB1_W541R\n",
      "SRD5A1_A39G\n",
      "SRD5A1_T139A\n",
      "KLHL3_H39R\n",
      "SRA1_C20R\n",
      "PCDHB16_R525Q\n",
      "PCDHB16_E526A\n",
      "PCDHB16_E526D\n",
      "HLA-C_V50E\n",
      "HLA-C_A33T\n",
      "MICA_T383A\n",
      "HLA-DQA1_D177G\n",
      "HLA-DQA1_D182E\n",
      "CCDC167_I97V\n",
      "2100 1959\n"
     ]
    }
   ],
   "source": [
    "# not all carry over into \n",
    "category = 'common'\n",
    "mutations = [x.strip() for x in open('/cellar/users/ramarty/Data/hla/residue/mutation_files/{0}.txt'.format(category)).readlines()] + [x.strip() for x in open('/cellar/users/ramarty/Data/hla/residue/mutation_files/germline.txt').readlines()]\n",
    "mutations_used = get_valid_mutations(mutations)\n",
    "print len(mutations), len(mutations_used)"
   ]
  },
  {
   "cell_type": "code",
   "execution_count": 18,
   "metadata": {
    "collapsed": true
   },
   "outputs": [],
   "source": [
    "with open('/cellar/users/ramarty/Data/hla_ii/presentation/residues/{0}.txt'.format(category), 'w') as outfile:\n",
    "    for mutation in mutations_used[:1000]:\n",
    "        outfile.write('{0}\\n'.format(mutation))"
   ]
  },
  {
   "cell_type": "markdown",
   "metadata": {},
   "source": [
    "Passengers"
   ]
  },
  {
   "cell_type": "code",
   "execution_count": 15,
   "metadata": {
    "collapsed": false
   },
   "outputs": [
    {
     "name": "stdout",
     "output_type": "stream",
     "text": [
      "TRIML2_S346F\n",
      "TRBC2_D243N\n",
      "PKD1L2_R2111H\n",
      "1120 1088\n"
     ]
    }
   ],
   "source": [
    "category = 'passenger'\n",
    "mutations = [x.strip() for x in open('/cellar/users/ramarty/Data/hla_ii/presentation/residues/{0}.test.txt'.format(category)).readlines()]\n",
    "mutations_used = get_valid_mutations(mutations)\n",
    "print len(mutations), len(mutations_used)"
   ]
  },
  {
   "cell_type": "code",
   "execution_count": 16,
   "metadata": {
    "collapsed": true
   },
   "outputs": [],
   "source": [
    "with open('/cellar/users/ramarty/Data/hla_ii/presentation/residues/{0}.txt'.format(category), 'w') as outfile:\n",
    "    for mutation in mutations_used[:1000]:\n",
    "        outfile.write('{0}\\n'.format(mutation))"
   ]
  },
  {
   "cell_type": "markdown",
   "metadata": {},
   "source": [
    "Non-cancer"
   ]
  },
  {
   "cell_type": "code",
   "execution_count": 5,
   "metadata": {
    "collapsed": false
   },
   "outputs": [
    {
     "name": "stdout",
     "output_type": "stream",
     "text": [
      "PRAMEF18_E159K\n",
      "PRAMEF18_E213K\n",
      "1500 1473\n"
     ]
    }
   ],
   "source": [
    "category = 'non_cancer'\n",
    "mutations = [x.strip() for x in open('/cellar/users/ramarty/Data/hla_ii/presentation/residues/{0}.test.txt'.format(category)).readlines()]\n",
    "mutations_used = get_valid_mutations(mutations)\n",
    "print len(mutations), len(mutations_used)\n",
    "with open('/cellar/users/ramarty/Data/hla_ii/presentation/residues/{0}.txt'.format(category), 'w') as outfile:\n",
    "    for mutation in mutations_used[:1000]:\n",
    "        outfile.write('{0}\\n'.format(mutation))"
   ]
  },
  {
   "cell_type": "code",
   "execution_count": 6,
   "metadata": {
    "collapsed": false
   },
   "outputs": [
    {
     "name": "stdout",
     "output_type": "stream",
     "text": [
      "1500 1500\n"
     ]
    }
   ],
   "source": [
    "category = 'known_non_cancer'\n",
    "mutations = [x.strip() for x in open('/cellar/users/ramarty/Data/hla_ii/presentation/residues/{0}.test.txt'.format(category)).readlines()]\n",
    "mutations_used = get_valid_mutations(mutations)\n",
    "print len(mutations), len(mutations_used)\n",
    "with open('/cellar/users/ramarty/Data/hla_ii/presentation/residues/{0}.txt'.format(category), 'w') as outfile:\n",
    "    for mutation in mutations_used[:1000]:\n",
    "        outfile.write('{0}\\n'.format(mutation))"
   ]
  },
  {
   "cell_type": "markdown",
   "metadata": {},
   "source": [
    "Viral (need to probably select new ones)"
   ]
  },
  {
   "cell_type": "code",
   "execution_count": 2,
   "metadata": {
    "collapsed": true
   },
   "outputs": [],
   "source": [
    "def get_length(x):\n",
    "    return len(x)"
   ]
  },
  {
   "cell_type": "code",
   "execution_count": 3,
   "metadata": {
    "collapsed": true
   },
   "outputs": [],
   "source": [
    "viruses = ['Hepatitis_A', 'Human_adenovirus', 'Human_herpesvirus_1', 'Human_immunodeficiency_virus',\n",
    "           'Human_papillomavirus', 'Human_parainfluenza', 'Human_rhinovirus', 'Measles_virus', 'Salivirus_A',\n",
    "           'Dengue_Virus']\n",
    "virus_ids = [12092, 28285, 10299, 11676, 333761, 11221, 31708, 36408, 688455, 33741]\n",
    "virus_dfs = []\n",
    "for i, virus_name in enumerate(viruses):\n",
    "    tmp = pd.read_csv('/cellar/users/ramarty/Data/nrnb01/hla/pathogens/{0}_{1}.tsv'.format(virus_name, virus_ids[i]), \\\n",
    "                   sep='\\t')\n",
    "    tmp['species'] = virus_ids[i]\n",
    "    \n",
    "    virus_dfs.append(tmp)\n",
    "virus = pd.concat(virus_dfs)\n",
    "virus['protein_length'] = virus.Sequence.apply(get_length)\n",
    "virus = virus[virus['protein_length'] > 50]"
   ]
  },
  {
   "cell_type": "code",
   "execution_count": 4,
   "metadata": {
    "collapsed": false
   },
   "outputs": [
    {
     "data": {
      "text/html": [
       "<div>\n",
       "<table border=\"1\" class=\"dataframe\">\n",
       "  <thead>\n",
       "    <tr style=\"text-align: right;\">\n",
       "      <th></th>\n",
       "      <th>Entry</th>\n",
       "      <th>Sequence</th>\n",
       "      <th>species</th>\n",
       "      <th>protein_length</th>\n",
       "    </tr>\n",
       "  </thead>\n",
       "  <tbody>\n",
       "    <tr>\n",
       "      <th>0</th>\n",
       "      <td>Q6GZX4</td>\n",
       "      <td>MAFSAEDVLKEYDRRRRMEALLLSLYYPNDRKLLDYKEWSPPRVQV...</td>\n",
       "      <td>12092</td>\n",
       "      <td>256</td>\n",
       "    </tr>\n",
       "    <tr>\n",
       "      <th>1</th>\n",
       "      <td>Q6GZX3</td>\n",
       "      <td>MSIIGATRLQNDKSDTYSAGPCYAGGCSAFTPRGTCGKDWDLGEQT...</td>\n",
       "      <td>12092</td>\n",
       "      <td>320</td>\n",
       "    </tr>\n",
       "    <tr>\n",
       "      <th>2</th>\n",
       "      <td>Q197F7</td>\n",
       "      <td>MYQAINPCPQSWYGSPQLEREIVCKMSGAPHYPNYYPVHPNALGGA...</td>\n",
       "      <td>12092</td>\n",
       "      <td>156</td>\n",
       "    </tr>\n",
       "    <tr>\n",
       "      <th>3</th>\n",
       "      <td>Q197F8</td>\n",
       "      <td>MASNTVSAQGGSNRPVRDFSNIQDVAQFLLFDPIWNEQPGSIVPWK...</td>\n",
       "      <td>12092</td>\n",
       "      <td>458</td>\n",
       "    </tr>\n",
       "    <tr>\n",
       "      <th>4</th>\n",
       "      <td>Q6GZX2</td>\n",
       "      <td>MARPLLGKTSSVRRRLESLSACSIFFFLRKFCQKMASLVFLNSPVY...</td>\n",
       "      <td>12092</td>\n",
       "      <td>438</td>\n",
       "    </tr>\n",
       "  </tbody>\n",
       "</table>\n",
       "</div>"
      ],
      "text/plain": [
       "    Entry                                           Sequence  species  \\\n",
       "0  Q6GZX4  MAFSAEDVLKEYDRRRRMEALLLSLYYPNDRKLLDYKEWSPPRVQV...    12092   \n",
       "1  Q6GZX3  MSIIGATRLQNDKSDTYSAGPCYAGGCSAFTPRGTCGKDWDLGEQT...    12092   \n",
       "2  Q197F7  MYQAINPCPQSWYGSPQLEREIVCKMSGAPHYPNYYPVHPNALGGA...    12092   \n",
       "3  Q197F8  MASNTVSAQGGSNRPVRDFSNIQDVAQFLLFDPIWNEQPGSIVPWK...    12092   \n",
       "4  Q6GZX2  MARPLLGKTSSVRRRLESLSACSIFFFLRKFCQKMASLVFLNSPVY...    12092   \n",
       "\n",
       "   protein_length  \n",
       "0             256  \n",
       "1             320  \n",
       "2             156  \n",
       "3             458  \n",
       "4             438  "
      ]
     },
     "execution_count": 4,
     "metadata": {},
     "output_type": "execute_result"
    }
   ],
   "source": [
    "virus.head()"
   ]
  },
  {
   "cell_type": "code",
   "execution_count": 5,
   "metadata": {
    "collapsed": false,
    "scrolled": true
   },
   "outputs": [],
   "source": [
    "mutations = []\n",
    "for i in range(1000):\n",
    "    tmp = virus.sample()\n",
    "    mutations.append('{0}_{1}_{2}'.format(list(tmp['species'])[0], list(tmp['Entry'])[0], randint(16, int(list(tmp['protein_length'])[0])-16)))"
   ]
  },
  {
   "cell_type": "code",
   "execution_count": 6,
   "metadata": {
    "collapsed": true
   },
   "outputs": [],
   "source": [
    "category = 'viral'\n",
    "with open('/cellar/users/ramarty/Data/hla_ii/presentation/residues/{0}.txt'.format(category), 'w') as outfile:\n",
    "    for mutation in mutations[:1000]:\n",
    "        outfile.write('{0}\\n'.format(mutation))"
   ]
  },
  {
   "cell_type": "markdown",
   "metadata": {},
   "source": [
    "Bacterial (need to probably select new ones)"
   ]
  },
  {
   "cell_type": "code",
   "execution_count": 7,
   "metadata": {
    "collapsed": true
   },
   "outputs": [],
   "source": [
    "bacterias = ['Bacillus_anthracis', 'Chlamydia_pneumoniae', 'Clostridium_difficile', 'Escherichia_coli', \n",
    "             'Mycoplasma_pneumoniae', 'Salmonella_typhi', 'Staphylococcus_aureus',  'Streptococcus_agalactiae',\n",
    "             'Treponema_pallidum', 'Yersinia_pestis']\n",
    "bacteria_ids = [1392, 83558, 272563, 562, 710127, 90370, 93061, 1311, 243276, 553480]\n",
    "dfs = []\n",
    "for i, bacteria_name in enumerate(bacterias):\n",
    "    tmp = pd.read_csv('/cellar/users/ramarty/Data/nrnb01/hla/pathogens/{0}_{1}.tsv'.format(bacteria_name, bacteria_ids[i]), \\\n",
    "                   sep='\\t')\n",
    "    tmp['species'] = bacteria_ids[i]\n",
    "    dfs.append(tmp)\n",
    "bacteria = pd.concat(dfs)\n",
    "bacteria['protein_length'] = bacteria.Sequence.apply(get_length)\n",
    "bacteria = bacteria[bacteria['protein_length'] > 50]"
   ]
  },
  {
   "cell_type": "code",
   "execution_count": 8,
   "metadata": {
    "collapsed": true
   },
   "outputs": [],
   "source": [
    "mutations = []\n",
    "for i in range(1000):\n",
    "    tmp = bacteria.sample()\n",
    "    mutations.append('{0}_{1}_{2}'.format(list(tmp['species'])[0], list(tmp['Entry'])[0], randint(16, int(list(tmp['protein_length'])[0])-16)))"
   ]
  },
  {
   "cell_type": "code",
   "execution_count": 9,
   "metadata": {
    "collapsed": true
   },
   "outputs": [],
   "source": [
    "category = 'bacterial'\n",
    "with open('/cellar/users/ramarty/Data/hla_ii/presentation/residues/{0}.txt'.format(category), 'w') as outfile:\n",
    "    for mutation in mutations[:1000]:\n",
    "        outfile.write('{0}\\n'.format(mutation))"
   ]
  },
  {
   "cell_type": "markdown",
   "metadata": {
    "collapsed": true
   },
   "source": [
    "####Extended Random"
   ]
  },
  {
   "cell_type": "code",
   "execution_count": 6,
   "metadata": {
    "collapsed": false,
    "scrolled": true
   },
   "outputs": [
    {
     "data": {
      "text/html": [
       "<div>\n",
       "<table border=\"1\" class=\"dataframe\">\n",
       "  <thead>\n",
       "    <tr style=\"text-align: right;\">\n",
       "      <th></th>\n",
       "      <th>gene</th>\n",
       "      <th>protein</th>\n",
       "      <th>sequence</th>\n",
       "    </tr>\n",
       "  </thead>\n",
       "  <tbody>\n",
       "    <tr>\n",
       "      <th>0</th>\n",
       "      <td>TRDD2</td>\n",
       "      <td>ENSP00000451515</td>\n",
       "      <td>PSY</td>\n",
       "    </tr>\n",
       "    <tr>\n",
       "      <th>1</th>\n",
       "      <td>TRDD3</td>\n",
       "      <td>ENSP00000452494</td>\n",
       "      <td>TGGY</td>\n",
       "    </tr>\n",
       "    <tr>\n",
       "      <th>2</th>\n",
       "      <td>TRDD1</td>\n",
       "      <td>ENSP00000451042</td>\n",
       "      <td>EI</td>\n",
       "    </tr>\n",
       "    <tr>\n",
       "      <th>3</th>\n",
       "      <td>AC239618.6</td>\n",
       "      <td>ENSP00000488240</td>\n",
       "      <td>GTGG</td>\n",
       "    </tr>\n",
       "    <tr>\n",
       "      <th>4</th>\n",
       "      <td>AC245427.8</td>\n",
       "      <td>ENSP00000487941</td>\n",
       "      <td>GTGG</td>\n",
       "    </tr>\n",
       "  </tbody>\n",
       "</table>\n",
       "</div>"
      ],
      "text/plain": [
       "         gene          protein sequence\n",
       "0       TRDD2  ENSP00000451515      PSY\n",
       "1       TRDD3  ENSP00000452494     TGGY\n",
       "2       TRDD1  ENSP00000451042       EI\n",
       "3  AC239618.6  ENSP00000488240     GTGG\n",
       "4  AC245427.8  ENSP00000487941     GTGG"
      ]
     },
     "execution_count": 6,
     "metadata": {},
     "output_type": "execute_result"
    }
   ],
   "source": [
    "ensemble.head()"
   ]
  },
  {
   "cell_type": "code",
   "execution_count": 12,
   "metadata": {
    "collapsed": false
   },
   "outputs": [],
   "source": [
    "sample = ensemble.sample()\n",
    "gene, sequence = list(sample.gene)[0], list(sample.sequence)[0]"
   ]
  },
  {
   "cell_type": "code",
   "execution_count": 17,
   "metadata": {
    "collapsed": false
   },
   "outputs": [],
   "source": [
    "residue = 4"
   ]
  },
  {
   "cell_type": "code",
   "execution_count": 20,
   "metadata": {
    "collapsed": false
   },
   "outputs": [
    {
     "data": {
      "text/plain": [
       "'V'"
      ]
     },
     "execution_count": 20,
     "metadata": {},
     "output_type": "execute_result"
    }
   ],
   "source": [
    "sequence[residue-1]"
   ]
  },
  {
   "cell_type": "code",
   "execution_count": 8,
   "metadata": {
    "collapsed": true
   },
   "outputs": [],
   "source": [
    "amino_acids = ['A', 'R', 'N', 'D', 'C', 'E', 'Q', 'G', 'H', 'I', 'L', 'K', 'M', 'F', 'P', 'S', 'T', 'W', 'Y', 'V']"
   ]
  },
  {
   "cell_type": "code",
   "execution_count": 30,
   "metadata": {
    "collapsed": false
   },
   "outputs": [
    {
     "data": {
      "text/plain": [
       "'Q'"
      ]
     },
     "execution_count": 30,
     "metadata": {},
     "output_type": "execute_result"
    }
   ],
   "source": [
    "random.choice(amino_acids)"
   ]
  },
  {
   "cell_type": "code",
   "execution_count": 41,
   "metadata": {
    "collapsed": false
   },
   "outputs": [
    {
     "name": "stdout",
     "output_type": "stream",
     "text": [
      "1000\n",
      "2000\n",
      "3000\n",
      "4000\n",
      "5000\n",
      "6000\n",
      "7000\n",
      "8000\n",
      "9000\n",
      "10000\n",
      "11000\n",
      "12000\n",
      "13000\n",
      "14000\n",
      "15000\n",
      "16000\n",
      "17000\n",
      "18000\n",
      "19000\n",
      "20000\n"
     ]
    }
   ],
   "source": [
    "random_long_mutations = []\n",
    "total = 0\n",
    "while total < 20000:\n",
    "    # sample a row\n",
    "    sample = ensemble.sample()\n",
    "    gene, sequence = list(sample.gene)[0], list(sample.sequence)[0]\n",
    "    # if length if > than 50\n",
    "    if len(sequence) > 50:\n",
    "    # choose residue value between \n",
    "        residue = random.randint(1, len(sequence))\n",
    "        # Get native residue\n",
    "        native_residue = sequence[residue-1]\n",
    "        # Select another residue that isn't the native\n",
    "        mutated_residue = random.choice(amino_acids)\n",
    "        # Output\n",
    "        random_long_mutations.append('{0}_{1}{2}{3}'.format(gene, native_residue, residue, mutated_residue))\n",
    "        total += 1\n",
    "        if total % 1000 == 0:\n",
    "            print total"
   ]
  },
  {
   "cell_type": "code",
   "execution_count": 42,
   "metadata": {
    "collapsed": false,
    "scrolled": true
   },
   "outputs": [
    {
     "data": {
      "text/plain": [
       "20000"
      ]
     },
     "execution_count": 42,
     "metadata": {},
     "output_type": "execute_result"
    }
   ],
   "source": [
    "len(random_long_mutations)"
   ]
  },
  {
   "cell_type": "code",
   "execution_count": 43,
   "metadata": {
    "collapsed": false,
    "scrolled": true
   },
   "outputs": [
    {
     "name": "stdout",
     "output_type": "stream",
     "text": [
      "20000 20000\n"
     ]
    }
   ],
   "source": [
    "category = 'random_long'\n",
    "mutations = random_long_mutations\n",
    "mutations_used = get_valid_mutations(mutations)\n",
    "print len(mutations), len(mutations_used)"
   ]
  },
  {
   "cell_type": "code",
   "execution_count": 45,
   "metadata": {
    "collapsed": true
   },
   "outputs": [],
   "source": [
    "with open('/cellar/users/ramarty/Data/hla_ii/presentation/residues/{0}.txt'.format(category), 'w') as outfile:\n",
    "    for mutation in mutations_used:\n",
    "        outfile.write('{0}\\n'.format(mutation))"
   ]
  },
  {
   "cell_type": "code",
   "execution_count": 12,
   "metadata": {
    "collapsed": false
   },
   "outputs": [
    {
     "name": "stdout",
     "output_type": "stream",
     "text": [
      "20000\n"
     ]
    }
   ],
   "source": [
    "print len(random_long)\n",
    "with open('/cellar/users/ramarty/Data/hla_ii/presentation/residues/{0}.txt'.format(category), 'w') as outfile:\n",
    "    for mutation in random_long:\n",
    "        outfile.write('{0}\\n'.format(mutation))"
   ]
  },
  {
   "cell_type": "markdown",
   "metadata": {
    "collapsed": true
   },
   "source": [
    "The number of peptides was too long with netMHCIIpan (I think). Dividing this into 20 sublists."
   ]
  },
  {
   "cell_type": "code",
   "execution_count": 13,
   "metadata": {
    "collapsed": false
   },
   "outputs": [],
   "source": [
    "category = 'random_long'\n",
    "random_long = [x.strip() for x in open('/cellar/users/ramarty/Data/hla_ii/presentation/residues/{0}.txt'.format(category)).readlines()]"
   ]
  },
  {
   "cell_type": "code",
   "execution_count": 14,
   "metadata": {
    "collapsed": false
   },
   "outputs": [
    {
     "data": {
      "text/plain": [
       "10"
      ]
     },
     "execution_count": 14,
     "metadata": {},
     "output_type": "execute_result"
    }
   ],
   "source": [
    "len(random_long[10:20])"
   ]
  },
  {
   "cell_type": "code",
   "execution_count": 19,
   "metadata": {
    "collapsed": false
   },
   "outputs": [
    {
     "name": "stdout",
     "output_type": "stream",
     "text": [
      "0 0 1000\n",
      "1 1000 2000\n",
      "2 2000 3000\n",
      "3 3000 4000\n",
      "4 4000 5000\n",
      "5 5000 6000\n",
      "6 6000 7000\n",
      "7 7000 8000\n",
      "8 8000 9000\n",
      "9 9000 10000\n",
      "10 10000 11000\n",
      "11 11000 12000\n",
      "12 12000 13000\n",
      "13 13000 14000\n",
      "14 14000 15000\n",
      "15 15000 16000\n",
      "16 16000 17000\n",
      "17 17000 18000\n",
      "18 18000 19000\n",
      "19 19000 20000\n"
     ]
    }
   ],
   "source": [
    "for i in range(20):\n",
    "    name = 'random'+str(i)\n",
    "    with open('/cellar/users/ramarty/Data/hla_ii/presentation/residues/{0}.txt'.format(name), 'w') as outfile:\n",
    "        print i, i*1000, (i*1000)+1000\n",
    "        for mutation in random_long[i*1000:(i*1000)+1000]:\n",
    "            outfile.write('{0}\\n'.format(mutation))"
   ]
  },
  {
   "cell_type": "code",
   "execution_count": 9,
   "metadata": {
    "collapsed": false
   },
   "outputs": [
    {
     "name": "stdout",
     "output_type": "stream",
     "text": [
      "1100\n",
      "1132\n",
      "1124\n"
     ]
    }
   ],
   "source": [
    "# re-doing some\n",
    "for i in [13, 14, 19]:\n",
    "    name = 'random'+str(i)\n",
    "    with open('/cellar/users/ramarty/Data/hla_ii/presentation/residues/{0}.txt'.format(name), 'w') as outfile:\n",
    "        random_mutations = []\n",
    "        for i in range(1200):\n",
    "            sample = ensemble.sample()\n",
    "            gene, sequence = list(sample.gene)[0], list(sample.sequence)[0]\n",
    "            # if length if > than 50\n",
    "            if len(sequence) > 50:\n",
    "            # choose residue value between \n",
    "                residue = random.randint(1, len(sequence))\n",
    "                # Get native residue\n",
    "                native_residue = sequence[residue-1]\n",
    "                # Select another residue that isn't the native\n",
    "                mutated_residue = random.choice(amino_acids)\n",
    "                # Output\n",
    "                random_mutations.append('{0}_{1}{2}{3}'.format(gene, native_residue, residue, mutated_residue))\n",
    "        print len(random_mutations)\n",
    "        for mutation in random_mutations[:1000]:\n",
    "            outfile.write('{0}\\n'.format(mutation))"
   ]
  },
  {
   "cell_type": "code",
   "execution_count": null,
   "metadata": {
    "collapsed": true
   },
   "outputs": [],
   "source": []
  }
 ],
 "metadata": {
  "kernelspec": {
   "display_name": "Python 2",
   "language": "python",
   "name": "python2"
  },
  "language_info": {
   "codemirror_mode": {
    "name": "ipython",
    "version": 2
   },
   "file_extension": ".py",
   "mimetype": "text/x-python",
   "name": "python",
   "nbconvert_exporter": "python",
   "pygments_lexer": "ipython2",
   "version": "2.7.14"
  }
 },
 "nbformat": 4,
 "nbformat_minor": 0
}
