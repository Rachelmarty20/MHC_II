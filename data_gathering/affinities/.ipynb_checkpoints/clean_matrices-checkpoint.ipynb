{
 "cells": [
  {
   "cell_type": "code",
   "execution_count": 1,
   "metadata": {
    "collapsed": false
   },
   "outputs": [
    {
     "name": "stdout",
     "output_type": "stream",
     "text": [
      "Populating the interactive namespace from numpy and matplotlib\n"
     ]
    },
    {
     "name": "stderr",
     "output_type": "stream",
     "text": [
      "/cellar/users/ramarty/anaconda/lib/python2.7/site-packages/IPython/nbformat/current.py:19: UserWarning: IPython.nbformat.current is deprecated.\n",
      "\n",
      "- use IPython.nbformat for read/write/validate public API\n",
      "- use IPython.nbformat.vX directly to composing notebooks of a particular version\n",
      "\n",
      "  \"\"\")\n"
     ]
    }
   ],
   "source": [
    "import io\n",
    "from IPython.nbformat import current\n",
    "def execute_notebook(nbfile):\n",
    "    with io.open(nbfile) as f:\n",
    "        nb = current.read(f, 'json')\n",
    "    ip = get_ipython()\n",
    "    for cell in nb.worksheets[0].cells:\n",
    "        if cell.cell_type != 'code':\n",
    "            continue\n",
    "        ip.run_cell(cell.input)\n",
    "execute_notebook(\"/cellar/users/ramarty/Projects/hla_ii/bin/imports.ipynb\")"
   ]
  },
  {
   "cell_type": "markdown",
   "metadata": {},
   "source": [
    "## Alignment matrices for final production"
   ]
  },
  {
   "cell_type": "code",
   "execution_count": 42,
   "metadata": {
    "collapsed": true
   },
   "outputs": [],
   "source": [
    "def create_clean_matrices(onco_in, ts_in, mut_out, aff_out):\n",
    "    patient_mutations = pd.concat([pd.read_csv('/cellar/users/ramarty/Data/hla/mutations/matrices/oncogenes.patient_mutation.csv', index_col=0).transpose(),\n",
    "                                pd.read_csv('/cellar/users/ramarty/Data/hla/mutations/matrices/tsgenes.patient_mutation.csv', index_col=0).transpose(),\n",
    "                                pd.read_csv('/cellar/users/ramarty/Data/hla/mutations/matrices/indels.patient_mutation.csv', index_col=0).transpose()]).transpose()\n",
    "    patient_affinites = pd.concat([pd.read_csv(onco_in, index_col=0),\n",
    "                                pd.read_csv(ts_in, index_col=0)]).transpose()\n",
    "    print patient_affinites.shape, patient_mutations.shape\n",
    "    # restrict to overlapping patients\n",
    "    patients = [x for x in list(patient_affinites.index) if x in list(patient_mutations.index)]\n",
    "    patient_affinites = patient_affinites.ix[patients, :]\n",
    "    patient_mutations = patient_mutations.ix[patients, :]\n",
    "    print patient_affinites.shape, patient_mutations.shape\n",
    "    # restrict to mutations >= 3 occurrences\n",
    "    mutations = mutations = list(patient_mutations.sum()[patient_mutations.sum() > 2].index)\n",
    "    patient_affinites = patient_affinites.ix[:, mutations]\n",
    "    patient_mutations = patient_mutations.ix[:, mutations]\n",
    "    print patient_affinites.shape, patient_mutations.shape\n",
    "    patient_affinites.to_csv(mut_out)\n",
    "    patient_mutations.to_csv(aff_out)"
   ]
  },
  {
   "cell_type": "code",
   "execution_count": 43,
   "metadata": {
    "collapsed": false
   },
   "outputs": [
    {
     "name": "stdout",
     "output_type": "stream",
     "text": [
      "(2098, 1245) (10177, 1585)\n",
      "(2047, 1245) (2047, 1585)\n",
      "(2047, 181) (2047, 181)\n"
     ]
    }
   ],
   "source": [
    "# DR only\n",
    "create_clean_matrices('/cellar/users/ramarty/Data/hla_ii/presentation/patient_matrices/oncogenes.DR.csv',\n",
    "                      '/cellar/users/ramarty/Data/hla_ii/presentation/patient_matrices/tsgenes.DR.csv',\n",
    "                      '/cellar/users/ramarty/Data/hla_ii/presentation/clean_matrices/patient_affinities.cancer.DR.csv',\n",
    "                      '/cellar/users/ramarty/Data/hla_ii/presentation/clean_matrices/patient_mutations.cancer.DR.csv')"
   ]
  },
  {
   "cell_type": "code",
   "execution_count": 48,
   "metadata": {
    "collapsed": false
   },
   "outputs": [
    {
     "name": "stdout",
     "output_type": "stream",
     "text": [
      "(0, 1245) (10177, 1585)\n",
      "(0, 1245) (0, 1585)\n",
      "(0, 0) (0, 0)\n"
     ]
    }
   ],
   "source": [
    "# all genes\n",
    "create_clean_matrices('/cellar/users/ramarty/Data/hla_ii/presentation/patient_matrices/oncogenes.all.csv',\n",
    "                      '/cellar/users/ramarty/Data/hla_ii/presentation/patient_matrices/tsgenes.all.csv',\n",
    "                      '/cellar/users/ramarty/Data/hla_ii/presentation/clean_matrices/patient_affinities.cancer.all.csv',\n",
    "                      '/cellar/users/ramarty/Data/hla_ii/presentation/clean_matrices/patient_mutations.cancer.all.csv')"
   ]
  },
  {
   "cell_type": "code",
   "execution_count": null,
   "metadata": {
    "collapsed": true
   },
   "outputs": [],
   "source": []
  }
 ],
 "metadata": {
  "kernelspec": {
   "display_name": "Python 2",
   "language": "python",
   "name": "python2"
  },
  "language_info": {
   "codemirror_mode": {
    "name": "ipython",
    "version": 2
   },
   "file_extension": ".py",
   "mimetype": "text/x-python",
   "name": "python",
   "nbconvert_exporter": "python",
   "pygments_lexer": "ipython2",
   "version": "2.7.12"
  }
 },
 "nbformat": 4,
 "nbformat_minor": 0
}
