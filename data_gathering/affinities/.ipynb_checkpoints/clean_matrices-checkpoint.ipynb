{
 "cells": [
  {
   "cell_type": "code",
   "execution_count": 1,
   "metadata": {
    "collapsed": false,
    "scrolled": false
   },
   "outputs": [
    {
     "name": "stderr",
     "output_type": "stream",
     "text": [
      "/cellar/users/ramarty/anaconda/lib/python2.7/site-packages/IPython/nbformat/current.py:19: UserWarning: IPython.nbformat.current is deprecated.\n",
      "\n",
      "- use IPython.nbformat for read/write/validate public API\n",
      "- use IPython.nbformat.vX directly to composing notebooks of a particular version\n",
      "\n",
      "  \"\"\")\n",
      "/cellar/users/ramarty/anaconda/lib/python2.7/site-packages/sklearn/cross_validation.py:44: DeprecationWarning: This module was deprecated in version 0.18 in favor of the model_selection module into which all the refactored classes and functions are moved. Also note that the interface of the new CV iterators are different from that of this module. This module will be removed in 0.20.\n",
      "  \"This module will be removed in 0.20.\", DeprecationWarning)\n"
     ]
    },
    {
     "name": "stdout",
     "output_type": "stream",
     "text": [
      "Populating the interactive namespace from numpy and matplotlib\n"
     ]
    }
   ],
   "source": [
    "import io\n",
    "from IPython.nbformat import current\n",
    "def execute_notebook(nbfile):\n",
    "    with io.open(nbfile) as f:\n",
    "        nb = current.read(f, 'json')\n",
    "    ip = get_ipython()\n",
    "    for cell in nb.worksheets[0].cells:\n",
    "        if cell.cell_type != 'code':\n",
    "            continue\n",
    "        ip.run_cell(cell.input)\n",
    "execute_notebook(\"/cellar/users/ramarty/Projects/hla_ii/bin/imports.ipynb\")"
   ]
  },
  {
   "cell_type": "markdown",
   "metadata": {},
   "source": [
    "## Alignment matrices for final production"
   ]
  },
  {
   "cell_type": "code",
   "execution_count": 2,
   "metadata": {
    "collapsed": false
   },
   "outputs": [
    {
     "name": "stdout",
     "output_type": "stream",
     "text": [
      "1018\n"
     ]
    }
   ],
   "source": [
    "driver_mutations = list(pd.read_csv('/cellar/users/ramarty/Data/hla/sandbox/david/PHBR/patient_affinities.cancer.PHBR.csv', index_col=0).columns)\n",
    "print len(driver_mutations)"
   ]
  },
  {
   "cell_type": "markdown",
   "metadata": {
    "collapsed": true
   },
   "source": [
    "Cancer matrices"
   ]
  },
  {
   "cell_type": "markdown",
   "metadata": {},
   "source": [
    "Manually change MLLT4_S1510N -> AFDN_S1510N for matching purposes"
   ]
  },
  {
   "cell_type": "code",
   "execution_count": 3,
   "metadata": {
    "collapsed": false
   },
   "outputs": [],
   "source": [
    "clinical_df = pd.read_csv('/cellar/users/ramarty/Data/kir/TCGA/clinical_df.csv', index_col=0)\n",
    "patients_with_clinical = list(clinical_df.gender.dropna().index)"
   ]
  },
  {
   "cell_type": "code",
   "execution_count": 6,
   "metadata": {
    "collapsed": true
   },
   "outputs": [],
   "source": [
    "def create_clean_matrices(onco_in, ts_in, ind_in, mut_out, aff_out, mhc_class):\n",
    "    patient_mutations = pd.concat([pd.read_csv('/cellar/users/ramarty/Data/hla/mutations/matrices/oncogenes.patient_mutation.csv', index_col=0).transpose(),\n",
    "                                pd.read_csv('/cellar/users/ramarty/Data/hla/mutations/matrices/tsgenes.patient_mutation.csv', index_col=0).transpose(),\n",
    "                                pd.read_csv('/cellar/users/ramarty/Data/hla/mutations/matrices/indels.patient_mutation.csv', index_col=0).transpose()]).transpose()\n",
    "    patient_affinites = pd.concat([pd.read_csv(onco_in, index_col=0),\n",
    "                                  pd.read_csv(ts_in, index_col=0),\n",
    "                                  pd.read_csv(ind_in, index_col=0)]).transpose()\n",
    "    if mhc_class == 'II':\n",
    "        patient_affinites['MLLT4_S1510N'] = patient_affinites['AFDN_S1510N']\n",
    "    print patient_affinites.shape, patient_mutations.shape\n",
    "    # restrict to overlapping patients\n",
    "    patients = list(sort([x for x in list(patient_affinites.index) if (x in list(patient_mutations.index)) \\\n",
    "                          & (x in patients_with_clinical)]))\n",
    "    #mutations = [x for x in list(patient_affinites.columns) if x in list(patient_mutations.columns)]\n",
    "    patient_affinites = patient_affinites.ix[patients, driver_mutations]\n",
    "    patient_mutations = patient_mutations.ix[patients, driver_mutations]\n",
    "    print patient_affinites.shape, patient_mutations.shape\n",
    "    # restrict to mutations >= 3 occurrences\n",
    "    mutations = [x for x in driver_mutations if x  in list(patient_affinites.dropna(axis=1).columns)]\n",
    "    print len(mutations)\n",
    "    patient_affinites = patient_affinites.ix[:, mutations]\n",
    "    patient_mutations = patient_mutations.ix[:, mutations]\n",
    "    print patient_affinites.shape, patient_mutations.shape\n",
    "    print patient_affinites.dropna().shape, patient_mutations.dropna().shape\n",
    "    patient_affinites.to_csv(mut_out)\n",
    "    patient_mutations.to_csv(aff_out)\n",
    "    return patient_affinites, patient_mutations"
   ]
  },
  {
   "cell_type": "code",
   "execution_count": 23,
   "metadata": {
    "collapsed": false
   },
   "outputs": [
    {
     "name": "stdout",
     "output_type": "stream",
     "text": [
      "inclusive\n",
      "(7562, 1264) (10177, 1585)\n",
      "(7218, 1018) (7218, 1018)\n",
      "1018\n",
      "(7218, 1018) (7218, 1018)\n",
      "(7218, 1018) (7218, 1018)\n"
     ]
    }
   ],
   "source": [
    "# MHC-II\n",
    "population = 'TCGA'\n",
    "condition = 'mut'\n",
    "for subset in ['inclusive']:\n",
    "    print subset\n",
    "    patient_affinites, patient_mutations = create_clean_matrices(\n",
    "                        '/cellar/users/ramarty/Data/hla_ii/presentation/patient_matrices/oncogenes.{0}.{1}.{2}.csv'.format(population,\n",
    "                                                                                                                          subset, condition),\n",
    "                          '/cellar/users/ramarty/Data/hla_ii/presentation/patient_matrices/tsgenes.{0}.{1}.{2}.csv'.format(population,\n",
    "                                                                                                                          subset, condition),\n",
    "                          '/cellar/users/ramarty/Data/hla_ii/presentation/patient_matrices/indels.{0}.{1}.{2}.csv'.format(population,\n",
    "                                                                                                                         subset, condition),\n",
    "                          '/cellar/users/ramarty/Data/hla_ii/presentation/patient_matrices/patient_affinities.cancer.{0}.{1}.{2}.ClassII.csv'.format(population,\n",
    "                                                                                                                         subset, condition),\n",
    "                          '/cellar/users/ramarty/Data/hla_ii/presentation/patient_matrices/patient_mutations.cancer.{0}.{1}.{2}.csv'.format(population,\n",
    "                                                                                                                         subset, condition),\n",
    "                        'II')"
   ]
  },
  {
   "cell_type": "code",
   "execution_count": 24,
   "metadata": {
    "collapsed": false,
    "scrolled": true
   },
   "outputs": [
    {
     "name": "stdout",
     "output_type": "stream",
     "text": [
      "inclusive\n",
      "(7965, 1268) (10177, 1585)\n",
      "(7594, 1018) (7594, 1018)\n",
      "1018\n",
      "(7594, 1018) (7594, 1018)\n",
      "(7594, 1018) (7594, 1018)\n"
     ]
    }
   ],
   "source": [
    "# MHC-I\n",
    "population = 'TCGA'\n",
    "condition = 'mut'\n",
    "for subset in ['inclusive']:\n",
    "    print subset\n",
    "    patient_affinites, patient_mutations = create_clean_matrices(\n",
    "                        '/cellar/users/ramarty/Data/hla_ii/presentation/patient_matrices/oncogenes.{0}.{1}.{2}.ClassI.csv'.format(population,\n",
    "                                                                                                                          subset, condition),\n",
    "                          '/cellar/users/ramarty/Data/hla_ii/presentation/patient_matrices/tsgenes.{0}.{1}.{2}.ClassI.csv'.format(population,\n",
    "                                                                                                                          subset, condition),\n",
    "                          '/cellar/users/ramarty/Data/hla_ii/presentation/patient_matrices/indels.{0}.{1}.{2}.ClassI.csv'.format(population,\n",
    "                                                                                                                         subset, condition),\n",
    "                          '/cellar/users/ramarty/Data/hla_ii/presentation/patient_matrices/patient_affinities.cancer.{0}.{1}.{2}.ClassI.csv'.format(population,\n",
    "                                                                                                                         subset, condition),\n",
    "                          '/cellar/users/ramarty/Data/hla_ii/presentation/patient_matrices/patient_mutations.cancer.{0}.{1}.{2}.csv'.format(population,\n",
    "                                                                                                                         subset, condition),\n",
    "                        'I')"
   ]
  },
  {
   "cell_type": "code",
   "execution_count": 25,
   "metadata": {
    "collapsed": true
   },
   "outputs": [],
   "source": [
    "population = 'TCGA'\n",
    "condition = 'mut'\n",
    "subset = 'inclusive'"
   ]
  },
  {
   "cell_type": "code",
   "execution_count": 26,
   "metadata": {
    "collapsed": false
   },
   "outputs": [
    {
     "name": "stdout",
     "output_type": "stream",
     "text": [
      "(7594, 1018) (7218, 1018) (7594, 1018)\n",
      "(7218, 1018) (7218, 1018) (7218, 1018)\n"
     ]
    }
   ],
   "source": [
    "# Inclusive - make all data frames match\n",
    "patient_mutations = pd.read_csv('/cellar/users/ramarty/Data/hla_ii/presentation/patient_matrices/patient_mutations.cancer.{0}.{1}.{2}.csv'.format(population,\n",
    "                                                                                                                         subset, condition),\n",
    "                               index_col=0)\n",
    "patient_affinitiesI = pd.read_csv('/cellar/users/ramarty/Data/hla_ii/presentation/patient_matrices/patient_affinities.cancer.{0}.{1}.{2}.ClassI.csv'.format(population,\n",
    "                                                                                                                         subset, condition),\n",
    "                                 index_col=0)\n",
    "patient_affinitiesII = pd.read_csv('/cellar/users/ramarty/Data/hla_ii/presentation/patient_matrices/patient_affinities.cancer.{0}.{1}.{2}.ClassII.csv'.format(population,\n",
    "                                                                                                                         subset, condition),\n",
    "                                  index_col=0)\n",
    "print patient_affinitiesI.shape, patient_affinitiesII.shape, patient_mutations.shape\n",
    "mut_patients = list(patient_mutations.index)\n",
    "affI_patients = list(patient_affinitiesII.index)\n",
    "affII_patients = list(patient_affinitiesII.index)\n",
    "patients = [x for x in mut_patients if (x in affI_patients)&(x in affII_patients)]\n",
    "patient_mutations = patient_mutations.ix[patients]\n",
    "patient_affinitiesI = patient_affinitiesI.ix[patients]\n",
    "patient_affinitiesII = patient_affinitiesII.ix[patients]\n",
    "print patient_mutations.dropna().shape, patient_affinitiesI.dropna().shape, patient_affinitiesII.dropna().shape\n",
    "patient_mutations.to_csv('/cellar/users/ramarty/Data/hla_ii/presentation/clean_matrices/patient_mutations.cancer.{0}.{1}.{2}.csv'.format(population,\n",
    "                                                                                                                         subset, condition))\n",
    "patient_affinitiesI.to_csv('/cellar/users/ramarty/Data/hla_ii/presentation/clean_matrices/patient_affinities.cancer.{0}.{1}.{2}.ClassI.csv'.format(population,\n",
    "                                                                                                                         subset, condition))\n",
    "patient_affinitiesII.to_csv('/cellar/users/ramarty/Data/hla_ii/presentation/clean_matrices/patient_affinities.cancer.{0}.{1}.{2}.ClassII.csv'.format(population,\n",
    "                                                                                                                         subset, condition))\n",
    "                          "
   ]
  },
  {
   "cell_type": "code",
   "execution_count": 5,
   "metadata": {
    "collapsed": false
   },
   "outputs": [],
   "source": [
    "# Alternate populations - MHC-II\n",
    "gene = 'all'\n",
    "df = pd.concat([pd.read_csv('/cellar/users/ramarty/Data/hla_ii/presentation/patient_matrices/oncogenes.{0}.alternate.csv'.format(gene), index_col=0),\n",
    "               pd.read_csv('/cellar/users/ramarty/Data/hla_ii/presentation/patient_matrices/tsgenes.{0}.alternate.csv'.format(gene), index_col=0),\n",
    "               pd.read_csv('/cellar/users/ramarty/Data/hla_ii/presentation/patient_matrices/indels.{0}.alternate.csv'.format(gene), index_col=0)]).transpose()\n",
    "\n",
    "df['MLLT4_S1510N'] = df['AFDN_S1510N']\n",
    "df = df[driver_mutations]\n",
    "df.to_csv('/cellar/users/ramarty/Data/hla_ii/presentation/clean_matrices/patient_affinities.cancer.{0}.alternate.csv'.format(gene))                  \n",
    "\n",
    "# Alternate populations - MHC-I\n",
    "gene = 'all'\n",
    "df = pd.concat([pd.read_csv('/cellar/users/ramarty/Data/hla_ii/presentation/patient_matrices/oncogenes.{0}.alternate.classI.csv'.format(gene), index_col=0),\n",
    "               pd.read_csv('/cellar/users/ramarty/Data/hla_ii/presentation/patient_matrices/tsgenes.{0}.alternate.classI.csv'.format(gene), index_col=0),\n",
    "               pd.read_csv('/cellar/users/ramarty/Data/hla_ii/presentation/patient_matrices/indels.{0}.alternate.classI.csv'.format(gene), index_col=0)]).transpose()\n",
    "\n",
    "# why are there so few patients???\n",
    "#df['MLLT4_S1510N'] = df['AFDN_S1510N']\n",
    "df = df[driver_mutations]\n",
    "print df.shape\n",
    "df.to_csv('/cellar/users/ramarty/Data/hla_ii/presentation/clean_matrices/patient_affinities.cancer.{0}.alternate.classI.csv'.format(gene))                  "
   ]
  },
  {
   "cell_type": "code",
   "execution_count": 6,
   "metadata": {
    "collapsed": false
   },
   "outputs": [
    {
     "name": "stdout",
     "output_type": "stream",
     "text": [
      "(833, 1018)\n"
     ]
    }
   ],
   "source": [
    "# SRA populations - MHC-II\n",
    "gene = 'all'\n",
    "df = pd.concat([pd.read_csv('/cellar/users/ramarty/Data/hla_ii/presentation/patient_matrices/oncogenes.{0}.SRA.csv'.format(gene), index_col=0),\n",
    "               pd.read_csv('/cellar/users/ramarty/Data/hla_ii/presentation/patient_matrices/tsgenes.{0}.SRA.csv'.format(gene), index_col=0),\n",
    "               pd.read_csv('/cellar/users/ramarty/Data/hla_ii/presentation/patient_matrices/indels.{0}.SRA.csv'.format(gene), index_col=0)]).transpose()\n",
    "\n",
    "df['MLLT4_S1510N'] = df['AFDN_S1510N']\n",
    "df = df[driver_mutations]\n",
    "df.to_csv('/cellar/users/ramarty/Data/hla_ii/presentation/clean_matrices/patient_affinities.cancer.{0}.SRA.csv'.format(gene))                  \n",
    "\n",
    "# Alternate populations - MHC-I\n",
    "gene = 'all'\n",
    "df = pd.concat([pd.read_csv('/cellar/users/ramarty/Data/hla_ii/presentation/patient_matrices/oncogenes.{0}.SRA.classI.csv'.format(gene), index_col=0),\n",
    "               pd.read_csv('/cellar/users/ramarty/Data/hla_ii/presentation/patient_matrices/tsgenes.{0}.SRA.classI.csv'.format(gene), index_col=0),\n",
    "               pd.read_csv('/cellar/users/ramarty/Data/hla_ii/presentation/patient_matrices/indels.{0}.SRA.classI.csv'.format(gene), index_col=0)]).transpose()\n",
    "\n",
    "# why are there so few patients???\n",
    "#df['MLLT4_S1510N'] = df['AFDN_S1510N']\n",
    "df = df[driver_mutations]\n",
    "print df.shape\n",
    "df.to_csv('/cellar/users/ramarty/Data/hla_ii/presentation/clean_matrices/patient_affinities.cancer.{0}.SRA.classI.csv'.format(gene))                  "
   ]
  },
  {
   "cell_type": "markdown",
   "metadata": {
    "collapsed": true
   },
   "source": [
    "####Conservative (hla-typed) patients"
   ]
  },
  {
   "cell_type": "code",
   "execution_count": 4,
   "metadata": {
    "collapsed": false
   },
   "outputs": [
    {
     "name": "stdout",
     "output_type": "stream",
     "text": [
      "5942\n",
      "(5942, 1018)\n",
      "(5942, 1018)\n"
     ]
    }
   ],
   "source": [
    "patient_affinitiesI = pd.read_csv('/cellar/users/ramarty/Data/hla_ii/presentation/clean_matrices/patient_affinities.cancer.TCGA.inclusive.mut.ClassI.csv',\n",
    "            index_col=0)\n",
    "patient_affinitiesII = pd.read_csv('/cellar/users/ramarty/Data/hla_ii/presentation/clean_matrices/patient_affinities.cancer.TCGA.inclusive.mut.ClassII.csv',\n",
    "            index_col=0)\n",
    "patient_mutations = pd.read_csv('/cellar/users/ramarty/Data/hla_ii/presentation/clean_matrices/patient_mutations.cancer.TCGA.inclusive.mut.csv',\n",
    "            index_col=0)\n",
    "conserved_patients = [x for x in list(pd.read_csv('/cellar/users/ramarty/Data/hla_ii/hla_types/clean/TCGA.ClassII.conservative.csv', \n",
    "                                        index_col=0).index) if (x in list(patient_affinitiesI.index))&(x in patients_with_clinical)]\n",
    "print len(conserved_patients)\n",
    "patient_affinitiesI.ix[conserved_patients, :].to_csv('/cellar/users/ramarty/Data/hla_ii/presentation/clean_matrices/patient_affinities.cancer.TCGA.conservative.mut.ClassI.csv')\n",
    "patient_affinitiesII.ix[conserved_patients, :].to_csv('/cellar/users/ramarty/Data/hla_ii/presentation/clean_matrices/patient_affinities.cancer.TCGA.conservative.mut.ClassII.csv')\n",
    "patient_mutations.ix[conserved_patients, :].to_csv('/cellar/users/ramarty/Data/hla_ii/presentation/clean_matrices/patient_mutations.cancer.TCGA.conservative.mut.csv')\n",
    "print patient_affinitiesI.ix[conserved_patients, :].shape\n",
    "print patient_affinitiesI.ix[conserved_patients, :].dropna().shape"
   ]
  },
  {
   "cell_type": "markdown",
   "metadata": {},
   "source": [
    "####CGC genes"
   ]
  },
  {
   "cell_type": "code",
   "execution_count": 10,
   "metadata": {
    "collapsed": false
   },
   "outputs": [
    {
     "name": "stdout",
     "output_type": "stream",
     "text": [
      "(7562, 1109) (10177, 1109)\n"
     ]
    }
   ],
   "source": [
    "# class II\n",
    "subset = 'conservative'\n",
    "patient_mutations = pd.read_csv('/cellar/users/ramarty/Data/hla_ii/presentation/patient_matrices/cgc_new.patient_mutation.csv', index_col=0)\n",
    "patient_affinites = pd.read_csv('/cellar/users/ramarty/Data/hla_ii/presentation/patient_matrices/cgc_new.TCGA.inclusive.mut.csv', index_col=0).transpose()\n",
    "print patient_affinites.shape, patient_mutations.shape"
   ]
  },
  {
   "cell_type": "code",
   "execution_count": 11,
   "metadata": {
    "collapsed": false
   },
   "outputs": [
    {
     "name": "stdout",
     "output_type": "stream",
     "text": [
      "(5942, 1109) (5942, 1109)\n"
     ]
    }
   ],
   "source": [
    "if subset == 'conservative':\n",
    "    patients = [x for x in list(patient_affinites.index) if (x in list(patient_mutations.index))&(x in conserved_patients)]\n",
    "else:\n",
    "    patients = [x for x in list(patient_affinites.index) if (x in list(patient_mutations.index))&(x in patients_with_clinical)]\n",
    "mutations = [x for x in list(patient_affinites.columns) if x in list(patient_mutations.columns)]\n",
    "patient_affinites = patient_affinites.ix[patients, mutations]\n",
    "patient_mutations = patient_mutations.ix[patients, mutations]\n",
    "print patient_affinites.shape, patient_mutations.shape\n",
    "patient_mutations.to_csv('/cellar/users/ramarty/Data/hla_ii/presentation/clean_matrices/patient_mutations.cgc_new.TCGA.{0}.mut.ClassII.csv'.format(subset))\n",
    "patient_affinites.to_csv('/cellar/users/ramarty/Data/hla_ii/presentation/clean_matrices/patient_affinities.cgc_new.TCGA.{0}.mut.ClassII.csv'.format(subset))"
   ]
  },
  {
   "cell_type": "markdown",
   "metadata": {},
   "source": [
    "All CGC genes"
   ]
  },
  {
   "cell_type": "code",
   "execution_count": 21,
   "metadata": {
    "collapsed": true
   },
   "outputs": [],
   "source": [
    "# import davoli\n",
    "patient_mutations = pd.read_csv('/cellar/users/ramarty/Data/hla_ii/presentation/clean_matrices/patient_mutations.cancer.TCGA.conservative.mut.csv',\n",
    "                                index_col=0)\n",
    "patient_affinities = pd.read_csv('/cellar/users/ramarty/Data/hla_ii/presentation/clean_matrices/patient_affinities.cancer.TCGA.conservative.mut.ClassII.csv',\n",
    "                                index_col=0)\n",
    "# import cgc_new\n",
    "patient_mutations_cgc = pd.read_csv('/cellar/users/ramarty/Data/hla_ii/presentation/clean_matrices/patient_mutations.cgc_new.TCGA.conservative.mut.ClassII.csv',\n",
    "                                index_col=0)\n",
    "patient_affinities_cgc = pd.read_csv('/cellar/users/ramarty/Data/hla_ii/presentation/clean_matrices/patient_affinities.cgc_new.TCGA.conservative.mut.ClassII.csv',\n",
    "                                index_col=0)"
   ]
  },
  {
   "cell_type": "code",
   "execution_count": 22,
   "metadata": {
    "collapsed": true
   },
   "outputs": [],
   "source": [
    "# get mutations in davoli that are in cgc\n",
    "cgc = pd.read_csv('/cellar/users/ramarty/Data/hla_ii/references/CGC.csv')\n",
    "cgc_genes = list(cgc['Gene Symbol'])"
   ]
  },
  {
   "cell_type": "code",
   "execution_count": 23,
   "metadata": {
    "collapsed": false
   },
   "outputs": [],
   "source": [
    "mutations_to_add = [x for x in patient_affinities.columns if x.split('_')[0] in cgc_genes]"
   ]
  },
  {
   "cell_type": "code",
   "execution_count": 24,
   "metadata": {
    "collapsed": false
   },
   "outputs": [],
   "source": [
    "# combine data frames\n",
    "patient_mutations = pd.concat([patient_mutations_cgc.transpose(),\n",
    "                               patient_mutations[mutations_to_add].transpose()]).transpose()\n",
    "patient_affinities = pd.concat([patient_affinities_cgc.transpose(),\n",
    "                               patient_affinities[mutations_to_add].transpose()]).transpose()"
   ]
  },
  {
   "cell_type": "code",
   "execution_count": 27,
   "metadata": {
    "collapsed": false
   },
   "outputs": [
    {
     "name": "stdout",
     "output_type": "stream",
     "text": [
      "(5942, 1918) (5942, 1918)\n",
      "(5942, 1918) (5942, 1918)\n"
     ]
    }
   ],
   "source": [
    "# check data frames\n",
    "print patient_mutations.shape, patient_affinities.shape\n",
    "print patient_mutations.dropna().shape, patient_affinities.dropna().shape\n",
    "# output data frames\n",
    "patient_mutations.to_csv('/cellar/users/ramarty/Data/hla_ii/presentation/clean_matrices/patient_mutations.cgc.TCGA.conservative.mut.ClassII.csv')\n",
    "patient_affinities.to_csv('/cellar/users/ramarty/Data/hla_ii/presentation/clean_matrices/patient_affinities.cgc.TCGA.conservative.mut.ClassII.csv')"
   ]
  },
  {
   "cell_type": "markdown",
   "metadata": {},
   "source": [
    "#### Passenger and germline are for the comparison models"
   ]
  },
  {
   "cell_type": "markdown",
   "metadata": {},
   "source": [
    "Passengers"
   ]
  },
  {
   "cell_type": "code",
   "execution_count": 27,
   "metadata": {
    "collapsed": false,
    "scrolled": true
   },
   "outputs": [
    {
     "data": {
      "text/plain": [
       "1000"
      ]
     },
     "execution_count": 27,
     "metadata": {},
     "output_type": "execute_result"
    }
   ],
   "source": [
    "fasta_mutations = [x[1:].strip() for x in open('/cellar/users/ramarty/Data/hla_ii/presentation/fasta_files/passenger.fa').readlines() if '>' in x]\n",
    "len(fasta_mutations)"
   ]
  },
  {
   "cell_type": "code",
   "execution_count": 7,
   "metadata": {
    "collapsed": false
   },
   "outputs": [],
   "source": [
    "category = 'passenger'\n",
    "mutations = [x.strip() for x in open('/cellar/users/ramarty/Data/hla_ii/presentation/residues/{0}.txt'.format(category)).readlines()]"
   ]
  },
  {
   "cell_type": "code",
   "execution_count": 8,
   "metadata": {
    "collapsed": true
   },
   "outputs": [],
   "source": [
    "subset = 'conservative'"
   ]
  },
  {
   "cell_type": "code",
   "execution_count": 39,
   "metadata": {
    "collapsed": false,
    "scrolled": true
   },
   "outputs": [
    {
     "name": "stdout",
     "output_type": "stream",
     "text": [
      "(7562, 1000) (10177, 1000)\n",
      "(5942, 1000) (5942, 1000)\n"
     ]
    }
   ],
   "source": [
    "# class II\n",
    "patient_mutations = pd.read_csv('/cellar/users/ramarty/Data/hla_ii/presentation/patient_matrices/passenger.patient_mutation.csv', index_col=0)\n",
    "patient_affinites = pd.read_csv('/cellar/users/ramarty/Data/hla_ii/presentation/patient_matrices/passenger.TCGA.inclusive.mut.csv', index_col=0).transpose()\n",
    "print patient_affinites.shape, patient_mutations.shape\n",
    "if subset == 'conservative':\n",
    "    patients = [x for x in list(patient_affinites.index) if (x in list(patient_mutations.index))&(x in conserved_patients)]\n",
    "else:\n",
    "    patients = [x for x in list(patient_affinites.index) if (x in list(patient_mutations.index))&(x in patients_with_clinical)]\n",
    "mutations = [x for x in list(patient_affinites.columns) if x in list(patient_mutations.columns)]\n",
    "patient_affinites = patient_affinites.ix[patients, mutations]\n",
    "patient_mutations = patient_mutations.ix[patients, mutations]\n",
    "print patient_affinites.shape, patient_mutations.shape\n",
    "patient_mutations.to_csv('/cellar/users/ramarty/Data/hla_ii/presentation/clean_matrices/patient_mutations.passenger.TCGA.{0}.mut.ClassII.csv'.format(subset))\n",
    "patient_affinites.to_csv('/cellar/users/ramarty/Data/hla_ii/presentation/clean_matrices/patient_affinities.passenger.TCGA.{0}.mut.ClassII.csv'.format(subset))"
   ]
  },
  {
   "cell_type": "code",
   "execution_count": 9,
   "metadata": {
    "collapsed": false
   },
   "outputs": [
    {
     "name": "stdout",
     "output_type": "stream",
     "text": [
      "(7965, 1000) (10177, 1000)\n",
      "(5942, 912) (5942, 912)\n"
     ]
    }
   ],
   "source": [
    "# class I\n",
    "patient_mutations = pd.read_csv('/cellar/users/ramarty/Data/hla_ii/presentation/patient_matrices/passenger.patient_mutation.csv', index_col=0)\n",
    "patient_affinites = pd.read_csv('/cellar/users/ramarty/Data/hla_ii/presentation/patient_matrices/passenger.TCGA.inclusive.mut.ClassI.csv', index_col=0).transpose()\n",
    "print patient_affinites.shape, patient_mutations.shape\n",
    "if subset == 'conservative':\n",
    "    patients = [x for x in list(patient_affinites.index) if (x in list(patient_mutations.index))&(x in conserved_patients)]\n",
    "else:\n",
    "    patients = [x for x in list(patient_affinites.index) if (x in list(patient_mutations.index))&(x in patients_with_clinical)]\n",
    "mutations = [x for x in list(patient_affinites.columns) if x in list(patient_mutations.columns)]\n",
    "patient_affinites = patient_affinites.ix[patients, mutations]\n",
    "patient_mutations = patient_mutations.ix[patients, mutations]\n",
    "print patient_affinites.shape, patient_mutations.shape\n",
    "patient_mutations.to_csv('/cellar/users/ramarty/Data/hla_ii/presentation/clean_matrices/patient_mutations.passenger.TCGA.{0}.mut.ClassI.csv'.format(subset))\n",
    "patient_affinites.to_csv('/cellar/users/ramarty/Data/hla_ii/presentation/clean_matrices/patient_affinities.passenger.TCGA.{0}.mut.ClassI.csv'.format(subset))"
   ]
  },
  {
   "cell_type": "code",
   "execution_count": 13,
   "metadata": {
    "collapsed": false
   },
   "outputs": [
    {
     "data": {
      "text/plain": [
       "((5942, 1000), (5942, 1000))"
      ]
     },
     "execution_count": 13,
     "metadata": {},
     "output_type": "execute_result"
    }
   ],
   "source": [
    "# reduced passenger\n",
    "patient_mutations = pd.read_csv('/cellar/users/ramarty/Data/hla_ii/presentation/clean_matrices/patient_mutations.passenger.TCGA.{0}.mut.ClassII.csv'.format(subset),\n",
    "                                index_col=0)\n",
    "patient_affinites = pd.read_csv('/cellar/users/ramarty/Data/hla_ii/presentation/clean_matrices/patient_affinities.passenger.TCGA.{0}.mut.ClassII.csv'.format(subset),\n",
    "                                index_col=0)\n",
    "print patient_affinites.shape, patient_mutations.shape\n",
    "print patient_mutations[mutations].shape, patient_affinites[mutations].shape\n",
    "patient_mutations[mutations].to_csv('/cellar/users/ramarty/Data/hla_ii/presentation/clean_matrices/patient_mutations.passenger.TCGA.{0}.mut.ClassII.subset.csv'.format(subset))\n",
    "patient_affinites[mutations].to_csv('/cellar/users/ramarty/Data/hla_ii/presentation/clean_matrices/patient_affinities.passenger.TCGA.{0}.mut.ClassII.subset.csv'.format(subset))"
   ]
  },
  {
   "cell_type": "markdown",
   "metadata": {},
   "source": [
    "Germline"
   ]
  },
  {
   "cell_type": "code",
   "execution_count": 17,
   "metadata": {
    "collapsed": true
   },
   "outputs": [],
   "source": [
    "subset = 'conservative'"
   ]
  },
  {
   "cell_type": "code",
   "execution_count": 45,
   "metadata": {
    "collapsed": false
   },
   "outputs": [
    {
     "name": "stdout",
     "output_type": "stream",
     "text": [
      "(2086, 1000) (2086, 1000)\n"
     ]
    }
   ],
   "source": [
    "# class II\n",
    "patient_mutations = pd.read_csv('/cellar/users/ramarty/Data/hla_ii/presentation/patient_matrices/germline.patient_mutations.csv', index_col=0)\n",
    "patient_affinites = pd.read_csv('/cellar/users/ramarty/Data/hla_ii/presentation/patient_matrices/germline.TCGA.inclusive.mut.csv', index_col=0).transpose()\n",
    "if subset == 'conservative':\n",
    "    patients = [x for x in list(patient_affinites.index) if (x in list(patient_mutations.index))&(x in conserved_patients)]\n",
    "else:\n",
    "    patients = [x for x in list(patient_affinites.index) if (x in list(patient_mutations.index))&(x in patients_with_clinical)]\n",
    "mutations = [x for x in list(patient_affinites.columns) if x in list(patient_mutations.columns)]\n",
    "patient_affinites = patient_affinites.ix[patients, mutations].dropna()\n",
    "patient_mutations = patient_mutations.ix[patients, mutations].dropna()\n",
    "print patient_affinites.shape, patient_mutations.shape\n",
    "patient_mutations.to_csv('/cellar/users/ramarty/Data/hla_ii/presentation/clean_matrices/patient_mutations.germline.TCGA.{0}.mut.ClassII.csv'.format(subset))\n",
    "patient_affinites.to_csv('/cellar/users/ramarty/Data/hla_ii/presentation/clean_matrices/patient_affinities.germline.TCGA.{0}.mut.ClassII.csv'.format(subset))"
   ]
  },
  {
   "cell_type": "code",
   "execution_count": 18,
   "metadata": {
    "collapsed": false
   },
   "outputs": [
    {
     "name": "stdout",
     "output_type": "stream",
     "text": [
      "(2086, 981) (2086, 981)\n"
     ]
    }
   ],
   "source": [
    "# class I\n",
    "patient_mutations = pd.read_csv('/cellar/users/ramarty/Data/hla_ii/presentation/patient_matrices/germline.patient_mutations.csv', index_col=0)\n",
    "patient_affinites = pd.read_csv('/cellar/users/ramarty/Data/hla_ii/presentation/patient_matrices/germline.TCGA.inclusive.mut.ClassI.csv', index_col=0).transpose()\n",
    "if subset == 'conservative':\n",
    "    patients = [x for x in list(patient_affinites.index) if (x in list(patient_mutations.index))&(x in conserved_patients)]\n",
    "else:\n",
    "    patients = [x for x in list(patient_affinites.index) if (x in list(patient_mutations.index))&(x in patients_with_clinical)]\n",
    "mutations = [x for x in list(patient_affinites.columns) if x in list(patient_mutations.columns)]\n",
    "patient_affinites = patient_affinites.ix[patients, mutations]\n",
    "patient_mutations = patient_mutations.ix[patients, mutations]\n",
    "print patient_affinites.shape, patient_mutations.shape\n",
    "patient_mutations.to_csv('/cellar/users/ramarty/Data/hla_ii/presentation/clean_matrices/patient_mutations.germline.TCGA.{0}.mut.ClassI.csv'.format(subset))\n",
    "patient_affinites.to_csv('/cellar/users/ramarty/Data/hla_ii/presentation/clean_matrices/patient_affinities.germline.TCGA.{0}.mut.ClassI.csv'.format(subset))"
   ]
  },
  {
   "cell_type": "code",
   "execution_count": 19,
   "metadata": {
    "collapsed": false
   },
   "outputs": [
    {
     "name": "stdout",
     "output_type": "stream",
     "text": [
      "(2086, 1000) (2086, 1000)\n",
      "(2086, 981) (2086, 981)\n"
     ]
    }
   ],
   "source": [
    "# reduced germline\n",
    "patient_mutations = pd.read_csv('/cellar/users/ramarty/Data/hla_ii/presentation/clean_matrices/patient_mutations.germline.TCGA.{0}.mut.ClassII.csv'.format(subset),\n",
    "                                index_col=0)\n",
    "patient_affinites = pd.read_csv('/cellar/users/ramarty/Data/hla_ii/presentation/clean_matrices/patient_affinities.germline.TCGA.{0}.mut.ClassII.csv'.format(subset),\n",
    "                                index_col=0)\n",
    "print patient_affinites.shape, patient_mutations.shape\n",
    "print patient_mutations[mutations].shape, patient_affinites[mutations].shape\n",
    "patient_mutations[mutations].to_csv('/cellar/users/ramarty/Data/hla_ii/presentation/clean_matrices/patient_mutations.germline.TCGA.{0}.mut.ClassII.subset.csv'.format(subset))\n",
    "patient_affinites[mutations].to_csv('/cellar/users/ramarty/Data/hla_ii/presentation/clean_matrices/patient_affinities.germline.TCGA.{0}.mut.ClassII.subset.csv'.format(subset))"
   ]
  },
  {
   "cell_type": "markdown",
   "metadata": {
    "collapsed": true
   },
   "source": [
    "#### Patient tissue types"
   ]
  },
  {
   "cell_type": "code",
   "execution_count": 51,
   "metadata": {
    "collapsed": true
   },
   "outputs": [],
   "source": [
    "subset = 'inclusive'"
   ]
  },
  {
   "cell_type": "code",
   "execution_count": 52,
   "metadata": {
    "collapsed": false
   },
   "outputs": [
    {
     "name": "stdout",
     "output_type": "stream",
     "text": [
      "7218\n"
     ]
    }
   ],
   "source": [
    "tmp = pd.read_csv('/cellar/users/ramarty/Data/hla_ii/presentation/clean_matrices/patient_mutations.cancer.TCGA.{0}.mut.csv'.format(subset),\n",
    "                 index_col=0)\n",
    "patients = list(tmp.index)\n",
    "print len(patients)"
   ]
  },
  {
   "cell_type": "code",
   "execution_count": 53,
   "metadata": {
    "collapsed": false
   },
   "outputs": [],
   "source": [
    "df = clinical_df[['tissue']]\n",
    "df.columns = ['Tissue']\n",
    "df = df.ix[patients]\n",
    "df.to_csv('/cellar/users/ramarty/Data/hla_ii/presentation/clean_matrices/patient_tissues.{0}.csv'.format(subset))"
   ]
  },
  {
   "cell_type": "code",
   "execution_count": 54,
   "metadata": {
    "collapsed": false
   },
   "outputs": [
    {
     "data": {
      "text/plain": [
       "(7218, 1)"
      ]
     },
     "execution_count": 54,
     "metadata": {},
     "output_type": "execute_result"
    }
   ],
   "source": [
    "df.shape"
   ]
  },
  {
   "cell_type": "markdown",
   "metadata": {
    "collapsed": true
   },
   "source": [
    "####Non-cancer"
   ]
  },
  {
   "cell_type": "code",
   "execution_count": 69,
   "metadata": {
    "collapsed": true
   },
   "outputs": [],
   "source": [
    "subset = 'conservative'"
   ]
  },
  {
   "cell_type": "code",
   "execution_count": 68,
   "metadata": {
    "collapsed": false
   },
   "outputs": [
    {
     "name": "stdout",
     "output_type": "stream",
     "text": [
      "(7562, 1000)\n",
      "(10177, 1000)\n",
      "(7218, 1000)\n",
      "(7218, 1000)\n"
     ]
    }
   ],
   "source": [
    "patient_mutations = pd.read_csv('/cellar/users/ramarty/Data/hla_ii/presentation/patient_matrices/non_cancer.patient_mutation.csv',\n",
    "            index_col=0)\n",
    "patient_affinitiesII = pd.read_csv('/cellar/users/ramarty/Data/hla_ii/presentation/patient_matrices/non_cancer.TCGA.inclusive.mut.csv',\n",
    "            index_col=0).transpose()\n",
    "if subset == 'conservative':\n",
    "    patients = conserved_patients\n",
    "else:\n",
    "    patients = list(pd.read_csv('/cellar/users/ramarty/Data/hla_ii/presentation/clean_matrices/patient_mutations.cancer.TCGA.{0}.mut.csv'.format(subset),\n",
    "                 index_col=0).index)\n",
    "print patient_affinitiesII.shape\n",
    "print patient_mutations.shape\n",
    "print patient_affinitiesII.ix[patients, :].dropna().shape\n",
    "print patient_mutations.ix[patients, :].dropna().shape\n",
    "patient_affinitiesII.ix[patients, :].to_csv('/cellar/users/ramarty/Data/hla_ii/presentation/clean_matrices/patient_affinities.non_cancer.TCGA.{0}.mut.ClassII.csv'.format(subset))\n",
    "patient_mutations.ix[patients, :].to_csv('/cellar/users/ramarty/Data/hla_ii/presentation/clean_matrices/patient_mutations.non_cancer.TCGA.{0}.mut.csv'.format(subset))"
   ]
  },
  {
   "cell_type": "code",
   "execution_count": 70,
   "metadata": {
    "collapsed": false,
    "scrolled": true
   },
   "outputs": [
    {
     "name": "stdout",
     "output_type": "stream",
     "text": [
      "(5942, 1000)\n",
      "(5942, 1000)\n",
      "(5942, 1000)\n",
      "(5942, 1000)\n"
     ]
    }
   ],
   "source": [
    "patient_mutations = pd.read_csv('/cellar/users/ramarty/Data/hla_ii/presentation/patient_matrices/known_non_cancer.patient_mutation.csv',\n",
    "            index_col=0)\n",
    "patient_affinitiesII = pd.read_csv('/cellar/users/ramarty/Data/hla_ii/presentation/patient_matrices/known_non_cancer.TCGA.inclusive.mut.csv',\n",
    "            index_col=0).transpose()\n",
    "if subset == 'conservative':\n",
    "    patients = conserved_patients\n",
    "else:\n",
    "    patients = list(pd.read_csv('/cellar/users/ramarty/Data/hla_ii/presentation/clean_matrices/patient_mutations.cancer.TCGA.{0}.mut.csv'.format(subset),\n",
    "                 index_col=0).index)\n",
    "print patient_affinitiesII.ix[patients, :].shape\n",
    "print patient_mutations.ix[patients, :].shape\n",
    "print patient_affinitiesII.ix[patients, :].dropna().shape\n",
    "print patient_mutations.ix[patients, :].dropna().shape\n",
    "patient_affinitiesII.ix[patients, :].to_csv('/cellar/users/ramarty/Data/hla_ii/presentation/clean_matrices/patient_affinities.known_non_cancer.TCGA.{0}.mut.ClassII.csv'.format(subset))\n",
    "patient_mutations.ix[patients, :].to_csv('/cellar/users/ramarty/Data/hla_ii/presentation/clean_matrices/patient_mutations.known_non_cancer.TCGA.{0}.mut.csv'.format(subset))"
   ]
  },
  {
   "cell_type": "markdown",
   "metadata": {
    "collapsed": true
   },
   "source": [
    "####High alleleic fraction"
   ]
  },
  {
   "cell_type": "code",
   "execution_count": 28,
   "metadata": {
    "collapsed": true
   },
   "outputs": [],
   "source": [
    "patient_mutation = pd.read_csv('/cellar/users/ramarty/Data/hla_ii/presentation/clean_matrices/patient_mutations.high_allelic_fraction.TCGA.inclusive.mut.csv',\n",
    "                               index_col=0)"
   ]
  },
  {
   "cell_type": "code",
   "execution_count": 35,
   "metadata": {
    "collapsed": false
   },
   "outputs": [],
   "source": [
    "patient_mutations.loc[conserved_patients].to_csv('/cellar/users/ramarty/Data/hla_ii/presentation/clean_matrices/patient_mutations.high_allelic_fraction.TCGA.conservative.mut.csv')"
   ]
  },
  {
   "cell_type": "code",
   "execution_count": null,
   "metadata": {
    "collapsed": true
   },
   "outputs": [],
   "source": []
  }
 ],
 "metadata": {
  "kernelspec": {
   "display_name": "Python 2",
   "language": "python",
   "name": "python2"
  },
  "language_info": {
   "codemirror_mode": {
    "name": "ipython",
    "version": 2
   },
   "file_extension": ".py",
   "mimetype": "text/x-python",
   "name": "python",
   "nbconvert_exporter": "python",
   "pygments_lexer": "ipython2",
   "version": "2.7.14"
  }
 },
 "nbformat": 4,
 "nbformat_minor": 0
}
