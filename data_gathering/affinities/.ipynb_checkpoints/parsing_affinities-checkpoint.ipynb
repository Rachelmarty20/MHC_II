{
 "cells": [
  {
   "cell_type": "code",
   "execution_count": 1,
   "metadata": {
    "collapsed": false
   },
   "outputs": [
    {
     "name": "stdout",
     "output_type": "stream",
     "text": [
      "Populating the interactive namespace from numpy and matplotlib\n"
     ]
    },
    {
     "name": "stderr",
     "output_type": "stream",
     "text": [
      "/cellar/users/ramarty/anaconda/lib/python2.7/site-packages/IPython/nbformat/current.py:19: UserWarning: IPython.nbformat.current is deprecated.\n",
      "\n",
      "- use IPython.nbformat for read/write/validate public API\n",
      "- use IPython.nbformat.vX directly to composing notebooks of a particular version\n",
      "\n",
      "  \"\"\")\n"
     ]
    }
   ],
   "source": [
    "import io\n",
    "from IPython.nbformat import current\n",
    "def execute_notebook(nbfile):\n",
    "    with io.open(nbfile) as f:\n",
    "        nb = current.read(f, 'json')\n",
    "    ip = get_ipython()\n",
    "    for cell in nb.worksheets[0].cells:\n",
    "        if cell.cell_type != 'code':\n",
    "            continue\n",
    "        ip.run_cell(cell.input)\n",
    "execute_notebook(\"/cellar/users/ramarty/Projects/hla_ii/bin/imports.ipynb\")"
   ]
  },
  {
   "cell_type": "markdown",
   "metadata": {},
   "source": [
    "### Collecting results for alleles"
   ]
  },
  {
   "cell_type": "markdown",
   "metadata": {},
   "source": [
    "Setup for script"
   ]
  },
  {
   "cell_type": "code",
   "execution_count": 2,
   "metadata": {
    "collapsed": false,
    "scrolled": true
   },
   "outputs": [
    {
     "data": {
      "text/plain": [
       "5620"
      ]
     },
     "execution_count": 2,
     "metadata": {},
     "output_type": "execute_result"
    }
   ],
   "source": [
    "alleles = [x.strip() for x in open('/cellar/users/ramarty/Data/hla_ii/presentation/other/netMHCIIpan_alleles.txt').readlines() if x.strip()[:2] != 'H-']\n",
    "len(alleles)"
   ]
  },
  {
   "cell_type": "code",
   "execution_count": 7,
   "metadata": {
    "collapsed": true
   },
   "outputs": [],
   "source": [
    "def collect_allele_BR(category):\n",
    "    mutations = [x.strip() for x in open('/cellar/users/ramarty/Data/hla_ii/presentation/residues/{0}.txt'.format(category)).readlines()]\n",
    "    df = pd.DataFrame({'mutation': mutations})\n",
    "    \n",
    "    for i, allele in enumerate(alleles):\n",
    "        if i % 100 == 0:\n",
    "            print i\n",
    "        BR = []\n",
    "        aff = pd.read_csv('/cellar/users/ramarty/Data/hla_ii/presentation/affinities/{0}/{1}.csv'.format(category, allele), sep='\\t', skiprows=1)\n",
    "        for mutation in mutations: \n",
    "            BR.append(aff[aff.ID == mutation].Rank.min())\n",
    "        df[allele] = BR\n",
    "    df.to_csv('/cellar/users/ramarty/Data/hla_ii/presentation/allele_matrices/{0}.csv'.format(category))"
   ]
  },
  {
   "cell_type": "markdown",
   "metadata": {},
   "source": [
    "Running on the cluster"
   ]
  },
  {
   "cell_type": "code",
   "execution_count": 5,
   "metadata": {
    "collapsed": true
   },
   "outputs": [],
   "source": [
    "def create_cluster_script_alleles(categories):\n",
    "    \n",
    "    new_script_file = '/cellar/users/ramarty/Projects/hla_ii/data_gathering/affinities/allele_matrices.sh'\n",
    "    \n",
    "    with open(new_script_file, 'w') as out_file:\n",
    "        out_file.write(\"#! /bin/csh\\n\")\n",
    "        out_file.write(\"#$ -V\\n\")\n",
    "        out_file.write(\"#$ -S /bin/csh\\n\")\n",
    "        out_file.write(\"#$ -o /cellar/users/ramarty/Data/hla_ii/sge-system_files\\n\")\n",
    "        out_file.write(\"#$ -e /cellar/users/ramarty/Data/hla_ii/sge-system_files\\n\")\n",
    "        out_file.write(\"#$ -cwd\\n\")\n",
    "        out_file.write(\"#$ -t 1-{0}\\n\".format(len(categories)))\n",
    "        #out_file.write(\"#$ -t 1-2\\n\".format(len(samples)))\n",
    "        out_file.write(\"#$ -l h_vmem=2G\\n\")\n",
    "        out_file.write(\"#$ -tc 50\\n\")\n",
    "        out_file.write(\"#$ -l long\")\n",
    "        out_file.write(\"\\n\")\n",
    "\n",
    "        out_file.write(\"set categories=({0})\\n\".format(\" \".join(categories)))\n",
    "        out_file.write(\"\\n\")\n",
    "\n",
    "        out_file.write(\"set category=$categories[$SGE_TASK_ID]\\n\")\n",
    "        out_file.write(\"\\n\")\n",
    "\n",
    "        out_file.write(\"date\\n\")\n",
    "        out_file.write(\"hostname\\n\")\n",
    "        out_file.write(\"\\n\")\n",
    "  \n",
    "        out_file.write(\"python /cellar/users/ramarty/Projects/hla_ii/data_gathering/affinities/creating_allele_matrices.py $category\\n\")\n",
    "        out_file.write(\"\\n\")\n",
    "                       \n",
    "        out_file.write(\"date\\n\")"
   ]
  },
  {
   "cell_type": "code",
   "execution_count": 6,
   "metadata": {
    "collapsed": false
   },
   "outputs": [],
   "source": [
    "categories = ['passenger']\n",
    "create_cluster_script_alleles(categories)"
   ]
  },
  {
   "cell_type": "markdown",
   "metadata": {},
   "source": [
    "### Merging results into patients"
   ]
  },
  {
   "cell_type": "markdown",
   "metadata": {},
   "source": [
    "Setup for script"
   ]
  },
  {
   "cell_type": "code",
   "execution_count": 56,
   "metadata": {
    "collapsed": true
   },
   "outputs": [],
   "source": [
    "def PHBR(x):\n",
    "    number_of_alleles = len(x)\n",
    "    s = 0\n",
    "    for i in range(number_of_alleles):\n",
    "        s += 1/float(x[i])\n",
    "    return number_of_alleles / float(s)"
   ]
  },
  {
   "cell_type": "code",
   "execution_count": 57,
   "metadata": {
    "collapsed": true
   },
   "outputs": [],
   "source": [
    "def create_patient_matrix(category):\n",
    "    df = pd.read_csv('/cellar/users/ramarty/Data/hla_ii/presentation/allele_matrices/{0}.csv'.format(category), index_col=0)\n",
    "    patients_used = []\n",
    "    for patient in patient_dictionary.keys():\n",
    "        patient_alleles = patient_dictionary[patient]\n",
    "        try:\n",
    "            df[patient] = df[patient_alleles].apply(PHBR, axis=1)\n",
    "            patients_used.append(patient)\n",
    "        except:\n",
    "            print patient\n",
    "    df.index = df['mutation']\n",
    "    df[patients_used].to_csv('/cellar/users/ramarty/Data/hla_ii/presentation/patient_matrices/{0}.csv'.format(category))"
   ]
  },
  {
   "cell_type": "code",
   "execution_count": 17,
   "metadata": {
    "collapsed": true
   },
   "outputs": [],
   "source": [
    "patient_dictionary = pickle.load(open('/cellar/users/ramarty/Data/hla_ii/hla_types/TCGA.HLA_classII.p'))"
   ]
  },
  {
   "cell_type": "code",
   "execution_count": 18,
   "metadata": {
    "collapsed": false
   },
   "outputs": [
    {
     "data": {
      "text/plain": [
       "['TCGA-D3-A3CE', 'TCGA-D3-A3CB', 'TCGA-DH-A7UV']"
      ]
     },
     "execution_count": 18,
     "metadata": {},
     "output_type": "execute_result"
    }
   ],
   "source": [
    "patient_dictionary.keys()[:3]"
   ]
  },
  {
   "cell_type": "code",
   "execution_count": 19,
   "metadata": {
    "collapsed": false
   },
   "outputs": [
    {
     "data": {
      "text/plain": [
       "['DRB1_0101',\n",
       " 'DRB1_1501',\n",
       " 'HLA-DPA10103_DPB10401',\n",
       " 'HLA-DPA10103_DPB10301',\n",
       " 'HLA-DPA10103_DPB10401',\n",
       " 'HLA-DPA10103_DPB10301',\n",
       " 'HLA-DQA10102_DQB10602',\n",
       " 'HLA-DQA10102_DQB10501',\n",
       " 'HLA-DQA10101_DQB10602',\n",
       " 'HLA-DQA10101_DQB10501']"
      ]
     },
     "execution_count": 19,
     "metadata": {},
     "output_type": "execute_result"
    }
   ],
   "source": [
    "patient_dictionary['TCGA-D3-A3CE']"
   ]
  },
  {
   "cell_type": "markdown",
   "metadata": {
    "collapsed": true
   },
   "source": [
    "Running on the cluster"
   ]
  },
  {
   "cell_type": "code",
   "execution_count": 6,
   "metadata": {
    "collapsed": true
   },
   "outputs": [],
   "source": [
    "def create_cluster_script_patients(categories):\n",
    "    \n",
    "    new_script_file = '/cellar/users/ramarty/Projects/hla_ii/data_gathering/affinities/patient_matrices.sh'\n",
    "    \n",
    "    with open(new_script_file, 'w') as out_file:\n",
    "        out_file.write(\"#! /bin/csh\\n\")\n",
    "        out_file.write(\"#$ -V\\n\")\n",
    "        out_file.write(\"#$ -S /bin/csh\\n\")\n",
    "        out_file.write(\"#$ -o /cellar/users/ramarty/Data/hla_ii/sge-system_files\\n\")\n",
    "        out_file.write(\"#$ -e /cellar/users/ramarty/Data/hla_ii/sge-system_files\\n\")\n",
    "        out_file.write(\"#$ -cwd\\n\")\n",
    "        out_file.write(\"#$ -t 1-{0}\\n\".format(len(categories)))\n",
    "        out_file.write(\"#$ -l h_vmem=2G\\n\")\n",
    "        out_file.write(\"#$ -tc 50\\n\")\n",
    "        out_file.write(\"#$ -l long\")\n",
    "        out_file.write(\"\\n\")\n",
    "\n",
    "        out_file.write(\"set categories=({0})\\n\".format(\" \".join(categories)))\n",
    "        out_file.write(\"\\n\")\n",
    "\n",
    "        out_file.write(\"set category=$categories[$SGE_TASK_ID]\\n\")\n",
    "        out_file.write(\"\\n\")\n",
    "\n",
    "        out_file.write(\"date\\n\")\n",
    "        out_file.write(\"hostname\\n\")\n",
    "        out_file.write(\"\\n\")\n",
    "  \n",
    "        out_file.write(\"python /cellar/users/ramarty/Projects/hla_ii/data_gathering/affinities/creating_patient_matrices.py $category\\n\")\n",
    "        out_file.write(\"\\n\")\n",
    "                       \n",
    "        out_file.write(\"date\\n\")"
   ]
  },
  {
   "cell_type": "code",
   "execution_count": 7,
   "metadata": {
    "collapsed": true
   },
   "outputs": [],
   "source": [
    "categories = ['oncogenes', 'tsgenes']\n",
    "create_cluster_script_patients(categories)"
   ]
  },
  {
   "cell_type": "markdown",
   "metadata": {
    "collapsed": true
   },
   "source": [
    "### Merging MHC-I and MHC-II into a single predictor"
   ]
  },
  {
   "cell_type": "code",
   "execution_count": null,
   "metadata": {
    "collapsed": true
   },
   "outputs": [],
   "source": []
  }
 ],
 "metadata": {
  "kernelspec": {
   "display_name": "Python 2",
   "language": "python",
   "name": "python2"
  },
  "language_info": {
   "codemirror_mode": {
    "name": "ipython",
    "version": 2
   },
   "file_extension": ".py",
   "mimetype": "text/x-python",
   "name": "python",
   "nbconvert_exporter": "python",
   "pygments_lexer": "ipython2",
   "version": "2.7.12"
  }
 },
 "nbformat": 4,
 "nbformat_minor": 0
}
