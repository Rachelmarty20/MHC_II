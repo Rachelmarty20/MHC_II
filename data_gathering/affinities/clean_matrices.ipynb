{
 "cells": [
  {
   "cell_type": "code",
   "execution_count": 1,
   "metadata": {
    "collapsed": false,
    "scrolled": true
   },
   "outputs": [
    {
     "name": "stdout",
     "output_type": "stream",
     "text": [
      "Populating the interactive namespace from numpy and matplotlib\n"
     ]
    },
    {
     "name": "stderr",
     "output_type": "stream",
     "text": [
      "/cellar/users/ramarty/anaconda/lib/python2.7/site-packages/IPython/nbformat/current.py:19: UserWarning: IPython.nbformat.current is deprecated.\n",
      "\n",
      "- use IPython.nbformat for read/write/validate public API\n",
      "- use IPython.nbformat.vX directly to composing notebooks of a particular version\n",
      "\n",
      "  \"\"\")\n"
     ]
    }
   ],
   "source": [
    "import io\n",
    "from IPython.nbformat import current\n",
    "def execute_notebook(nbfile):\n",
    "    with io.open(nbfile) as f:\n",
    "        nb = current.read(f, 'json')\n",
    "    ip = get_ipython()\n",
    "    for cell in nb.worksheets[0].cells:\n",
    "        if cell.cell_type != 'code':\n",
    "            continue\n",
    "        ip.run_cell(cell.input)\n",
    "execute_notebook(\"/cellar/users/ramarty/Projects/hla_ii/bin/imports.ipynb\")"
   ]
  },
  {
   "cell_type": "markdown",
   "metadata": {},
   "source": [
    "## Alignment matrices for final production"
   ]
  },
  {
   "cell_type": "markdown",
   "metadata": {
    "collapsed": true
   },
   "source": [
    "Cancer matrices"
   ]
  },
  {
   "cell_type": "code",
   "execution_count": 2,
   "metadata": {
    "collapsed": true
   },
   "outputs": [],
   "source": [
    "def create_clean_matrices(onco_in, ts_in, ind_in, mut_out, aff_out):\n",
    "    patient_mutations = pd.concat([pd.read_csv('/cellar/users/ramarty/Data/hla/mutations/matrices/oncogenes.patient_mutation.csv', index_col=0).transpose(),\n",
    "                                pd.read_csv('/cellar/users/ramarty/Data/hla/mutations/matrices/tsgenes.patient_mutation.csv', index_col=0).transpose(),\n",
    "                                pd.read_csv('/cellar/users/ramarty/Data/hla/mutations/matrices/indels.patient_mutation.csv', index_col=0).transpose()]).transpose()\n",
    "    patient_affinites = pd.concat([pd.read_csv(onco_in, index_col=0),\n",
    "                                  pd.read_csv(ts_in, index_col=0),\n",
    "                                  pd.read_csv(ind_in, index_col=0)]).transpose()\n",
    "    print patient_affinites.shape, patient_mutations.shape\n",
    "    # restrict to overlapping patients\n",
    "    patients = [x for x in list(patient_affinites.index) if x in list(patient_mutations.index)]\n",
    "    mutations = [x for x in list(patient_affinites.columns) if x in list(patient_mutations.columns)]\n",
    "    patient_affinites = patient_affinites.ix[patients, mutations]\n",
    "    patient_mutations = patient_mutations.ix[patients, mutations]\n",
    "    print patient_affinites.shape, patient_mutations.shape\n",
    "    # restrict to mutations >= 3 occurrences\n",
    "    mutations = list(patient_mutations.sum()[patient_mutations.sum() > 2].index)\n",
    "    print len(mutations)\n",
    "    patient_affinites = patient_affinites.ix[:, mutations]\n",
    "    patient_mutations = patient_mutations.ix[:, mutations]\n",
    "    print patient_affinites.shape, patient_mutations.shape\n",
    "    patient_affinites.to_csv(mut_out)\n",
    "    patient_mutations.to_csv(aff_out)"
   ]
  },
  {
   "cell_type": "code",
   "execution_count": 3,
   "metadata": {
    "collapsed": false
   },
   "outputs": [
    {
     "name": "stdout",
     "output_type": "stream",
     "text": [
      "DR\n",
      "(7842, 1263) (10177, 1585)\n",
      "(7656, 1261) (7656, 1261)\n",
      "774\n",
      "(7656, 774) (7656, 774)\n",
      "DP\n",
      "(7745, 1263) (10177, 1585)\n",
      "(7579, 1261) (7579, 1261)\n",
      "712\n",
      "(7579, 712) (7579, 712)\n",
      "DQ\n",
      "(8097, 1263) (10177, 1585)\n",
      "(7916, 1261) (7916, 1261)\n",
      "773\n",
      "(7916, 773) (7916, 773)\n",
      "all\n",
      "(7290, 1263) (10177, 1585)\n",
      "(7137, 1261) (7137, 1261)\n",
      "673\n",
      "(7137, 673) (7137, 673)\n"
     ]
    }
   ],
   "source": [
    "for gene in ['DR', 'DP', 'DQ', 'all']:\n",
    "    print gene\n",
    "    create_clean_matrices('/cellar/users/ramarty/Data/hla_ii/presentation/patient_matrices/oncogenes.{0}.csv'.format(gene),\n",
    "                          '/cellar/users/ramarty/Data/hla_ii/presentation/patient_matrices/tsgenes.{0}.csv'.format(gene),\n",
    "                          '/cellar/users/ramarty/Data/hla_ii/presentation/patient_matrices/indels.{0}.csv'.format(gene),\n",
    "                          '/cellar/users/ramarty/Data/hla_ii/presentation/clean_matrices/patient_affinities.cancer.{0}.csv'.format(gene),\n",
    "                          '/cellar/users/ramarty/Data/hla_ii/presentation/clean_matrices/patient_mutations.cancer.{0}.csv'.format(gene))"
   ]
  },
  {
   "cell_type": "code",
   "execution_count": 9,
   "metadata": {
    "collapsed": false
   },
   "outputs": [],
   "source": [
    "gene = 'all'\n",
    "df = pd.concat([pd.read_csv('/cellar/users/ramarty/Data/hla_ii/presentation/patient_matrices/oncogenes.{0}.alternate.csv'.format(gene), index_col=0),\n",
    "               pd.read_csv('/cellar/users/ramarty/Data/hla_ii/presentation/patient_matrices/tsgenes.{0}.alternate.csv'.format(gene), index_col=0),\n",
    "               pd.read_csv('/cellar/users/ramarty/Data/hla_ii/presentation/patient_matrices/indels.{0}.alternate.csv'.format(gene), index_col=0)]).transpose()\n",
    "df.to_csv('/cellar/users/ramarty/Data/hla_ii/presentation/clean_matrices/patient_affinities.cancer.{0}.alternate.csv'.format(gene))                  "
   ]
  },
  {
   "cell_type": "markdown",
   "metadata": {},
   "source": [
    "Passengers"
   ]
  },
  {
   "cell_type": "code",
   "execution_count": 44,
   "metadata": {
    "collapsed": false
   },
   "outputs": [
    {
     "data": {
      "text/plain": [
       "1000"
      ]
     },
     "execution_count": 44,
     "metadata": {},
     "output_type": "execute_result"
    }
   ],
   "source": [
    "fasta_mutations = [x[1:].strip() for x in open('/cellar/users/ramarty/Data/hla_ii/presentation/fasta_files/passenger.fa').readlines() if '>' in x]\n",
    "len(fasta_mutations)"
   ]
  },
  {
   "cell_type": "code",
   "execution_count": 45,
   "metadata": {
    "collapsed": false
   },
   "outputs": [],
   "source": [
    "category = 'passenger'\n",
    "mutations = [x.strip() for x in open('/cellar/users/ramarty/Data/hla_ii/presentation/residues/{0}.txt'.format(category)).readlines()]"
   ]
  },
  {
   "cell_type": "code",
   "execution_count": 46,
   "metadata": {
    "collapsed": true
   },
   "outputs": [],
   "source": [
    "patient_mutations = pd.read_csv('/cellar/users/ramarty/Data/hla_ii/presentation/patient_matrices/passenger.patient_mutation.csv', index_col=0)\n",
    "patient_affinites = pd.read_csv('/cellar/users/ramarty/Data/hla_ii/presentation/patient_matrices/passenger.all.csv', index_col=0).transpose()"
   ]
  },
  {
   "cell_type": "code",
   "execution_count": 47,
   "metadata": {
    "collapsed": false
   },
   "outputs": [],
   "source": [
    "patients = [x for x in list(patient_affinites.index) if x in list(patient_mutations.index)]\n",
    "mutations = [x for x in list(patient_affinites.columns) if x in list(patient_mutations.columns)]\n",
    "patient_affinites = patient_affinites.ix[patients, mutations]\n",
    "patient_mutations = patient_mutations.ix[patients, mutations]"
   ]
  },
  {
   "cell_type": "code",
   "execution_count": 48,
   "metadata": {
    "collapsed": false,
    "scrolled": true
   },
   "outputs": [
    {
     "data": {
      "text/plain": [
       "((7137, 1000), (7137, 1000))"
      ]
     },
     "execution_count": 48,
     "metadata": {},
     "output_type": "execute_result"
    }
   ],
   "source": [
    "patient_affinites.shape, patient_mutations.shape"
   ]
  },
  {
   "cell_type": "code",
   "execution_count": 49,
   "metadata": {
    "collapsed": true
   },
   "outputs": [],
   "source": [
    "patient_mutations.to_csv('/cellar/users/ramarty/Data/hla_ii/presentation/clean_matrices/patient_mutations.cancer.passenger.csv')\n",
    "patient_affinites.to_csv('/cellar/users/ramarty/Data/hla_ii/presentation/clean_matrices/patient_affinities.cancer.passenger.csv')"
   ]
  },
  {
   "cell_type": "markdown",
   "metadata": {},
   "source": [
    "Germline"
   ]
  },
  {
   "cell_type": "code",
   "execution_count": 39,
   "metadata": {
    "collapsed": false
   },
   "outputs": [],
   "source": [
    "patient_mutations = pd.read_csv('/cellar/users/ramarty/Data/hla_ii/presentation/patient_matrices/germline.patient_mutations.csv', index_col=0)\n",
    "patient_affinites = pd.read_csv('/cellar/users/ramarty/Data/hla_ii/presentation/patient_matrices/germline.all.csv', index_col=0).transpose()"
   ]
  },
  {
   "cell_type": "code",
   "execution_count": 40,
   "metadata": {
    "collapsed": true
   },
   "outputs": [],
   "source": [
    "patients = [x for x in list(patient_affinites.index) if x in list(patient_mutations.index)]\n",
    "mutations = [x for x in list(patient_affinites.columns) if x in list(patient_mutations.columns)]\n",
    "patient_affinites = patient_affinites.ix[patients, mutations]\n",
    "patient_mutations = patient_mutations.ix[patients, mutations]"
   ]
  },
  {
   "cell_type": "code",
   "execution_count": 41,
   "metadata": {
    "collapsed": false
   },
   "outputs": [
    {
     "data": {
      "text/plain": [
       "((2666, 1000), (2666, 1000))"
      ]
     },
     "execution_count": 41,
     "metadata": {},
     "output_type": "execute_result"
    }
   ],
   "source": [
    "patient_affinites.shape, patient_mutations.shape"
   ]
  },
  {
   "cell_type": "code",
   "execution_count": 43,
   "metadata": {
    "collapsed": true
   },
   "outputs": [],
   "source": [
    "patient_mutations.to_csv('/cellar/users/ramarty/Data/hla_ii/presentation/clean_matrices/patient_mutations.germline.all.csv')\n",
    "patient_affinites.to_csv('/cellar/users/ramarty/Data/hla_ii/presentation/clean_matrices/patient_affinities.germline.all.csv')"
   ]
  },
  {
   "cell_type": "code",
   "execution_count": null,
   "metadata": {
    "collapsed": true
   },
   "outputs": [],
   "source": []
  }
 ],
 "metadata": {
  "kernelspec": {
   "display_name": "Python 2",
   "language": "python",
   "name": "python2"
  },
  "language_info": {
   "codemirror_mode": {
    "name": "ipython",
    "version": 2
   },
   "file_extension": ".py",
   "mimetype": "text/x-python",
   "name": "python",
   "nbconvert_exporter": "python",
   "pygments_lexer": "ipython2",
   "version": "2.7.12"
  }
 },
 "nbformat": 4,
 "nbformat_minor": 0
}
