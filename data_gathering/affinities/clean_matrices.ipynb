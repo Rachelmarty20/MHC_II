{
 "cells": [
  {
   "cell_type": "code",
   "execution_count": 1,
   "metadata": {
    "collapsed": false,
    "scrolled": true
   },
   "outputs": [
    {
     "name": "stdout",
     "output_type": "stream",
     "text": [
      "Populating the interactive namespace from numpy and matplotlib\n"
     ]
    },
    {
     "name": "stderr",
     "output_type": "stream",
     "text": [
      "/cellar/users/ramarty/anaconda/lib/python2.7/site-packages/IPython/nbformat/current.py:19: UserWarning: IPython.nbformat.current is deprecated.\n",
      "\n",
      "- use IPython.nbformat for read/write/validate public API\n",
      "- use IPython.nbformat.vX directly to composing notebooks of a particular version\n",
      "\n",
      "  \"\"\")\n"
     ]
    }
   ],
   "source": [
    "import io\n",
    "from IPython.nbformat import current\n",
    "def execute_notebook(nbfile):\n",
    "    with io.open(nbfile) as f:\n",
    "        nb = current.read(f, 'json')\n",
    "    ip = get_ipython()\n",
    "    for cell in nb.worksheets[0].cells:\n",
    "        if cell.cell_type != 'code':\n",
    "            continue\n",
    "        ip.run_cell(cell.input)\n",
    "execute_notebook(\"/cellar/users/ramarty/Projects/hla_ii/bin/imports.ipynb\")"
   ]
  },
  {
   "cell_type": "markdown",
   "metadata": {},
   "source": [
    "## Alignment matrices for final production"
   ]
  },
  {
   "cell_type": "markdown",
   "metadata": {
    "collapsed": true
   },
   "source": [
    "Cancer matrices"
   ]
  },
  {
   "cell_type": "code",
   "execution_count": 2,
   "metadata": {
    "collapsed": true
   },
   "outputs": [],
   "source": [
    "def create_clean_matrices(onco_in, ts_in, mut_out, aff_out):\n",
    "    patient_mutations = pd.concat([pd.read_csv('/cellar/users/ramarty/Data/hla/mutations/matrices/oncogenes.patient_mutation.csv', index_col=0).transpose(),\n",
    "                                pd.read_csv('/cellar/users/ramarty/Data/hla/mutations/matrices/tsgenes.patient_mutation.csv', index_col=0).transpose(),\n",
    "                                pd.read_csv('/cellar/users/ramarty/Data/hla/mutations/matrices/indels.patient_mutation.csv', index_col=0).transpose()]).transpose()\n",
    "    patient_affinites = pd.concat([pd.read_csv(onco_in, index_col=0),\n",
    "                                pd.read_csv(ts_in, index_col=0)]).transpose()\n",
    "    print patient_affinites.shape, patient_mutations.shape\n",
    "    # restrict to overlapping patients\n",
    "    patients = [x for x in list(patient_affinites.index) if x in list(patient_mutations.index)]\n",
    "    mutations = [x for x in list(patient_affinites.columns) if x in list(patient_mutations.columns)]\n",
    "    patient_affinites = patient_affinites.ix[patients, mutations]\n",
    "    patient_mutations = patient_mutations.ix[patients, mutations]\n",
    "    print patient_affinites.shape, patient_mutations.shape\n",
    "    # restrict to mutations >= 3 occurrences\n",
    "    mutations = list(patient_mutations.sum()[patient_mutations.sum() > 2].index)\n",
    "    print len(mutations)\n",
    "    patient_affinites = patient_affinites.ix[:, mutations]\n",
    "    patient_mutations = patient_mutations.ix[:, mutations]\n",
    "    print patient_affinites.shape, patient_mutations.shape\n",
    "    patient_affinites.to_csv(mut_out)\n",
    "    patient_mutations.to_csv(aff_out)"
   ]
  },
  {
   "cell_type": "code",
   "execution_count": 4,
   "metadata": {
    "collapsed": false,
    "scrolled": true
   },
   "outputs": [
    {
     "name": "stdout",
     "output_type": "stream",
     "text": [
      "DR\n",
      "(7842, 1245) (10177, 1585)\n",
      "(7656, 1243) (7656, 1243)\n",
      "762\n",
      "(7656, 762) (7656, 762)\n",
      "DP\n",
      "(7745, 1245) (10177, 1585)\n",
      "(7579, 1243) (7579, 1243)\n",
      "700\n",
      "(7579, 700) (7579, 700)\n",
      "DQ\n",
      "(8097, 1245) (10177, 1585)\n",
      "(7916, 1243) (7916, 1243)\n",
      "760\n",
      "(7916, 760) (7916, 760)\n",
      "all\n",
      "(7290, 1245) (10177, 1585)\n",
      "(7137, 1243) (7137, 1243)\n",
      "662\n",
      "(7137, 662) (7137, 662)\n"
     ]
    }
   ],
   "source": [
    "for gene in ['DR', 'DP', 'DQ', 'all']:\n",
    "    print gene\n",
    "    create_clean_matrices('/cellar/users/ramarty/Data/hla_ii/presentation/patient_matrices/oncogenes.{0}.csv'.format(gene),\n",
    "                          '/cellar/users/ramarty/Data/hla_ii/presentation/patient_matrices/tsgenes.{0}.csv'.format(gene),\n",
    "                          '/cellar/users/ramarty/Data/hla_ii/presentation/clean_matrices/patient_affinities.cancer.{0}.csv'.format(gene),\n",
    "                          '/cellar/users/ramarty/Data/hla_ii/presentation/clean_matrices/patient_mutations.cancer.{0}.csv'.format(gene))"
   ]
  },
  {
   "cell_type": "markdown",
   "metadata": {
    "collapsed": true
   },
   "source": [
    "Germline variants"
   ]
  },
  {
   "cell_type": "code",
   "execution_count": 3,
   "metadata": {
    "collapsed": false
   },
   "outputs": [],
   "source": [
    "df = pd.read_csv('/cellar/users/ramarty/Data/hla/git_data/data/patient_affinities.germline.PHBR.csv',index_col=0)"
   ]
  },
  {
   "cell_type": "code",
   "execution_count": 8,
   "metadata": {
    "collapsed": false
   },
   "outputs": [
    {
     "data": {
      "text/html": [
       "<div>\n",
       "<table border=\"1\" class=\"dataframe\">\n",
       "  <thead>\n",
       "    <tr style=\"text-align: right;\">\n",
       "      <th></th>\n",
       "      <th>PLEKHN1_R487P</th>\n",
       "      <th>C1orf170_E599Q</th>\n",
       "      <th>C1orf170_Q426E</th>\n",
       "      <th>C1orf170_W20R</th>\n",
       "      <th>HES4_R44S</th>\n",
       "      <th>RNF223_A172V</th>\n",
       "      <th>MIB2_F72L</th>\n",
       "      <th>CDK11B_H112R</th>\n",
       "      <th>CDK11B_R93W</th>\n",
       "      <th>C1orf222_K136E</th>\n",
       "      <th>...</th>\n",
       "      <th>HLA-DMB_T197I</th>\n",
       "      <th>HLA-DPB1_A65V</th>\n",
       "      <th>TAPBP_T260R</th>\n",
       "      <th>ZBTB22_T310A</th>\n",
       "      <th>MLN_V15A</th>\n",
       "      <th>CLPSL2_R79C</th>\n",
       "      <th>PNPLA1_S522P</th>\n",
       "      <th>C6orf222_L582V</th>\n",
       "      <th>CCDC167_I97V</th>\n",
       "      <th>GLP1R_L260F</th>\n",
       "    </tr>\n",
       "  </thead>\n",
       "  <tbody>\n",
       "    <tr>\n",
       "      <th>TCGA-02-0003</th>\n",
       "      <td>2.147505</td>\n",
       "      <td>5.581602</td>\n",
       "      <td>4.409719</td>\n",
       "      <td>0.226405</td>\n",
       "      <td>4.758492</td>\n",
       "      <td>1.768935</td>\n",
       "      <td>3.833495</td>\n",
       "      <td>1.823444</td>\n",
       "      <td>4.359657</td>\n",
       "      <td>3.659164</td>\n",
       "      <td>...</td>\n",
       "      <td>1.041915</td>\n",
       "      <td>0.180261</td>\n",
       "      <td>0.129225</td>\n",
       "      <td>3.334881</td>\n",
       "      <td>3.324347</td>\n",
       "      <td>2.012772</td>\n",
       "      <td>4.765033</td>\n",
       "      <td>1.164469</td>\n",
       "      <td>0.942998</td>\n",
       "      <td>0.322148</td>\n",
       "    </tr>\n",
       "    <tr>\n",
       "      <th>TCGA-02-0047</th>\n",
       "      <td>3.365439</td>\n",
       "      <td>1.283630</td>\n",
       "      <td>27.645346</td>\n",
       "      <td>9.642965</td>\n",
       "      <td>18.126939</td>\n",
       "      <td>3.716492</td>\n",
       "      <td>4.589671</td>\n",
       "      <td>13.550899</td>\n",
       "      <td>2.154968</td>\n",
       "      <td>3.852229</td>\n",
       "      <td>...</td>\n",
       "      <td>8.829950</td>\n",
       "      <td>0.564263</td>\n",
       "      <td>1.714286</td>\n",
       "      <td>12.728177</td>\n",
       "      <td>0.439560</td>\n",
       "      <td>5.910448</td>\n",
       "      <td>21.564205</td>\n",
       "      <td>1.191359</td>\n",
       "      <td>0.755489</td>\n",
       "      <td>0.227194</td>\n",
       "    </tr>\n",
       "    <tr>\n",
       "      <th>TCGA-02-0055</th>\n",
       "      <td>2.188815</td>\n",
       "      <td>2.566543</td>\n",
       "      <td>3.661706</td>\n",
       "      <td>4.370128</td>\n",
       "      <td>5.865712</td>\n",
       "      <td>1.058662</td>\n",
       "      <td>3.301730</td>\n",
       "      <td>0.563452</td>\n",
       "      <td>1.167109</td>\n",
       "      <td>2.417022</td>\n",
       "      <td>...</td>\n",
       "      <td>4.622874</td>\n",
       "      <td>0.747664</td>\n",
       "      <td>1.731499</td>\n",
       "      <td>1.016050</td>\n",
       "      <td>1.405662</td>\n",
       "      <td>5.917889</td>\n",
       "      <td>1.765260</td>\n",
       "      <td>1.114689</td>\n",
       "      <td>6.452816</td>\n",
       "      <td>0.240964</td>\n",
       "    </tr>\n",
       "    <tr>\n",
       "      <th>TCGA-02-2466</th>\n",
       "      <td>3.139742</td>\n",
       "      <td>4.185836</td>\n",
       "      <td>22.070916</td>\n",
       "      <td>3.623957</td>\n",
       "      <td>6.695494</td>\n",
       "      <td>6.590063</td>\n",
       "      <td>2.587108</td>\n",
       "      <td>1.313797</td>\n",
       "      <td>2.534721</td>\n",
       "      <td>6.058137</td>\n",
       "      <td>...</td>\n",
       "      <td>2.495603</td>\n",
       "      <td>0.467638</td>\n",
       "      <td>1.582355</td>\n",
       "      <td>10.456508</td>\n",
       "      <td>1.978573</td>\n",
       "      <td>3.565097</td>\n",
       "      <td>2.434783</td>\n",
       "      <td>1.457187</td>\n",
       "      <td>9.822040</td>\n",
       "      <td>0.401731</td>\n",
       "    </tr>\n",
       "    <tr>\n",
       "      <th>TCGA-02-2470</th>\n",
       "      <td>4.405529</td>\n",
       "      <td>6.227380</td>\n",
       "      <td>6.780822</td>\n",
       "      <td>15.219512</td>\n",
       "      <td>30.838296</td>\n",
       "      <td>5.054079</td>\n",
       "      <td>2.846873</td>\n",
       "      <td>4.975901</td>\n",
       "      <td>1.184211</td>\n",
       "      <td>0.932335</td>\n",
       "      <td>...</td>\n",
       "      <td>2.823233</td>\n",
       "      <td>0.407628</td>\n",
       "      <td>1.882611</td>\n",
       "      <td>17.474453</td>\n",
       "      <td>2.921072</td>\n",
       "      <td>3.529412</td>\n",
       "      <td>23.250243</td>\n",
       "      <td>1.701553</td>\n",
       "      <td>0.901734</td>\n",
       "      <td>0.199496</td>\n",
       "    </tr>\n",
       "  </tbody>\n",
       "</table>\n",
       "<p>5 rows × 1000 columns</p>\n",
       "</div>"
      ],
      "text/plain": [
       "              PLEKHN1_R487P  C1orf170_E599Q  C1orf170_Q426E  C1orf170_W20R  \\\n",
       "TCGA-02-0003       2.147505        5.581602        4.409719       0.226405   \n",
       "TCGA-02-0047       3.365439        1.283630       27.645346       9.642965   \n",
       "TCGA-02-0055       2.188815        2.566543        3.661706       4.370128   \n",
       "TCGA-02-2466       3.139742        4.185836       22.070916       3.623957   \n",
       "TCGA-02-2470       4.405529        6.227380        6.780822      15.219512   \n",
       "\n",
       "              HES4_R44S  RNF223_A172V  MIB2_F72L  CDK11B_H112R  CDK11B_R93W  \\\n",
       "TCGA-02-0003   4.758492      1.768935   3.833495      1.823444     4.359657   \n",
       "TCGA-02-0047  18.126939      3.716492   4.589671     13.550899     2.154968   \n",
       "TCGA-02-0055   5.865712      1.058662   3.301730      0.563452     1.167109   \n",
       "TCGA-02-2466   6.695494      6.590063   2.587108      1.313797     2.534721   \n",
       "TCGA-02-2470  30.838296      5.054079   2.846873      4.975901     1.184211   \n",
       "\n",
       "              C1orf222_K136E     ...       HLA-DMB_T197I  HLA-DPB1_A65V  \\\n",
       "TCGA-02-0003        3.659164     ...            1.041915       0.180261   \n",
       "TCGA-02-0047        3.852229     ...            8.829950       0.564263   \n",
       "TCGA-02-0055        2.417022     ...            4.622874       0.747664   \n",
       "TCGA-02-2466        6.058137     ...            2.495603       0.467638   \n",
       "TCGA-02-2470        0.932335     ...            2.823233       0.407628   \n",
       "\n",
       "              TAPBP_T260R  ZBTB22_T310A  MLN_V15A  CLPSL2_R79C  PNPLA1_S522P  \\\n",
       "TCGA-02-0003     0.129225      3.334881  3.324347     2.012772      4.765033   \n",
       "TCGA-02-0047     1.714286     12.728177  0.439560     5.910448     21.564205   \n",
       "TCGA-02-0055     1.731499      1.016050  1.405662     5.917889      1.765260   \n",
       "TCGA-02-2466     1.582355     10.456508  1.978573     3.565097      2.434783   \n",
       "TCGA-02-2470     1.882611     17.474453  2.921072     3.529412     23.250243   \n",
       "\n",
       "              C6orf222_L582V  CCDC167_I97V  GLP1R_L260F  \n",
       "TCGA-02-0003        1.164469      0.942998     0.322148  \n",
       "TCGA-02-0047        1.191359      0.755489     0.227194  \n",
       "TCGA-02-0055        1.114689      6.452816     0.240964  \n",
       "TCGA-02-2466        1.457187      9.822040     0.401731  \n",
       "TCGA-02-2470        1.701553      0.901734     0.199496  \n",
       "\n",
       "[5 rows x 1000 columns]"
      ]
     },
     "execution_count": 8,
     "metadata": {},
     "output_type": "execute_result"
    }
   ],
   "source": [
    "df.head()"
   ]
  },
  {
   "cell_type": "code",
   "execution_count": 4,
   "metadata": {
    "collapsed": false
   },
   "outputs": [
    {
     "data": {
      "text/plain": [
       "(3657, 1000)"
      ]
     },
     "execution_count": 4,
     "metadata": {},
     "output_type": "execute_result"
    }
   ],
   "source": [
    "df.shape"
   ]
  },
  {
   "cell_type": "code",
   "execution_count": 6,
   "metadata": {
    "collapsed": false
   },
   "outputs": [],
   "source": [
    "# get the allele matrix\n",
    "allele_df = pd.read_csv('/cellar/users/ramarty/Data/hla_ii/presentation/allele_matrices/common.csv', index_col=0)"
   ]
  },
  {
   "cell_type": "code",
   "execution_count": 7,
   "metadata": {
    "collapsed": false,
    "scrolled": true
   },
   "outputs": [
    {
     "data": {
      "text/html": [
       "<div>\n",
       "<table border=\"1\" class=\"dataframe\">\n",
       "  <thead>\n",
       "    <tr style=\"text-align: right;\">\n",
       "      <th></th>\n",
       "      <th>mutation</th>\n",
       "      <th>DRB1_0101</th>\n",
       "      <th>DRB1_0102</th>\n",
       "      <th>DRB1_0103</th>\n",
       "      <th>DRB1_0104</th>\n",
       "      <th>DRB1_0105</th>\n",
       "      <th>DRB1_0106</th>\n",
       "      <th>DRB1_0107</th>\n",
       "      <th>DRB1_0108</th>\n",
       "      <th>DRB1_0109</th>\n",
       "      <th>...</th>\n",
       "      <th>HLA-DQA10602-DQB10635</th>\n",
       "      <th>HLA-DQA10602-DQB10636</th>\n",
       "      <th>HLA-DQA10602-DQB10637</th>\n",
       "      <th>HLA-DQA10602-DQB10638</th>\n",
       "      <th>HLA-DQA10602-DQB10639</th>\n",
       "      <th>HLA-DQA10602-DQB10640</th>\n",
       "      <th>HLA-DQA10602-DQB10641</th>\n",
       "      <th>HLA-DQA10602-DQB10642</th>\n",
       "      <th>HLA-DQA10602-DQB10643</th>\n",
       "      <th>HLA-DQA10602-DQB10644</th>\n",
       "    </tr>\n",
       "  </thead>\n",
       "  <tbody>\n",
       "    <tr>\n",
       "      <th>0</th>\n",
       "      <td>A1CF_L431S</td>\n",
       "      <td>21.0</td>\n",
       "      <td>18.0</td>\n",
       "      <td>15.0</td>\n",
       "      <td>16.0</td>\n",
       "      <td>21.0</td>\n",
       "      <td>15.0</td>\n",
       "      <td>21.0</td>\n",
       "      <td>21.0</td>\n",
       "      <td>17.0</td>\n",
       "      <td>...</td>\n",
       "      <td>24.0</td>\n",
       "      <td>20.0</td>\n",
       "      <td>16.0</td>\n",
       "      <td>20.0</td>\n",
       "      <td>20.0</td>\n",
       "      <td>16.0</td>\n",
       "      <td>16.0</td>\n",
       "      <td>17.0</td>\n",
       "      <td>24.0</td>\n",
       "      <td>16.0</td>\n",
       "    </tr>\n",
       "    <tr>\n",
       "      <th>1</th>\n",
       "      <td>A1CF_Q25R</td>\n",
       "      <td>16.0</td>\n",
       "      <td>7.5</td>\n",
       "      <td>14.0</td>\n",
       "      <td>9.0</td>\n",
       "      <td>16.0</td>\n",
       "      <td>10.0</td>\n",
       "      <td>16.0</td>\n",
       "      <td>16.0</td>\n",
       "      <td>17.0</td>\n",
       "      <td>...</td>\n",
       "      <td>8.5</td>\n",
       "      <td>19.0</td>\n",
       "      <td>9.5</td>\n",
       "      <td>19.0</td>\n",
       "      <td>19.0</td>\n",
       "      <td>11.0</td>\n",
       "      <td>11.0</td>\n",
       "      <td>18.0</td>\n",
       "      <td>8.5</td>\n",
       "      <td>11.0</td>\n",
       "    </tr>\n",
       "    <tr>\n",
       "      <th>2</th>\n",
       "      <td>A1CF_R399H</td>\n",
       "      <td>17.0</td>\n",
       "      <td>21.0</td>\n",
       "      <td>22.0</td>\n",
       "      <td>23.0</td>\n",
       "      <td>17.0</td>\n",
       "      <td>20.0</td>\n",
       "      <td>17.0</td>\n",
       "      <td>17.0</td>\n",
       "      <td>11.0</td>\n",
       "      <td>...</td>\n",
       "      <td>5.0</td>\n",
       "      <td>60.0</td>\n",
       "      <td>23.0</td>\n",
       "      <td>60.0</td>\n",
       "      <td>60.0</td>\n",
       "      <td>20.0</td>\n",
       "      <td>20.0</td>\n",
       "      <td>47.0</td>\n",
       "      <td>5.0</td>\n",
       "      <td>20.0</td>\n",
       "    </tr>\n",
       "    <tr>\n",
       "      <th>3</th>\n",
       "      <td>A1CF_S154L</td>\n",
       "      <td>60.0</td>\n",
       "      <td>44.0</td>\n",
       "      <td>48.0</td>\n",
       "      <td>46.0</td>\n",
       "      <td>60.0</td>\n",
       "      <td>60.0</td>\n",
       "      <td>60.0</td>\n",
       "      <td>60.0</td>\n",
       "      <td>70.0</td>\n",
       "      <td>...</td>\n",
       "      <td>36.0</td>\n",
       "      <td>30.0</td>\n",
       "      <td>37.0</td>\n",
       "      <td>30.0</td>\n",
       "      <td>30.0</td>\n",
       "      <td>37.0</td>\n",
       "      <td>37.0</td>\n",
       "      <td>32.0</td>\n",
       "      <td>36.0</td>\n",
       "      <td>37.0</td>\n",
       "    </tr>\n",
       "    <tr>\n",
       "      <th>4</th>\n",
       "      <td>A2ML1_T90I</td>\n",
       "      <td>3.5</td>\n",
       "      <td>4.0</td>\n",
       "      <td>7.5</td>\n",
       "      <td>7.0</td>\n",
       "      <td>3.5</td>\n",
       "      <td>4.0</td>\n",
       "      <td>3.5</td>\n",
       "      <td>3.5</td>\n",
       "      <td>3.5</td>\n",
       "      <td>...</td>\n",
       "      <td>7.0</td>\n",
       "      <td>22.0</td>\n",
       "      <td>7.5</td>\n",
       "      <td>22.0</td>\n",
       "      <td>22.0</td>\n",
       "      <td>10.0</td>\n",
       "      <td>10.0</td>\n",
       "      <td>14.0</td>\n",
       "      <td>7.0</td>\n",
       "      <td>10.0</td>\n",
       "    </tr>\n",
       "  </tbody>\n",
       "</table>\n",
       "<p>5 rows × 5621 columns</p>\n",
       "</div>"
      ],
      "text/plain": [
       "     mutation  DRB1_0101  DRB1_0102  DRB1_0103  DRB1_0104  DRB1_0105  \\\n",
       "0  A1CF_L431S       21.0       18.0       15.0       16.0       21.0   \n",
       "1   A1CF_Q25R       16.0        7.5       14.0        9.0       16.0   \n",
       "2  A1CF_R399H       17.0       21.0       22.0       23.0       17.0   \n",
       "3  A1CF_S154L       60.0       44.0       48.0       46.0       60.0   \n",
       "4  A2ML1_T90I        3.5        4.0        7.5        7.0        3.5   \n",
       "\n",
       "   DRB1_0106  DRB1_0107  DRB1_0108  DRB1_0109          ...            \\\n",
       "0       15.0       21.0       21.0       17.0          ...             \n",
       "1       10.0       16.0       16.0       17.0          ...             \n",
       "2       20.0       17.0       17.0       11.0          ...             \n",
       "3       60.0       60.0       60.0       70.0          ...             \n",
       "4        4.0        3.5        3.5        3.5          ...             \n",
       "\n",
       "   HLA-DQA10602-DQB10635  HLA-DQA10602-DQB10636  HLA-DQA10602-DQB10637  \\\n",
       "0                   24.0                   20.0                   16.0   \n",
       "1                    8.5                   19.0                    9.5   \n",
       "2                    5.0                   60.0                   23.0   \n",
       "3                   36.0                   30.0                   37.0   \n",
       "4                    7.0                   22.0                    7.5   \n",
       "\n",
       "   HLA-DQA10602-DQB10638  HLA-DQA10602-DQB10639  HLA-DQA10602-DQB10640  \\\n",
       "0                   20.0                   20.0                   16.0   \n",
       "1                   19.0                   19.0                   11.0   \n",
       "2                   60.0                   60.0                   20.0   \n",
       "3                   30.0                   30.0                   37.0   \n",
       "4                   22.0                   22.0                   10.0   \n",
       "\n",
       "   HLA-DQA10602-DQB10641  HLA-DQA10602-DQB10642  HLA-DQA10602-DQB10643  \\\n",
       "0                   16.0                   17.0                   24.0   \n",
       "1                   11.0                   18.0                    8.5   \n",
       "2                   20.0                   47.0                    5.0   \n",
       "3                   37.0                   32.0                   36.0   \n",
       "4                   10.0                   14.0                    7.0   \n",
       "\n",
       "   HLA-DQA10602-DQB10644  \n",
       "0                   16.0  \n",
       "1                   11.0  \n",
       "2                   20.0  \n",
       "3                   37.0  \n",
       "4                   10.0  \n",
       "\n",
       "[5 rows x 5621 columns]"
      ]
     },
     "execution_count": 7,
     "metadata": {},
     "output_type": "execute_result"
    }
   ],
   "source": [
    "allele_df.head()"
   ]
  },
  {
   "cell_type": "code",
   "execution_count": null,
   "metadata": {
    "collapsed": true
   },
   "outputs": [],
   "source": []
  },
  {
   "cell_type": "code",
   "execution_count": null,
   "metadata": {
    "collapsed": true
   },
   "outputs": [],
   "source": []
  },
  {
   "cell_type": "code",
   "execution_count": null,
   "metadata": {
    "collapsed": true
   },
   "outputs": [],
   "source": []
  },
  {
   "cell_type": "code",
   "execution_count": null,
   "metadata": {
    "collapsed": true
   },
   "outputs": [],
   "source": []
  },
  {
   "cell_type": "code",
   "execution_count": null,
   "metadata": {
    "collapsed": true
   },
   "outputs": [],
   "source": []
  },
  {
   "cell_type": "code",
   "execution_count": null,
   "metadata": {
    "collapsed": true
   },
   "outputs": [],
   "source": []
  },
  {
   "cell_type": "code",
   "execution_count": null,
   "metadata": {
    "collapsed": true
   },
   "outputs": [],
   "source": []
  },
  {
   "cell_type": "code",
   "execution_count": null,
   "metadata": {
    "collapsed": true
   },
   "outputs": [],
   "source": []
  },
  {
   "cell_type": "markdown",
   "metadata": {},
   "source": [
    "Passenger mutations"
   ]
  },
  {
   "cell_type": "code",
   "execution_count": null,
   "metadata": {
    "collapsed": true
   },
   "outputs": [],
   "source": []
  },
  {
   "cell_type": "code",
   "execution_count": null,
   "metadata": {
    "collapsed": true
   },
   "outputs": [],
   "source": []
  },
  {
   "cell_type": "code",
   "execution_count": null,
   "metadata": {
    "collapsed": true
   },
   "outputs": [],
   "source": []
  },
  {
   "cell_type": "code",
   "execution_count": null,
   "metadata": {
    "collapsed": true
   },
   "outputs": [],
   "source": []
  }
 ],
 "metadata": {
  "kernelspec": {
   "display_name": "Python 2",
   "language": "python",
   "name": "python2"
  },
  "language_info": {
   "codemirror_mode": {
    "name": "ipython",
    "version": 2
   },
   "file_extension": ".py",
   "mimetype": "text/x-python",
   "name": "python",
   "nbconvert_exporter": "python",
   "pygments_lexer": "ipython2",
   "version": "2.7.12"
  }
 },
 "nbformat": 4,
 "nbformat_minor": 0
}
