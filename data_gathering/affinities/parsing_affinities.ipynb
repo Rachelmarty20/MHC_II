{
 "cells": [
  {
   "cell_type": "code",
   "execution_count": 1,
   "metadata": {
    "collapsed": false
   },
   "outputs": [
    {
     "name": "stderr",
     "output_type": "stream",
     "text": [
      "/cellar/users/ramarty/anaconda/lib/python2.7/site-packages/IPython/nbformat/current.py:19: UserWarning: IPython.nbformat.current is deprecated.\n",
      "\n",
      "- use IPython.nbformat for read/write/validate public API\n",
      "- use IPython.nbformat.vX directly to composing notebooks of a particular version\n",
      "\n",
      "  \"\"\")\n",
      "/cellar/users/ramarty/anaconda/lib/python2.7/site-packages/sklearn/cross_validation.py:44: DeprecationWarning: This module was deprecated in version 0.18 in favor of the model_selection module into which all the refactored classes and functions are moved. Also note that the interface of the new CV iterators are different from that of this module. This module will be removed in 0.20.\n",
      "  \"This module will be removed in 0.20.\", DeprecationWarning)\n"
     ]
    },
    {
     "name": "stdout",
     "output_type": "stream",
     "text": [
      "Populating the interactive namespace from numpy and matplotlib\n"
     ]
    }
   ],
   "source": [
    "import io\n",
    "from IPython.nbformat import current\n",
    "def execute_notebook(nbfile):\n",
    "    with io.open(nbfile) as f:\n",
    "        nb = current.read(f, 'json')\n",
    "    ip = get_ipython()\n",
    "    for cell in nb.worksheets[0].cells:\n",
    "        if cell.cell_type != 'code':\n",
    "            continue\n",
    "        ip.run_cell(cell.input)\n",
    "execute_notebook(\"/cellar/users/ramarty/Projects/hla_ii/bin/imports.ipynb\")"
   ]
  },
  {
   "cell_type": "markdown",
   "metadata": {},
   "source": [
    "### Collecting results for alleles"
   ]
  },
  {
   "cell_type": "markdown",
   "metadata": {},
   "source": [
    "Setup for script"
   ]
  },
  {
   "cell_type": "code",
   "execution_count": 2,
   "metadata": {
    "collapsed": false,
    "scrolled": false
   },
   "outputs": [
    {
     "data": {
      "text/plain": [
       "5620"
      ]
     },
     "execution_count": 2,
     "metadata": {},
     "output_type": "execute_result"
    }
   ],
   "source": [
    "alleles = [x.strip() for x in open('/cellar/users/ramarty/Data/hla_ii/presentation/other/netMHCIIpan_alleles.txt').readlines() if x.strip()[:2] != 'H-']\n",
    "len(alleles)"
   ]
  },
  {
   "cell_type": "code",
   "execution_count": 3,
   "metadata": {
    "collapsed": true
   },
   "outputs": [],
   "source": [
    "def collect_allele_BR(category):\n",
    "    mutations = [x.strip() for x in open('/cellar/users/ramarty/Data/hla_ii/presentation/residues/{0}.txt'.format(category)).readlines()]\n",
    "    df = pd.DataFrame({'mutation': mutations})\n",
    "    \n",
    "    for i, allele in enumerate(alleles):\n",
    "        if i % 100 == 0:\n",
    "            print i\n",
    "        BR = []\n",
    "        aff = pd.read_csv('/cellar/users/ramarty/Data/hla_ii/presentation/affinities/{0}/{1}.csv'.format(category, allele), sep='\\t', skiprows=1)\n",
    "        for mutation in mutations: \n",
    "            BR.append(aff[aff.ID == mutation].Rank.min())\n",
    "        df[allele] = BR\n",
    "    df.to_csv('/cellar/users/ramarty/Data/hla_ii/presentation/allele_matrices/{0}.csv'.format(category))"
   ]
  },
  {
   "cell_type": "markdown",
   "metadata": {},
   "source": [
    "Running on the cluster"
   ]
  },
  {
   "cell_type": "code",
   "execution_count": 5,
   "metadata": {
    "collapsed": true
   },
   "outputs": [],
   "source": [
    "def create_cluster_script_alleles(categories, conditions):\n",
    "    \n",
    "    new_script_file = '/cellar/users/ramarty/Projects/hla_ii/data_gathering/affinities/allele_matrices.sh'\n",
    "    \n",
    "    with open(new_script_file, 'w') as out_file:\n",
    "        out_file.write(\"#! /bin/csh\\n\")\n",
    "        out_file.write(\"#$ -V\\n\")\n",
    "        out_file.write(\"#$ -S /bin/csh\\n\")\n",
    "        out_file.write(\"#$ -o /cellar/users/ramarty/Data/hla_ii/sge-system_files\\n\")\n",
    "        out_file.write(\"#$ -e /cellar/users/ramarty/Data/hla_ii/sge-system_files\\n\")\n",
    "        out_file.write(\"#$ -cwd\\n\")\n",
    "        out_file.write(\"#$ -t 1-{0}\\n\".format(len(categories)))\n",
    "        #out_file.write(\"#$ -t 1-2\\n\".format(len(samples)))\n",
    "        out_file.write(\"#$ -l h_vmem=2G\\n\")\n",
    "        out_file.write(\"#$ -tc 50\\n\")\n",
    "        out_file.write(\"#$ -l long\")\n",
    "        out_file.write(\"\\n\")\n",
    "\n",
    "        out_file.write(\"set categories=({0})\\n\".format(\" \".join(categories)))\n",
    "        out_file.write(\"set conditions=({0})\\n\".format(\" \".join(conditions)))\n",
    "        out_file.write(\"\\n\")\n",
    "\n",
    "        out_file.write(\"set category=$categories[$SGE_TASK_ID]\\n\")\n",
    "        out_file.write(\"set condition=$conditions[$SGE_TASK_ID]\\n\")\n",
    "        out_file.write(\"\\n\")\n",
    "\n",
    "        out_file.write(\"date\\n\")\n",
    "        out_file.write(\"hostname\\n\")\n",
    "        out_file.write(\"\\n\")\n",
    "  \n",
    "        out_file.write(\"python /cellar/users/ramarty/Projects/hla_ii/data_gathering/affinities/creating_allele_matrices.py $category $condition\\n\")\n",
    "        out_file.write(\"\\n\")\n",
    "                       \n",
    "        out_file.write(\"date\\n\")"
   ]
  },
  {
   "cell_type": "code",
   "execution_count": 6,
   "metadata": {
    "collapsed": false
   },
   "outputs": [],
   "source": [
    "categories = ['cgc_new']\n",
    "conditions = ['mut']\n",
    "create_cluster_script_alleles(categories, conditions)"
   ]
  },
  {
   "cell_type": "markdown",
   "metadata": {},
   "source": [
    "### Merging results into patients"
   ]
  },
  {
   "cell_type": "markdown",
   "metadata": {},
   "source": [
    "Setup for script"
   ]
  },
  {
   "cell_type": "code",
   "execution_count": 31,
   "metadata": {
    "collapsed": true
   },
   "outputs": [],
   "source": [
    "def PHBR(x):\n",
    "    number_of_alleles = len(x)\n",
    "    s = 0\n",
    "    for i in range(number_of_alleles):\n",
    "        s += 1/float(x[i])\n",
    "    return number_of_alleles / float(s)"
   ]
  },
  {
   "cell_type": "code",
   "execution_count": 5,
   "metadata": {
    "collapsed": true
   },
   "outputs": [],
   "source": [
    "def create_patient_matrix(category):\n",
    "    df = pd.read_csv('/cellar/users/ramarty/Data/hla_ii/presentation/allele_matrices/{0}.csv'.format(category), index_col=0)\n",
    "    patients_used = []\n",
    "    # need to update patients used - maybe we are using less because they don't have types with affinity calls???\n",
    "    for patient in patient_dictionary.keys():\n",
    "        patient_alleles = patient_dictionary[patient]\n",
    "        try:\n",
    "            df[patient] = df[patient_alleles].apply(PHBR, axis=1)\n",
    "            patients_used.append(patient)\n",
    "        except:\n",
    "            print patient\n",
    "    df.index = df['mutation']\n",
    "    df[patients_used].to_csv('/cellar/users/ramarty/Data/hla_ii/presentation/patient_matrices/{0}.csv'.format(category))"
   ]
  },
  {
   "cell_type": "code",
   "execution_count": 17,
   "metadata": {
    "collapsed": true
   },
   "outputs": [],
   "source": [
    "patient_dictionary = pickle.load(open('/cellar/users/ramarty/Data/hla_ii/hla_types/TCGA.HLA_classII.p'))"
   ]
  },
  {
   "cell_type": "code",
   "execution_count": 18,
   "metadata": {
    "collapsed": false
   },
   "outputs": [
    {
     "data": {
      "text/plain": [
       "['TCGA-D3-A3CE', 'TCGA-D3-A3CB', 'TCGA-DH-A7UV']"
      ]
     },
     "execution_count": 18,
     "metadata": {},
     "output_type": "execute_result"
    }
   ],
   "source": [
    "patient_dictionary.keys()[:3]"
   ]
  },
  {
   "cell_type": "code",
   "execution_count": 19,
   "metadata": {
    "collapsed": false
   },
   "outputs": [
    {
     "data": {
      "text/plain": [
       "['DRB1_0101',\n",
       " 'DRB1_1501',\n",
       " 'HLA-DPA10103_DPB10401',\n",
       " 'HLA-DPA10103_DPB10301',\n",
       " 'HLA-DPA10103_DPB10401',\n",
       " 'HLA-DPA10103_DPB10301',\n",
       " 'HLA-DQA10102_DQB10602',\n",
       " 'HLA-DQA10102_DQB10501',\n",
       " 'HLA-DQA10101_DQB10602',\n",
       " 'HLA-DQA10101_DQB10501']"
      ]
     },
     "execution_count": 19,
     "metadata": {},
     "output_type": "execute_result"
    }
   ],
   "source": [
    "patient_dictionary['TCGA-D3-A3CE']"
   ]
  },
  {
   "cell_type": "markdown",
   "metadata": {
    "collapsed": true
   },
   "source": [
    "Running on the cluster"
   ]
  },
  {
   "cell_type": "code",
   "execution_count": 19,
   "metadata": {
    "collapsed": true
   },
   "outputs": [],
   "source": [
    "def create_cluster_script_patients_DR(categories, genes):\n",
    "    \n",
    "    new_script_file = '/cellar/users/ramarty/Projects/hla_ii/data_gathering/affinities/patient_matrices.genes.sh'\n",
    "    \n",
    "    with open(new_script_file, 'w') as out_file:\n",
    "        out_file.write(\"#! /bin/csh\\n\")\n",
    "        out_file.write(\"#$ -V\\n\")\n",
    "        out_file.write(\"#$ -S /bin/csh\\n\")\n",
    "        out_file.write(\"#$ -o /cellar/users/ramarty/Data/hla_ii/sge-system_files\\n\")\n",
    "        out_file.write(\"#$ -e /cellar/users/ramarty/Data/hla_ii/sge-system_files\\n\")\n",
    "        out_file.write(\"#$ -cwd\\n\")\n",
    "        out_file.write(\"#$ -t 1-{0}\\n\".format(len(categories)))\n",
    "        out_file.write(\"#$ -l h_vmem=2G\\n\")\n",
    "        out_file.write(\"#$ -tc 50\\n\")\n",
    "        out_file.write(\"#$ -l long\")\n",
    "        out_file.write(\"\\n\")\n",
    "\n",
    "        out_file.write(\"set categories=({0})\\n\".format(\" \".join(categories)))\n",
    "        out_file.write(\"set genes=({0})\\n\".format(\" \".join(genes)))\n",
    "        out_file.write(\"\\n\")\n",
    "\n",
    "        out_file.write(\"set category=$categories[$SGE_TASK_ID]\\n\")\n",
    "        out_file.write(\"set gene=$genes[$SGE_TASK_ID]\\n\")\n",
    "        out_file.write(\"\\n\")\n",
    "\n",
    "        out_file.write(\"date\\n\")\n",
    "        out_file.write(\"hostname\\n\")\n",
    "        out_file.write(\"\\n\")\n",
    "  \n",
    "        out_file.write(\"python /cellar/users/ramarty/Projects/hla_ii/data_gathering/affinities/creating_patient_matrices.DR.py $category $gene\\n\")\n",
    "        out_file.write(\"\\n\")\n",
    "                       \n",
    "        out_file.write(\"date\\n\")"
   ]
  },
  {
   "cell_type": "code",
   "execution_count": 20,
   "metadata": {
    "collapsed": false
   },
   "outputs": [
    {
     "name": "stdout",
     "output_type": "stream",
     "text": [
      "['tsgenes', 'oncogenes', 'indels', 'tsgenes', 'oncogenes', 'indels', 'tsgenes', 'oncogenes', 'indels'] ['DR', 'DR', 'DR', 'DP', 'DP', 'DP', 'DQ', 'DQ', 'DQ']\n"
     ]
    }
   ],
   "source": [
    "categories = ['tsgenes', 'oncogenes','indels']*3\n",
    "genes = ['DR', 'DR', 'DR', 'DP', 'DP', 'DP', 'DQ', 'DQ', 'DQ']\n",
    "#categories = ['random']*3\n",
    "#genes = ['DR', 'DP', 'DQ']\n",
    "print categories, genes\n",
    "create_cluster_script_patients_DR(categories, genes)"
   ]
  },
  {
   "cell_type": "code",
   "execution_count": 8,
   "metadata": {
    "collapsed": true
   },
   "outputs": [],
   "source": [
    "def create_cluster_script_patients_all(categories, population, conditions, subsets):\n",
    "    \n",
    "    new_script_file = '/cellar/users/ramarty/Projects/hla_ii/data_gathering/affinities/patient_matrices.classII.sh'\n",
    "    \n",
    "    with open(new_script_file, 'w') as out_file:\n",
    "        out_file.write(\"#! /bin/csh\\n\")\n",
    "        out_file.write(\"#$ -V\\n\")\n",
    "        out_file.write(\"#$ -S /bin/csh\\n\")\n",
    "        out_file.write(\"#$ -o /cellar/users/ramarty/Data/hla_ii/sge-system_files\\n\")\n",
    "        out_file.write(\"#$ -e /cellar/users/ramarty/Data/hla_ii/sge-system_files\\n\")\n",
    "        out_file.write(\"#$ -cwd\\n\")\n",
    "        out_file.write(\"#$ -t 1-{0}\\n\".format(len(categories)))\n",
    "        out_file.write(\"#$ -l h_vmem=2G\\n\")\n",
    "        out_file.write(\"#$ -tc 50\\n\")\n",
    "        out_file.write(\"#$ -l long\")\n",
    "        out_file.write(\"\\n\")\n",
    "\n",
    "        out_file.write(\"set categories=({0})\\n\".format(\" \".join(categories)))\n",
    "        out_file.write(\"set conditions=({0})\\n\".format(\" \".join(conditions)))\n",
    "        out_file.write(\"set subsets=({0})\\n\".format(\" \".join(subsets)))\n",
    "        out_file.write(\"\\n\")\n",
    "\n",
    "        out_file.write(\"set category=$categories[$SGE_TASK_ID]\\n\")\n",
    "        out_file.write(\"set condition=$conditions[$SGE_TASK_ID]\\n\")\n",
    "        out_file.write(\"set subset=$subsets[$SGE_TASK_ID]\\n\")\n",
    "        out_file.write(\"\\n\")\n",
    "\n",
    "        out_file.write(\"date\\n\")\n",
    "        out_file.write(\"hostname\\n\")\n",
    "        out_file.write(\"\\n\")\n",
    "  \n",
    "        out_file.write(\"python /cellar/users/ramarty/Projects/hla_ii/data_gathering/affinities/creating_patient_matrices.classII.py $category {0} $subset $condition\\n\".format(population))\n",
    "        out_file.write(\"\\n\")\n",
    "                       \n",
    "        out_file.write(\"date\\n\")"
   ]
  },
  {
   "cell_type": "code",
   "execution_count": 9,
   "metadata": {
    "collapsed": true
   },
   "outputs": [],
   "source": [
    "categories = ['cgc_new']\n",
    "conditions = ['mut']\n",
    "subsets = ['inclusive']\n",
    "create_cluster_script_patients_all(categories, 'TCGA', conditions, subsets)"
   ]
  },
  {
   "cell_type": "code",
   "execution_count": 2,
   "metadata": {
    "collapsed": false
   },
   "outputs": [],
   "source": [
    "categories = ['tsgenes', 'oncogenes', 'indels']\n",
    "conditions = ['mut', 'mut', 'mut']\n",
    "subsets = ['inclusive']*3\n",
    "create_cluster_script_patients_all(categories, 'TCGA', conditions, subsets)"
   ]
  },
  {
   "cell_type": "code",
   "execution_count": 10,
   "metadata": {
    "collapsed": true
   },
   "outputs": [],
   "source": [
    "categories = ['germline', 'passenger']\n",
    "conditions = ['mut', 'mut']\n",
    "subsets = ['inclusive']*2\n",
    "create_cluster_script_patients_all(categories, 'TCGA', conditions, subsets)"
   ]
  },
  {
   "cell_type": "code",
   "execution_count": 6,
   "metadata": {
    "collapsed": false
   },
   "outputs": [],
   "source": [
    "categories = ['tsgenes', 'oncogenes', 'indels']\n",
    "conditions = ['mut', 'mut', 'mut']\n",
    "create_cluster_script_patients_all(categories, 'alternate', conditions)"
   ]
  },
  {
   "cell_type": "markdown",
   "metadata": {},
   "source": [
    "Also for MHC-I"
   ]
  },
  {
   "cell_type": "code",
   "execution_count": 8,
   "metadata": {
    "collapsed": true
   },
   "outputs": [],
   "source": [
    "def create_cluster_script_patients_all(categories, population, conditions, subsets):\n",
    "    \n",
    "    new_script_file = '/cellar/users/ramarty/Projects/hla_ii/data_gathering/affinities/patient_matrices.classI.sh'\n",
    "    \n",
    "    with open(new_script_file, 'w') as out_file:\n",
    "        out_file.write(\"#! /bin/csh\\n\")\n",
    "        out_file.write(\"#$ -V\\n\")\n",
    "        out_file.write(\"#$ -S /bin/csh\\n\")\n",
    "        out_file.write(\"#$ -o /cellar/users/ramarty/Data/hla_ii/sge-system_files\\n\")\n",
    "        out_file.write(\"#$ -e /cellar/users/ramarty/Data/hla_ii/sge-system_files\\n\")\n",
    "        out_file.write(\"#$ -cwd\\n\")\n",
    "        out_file.write(\"#$ -t 1-{0}\\n\".format(len(categories)))\n",
    "        out_file.write(\"#$ -l h_vmem=2G\\n\")\n",
    "        out_file.write(\"#$ -tc 50\\n\")\n",
    "        out_file.write(\"#$ -l long\")\n",
    "        out_file.write(\"\\n\")\n",
    "\n",
    "        out_file.write(\"set categories=({0})\\n\".format(\" \".join(categories)))\n",
    "        out_file.write(\"set conditions=({0})\\n\".format(\" \".join(conditions)))\n",
    "        out_file.write(\"set subsets=({0})\\n\".format(\" \".join(subsets)))\n",
    "        out_file.write(\"\\n\")\n",
    "\n",
    "        out_file.write(\"set category=$categories[$SGE_TASK_ID]\\n\")\n",
    "        out_file.write(\"set condition=$conditions[$SGE_TASK_ID]\\n\")\n",
    "        out_file.write(\"set subset=$subsets[$SGE_TASK_ID]\\n\")\n",
    "        out_file.write(\"\\n\")\n",
    "\n",
    "        out_file.write(\"date\\n\")\n",
    "        out_file.write(\"hostname\\n\")\n",
    "        out_file.write(\"\\n\")\n",
    "  \n",
    "        out_file.write(\"python /cellar/users/ramarty/Projects/hla_ii/data_gathering/affinities/creating_patient_matrices.classI.py $category {0} $subset $condition\\n\".format(population))\n",
    "        out_file.write(\"\\n\")\n",
    "                       \n",
    "        out_file.write(\"date\\n\")"
   ]
  },
  {
   "cell_type": "code",
   "execution_count": 9,
   "metadata": {
    "collapsed": true
   },
   "outputs": [],
   "source": [
    "categories = ['non_cancer']\n",
    "conditions = ['mut']\n",
    "subsets = ['inclusive']\n",
    "create_cluster_script_patients_all(categories, 'TCGA', conditions, subsets)"
   ]
  },
  {
   "cell_type": "code",
   "execution_count": 12,
   "metadata": {
    "collapsed": true
   },
   "outputs": [],
   "source": [
    "categories = ['germline', 'passenger']\n",
    "conditions = ['mut', 'mut']\n",
    "subsets = ['inclusive']*2\n",
    "create_cluster_script_patients_all(categories, 'TCGA', conditions, subsets)"
   ]
  },
  {
   "cell_type": "markdown",
   "metadata": {},
   "source": [
    "#### Merging results for MHC-I affinities of alternate populations"
   ]
  },
  {
   "cell_type": "code",
   "execution_count": 44,
   "metadata": {
    "collapsed": true
   },
   "outputs": [],
   "source": [
    "category='indels'"
   ]
  },
  {
   "cell_type": "code",
   "execution_count": 45,
   "metadata": {
    "collapsed": false
   },
   "outputs": [],
   "source": [
    "patient_dictionary = pickle.load(open('/cellar/users/ramarty/Data/hla_ii/hla_types/SRA.HLA_classI.p'))"
   ]
  },
  {
   "cell_type": "code",
   "execution_count": 46,
   "metadata": {
    "collapsed": false
   },
   "outputs": [
    {
     "data": {
      "text/plain": [
       "{'A': ['A_0201', 'A_0101'],\n",
       " 'B': ['B_0702', 'B_3701'],\n",
       " 'C': ['C_0702', 'C_0602']}"
      ]
     },
     "execution_count": 46,
     "metadata": {},
     "output_type": "execute_result"
    }
   ],
   "source": [
    "patient_dictionary[patient_dictionary.keys()[0]]"
   ]
  },
  {
   "cell_type": "code",
   "execution_count": 47,
   "metadata": {
    "collapsed": true
   },
   "outputs": [],
   "source": [
    "df = pd.read_csv('/cellar/users/ramarty/Data/hla_ii/presentation/allele_matrices/{0}.csv'.format(category), index_col=0)"
   ]
  },
  {
   "cell_type": "code",
   "execution_count": 48,
   "metadata": {
    "collapsed": false,
    "scrolled": true
   },
   "outputs": [
    {
     "data": {
      "text/html": [
       "<div>\n",
       "<table border=\"1\" class=\"dataframe\">\n",
       "  <thead>\n",
       "    <tr style=\"text-align: right;\">\n",
       "      <th></th>\n",
       "      <th>mutation</th>\n",
       "      <th>DRB1_0101</th>\n",
       "      <th>DRB1_0102</th>\n",
       "      <th>DRB1_0103</th>\n",
       "      <th>DRB1_0104</th>\n",
       "      <th>DRB1_0105</th>\n",
       "      <th>DRB1_0106</th>\n",
       "      <th>DRB1_0107</th>\n",
       "      <th>DRB1_0108</th>\n",
       "      <th>DRB1_0109</th>\n",
       "      <th>...</th>\n",
       "      <th>HLA-DQA10602-DQB10635</th>\n",
       "      <th>HLA-DQA10602-DQB10636</th>\n",
       "      <th>HLA-DQA10602-DQB10637</th>\n",
       "      <th>HLA-DQA10602-DQB10638</th>\n",
       "      <th>HLA-DQA10602-DQB10639</th>\n",
       "      <th>HLA-DQA10602-DQB10640</th>\n",
       "      <th>HLA-DQA10602-DQB10641</th>\n",
       "      <th>HLA-DQA10602-DQB10642</th>\n",
       "      <th>HLA-DQA10602-DQB10643</th>\n",
       "      <th>HLA-DQA10602-DQB10644</th>\n",
       "    </tr>\n",
       "  </thead>\n",
       "  <tbody>\n",
       "    <tr>\n",
       "      <th>0</th>\n",
       "      <td>EGFR_ifd_55174772</td>\n",
       "      <td>47.0</td>\n",
       "      <td>38.0</td>\n",
       "      <td>47.0</td>\n",
       "      <td>55.0</td>\n",
       "      <td>47.0</td>\n",
       "      <td>37.0</td>\n",
       "      <td>47.0</td>\n",
       "      <td>47.0</td>\n",
       "      <td>40.0</td>\n",
       "      <td>...</td>\n",
       "      <td>39.0</td>\n",
       "      <td>75.0</td>\n",
       "      <td>65.0</td>\n",
       "      <td>75.0</td>\n",
       "      <td>75.0</td>\n",
       "      <td>70.0</td>\n",
       "      <td>70.0</td>\n",
       "      <td>75.0</td>\n",
       "      <td>39.0</td>\n",
       "      <td>70.0</td>\n",
       "    </tr>\n",
       "    <tr>\n",
       "      <th>1</th>\n",
       "      <td>NOTCH1_ifd_136518618</td>\n",
       "      <td>70.0</td>\n",
       "      <td>80.0</td>\n",
       "      <td>75.0</td>\n",
       "      <td>80.0</td>\n",
       "      <td>70.0</td>\n",
       "      <td>80.0</td>\n",
       "      <td>70.0</td>\n",
       "      <td>70.0</td>\n",
       "      <td>70.0</td>\n",
       "      <td>...</td>\n",
       "      <td>38.0</td>\n",
       "      <td>46.0</td>\n",
       "      <td>46.0</td>\n",
       "      <td>46.0</td>\n",
       "      <td>46.0</td>\n",
       "      <td>55.0</td>\n",
       "      <td>55.0</td>\n",
       "      <td>47.0</td>\n",
       "      <td>38.0</td>\n",
       "      <td>55.0</td>\n",
       "    </tr>\n",
       "    <tr>\n",
       "      <th>2</th>\n",
       "      <td>PIK3R1_ifd_68295304</td>\n",
       "      <td>19.0</td>\n",
       "      <td>18.0</td>\n",
       "      <td>12.0</td>\n",
       "      <td>12.0</td>\n",
       "      <td>19.0</td>\n",
       "      <td>13.0</td>\n",
       "      <td>19.0</td>\n",
       "      <td>19.0</td>\n",
       "      <td>16.0</td>\n",
       "      <td>...</td>\n",
       "      <td>65.0</td>\n",
       "      <td>60.0</td>\n",
       "      <td>60.0</td>\n",
       "      <td>60.0</td>\n",
       "      <td>60.0</td>\n",
       "      <td>60.0</td>\n",
       "      <td>60.0</td>\n",
       "      <td>60.0</td>\n",
       "      <td>65.0</td>\n",
       "      <td>60.0</td>\n",
       "    </tr>\n",
       "    <tr>\n",
       "      <th>3</th>\n",
       "      <td>CTNNB1_ifd_41224643</td>\n",
       "      <td>70.0</td>\n",
       "      <td>75.0</td>\n",
       "      <td>42.0</td>\n",
       "      <td>85.0</td>\n",
       "      <td>70.0</td>\n",
       "      <td>60.0</td>\n",
       "      <td>70.0</td>\n",
       "      <td>70.0</td>\n",
       "      <td>43.0</td>\n",
       "      <td>...</td>\n",
       "      <td>3.0</td>\n",
       "      <td>39.0</td>\n",
       "      <td>9.0</td>\n",
       "      <td>39.0</td>\n",
       "      <td>39.0</td>\n",
       "      <td>12.0</td>\n",
       "      <td>12.0</td>\n",
       "      <td>23.0</td>\n",
       "      <td>3.0</td>\n",
       "      <td>12.0</td>\n",
       "    </tr>\n",
       "    <tr>\n",
       "      <th>4</th>\n",
       "      <td>PIK3R1_ifd_68293795</td>\n",
       "      <td>80.0</td>\n",
       "      <td>85.0</td>\n",
       "      <td>90.0</td>\n",
       "      <td>85.0</td>\n",
       "      <td>80.0</td>\n",
       "      <td>90.0</td>\n",
       "      <td>80.0</td>\n",
       "      <td>80.0</td>\n",
       "      <td>85.0</td>\n",
       "      <td>...</td>\n",
       "      <td>70.0</td>\n",
       "      <td>37.0</td>\n",
       "      <td>47.0</td>\n",
       "      <td>37.0</td>\n",
       "      <td>37.0</td>\n",
       "      <td>60.0</td>\n",
       "      <td>60.0</td>\n",
       "      <td>43.0</td>\n",
       "      <td>70.0</td>\n",
       "      <td>60.0</td>\n",
       "    </tr>\n",
       "  </tbody>\n",
       "</table>\n",
       "<p>5 rows × 5621 columns</p>\n",
       "</div>"
      ],
      "text/plain": [
       "               mutation  DRB1_0101  DRB1_0102  DRB1_0103  DRB1_0104  \\\n",
       "0     EGFR_ifd_55174772       47.0       38.0       47.0       55.0   \n",
       "1  NOTCH1_ifd_136518618       70.0       80.0       75.0       80.0   \n",
       "2   PIK3R1_ifd_68295304       19.0       18.0       12.0       12.0   \n",
       "3   CTNNB1_ifd_41224643       70.0       75.0       42.0       85.0   \n",
       "4   PIK3R1_ifd_68293795       80.0       85.0       90.0       85.0   \n",
       "\n",
       "   DRB1_0105  DRB1_0106  DRB1_0107  DRB1_0108  DRB1_0109  \\\n",
       "0       47.0       37.0       47.0       47.0       40.0   \n",
       "1       70.0       80.0       70.0       70.0       70.0   \n",
       "2       19.0       13.0       19.0       19.0       16.0   \n",
       "3       70.0       60.0       70.0       70.0       43.0   \n",
       "4       80.0       90.0       80.0       80.0       85.0   \n",
       "\n",
       "           ...            HLA-DQA10602-DQB10635  HLA-DQA10602-DQB10636  \\\n",
       "0          ...                             39.0                   75.0   \n",
       "1          ...                             38.0                   46.0   \n",
       "2          ...                             65.0                   60.0   \n",
       "3          ...                              3.0                   39.0   \n",
       "4          ...                             70.0                   37.0   \n",
       "\n",
       "   HLA-DQA10602-DQB10637  HLA-DQA10602-DQB10638  HLA-DQA10602-DQB10639  \\\n",
       "0                   65.0                   75.0                   75.0   \n",
       "1                   46.0                   46.0                   46.0   \n",
       "2                   60.0                   60.0                   60.0   \n",
       "3                    9.0                   39.0                   39.0   \n",
       "4                   47.0                   37.0                   37.0   \n",
       "\n",
       "   HLA-DQA10602-DQB10640  HLA-DQA10602-DQB10641  HLA-DQA10602-DQB10642  \\\n",
       "0                   70.0                   70.0                   75.0   \n",
       "1                   55.0                   55.0                   47.0   \n",
       "2                   60.0                   60.0                   60.0   \n",
       "3                   12.0                   12.0                   23.0   \n",
       "4                   60.0                   60.0                   43.0   \n",
       "\n",
       "   HLA-DQA10602-DQB10643  HLA-DQA10602-DQB10644  \n",
       "0                   39.0                   70.0  \n",
       "1                   38.0                   55.0  \n",
       "2                   65.0                   60.0  \n",
       "3                    3.0                   12.0  \n",
       "4                   70.0                   60.0  \n",
       "\n",
       "[5 rows x 5621 columns]"
      ]
     },
     "execution_count": 48,
     "metadata": {},
     "output_type": "execute_result"
    }
   ],
   "source": [
    "df.head()"
   ]
  },
  {
   "cell_type": "code",
   "execution_count": 49,
   "metadata": {
    "collapsed": true
   },
   "outputs": [],
   "source": [
    "df = pd.read_csv('/cellar/users/ramarty/Data/hla/residue/matrices/mut/class_i/oncogenes.all.max.txt'.format(category), index_col=0)\n",
    "df.columns = alleles = ['{0}_{1}{2}'.format(x[4], x[5:7], x[8:10]) for x in list(df.columns)]\n",
    "df['mutation'] = df.index"
   ]
  },
  {
   "cell_type": "code",
   "execution_count": 50,
   "metadata": {
    "collapsed": false,
    "scrolled": true
   },
   "outputs": [
    {
     "data": {
      "text/html": [
       "<div>\n",
       "<table border=\"1\" class=\"dataframe\">\n",
       "  <thead>\n",
       "    <tr style=\"text-align: right;\">\n",
       "      <th></th>\n",
       "      <th>A_0101</th>\n",
       "      <th>A_0102</th>\n",
       "      <th>A_0103</th>\n",
       "      <th>A_0106</th>\n",
       "      <th>A_0107</th>\n",
       "      <th>A_0108</th>\n",
       "      <th>A_0109</th>\n",
       "      <th>A_0110</th>\n",
       "      <th>A_0112</th>\n",
       "      <th>A_0113</th>\n",
       "      <th>...</th>\n",
       "      <th>G_0101</th>\n",
       "      <th>G_0102</th>\n",
       "      <th>G_0103</th>\n",
       "      <th>G_0104</th>\n",
       "      <th>G_0106</th>\n",
       "      <th>G_0107</th>\n",
       "      <th>G_0108</th>\n",
       "      <th>G_0109</th>\n",
       "      <th>E_0101</th>\n",
       "      <th>mutation</th>\n",
       "    </tr>\n",
       "  </thead>\n",
       "  <tbody>\n",
       "    <tr>\n",
       "      <th>BRAF_V600E</th>\n",
       "      <td>12.0</td>\n",
       "      <td>7.5</td>\n",
       "      <td>14.0</td>\n",
       "      <td>12.0</td>\n",
       "      <td>14.0</td>\n",
       "      <td>9.5</td>\n",
       "      <td>12.0</td>\n",
       "      <td>8.5</td>\n",
       "      <td>13.0</td>\n",
       "      <td>1.6</td>\n",
       "      <td>...</td>\n",
       "      <td>15.0</td>\n",
       "      <td>15.0</td>\n",
       "      <td>15.0</td>\n",
       "      <td>15.0</td>\n",
       "      <td>15.0</td>\n",
       "      <td>15.0</td>\n",
       "      <td>15.0</td>\n",
       "      <td>15.0</td>\n",
       "      <td>17.0</td>\n",
       "      <td>BRAF_V600E</td>\n",
       "    </tr>\n",
       "    <tr>\n",
       "      <th>IDH1_R132H</th>\n",
       "      <td>4.5</td>\n",
       "      <td>3.0</td>\n",
       "      <td>5.0</td>\n",
       "      <td>3.0</td>\n",
       "      <td>3.5</td>\n",
       "      <td>3.5</td>\n",
       "      <td>4.5</td>\n",
       "      <td>2.5</td>\n",
       "      <td>1.6</td>\n",
       "      <td>12.0</td>\n",
       "      <td>...</td>\n",
       "      <td>8.0</td>\n",
       "      <td>8.0</td>\n",
       "      <td>8.0</td>\n",
       "      <td>8.0</td>\n",
       "      <td>8.0</td>\n",
       "      <td>8.0</td>\n",
       "      <td>8.0</td>\n",
       "      <td>8.0</td>\n",
       "      <td>14.0</td>\n",
       "      <td>IDH1_R132H</td>\n",
       "    </tr>\n",
       "    <tr>\n",
       "      <th>PIK3CA_E545K</th>\n",
       "      <td>7.0</td>\n",
       "      <td>6.0</td>\n",
       "      <td>7.5</td>\n",
       "      <td>6.5</td>\n",
       "      <td>6.0</td>\n",
       "      <td>5.5</td>\n",
       "      <td>7.0</td>\n",
       "      <td>6.0</td>\n",
       "      <td>4.0</td>\n",
       "      <td>1.1</td>\n",
       "      <td>...</td>\n",
       "      <td>7.0</td>\n",
       "      <td>7.0</td>\n",
       "      <td>7.0</td>\n",
       "      <td>7.0</td>\n",
       "      <td>7.0</td>\n",
       "      <td>7.0</td>\n",
       "      <td>7.0</td>\n",
       "      <td>6.5</td>\n",
       "      <td>2.5</td>\n",
       "      <td>PIK3CA_E545K</td>\n",
       "    </tr>\n",
       "    <tr>\n",
       "      <th>PIK3CA_H1047R</th>\n",
       "      <td>5.5</td>\n",
       "      <td>6.0</td>\n",
       "      <td>5.5</td>\n",
       "      <td>6.5</td>\n",
       "      <td>5.0</td>\n",
       "      <td>4.0</td>\n",
       "      <td>5.5</td>\n",
       "      <td>5.0</td>\n",
       "      <td>6.0</td>\n",
       "      <td>12.0</td>\n",
       "      <td>...</td>\n",
       "      <td>6.5</td>\n",
       "      <td>6.5</td>\n",
       "      <td>6.5</td>\n",
       "      <td>6.5</td>\n",
       "      <td>6.5</td>\n",
       "      <td>6.5</td>\n",
       "      <td>6.5</td>\n",
       "      <td>7.0</td>\n",
       "      <td>9.5</td>\n",
       "      <td>PIK3CA_H1047R</td>\n",
       "    </tr>\n",
       "    <tr>\n",
       "      <th>KRAS_G12D</th>\n",
       "      <td>17.0</td>\n",
       "      <td>32.0</td>\n",
       "      <td>15.0</td>\n",
       "      <td>19.0</td>\n",
       "      <td>17.0</td>\n",
       "      <td>16.0</td>\n",
       "      <td>17.0</td>\n",
       "      <td>14.0</td>\n",
       "      <td>13.0</td>\n",
       "      <td>6.5</td>\n",
       "      <td>...</td>\n",
       "      <td>22.0</td>\n",
       "      <td>22.0</td>\n",
       "      <td>22.0</td>\n",
       "      <td>22.0</td>\n",
       "      <td>22.0</td>\n",
       "      <td>22.0</td>\n",
       "      <td>22.0</td>\n",
       "      <td>22.0</td>\n",
       "      <td>15.0</td>\n",
       "      <td>KRAS_G12D</td>\n",
       "    </tr>\n",
       "  </tbody>\n",
       "</table>\n",
       "<p>5 rows × 2925 columns</p>\n",
       "</div>"
      ],
      "text/plain": [
       "               A_0101  A_0102  A_0103  A_0106  A_0107  A_0108  A_0109  A_0110  \\\n",
       "BRAF_V600E       12.0     7.5    14.0    12.0    14.0     9.5    12.0     8.5   \n",
       "IDH1_R132H        4.5     3.0     5.0     3.0     3.5     3.5     4.5     2.5   \n",
       "PIK3CA_E545K      7.0     6.0     7.5     6.5     6.0     5.5     7.0     6.0   \n",
       "PIK3CA_H1047R     5.5     6.0     5.5     6.5     5.0     4.0     5.5     5.0   \n",
       "KRAS_G12D        17.0    32.0    15.0    19.0    17.0    16.0    17.0    14.0   \n",
       "\n",
       "               A_0112  A_0113      ...        G_0101  G_0102  G_0103  G_0104  \\\n",
       "BRAF_V600E       13.0     1.6      ...          15.0    15.0    15.0    15.0   \n",
       "IDH1_R132H        1.6    12.0      ...           8.0     8.0     8.0     8.0   \n",
       "PIK3CA_E545K      4.0     1.1      ...           7.0     7.0     7.0     7.0   \n",
       "PIK3CA_H1047R     6.0    12.0      ...           6.5     6.5     6.5     6.5   \n",
       "KRAS_G12D        13.0     6.5      ...          22.0    22.0    22.0    22.0   \n",
       "\n",
       "               G_0106  G_0107  G_0108  G_0109  E_0101       mutation  \n",
       "BRAF_V600E       15.0    15.0    15.0    15.0    17.0     BRAF_V600E  \n",
       "IDH1_R132H        8.0     8.0     8.0     8.0    14.0     IDH1_R132H  \n",
       "PIK3CA_E545K      7.0     7.0     7.0     6.5     2.5   PIK3CA_E545K  \n",
       "PIK3CA_H1047R     6.5     6.5     6.5     7.0     9.5  PIK3CA_H1047R  \n",
       "KRAS_G12D        22.0    22.0    22.0    22.0    15.0      KRAS_G12D  \n",
       "\n",
       "[5 rows x 2925 columns]"
      ]
     },
     "execution_count": 50,
     "metadata": {},
     "output_type": "execute_result"
    }
   ],
   "source": [
    "df.head()"
   ]
  },
  {
   "cell_type": "code",
   "execution_count": 51,
   "metadata": {
    "collapsed": false,
    "scrolled": true
   },
   "outputs": [
    {
     "data": {
      "text/plain": [
       "{'A': ['A_0201', 'A_0101'],\n",
       " 'B': ['B_0702', 'B_3701'],\n",
       " 'C': ['C_0702', 'C_0602']}"
      ]
     },
     "execution_count": 51,
     "metadata": {},
     "output_type": "execute_result"
    }
   ],
   "source": [
    "patient_dictionary[patient_dictionary.keys()[0]]"
   ]
  },
  {
   "cell_type": "code",
   "execution_count": 52,
   "metadata": {
    "collapsed": false
   },
   "outputs": [],
   "source": [
    "df = pd.read_csv('/cellar/users/ramarty/Data/hla/residue/matrices/mut/class_i/{0}.all.max.txt'.format(category), index_col=0)\n",
    "df.columns = alleles = ['{0}_{1}{2}'.format(x[4], x[5:7], x[8:10]) for x in list(df.columns)]\n",
    "df['mutation'] = df.index\n",
    "\n",
    "patients_used = []\n",
    "for patient in patient_dictionary.keys():\n",
    "    patient_alleles = []\n",
    "    try:\n",
    "        for gene in ['A', 'B', 'C']:\n",
    "            patient_alleles.extend([x.strip() for x in patient_dictionary[patient][gene]])\n",
    "\n",
    "        if len(patient_alleles) == 6:\n",
    "            df[patient] = df[patient_alleles].apply(PHBR, axis=1)\n",
    "            patients_used.append(patient)\n",
    "    except:\n",
    "        print patient\n",
    "df.index = df['mutation']"
   ]
  },
  {
   "cell_type": "code",
   "execution_count": 53,
   "metadata": {
    "collapsed": true
   },
   "outputs": [],
   "source": [
    "df[patients_used].to_csv('/cellar/users/ramarty/Data/hla_ii/presentation/patient_matrices/{0}.all.SRA.classI.csv'.format(category))"
   ]
  },
  {
   "cell_type": "markdown",
   "metadata": {
    "collapsed": true
   },
   "source": [
    "### Merging MHC-I and MHC-II into a single predictor"
   ]
  },
  {
   "cell_type": "code",
   "execution_count": 6,
   "metadata": {
    "collapsed": true
   },
   "outputs": [],
   "source": [
    "patient_dictionary = pickle.load(open('/cellar/users/ramarty/Data/hla_ii/hla_types/TCGA.HLA_classII.p'))"
   ]
  },
  {
   "cell_type": "code",
   "execution_count": 14,
   "metadata": {
    "collapsed": false
   },
   "outputs": [],
   "source": [
    "category = 'oncogenes'\n",
    "df = pd.read_csv('/cellar/users/ramarty/Data/hla_ii/presentation/allele_matrices/{0}.csv'.format(category), index_col=0)"
   ]
  },
  {
   "cell_type": "code",
   "execution_count": 21,
   "metadata": {
    "collapsed": false
   },
   "outputs": [],
   "source": [
    "patients_used = []\n",
    "for patient in patient_dictionary.keys()[:10]:\n",
    "    patient_alleles = []\n",
    "    for gene in ['DR', 'DP', 'DQ']:\n",
    "        patient_alleles.extend(patient_dictionary[patient][gene])\n",
    "\n",
    "    if len(patient_alleles) == 12:\n",
    "        #df[patient_alleles].apply(PHBR, axis=1)\n",
    "        df[patient] = df[patient_alleles].apply(PHBR, axis=1)\n",
    "        patients_used.append(patient)"
   ]
  },
  {
   "cell_type": "code",
   "execution_count": 16,
   "metadata": {
    "collapsed": false
   },
   "outputs": [
    {
     "data": {
      "text/html": [
       "<div>\n",
       "<table border=\"1\" class=\"dataframe\">\n",
       "  <thead>\n",
       "    <tr style=\"text-align: right;\">\n",
       "      <th></th>\n",
       "      <th>mutation</th>\n",
       "      <th>DRB1_0101</th>\n",
       "      <th>DRB1_0102</th>\n",
       "      <th>DRB1_0103</th>\n",
       "      <th>DRB1_0104</th>\n",
       "      <th>DRB1_0105</th>\n",
       "      <th>DRB1_0106</th>\n",
       "      <th>DRB1_0107</th>\n",
       "      <th>DRB1_0108</th>\n",
       "      <th>DRB1_0109</th>\n",
       "      <th>...</th>\n",
       "      <th>HLA-DQA10602-DQB10635</th>\n",
       "      <th>HLA-DQA10602-DQB10636</th>\n",
       "      <th>HLA-DQA10602-DQB10637</th>\n",
       "      <th>HLA-DQA10602-DQB10638</th>\n",
       "      <th>HLA-DQA10602-DQB10639</th>\n",
       "      <th>HLA-DQA10602-DQB10640</th>\n",
       "      <th>HLA-DQA10602-DQB10641</th>\n",
       "      <th>HLA-DQA10602-DQB10642</th>\n",
       "      <th>HLA-DQA10602-DQB10643</th>\n",
       "      <th>HLA-DQA10602-DQB10644</th>\n",
       "    </tr>\n",
       "  </thead>\n",
       "  <tbody>\n",
       "    <tr>\n",
       "      <th>0</th>\n",
       "      <td>BRAF_V600E</td>\n",
       "      <td>55.0</td>\n",
       "      <td>60.0</td>\n",
       "      <td>55.0</td>\n",
       "      <td>60.0</td>\n",
       "      <td>55.0</td>\n",
       "      <td>60.0</td>\n",
       "      <td>55.0</td>\n",
       "      <td>55.0</td>\n",
       "      <td>55.0</td>\n",
       "      <td>...</td>\n",
       "      <td>19.0</td>\n",
       "      <td>25.0</td>\n",
       "      <td>25.0</td>\n",
       "      <td>25.0</td>\n",
       "      <td>25.0</td>\n",
       "      <td>23.0</td>\n",
       "      <td>23.0</td>\n",
       "      <td>27.0</td>\n",
       "      <td>19.0</td>\n",
       "      <td>23.0</td>\n",
       "    </tr>\n",
       "    <tr>\n",
       "      <th>1</th>\n",
       "      <td>IDH1_R132H</td>\n",
       "      <td>36.0</td>\n",
       "      <td>33.0</td>\n",
       "      <td>23.0</td>\n",
       "      <td>31.0</td>\n",
       "      <td>36.0</td>\n",
       "      <td>27.0</td>\n",
       "      <td>36.0</td>\n",
       "      <td>36.0</td>\n",
       "      <td>28.0</td>\n",
       "      <td>...</td>\n",
       "      <td>25.0</td>\n",
       "      <td>55.0</td>\n",
       "      <td>46.0</td>\n",
       "      <td>55.0</td>\n",
       "      <td>55.0</td>\n",
       "      <td>43.0</td>\n",
       "      <td>43.0</td>\n",
       "      <td>48.0</td>\n",
       "      <td>25.0</td>\n",
       "      <td>43.0</td>\n",
       "    </tr>\n",
       "    <tr>\n",
       "      <th>2</th>\n",
       "      <td>PIK3CA_E545K</td>\n",
       "      <td>60.0</td>\n",
       "      <td>55.0</td>\n",
       "      <td>65.0</td>\n",
       "      <td>55.0</td>\n",
       "      <td>60.0</td>\n",
       "      <td>65.0</td>\n",
       "      <td>60.0</td>\n",
       "      <td>60.0</td>\n",
       "      <td>65.0</td>\n",
       "      <td>...</td>\n",
       "      <td>65.0</td>\n",
       "      <td>65.0</td>\n",
       "      <td>65.0</td>\n",
       "      <td>65.0</td>\n",
       "      <td>65.0</td>\n",
       "      <td>70.0</td>\n",
       "      <td>70.0</td>\n",
       "      <td>75.0</td>\n",
       "      <td>65.0</td>\n",
       "      <td>70.0</td>\n",
       "    </tr>\n",
       "    <tr>\n",
       "      <th>3</th>\n",
       "      <td>PIK3CA_H1047R</td>\n",
       "      <td>12.0</td>\n",
       "      <td>15.0</td>\n",
       "      <td>30.0</td>\n",
       "      <td>15.0</td>\n",
       "      <td>12.0</td>\n",
       "      <td>19.0</td>\n",
       "      <td>12.0</td>\n",
       "      <td>12.0</td>\n",
       "      <td>15.0</td>\n",
       "      <td>...</td>\n",
       "      <td>60.0</td>\n",
       "      <td>55.0</td>\n",
       "      <td>65.0</td>\n",
       "      <td>55.0</td>\n",
       "      <td>55.0</td>\n",
       "      <td>60.0</td>\n",
       "      <td>60.0</td>\n",
       "      <td>55.0</td>\n",
       "      <td>60.0</td>\n",
       "      <td>60.0</td>\n",
       "    </tr>\n",
       "    <tr>\n",
       "      <th>4</th>\n",
       "      <td>KRAS_G12D</td>\n",
       "      <td>24.0</td>\n",
       "      <td>23.0</td>\n",
       "      <td>12.0</td>\n",
       "      <td>24.0</td>\n",
       "      <td>24.0</td>\n",
       "      <td>14.0</td>\n",
       "      <td>24.0</td>\n",
       "      <td>24.0</td>\n",
       "      <td>18.0</td>\n",
       "      <td>...</td>\n",
       "      <td>6.0</td>\n",
       "      <td>13.0</td>\n",
       "      <td>7.5</td>\n",
       "      <td>13.0</td>\n",
       "      <td>13.0</td>\n",
       "      <td>9.0</td>\n",
       "      <td>9.0</td>\n",
       "      <td>10.0</td>\n",
       "      <td>6.0</td>\n",
       "      <td>9.0</td>\n",
       "    </tr>\n",
       "  </tbody>\n",
       "</table>\n",
       "<p>5 rows × 5621 columns</p>\n",
       "</div>"
      ],
      "text/plain": [
       "        mutation  DRB1_0101  DRB1_0102  DRB1_0103  DRB1_0104  DRB1_0105  \\\n",
       "0     BRAF_V600E       55.0       60.0       55.0       60.0       55.0   \n",
       "1     IDH1_R132H       36.0       33.0       23.0       31.0       36.0   \n",
       "2   PIK3CA_E545K       60.0       55.0       65.0       55.0       60.0   \n",
       "3  PIK3CA_H1047R       12.0       15.0       30.0       15.0       12.0   \n",
       "4      KRAS_G12D       24.0       23.0       12.0       24.0       24.0   \n",
       "\n",
       "   DRB1_0106  DRB1_0107  DRB1_0108  DRB1_0109          ...            \\\n",
       "0       60.0       55.0       55.0       55.0          ...             \n",
       "1       27.0       36.0       36.0       28.0          ...             \n",
       "2       65.0       60.0       60.0       65.0          ...             \n",
       "3       19.0       12.0       12.0       15.0          ...             \n",
       "4       14.0       24.0       24.0       18.0          ...             \n",
       "\n",
       "   HLA-DQA10602-DQB10635  HLA-DQA10602-DQB10636  HLA-DQA10602-DQB10637  \\\n",
       "0                   19.0                   25.0                   25.0   \n",
       "1                   25.0                   55.0                   46.0   \n",
       "2                   65.0                   65.0                   65.0   \n",
       "3                   60.0                   55.0                   65.0   \n",
       "4                    6.0                   13.0                    7.5   \n",
       "\n",
       "   HLA-DQA10602-DQB10638  HLA-DQA10602-DQB10639  HLA-DQA10602-DQB10640  \\\n",
       "0                   25.0                   25.0                   23.0   \n",
       "1                   55.0                   55.0                   43.0   \n",
       "2                   65.0                   65.0                   70.0   \n",
       "3                   55.0                   55.0                   60.0   \n",
       "4                   13.0                   13.0                    9.0   \n",
       "\n",
       "   HLA-DQA10602-DQB10641  HLA-DQA10602-DQB10642  HLA-DQA10602-DQB10643  \\\n",
       "0                   23.0                   27.0                   19.0   \n",
       "1                   43.0                   48.0                   25.0   \n",
       "2                   70.0                   75.0                   65.0   \n",
       "3                   60.0                   55.0                   60.0   \n",
       "4                    9.0                   10.0                    6.0   \n",
       "\n",
       "   HLA-DQA10602-DQB10644  \n",
       "0                   23.0  \n",
       "1                   43.0  \n",
       "2                   70.0  \n",
       "3                   60.0  \n",
       "4                    9.0  \n",
       "\n",
       "[5 rows x 5621 columns]"
      ]
     },
     "execution_count": 16,
     "metadata": {},
     "output_type": "execute_result"
    }
   ],
   "source": [
    "df.head()"
   ]
  },
  {
   "cell_type": "markdown",
   "metadata": {
    "collapsed": true
   },
   "source": [
    "### Debugging the create of patient matrices for alternate population"
   ]
  },
  {
   "cell_type": "code",
   "execution_count": 10,
   "metadata": {
    "collapsed": true
   },
   "outputs": [],
   "source": [
    "def PHBR(x):\n",
    "    number_of_alleles = len(x)\n",
    "    s = 0\n",
    "    for i in range(number_of_alleles):\n",
    "        s += 1/float(x[i])\n",
    "    return number_of_alleles / float(s)"
   ]
  },
  {
   "cell_type": "code",
   "execution_count": 11,
   "metadata": {
    "collapsed": true
   },
   "outputs": [],
   "source": [
    "category='oncogenes'\n",
    "population='alternate'\n",
    "condition='mut'"
   ]
  },
  {
   "cell_type": "code",
   "execution_count": 12,
   "metadata": {
    "collapsed": false
   },
   "outputs": [],
   "source": [
    "if population == 'TCGA':\n",
    "    patient_dictionary = pickle.load(open('/cellar/users/ramarty/Data/hla_ii/hla_types/TCGA.HLA_classII.p'))\n",
    "else:\n",
    "    patient_dictionary = pickle.load(open('/cellar/users/ramarty/Data/hla_ii/hla_types/Alternate.HLA_classII.p'))\n",
    "\n",
    "if condition == 'mut':\n",
    "    df = pd.read_csv('/cellar/users/ramarty/Data/hla_ii/presentation/allele_matrices/{0}.csv'.format(category), index_col=0)\n",
    "else:\n",
    "    df = pd.read_csv('/cellar/users/ramarty/Data/hla_ii/presentation/allele_matrices/{0}.wt.csv'.format(category), index_col=0)"
   ]
  },
  {
   "cell_type": "code",
   "execution_count": 28,
   "metadata": {
    "collapsed": false
   },
   "outputs": [],
   "source": [
    "patient = 'SRR486488'"
   ]
  },
  {
   "cell_type": "code",
   "execution_count": 29,
   "metadata": {
    "collapsed": false
   },
   "outputs": [
    {
     "name": "stdout",
     "output_type": "stream",
     "text": [
      "12\n",
      "SRR486488\n"
     ]
    }
   ],
   "source": [
    "patient_alleles = []\n",
    "for gene in ['DR', 'DP', 'DQ']:\n",
    "    patient_alleles.extend(patient_dictionary[patient][gene])\n",
    "try:\n",
    "    print len(patient_alleles)\n",
    "    if len(patient_alleles) == 12:\n",
    "        df[patient] = df[patient_alleles].apply(PHBR, axis=1)\n",
    "        patients_used.append(patient)\n",
    "except:\n",
    "    print patient"
   ]
  },
  {
   "cell_type": "code",
   "execution_count": 31,
   "metadata": {
    "collapsed": false
   },
   "outputs": [
    {
     "ename": "KeyError",
     "evalue": "\"['HLA-DPA10103-DPB116901' 'HLA-DPA10103-DPB116901'] not in index\"",
     "output_type": "error",
     "traceback": [
      "\u001b[1;31m---------------------------------------------------------------------------\u001b[0m",
      "\u001b[1;31mKeyError\u001b[0m                                  Traceback (most recent call last)",
      "\u001b[1;32m<ipython-input-31-43193bb1b5b1>\u001b[0m in \u001b[0;36m<module>\u001b[1;34m()\u001b[0m\n\u001b[1;32m----> 1\u001b[1;33m \u001b[0mdf\u001b[0m\u001b[1;33m[\u001b[0m\u001b[0mpatient_alleles\u001b[0m\u001b[1;33m]\u001b[0m\u001b[1;33m.\u001b[0m\u001b[0mapply\u001b[0m\u001b[1;33m(\u001b[0m\u001b[0mPHBR\u001b[0m\u001b[1;33m,\u001b[0m \u001b[0maxis\u001b[0m\u001b[1;33m=\u001b[0m\u001b[1;36m1\u001b[0m\u001b[1;33m)\u001b[0m\u001b[1;33m\u001b[0m\u001b[0m\n\u001b[0m",
      "\u001b[1;32m/cellar/users/ramarty/anaconda/lib/python2.7/site-packages/pandas/core/frame.pyc\u001b[0m in \u001b[0;36m__getitem__\u001b[1;34m(self, key)\u001b[0m\n\u001b[0;32m   1989\u001b[0m         \u001b[1;32mif\u001b[0m \u001b[0misinstance\u001b[0m\u001b[1;33m(\u001b[0m\u001b[0mkey\u001b[0m\u001b[1;33m,\u001b[0m \u001b[1;33m(\u001b[0m\u001b[0mSeries\u001b[0m\u001b[1;33m,\u001b[0m \u001b[0mnp\u001b[0m\u001b[1;33m.\u001b[0m\u001b[0mndarray\u001b[0m\u001b[1;33m,\u001b[0m \u001b[0mIndex\u001b[0m\u001b[1;33m,\u001b[0m \u001b[0mlist\u001b[0m\u001b[1;33m)\u001b[0m\u001b[1;33m)\u001b[0m\u001b[1;33m:\u001b[0m\u001b[1;33m\u001b[0m\u001b[0m\n\u001b[0;32m   1990\u001b[0m             \u001b[1;31m# either boolean or fancy integer index\u001b[0m\u001b[1;33m\u001b[0m\u001b[1;33m\u001b[0m\u001b[0m\n\u001b[1;32m-> 1991\u001b[1;33m             \u001b[1;32mreturn\u001b[0m \u001b[0mself\u001b[0m\u001b[1;33m.\u001b[0m\u001b[0m_getitem_array\u001b[0m\u001b[1;33m(\u001b[0m\u001b[0mkey\u001b[0m\u001b[1;33m)\u001b[0m\u001b[1;33m\u001b[0m\u001b[0m\n\u001b[0m\u001b[0;32m   1992\u001b[0m         \u001b[1;32melif\u001b[0m \u001b[0misinstance\u001b[0m\u001b[1;33m(\u001b[0m\u001b[0mkey\u001b[0m\u001b[1;33m,\u001b[0m \u001b[0mDataFrame\u001b[0m\u001b[1;33m)\u001b[0m\u001b[1;33m:\u001b[0m\u001b[1;33m\u001b[0m\u001b[0m\n\u001b[0;32m   1993\u001b[0m             \u001b[1;32mreturn\u001b[0m \u001b[0mself\u001b[0m\u001b[1;33m.\u001b[0m\u001b[0m_getitem_frame\u001b[0m\u001b[1;33m(\u001b[0m\u001b[0mkey\u001b[0m\u001b[1;33m)\u001b[0m\u001b[1;33m\u001b[0m\u001b[0m\n",
      "\u001b[1;32m/cellar/users/ramarty/anaconda/lib/python2.7/site-packages/pandas/core/frame.pyc\u001b[0m in \u001b[0;36m_getitem_array\u001b[1;34m(self, key)\u001b[0m\n\u001b[0;32m   2033\u001b[0m             \u001b[1;32mreturn\u001b[0m \u001b[0mself\u001b[0m\u001b[1;33m.\u001b[0m\u001b[0mtake\u001b[0m\u001b[1;33m(\u001b[0m\u001b[0mindexer\u001b[0m\u001b[1;33m,\u001b[0m \u001b[0maxis\u001b[0m\u001b[1;33m=\u001b[0m\u001b[1;36m0\u001b[0m\u001b[1;33m,\u001b[0m \u001b[0mconvert\u001b[0m\u001b[1;33m=\u001b[0m\u001b[0mFalse\u001b[0m\u001b[1;33m)\u001b[0m\u001b[1;33m\u001b[0m\u001b[0m\n\u001b[0;32m   2034\u001b[0m         \u001b[1;32melse\u001b[0m\u001b[1;33m:\u001b[0m\u001b[1;33m\u001b[0m\u001b[0m\n\u001b[1;32m-> 2035\u001b[1;33m             \u001b[0mindexer\u001b[0m \u001b[1;33m=\u001b[0m \u001b[0mself\u001b[0m\u001b[1;33m.\u001b[0m\u001b[0mix\u001b[0m\u001b[1;33m.\u001b[0m\u001b[0m_convert_to_indexer\u001b[0m\u001b[1;33m(\u001b[0m\u001b[0mkey\u001b[0m\u001b[1;33m,\u001b[0m \u001b[0maxis\u001b[0m\u001b[1;33m=\u001b[0m\u001b[1;36m1\u001b[0m\u001b[1;33m)\u001b[0m\u001b[1;33m\u001b[0m\u001b[0m\n\u001b[0m\u001b[0;32m   2036\u001b[0m             \u001b[1;32mreturn\u001b[0m \u001b[0mself\u001b[0m\u001b[1;33m.\u001b[0m\u001b[0mtake\u001b[0m\u001b[1;33m(\u001b[0m\u001b[0mindexer\u001b[0m\u001b[1;33m,\u001b[0m \u001b[0maxis\u001b[0m\u001b[1;33m=\u001b[0m\u001b[1;36m1\u001b[0m\u001b[1;33m,\u001b[0m \u001b[0mconvert\u001b[0m\u001b[1;33m=\u001b[0m\u001b[0mTrue\u001b[0m\u001b[1;33m)\u001b[0m\u001b[1;33m\u001b[0m\u001b[0m\n\u001b[0;32m   2037\u001b[0m \u001b[1;33m\u001b[0m\u001b[0m\n",
      "\u001b[1;32m/cellar/users/ramarty/anaconda/lib/python2.7/site-packages/pandas/core/indexing.pyc\u001b[0m in \u001b[0;36m_convert_to_indexer\u001b[1;34m(self, obj, axis, is_setter)\u001b[0m\n\u001b[0;32m   1212\u001b[0m                 \u001b[0mmask\u001b[0m \u001b[1;33m=\u001b[0m \u001b[0mcheck\u001b[0m \u001b[1;33m==\u001b[0m \u001b[1;33m-\u001b[0m\u001b[1;36m1\u001b[0m\u001b[1;33m\u001b[0m\u001b[0m\n\u001b[0;32m   1213\u001b[0m                 \u001b[1;32mif\u001b[0m \u001b[0mmask\u001b[0m\u001b[1;33m.\u001b[0m\u001b[0many\u001b[0m\u001b[1;33m(\u001b[0m\u001b[1;33m)\u001b[0m\u001b[1;33m:\u001b[0m\u001b[1;33m\u001b[0m\u001b[0m\n\u001b[1;32m-> 1214\u001b[1;33m                     \u001b[1;32mraise\u001b[0m \u001b[0mKeyError\u001b[0m\u001b[1;33m(\u001b[0m\u001b[1;34m'%s not in index'\u001b[0m \u001b[1;33m%\u001b[0m \u001b[0mobjarr\u001b[0m\u001b[1;33m[\u001b[0m\u001b[0mmask\u001b[0m\u001b[1;33m]\u001b[0m\u001b[1;33m)\u001b[0m\u001b[1;33m\u001b[0m\u001b[0m\n\u001b[0m\u001b[0;32m   1215\u001b[0m \u001b[1;33m\u001b[0m\u001b[0m\n\u001b[0;32m   1216\u001b[0m                 \u001b[1;32mreturn\u001b[0m \u001b[0m_values_from_object\u001b[0m\u001b[1;33m(\u001b[0m\u001b[0mindexer\u001b[0m\u001b[1;33m)\u001b[0m\u001b[1;33m\u001b[0m\u001b[0m\n",
      "\u001b[1;31mKeyError\u001b[0m: \"['HLA-DPA10103-DPB116901' 'HLA-DPA10103-DPB116901'] not in index\""
     ]
    }
   ],
   "source": [
    "df[patient_alleles].apply(PHBR, axis=1)"
   ]
  },
  {
   "cell_type": "code",
   "execution_count": 27,
   "metadata": {
    "collapsed": false
   },
   "outputs": [
    {
     "name": "stdout",
     "output_type": "stream",
     "text": [
      "12\n",
      "12\n",
      "12\n",
      "12\n",
      "SRR486488\n",
      "12\n",
      "12\n",
      "12\n",
      "12\n",
      "12\n",
      "12\n"
     ]
    }
   ],
   "source": [
    "patients_used = []\n",
    "for patient in patient_dictionary.keys()[:10]:\n",
    "    patient_alleles = []\n",
    "    for gene in ['DR', 'DP', 'DQ']:\n",
    "        patient_alleles.extend(patient_dictionary[patient][gene])\n",
    "    try:\n",
    "        print len(patient_alleles)\n",
    "        if len(patient_alleles) == 12:\n",
    "            df[patient] = df[patient_alleles].apply(PHBR, axis=1)\n",
    "            patients_used.append(patient)\n",
    "    except:\n",
    "        print patient"
   ]
  },
  {
   "cell_type": "code",
   "execution_count": null,
   "metadata": {
    "collapsed": true
   },
   "outputs": [],
   "source": []
  },
  {
   "cell_type": "code",
   "execution_count": null,
   "metadata": {
    "collapsed": true
   },
   "outputs": [],
   "source": []
  }
 ],
 "metadata": {
  "kernelspec": {
   "display_name": "Python 2",
   "language": "python",
   "name": "python2"
  },
  "language_info": {
   "codemirror_mode": {
    "name": "ipython",
    "version": 2
   },
   "file_extension": ".py",
   "mimetype": "text/x-python",
   "name": "python",
   "nbconvert_exporter": "python",
   "pygments_lexer": "ipython2",
   "version": "2.7.14"
  }
 },
 "nbformat": 4,
 "nbformat_minor": 0
}
