{
 "cells": [
  {
   "cell_type": "code",
   "execution_count": 1,
   "metadata": {
    "collapsed": false
   },
   "outputs": [
    {
     "name": "stderr",
     "output_type": "stream",
     "text": [
      "/cellar/users/ramarty/anaconda/lib/python2.7/site-packages/IPython/nbformat/current.py:19: UserWarning: IPython.nbformat.current is deprecated.\n",
      "\n",
      "- use IPython.nbformat for read/write/validate public API\n",
      "- use IPython.nbformat.vX directly to composing notebooks of a particular version\n",
      "\n",
      "  \"\"\")\n",
      "/cellar/users/ramarty/anaconda/lib/python2.7/site-packages/sklearn/cross_validation.py:44: DeprecationWarning: This module was deprecated in version 0.18 in favor of the model_selection module into which all the refactored classes and functions are moved. Also note that the interface of the new CV iterators are different from that of this module. This module will be removed in 0.20.\n",
      "  \"This module will be removed in 0.20.\", DeprecationWarning)\n"
     ]
    },
    {
     "name": "stdout",
     "output_type": "stream",
     "text": [
      "Populating the interactive namespace from numpy and matplotlib\n"
     ]
    }
   ],
   "source": [
    "import io\n",
    "from IPython.nbformat import current\n",
    "def execute_notebook(nbfile):\n",
    "    with io.open(nbfile) as f:\n",
    "        nb = current.read(f, 'json')\n",
    "    ip = get_ipython()\n",
    "    for cell in nb.worksheets[0].cells:\n",
    "        if cell.cell_type != 'code':\n",
    "            continue\n",
    "        ip.run_cell(cell.input)\n",
    "execute_notebook(\"/cellar/users/ramarty/Projects/hla_ii/bin/imports.ipynb\")\n",
    "execute_notebook(\"/cellar/users/ramarty/Projects/hla_ii/bin/gathering_affinities.ipynb\")"
   ]
  },
  {
   "cell_type": "markdown",
   "metadata": {},
   "source": [
    "### Start by getting the random up and running to look at the ROC curve, then go from there"
   ]
  },
  {
   "cell_type": "code",
   "execution_count": 2,
   "metadata": {
    "collapsed": false
   },
   "outputs": [
    {
     "name": "stderr",
     "output_type": "stream",
     "text": [
      "/cellar/users/ramarty/anaconda/lib/python2.7/site-packages/Bio/Seq.py:341: BiopythonDeprecationWarning: This method is obsolete; please use str(my_seq) instead of my_seq.tostring().\n",
      "  BiopythonDeprecationWarning)\n"
     ]
    }
   ],
   "source": [
    "merged = gather_protein_sequences_all()"
   ]
  },
  {
   "cell_type": "code",
   "execution_count": 3,
   "metadata": {
    "collapsed": false
   },
   "outputs": [],
   "source": [
    "def generate_peptides(mutations, status):\n",
    "    peptides, mutations_used = [], []\n",
    "    for mutation in mutations:\n",
    "        gene = mutation.split('_')[0]\n",
    "        sequences = list(merged[merged.gene == gene].sequence)\n",
    "        for i, sequence in enumerate(sequences):\n",
    "            residue = mutation.split('_')[1]\n",
    "            position = int(residue[1:len(residue)-1]) - 1\n",
    "            old_aa = residue[0]\n",
    "            new_aa = residue[-1:]\n",
    "            if len(sequence) > position and sequence[position] == old_aa:\n",
    "                mutated_sequence = sequence[:position] + new_aa + sequence[position+1:]\n",
    "                if status == 'mut':\n",
    "                    if position > 13:\n",
    "                        seq_for_affinity = mutated_sequence[position-14:position+15]\n",
    "                    else:\n",
    "                        seq_for_affinity = mutated_sequence[:position+15]\n",
    "                else:\n",
    "                    if position > 13:\n",
    "                        seq_for_affinity = sequence[position-14:position+15]\n",
    "                    else:\n",
    "                        seq_for_affinity = sequence[:position+15]\n",
    "                peptides.append(seq_for_affinity)\n",
    "                mutations_used.append(mutation)\n",
    "                break\n",
    "            else:\n",
    "                if i+1 == len(sequences):\n",
    "                    #print mutation\n",
    "                    continue\n",
    "    return peptides, mutations_used"
   ]
  },
  {
   "cell_type": "code",
   "execution_count": 4,
   "metadata": {
    "collapsed": true
   },
   "outputs": [],
   "source": [
    "def get_length(x):\n",
    "    return len(x)"
   ]
  },
  {
   "cell_type": "code",
   "execution_count": 5,
   "metadata": {
    "collapsed": true
   },
   "outputs": [],
   "source": [
    "def generate_viral_peptides(mutations):\n",
    "    viruses = ['Hepatitis_A', 'Human_adenovirus', 'Human_herpesvirus_1', 'Human_immunodeficiency_virus',\n",
    "           'Human_papillomavirus', 'Human_parainfluenza', 'Human_rhinovirus', 'Measles_virus', 'Salivirus_A',\n",
    "           'Dengue_Virus']\n",
    "    virus_ids = [12092, 28285, 10299, 11676, 333761, 11221, 31708, 36408, 688455, 33741]\n",
    "    virus_dfs = []\n",
    "    for i, virus_name in enumerate(viruses):\n",
    "        tmp = pd.read_csv('/cellar/users/ramarty/Data/nrnb01/hla/pathogens/{0}_{1}.tsv'.format(virus_name, virus_ids[i]), \\\n",
    "                       sep='\\t')\n",
    "        tmp['species'] = virus_ids[i]\n",
    "\n",
    "        virus_dfs.append(tmp)\n",
    "    virus = pd.concat(virus_dfs)\n",
    "    virus['protein_length'] = virus.Sequence.apply(get_length)\n",
    "    virus = virus[virus['protein_length'] > 50]\n",
    "    peptides, mutations_used = [], []\n",
    "    for mutation in mutations:\n",
    "        species = int(mutation.split('_')[0])\n",
    "        protein = mutation.split('_')[1]\n",
    "        sequences = list(virus[(virus.species == species)&(virus.Entry == protein)].Sequence)\n",
    "        for i, sequence in enumerate(sequences):\n",
    "            position = int(mutation.split('_')[2]) - 1\n",
    "            if position > 13:\n",
    "                seq_for_affinity = sequence[position-14:position+15]\n",
    "            else:\n",
    "                seq_for_affinity = sequence[:position+15]\n",
    "            peptides.append(seq_for_affinity)\n",
    "            mutations_used.append(mutation)\n",
    "    return peptides, mutations_used"
   ]
  },
  {
   "cell_type": "code",
   "execution_count": 6,
   "metadata": {
    "collapsed": true
   },
   "outputs": [],
   "source": [
    "def generate_bacterial_peptides(mutations):\n",
    "    bacterias = ['Bacillus_anthracis', 'Chlamydia_pneumoniae', 'Clostridium_difficile', 'Escherichia_coli', \n",
    "             'Mycoplasma_pneumoniae', 'Salmonella_typhi', 'Staphylococcus_aureus',  'Streptococcus_agalactiae',\n",
    "             'Treponema_pallidum', 'Yersinia_pestis']\n",
    "    bacteria_ids = [1392, 83558, 272563, 562, 710127, 90370, 93061, 1311, 243276, 553480]\n",
    "    dfs = []\n",
    "    for i, bacteria_name in enumerate(bacterias):\n",
    "        tmp = pd.read_csv('/cellar/users/ramarty/Data/nrnb01/hla/pathogens/{0}_{1}.tsv'.format(bacteria_name, bacteria_ids[i]), \\\n",
    "                       sep='\\t')\n",
    "        tmp['species'] = bacteria_ids[i]\n",
    "        dfs.append(tmp)\n",
    "    bacteria = pd.concat(dfs)\n",
    "    bacteria['protein_length'] = bacteria.Sequence.apply(get_length)\n",
    "    bacteria = bacteria[bacteria['protein_length'] > 50]\n",
    "    peptides, mutations_used = [], []\n",
    "    for mutation in mutations:\n",
    "        species = int(mutation.split('_')[0])\n",
    "        protein = mutation.split('_')[1]\n",
    "        sequences = list(bacteria[(bacteria.species == species)&(bacteria.Entry == protein)].Sequence)\n",
    "        for i, sequence in enumerate(sequences):\n",
    "            position = int(mutation.split('_')[2]) - 1\n",
    "            if position > 13:\n",
    "                seq_for_affinity = sequence[position-14:position+15]\n",
    "            else:\n",
    "                seq_for_affinity = sequence[:position+15]\n",
    "            peptides.append(seq_for_affinity)\n",
    "            mutations_used.append(mutation)\n",
    "    return peptides, mutations_used"
   ]
  },
  {
   "cell_type": "code",
   "execution_count": 7,
   "metadata": {
    "collapsed": false
   },
   "outputs": [],
   "source": [
    "# add wt option!\n",
    "def generate_indel_peptides(mutations, status):\n",
    "    with open('/cellar/users/ramarty/Data/hla/mutations/indel_dictionary.p') as input_file:\n",
    "        indel_dict = pickle.load(input_file)\n",
    "    \n",
    "    transcripts, chromosomes, gene_starts, gene_names, sequences, strands = [], [], [], [], [], []\n",
    "    for record in SeqIO.parse(\"/cellar/users/ramarty/Data/hla/mutations/Homo_sapiens.GRCh38.cds.all.fa\", \"fasta\"):\n",
    "        description = record.description\n",
    "        transcripts.append(description.split(' ')[0].split('.')[0])\n",
    "        chromosomes.append(description.split(' ')[2].split(':')[2])\n",
    "        gene_starts.append(description.split(' ')[2].split(':')[3])\n",
    "        strands.append(description.split(' ')[2].split(':')[5])\n",
    "        gene_names.append(description.split(' ')[6].split(':')[1])\n",
    "        sequences.append(str(record.seq))\n",
    "    transcripts_df = pd.DataFrame({'Transcript': transcripts,\n",
    "                               'Chromosome': chromosomes,\n",
    "                               'Gene_start': gene_starts,\n",
    "                               'Strand': strands,\n",
    "                               'Gene': gene_names,\n",
    "                               'Sequence': sequences})\n",
    "    \n",
    "    transcripts, chromosomes, gene_starts, gene_names, sequences = [], [], [], [], []\n",
    "    for record in SeqIO.parse(\"/cellar/users/ramarty/Data/hla/mutations/Homo_sapiens.GRCh38.pep.all.fa\", \"fasta\"):\n",
    "        description = record.description\n",
    "        transcripts.append(description.split(' ')[4].split(':')[1].split('.')[0])\n",
    "        chromosomes.append(description.split(' ')[2].split(':')[2])\n",
    "        gene_starts.append(description.split(' ')[2].split(':')[3])\n",
    "        gene_names.append(description.split(' ')[7].split(':')[1])\n",
    "        sequences.append(str(record.seq))\n",
    "    proteins_df = pd.DataFrame({'Transcript': transcripts,\n",
    "                               'Chromosome': chromosomes,\n",
    "                               'Gene_start': gene_starts,\n",
    "                               'Gene': gene_names,\n",
    "                               'Sequence': sequences})\n",
    "    \n",
    "    peptides, mutations_used = [], []\n",
    "    for indel in mutations:\n",
    "        isd = indel_dict[indel]   \n",
    "        if isd['variant_classification'] == 'In_Frame_Del':\n",
    "            if '-' in isd['cds_position']:\n",
    "                cds_pos1 = int(isd['cds_position'].split('-')[0])\n",
    "                cds_pos2 = int(isd['cds_position'].split('-')[1].split('/')[0])\n",
    "            else:\n",
    "                cds_pos1 = int(isd['cds_position'].split('/')[0])\n",
    "                cds_pos2 = int(isd['cds_position'].split('/')[0])\n",
    "            if '-' in isd['protein_position']:\n",
    "                indel_position_protein = int(isd['protein_position'].split('-')[0]) - 1\n",
    "            else:\n",
    "                indel_position_protein = int(isd['protein_position'].split('/')[0]) - 1\n",
    "            # native\n",
    "            cdna = list(transcripts_df[transcripts_df.Transcript == isd['transcript']]['Sequence'])[0]\n",
    "            coding_dna = Seq(cdna, generic_rna)\n",
    "            native = str(coding_dna.translate(to_stop=True))[indel_position_protein-14:indel_position_protein+14]\n",
    "            # mut\n",
    "            if isd['amino_acids'].split('/')[1] == '-':\n",
    "                if '-' in isd['protein_position']:\n",
    "                    pos = int(isd['protein_position'].split('-')[0]) - 1\n",
    "                else:\n",
    "                    pos = int(isd['protein_position'].split('/')[0]) - 1\n",
    "                protein = list(proteins_df[proteins_df.Transcript == isd['transcript']]['Sequence'])[0]\n",
    "                new_protein = protein[:pos - 1] + protein[pos:]\n",
    "                mut = new_protein[indel_position_protein-14:indel_position_protein+14]\n",
    "            else:\n",
    "                new_cdna = cdna[:cds_pos1] + cdna[cds_pos2+1:]\n",
    "                coding_dna = Seq(new_cdna, generic_rna)\n",
    "                mut = str(coding_dna.translate(to_stop=True))[indel_position_protein-14:indel_position_protein+14]\n",
    "\n",
    "        else: # 'In_Frame_Ins'\n",
    "\n",
    "            if '-' in isd['cds_position']:\n",
    "                cds_pos = int(isd['cds_position'].split('-')[0])\n",
    "            else:\n",
    "                cds_pos = int(isd['cds_position'].split('/')[0])\n",
    "            if '-' in isd['protein_position']:\n",
    "                indel_position_protein = int(isd['protein_position'].split('-')[0]) - 1\n",
    "            else:\n",
    "                indel_position_protein = int(isd['protein_position'].split('/')[0]) - 1\n",
    "            insertion_length = len(isd['amino_acids'].split('/')[1])\n",
    "\n",
    "            # native\n",
    "            cdna = list(transcripts_df[transcripts_df.Transcript == isd['transcript']]['Sequence'])[0]\n",
    "            coding_dna = Seq(cdna, generic_rna)\n",
    "            native = str(coding_dna.translate(to_stop=True))[indel_position_protein-14:indel_position_protein+insertion_length+14]\n",
    "            # mut\n",
    "            if list(transcripts_df[transcripts_df.Transcript == isd['transcript']].Strand)[0] == '-1':\n",
    "                new_cdna = cdna[:cds_pos] + compliment(isd['replacement']) + cdna[cds_pos:]\n",
    "            else:\n",
    "                new_cdna = cdna[:cds_pos] + isd['replacement'] + cdna[cds_pos:]\n",
    "            coding_dna = Seq(new_cdna, generic_rna)\n",
    "            mut = str(coding_dna.translate(to_stop=True))[indel_position_protein-14:indel_position_protein+insertion_length+14]\n",
    "    \n",
    "        if status == 'mut':\n",
    "            peptides.append(mut)\n",
    "        else:\n",
    "            peptides.append(native)\n",
    "        mutations_used.append(indel)\n",
    "    \n",
    "    return peptides, mutations_used"
   ]
  },
  {
   "cell_type": "code",
   "execution_count": 5,
   "metadata": {
    "collapsed": false
   },
   "outputs": [],
   "source": [
    "def output_fasta(category, peptides, mutations_used, status):\n",
    "    if status == 'mut':\n",
    "        out_file = '/cellar/users/ramarty/Data/hla_ii/presentation/fasta_files/{0}.fa'.format(category)\n",
    "    else:\n",
    "        out_file = '/cellar/users/ramarty/Data/hla_ii/presentation/fasta_files/{0}.wt.fa'.format(category)\n",
    "    with open(out_file, 'w') as outfile:\n",
    "        for mutation, sequence in zip(mutations_used, peptides):\n",
    "            outfile.write('>{0}\\n'.format(mutation))\n",
    "            outfile.write('{0}\\n'.format(sequence))\n",
    "        \n",
    "    return len(mutations_used)"
   ]
  },
  {
   "cell_type": "markdown",
   "metadata": {},
   "source": [
    "Oncogenes"
   ]
  },
  {
   "cell_type": "code",
   "execution_count": 12,
   "metadata": {
    "collapsed": false
   },
   "outputs": [
    {
     "data": {
      "text/plain": [
       "643"
      ]
     },
     "execution_count": 12,
     "metadata": {},
     "output_type": "execute_result"
    }
   ],
   "source": [
    "category = 'oncogenes'\n",
    "status = 'mut'\n",
    "mutations = [x.strip() for x in open('/cellar/users/ramarty/Data/hla_ii/presentation/residues/{0}.txt'.format(category)).readlines()]\n",
    "peptides, mutations_used = generate_peptides(mutations, status)\n",
    "output_fasta(category, peptides, mutations_used, status)"
   ]
  },
  {
   "cell_type": "markdown",
   "metadata": {},
   "source": [
    "TSgenes"
   ]
  },
  {
   "cell_type": "code",
   "execution_count": 13,
   "metadata": {
    "collapsed": false
   },
   "outputs": [
    {
     "data": {
      "text/plain": [
       "602"
      ]
     },
     "execution_count": 13,
     "metadata": {},
     "output_type": "execute_result"
    }
   ],
   "source": [
    "category = 'tsgenes'\n",
    "status = 'mut'\n",
    "mutations = [x.strip() for x in open('/cellar/users/ramarty/Data/hla_ii/presentation/residues/{0}.txt'.format(category)).readlines()]\n",
    "peptides, mutations_used = generate_peptides(mutations, status)\n",
    "output_fasta(category, peptides, mutations_used, status)"
   ]
  },
  {
   "cell_type": "markdown",
   "metadata": {},
   "source": [
    "CGC"
   ]
  },
  {
   "cell_type": "code",
   "execution_count": 7,
   "metadata": {
    "collapsed": false,
    "scrolled": true
   },
   "outputs": [
    {
     "data": {
      "text/plain": [
       "1109"
      ]
     },
     "execution_count": 7,
     "metadata": {},
     "output_type": "execute_result"
    }
   ],
   "source": [
    "category = 'cgc_new'\n",
    "status = 'mut'\n",
    "mutations = [x.strip() for x in open('/cellar/users/ramarty/Data/hla_ii/presentation/residues/{0}.txt'.format(category)).readlines()]\n",
    "peptides, mutations_used = generate_peptides(mutations, status)\n",
    "output_fasta(category, peptides, mutations_used, status)"
   ]
  },
  {
   "cell_type": "markdown",
   "metadata": {},
   "source": [
    "Random"
   ]
  },
  {
   "cell_type": "code",
   "execution_count": 11,
   "metadata": {
    "collapsed": false
   },
   "outputs": [
    {
     "data": {
      "text/plain": [
       "20000"
      ]
     },
     "execution_count": 11,
     "metadata": {},
     "output_type": "execute_result"
    }
   ],
   "source": [
    "category = 'random_long'\n",
    "status = 'mut'\n",
    "mutations = [x.strip() for x in open('/cellar/users/ramarty/Data/hla_ii/presentation/residues/{0}.txt'.format(category)).readlines()]\n",
    "peptides, mutations_used = generate_peptides(mutations, status)\n",
    "output_fasta(category, peptides, mutations_used, status)"
   ]
  },
  {
   "cell_type": "code",
   "execution_count": 7,
   "metadata": {
    "collapsed": false
   },
   "outputs": [
    {
     "name": "stdout",
     "output_type": "stream",
     "text": [
      "13\n",
      "14\n",
      "19\n"
     ]
    }
   ],
   "source": [
    "for i in [13, 14, 19]:\n",
    "    print i\n",
    "    category = 'random'+str(i)\n",
    "    status = 'mut'\n",
    "    mutations = [x.strip() for x in open('/cellar/users/ramarty/Data/hla_ii/presentation/residues/{0}.txt'.format(category)).readlines()]\n",
    "    peptides, mutations_used = generate_peptides(mutations, status)\n",
    "    output_fasta(category, peptides, mutations_used, status)"
   ]
  },
  {
   "cell_type": "markdown",
   "metadata": {},
   "source": [
    "Germline"
   ]
  },
  {
   "cell_type": "code",
   "execution_count": 8,
   "metadata": {
    "collapsed": false
   },
   "outputs": [
    {
     "data": {
      "text/plain": [
       "1000"
      ]
     },
     "execution_count": 8,
     "metadata": {},
     "output_type": "execute_result"
    }
   ],
   "source": [
    "category = 'germline'\n",
    "mutations = [x.strip() for x in open('/cellar/users/ramarty/Data/hla_ii/presentation/residues/{0}.txt'.format(category)).readlines()]\n",
    "peptides, mutations_used = generate_peptides(mutations)\n",
    "output_fasta(category, peptides, mutations_used)"
   ]
  },
  {
   "cell_type": "markdown",
   "metadata": {},
   "source": [
    "Indel"
   ]
  },
  {
   "cell_type": "code",
   "execution_count": 25,
   "metadata": {
    "collapsed": false
   },
   "outputs": [
    {
     "data": {
      "text/plain": [
       "18"
      ]
     },
     "execution_count": 25,
     "metadata": {},
     "output_type": "execute_result"
    }
   ],
   "source": [
    "category = 'indels'\n",
    "mutations = [x.strip() for x in open('/cellar/users/ramarty/Data/hla_ii/presentation/residues/{0}.txt'.format(category)).readlines()]\n",
    "peptides, mutations_used = generate_indel_peptides(mutations)\n",
    "output_fasta(category, peptides, mutations_used)"
   ]
  },
  {
   "cell_type": "markdown",
   "metadata": {
    "collapsed": true
   },
   "source": [
    "Common"
   ]
  },
  {
   "cell_type": "code",
   "execution_count": 9,
   "metadata": {
    "collapsed": false
   },
   "outputs": [
    {
     "data": {
      "text/plain": [
       "1000"
      ]
     },
     "execution_count": 9,
     "metadata": {},
     "output_type": "execute_result"
    }
   ],
   "source": [
    "output_fasta('common')"
   ]
  },
  {
   "cell_type": "markdown",
   "metadata": {},
   "source": [
    "Passenger"
   ]
  },
  {
   "cell_type": "code",
   "execution_count": 10,
   "metadata": {
    "collapsed": false
   },
   "outputs": [
    {
     "data": {
      "text/plain": [
       "1000"
      ]
     },
     "execution_count": 10,
     "metadata": {},
     "output_type": "execute_result"
    }
   ],
   "source": [
    "#output_fasta('passenger')\n",
    "category = 'passenger'\n",
    "mutations = [x.strip() for x in open('/cellar/users/ramarty/Data/hla_ii/presentation/residues/{0}.txt'.format(category)).readlines()]\n",
    "peptides, mutations_used = generate_peptides(mutations)\n",
    "output_fasta(category, peptides, mutations_used)"
   ]
  },
  {
   "cell_type": "markdown",
   "metadata": {},
   "source": [
    "Non_cancer"
   ]
  },
  {
   "cell_type": "code",
   "execution_count": 6,
   "metadata": {
    "collapsed": false
   },
   "outputs": [
    {
     "data": {
      "text/plain": [
       "1000"
      ]
     },
     "execution_count": 6,
     "metadata": {},
     "output_type": "execute_result"
    }
   ],
   "source": [
    "category = 'non_cancer'\n",
    "status = 'mut'\n",
    "mutations = [x.strip() for x in open('/cellar/users/ramarty/Data/hla_ii/presentation/residues/{0}.txt'.format(category)).readlines()]\n",
    "peptides, mutations_used = generate_peptides(mutations, status)\n",
    "output_fasta(category, peptides, mutations_used, status)"
   ]
  },
  {
   "cell_type": "code",
   "execution_count": 7,
   "metadata": {
    "collapsed": false
   },
   "outputs": [
    {
     "data": {
      "text/plain": [
       "1000"
      ]
     },
     "execution_count": 7,
     "metadata": {},
     "output_type": "execute_result"
    }
   ],
   "source": [
    "category = 'known_non_cancer'\n",
    "status = 'mut'\n",
    "mutations = [x.strip() for x in open('/cellar/users/ramarty/Data/hla_ii/presentation/residues/{0}.txt'.format(category)).readlines()]\n",
    "peptides, mutations_used = generate_peptides(mutations, status)\n",
    "output_fasta(category, peptides, mutations_used, status)"
   ]
  },
  {
   "cell_type": "markdown",
   "metadata": {},
   "source": [
    "Bacterial"
   ]
  },
  {
   "cell_type": "code",
   "execution_count": 8,
   "metadata": {
    "collapsed": false
   },
   "outputs": [
    {
     "data": {
      "text/plain": [
       "1000"
      ]
     },
     "execution_count": 8,
     "metadata": {},
     "output_type": "execute_result"
    }
   ],
   "source": [
    "category = 'bacterial'\n",
    "mutations = [x.strip() for x in open('/cellar/users/ramarty/Data/hla_ii/presentation/residues/{0}.txt'.format(category)).readlines()]\n",
    "peptides, mutations_used = generate_bacterial_peptides(mutations)\n",
    "output_fasta(category, peptides, mutations_used)"
   ]
  },
  {
   "cell_type": "markdown",
   "metadata": {},
   "source": [
    "Viral"
   ]
  },
  {
   "cell_type": "code",
   "execution_count": 9,
   "metadata": {
    "collapsed": false,
    "scrolled": true
   },
   "outputs": [
    {
     "data": {
      "text/plain": [
       "1000"
      ]
     },
     "execution_count": 9,
     "metadata": {},
     "output_type": "execute_result"
    }
   ],
   "source": [
    "category = 'viral'\n",
    "mutations = [x.strip() for x in open('/cellar/users/ramarty/Data/hla_ii/presentation/residues/{0}.txt'.format(category)).readlines()]\n",
    "peptides, mutations_used = generate_viral_peptides(mutations)\n",
    "output_fasta(category, peptides, mutations_used)"
   ]
  },
  {
   "cell_type": "markdown",
   "metadata": {
    "collapsed": true
   },
   "source": [
    "### Wild type"
   ]
  },
  {
   "cell_type": "code",
   "execution_count": 14,
   "metadata": {
    "collapsed": false
   },
   "outputs": [
    {
     "data": {
      "text/plain": [
       "643"
      ]
     },
     "execution_count": 14,
     "metadata": {},
     "output_type": "execute_result"
    }
   ],
   "source": [
    "category = 'oncogenes'\n",
    "status = 'wt'\n",
    "mutations = [x.strip() for x in open('/cellar/users/ramarty/Data/hla_ii/presentation/residues/{0}.txt'.format(category)).readlines()]\n",
    "peptides, mutations_used = generate_peptides(mutations, status)\n",
    "output_fasta(category, peptides, mutations_used, status)"
   ]
  },
  {
   "cell_type": "code",
   "execution_count": 15,
   "metadata": {
    "collapsed": false
   },
   "outputs": [
    {
     "data": {
      "text/plain": [
       "602"
      ]
     },
     "execution_count": 15,
     "metadata": {},
     "output_type": "execute_result"
    }
   ],
   "source": [
    "category = 'tsgenes'\n",
    "status = 'wt'\n",
    "mutations = [x.strip() for x in open('/cellar/users/ramarty/Data/hla_ii/presentation/residues/{0}.txt'.format(category)).readlines()]\n",
    "peptides, mutations_used = generate_peptides(mutations, status)\n",
    "output_fasta(category, peptides, mutations_used, status)"
   ]
  },
  {
   "cell_type": "code",
   "execution_count": 18,
   "metadata": {
    "collapsed": false
   },
   "outputs": [
    {
     "data": {
      "text/plain": [
       "18"
      ]
     },
     "execution_count": 18,
     "metadata": {},
     "output_type": "execute_result"
    }
   ],
   "source": [
    "category = 'indels'\n",
    "status = 'wt'\n",
    "mutations = [x.strip() for x in open('/cellar/users/ramarty/Data/hla_ii/presentation/residues/{0}.txt'.format(category)).readlines()]\n",
    "peptides, mutations_used = generate_indel_peptides(mutations, status)\n",
    "output_fasta(category, peptides, mutations_used, status)"
   ]
  },
  {
   "cell_type": "code",
   "execution_count": null,
   "metadata": {
    "collapsed": true
   },
   "outputs": [],
   "source": []
  }
 ],
 "metadata": {
  "kernelspec": {
   "display_name": "Python 2",
   "language": "python",
   "name": "python2"
  },
  "language_info": {
   "codemirror_mode": {
    "name": "ipython",
    "version": 2
   },
   "file_extension": ".py",
   "mimetype": "text/x-python",
   "name": "python",
   "nbconvert_exporter": "python",
   "pygments_lexer": "ipython2",
   "version": "2.7.14"
  }
 },
 "nbformat": 4,
 "nbformat_minor": 0
}
