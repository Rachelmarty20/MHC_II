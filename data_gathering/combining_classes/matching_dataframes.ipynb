{
 "cells": [
  {
   "cell_type": "code",
   "execution_count": 1,
   "metadata": {
    "collapsed": false
   },
   "outputs": [
    {
     "name": "stderr",
     "output_type": "stream",
     "text": [
      "/cellar/users/ramarty/anaconda/lib/python2.7/site-packages/IPython/nbformat/current.py:19: UserWarning: IPython.nbformat.current is deprecated.\n",
      "\n",
      "- use IPython.nbformat for read/write/validate public API\n",
      "- use IPython.nbformat.vX directly to composing notebooks of a particular version\n",
      "\n",
      "  \"\"\")\n",
      "/cellar/users/ramarty/anaconda/lib/python2.7/site-packages/sklearn/cross_validation.py:44: DeprecationWarning: This module was deprecated in version 0.18 in favor of the model_selection module into which all the refactored classes and functions are moved. Also note that the interface of the new CV iterators are different from that of this module. This module will be removed in 0.20.\n",
      "  \"This module will be removed in 0.20.\", DeprecationWarning)\n"
     ]
    },
    {
     "name": "stdout",
     "output_type": "stream",
     "text": [
      "Populating the interactive namespace from numpy and matplotlib\n"
     ]
    }
   ],
   "source": [
    "import io\n",
    "from IPython.nbformat import current\n",
    "def execute_notebook(nbfile):\n",
    "    with io.open(nbfile) as f:\n",
    "        nb = current.read(f, 'json')\n",
    "    ip = get_ipython()\n",
    "    for cell in nb.worksheets[0].cells:\n",
    "        if cell.cell_type != 'code':\n",
    "            continue\n",
    "        ip.run_cell(cell.input)\n",
    "execute_notebook(\"/cellar/users/ramarty/Projects/hla_ii/bin/imports.ipynb\")"
   ]
  },
  {
   "cell_type": "markdown",
   "metadata": {},
   "source": [
    "### Creating identical dataframes for MHC-I and MHC-II"
   ]
  },
  {
   "cell_type": "markdown",
   "metadata": {},
   "source": [
    "#### Cancer drivers"
   ]
  },
  {
   "cell_type": "code",
   "execution_count": 26,
   "metadata": {
    "collapsed": false
   },
   "outputs": [],
   "source": [
    "aff2 = pd.read_csv('/cellar/users/ramarty/Data/hla_ii/presentation/clean_matrices/patient_affinities.cancer.all.csv', index_col=0)\n",
    "mut = pd.read_csv('/cellar/users/ramarty/Data/hla_ii/presentation/clean_matrices/patient_mutations.cancer.all.csv', index_col=0)\n",
    "aff1 = pd.read_csv('/cellar/users/ramarty/Data/hla/sandbox/david/PHBR/patient_affinities.cancer.PHBR.csv', index_col=0)"
   ]
  },
  {
   "cell_type": "code",
   "execution_count": 27,
   "metadata": {
    "collapsed": false
   },
   "outputs": [
    {
     "data": {
      "text/plain": [
       "((7137, 1018), (7137, 1018), (9176, 1018))"
      ]
     },
     "execution_count": 27,
     "metadata": {},
     "output_type": "execute_result"
    }
   ],
   "source": [
    "mut.shape, aff2.shape, aff1.shape"
   ]
  },
  {
   "cell_type": "code",
   "execution_count": 28,
   "metadata": {
    "collapsed": false
   },
   "outputs": [
    {
     "name": "stdout",
     "output_type": "stream",
     "text": [
      "7085 1018\n"
     ]
    }
   ],
   "source": [
    "patients = [x for x in aff2.index if x in aff1.index]\n",
    "mutations = [x for x in aff2.columns if x in aff1.columns]\n",
    "print len(patients), len(mutations)"
   ]
  },
  {
   "cell_type": "code",
   "execution_count": 29,
   "metadata": {
    "collapsed": false
   },
   "outputs": [
    {
     "data": {
      "text/html": [
       "<div>\n",
       "<table border=\"1\" class=\"dataframe\">\n",
       "  <thead>\n",
       "    <tr style=\"text-align: right;\">\n",
       "      <th></th>\n",
       "      <th>EGFR_ifd_55174772</th>\n",
       "      <th>NOTCH1_ifd_136518618</th>\n",
       "      <th>PIK3R1_ifd_68295304</th>\n",
       "      <th>CTNNB1_ifd_41224643</th>\n",
       "      <th>PIK3R1_ifd_68293795</th>\n",
       "      <th>ERBB2_ifi_39724728</th>\n",
       "      <th>EGFR_ifd_55174773</th>\n",
       "      <th>PIK3R1_ifd_68293758</th>\n",
       "      <th>TP53_ifd_7675066</th>\n",
       "      <th>BRAF_ifd_140778037</th>\n",
       "      <th>...</th>\n",
       "      <th>THRAP3_R504W</th>\n",
       "      <th>KMT2C_W430C</th>\n",
       "      <th>KMT2B_R1597Q</th>\n",
       "      <th>PIK3R1_L573P</th>\n",
       "      <th>KMT2C_D4425Y</th>\n",
       "      <th>TCF12_R589H</th>\n",
       "      <th>TP53_A161D</th>\n",
       "      <th>KEAP1_V155F</th>\n",
       "      <th>NF1_P1990Q</th>\n",
       "      <th>TP53_I254S</th>\n",
       "    </tr>\n",
       "  </thead>\n",
       "  <tbody>\n",
       "    <tr>\n",
       "      <th>TCGA-02-0003</th>\n",
       "      <td>8.192318</td>\n",
       "      <td>12.610138</td>\n",
       "      <td>0.561641</td>\n",
       "      <td>4.660101</td>\n",
       "      <td>14.391665</td>\n",
       "      <td>0.220919</td>\n",
       "      <td>4.281047</td>\n",
       "      <td>14.003648</td>\n",
       "      <td>5.115616</td>\n",
       "      <td>2.589041</td>\n",
       "      <td>...</td>\n",
       "      <td>12.627785</td>\n",
       "      <td>16.526459</td>\n",
       "      <td>7.236090</td>\n",
       "      <td>0.939944</td>\n",
       "      <td>1.636364</td>\n",
       "      <td>20.198295</td>\n",
       "      <td>3.536356</td>\n",
       "      <td>0.336606</td>\n",
       "      <td>0.356552</td>\n",
       "      <td>0.131961</td>\n",
       "    </tr>\n",
       "    <tr>\n",
       "      <th>TCGA-02-0033</th>\n",
       "      <td>7.402495</td>\n",
       "      <td>2.895448</td>\n",
       "      <td>2.525261</td>\n",
       "      <td>0.610539</td>\n",
       "      <td>10.076580</td>\n",
       "      <td>1.043046</td>\n",
       "      <td>2.391201</td>\n",
       "      <td>4.878120</td>\n",
       "      <td>2.572530</td>\n",
       "      <td>2.110847</td>\n",
       "      <td>...</td>\n",
       "      <td>11.345070</td>\n",
       "      <td>5.132615</td>\n",
       "      <td>3.218709</td>\n",
       "      <td>4.645128</td>\n",
       "      <td>0.475590</td>\n",
       "      <td>7.233886</td>\n",
       "      <td>1.730472</td>\n",
       "      <td>0.312188</td>\n",
       "      <td>2.058811</td>\n",
       "      <td>0.441847</td>\n",
       "    </tr>\n",
       "    <tr>\n",
       "      <th>TCGA-02-0047</th>\n",
       "      <td>7.439759</td>\n",
       "      <td>8.762255</td>\n",
       "      <td>6.725895</td>\n",
       "      <td>1.471782</td>\n",
       "      <td>15.400653</td>\n",
       "      <td>0.205625</td>\n",
       "      <td>2.544861</td>\n",
       "      <td>14.577646</td>\n",
       "      <td>11.253003</td>\n",
       "      <td>0.173633</td>\n",
       "      <td>...</td>\n",
       "      <td>34.055701</td>\n",
       "      <td>19.521127</td>\n",
       "      <td>4.700519</td>\n",
       "      <td>4.444964</td>\n",
       "      <td>1.043478</td>\n",
       "      <td>15.865278</td>\n",
       "      <td>2.907045</td>\n",
       "      <td>0.442105</td>\n",
       "      <td>2.934783</td>\n",
       "      <td>2.151394</td>\n",
       "    </tr>\n",
       "    <tr>\n",
       "      <th>TCGA-02-0055</th>\n",
       "      <td>2.047533</td>\n",
       "      <td>1.854651</td>\n",
       "      <td>10.074397</td>\n",
       "      <td>0.443036</td>\n",
       "      <td>0.957902</td>\n",
       "      <td>1.208768</td>\n",
       "      <td>0.980926</td>\n",
       "      <td>4.407298</td>\n",
       "      <td>0.666515</td>\n",
       "      <td>3.246911</td>\n",
       "      <td>...</td>\n",
       "      <td>3.579627</td>\n",
       "      <td>3.434619</td>\n",
       "      <td>11.010495</td>\n",
       "      <td>2.290909</td>\n",
       "      <td>0.160612</td>\n",
       "      <td>6.887191</td>\n",
       "      <td>0.447077</td>\n",
       "      <td>1.929064</td>\n",
       "      <td>1.627907</td>\n",
       "      <td>1.172414</td>\n",
       "    </tr>\n",
       "    <tr>\n",
       "      <th>TCGA-02-2466</th>\n",
       "      <td>1.980968</td>\n",
       "      <td>1.614350</td>\n",
       "      <td>1.907821</td>\n",
       "      <td>1.275458</td>\n",
       "      <td>8.178074</td>\n",
       "      <td>1.027902</td>\n",
       "      <td>1.368945</td>\n",
       "      <td>0.719084</td>\n",
       "      <td>1.491943</td>\n",
       "      <td>0.968920</td>\n",
       "      <td>...</td>\n",
       "      <td>10.348993</td>\n",
       "      <td>3.569482</td>\n",
       "      <td>8.524514</td>\n",
       "      <td>2.527537</td>\n",
       "      <td>0.518110</td>\n",
       "      <td>6.831963</td>\n",
       "      <td>0.503793</td>\n",
       "      <td>0.313840</td>\n",
       "      <td>0.117139</td>\n",
       "      <td>0.308923</td>\n",
       "    </tr>\n",
       "  </tbody>\n",
       "</table>\n",
       "<p>5 rows × 1018 columns</p>\n",
       "</div>"
      ],
      "text/plain": [
       "              EGFR_ifd_55174772  NOTCH1_ifd_136518618  PIK3R1_ifd_68295304  \\\n",
       "TCGA-02-0003           8.192318             12.610138             0.561641   \n",
       "TCGA-02-0033           7.402495              2.895448             2.525261   \n",
       "TCGA-02-0047           7.439759              8.762255             6.725895   \n",
       "TCGA-02-0055           2.047533              1.854651            10.074397   \n",
       "TCGA-02-2466           1.980968              1.614350             1.907821   \n",
       "\n",
       "              CTNNB1_ifd_41224643  PIK3R1_ifd_68293795  ERBB2_ifi_39724728  \\\n",
       "TCGA-02-0003             4.660101            14.391665            0.220919   \n",
       "TCGA-02-0033             0.610539            10.076580            1.043046   \n",
       "TCGA-02-0047             1.471782            15.400653            0.205625   \n",
       "TCGA-02-0055             0.443036             0.957902            1.208768   \n",
       "TCGA-02-2466             1.275458             8.178074            1.027902   \n",
       "\n",
       "              EGFR_ifd_55174773  PIK3R1_ifd_68293758  TP53_ifd_7675066  \\\n",
       "TCGA-02-0003           4.281047            14.003648          5.115616   \n",
       "TCGA-02-0033           2.391201             4.878120          2.572530   \n",
       "TCGA-02-0047           2.544861            14.577646         11.253003   \n",
       "TCGA-02-0055           0.980926             4.407298          0.666515   \n",
       "TCGA-02-2466           1.368945             0.719084          1.491943   \n",
       "\n",
       "              BRAF_ifd_140778037     ...      THRAP3_R504W  KMT2C_W430C  \\\n",
       "TCGA-02-0003            2.589041     ...         12.627785    16.526459   \n",
       "TCGA-02-0033            2.110847     ...         11.345070     5.132615   \n",
       "TCGA-02-0047            0.173633     ...         34.055701    19.521127   \n",
       "TCGA-02-0055            3.246911     ...          3.579627     3.434619   \n",
       "TCGA-02-2466            0.968920     ...         10.348993     3.569482   \n",
       "\n",
       "              KMT2B_R1597Q  PIK3R1_L573P  KMT2C_D4425Y  TCF12_R589H  \\\n",
       "TCGA-02-0003      7.236090      0.939944      1.636364    20.198295   \n",
       "TCGA-02-0033      3.218709      4.645128      0.475590     7.233886   \n",
       "TCGA-02-0047      4.700519      4.444964      1.043478    15.865278   \n",
       "TCGA-02-0055     11.010495      2.290909      0.160612     6.887191   \n",
       "TCGA-02-2466      8.524514      2.527537      0.518110     6.831963   \n",
       "\n",
       "              TP53_A161D  KEAP1_V155F  NF1_P1990Q  TP53_I254S  \n",
       "TCGA-02-0003    3.536356     0.336606    0.356552    0.131961  \n",
       "TCGA-02-0033    1.730472     0.312188    2.058811    0.441847  \n",
       "TCGA-02-0047    2.907045     0.442105    2.934783    2.151394  \n",
       "TCGA-02-0055    0.447077     1.929064    1.627907    1.172414  \n",
       "TCGA-02-2466    0.503793     0.313840    0.117139    0.308923  \n",
       "\n",
       "[5 rows x 1018 columns]"
      ]
     },
     "execution_count": 29,
     "metadata": {},
     "output_type": "execute_result"
    }
   ],
   "source": [
    "aff1.head()"
   ]
  },
  {
   "cell_type": "code",
   "execution_count": 6,
   "metadata": {
    "collapsed": false
   },
   "outputs": [],
   "source": [
    "mut = mut.ix[patients, mutations]\n",
    "aff1 = aff1.ix[patients, mutations]\n",
    "aff2 = aff2.ix[patients, mutations]"
   ]
  },
  {
   "cell_type": "code",
   "execution_count": 7,
   "metadata": {
    "collapsed": false
   },
   "outputs": [
    {
     "data": {
      "text/plain": [
       "((7085, 1018), (7085, 1018))"
      ]
     },
     "execution_count": 7,
     "metadata": {},
     "output_type": "execute_result"
    }
   ],
   "source": [
    "aff1.shape, aff2.shape"
   ]
  },
  {
   "cell_type": "code",
   "execution_count": 8,
   "metadata": {
    "collapsed": true
   },
   "outputs": [],
   "source": [
    "mut.to_csv('/cellar/users/ramarty/Data/hla_ii/presentation/clean_matrices/combined_classes/patient_mutations.csv')\n",
    "aff1.to_csv('/cellar/users/ramarty/Data/hla_ii/presentation/clean_matrices/combined_classes/patient_affinities.class_i.csv')\n",
    "aff2.to_csv('/cellar/users/ramarty/Data/hla_ii/presentation/clean_matrices/combined_classes/patient_affinities.class_ii.csv')"
   ]
  },
  {
   "cell_type": "markdown",
   "metadata": {},
   "source": [
    "Tissue df the same as well"
   ]
  },
  {
   "cell_type": "code",
   "execution_count": null,
   "metadata": {
    "collapsed": true
   },
   "outputs": [],
   "source": []
  },
  {
   "cell_type": "markdown",
   "metadata": {
    "collapsed": true
   },
   "source": [
    "#### Germline"
   ]
  },
  {
   "cell_type": "code",
   "execution_count": 2,
   "metadata": {
    "collapsed": true
   },
   "outputs": [],
   "source": [
    "aff2 = pd.read_csv('/cellar/users/ramarty/Data/hla_ii/presentation/clean_matrices/patient_affinities.germline.all.csv', index_col=0)\n",
    "mut = pd.read_csv('/cellar/users/ramarty/Data/hla_ii/presentation/clean_matrices/patient_mutations.germline.all.csv', index_col=0)\n",
    "aff1 = pd.read_csv('/cellar/users/ramarty/Data/hla/sandbox/david/PHBR/patient_affinities.germline.PHBR.csv', index_col=0)"
   ]
  },
  {
   "cell_type": "code",
   "execution_count": 3,
   "metadata": {
    "collapsed": false
   },
   "outputs": [
    {
     "data": {
      "text/plain": [
       "((2666, 1000), (2666, 1000), (3657, 1000))"
      ]
     },
     "execution_count": 3,
     "metadata": {},
     "output_type": "execute_result"
    }
   ],
   "source": [
    "mut.shape, aff2.shape, aff1.shape"
   ]
  },
  {
   "cell_type": "code",
   "execution_count": 4,
   "metadata": {
    "collapsed": false
   },
   "outputs": [
    {
     "name": "stdout",
     "output_type": "stream",
     "text": [
      "2611 921\n"
     ]
    }
   ],
   "source": [
    "patients = [x for x in aff2.index if x in aff1.index]\n",
    "mutations = [x for x in aff2.columns if x in aff1.columns]\n",
    "print len(patients), len(mutations)"
   ]
  },
  {
   "cell_type": "code",
   "execution_count": 5,
   "metadata": {
    "collapsed": true
   },
   "outputs": [],
   "source": [
    "mut = mut.ix[patients, mutations]\n",
    "aff1 = aff1.ix[patients, mutations]\n",
    "aff2 = aff2.ix[patients, mutations]"
   ]
  },
  {
   "cell_type": "code",
   "execution_count": 6,
   "metadata": {
    "collapsed": false
   },
   "outputs": [
    {
     "data": {
      "text/plain": [
       "((2611, 921), (2611, 921), (2611, 921))"
      ]
     },
     "execution_count": 6,
     "metadata": {},
     "output_type": "execute_result"
    }
   ],
   "source": [
    "mut.shape, aff2.shape, aff1.shape"
   ]
  },
  {
   "cell_type": "code",
   "execution_count": 7,
   "metadata": {
    "collapsed": true
   },
   "outputs": [],
   "source": [
    "mut.to_csv('/cellar/users/ramarty/Data/hla_ii/presentation/clean_matrices/combined_classes/patient_mutations.germline.csv')\n",
    "aff1.to_csv('/cellar/users/ramarty/Data/hla_ii/presentation/clean_matrices/combined_classes/patient_affinities.germline.class_i.csv')\n",
    "aff2.to_csv('/cellar/users/ramarty/Data/hla_ii/presentation/clean_matrices/combined_classes/patient_affinities.germline.class_ii.csv')"
   ]
  },
  {
   "cell_type": "markdown",
   "metadata": {},
   "source": [
    "Passengers"
   ]
  },
  {
   "cell_type": "code",
   "execution_count": 8,
   "metadata": {
    "collapsed": true
   },
   "outputs": [],
   "source": [
    "aff2 = pd.read_csv('/cellar/users/ramarty/Data/hla_ii/presentation/clean_matrices/patient_affinities.passenger.csv', index_col=0)\n",
    "mut = pd.read_csv('/cellar/users/ramarty/Data/hla_ii/presentation/clean_matrices/patient_mutations.passenger.csv', index_col=0)\n",
    "aff1 = pd.read_csv('/cellar/users/ramarty/Data/hla/sandbox/david/PHBR/patient_affinities.passenger.PHBR.csv', index_col=0)"
   ]
  },
  {
   "cell_type": "code",
   "execution_count": 9,
   "metadata": {
    "collapsed": false
   },
   "outputs": [
    {
     "data": {
      "text/plain": [
       "((7137, 1000), (7137, 1000), (9176, 1000))"
      ]
     },
     "execution_count": 9,
     "metadata": {},
     "output_type": "execute_result"
    }
   ],
   "source": [
    "mut.shape, aff2.shape, aff1.shape"
   ]
  },
  {
   "cell_type": "code",
   "execution_count": 10,
   "metadata": {
    "collapsed": false
   },
   "outputs": [
    {
     "name": "stdout",
     "output_type": "stream",
     "text": [
      "7085 912\n"
     ]
    }
   ],
   "source": [
    "patients = [x for x in aff2.index if x in aff1.index]\n",
    "mutations = [x for x in aff2.columns if x in aff1.columns]\n",
    "print len(patients), len(mutations)"
   ]
  },
  {
   "cell_type": "code",
   "execution_count": 11,
   "metadata": {
    "collapsed": true
   },
   "outputs": [],
   "source": [
    "mut = mut.ix[patients, mutations]\n",
    "aff1 = aff1.ix[patients, mutations]\n",
    "aff2 = aff2.ix[patients, mutations]"
   ]
  },
  {
   "cell_type": "code",
   "execution_count": 12,
   "metadata": {
    "collapsed": false
   },
   "outputs": [
    {
     "data": {
      "text/plain": [
       "((7085, 912), (7085, 912), (7085, 912))"
      ]
     },
     "execution_count": 12,
     "metadata": {},
     "output_type": "execute_result"
    }
   ],
   "source": [
    "mut.shape, aff2.shape, aff1.shape"
   ]
  },
  {
   "cell_type": "code",
   "execution_count": 13,
   "metadata": {
    "collapsed": true
   },
   "outputs": [],
   "source": [
    "mut.to_csv('/cellar/users/ramarty/Data/hla_ii/presentation/clean_matrices/combined_classes/patient_mutations.passenger.csv')\n",
    "aff1.to_csv('/cellar/users/ramarty/Data/hla_ii/presentation/clean_matrices/combined_classes/patient_affinities.passenger.class_i.csv')\n",
    "aff2.to_csv('/cellar/users/ramarty/Data/hla_ii/presentation/clean_matrices/combined_classes/patient_affinities.passenger.class_ii.csv')"
   ]
  },
  {
   "cell_type": "markdown",
   "metadata": {
    "collapsed": true
   },
   "source": [
    "### Alternate populations"
   ]
  },
  {
   "cell_type": "code",
   "execution_count": 2,
   "metadata": {
    "collapsed": true
   },
   "outputs": [],
   "source": [
    "aff2 = pd.read_csv('/cellar/users/ramarty/Data/hla_ii/presentation/clean_matrices/patient_affinities.cancer.all.alternate.csv', index_col=0)\n",
    "aff1 = pd.read_csv('/cellar/users/ramarty/Data/hla_ii/presentation/clean_matrices/patient_affinities.cancer.all.alternate.classI.csv', index_col=0)"
   ]
  },
  {
   "cell_type": "code",
   "execution_count": 3,
   "metadata": {
    "collapsed": false
   },
   "outputs": [
    {
     "data": {
      "text/plain": [
       "((629, 1018), (553, 1018))"
      ]
     },
     "execution_count": 3,
     "metadata": {},
     "output_type": "execute_result"
    }
   ],
   "source": [
    "aff2.shape, aff1.shape"
   ]
  },
  {
   "cell_type": "code",
   "execution_count": 4,
   "metadata": {
    "collapsed": false
   },
   "outputs": [
    {
     "name": "stdout",
     "output_type": "stream",
     "text": [
      "443 1018\n"
     ]
    }
   ],
   "source": [
    "patients = [x for x in aff2.index if x in aff1.index]\n",
    "mutations = [x for x in aff2.columns if x in aff1.columns]\n",
    "print len(patients), len(mutations)"
   ]
  },
  {
   "cell_type": "code",
   "execution_count": 6,
   "metadata": {
    "collapsed": true
   },
   "outputs": [],
   "source": [
    "aff1 = aff1.ix[patients, mutations]\n",
    "aff2 = aff2.ix[patients, mutations]"
   ]
  },
  {
   "cell_type": "code",
   "execution_count": 7,
   "metadata": {
    "collapsed": false
   },
   "outputs": [
    {
     "data": {
      "text/plain": [
       "((443, 1018), (443, 1018))"
      ]
     },
     "execution_count": 7,
     "metadata": {},
     "output_type": "execute_result"
    }
   ],
   "source": [
    "aff1.shape, aff2.shape"
   ]
  },
  {
   "cell_type": "code",
   "execution_count": 8,
   "metadata": {
    "collapsed": true
   },
   "outputs": [],
   "source": [
    "aff1.to_csv('/cellar/users/ramarty/Data/hla_ii/presentation/clean_matrices/combined_classes/patient_affinities.class_i.alternate.csv')\n",
    "aff2.to_csv('/cellar/users/ramarty/Data/hla_ii/presentation/clean_matrices/combined_classes/patient_affinities.class_ii.alternate.csv')"
   ]
  },
  {
   "cell_type": "code",
   "execution_count": null,
   "metadata": {
    "collapsed": true
   },
   "outputs": [],
   "source": []
  }
 ],
 "metadata": {
  "kernelspec": {
   "display_name": "Python 2",
   "language": "python",
   "name": "python2"
  },
  "language_info": {
   "codemirror_mode": {
    "name": "ipython",
    "version": 2
   },
   "file_extension": ".py",
   "mimetype": "text/x-python",
   "name": "python",
   "nbconvert_exporter": "python",
   "pygments_lexer": "ipython2",
   "version": "2.7.14"
  }
 },
 "nbformat": 4,
 "nbformat_minor": 0
}
