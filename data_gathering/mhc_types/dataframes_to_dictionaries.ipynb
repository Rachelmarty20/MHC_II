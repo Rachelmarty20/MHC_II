{
 "cells": [
  {
   "cell_type": "code",
   "execution_count": 2,
   "metadata": {
    "collapsed": false
   },
   "outputs": [
    {
     "name": "stdout",
     "output_type": "stream",
     "text": [
      "Populating the interactive namespace from numpy and matplotlib\n",
      "Populating the interactive namespace from numpy and matplotlib\n"
     ]
    },
    {
     "name": "stderr",
     "output_type": "stream",
     "text": [
      "WARNING: pylab import has clobbered these variables: ['normal']\n",
      "`%matplotlib` prevents importing * from pylab and numpy\n"
     ]
    }
   ],
   "source": [
    "import io\n",
    "from IPython.nbformat import current\n",
    "def execute_notebook(nbfile):\n",
    "    with io.open(nbfile) as f:\n",
    "        nb = current.read(f, 'json')\n",
    "    ip = get_ipython()\n",
    "    for cell in nb.worksheets[0].cells:\n",
    "        if cell.cell_type != 'code':\n",
    "            continue\n",
    "        ip.run_cell(cell.input)\n",
    "execute_notebook(\"/cellar/users/ramarty/Projects/hla_ii/bin/imports.ipynb\")\n",
    "execute_notebook(\"/cellar/users/ramarty/Projects/hla_ii/bin/samples.ipynb\")"
   ]
  },
  {
   "cell_type": "code",
   "execution_count": 3,
   "metadata": {
    "collapsed": true
   },
   "outputs": [],
   "source": [
    "netMHCIIpan_alleles = [x.strip() for x in open('/cellar/users/ramarty/Data/hla_ii/presentation/other/netMHCIIpan_alleles.txt').readlines()]"
   ]
  },
  {
   "cell_type": "markdown",
   "metadata": {},
   "source": [
    "####Take clean data frames and make in format of netMHCpan; also remove patients that have unpredictable alleles"
   ]
  },
  {
   "cell_type": "markdown",
   "metadata": {},
   "source": [
    "MHC-II"
   ]
  },
  {
   "cell_type": "code",
   "execution_count": 17,
   "metadata": {
    "collapsed": true
   },
   "outputs": [],
   "source": [
    "def classII(subset, population, data_df):\n",
    "    patient_types_df = data_df\n",
    "    patients = list(patient_types_df.index)\n",
    "\n",
    "    dictionary = {}\n",
    "    for patient in patients:\n",
    "        patient_dictionary = {}\n",
    "        success = True\n",
    "        try:\n",
    "            # DR - adding two of each for consistency sake with other genes\n",
    "            alleles = list(patient_types_df.ix[patient][['DRB1_allele1', 'DRB1_allele2']])\n",
    "            alleles.extend(list(patient_types_df.ix[patient][['DRB1_allele1', 'DRB1_allele2']]))\n",
    "            if len([a for a in alleles if a in netMHCIIpan_alleles]) == 4:\n",
    "                patient_dictionary['DR'] = alleles\n",
    "            else:\n",
    "                success = False\n",
    "\n",
    "            # DP\n",
    "            alleles = []\n",
    "            DA = list(patient_types_df.ix[patient][['DPA1_allele1', 'DPA1_allele2']])\n",
    "            DB = list(patient_types_df.ix[patient][['DPB1_allele1', 'DPB1_allele2']])\n",
    "            if ('-' not in DA) & ('-' not in DB):\n",
    "                for a in DA:\n",
    "                    for b in DB:\n",
    "                        alleles.append('HLA-{0}-{1}'.format(a.strip(), b.strip()))\n",
    "            if len([a for a in alleles if a in netMHCIIpan_alleles]) == 4:\n",
    "                patient_dictionary['DP'] = alleles\n",
    "            else:\n",
    "                success = False\n",
    "\n",
    "            # DQ\n",
    "            alleles = []\n",
    "            DA = list(patient_types_df.ix[patient][['DQA1_allele1', 'DQA1_allele2']])\n",
    "            DB = list(patient_types_df.ix[patient][['DQB1_allele1', 'DQB1_allele2']])\n",
    "            if ('-' not in DA) & ('-' not in DB):\n",
    "                for a in DA:\n",
    "                    for b in DB:\n",
    "                        alleles.append('HLA-{0}-{1}'.format(a.strip(), b.strip()))\n",
    "            if len([a for a in alleles if a in netMHCIIpan_alleles]) == 4:\n",
    "                patient_dictionary['DQ'] = alleles\n",
    "            else:\n",
    "                success = False\n",
    "            if success:\n",
    "                dictionary[patient] = patient_dictionary\n",
    "        except:\n",
    "            # weeds out the patients with the failed typing\n",
    "            print patient\n",
    "    print len(dictionary.keys())\n",
    "    pickle.dump(dictionary, open('/cellar/users/ramarty/Data/hla_ii/hla_types/clean/{0}.ClassII.{1}.p'.format(population,\n",
    "                                                                                                       subset),\n",
    "                                 'w'))"
   ]
  },
  {
   "cell_type": "code",
   "execution_count": 18,
   "metadata": {
    "collapsed": false
   },
   "outputs": [
    {
     "name": "stdout",
     "output_type": "stream",
     "text": [
      "conservative\n",
      "6210\n",
      "inclusive\n",
      "7562\n",
      "HLA-HD\n",
      "7528\n"
     ]
    }
   ],
   "source": [
    "population = 'TCGA'\n",
    "# HLAx is excluded because it doesn't have the 'A' alleles\n",
    "for subset in ['conservative', 'inclusive', 'HLA-HD']:\n",
    "    print subset\n",
    "    data_df = pd.read_csv('/cellar/users/ramarty/Data/hla_ii/hla_types/clean/{0}.ClassII.{1}.csv'.format(population,\n",
    "                                                                                                         subset),\n",
    "                          index_col=0)\n",
    "    classII(subset, population, data_df)"
   ]
  },
  {
   "cell_type": "markdown",
   "metadata": {},
   "source": [
    "MHC-I"
   ]
  },
  {
   "cell_type": "code",
   "execution_count": 20,
   "metadata": {
    "collapsed": false
   },
   "outputs": [],
   "source": [
    "! /cellar/users/ramarty/programs/netMHCpan-3.0/netMHCpan -listMHC > /cellar/users/ramarty/Data/hla_ii/presentation/other/netMHCpan_alleles.txt"
   ]
  },
  {
   "cell_type": "code",
   "execution_count": 28,
   "metadata": {
    "collapsed": true
   },
   "outputs": [],
   "source": [
    "netMHCpan_alleles = [x.strip() for x in open('/cellar/users/ramarty/Data/hla_ii/presentation/other/netMHCpan_alleles.txt').readlines()[35:]]"
   ]
  },
  {
   "cell_type": "code",
   "execution_count": 29,
   "metadata": {
    "collapsed": false
   },
   "outputs": [
    {
     "data": {
      "text/plain": [
       "['HLA-A01:01', 'HLA-A01:02', 'HLA-A01:03', 'HLA-A01:06', 'HLA-A01:07']"
      ]
     },
     "execution_count": 29,
     "metadata": {},
     "output_type": "execute_result"
    }
   ],
   "source": [
    "netMHCpan_alleles[:5]"
   ]
  },
  {
   "cell_type": "code",
   "execution_count": 30,
   "metadata": {
    "collapsed": false
   },
   "outputs": [
    {
     "data": {
      "text/html": [
       "<div>\n",
       "<table border=\"1\" class=\"dataframe\">\n",
       "  <thead>\n",
       "    <tr style=\"text-align: right;\">\n",
       "      <th></th>\n",
       "      <th>HLA-A01:01</th>\n",
       "      <th>HLA-A01:02</th>\n",
       "      <th>HLA-A01:03</th>\n",
       "      <th>HLA-A01:06</th>\n",
       "      <th>HLA-A01:07</th>\n",
       "      <th>HLA-A01:08</th>\n",
       "      <th>HLA-A01:09</th>\n",
       "      <th>HLA-A01:10</th>\n",
       "      <th>HLA-A01:12</th>\n",
       "      <th>HLA-A01:13</th>\n",
       "      <th>...</th>\n",
       "      <th>HLA-C18:03</th>\n",
       "      <th>HLA-G01:01</th>\n",
       "      <th>HLA-G01:02</th>\n",
       "      <th>HLA-G01:03</th>\n",
       "      <th>HLA-G01:04</th>\n",
       "      <th>HLA-G01:06</th>\n",
       "      <th>HLA-G01:07</th>\n",
       "      <th>HLA-G01:08</th>\n",
       "      <th>HLA-G01:09</th>\n",
       "      <th>HLA-E01:01</th>\n",
       "    </tr>\n",
       "  </thead>\n",
       "  <tbody>\n",
       "    <tr>\n",
       "      <th>BRAF_V600E</th>\n",
       "      <td>12.0</td>\n",
       "      <td>7.5</td>\n",
       "      <td>14.0</td>\n",
       "      <td>12.0</td>\n",
       "      <td>14.0</td>\n",
       "      <td>9.5</td>\n",
       "      <td>12.0</td>\n",
       "      <td>8.5</td>\n",
       "      <td>13.0</td>\n",
       "      <td>1.6</td>\n",
       "      <td>...</td>\n",
       "      <td>10.0</td>\n",
       "      <td>15.0</td>\n",
       "      <td>15.0</td>\n",
       "      <td>15.0</td>\n",
       "      <td>15.0</td>\n",
       "      <td>15.0</td>\n",
       "      <td>15.0</td>\n",
       "      <td>15.0</td>\n",
       "      <td>15.0</td>\n",
       "      <td>17.0</td>\n",
       "    </tr>\n",
       "    <tr>\n",
       "      <th>IDH1_R132H</th>\n",
       "      <td>4.5</td>\n",
       "      <td>3.0</td>\n",
       "      <td>5.0</td>\n",
       "      <td>3.0</td>\n",
       "      <td>3.5</td>\n",
       "      <td>3.5</td>\n",
       "      <td>4.5</td>\n",
       "      <td>2.5</td>\n",
       "      <td>1.6</td>\n",
       "      <td>12.0</td>\n",
       "      <td>...</td>\n",
       "      <td>6.0</td>\n",
       "      <td>8.0</td>\n",
       "      <td>8.0</td>\n",
       "      <td>8.0</td>\n",
       "      <td>8.0</td>\n",
       "      <td>8.0</td>\n",
       "      <td>8.0</td>\n",
       "      <td>8.0</td>\n",
       "      <td>8.0</td>\n",
       "      <td>14.0</td>\n",
       "    </tr>\n",
       "    <tr>\n",
       "      <th>PIK3CA_E545K</th>\n",
       "      <td>7.0</td>\n",
       "      <td>6.0</td>\n",
       "      <td>7.5</td>\n",
       "      <td>6.5</td>\n",
       "      <td>6.0</td>\n",
       "      <td>5.5</td>\n",
       "      <td>7.0</td>\n",
       "      <td>6.0</td>\n",
       "      <td>4.0</td>\n",
       "      <td>1.1</td>\n",
       "      <td>...</td>\n",
       "      <td>17.0</td>\n",
       "      <td>7.0</td>\n",
       "      <td>7.0</td>\n",
       "      <td>7.0</td>\n",
       "      <td>7.0</td>\n",
       "      <td>7.0</td>\n",
       "      <td>7.0</td>\n",
       "      <td>7.0</td>\n",
       "      <td>6.5</td>\n",
       "      <td>2.5</td>\n",
       "    </tr>\n",
       "    <tr>\n",
       "      <th>PIK3CA_H1047R</th>\n",
       "      <td>5.5</td>\n",
       "      <td>6.0</td>\n",
       "      <td>5.5</td>\n",
       "      <td>6.5</td>\n",
       "      <td>5.0</td>\n",
       "      <td>4.0</td>\n",
       "      <td>5.5</td>\n",
       "      <td>5.0</td>\n",
       "      <td>6.0</td>\n",
       "      <td>12.0</td>\n",
       "      <td>...</td>\n",
       "      <td>1.8</td>\n",
       "      <td>6.5</td>\n",
       "      <td>6.5</td>\n",
       "      <td>6.5</td>\n",
       "      <td>6.5</td>\n",
       "      <td>6.5</td>\n",
       "      <td>6.5</td>\n",
       "      <td>6.5</td>\n",
       "      <td>7.0</td>\n",
       "      <td>9.5</td>\n",
       "    </tr>\n",
       "    <tr>\n",
       "      <th>KRAS_G12D</th>\n",
       "      <td>17.0</td>\n",
       "      <td>32.0</td>\n",
       "      <td>15.0</td>\n",
       "      <td>19.0</td>\n",
       "      <td>17.0</td>\n",
       "      <td>16.0</td>\n",
       "      <td>17.0</td>\n",
       "      <td>14.0</td>\n",
       "      <td>13.0</td>\n",
       "      <td>6.5</td>\n",
       "      <td>...</td>\n",
       "      <td>24.0</td>\n",
       "      <td>22.0</td>\n",
       "      <td>22.0</td>\n",
       "      <td>22.0</td>\n",
       "      <td>22.0</td>\n",
       "      <td>22.0</td>\n",
       "      <td>22.0</td>\n",
       "      <td>22.0</td>\n",
       "      <td>22.0</td>\n",
       "      <td>15.0</td>\n",
       "    </tr>\n",
       "  </tbody>\n",
       "</table>\n",
       "<p>5 rows × 2924 columns</p>\n",
       "</div>"
      ],
      "text/plain": [
       "               HLA-A01:01  HLA-A01:02  HLA-A01:03  HLA-A01:06  HLA-A01:07  \\\n",
       "BRAF_V600E           12.0         7.5        14.0        12.0        14.0   \n",
       "IDH1_R132H            4.5         3.0         5.0         3.0         3.5   \n",
       "PIK3CA_E545K          7.0         6.0         7.5         6.5         6.0   \n",
       "PIK3CA_H1047R         5.5         6.0         5.5         6.5         5.0   \n",
       "KRAS_G12D            17.0        32.0        15.0        19.0        17.0   \n",
       "\n",
       "               HLA-A01:08  HLA-A01:09  HLA-A01:10  HLA-A01:12  HLA-A01:13  \\\n",
       "BRAF_V600E            9.5        12.0         8.5        13.0         1.6   \n",
       "IDH1_R132H            3.5         4.5         2.5         1.6        12.0   \n",
       "PIK3CA_E545K          5.5         7.0         6.0         4.0         1.1   \n",
       "PIK3CA_H1047R         4.0         5.5         5.0         6.0        12.0   \n",
       "KRAS_G12D            16.0        17.0        14.0        13.0         6.5   \n",
       "\n",
       "                  ...      HLA-C18:03  HLA-G01:01  HLA-G01:02  HLA-G01:03  \\\n",
       "BRAF_V600E        ...            10.0        15.0        15.0        15.0   \n",
       "IDH1_R132H        ...             6.0         8.0         8.0         8.0   \n",
       "PIK3CA_E545K      ...            17.0         7.0         7.0         7.0   \n",
       "PIK3CA_H1047R     ...             1.8         6.5         6.5         6.5   \n",
       "KRAS_G12D         ...            24.0        22.0        22.0        22.0   \n",
       "\n",
       "               HLA-G01:04  HLA-G01:06  HLA-G01:07  HLA-G01:08  HLA-G01:09  \\\n",
       "BRAF_V600E           15.0        15.0        15.0        15.0        15.0   \n",
       "IDH1_R132H            8.0         8.0         8.0         8.0         8.0   \n",
       "PIK3CA_E545K          7.0         7.0         7.0         7.0         6.5   \n",
       "PIK3CA_H1047R         6.5         6.5         6.5         6.5         7.0   \n",
       "KRAS_G12D            22.0        22.0        22.0        22.0        22.0   \n",
       "\n",
       "               HLA-E01:01  \n",
       "BRAF_V600E           17.0  \n",
       "IDH1_R132H           14.0  \n",
       "PIK3CA_E545K          2.5  \n",
       "PIK3CA_H1047R         9.5  \n",
       "KRAS_G12D            15.0  \n",
       "\n",
       "[5 rows x 2924 columns]"
      ]
     },
     "execution_count": 30,
     "metadata": {},
     "output_type": "execute_result"
    }
   ],
   "source": [
    "pd.read_csv('/cellar/users/ramarty/Data/hla/residue/matrices/mut/class_i/oncogenes.all.max.txt', index_col=0).head()"
   ]
  },
  {
   "cell_type": "code",
   "execution_count": 16,
   "metadata": {
    "collapsed": false
   },
   "outputs": [
    {
     "data": {
      "text/html": [
       "<div>\n",
       "<table border=\"1\" class=\"dataframe\">\n",
       "  <thead>\n",
       "    <tr style=\"text-align: right;\">\n",
       "      <th></th>\n",
       "      <th>A1</th>\n",
       "      <th>A2</th>\n",
       "      <th>B1</th>\n",
       "      <th>B2</th>\n",
       "      <th>C1</th>\n",
       "      <th>C2</th>\n",
       "    </tr>\n",
       "  </thead>\n",
       "  <tbody>\n",
       "    <tr>\n",
       "      <th>TCGA-02-0003</th>\n",
       "      <td>A*02:01</td>\n",
       "      <td>A*24:02</td>\n",
       "      <td>B*07:02</td>\n",
       "      <td>B*27:05</td>\n",
       "      <td>C*02:02</td>\n",
       "      <td>C*07:02</td>\n",
       "    </tr>\n",
       "    <tr>\n",
       "      <th>TCGA-02-0033</th>\n",
       "      <td>A*30:04</td>\n",
       "      <td>A*68:01</td>\n",
       "      <td>B*14:01</td>\n",
       "      <td>B*48:01</td>\n",
       "      <td>C*08:01</td>\n",
       "      <td>C*08:02</td>\n",
       "    </tr>\n",
       "    <tr>\n",
       "      <th>TCGA-02-0047</th>\n",
       "      <td>A*02:01</td>\n",
       "      <td>A*32:01</td>\n",
       "      <td>B*15:01</td>\n",
       "      <td>B*15:01</td>\n",
       "      <td>C*03:03</td>\n",
       "      <td>C*03:03</td>\n",
       "    </tr>\n",
       "    <tr>\n",
       "      <th>TCGA-02-0055</th>\n",
       "      <td>A*11:01</td>\n",
       "      <td>A*31:01</td>\n",
       "      <td>B*51:01</td>\n",
       "      <td>B*55:01</td>\n",
       "      <td>C*03:03</td>\n",
       "      <td>C*15:02</td>\n",
       "    </tr>\n",
       "    <tr>\n",
       "      <th>TCGA-02-2466</th>\n",
       "      <td>A*03:01</td>\n",
       "      <td>A*33:01</td>\n",
       "      <td>B*14:02</td>\n",
       "      <td>B*27:05</td>\n",
       "      <td>C*02:02</td>\n",
       "      <td>C*08:02</td>\n",
       "    </tr>\n",
       "  </tbody>\n",
       "</table>\n",
       "</div>"
      ],
      "text/plain": [
       "                   A1       A2       B1       B2       C1       C2\n",
       "TCGA-02-0003  A*02:01  A*24:02  B*07:02  B*27:05  C*02:02  C*07:02\n",
       "TCGA-02-0033  A*30:04  A*68:01  B*14:01  B*48:01  C*08:01  C*08:02\n",
       "TCGA-02-0047  A*02:01  A*32:01  B*15:01  B*15:01  C*03:03  C*03:03\n",
       "TCGA-02-0055  A*11:01  A*31:01  B*51:01  B*55:01  C*03:03  C*15:02\n",
       "TCGA-02-2466  A*03:01  A*33:01  B*14:02  B*27:05  C*02:02  C*08:02"
      ]
     },
     "execution_count": 16,
     "metadata": {},
     "output_type": "execute_result"
    }
   ],
   "source": [
    "pd.read_csv('/cellar/users/ramarty/Data/hla_ii/hla_types/clean/TCGA.ClassI.inclusive.csv', index_col=0).head()"
   ]
  },
  {
   "cell_type": "code",
   "execution_count": 49,
   "metadata": {
    "collapsed": true
   },
   "outputs": [],
   "source": [
    "def classI(subset, population, data_df):\n",
    "    patient_types_df = data_df\n",
    "    patients = list(patient_types_df.index)\n",
    "\n",
    "    dictionary = {}\n",
    "    for patient in patients:\n",
    "        patient_dictionary = {}\n",
    "        \n",
    "        alleles = list(patient_types_df.ix[patient][['A1', 'A2', 'B1', 'B2', 'C1', 'C2']])\n",
    "        \n",
    "        # reformat\n",
    "        alleles = ['HLA-{0}{1}'.format(a[0], a[2:]) for a in alleles]\n",
    "        \n",
    "        if len([a for a in alleles if a in netMHCpan_alleles]) == 6:\n",
    "                dictionary[patient] = alleles\n",
    "                \n",
    "    print len(dictionary.keys())\n",
    "    pickle.dump(dictionary, open('/cellar/users/ramarty/Data/hla_ii/hla_types/clean/{0}.ClassI.{1}.p'.format(population,\n",
    "                                                                                                       subset),\n",
    "                                 'w'))\n",
    "    return dictionary"
   ]
  },
  {
   "cell_type": "code",
   "execution_count": 50,
   "metadata": {
    "collapsed": false,
    "scrolled": true
   },
   "outputs": [
    {
     "name": "stdout",
     "output_type": "stream",
     "text": [
      "conservative\n",
      "6266\n",
      "inclusive\n",
      "7965\n"
     ]
    }
   ],
   "source": [
    "population = 'TCGA'\n",
    "# HLAx is excluded because it doesn't have the 'A' alleles\n",
    "for subset in ['conservative', 'inclusive']:\n",
    "    print subset\n",
    "    data_df = pd.read_csv('/cellar/users/ramarty/Data/hla_ii/hla_types/clean/{0}.ClassI.{1}.csv'.format(population,\n",
    "                                                                                                         subset),\n",
    "                          index_col=0)\n",
    "    dictionary = classI(subset, population, data_df)"
   ]
  },
  {
   "cell_type": "code",
   "execution_count": null,
   "metadata": {
    "collapsed": true
   },
   "outputs": [],
   "source": []
  }
 ],
 "metadata": {
  "kernelspec": {
   "display_name": "Python 2",
   "language": "python",
   "name": "python2"
  },
  "language_info": {
   "codemirror_mode": {
    "name": "ipython",
    "version": 2
   },
   "file_extension": ".py",
   "mimetype": "text/x-python",
   "name": "python",
   "nbconvert_exporter": "python",
   "pygments_lexer": "ipython2",
   "version": "2.7.14"
  }
 },
 "nbformat": 4,
 "nbformat_minor": 0
}
