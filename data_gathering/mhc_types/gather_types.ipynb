{
 "cells": [
  {
   "cell_type": "code",
   "execution_count": 2,
   "metadata": {
    "collapsed": false,
    "scrolled": false
   },
   "outputs": [
    {
     "name": "stdout",
     "output_type": "stream",
     "text": [
      "Populating the interactive namespace from numpy and matplotlib\n",
      "Populating the interactive namespace from numpy and matplotlib\n"
     ]
    },
    {
     "name": "stderr",
     "output_type": "stream",
     "text": [
      "WARNING: pylab import has clobbered these variables: ['normal']\n",
      "`%matplotlib` prevents importing * from pylab and numpy\n"
     ]
    }
   ],
   "source": [
    "import io\n",
    "from IPython.nbformat import current\n",
    "def execute_notebook(nbfile):\n",
    "    with io.open(nbfile) as f:\n",
    "        nb = current.read(f, 'json')\n",
    "    ip = get_ipython()\n",
    "    for cell in nb.worksheets[0].cells:\n",
    "        if cell.cell_type != 'code':\n",
    "            continue\n",
    "        ip.run_cell(cell.input)\n",
    "execute_notebook(\"/cellar/users/ramarty/Projects/hla_ii/bin/imports.ipynb\")\n",
    "execute_notebook(\"/cellar/users/ramarty/Projects/hla_ii/bin/samples.ipynb\")"
   ]
  },
  {
   "cell_type": "markdown",
   "metadata": {},
   "source": [
    "#### Establish available alleles"
   ]
  },
  {
   "cell_type": "code",
   "execution_count": 3,
   "metadata": {
    "collapsed": true
   },
   "outputs": [],
   "source": [
    "! /cellar/users/ramarty/programs/netMHCIIpan-3.1/netMHCIIpan -list > /cellar/users/ramarty/Data/hla_ii/presentation/other/netMHCIIpan_alleles.txt\n",
    "netMHCIIpan_alleles = [x.strip() for x in open('/cellar/users/ramarty/Data/hla_ii/presentation/other/netMHCIIpan_alleles.txt').readlines()]"
   ]
  },
  {
   "cell_type": "markdown",
   "metadata": {},
   "source": [
    "###HLAx"
   ]
  },
  {
   "cell_type": "code",
   "execution_count": 5,
   "metadata": {
    "collapsed": false
   },
   "outputs": [],
   "source": [
    "HLAx_results_path = '/cellar/users/ramarty/Data/hla_ii/hla_types/HLAx'\n",
    "files = ['{0}/{1}'.format(HLAx_results_path, x) for x in os.listdir(HLAx_results_path) if x is not '_SUCCESS']\n",
    "samples, alleles = [], []\n",
    "for f in files:\n",
    "    try:\n",
    "        dictionary = json.loads(open(f).read())\n",
    "        samples.append(dictionary['sample_id'])\n",
    "        alleles.append(dictionary['hla']['alleles'])\n",
    "    except:\n",
    "        print f\n",
    "patient_types_hlax = pd.DataFrame(alleles) \n",
    "patient_types_hlax.index = samples\n",
    "patient_types_hlax = patient_types_hlax.ix[:,6:]\n",
    "patient_types_hlax.columns = ['DPB1_allele1', 'DPB1_allele2', 'DQB1_allele1', 'DQB1_allele2',\n",
    "                              'DRB1_allele1', 'DRB1_allele2']"
   ]
  },
  {
   "cell_type": "code",
   "execution_count": 8,
   "metadata": {
    "collapsed": false
   },
   "outputs": [],
   "source": [
    "# Update formatting to look like HLA-HD\n",
    "def adjust_format(x):\n",
    "    try:\n",
    "        return ''.join([x.split('*')[0]] + x.split('*')[1].split(':'))\n",
    "    except:\n",
    "        return '-'\n",
    "def adjust_format_DR(x):\n",
    "    try:\n",
    "        return '_'.join([x.split('*')[0]] + [''.join(x.split('*')[1].split(':'))])\n",
    "    except:\n",
    "        return '-'\n",
    "patient_types_hlax['DPB1_allele1'] = patient_types_hlax['DPB1_allele1'].apply(adjust_format)\n",
    "patient_types_hlax['DPB1_allele2'] = patient_types_hlax['DPB1_allele2'].apply(adjust_format)\n",
    "patient_types_hlax['DQB1_allele1'] = patient_types_hlax['DQB1_allele1'].apply(adjust_format)\n",
    "patient_types_hlax['DQB1_allele2'] = patient_types_hlax['DQB1_allele2'].apply(adjust_format)\n",
    "patient_types_hlax['DRB1_allele1'] = patient_types_hlax['DRB1_allele1'].apply(adjust_format_DR)\n",
    "patient_types_hlax['DRB1_allele2'] = patient_types_hlax['DRB1_allele2'].apply(adjust_format_DR)\n",
    "patient_types_hlax = patient_types_hlax.replace('-', np.nan).dropna()\n",
    "# convert to dictionary\n",
    "patient_dict_hlax = patient_types_hlax.to_dict(orient='index')"
   ]
  },
  {
   "cell_type": "markdown",
   "metadata": {},
   "source": [
    "Import HLA-HD results"
   ]
  },
  {
   "cell_type": "code",
   "execution_count": 11,
   "metadata": {
    "collapsed": false
   },
   "outputs": [],
   "source": [
    "patient_dict_hlahd = pickle.load(open('/cellar/users/ramarty/Data/hla_ii/hla_types/hla_types.tcga.p'))"
   ]
  },
  {
   "cell_type": "code",
   "execution_count": 12,
   "metadata": {
    "collapsed": true
   },
   "outputs": [],
   "source": [
    "patient_types_hlahd = pd.DataFrame(patient_dict_hlahd).transpose()\n",
    "def strip_allele(x):\n",
    "    return x.strip()\n",
    "patient_types_hlahd.DPA1_allele2 = patient_types_hlahd.DPA1_allele2.apply(strip_allele)\n",
    "patient_types_hlahd.DPB1_allele2 = patient_types_hlahd.DPB1_allele2.apply(strip_allele)\n",
    "patient_types_hlahd.DQA1_allele2 = patient_types_hlahd.DQA1_allele2.apply(strip_allele)\n",
    "patient_types_hlahd.DQB1_allele2 = patient_types_hlahd.DQB1_allele2.apply(strip_allele)\n",
    "patient_types_hlahd.DRB1_allele2 = patient_types_hlahd.DRB1_allele2.apply(strip_allele)"
   ]
  },
  {
   "cell_type": "code",
   "execution_count": 13,
   "metadata": {
    "collapsed": true
   },
   "outputs": [],
   "source": [
    "patient_dict_hlahd = patient_types_hlahd.to_dict(orient='index')"
   ]
  },
  {
   "cell_type": "code",
   "execution_count": 14,
   "metadata": {
    "collapsed": false
   },
   "outputs": [],
   "source": [
    "hlahd_samples = patient_dict_hlahd.keys()"
   ]
  },
  {
   "cell_type": "code",
   "execution_count": 15,
   "metadata": {
    "collapsed": false,
    "scrolled": true
   },
   "outputs": [
    {
     "data": {
      "text/plain": [
       "{'DPA1_allele1': 'DPA10103',\n",
       " 'DPA1_allele2': 'DPA10103',\n",
       " 'DPB1_allele1': 'DPB10401',\n",
       " 'DPB1_allele2': 'DPB110401',\n",
       " 'DQA1_allele1': 'DQA10505',\n",
       " 'DQA1_allele2': 'DQA10601',\n",
       " 'DQB1_allele1': 'DQB10301',\n",
       " 'DQB1_allele2': 'DQB10301',\n",
       " 'DRB1_allele1': 'DRB1_1101',\n",
       " 'DRB1_allele2': 'DRB1_1101'}"
      ]
     },
     "execution_count": 15,
     "metadata": {},
     "output_type": "execute_result"
    }
   ],
   "source": [
    "patient_dict_hlahd[hlahd_samples[0]]"
   ]
  },
  {
   "cell_type": "markdown",
   "metadata": {},
   "source": [
    "Compare the results for available genes"
   ]
  },
  {
   "cell_type": "code",
   "execution_count": 16,
   "metadata": {
    "collapsed": false
   },
   "outputs": [
    {
     "data": {
      "text/plain": [
       "{'DPA1_allele1': 'DPA10103',\n",
       " 'DPA1_allele2': 'DPA10103',\n",
       " 'DPB1_allele1': 'DPB10402',\n",
       " 'DPB1_allele2': 'DPB10201',\n",
       " 'DQA1_allele1': 'DQA10301',\n",
       " 'DQA1_allele2': 'DQA10103',\n",
       " 'DQB1_allele1': 'DQB10603',\n",
       " 'DQB1_allele2': 'DQB10302',\n",
       " 'DRB1_allele1': 'DRB1_1301',\n",
       " 'DRB1_allele2': 'DRB1_0407'}"
      ]
     },
     "execution_count": 16,
     "metadata": {},
     "output_type": "execute_result"
    }
   ],
   "source": [
    "patient_dict_hlahd[samples[0]]"
   ]
  },
  {
   "cell_type": "code",
   "execution_count": 17,
   "metadata": {
    "collapsed": true
   },
   "outputs": [],
   "source": [
    "# add a partial match\n",
    "def check_compatability(x, y):\n",
    "    if ((x[0] == y[0])&(x[1] == y[1])) | ((x[1] == y[0])&(x[0] == y[1])):\n",
    "        return 'match'\n",
    "    elif (x[0] == y[0])|(x[1] == y[1])|(x[0] == y[1])|(x[1] == y[0]):\n",
    "        return 'partialmatch'\n",
    "    else:\n",
    "        return 'nomatch'"
   ]
  },
  {
   "cell_type": "code",
   "execution_count": 18,
   "metadata": {
    "collapsed": false
   },
   "outputs": [
    {
     "name": "stdout",
     "output_type": "stream",
     "text": [
      "DRB1_allele 7471 554 52\n",
      "DPB1_allele 7225 640 212\n",
      "DQB1_allele 7653 406 18\n"
     ]
    }
   ],
   "source": [
    "genes = []\n",
    "match_codes = []\n",
    "for gene in ['DRB1_allele', 'DPB1_allele', 'DQB1_allele']:\n",
    "    matched, partialmatch, nomatched = 0, 0, 0\n",
    "    for sample in [x for x in patient_dict_hlahd.keys() if x in patient_dict_hlax.keys()]:\n",
    "        hd = patient_dict_hlahd[sample]\n",
    "        x = patient_dict_hlax[sample]\n",
    "        compatibility = check_compatability([x[gene+'1'], x[gene+'2']],\n",
    "                               [hd[gene+'1'], hd[gene+'2']])\n",
    "        if compatibility == 'match':\n",
    "            matched += 1\n",
    "        elif compatibility == 'partialmatch':\n",
    "            partialmatch += 1\n",
    "        else: \n",
    "            nomatched += 1\n",
    "    print gene, matched, partialmatch, nomatched\n",
    "    match_codes.append([matched, partialmatch, nomatched])\n",
    "results_df = pd.DataFrame(match_codes)\n",
    "results_df.index = ['DRB1', 'DPB1', 'DQB1']\n",
    "results_df.columns = ['Both Alleles Match' , 'One Allele Matches', 'No Alleles Match']\n",
    "results_df_long = results_df.stack().reset_index()\n",
    "results_df_long.columns = ['Gene', 'Agreement', 'Patients']"
   ]
  },
  {
   "cell_type": "code",
   "execution_count": 27,
   "metadata": {
    "collapsed": false
   },
   "outputs": [
    {
     "data": {
      "image/png": "[encoded data removed]",
      "text/plain": [
       "<matplotlib.figure.Figure at 0x7fe83a584f50>"
      ]
     },
     "metadata": {},
     "output_type": "display_data"
    }
   ],
   "source": [
    "# Make figure \n",
    "plt.figure(figsize=(4, float(8)/3))\n",
    "sns.barplot(x='Gene', y='Patients', hue='Agreement', data=results_df_long, palette=sns.color_palette(\"muted\"))\n",
    "plt.legend(loc=9, prop={'size': 7})\n",
    "plt.ylim(0, 10000)\n",
    "plt.savefig('/cellar/users/ramarty/Data/hla_ii/generated_figures/hla_typing/method_comparison.pdf',\n",
    "           bbox_inches='tight')"
   ]
  },
  {
   "cell_type": "markdown",
   "metadata": {},
   "source": [
    "####Output to a conservative and inclusive dataframe"
   ]
  },
  {
   "cell_type": "markdown",
   "metadata": {},
   "source": [
    "Conservative"
   ]
  },
  {
   "cell_type": "code",
   "execution_count": 70,
   "metadata": {
    "collapsed": false
   },
   "outputs": [
    {
     "data": {
      "text/plain": [
       "5622"
      ]
     },
     "execution_count": 70,
     "metadata": {},
     "output_type": "execute_result"
    }
   ],
   "source": [
    "len(netMHCIIpan_alleles)"
   ]
  },
  {
   "cell_type": "code",
   "execution_count": 67,
   "metadata": {
    "collapsed": false
   },
   "outputs": [
    {
     "name": "stdout",
     "output_type": "stream",
     "text": [
      "8077\n"
     ]
    }
   ],
   "source": [
    "conservative_patients = [x for x in patient_dict_hlahd.keys() if x in patient_dict_hlax.keys()]\n",
    "print len(conservative_patients)"
   ]
  },
  {
   "cell_type": "code",
   "execution_count": 22,
   "metadata": {
    "collapsed": false
   },
   "outputs": [],
   "source": [
    "conservative_dictionary = {}\n",
    "for patient in conservative_patients:\n",
    "    patient_dict = {}\n",
    "    hd = patient_dict_hlahd[patient]\n",
    "    x = patient_dict_hlax[patient]\n",
    "    \n",
    "    for gene in ['DRB1_allele', 'DPB1_allele', 'DQB1_allele']:\n",
    "        # use HLA-HD unless they don't exist\n",
    "        compatibility = check_compatability([x[gene+'1'], x[gene+'2']],\n",
    "                                   [hd[gene+'1'], hd[gene+'2']])\n",
    "        if compatibility == 'match':\n",
    "            patient_dict[gene + '1'] = hd[gene+'1']\n",
    "            patient_dict[gene + '2'] = hd[gene+'2']\n",
    "    \n",
    "    for gene in ['DPA1_allele', 'DQA1_allele']:\n",
    "        if (hd[gene+'1'] != '-') & (hd[gene+'2'] != '-'):\n",
    "            patient_dict[gene + '1'] = hd[gene+'1']\n",
    "            patient_dict[gene + '2'] = hd[gene+'2']\n",
    "        \n",
    "    # Add to dictionary\n",
    "    if len(patient_dict.keys()) == 10: # check\n",
    "        conservative_dictionary[patient] = patient_dict"
   ]
  },
  {
   "cell_type": "code",
   "execution_count": 23,
   "metadata": {
    "collapsed": false
   },
   "outputs": [
    {
     "name": "stdout",
     "output_type": "stream",
     "text": [
      "6266\n"
     ]
    }
   ],
   "source": [
    "# convert to dataframe\n",
    "conservative_df = pd.DataFrame(conservative_dictionary).transpose()\n",
    "# output\n",
    "print len(conservative_df)\n",
    "conservative_df.to_csv('/cellar/users/ramarty/Data/hla_ii/hla_types/clean/TCGA.ClassII.conservative.csv')"
   ]
  },
  {
   "cell_type": "code",
   "execution_count": 24,
   "metadata": {
    "collapsed": false
   },
   "outputs": [
    {
     "data": {
      "text/html": [
       "<div>\n",
       "<table border=\"1\" class=\"dataframe\">\n",
       "  <thead>\n",
       "    <tr style=\"text-align: right;\">\n",
       "      <th></th>\n",
       "      <th>DPA1_allele1</th>\n",
       "      <th>DPA1_allele2</th>\n",
       "      <th>DPB1_allele1</th>\n",
       "      <th>DPB1_allele2</th>\n",
       "      <th>DQA1_allele1</th>\n",
       "      <th>DQA1_allele2</th>\n",
       "      <th>DQB1_allele1</th>\n",
       "      <th>DQB1_allele2</th>\n",
       "      <th>DRB1_allele1</th>\n",
       "      <th>DRB1_allele2</th>\n",
       "    </tr>\n",
       "  </thead>\n",
       "  <tbody>\n",
       "    <tr>\n",
       "      <th>TCGA-02-0003</th>\n",
       "      <td>DPA10103</td>\n",
       "      <td>DPA10103</td>\n",
       "      <td>DPB10402</td>\n",
       "      <td>DPB10201</td>\n",
       "      <td>DQA10102</td>\n",
       "      <td>DQA10303</td>\n",
       "      <td>DQB10602</td>\n",
       "      <td>DQB10301</td>\n",
       "      <td>DRB1_1501</td>\n",
       "      <td>DRB1_0401</td>\n",
       "    </tr>\n",
       "    <tr>\n",
       "      <th>TCGA-02-0033</th>\n",
       "      <td>DPA10103</td>\n",
       "      <td>DPA10103</td>\n",
       "      <td>DPB10402</td>\n",
       "      <td>DPB10402</td>\n",
       "      <td>DQA10505</td>\n",
       "      <td>DQA10301</td>\n",
       "      <td>DQB10302</td>\n",
       "      <td>DQB10301</td>\n",
       "      <td>DRB1_1104</td>\n",
       "      <td>DRB1_0404</td>\n",
       "    </tr>\n",
       "    <tr>\n",
       "      <th>TCGA-02-0047</th>\n",
       "      <td>DPA10103</td>\n",
       "      <td>DPA10103</td>\n",
       "      <td>DPB10402</td>\n",
       "      <td>DPB11501</td>\n",
       "      <td>DQA10301</td>\n",
       "      <td>DQA10501</td>\n",
       "      <td>DQB10201</td>\n",
       "      <td>DQB10302</td>\n",
       "      <td>DRB1_0301</td>\n",
       "      <td>DRB1_0401</td>\n",
       "    </tr>\n",
       "    <tr>\n",
       "      <th>TCGA-02-0055</th>\n",
       "      <td>DPA10103</td>\n",
       "      <td>DPA10103</td>\n",
       "      <td>DPB10402</td>\n",
       "      <td>DPB10401</td>\n",
       "      <td>DQA10505</td>\n",
       "      <td>DQA10301</td>\n",
       "      <td>DQB10301</td>\n",
       "      <td>DQB10301</td>\n",
       "      <td>DRB1_1101</td>\n",
       "      <td>DRB1_0407</td>\n",
       "    </tr>\n",
       "    <tr>\n",
       "      <th>TCGA-02-2466</th>\n",
       "      <td>DPA10103</td>\n",
       "      <td>DPA10103</td>\n",
       "      <td>DPB10201</td>\n",
       "      <td>DPB10401</td>\n",
       "      <td>DQA10501</td>\n",
       "      <td>DQA10101</td>\n",
       "      <td>DQB10501</td>\n",
       "      <td>DQB10201</td>\n",
       "      <td>DRB1_0301</td>\n",
       "      <td>DRB1_0101</td>\n",
       "    </tr>\n",
       "  </tbody>\n",
       "</table>\n",
       "</div>"
      ],
      "text/plain": [
       "             DPA1_allele1 DPA1_allele2 DPB1_allele1 DPB1_allele2 DQA1_allele1  \\\n",
       "TCGA-02-0003     DPA10103     DPA10103     DPB10402     DPB10201     DQA10102   \n",
       "TCGA-02-0033     DPA10103     DPA10103     DPB10402     DPB10402     DQA10505   \n",
       "TCGA-02-0047     DPA10103     DPA10103     DPB10402     DPB11501     DQA10301   \n",
       "TCGA-02-0055     DPA10103     DPA10103     DPB10402     DPB10401     DQA10505   \n",
       "TCGA-02-2466     DPA10103     DPA10103     DPB10201     DPB10401     DQA10501   \n",
       "\n",
       "             DQA1_allele2 DQB1_allele1 DQB1_allele2 DRB1_allele1 DRB1_allele2  \n",
       "TCGA-02-0003     DQA10303     DQB10602     DQB10301    DRB1_1501    DRB1_0401  \n",
       "TCGA-02-0033     DQA10301     DQB10302     DQB10301    DRB1_1104    DRB1_0404  \n",
       "TCGA-02-0047     DQA10501     DQB10201     DQB10302    DRB1_0301    DRB1_0401  \n",
       "TCGA-02-0055     DQA10301     DQB10301     DQB10301    DRB1_1101    DRB1_0407  \n",
       "TCGA-02-2466     DQA10101     DQB10501     DQB10201    DRB1_0301    DRB1_0101  "
      ]
     },
     "execution_count": 24,
     "metadata": {},
     "output_type": "execute_result"
    }
   ],
   "source": [
    "conservative_df.head()"
   ]
  },
  {
   "cell_type": "markdown",
   "metadata": {},
   "source": [
    "Inclusive"
   ]
  },
  {
   "cell_type": "code",
   "execution_count": 28,
   "metadata": {
    "collapsed": true
   },
   "outputs": [],
   "source": [
    "all_patients = list(set(patient_dict_hlahd.keys() + patient_dict_hlax.keys()))"
   ]
  },
  {
   "cell_type": "code",
   "execution_count": 29,
   "metadata": {
    "collapsed": false
   },
   "outputs": [],
   "source": [
    "inclusive_dictionary = {}\n",
    "for patient in all_patients:\n",
    "    patient_dict = {}\n",
    "    if patient in patient_dict_hlahd.keys():\n",
    "        hd = patient_dict_hlahd[patient]\n",
    "    if patient in patient_dict_hlax.keys():\n",
    "        x = patient_dict_hlax[patient]\n",
    "    \n",
    "    for gene in ['DRB1_allele', 'DPB1_allele', 'DQB1_allele']:\n",
    "        # use HLA-HD unless they don't exist\n",
    "        if (hd[gene+'1'] != '-') & (hd[gene+'2'] != '-'):\n",
    "            patient_dict[gene + '1'] = hd[gene+'1']\n",
    "            patient_dict[gene + '2'] = hd[gene+'2']\n",
    "        else:\n",
    "            patient_dict[gene + '1'] = x[gene+'1']\n",
    "            patient_dict[gene + '2'] = x[gene+'2']\n",
    "    \n",
    "    for gene in ['DPA1_allele', 'DQA1_allele']:\n",
    "        if (hd[gene+'1'] != '-') & (hd[gene+'2'] != '-'):\n",
    "            patient_dict[gene + '1'] = hd[gene+'1']\n",
    "            patient_dict[gene + '2'] = hd[gene+'2']\n",
    "        \n",
    "    # Add to dictionary\n",
    "    if len(patient_dict.keys()) == 10: # check\n",
    "        inclusive_dictionary[patient] = patient_dict"
   ]
  },
  {
   "cell_type": "code",
   "execution_count": 30,
   "metadata": {
    "collapsed": false
   },
   "outputs": [
    {
     "name": "stdout",
     "output_type": "stream",
     "text": [
      "7965\n"
     ]
    }
   ],
   "source": [
    "# convert to dataframe\n",
    "inclusive_df = pd.DataFrame(inclusive_dictionary).transpose()\n",
    "# output\n",
    "print len(inclusive_df)\n",
    "inclusive_df.to_csv('/cellar/users/ramarty/Data/hla_ii/hla_types/clean/TCGA.ClassII.inclusive.csv')"
   ]
  },
  {
   "cell_type": "code",
   "execution_count": 44,
   "metadata": {
    "collapsed": false
   },
   "outputs": [
    {
     "data": {
      "text/html": [
       "<div>\n",
       "<table border=\"1\" class=\"dataframe\">\n",
       "  <thead>\n",
       "    <tr style=\"text-align: right;\">\n",
       "      <th></th>\n",
       "      <th>DPA1_allele1</th>\n",
       "      <th>DPA1_allele2</th>\n",
       "      <th>DPB1_allele1</th>\n",
       "      <th>DPB1_allele2</th>\n",
       "      <th>DQA1_allele1</th>\n",
       "      <th>DQA1_allele2</th>\n",
       "      <th>DQB1_allele1</th>\n",
       "      <th>DQB1_allele2</th>\n",
       "      <th>DRB1_allele1</th>\n",
       "      <th>DRB1_allele2</th>\n",
       "    </tr>\n",
       "  </thead>\n",
       "  <tbody>\n",
       "    <tr>\n",
       "      <th>TCGA-02-0003</th>\n",
       "      <td>DPA10103</td>\n",
       "      <td>DPA10103</td>\n",
       "      <td>DPB10402</td>\n",
       "      <td>DPB10201</td>\n",
       "      <td>DQA10102</td>\n",
       "      <td>DQA10303</td>\n",
       "      <td>DQB10602</td>\n",
       "      <td>DQB10301</td>\n",
       "      <td>DRB1_1501</td>\n",
       "      <td>DRB1_0401</td>\n",
       "    </tr>\n",
       "    <tr>\n",
       "      <th>TCGA-02-0033</th>\n",
       "      <td>DPA10103</td>\n",
       "      <td>DPA10103</td>\n",
       "      <td>DPB10402</td>\n",
       "      <td>DPB10402</td>\n",
       "      <td>DQA10505</td>\n",
       "      <td>DQA10301</td>\n",
       "      <td>DQB10302</td>\n",
       "      <td>DQB10301</td>\n",
       "      <td>DRB1_1104</td>\n",
       "      <td>DRB1_0404</td>\n",
       "    </tr>\n",
       "    <tr>\n",
       "      <th>TCGA-02-0047</th>\n",
       "      <td>DPA10103</td>\n",
       "      <td>DPA10103</td>\n",
       "      <td>DPB10402</td>\n",
       "      <td>DPB11501</td>\n",
       "      <td>DQA10301</td>\n",
       "      <td>DQA10501</td>\n",
       "      <td>DQB10201</td>\n",
       "      <td>DQB10302</td>\n",
       "      <td>DRB1_0301</td>\n",
       "      <td>DRB1_0401</td>\n",
       "    </tr>\n",
       "    <tr>\n",
       "      <th>TCGA-02-0055</th>\n",
       "      <td>DPA10103</td>\n",
       "      <td>DPA10103</td>\n",
       "      <td>DPB10402</td>\n",
       "      <td>DPB10401</td>\n",
       "      <td>DQA10505</td>\n",
       "      <td>DQA10301</td>\n",
       "      <td>DQB10301</td>\n",
       "      <td>DQB10301</td>\n",
       "      <td>DRB1_1101</td>\n",
       "      <td>DRB1_0407</td>\n",
       "    </tr>\n",
       "    <tr>\n",
       "      <th>TCGA-02-2466</th>\n",
       "      <td>DPA10103</td>\n",
       "      <td>DPA10103</td>\n",
       "      <td>DPB10201</td>\n",
       "      <td>DPB10401</td>\n",
       "      <td>DQA10501</td>\n",
       "      <td>DQA10101</td>\n",
       "      <td>DQB10501</td>\n",
       "      <td>DQB10201</td>\n",
       "      <td>DRB1_0301</td>\n",
       "      <td>DRB1_0101</td>\n",
       "    </tr>\n",
       "  </tbody>\n",
       "</table>\n",
       "</div>"
      ],
      "text/plain": [
       "             DPA1_allele1 DPA1_allele2 DPB1_allele1 DPB1_allele2 DQA1_allele1  \\\n",
       "TCGA-02-0003     DPA10103     DPA10103     DPB10402     DPB10201     DQA10102   \n",
       "TCGA-02-0033     DPA10103     DPA10103     DPB10402     DPB10402     DQA10505   \n",
       "TCGA-02-0047     DPA10103     DPA10103     DPB10402     DPB11501     DQA10301   \n",
       "TCGA-02-0055     DPA10103     DPA10103     DPB10402     DPB10401     DQA10505   \n",
       "TCGA-02-2466     DPA10103     DPA10103     DPB10201     DPB10401     DQA10501   \n",
       "\n",
       "             DQA1_allele2 DQB1_allele1 DQB1_allele2 DRB1_allele1 DRB1_allele2  \n",
       "TCGA-02-0003     DQA10303     DQB10602     DQB10301    DRB1_1501    DRB1_0401  \n",
       "TCGA-02-0033     DQA10301     DQB10302     DQB10301    DRB1_1104    DRB1_0404  \n",
       "TCGA-02-0047     DQA10501     DQB10201     DQB10302    DRB1_0301    DRB1_0401  \n",
       "TCGA-02-0055     DQA10301     DQB10301     DQB10301    DRB1_1101    DRB1_0407  \n",
       "TCGA-02-2466     DQA10101     DQB10501     DQB10201    DRB1_0301    DRB1_0101  "
      ]
     },
     "execution_count": 44,
     "metadata": {},
     "output_type": "execute_result"
    }
   ],
   "source": [
    "inclusive_df.head()"
   ]
  },
  {
   "cell_type": "markdown",
   "metadata": {},
   "source": [
    "Also for both tools alone"
   ]
  },
  {
   "cell_type": "code",
   "execution_count": 60,
   "metadata": {
    "collapsed": false
   },
   "outputs": [
    {
     "name": "stdout",
     "output_type": "stream",
     "text": [
      "8077\n"
     ]
    }
   ],
   "source": [
    "patient_types_hlax.to_csv('/cellar/users/ramarty/Data/hla_ii/hla_types/clean/TCGA.ClassII.HLAx.csv')\n",
    "print len(patient_dict_hlax)"
   ]
  },
  {
   "cell_type": "code",
   "execution_count": 62,
   "metadata": {
    "collapsed": false
   },
   "outputs": [
    {
     "name": "stdout",
     "output_type": "stream",
     "text": [
      "7929\n"
     ]
    }
   ],
   "source": [
    "patient_types_hlahd = pd.DataFrame(patient_dict_hlahd).transpose()\n",
    "def strip_allele(x):\n",
    "    return x.strip()\n",
    "patient_types_hlahd.DPA1_allele2 = patient_types_hlahd.DPA1_allele2.apply(strip_allele)\n",
    "patient_types_hlahd.DPB1_allele2 = patient_types_hlahd.DPB1_allele2.apply(strip_allele)\n",
    "patient_types_hlahd.DQA1_allele2 = patient_types_hlahd.DQA1_allele2.apply(strip_allele)\n",
    "patient_types_hlahd.DQB1_allele2 = patient_types_hlahd.DQB1_allele2.apply(strip_allele)\n",
    "patient_types_hlahd.DRB1_allele2 = patient_types_hlahd.DRB1_allele2.apply(strip_allele)\n",
    "patient_types_hlahd = patient_types_hlahd.replace('-', np.nan).dropna()\n",
    "patient_types_hlahd.to_csv('/cellar/users/ramarty/Data/hla_ii/hla_types/clean/TCGA.ClassII.HLA-HD.csv')\n",
    "print len(patient_types_hlahd)"
   ]
  },
  {
   "cell_type": "markdown",
   "metadata": {},
   "source": [
    "##MHC-I"
   ]
  },
  {
   "cell_type": "code",
   "execution_count": 31,
   "metadata": {
    "collapsed": true
   },
   "outputs": [],
   "source": [
    "mhcI = pd.read_csv('/cellar/users/ramarty/Data/hla/git_data/data/hla_typing/hla_types.csv', index_col=0)"
   ]
  },
  {
   "cell_type": "code",
   "execution_count": 32,
   "metadata": {
    "collapsed": false
   },
   "outputs": [],
   "source": [
    "mhcI_typed_patients = list(mhcI.Sample)"
   ]
  },
  {
   "cell_type": "code",
   "execution_count": 33,
   "metadata": {
    "collapsed": false,
    "scrolled": true
   },
   "outputs": [
    {
     "data": {
      "text/plain": [
       "232"
      ]
     },
     "execution_count": 33,
     "metadata": {},
     "output_type": "execute_result"
    }
   ],
   "source": [
    "len([x for x in inclusive_df.index if x not in mhcI_typed_patients])"
   ]
  },
  {
   "cell_type": "code",
   "execution_count": 34,
   "metadata": {
    "collapsed": true
   },
   "outputs": [],
   "source": [
    "with open('/cellar/users/ramarty/Data/hla_ii/hla_types/patients_needing_MHCI.txt', 'w') as f:\n",
    "    for patient in [x for x in inclusive_df.index if x not in mhcI_typed_patients]:\n",
    "        f.write('{0}\\n'.format(patient))"
   ]
  },
  {
   "cell_type": "markdown",
   "metadata": {},
   "source": [
    "Collect output and add to a complete dataframe/dictionary"
   ]
  },
  {
   "cell_type": "code",
   "execution_count": 35,
   "metadata": {
    "collapsed": true
   },
   "outputs": [],
   "source": [
    "barcodes = [x.strip() for x in open('/cellar/users/ramarty/Data/hla_ii/hla_types/patients_needing_MHCI.txt').readlines()]"
   ]
  },
  {
   "cell_type": "code",
   "execution_count": 36,
   "metadata": {
    "collapsed": false
   },
   "outputs": [
    {
     "name": "stdout",
     "output_type": "stream",
     "text": [
      "TCGA-13-0766\n"
     ]
    }
   ],
   "source": [
    "alleles = []\n",
    "for barcode in barcodes:\n",
    "    try:\n",
    "        alleles.append(open('/cellar/users/ramarty/Data/hla_ii/hla_types/Optitype/{0}/result.tsv'.format(barcode)).readlines()[1].split('\\t')[1:-2])\n",
    "    except:\n",
    "        print barcode"
   ]
  },
  {
   "cell_type": "code",
   "execution_count": 38,
   "metadata": {
    "collapsed": false
   },
   "outputs": [],
   "source": [
    "# need this patient typed for it to work..  \n",
    "#optitype_df = pd.DataFrame(alleles)\n",
    "#optitype_df.index = barcodes"
   ]
  },
  {
   "cell_type": "code",
   "execution_count": 39,
   "metadata": {
    "collapsed": false
   },
   "outputs": [],
   "source": [
    "alleles = []\n",
    "for barcode in barcodes:\n",
    "    lines = open('/cellar/users/ramarty/Data/hla_ii/hla_types/Polysolver/{0}/winners.hla.txt'.format(barcode)).readlines()\n",
    "    alleles_raw = []\n",
    "    for i in range(3):\n",
    "        alleles_raw.extend([x.strip() for x in lines[i].split('\\t')[1:]])\n",
    "    alleles_formatted = []\n",
    "    for allele in alleles_raw:\n",
    "        alleles_formatted.append('{0}*{1}:{2}'.format(allele.split('_')[1].upper(), \n",
    "                                                      allele.split('_')[2], \n",
    "                                                      allele.split('_')[3]))\n",
    "    alleles.append(alleles_formatted)"
   ]
  },
  {
   "cell_type": "code",
   "execution_count": 40,
   "metadata": {
    "collapsed": true
   },
   "outputs": [],
   "source": [
    "polysolver_df = pd.DataFrame(alleles)\n",
    "polysolver_df.index = barcodes"
   ]
  },
  {
   "cell_type": "code",
   "execution_count": 41,
   "metadata": {
    "collapsed": false
   },
   "outputs": [
    {
     "data": {
      "text/html": [
       "<div>\n",
       "<table border=\"1\" class=\"dataframe\">\n",
       "  <thead>\n",
       "    <tr style=\"text-align: right;\">\n",
       "      <th></th>\n",
       "      <th>0</th>\n",
       "      <th>1</th>\n",
       "      <th>2</th>\n",
       "      <th>3</th>\n",
       "      <th>4</th>\n",
       "      <th>5</th>\n",
       "    </tr>\n",
       "  </thead>\n",
       "  <tbody>\n",
       "    <tr>\n",
       "      <th>TCGA-04-1371</th>\n",
       "      <td>A*01:03</td>\n",
       "      <td>A*30:01</td>\n",
       "      <td>B*40:06</td>\n",
       "      <td>B*13:01</td>\n",
       "      <td>C*05:01</td>\n",
       "      <td>C*05:01</td>\n",
       "    </tr>\n",
       "    <tr>\n",
       "      <th>TCGA-06-0165</th>\n",
       "      <td>A*01:01</td>\n",
       "      <td>A*26:01</td>\n",
       "      <td>B*37:01</td>\n",
       "      <td>B*15:17</td>\n",
       "      <td>C*07:01</td>\n",
       "      <td>C*06:02</td>\n",
       "    </tr>\n",
       "    <tr>\n",
       "      <th>TCGA-06-0178</th>\n",
       "      <td>A*29:02</td>\n",
       "      <td>A*30:02</td>\n",
       "      <td>B*44:03</td>\n",
       "      <td>B*44:03</td>\n",
       "      <td>C*16:01</td>\n",
       "      <td>C*16:01</td>\n",
       "    </tr>\n",
       "    <tr>\n",
       "      <th>TCGA-09-2054</th>\n",
       "      <td>A*30:02</td>\n",
       "      <td>A*32:01</td>\n",
       "      <td>B*14:01</td>\n",
       "      <td>B*35:01</td>\n",
       "      <td>C*07:06</td>\n",
       "      <td>C*05:01</td>\n",
       "    </tr>\n",
       "    <tr>\n",
       "      <th>TCGA-10-0936</th>\n",
       "      <td>A*36:01</td>\n",
       "      <td>A*68:02</td>\n",
       "      <td>B*45:01</td>\n",
       "      <td>B*44:03</td>\n",
       "      <td>C*16:01</td>\n",
       "      <td>C*04:01</td>\n",
       "    </tr>\n",
       "  </tbody>\n",
       "</table>\n",
       "</div>"
      ],
      "text/plain": [
       "                    0        1        2        3        4        5\n",
       "TCGA-04-1371  A*01:03  A*30:01  B*40:06  B*13:01  C*05:01  C*05:01\n",
       "TCGA-06-0165  A*01:01  A*26:01  B*37:01  B*15:17  C*07:01  C*06:02\n",
       "TCGA-06-0178  A*29:02  A*30:02  B*44:03  B*44:03  C*16:01  C*16:01\n",
       "TCGA-09-2054  A*30:02  A*32:01  B*14:01  B*35:01  C*07:06  C*05:01\n",
       "TCGA-10-0936  A*36:01  A*68:02  B*45:01  B*44:03  C*16:01  C*04:01"
      ]
     },
     "execution_count": 41,
     "metadata": {},
     "output_type": "execute_result"
    }
   ],
   "source": [
    "polysolver_df.head()"
   ]
  },
  {
   "cell_type": "code",
   "execution_count": 45,
   "metadata": {
    "collapsed": true
   },
   "outputs": [],
   "source": [
    "polysolver_df.columns = ['A1', 'A2', 'B1', 'B2', 'C1', 'C2']"
   ]
  },
  {
   "cell_type": "markdown",
   "metadata": {},
   "source": [
    "Add to rest of HLA-I types and put in clean directory (same order as MHC-II?)"
   ]
  },
  {
   "cell_type": "code",
   "execution_count": 73,
   "metadata": {
    "collapsed": true
   },
   "outputs": [],
   "source": [
    "hlaI_types = pd.read_csv('/cellar/users/ramarty/Data/hla/git_data/data/hla_typing/hla_types.csv', index_col=0)\n",
    "hlaI_types.index = list(hlaI_types['Sample'])"
   ]
  },
  {
   "cell_type": "code",
   "execution_count": 74,
   "metadata": {
    "collapsed": false
   },
   "outputs": [
    {
     "data": {
      "text/html": [
       "<div>\n",
       "<table border=\"1\" class=\"dataframe\">\n",
       "  <thead>\n",
       "    <tr style=\"text-align: right;\">\n",
       "      <th></th>\n",
       "      <th>A1</th>\n",
       "      <th>A2</th>\n",
       "      <th>B1</th>\n",
       "      <th>B2</th>\n",
       "      <th>C1</th>\n",
       "      <th>C2</th>\n",
       "      <th>Sample</th>\n",
       "    </tr>\n",
       "  </thead>\n",
       "  <tbody>\n",
       "    <tr>\n",
       "      <th>TCGA-P5-A780</th>\n",
       "      <td>A*01:01</td>\n",
       "      <td>A*02:01</td>\n",
       "      <td>B*07:02</td>\n",
       "      <td>B*35:03</td>\n",
       "      <td>C*04:01</td>\n",
       "      <td>C*07:02</td>\n",
       "      <td>TCGA-P5-A780</td>\n",
       "    </tr>\n",
       "    <tr>\n",
       "      <th>TCGA-55-A494</th>\n",
       "      <td>A*02:01</td>\n",
       "      <td>A*24:02</td>\n",
       "      <td>B*15:01</td>\n",
       "      <td>B*57:01</td>\n",
       "      <td>C*03:03</td>\n",
       "      <td>C*07:01</td>\n",
       "      <td>TCGA-55-A494</td>\n",
       "    </tr>\n",
       "    <tr>\n",
       "      <th>TCGA-BR-8382</th>\n",
       "      <td>A*02:01</td>\n",
       "      <td>A*02:01</td>\n",
       "      <td>B*08:01</td>\n",
       "      <td>B*57:01</td>\n",
       "      <td>C*06:02</td>\n",
       "      <td>C*07:01</td>\n",
       "      <td>TCGA-BR-8382</td>\n",
       "    </tr>\n",
       "    <tr>\n",
       "      <th>TCGA-Z2-AA3S</th>\n",
       "      <td>A*02:01</td>\n",
       "      <td>A*02:01</td>\n",
       "      <td>B*07:04</td>\n",
       "      <td>B*52:01</td>\n",
       "      <td>C*07:02</td>\n",
       "      <td>C*12:02</td>\n",
       "      <td>TCGA-Z2-AA3S</td>\n",
       "    </tr>\n",
       "    <tr>\n",
       "      <th>TCGA-BR-6564</th>\n",
       "      <td>A*02:01</td>\n",
       "      <td>A*11:01</td>\n",
       "      <td>B*35:03</td>\n",
       "      <td>B*40:01</td>\n",
       "      <td>C*03:04</td>\n",
       "      <td>C*12:03</td>\n",
       "      <td>TCGA-BR-6564</td>\n",
       "    </tr>\n",
       "  </tbody>\n",
       "</table>\n",
       "</div>"
      ],
      "text/plain": [
       "                   A1       A2       B1       B2       C1       C2  \\\n",
       "TCGA-P5-A780  A*01:01  A*02:01  B*07:02  B*35:03  C*04:01  C*07:02   \n",
       "TCGA-55-A494  A*02:01  A*24:02  B*15:01  B*57:01  C*03:03  C*07:01   \n",
       "TCGA-BR-8382  A*02:01  A*02:01  B*08:01  B*57:01  C*06:02  C*07:01   \n",
       "TCGA-Z2-AA3S  A*02:01  A*02:01  B*07:04  B*52:01  C*07:02  C*12:02   \n",
       "TCGA-BR-6564  A*02:01  A*11:01  B*35:03  B*40:01  C*03:04  C*12:03   \n",
       "\n",
       "                    Sample  \n",
       "TCGA-P5-A780  TCGA-P5-A780  \n",
       "TCGA-55-A494  TCGA-55-A494  \n",
       "TCGA-BR-8382  TCGA-BR-8382  \n",
       "TCGA-Z2-AA3S  TCGA-Z2-AA3S  \n",
       "TCGA-BR-6564  TCGA-BR-6564  "
      ]
     },
     "execution_count": 74,
     "metadata": {},
     "output_type": "execute_result"
    }
   ],
   "source": [
    "hlaI_types.head()"
   ]
  },
  {
   "cell_type": "code",
   "execution_count": 75,
   "metadata": {
    "collapsed": false
   },
   "outputs": [],
   "source": [
    "all_hlaI = pd.concat([hlaI_types[['A1', 'A2', 'B1', 'B2', 'C1', 'C2']], polysolver_df])"
   ]
  },
  {
   "cell_type": "code",
   "execution_count": 76,
   "metadata": {
    "collapsed": false
   },
   "outputs": [
    {
     "data": {
      "text/plain": [
       "(9408, 7965)"
      ]
     },
     "execution_count": 76,
     "metadata": {},
     "output_type": "execute_result"
    }
   ],
   "source": [
    "len(all_hlaI), len(inclusive_df)"
   ]
  },
  {
   "cell_type": "code",
   "execution_count": 77,
   "metadata": {
    "collapsed": false
   },
   "outputs": [
    {
     "name": "stdout",
     "output_type": "stream",
     "text": [
      "7965\n"
     ]
    }
   ],
   "source": [
    "# subset, order and output as inclusive MHC-II\n",
    "all_hlaI = all_hlaI.ix[list(inclusive_df.index)]\n",
    "print len(all_hlaI.dropna())\n",
    "all_hlaI.to_csv('/cellar/users/ramarty/Data/hla_ii/hla_types/clean/TCGA.ClassI.inclusive.csv')"
   ]
  },
  {
   "cell_type": "code",
   "execution_count": 78,
   "metadata": {
    "collapsed": false
   },
   "outputs": [
    {
     "name": "stdout",
     "output_type": "stream",
     "text": [
      "6266\n"
     ]
    }
   ],
   "source": [
    "# subset, order and output as conservative MHC-II\n",
    "all_hlaI = all_hlaI.ix[list(conservative_df.index)]\n",
    "print len(all_hlaI.dropna())\n",
    "all_hlaI.to_csv('/cellar/users/ramarty/Data/hla_ii/hla_types/clean/TCGA.ClassI.conservative.csv')"
   ]
  },
  {
   "cell_type": "markdown",
   "metadata": {},
   "source": [
    "### HLA-HD"
   ]
  },
  {
   "cell_type": "markdown",
   "metadata": {},
   "source": [
    "Comparing HLA-HD original run with HLA-HD run with hlax data"
   ]
  },
  {
   "cell_type": "code",
   "execution_count": 24,
   "metadata": {
    "collapsed": true
   },
   "outputs": [],
   "source": [
    "patient_dict_hlahd_hlax_data = pickle.load(open('/cellar/users/ramarty/Data/hla_ii/hla_types/hla_types.tcga._hlax_data.p'))"
   ]
  },
  {
   "cell_type": "code",
   "execution_count": 25,
   "metadata": {
    "collapsed": false
   },
   "outputs": [
    {
     "name": "stdout",
     "output_type": "stream",
     "text": [
      "DRB1_allele 7957 226 150\n",
      "DPB1_allele 7829 205 299\n",
      "DQB1_allele 8152 104 77\n"
     ]
    }
   ],
   "source": [
    "genes = []\n",
    "match_codes = []\n",
    "for gene in ['DRB1_allele', 'DPB1_allele', 'DQB1_allele']:\n",
    "    matched, partialmatch, nomatched = 0, 0, 0\n",
    "    for sample in [x for x in patient_dict_hlahd.keys() if x in patient_dict_hlahd_hlax_data.keys()]:\n",
    "        hd = patient_dict_hlahd[sample]\n",
    "        x = patient_dict_hlahd_hlax_data[sample]\n",
    "        compatibility = check_compatability([x[gene+'1'], x[gene+'2']],\n",
    "                               [hd[gene+'1'], hd[gene+'2']])\n",
    "        if compatibility == 'match':\n",
    "            matched += 1\n",
    "        elif compatibility == 'partialmatch':\n",
    "            partialmatch += 1\n",
    "        else: \n",
    "            nomatched += 1\n",
    "    print gene, matched, partialmatch, nomatched\n",
    "    match_codes.append([matched, partialmatch, nomatched])\n",
    "results_df = pd.DataFrame(match_codes)\n",
    "results_df.index = ['DRB1', 'DPB1', 'DQB1']\n",
    "results_df.columns = ['Both Alleles Match' , 'One Allele Matches', 'No Alleles Match']\n",
    "results_df_long = results_df.stack().reset_index()\n",
    "results_df_long.columns = ['Gene', 'Agreement', 'Patients']"
   ]
  },
  {
   "cell_type": "code",
   "execution_count": 26,
   "metadata": {
    "collapsed": false
   },
   "outputs": [
    {
     "data": {
      "text/plain": [
       "<matplotlib.legend.Legend at 0x7fd65e408d50>"
      ]
     },
     "execution_count": 26,
     "metadata": {},
     "output_type": "execute_result"
    },
    {
     "data": {
      "image/png": "[encoded data removed]",
      "text/plain": [
       "<matplotlib.figure.Figure at 0x7fd65e408250>"
      ]
     },
     "metadata": {},
     "output_type": "display_data"
    }
   ],
   "source": [
    "sns.barplot(x='Gene', y='Patients', hue='Agreement', data=results_df_long)\n",
    "plt.legend(loc=9, prop={'size': 10})"
   ]
  },
  {
   "cell_type": "code",
   "execution_count": null,
   "metadata": {
    "collapsed": true
   },
   "outputs": [],
   "source": [
    "# Slightly different... let's go with the original for both"
   ]
  },
  {
   "cell_type": "code",
   "execution_count": null,
   "metadata": {
    "collapsed": true
   },
   "outputs": [],
   "source": []
  }
 ],
 "metadata": {
  "kernelspec": {
   "display_name": "Python 2",
   "language": "python",
   "name": "python2"
  },
  "language_info": {
   "codemirror_mode": {
    "name": "ipython",
    "version": 2
   },
   "file_extension": ".py",
   "mimetype": "text/x-python",
   "name": "python",
   "nbconvert_exporter": "python",
   "pygments_lexer": "ipython2",
   "version": "2.7.14"
  }
 },
 "nbformat": 4,
 "nbformat_minor": 0
}
