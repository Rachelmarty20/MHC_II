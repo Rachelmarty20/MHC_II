{
 "cells": [
  {
   "cell_type": "code",
   "execution_count": 1,
   "metadata": {
    "collapsed": false
   },
   "outputs": [
    {
     "name": "stdout",
     "output_type": "stream",
     "text": [
      "Populating the interactive namespace from numpy and matplotlib\n",
      "Populating the interactive namespace from numpy and matplotlib\n"
     ]
    },
    {
     "name": "stderr",
     "output_type": "stream",
     "text": [
      "/cellar/users/ramarty/anaconda/lib/python2.7/site-packages/IPython/nbformat/current.py:19: UserWarning: IPython.nbformat.current is deprecated.\n",
      "\n",
      "- use IPython.nbformat for read/write/validate public API\n",
      "- use IPython.nbformat.vX directly to composing notebooks of a particular version\n",
      "\n",
      "  \"\"\")\n"
     ]
    }
   ],
   "source": [
    "import io\n",
    "from IPython.nbformat import current\n",
    "def execute_notebook(nbfile):\n",
    "    with io.open(nbfile) as f:\n",
    "        nb = current.read(f, 'json')\n",
    "    ip = get_ipython()\n",
    "    for cell in nb.worksheets[0].cells:\n",
    "        if cell.cell_type != 'code':\n",
    "            continue\n",
    "        ip.run_cell(cell.input)\n",
    "execute_notebook(\"/cellar/users/ramarty/Projects/hla_ii/bin/imports.ipynb\")\n",
    "execute_notebook(\"/cellar/users/ramarty/Projects/hla_ii/bin/samples.ipynb\")"
   ]
  },
  {
   "cell_type": "markdown",
   "metadata": {},
   "source": [
    "#### Establish available alleles"
   ]
  },
  {
   "cell_type": "code",
   "execution_count": 13,
   "metadata": {
    "collapsed": true
   },
   "outputs": [],
   "source": [
    "! /cellar/users/ramarty/programs/netMHCIIpan-3.1/netMHCIIpan -list > /cellar/users/ramarty/Data/hla_ii/presentation/other/netMHCIIpan_alleles.txt"
   ]
  },
  {
   "cell_type": "markdown",
   "metadata": {},
   "source": [
    "### Gather from /nrnb"
   ]
  },
  {
   "cell_type": "markdown",
   "metadata": {},
   "source": [
    "Work to develop script"
   ]
  },
  {
   "cell_type": "code",
   "execution_count": 2,
   "metadata": {
    "collapsed": false
   },
   "outputs": [],
   "source": [
    "lines = [x.split('\\t') for x in open('/cellar/users/ramarty/Data/hla_ii/hla_types/result/sampleID_final.result.txt').readlines()[:8]]"
   ]
  },
  {
   "cell_type": "code",
   "execution_count": 6,
   "metadata": {
    "collapsed": false
   },
   "outputs": [
    {
     "name": "stdout",
     "output_type": "stream",
     "text": [
      "A\n",
      "B\n",
      "C\n",
      "DRB1\n",
      "DQA1\n",
      "['DQA1', 'HLA-DQA1*05:01:01', 'HLA-DQA1*03:01:01\\n']\n",
      "DQB1\n",
      "['DQB1', 'HLA-DQB1*03:01:01', 'HLA-DQB1*02:01:01\\n']\n",
      "DPA1\n",
      "['DPA1', 'Not typed', 'Not typed\\n']\n",
      "DPB1\n",
      "['DPB1', 'HLA-DPB1*03:01:01', 'HLA-DPB1*20:01:01\\n']\n"
     ]
    }
   ],
   "source": [
    "patient_dictionary = {}\n",
    "for line in lines:\n",
    "    print line[0]\n",
    "    if line[0] in ['A', 'B', 'C', 'DRB1']:\n",
    "        if line[1] == 'Not typed':\n",
    "            alleles = ['-', '-']\n",
    "        elif line[2].strip() == '-':\n",
    "            x = line[1]\n",
    "            alleles = [line[0]+'_'+x.split('*')[1].split(':')[0]+x.split('*')[1].split(':')[1]]*2\n",
    "        else:\n",
    "            alleles = [line[0]+'_'+x.split('*')[1].split(':')[0]+x.split('*')[1].split(':')[1] for x in line[1:3]]\n",
    "        patient_dictionary[line[0]+'_allele1'] = alleles[0]\n",
    "        patient_dictionary[line[0]+'_allele2'] = alleles[1]\n",
    "    # combinations\n",
    "    else:\n",
    "        print line\n",
    "        if line[1] == 'Not typed':\n",
    "            alleles = ['-', '-']\n",
    "        elif line[2].strip() == '-':\n",
    "            x = line[1]\n",
    "            alleles = [line[0]+x.split('*')[1].split(':')[0]+x.split('*')[1].split(':')[1]]*2\n",
    "        else:\n",
    "            alleles = [line[0]+x.split('*')[1].split(':')[0]+x.split('*')[1].split(':')[1] for x in line[1:3]]\n",
    "        patient_dictionary[line[0]+'_allele1'] = alleles[0]\n",
    "        patient_dictionary[line[0]+'_allele2'] = alleles[1]"
   ]
  },
  {
   "cell_type": "code",
   "execution_count": 46,
   "metadata": {
    "collapsed": false
   },
   "outputs": [
    {
     "data": {
      "text/plain": [
       "{'A_allele1': 'A_1101',\n",
       " 'A_allele2': 'A_3101',\n",
       " 'B_allele1': 'B_5108',\n",
       " 'B_allele2': 'B_1801',\n",
       " 'C_allele1': 'C_1602',\n",
       " 'C_allele2': 'C_0501',\n",
       " 'DPA1_allele1': 'DPA10103',\n",
       " 'DPA1_allele2': 'DPA10103',\n",
       " 'DPB1_allele1': 'DPB10402',\n",
       " 'DPB1_allele2': 'DPB10201',\n",
       " 'DQA1_allele1': 'DQA10501',\n",
       " 'DQA1_allele2': 'DQA10102',\n",
       " 'DQB1_allele1': 'DQB10604',\n",
       " 'DQB1_allele2': 'DQB10201',\n",
       " 'DRB1_allele1': 'DRB1_1302',\n",
       " 'DRB1_allele2': 'DRB1_0301'}"
      ]
     },
     "execution_count": 46,
     "metadata": {},
     "output_type": "execute_result"
    }
   ],
   "source": [
    "patient_dictionary"
   ]
  },
  {
   "cell_type": "markdown",
   "metadata": {},
   "source": [
    "### Creating patient-allele dictionary"
   ]
  },
  {
   "cell_type": "code",
   "execution_count": 3,
   "metadata": {
    "collapsed": false
   },
   "outputs": [],
   "source": [
    "patient_types_df = pd.read_csv('/cellar/users/ramarty/Data/hla_ii/hla_types/hla_types.tcga.csv', index_col=0)\n",
    "patients = list(patient_types_df.index)"
   ]
  },
  {
   "cell_type": "code",
   "execution_count": 4,
   "metadata": {
    "collapsed": false
   },
   "outputs": [
    {
     "data": {
      "text/plain": [
       "4725"
      ]
     },
     "execution_count": 4,
     "metadata": {},
     "output_type": "execute_result"
    }
   ],
   "source": [
    "len(patient_types_df)"
   ]
  },
  {
   "cell_type": "code",
   "execution_count": 29,
   "metadata": {
    "collapsed": false
   },
   "outputs": [
    {
     "data": {
      "text/html": [
       "<div>\n",
       "<table border=\"1\" class=\"dataframe\">\n",
       "  <thead>\n",
       "    <tr style=\"text-align: right;\">\n",
       "      <th></th>\n",
       "      <th>DPA1_allele1</th>\n",
       "      <th>DPA1_allele2</th>\n",
       "      <th>DPB1_allele1</th>\n",
       "      <th>DPB1_allele2</th>\n",
       "      <th>DQA1_allele1</th>\n",
       "      <th>DQA1_allele2</th>\n",
       "      <th>DQB1_allele1</th>\n",
       "      <th>DQB1_allele2</th>\n",
       "      <th>DRB1_allele1</th>\n",
       "      <th>DRB1_allele2</th>\n",
       "    </tr>\n",
       "  </thead>\n",
       "  <tbody>\n",
       "    <tr>\n",
       "      <th>TCGA-04-1336</th>\n",
       "      <td>DPA10201</td>\n",
       "      <td>DPA10201</td>\n",
       "      <td>DPB11301</td>\n",
       "      <td>DPB10101</td>\n",
       "      <td>DQA10201</td>\n",
       "      <td>DQA10102</td>\n",
       "      <td>DQB10604</td>\n",
       "      <td>DQB10202</td>\n",
       "      <td>DRB1_1302</td>\n",
       "      <td>DRB1_0701</td>\n",
       "    </tr>\n",
       "    <tr>\n",
       "      <th>TCGA-04-1347</th>\n",
       "      <td>DPA10201</td>\n",
       "      <td>DPA10103</td>\n",
       "      <td>DPB10401</td>\n",
       "      <td>DPB11701\\n</td>\n",
       "      <td>DQA10401</td>\n",
       "      <td>DQA10201\\n</td>\n",
       "      <td>DQB10202</td>\n",
       "      <td>DQB10402</td>\n",
       "      <td>DRB1_0701</td>\n",
       "      <td>DRB1_0801</td>\n",
       "    </tr>\n",
       "    <tr>\n",
       "      <th>TCGA-04-1348</th>\n",
       "      <td>DPA10103</td>\n",
       "      <td>DPA10103</td>\n",
       "      <td>DPB10401</td>\n",
       "      <td>DPB10301</td>\n",
       "      <td>DQA10505</td>\n",
       "      <td>DQA10301</td>\n",
       "      <td>DQB10302</td>\n",
       "      <td>DQB10301</td>\n",
       "      <td>DRB1_1103</td>\n",
       "      <td>DRB1_0404</td>\n",
       "    </tr>\n",
       "    <tr>\n",
       "      <th>TCGA-04-1360</th>\n",
       "      <td>DPA10103</td>\n",
       "      <td>DPA10103</td>\n",
       "      <td>DPB10201</td>\n",
       "      <td>DPB11801\\n</td>\n",
       "      <td>DQA10101</td>\n",
       "      <td>DQA10102</td>\n",
       "      <td>DQB10501</td>\n",
       "      <td>DQB10502</td>\n",
       "      <td>DRB1_1101</td>\n",
       "      <td>DRB1_0101</td>\n",
       "    </tr>\n",
       "    <tr>\n",
       "      <th>TCGA-04-1371</th>\n",
       "      <td>DPA10201</td>\n",
       "      <td>DPA10201</td>\n",
       "      <td>DPB11301</td>\n",
       "      <td>DPB10101</td>\n",
       "      <td>DQA10505</td>\n",
       "      <td>DQA10201\\n</td>\n",
       "      <td>DQB10319</td>\n",
       "      <td>DQB10202</td>\n",
       "      <td>DRB1_0701</td>\n",
       "      <td>DRB1_1102</td>\n",
       "    </tr>\n",
       "  </tbody>\n",
       "</table>\n",
       "</div>"
      ],
      "text/plain": [
       "             DPA1_allele1 DPA1_allele2 DPB1_allele1 DPB1_allele2 DQA1_allele1  \\\n",
       "TCGA-04-1336     DPA10201     DPA10201     DPB11301     DPB10101     DQA10201   \n",
       "TCGA-04-1347     DPA10201     DPA10103     DPB10401   DPB11701\\n     DQA10401   \n",
       "TCGA-04-1348     DPA10103     DPA10103     DPB10401     DPB10301     DQA10505   \n",
       "TCGA-04-1360     DPA10103     DPA10103     DPB10201   DPB11801\\n     DQA10101   \n",
       "TCGA-04-1371     DPA10201     DPA10201     DPB11301     DPB10101     DQA10505   \n",
       "\n",
       "             DQA1_allele2 DQB1_allele1 DQB1_allele2 DRB1_allele1 DRB1_allele2  \n",
       "TCGA-04-1336     DQA10102     DQB10604     DQB10202    DRB1_1302    DRB1_0701  \n",
       "TCGA-04-1347   DQA10201\\n     DQB10202     DQB10402    DRB1_0701    DRB1_0801  \n",
       "TCGA-04-1348     DQA10301     DQB10302     DQB10301    DRB1_1103    DRB1_0404  \n",
       "TCGA-04-1360     DQA10102     DQB10501     DQB10502    DRB1_1101    DRB1_0101  \n",
       "TCGA-04-1371   DQA10201\\n     DQB10319     DQB10202    DRB1_0701    DRB1_1102  "
      ]
     },
     "execution_count": 29,
     "metadata": {},
     "output_type": "execute_result"
    }
   ],
   "source": [
    "patient_types_df.head()"
   ]
  },
  {
   "cell_type": "code",
   "execution_count": 56,
   "metadata": {
    "collapsed": false
   },
   "outputs": [
    {
     "name": "stdout",
     "output_type": "stream",
     "text": [
      "['DPA10103', 'DPA10103'] [nan, nan]\n",
      "HLA-DPA10103_nan\n",
      "HLA-DPA10103_nan\n",
      "HLA-DPA10103_nan\n",
      "HLA-DPA10103_nan\n"
     ]
    }
   ],
   "source": [
    "patient = 'TCGA-A3-3387'\n",
    "DA = list(patient_types_df.ix[patient][['DPA1_allele1', 'DPA1_allele2']])\n",
    "DB = list(patient_types_df.ix[patient][['DPB1_allele1', 'DPB1_allele2']])\n",
    "print DA, DB\n",
    "for a in DA:\n",
    "    for b in DB:\n",
    "        print 'HLA-{0}_{1}'.format(a, b)"
   ]
  },
  {
   "cell_type": "code",
   "execution_count": 46,
   "metadata": {
    "collapsed": false
   },
   "outputs": [
    {
     "data": {
      "text/plain": [
       "False"
      ]
     },
     "execution_count": 46,
     "metadata": {},
     "output_type": "execute_result"
    }
   ],
   "source": [
    "list(patient_types_df.ix[patient][['DPA1_allele1']].isnull())[0]"
   ]
  },
  {
   "cell_type": "code",
   "execution_count": 57,
   "metadata": {
    "collapsed": false,
    "scrolled": true
   },
   "outputs": [
    {
     "name": "stdout",
     "output_type": "stream",
     "text": [
      "TCGA-13-0805\n",
      "TCGA-A2-A04U\n",
      "TCGA-A2-A0T6\n",
      "TCGA-A2-A0YC\n",
      "TCGA-A2-A0YI\n",
      "TCGA-A3-3387\n",
      "TCGA-A5-A0R6\n",
      "TCGA-A5-A0R7\n",
      "TCGA-A5-A0VQ\n",
      "TCGA-A7-A13E\n",
      "TCGA-AA-3522\n",
      "TCGA-AA-3529\n",
      "TCGA-AA-A00Z\n",
      "TCGA-AA-A01V\n",
      "TCGA-AG-3600\n",
      "TCGA-AG-3726\n",
      "TCGA-AG-A020\n",
      "TCGA-AG-A036\n",
      "TCGA-AN-A0XS\n",
      "TCGA-AO-A12D\n",
      "TCGA-AR-A0U3\n",
      "TCGA-AR-A1AU\n",
      "TCGA-AX-A06J\n",
      "TCGA-B0-5695\n",
      "TCGA-B6-A0RH\n",
      "TCGA-B6-A0RQ\n",
      "TCGA-BG-A0RY\n",
      "TCGA-BH-A0B7\n",
      "TCGA-BH-A0BC\n",
      "TCGA-BH-A0BO\n",
      "TCGA-BH-A0EI\n",
      "TCGA-BH-A18I\n",
      "TCGA-BH-A18Q\n",
      "TCGA-BS-A0UL\n",
      "TCGA-BS-A0UT\n",
      "TCGA-C8-A12Z\n",
      "TCGA-C8-A131\n",
      "TCGA-CZ-5459\n",
      "TCGA-CZ-5465\n",
      "TCGA-D1-A16V\n",
      "TCGA-D1-A16Y\n",
      "TCGA-D1-A175\n",
      "TCGA-D1-A176\n",
      "TCGA-D1-A177\n",
      "TCGA-D1-A17B\n",
      "TCGA-D1-A17C\n",
      "TCGA-D1-A17D\n",
      "TCGA-D1-A17F\n",
      "TCGA-D1-A17K\n",
      "TCGA-D8-A143\n",
      "TCGA-E2-A10A\n",
      "TCGA-E2-A14T\n",
      "TCGA-E2-A156\n",
      "TCGA-E2-A15C\n",
      "TCGA-E2-A15L\n",
      "TCGA-E2-A15O\n",
      "TCGA-E2-A15R\n",
      "TCGA-E2-A1B0\n",
      "TCGA-E2-A1B1\n"
     ]
    }
   ],
   "source": [
    "dictionary = {}\n",
    "for patient in patients:\n",
    "    try:\n",
    "        # DR\n",
    "        alleles = list(patient_types_df.ix[patient][['DRB1_allele1', 'DRB1_allele2']])\n",
    "\n",
    "        # DP \n",
    "        DA = list(patient_types_df.ix[patient][['DPA1_allele1', 'DPA1_allele2']])\n",
    "        DB = list(patient_types_df.ix[patient][['DPB1_allele1', 'DPB1_allele2']])\n",
    "        for a in DA:\n",
    "            for b in DB:\n",
    "                alleles.append('HLA-{0}_{1}'.format(a.strip(), b.strip()))\n",
    "\n",
    "        # DQ\n",
    "        DA = list(patient_types_df.ix[patient][['DQA1_allele1', 'DQA1_allele2']])\n",
    "        DB = list(patient_types_df.ix[patient][['DQB1_allele1', 'DQB1_allele2']])\n",
    "        for a in DA:\n",
    "            for b in DB:\n",
    "                alleles.append('HLA-{0}_{1}'.format(a.strip(), b.strip()))\n",
    "        dictionary[patient] = alleles \n",
    "    except:\n",
    "        # weeds out the patients with the failed typing\n",
    "        print patient\n",
    "\n",
    "pickle.dump(dictionary, open('/cellar/users/ramarty/Data/hla_ii/hla_types/TCGA.HLA_classII.p', 'w'))"
   ]
  },
  {
   "cell_type": "code",
   "execution_count": 58,
   "metadata": {
    "collapsed": false,
    "scrolled": true
   },
   "outputs": [
    {
     "data": {
      "text/plain": [
       "1841"
      ]
     },
     "execution_count": 58,
     "metadata": {},
     "output_type": "execute_result"
    }
   ],
   "source": [
    "len(dictionary.keys())"
   ]
  },
  {
   "cell_type": "markdown",
   "metadata": {
    "collapsed": true
   },
   "source": [
    "### Debugging"
   ]
  },
  {
   "cell_type": "code",
   "execution_count": 2,
   "metadata": {
    "collapsed": true
   },
   "outputs": [],
   "source": [
    "df = pd.read_csv('/cellar/users/ramarty/Data/hla_ii/hla_types/hla_types.tcga.csv', index_col=0)"
   ]
  },
  {
   "cell_type": "code",
   "execution_count": 3,
   "metadata": {
    "collapsed": false
   },
   "outputs": [],
   "source": [
    "df = df.replace('-', np.nan)"
   ]
  },
  {
   "cell_type": "code",
   "execution_count": 4,
   "metadata": {
    "collapsed": false
   },
   "outputs": [
    {
     "data": {
      "text/plain": [
       "Index([u'DPA1_allele1', u'DPA1_allele2', u'DPB1_allele1', u'DPB1_allele2',\n",
       "       u'DQA1_allele1', u'DQA1_allele2', u'DQB1_allele1', u'DQB1_allele2',\n",
       "       u'DRB1_allele1', u'DRB1_allele2'],\n",
       "      dtype='object')"
      ]
     },
     "execution_count": 4,
     "metadata": {},
     "output_type": "execute_result"
    }
   ],
   "source": [
    "df.columns"
   ]
  },
  {
   "cell_type": "code",
   "execution_count": 5,
   "metadata": {
    "collapsed": false
   },
   "outputs": [
    {
     "data": {
      "text/plain": [
       "7926"
      ]
     },
     "execution_count": 5,
     "metadata": {},
     "output_type": "execute_result"
    }
   ],
   "source": [
    "len(df.dropna())"
   ]
  },
  {
   "cell_type": "code",
   "execution_count": 6,
   "metadata": {
    "collapsed": false
   },
   "outputs": [
    {
     "data": {
      "text/plain": [
       "8257"
      ]
     },
     "execution_count": 6,
     "metadata": {},
     "output_type": "execute_result"
    }
   ],
   "source": [
    "len(df[['DRB1_allele1', 'DRB1_allele2']].dropna())"
   ]
  },
  {
   "cell_type": "code",
   "execution_count": null,
   "metadata": {
    "collapsed": true
   },
   "outputs": [],
   "source": []
  }
 ],
 "metadata": {
  "kernelspec": {
   "display_name": "Python 2",
   "language": "python",
   "name": "python2"
  },
  "language_info": {
   "codemirror_mode": {
    "name": "ipython",
    "version": 2
   },
   "file_extension": ".py",
   "mimetype": "text/x-python",
   "name": "python",
   "nbconvert_exporter": "python",
   "pygments_lexer": "ipython2",
   "version": "2.7.12"
  }
 },
 "nbformat": 4,
 "nbformat_minor": 0
}
