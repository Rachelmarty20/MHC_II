{
 "cells": [
  {
   "cell_type": "code",
   "execution_count": 17,
   "metadata": {
    "collapsed": false,
    "scrolled": false
   },
   "outputs": [
    {
     "name": "stdout",
     "output_type": "stream",
     "text": [
      "Populating the interactive namespace from numpy and matplotlib\n"
     ]
    }
   ],
   "source": [
    "import io\n",
    "from IPython.nbformat import current\n",
    "def execute_notebook(nbfile):\n",
    "    with io.open(nbfile) as f:\n",
    "        nb = current.read(f, 'json')\n",
    "    ip = get_ipython()\n",
    "    for cell in nb.worksheets[0].cells:\n",
    "        if cell.cell_type != 'code':\n",
    "            continue\n",
    "        ip.run_cell(cell.input)\n",
    "execute_notebook(\"../../bin/imports.ipynb\")"
   ]
  },
  {
   "cell_type": "code",
   "execution_count": 18,
   "metadata": {
    "collapsed": false
   },
   "outputs": [
    {
     "data": {
      "text/plain": [
       "9408"
      ]
     },
     "execution_count": 18,
     "metadata": {},
     "output_type": "execute_result"
    }
   ],
   "source": [
    "MHCI_typed = list(set(list(pd.read_csv('/cellar/users/ramarty/Data/hla/git_data/data/hla_typing/hla_types.csv').Sample) \\\n",
    "                      + list(pd.read_csv('/cellar/users/ramarty/Data/hla_ii/hla_types/clean/TCGA.ClassI.inclusive.csv',\n",
    "                                        index_col=0).index)))\n",
    "len(MHCI_typed)"
   ]
  },
  {
   "cell_type": "code",
   "execution_count": 19,
   "metadata": {
    "collapsed": false
   },
   "outputs": [
    {
     "data": {
      "text/plain": [
       "7929"
      ]
     },
     "execution_count": 19,
     "metadata": {},
     "output_type": "execute_result"
    }
   ],
   "source": [
    "MHCII_typed_all = list(pd.read_csv('/cellar/users/ramarty/Data/hla_ii/hla_types/clean/TCGA.ClassII.HLA-HD.csv', \n",
    "                                  index_col=0).index)\n",
    "len(MHCII_typed_all)"
   ]
  },
  {
   "cell_type": "code",
   "execution_count": 20,
   "metadata": {
    "collapsed": false
   },
   "outputs": [
    {
     "data": {
      "text/plain": [
       "6266"
      ]
     },
     "execution_count": 20,
     "metadata": {},
     "output_type": "execute_result"
    }
   ],
   "source": [
    "validated = list(pd.read_csv('/cellar/users/ramarty/Data/hla_ii/hla_types/clean/TCGA.ClassII.conservative.csv', \n",
    "                                  index_col=0).index)\n",
    "len(validated)"
   ]
  },
  {
   "cell_type": "code",
   "execution_count": 21,
   "metadata": {
    "collapsed": false
   },
   "outputs": [
    {
     "data": {
      "text/plain": [
       "5942"
      ]
     },
     "execution_count": 21,
     "metadata": {},
     "output_type": "execute_result"
    }
   ],
   "source": [
    "MHCII_typed_aff = list(pd.read_csv('/cellar/users/ramarty/Data/hla_ii/presentation/clean_matrices/patient_affinities.cancer.TCGA.conservative.mut.ClassII.csv', \n",
    "                                  index_col=0).index)\n",
    "len(MHCII_typed_aff)"
   ]
  },
  {
   "cell_type": "code",
   "execution_count": 22,
   "metadata": {
    "collapsed": false
   },
   "outputs": [
    {
     "data": {
      "text/plain": [
       "7929"
      ]
     },
     "execution_count": 22,
     "metadata": {},
     "output_type": "execute_result"
    }
   ],
   "source": [
    "len([x for x in MHCII_typed_all if x in MHCI_typed])"
   ]
  },
  {
   "cell_type": "code",
   "execution_count": 23,
   "metadata": {
    "collapsed": true
   },
   "outputs": [],
   "source": [
    "all_patients = list(set(MHCII_typed_all + MHCI_typed))"
   ]
  },
  {
   "cell_type": "code",
   "execution_count": 26,
   "metadata": {
    "collapsed": false
   },
   "outputs": [],
   "source": [
    "binary_lists = [[], [], [], []]\n",
    "\n",
    "for patient in all_patients:\n",
    "    if patient in MHCII_typed_all:\n",
    "        binary_lists[0].append(1)\n",
    "    else:\n",
    "        binary_lists[0].append(0)\n",
    "        \n",
    "    if patient in MHCII_typed_aff:\n",
    "        binary_lists[1].append(1)\n",
    "    else:\n",
    "        binary_lists[1].append(0)\n",
    "        \n",
    "    if patient in MHCI_typed:\n",
    "        binary_lists[2].append(1)\n",
    "    else:\n",
    "        binary_lists[2].append(0)\n",
    "        \n",
    "    if patient in validated:\n",
    "        binary_lists[3].append(1)\n",
    "    else:\n",
    "        binary_lists[3].append(0)\n",
    "        "
   ]
  },
  {
   "cell_type": "code",
   "execution_count": 27,
   "metadata": {
    "collapsed": false
   },
   "outputs": [],
   "source": [
    "hla_typed = pd.DataFrame({'Patient': all_patients,\n",
    "              'MHC-I Typed': binary_lists[2],\n",
    "              'MHC-II Typed': binary_lists[0],\n",
    "              'Validated by xHLA': binary_lists[3],\n",
    "                'MHC-II Typed w/ Affinity Predictions': binary_lists[1]})\n",
    "hla_typed = hla_typed[['Patient', 'MHC-I Typed', 'MHC-II Typed', 'Validated by xHLA', 'MHC-II Typed w/ Affinity Predictions']]"
   ]
  },
  {
   "cell_type": "markdown",
   "metadata": {
    "collapsed": true
   },
   "source": [
    "Output to excel table"
   ]
  },
  {
   "cell_type": "code",
   "execution_count": 28,
   "metadata": {
    "collapsed": true
   },
   "outputs": [],
   "source": [
    "from pandas import ExcelWriter\n",
    "writer = ExcelWriter('/cellar/users/ramarty/Data/hla_ii/generated_data/tables/HLA_typing.xlsx')\n",
    "hla_typed.to_excel(writer,'Patients with HLA Typing', index=False)\n",
    "writer.save()"
   ]
  },
  {
   "cell_type": "markdown",
   "metadata": {
    "collapsed": true
   },
   "source": [
    "Gathering numbers for manuscript"
   ]
  },
  {
   "cell_type": "code",
   "execution_count": 31,
   "metadata": {
    "collapsed": true
   },
   "outputs": [],
   "source": [
    "df = pd.read_csv('/cellar/users/ramarty/Data/hla_ii/hla_types/clean/TCGA.ClassII.HLA-HD.csv', \n",
    "                                  index_col=0)"
   ]
  },
  {
   "cell_type": "code",
   "execution_count": 33,
   "metadata": {
    "collapsed": false
   },
   "outputs": [
    {
     "data": {
      "text/plain": [
       "(7929, 10)"
      ]
     },
     "execution_count": 33,
     "metadata": {},
     "output_type": "execute_result"
    }
   ],
   "source": [
    "df.shape"
   ]
  },
  {
   "cell_type": "code",
   "execution_count": 34,
   "metadata": {
    "collapsed": false
   },
   "outputs": [
    {
     "data": {
      "text/plain": [
       "(7929, 10)"
      ]
     },
     "execution_count": 34,
     "metadata": {},
     "output_type": "execute_result"
    }
   ],
   "source": [
    "df.dropna().shape"
   ]
  },
  {
   "cell_type": "code",
   "execution_count": null,
   "metadata": {
    "collapsed": true
   },
   "outputs": [],
   "source": []
  }
 ],
 "metadata": {
  "kernelspec": {
   "display_name": "Python 2",
   "language": "python",
   "name": "python2"
  },
  "language_info": {
   "codemirror_mode": {
    "name": "ipython",
    "version": 2
   },
   "file_extension": ".py",
   "mimetype": "text/x-python",
   "name": "python",
   "nbconvert_exporter": "python",
   "pygments_lexer": "ipython2",
   "version": "2.7.14"
  }
 },
 "nbformat": 4,
 "nbformat_minor": 0
}
