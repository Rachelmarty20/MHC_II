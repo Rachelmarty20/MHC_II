{
 "cells": [
  {
   "cell_type": "code",
   "execution_count": 44,
   "metadata": {
    "collapsed": false
   },
   "outputs": [
    {
     "name": "stdout",
     "output_type": "stream",
     "text": [
      "Populating the interactive namespace from numpy and matplotlib\n"
     ]
    },
    {
     "name": "stderr",
     "output_type": "stream",
     "text": [
      "WARNING: pylab import has clobbered these variables: ['f', 'number']\n",
      "`%matplotlib` prevents importing * from pylab and numpy\n"
     ]
    }
   ],
   "source": [
    "import io\n",
    "from IPython.nbformat import current\n",
    "def execute_notebook(nbfile):\n",
    "    with io.open(nbfile) as f:\n",
    "        nb = current.read(f, 'json')\n",
    "    ip = get_ipython()\n",
    "    for cell in nb.worksheets[0].cells:\n",
    "        if cell.cell_type != 'code':\n",
    "            continue\n",
    "        ip.run_cell(cell.input)\n",
    "execute_notebook(\"../../../bin/imports.ipynb\")\n",
    "execute_notebook(\"/cellar/users/ramarty/Projects/hla_ii/bin/gathering_affinities.ipynb\")"
   ]
  },
  {
   "cell_type": "markdown",
   "metadata": {},
   "source": [
    "###Patient tumors"
   ]
  },
  {
   "cell_type": "code",
   "execution_count": 2,
   "metadata": {
    "collapsed": false
   },
   "outputs": [],
   "source": [
    "fs = [x for x in os.listdir('/cellar/data/TCGA/Firehose__2015_06_01/CNV') if x[:4] != 'TCGA']\n",
    "all_dfs = []\n",
    "for f in fs:\n",
    "    df = pd.read_csv('/cellar/data/TCGA/Firehose__2015_06_01/CNV/{0}/all_data_by_genes.txt'.format(f),\n",
    "                sep='\\t')\n",
    "    df.index = df['Gene Symbol']\n",
    "    df = df.drop(['Gene Symbol', 'Locus ID', 'Cytoband'], axis=1)\n",
    "    all_dfs.append(df.transpose())"
   ]
  },
  {
   "cell_type": "code",
   "execution_count": 40,
   "metadata": {
    "collapsed": true
   },
   "outputs": [],
   "source": [
    "df = pd.concat(all_dfs)"
   ]
  },
  {
   "cell_type": "code",
   "execution_count": 27,
   "metadata": {
    "collapsed": true
   },
   "outputs": [],
   "source": [
    "# get patients we are using\n",
    "patient_mutations = pd.read_csv('/cellar/users/ramarty/Data/hla_ii/presentation/clean_matrices/patient_mutations.cancer.TCGA.inclusive.mut.csv',\n",
    "                                index_col=0)"
   ]
  },
  {
   "cell_type": "code",
   "execution_count": 41,
   "metadata": {
    "collapsed": false
   },
   "outputs": [],
   "source": [
    "patients = list(patient_mutations.index)"
   ]
  },
  {
   "cell_type": "code",
   "execution_count": 42,
   "metadata": {
    "collapsed": false
   },
   "outputs": [],
   "source": [
    "def get_barcode(x):\n",
    "    return x[:12]\n",
    "df.index = pd.Series(df.index).apply(get_barcode)"
   ]
  },
  {
   "cell_type": "code",
   "execution_count": 43,
   "metadata": {
    "collapsed": false
   },
   "outputs": [],
   "source": [
    "df = df[~df.index.duplicated(keep='first')]"
   ]
  },
  {
   "cell_type": "code",
   "execution_count": 44,
   "metadata": {
    "collapsed": false
   },
   "outputs": [
    {
     "data": {
      "text/plain": [
       "(10844, 24776)"
      ]
     },
     "execution_count": 44,
     "metadata": {},
     "output_type": "execute_result"
    }
   ],
   "source": [
    "df.shape"
   ]
  },
  {
   "cell_type": "code",
   "execution_count": 45,
   "metadata": {
    "collapsed": false
   },
   "outputs": [
    {
     "data": {
      "text/html": [
       "<div>\n",
       "<table border=\"1\" class=\"dataframe\">\n",
       "  <thead>\n",
       "    <tr style=\"text-align: right;\">\n",
       "      <th></th>\n",
       "      <th>7SK|ENSG00000232512.2</th>\n",
       "      <th>7SK|ENSG00000249352.3</th>\n",
       "      <th>7SK|ENSG00000254144.2</th>\n",
       "      <th>7SK|ENSG00000260682.2</th>\n",
       "      <th>7SK|ENSG00000271765.1</th>\n",
       "      <th>7SK|ENSG00000271814.1</th>\n",
       "      <th>7SK|ENSG00000271818.1</th>\n",
       "      <th>A1BG</th>\n",
       "      <th>A1CF</th>\n",
       "      <th>A2M</th>\n",
       "      <th>...</th>\n",
       "      <th>snoZ185</th>\n",
       "      <th>snoZ247</th>\n",
       "      <th>snoZ278</th>\n",
       "      <th>snoZ40</th>\n",
       "      <th>snoZ5</th>\n",
       "      <th>snoZ6|ENSG00000252200.1</th>\n",
       "      <th>snoZ6|ENSG00000253067.1</th>\n",
       "      <th>snoZ6|ENSG00000264452.1</th>\n",
       "      <th>snoZ6|ENSG00000266692.1</th>\n",
       "      <th>snosnR66</th>\n",
       "    </tr>\n",
       "  </thead>\n",
       "  <tbody>\n",
       "    <tr>\n",
       "      <th>TCGA-2K-A9WE</th>\n",
       "      <td>0.202</td>\n",
       "      <td>0.229</td>\n",
       "      <td>-0.017</td>\n",
       "      <td>0.221</td>\n",
       "      <td>-0.032</td>\n",
       "      <td>0.073</td>\n",
       "      <td>0.000</td>\n",
       "      <td>-0.019</td>\n",
       "      <td>-0.017</td>\n",
       "      <td>0.229</td>\n",
       "      <td>...</td>\n",
       "      <td>0.386</td>\n",
       "      <td>0.011</td>\n",
       "      <td>-0.009</td>\n",
       "      <td>0.209</td>\n",
       "      <td>0.011</td>\n",
       "      <td>-0.019</td>\n",
       "      <td>0.232</td>\n",
       "      <td>0.202</td>\n",
       "      <td>0.202</td>\n",
       "      <td>-0.005</td>\n",
       "    </tr>\n",
       "    <tr>\n",
       "      <th>TCGA-2Z-A9J1</th>\n",
       "      <td>-0.026</td>\n",
       "      <td>-0.004</td>\n",
       "      <td>-0.014</td>\n",
       "      <td>0.680</td>\n",
       "      <td>0.000</td>\n",
       "      <td>0.146</td>\n",
       "      <td>0.713</td>\n",
       "      <td>-0.056</td>\n",
       "      <td>-0.022</td>\n",
       "      <td>0.663</td>\n",
       "      <td>...</td>\n",
       "      <td>0.740</td>\n",
       "      <td>0.008</td>\n",
       "      <td>-0.043</td>\n",
       "      <td>0.018</td>\n",
       "      <td>0.008</td>\n",
       "      <td>-0.056</td>\n",
       "      <td>-0.004</td>\n",
       "      <td>-0.040</td>\n",
       "      <td>-0.040</td>\n",
       "      <td>-0.014</td>\n",
       "    </tr>\n",
       "    <tr>\n",
       "      <th>TCGA-2Z-A9J2</th>\n",
       "      <td>-0.028</td>\n",
       "      <td>-0.019</td>\n",
       "      <td>0.634</td>\n",
       "      <td>0.016</td>\n",
       "      <td>-0.025</td>\n",
       "      <td>-0.352</td>\n",
       "      <td>-0.007</td>\n",
       "      <td>-0.006</td>\n",
       "      <td>0.000</td>\n",
       "      <td>0.673</td>\n",
       "      <td>...</td>\n",
       "      <td>-0.008</td>\n",
       "      <td>0.004</td>\n",
       "      <td>-0.050</td>\n",
       "      <td>0.700</td>\n",
       "      <td>0.004</td>\n",
       "      <td>-0.006</td>\n",
       "      <td>-0.019</td>\n",
       "      <td>-0.028</td>\n",
       "      <td>-0.028</td>\n",
       "      <td>-0.003</td>\n",
       "    </tr>\n",
       "    <tr>\n",
       "      <th>TCGA-2Z-A9J3</th>\n",
       "      <td>0.004</td>\n",
       "      <td>-0.021</td>\n",
       "      <td>0.857</td>\n",
       "      <td>0.945</td>\n",
       "      <td>-0.027</td>\n",
       "      <td>0.200</td>\n",
       "      <td>-0.016</td>\n",
       "      <td>0.015</td>\n",
       "      <td>-0.006</td>\n",
       "      <td>-0.002</td>\n",
       "      <td>...</td>\n",
       "      <td>2.497</td>\n",
       "      <td>0.004</td>\n",
       "      <td>0.016</td>\n",
       "      <td>-0.049</td>\n",
       "      <td>0.004</td>\n",
       "      <td>0.015</td>\n",
       "      <td>-0.021</td>\n",
       "      <td>0.004</td>\n",
       "      <td>0.004</td>\n",
       "      <td>0.002</td>\n",
       "    </tr>\n",
       "    <tr>\n",
       "      <th>TCGA-2Z-A9J5</th>\n",
       "      <td>-0.002</td>\n",
       "      <td>-0.017</td>\n",
       "      <td>-0.021</td>\n",
       "      <td>0.642</td>\n",
       "      <td>-0.014</td>\n",
       "      <td>0.153</td>\n",
       "      <td>-0.003</td>\n",
       "      <td>-0.011</td>\n",
       "      <td>0.000</td>\n",
       "      <td>0.629</td>\n",
       "      <td>...</td>\n",
       "      <td>0.627</td>\n",
       "      <td>0.485</td>\n",
       "      <td>0.002</td>\n",
       "      <td>0.616</td>\n",
       "      <td>0.485</td>\n",
       "      <td>-0.011</td>\n",
       "      <td>-0.017</td>\n",
       "      <td>-0.002</td>\n",
       "      <td>-0.002</td>\n",
       "      <td>-0.010</td>\n",
       "    </tr>\n",
       "  </tbody>\n",
       "</table>\n",
       "<p>5 rows × 24776 columns</p>\n",
       "</div>"
      ],
      "text/plain": [
       "              7SK|ENSG00000232512.2  7SK|ENSG00000249352.3  \\\n",
       "TCGA-2K-A9WE                  0.202                  0.229   \n",
       "TCGA-2Z-A9J1                 -0.026                 -0.004   \n",
       "TCGA-2Z-A9J2                 -0.028                 -0.019   \n",
       "TCGA-2Z-A9J3                  0.004                 -0.021   \n",
       "TCGA-2Z-A9J5                 -0.002                 -0.017   \n",
       "\n",
       "              7SK|ENSG00000254144.2  7SK|ENSG00000260682.2  \\\n",
       "TCGA-2K-A9WE                 -0.017                  0.221   \n",
       "TCGA-2Z-A9J1                 -0.014                  0.680   \n",
       "TCGA-2Z-A9J2                  0.634                  0.016   \n",
       "TCGA-2Z-A9J3                  0.857                  0.945   \n",
       "TCGA-2Z-A9J5                 -0.021                  0.642   \n",
       "\n",
       "              7SK|ENSG00000271765.1  7SK|ENSG00000271814.1  \\\n",
       "TCGA-2K-A9WE                 -0.032                  0.073   \n",
       "TCGA-2Z-A9J1                  0.000                  0.146   \n",
       "TCGA-2Z-A9J2                 -0.025                 -0.352   \n",
       "TCGA-2Z-A9J3                 -0.027                  0.200   \n",
       "TCGA-2Z-A9J5                 -0.014                  0.153   \n",
       "\n",
       "              7SK|ENSG00000271818.1   A1BG   A1CF    A2M    ...     snoZ185  \\\n",
       "TCGA-2K-A9WE                  0.000 -0.019 -0.017  0.229    ...       0.386   \n",
       "TCGA-2Z-A9J1                  0.713 -0.056 -0.022  0.663    ...       0.740   \n",
       "TCGA-2Z-A9J2                 -0.007 -0.006  0.000  0.673    ...      -0.008   \n",
       "TCGA-2Z-A9J3                 -0.016  0.015 -0.006 -0.002    ...       2.497   \n",
       "TCGA-2Z-A9J5                 -0.003 -0.011  0.000  0.629    ...       0.627   \n",
       "\n",
       "              snoZ247  snoZ278  snoZ40  snoZ5  snoZ6|ENSG00000252200.1  \\\n",
       "TCGA-2K-A9WE    0.011   -0.009   0.209  0.011                   -0.019   \n",
       "TCGA-2Z-A9J1    0.008   -0.043   0.018  0.008                   -0.056   \n",
       "TCGA-2Z-A9J2    0.004   -0.050   0.700  0.004                   -0.006   \n",
       "TCGA-2Z-A9J3    0.004    0.016  -0.049  0.004                    0.015   \n",
       "TCGA-2Z-A9J5    0.485    0.002   0.616  0.485                   -0.011   \n",
       "\n",
       "              snoZ6|ENSG00000253067.1  snoZ6|ENSG00000264452.1  \\\n",
       "TCGA-2K-A9WE                    0.232                    0.202   \n",
       "TCGA-2Z-A9J1                   -0.004                   -0.040   \n",
       "TCGA-2Z-A9J2                   -0.019                   -0.028   \n",
       "TCGA-2Z-A9J3                   -0.021                    0.004   \n",
       "TCGA-2Z-A9J5                   -0.017                   -0.002   \n",
       "\n",
       "              snoZ6|ENSG00000266692.1  snosnR66  \n",
       "TCGA-2K-A9WE                    0.202    -0.005  \n",
       "TCGA-2Z-A9J1                   -0.040    -0.014  \n",
       "TCGA-2Z-A9J2                   -0.028    -0.003  \n",
       "TCGA-2Z-A9J3                    0.004     0.002  \n",
       "TCGA-2Z-A9J5                   -0.002    -0.010  \n",
       "\n",
       "[5 rows x 24776 columns]"
      ]
     },
     "execution_count": 45,
     "metadata": {},
     "output_type": "execute_result"
    }
   ],
   "source": [
    "df.head()"
   ]
  },
  {
   "cell_type": "code",
   "execution_count": 48,
   "metadata": {
    "collapsed": false
   },
   "outputs": [],
   "source": [
    "df = df.ix[[x for x in patients if x in list(df.index)]]"
   ]
  },
  {
   "cell_type": "code",
   "execution_count": 49,
   "metadata": {
    "collapsed": false
   },
   "outputs": [
    {
     "data": {
      "text/plain": [
       "(7027, 24776)"
      ]
     },
     "execution_count": 49,
     "metadata": {},
     "output_type": "execute_result"
    }
   ],
   "source": [
    "df.shape"
   ]
  },
  {
   "cell_type": "code",
   "execution_count": 50,
   "metadata": {
    "collapsed": false,
    "scrolled": true
   },
   "outputs": [],
   "source": [
    "df.to_csv('/cellar/users/ramarty/Data/hla_ii/clinical/CNV.TCGA.gistic2.csv')"
   ]
  },
  {
   "cell_type": "markdown",
   "metadata": {
    "collapsed": true
   },
   "source": [
    "###Tissue type peaks; find overlapping"
   ]
  },
  {
   "cell_type": "code",
   "execution_count": 23,
   "metadata": {
    "collapsed": false
   },
   "outputs": [],
   "source": [
    "tissues_to_accept = ['GBM','LUAD','LUSC','BLCA','PAAD','COAD','STAD','SKCM'] +  \\\n",
    "                    ['THCA','HNSC','READ','LGG', 'BRCA','OV','PRAD']"
   ]
  },
  {
   "cell_type": "code",
   "execution_count": 45,
   "metadata": {
    "collapsed": false
   },
   "outputs": [
    {
     "name": "stderr",
     "output_type": "stream",
     "text": [
      "/cellar/users/ramarty/anaconda/lib/python2.7/site-packages/Bio/Seq.py:341: BiopythonDeprecationWarning: This method is obsolete; please use str(my_seq) instead of my_seq.tostring().\n",
      "  BiopythonDeprecationWarning)\n"
     ]
    }
   ],
   "source": [
    "ensemble = gather_protein_sequences_all()\n",
    "def check_gene(gene):\n",
    "    if gene in list(ensemble.gene):\n",
    "        return True\n",
    "    else:\n",
    "        return False"
   ]
  },
  {
   "cell_type": "code",
   "execution_count": 67,
   "metadata": {
    "collapsed": false
   },
   "outputs": [
    {
     "name": "stdout",
     "output_type": "stream",
     "text": [
      "4881\n",
      "3750\n",
      "12\n"
     ]
    }
   ],
   "source": [
    "# deleted\n",
    "fs = [x for x in os.listdir('/cellar/data/TCGA/Firehose__2015_06_01/CNV') if x[:4] != 'TCGA']\n",
    "tissue_peak_dict = {}\n",
    "for f in fs:\n",
    "    tissue = f.split('_')[1].split('-')[0]\n",
    "    if tissue in tissues_to_accept:\n",
    "        df = pd.read_csv('/cellar/data/TCGA/Firehose__2015_06_01/CNV/{0}/table_del.conf_99.txt'.format(f),\n",
    "                    sep='\\t')\n",
    "        string_of_genes = ''\n",
    "        for number, genes in zip(list(df.n_genes_in_peak), list(df.genes_in_peak)):\n",
    "            if number > 0:\n",
    "                string_of_genes += genes\n",
    "        tissue_peak_dict[tissue] = string_of_genes.split(',')[:-1]\n",
    "all_genes = []\n",
    "for tissue in tissue_peak_dict.keys():\n",
    "    all_genes.extend(tissue_peak_dict[tissue])\n",
    "print len(all_genes)\n",
    "all_genes = list(set(all_genes))\n",
    "print len(all_genes)\n",
    "gene_dictionary = {}\n",
    "for gene in all_genes:\n",
    "    count = 0\n",
    "    for tissue in tissue_peak_dict.keys():\n",
    "        if gene in tissue_peak_dict[tissue]:\n",
    "            count += 1\n",
    "    gene_dictionary[gene] = count\n",
    "cnv_count = pd.DataFrame.from_dict(gene_dictionary, orient='index').reset_index()\n",
    "cnv_count.columns = ['gene', 'cnv']\n",
    "amped_genes = []\n",
    "for gene in cnv_count.sort_values('cnv', ascending=False).gene[:30]:\n",
    "    if check_gene(gene):\n",
    "        amped_genes.append(gene)\n",
    "print len(amped_genes)\n",
    "with open('/cellar/users/ramarty/Data/hla_ii/generated_data/mutations/deleted_genes.txt', 'w') as f:\n",
    "    for gene in amped_genes[:10]:\n",
    "        f.write('{0}\\n'.format(gene))"
   ]
  },
  {
   "cell_type": "code",
   "execution_count": 68,
   "metadata": {
    "collapsed": false
   },
   "outputs": [
    {
     "name": "stdout",
     "output_type": "stream",
     "text": [
      "989\n",
      "796\n",
      "26\n"
     ]
    }
   ],
   "source": [
    "# amplified\n",
    "fs = [x for x in os.listdir('/cellar/data/TCGA/Firehose__2015_06_01/CNV') if x[:4] != 'TCGA']\n",
    "tissue_peak_dict = {}\n",
    "for f in fs:\n",
    "    tissue = f.split('_')[1].split('-')[0]\n",
    "    if tissue in tissues_to_accept:\n",
    "        df = pd.read_csv('/cellar/data/TCGA/Firehose__2015_06_01/CNV/{0}/table_amp.conf_99.txt'.format(f),\n",
    "                    sep='\\t')\n",
    "        string_of_genes = ''\n",
    "        for number, genes in zip(list(df.n_genes_in_peak), list(df.genes_in_peak)):\n",
    "            if number > 0:\n",
    "                string_of_genes += genes\n",
    "        tissue_peak_dict[tissue] = string_of_genes.split(',')[:-1]\n",
    "all_genes = []\n",
    "for tissue in tissue_peak_dict.keys():\n",
    "    all_genes.extend(tissue_peak_dict[tissue])\n",
    "print len(all_genes)\n",
    "all_genes = list(set(all_genes))\n",
    "print len(all_genes)\n",
    "gene_dictionary = {}\n",
    "for gene in all_genes:\n",
    "    count = 0\n",
    "    for tissue in tissue_peak_dict.keys():\n",
    "        if gene in tissue_peak_dict[tissue]:\n",
    "            count += 1\n",
    "    gene_dictionary[gene] = count\n",
    "cnv_count = pd.DataFrame.from_dict(gene_dictionary, orient='index').reset_index()\n",
    "cnv_count.columns = ['gene', 'cnv']\n",
    "amped_genes = []\n",
    "for gene in cnv_count.sort_values('cnv', ascending=False).gene[:30]:\n",
    "    if check_gene(gene):\n",
    "        amped_genes.append(gene)\n",
    "print len(amped_genes)\n",
    "with open('/cellar/users/ramarty/Data/hla_ii/generated_data/mutations/amplified_genes.txt', 'w') as f:\n",
    "    for gene in amped_genes[:10]:\n",
    "        f.write('{0}\\n'.format(gene))"
   ]
  },
  {
   "cell_type": "code",
   "execution_count": null,
   "metadata": {
    "collapsed": true
   },
   "outputs": [],
   "source": []
  }
 ],
 "metadata": {
  "kernelspec": {
   "display_name": "Python 2",
   "language": "python",
   "name": "python2"
  },
  "language_info": {
   "codemirror_mode": {
    "name": "ipython",
    "version": 2
   },
   "file_extension": ".py",
   "mimetype": "text/x-python",
   "name": "python",
   "nbconvert_exporter": "python",
   "pygments_lexer": "ipython2",
   "version": "2.7.14"
  }
 },
 "nbformat": 4,
 "nbformat_minor": 0
}
