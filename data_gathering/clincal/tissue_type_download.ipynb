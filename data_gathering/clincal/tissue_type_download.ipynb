{
 "cells": [
  {
   "cell_type": "code",
   "execution_count": 2,
   "metadata": {
    "collapsed": false
   },
   "outputs": [
    {
     "name": "stdout",
     "output_type": "stream",
     "text": [
      "Populating the interactive namespace from numpy and matplotlib\n"
     ]
    }
   ],
   "source": [
    "import io\n",
    "from IPython.nbformat import current\n",
    "def execute_notebook(nbfile):\n",
    "    with io.open(nbfile) as f:\n",
    "        nb = current.read(f, 'json')\n",
    "    ip = get_ipython()\n",
    "    for cell in nb.worksheets[0].cells:\n",
    "        if cell.cell_type != 'code':\n",
    "            continue\n",
    "        ip.run_cell(cell.input)\n",
    "execute_notebook(\"/cellar/users/ramarty/Projects/hla_ii/bin/imports.ipynb\")"
   ]
  },
  {
   "cell_type": "markdown",
   "metadata": {},
   "source": [
    "### Pull a current version of all patient tissue types"
   ]
  },
  {
   "cell_type": "markdown",
   "metadata": {},
   "source": [
    "(didn't finish running this because my original file is the same size... what patients are missing?)"
   ]
  },
  {
   "cell_type": "markdown",
   "metadata": {},
   "source": [
    "Starting at https://portal.gdc.cancer.gov/repository?filters=%7B%22op%22%3A%22and%22%2C%22content%22%3A%5B%7B%22op%22%3A%22in%22%2C%22content%22%3A%7B%22field%22%3A%22files.access%22%2C%22value%22%3A%5B%22open%22%5D%7D%7D%2C%7B%22op%22%3A%22in%22%2C%22content%22%3A%7B%22field%22%3A%22files.data_category%22%2C%22value%22%3A%5B%22Clinical%22%5D%7D%7D%2C%7B%22op%22%3A%22in%22%2C%22content%22%3A%7B%22field%22%3A%22files.data_type%22%2C%22value%22%3A%5B%22Clinical%20Supplement%22%5D%7D%7D%5D%7D <br>\n",
    "and downloading the manifest"
   ]
  },
  {
   "cell_type": "markdown",
   "metadata": {},
   "source": [
    "Saving the manifest as: /cellar/users/ramarty/Data/hla_ii/clinical/tissue_type/gdc_manifest.2017-12-08T18-43-48.070366.txt"
   ]
  },
  {
   "cell_type": "code",
   "execution_count": 17,
   "metadata": {
    "collapsed": false
   },
   "outputs": [],
   "source": [
    "df = pd.read_csv('/cellar/users/ramarty/Data/hla_ii/clinical/tissue_type/gdc_manifest.2017-12-08T18-43-48.070366.txt', sep='\\t')"
   ]
  },
  {
   "cell_type": "code",
   "execution_count": 21,
   "metadata": {
    "collapsed": false
   },
   "outputs": [
    {
     "data": {
      "text/plain": [
       "11211"
      ]
     },
     "execution_count": 21,
     "metadata": {},
     "output_type": "execute_result"
    }
   ],
   "source": [
    "len(df)"
   ]
  },
  {
   "cell_type": "code",
   "execution_count": 18,
   "metadata": {
    "collapsed": false
   },
   "outputs": [],
   "source": [
    "def get_barcode(x):\n",
    "    try:\n",
    "        return x.split('.')[2][:12]\n",
    "    except:\n",
    "        return 'fail'\n",
    "df['barcode'] = df.filename.apply(get_barcode)\n",
    "#df = df[df.barcode != 'fail']\n",
    "#df = df.drop_duplicates('barcode')"
   ]
  },
  {
   "cell_type": "code",
   "execution_count": 20,
   "metadata": {
    "collapsed": false,
    "scrolled": false
   },
   "outputs": [
    {
     "data": {
      "text/plain": [
       "2354    TARGET_RT_ClinicalData_Validation_20150710_pub...\n",
       "2628                TARGET_AML_ClinicalData_20160714.xlsx\n",
       "2896           TARGET_MDLS-NBL_ClinicalData_20151124.xlsx\n",
       "3361        TARGET_CCSK_ClinicalData_20160714_public.xlsx\n",
       "4169    TARGET_WT_ClinicalData_Discovery_20160714_publ...\n",
       "4451    TARGET_WT_ClinicalData_Validation_20160714_pub...\n",
       "6367       TARGET_OS_ClinicalData_Discovery_20150729.xlsx\n",
       "7442    TARGET_RT_ClinicalData_Discovery_20150710_publ...\n",
       "9039      TARGET_OS_ClinicalData_Validation_20160401.xlsx\n",
       "Name: filename, dtype: object"
      ]
     },
     "execution_count": 20,
     "metadata": {},
     "output_type": "execute_result"
    }
   ],
   "source": [
    "df[df.barcode == 'fail'].filename"
   ]
  },
  {
   "cell_type": "code",
   "execution_count": 14,
   "metadata": {
    "collapsed": false
   },
   "outputs": [
    {
     "data": {
      "text/plain": [
       "10962"
      ]
     },
     "execution_count": 14,
     "metadata": {},
     "output_type": "execute_result"
    }
   ],
   "source": [
    "len(df)"
   ]
  },
  {
   "cell_type": "code",
   "execution_count": null,
   "metadata": {
    "collapsed": true
   },
   "outputs": [],
   "source": [
    "def create_cluster_script_clinical_download(file_ids, barcodes):\n",
    "\n",
    "    new_script_file = '/cellar/users/ramarty/Projects/kir/scripts/cluster/TCGA.get_clinical.sh'\n",
    "\n",
    "    with open(new_script_file, 'w') as out_file:\n",
    "        out_file.write(\"#! /bin/csh\\n\")\n",
    "        out_file.write(\"#$ -V\\n\")\n",
    "        out_file.write(\"#$ -S /bin/csh\\n\")\n",
    "        out_file.write(\"#$ -o /cellar/users/ramarty/Data/kir/sge-system_files\\n\")\n",
    "        out_file.write(\"#$ -e /cellar/users/ramarty/Data/kir/sge-system_files\\n\")\n",
    "        out_file.write(\"#$ -cwd\\n\")\n",
    "        out_file.write(\"#$ -t 1-{0}\\n\".format(len(file_ids)))\n",
    "        #out_file.write(\"#$ -t 1-10\\n\".format(len(file_ids)))\n",
    "        out_file.write(\"#$ -l h_vmem=1G\\n\")\n",
    "        out_file.write(\"#$ -tc 50\\n\")\n",
    "        out_file.write(\"#$ -l long\")\n",
    "        out_file.write(\"\\n\")\n",
    "\n",
    "        out_file.write(\"set file_ids=({0})\\n\".format(\" \".join(file_ids)))\n",
    "        out_file.write(\"set barcodes=({0})\\n\".format(\" \".join(barcodes)))\n",
    "        out_file.write(\"\\n\")\n",
    "\n",
    "        out_file.write(\"set file_id=$file_ids[$SGE_TASK_ID]\\n\")\n",
    "        out_file.write(\"set barcode=$barcodes[$SGE_TASK_ID]\\n\")\n",
    "        out_file.write(\"\\n\")\n",
    "\n",
    "        out_file.write(\"date\\n\")\n",
    "        out_file.write(\"hostname\\n\")\n",
    "        out_file.write(\"bash /nrnb/users/ramarty/kir/scripts/GDC.clinical.sh $file_id /cellar/users/ramarty/Data/kir/TCGA/clinical/$barcode.xml\\n\")\n",
    "        out_file.write(\"date\\n\")"
   ]
  },
  {
   "cell_type": "code",
   "execution_count": null,
   "metadata": {
    "collapsed": true
   },
   "outputs": [],
   "source": [
    "create_cluster_script_clinical_download(df.id, df.barcode)"
   ]
  },
  {
   "cell_type": "code",
   "execution_count": null,
   "metadata": {
    "collapsed": true
   },
   "outputs": [],
   "source": [
    "def get_tissue_type(barcode):\n",
    "    try:\n",
    "        return open('/cellar/users/ramarty/Data/kir/TCGA/clinical/{0}.xml'.format(barcode)).readlines()[1].split(':')[0][1:].upper()\n",
    "    except:\n",
    "        return '-'\n",
    "df['tissue'] = df.barcode.apply(get_tissue_type)"
   ]
  },
  {
   "cell_type": "code",
   "execution_count": null,
   "metadata": {
    "collapsed": true
   },
   "outputs": [],
   "source": [
    "tissue_types_to_add = []\n",
    "# need to add all of these random tissue types\n",
    "clinical_dict = {}\n",
    "for barcode, tissue in zip(df.barcode, df.tissue):\n",
    "    #print barcode, tissue\n",
    "    try:\n",
    "        patient_dict = get_patient_clinical_information(barcode, tissue)\n",
    "        patient_dict['tissue'] = tissue\n",
    "        clinical_dict[barcode] = patient_dict\n",
    "    except:\n",
    "        print barcode, tissue"
   ]
  },
  {
   "cell_type": "code",
   "execution_count": null,
   "metadata": {
    "collapsed": true
   },
   "outputs": [],
   "source": [
    "clinical_df = pd.DataFrame(clinical_dict).transpose()"
   ]
  },
  {
   "cell_type": "code",
   "execution_count": null,
   "metadata": {
    "collapsed": true
   },
   "outputs": [],
   "source": [
    "clinical_df.to_csv('/cellar/users/ramarty/Data/kir/TCGA/clinical_df.csv')"
   ]
  },
  {
   "cell_type": "markdown",
   "metadata": {
    "collapsed": true
   },
   "source": [
    "## Can I merge HLA tissue types with current one to get a more complete list?"
   ]
  },
  {
   "cell_type": "code",
   "execution_count": 22,
   "metadata": {
    "collapsed": true
   },
   "outputs": [],
   "source": [
    "current_tissue = pd.read_csv('/cellar/users/ramarty/Data/hla_ii/presentation/clean_matrices/patient_tissues.csv', index_col=0)"
   ]
  },
  {
   "cell_type": "code",
   "execution_count": 27,
   "metadata": {
    "collapsed": true
   },
   "outputs": [],
   "source": [
    "old_tissue = pd.read_csv('/cellar/users/ramarty/Data/hla/sandbox/david/patient_tissues.csv')"
   ]
  },
  {
   "cell_type": "code",
   "execution_count": 24,
   "metadata": {
    "collapsed": false,
    "scrolled": true
   },
   "outputs": [
    {
     "data": {
      "text/plain": [
       "(10959, 9176)"
      ]
     },
     "execution_count": 24,
     "metadata": {},
     "output_type": "execute_result"
    }
   ],
   "source": [
    "len(current_tissue), len(old_tissue)"
   ]
  },
  {
   "cell_type": "code",
   "execution_count": 30,
   "metadata": {
    "collapsed": false
   },
   "outputs": [
    {
     "data": {
      "text/html": [
       "<div>\n",
       "<table border=\"1\" class=\"dataframe\">\n",
       "  <thead>\n",
       "    <tr style=\"text-align: right;\">\n",
       "      <th></th>\n",
       "      <th>Tissue</th>\n",
       "      <th>Sample</th>\n",
       "    </tr>\n",
       "  </thead>\n",
       "  <tbody>\n",
       "    <tr>\n",
       "      <th>TCGA-02-0001</th>\n",
       "      <td>GBM</td>\n",
       "      <td>TCGA-02-0001</td>\n",
       "    </tr>\n",
       "    <tr>\n",
       "      <th>TCGA-02-0003</th>\n",
       "      <td>GBM</td>\n",
       "      <td>TCGA-02-0003</td>\n",
       "    </tr>\n",
       "    <tr>\n",
       "      <th>TCGA-02-0004</th>\n",
       "      <td>GBM</td>\n",
       "      <td>TCGA-02-0004</td>\n",
       "    </tr>\n",
       "    <tr>\n",
       "      <th>TCGA-02-0006</th>\n",
       "      <td>GBM</td>\n",
       "      <td>TCGA-02-0006</td>\n",
       "    </tr>\n",
       "    <tr>\n",
       "      <th>TCGA-02-0007</th>\n",
       "      <td>GBM</td>\n",
       "      <td>TCGA-02-0007</td>\n",
       "    </tr>\n",
       "  </tbody>\n",
       "</table>\n",
       "</div>"
      ],
      "text/plain": [
       "             Tissue        Sample\n",
       "TCGA-02-0001    GBM  TCGA-02-0001\n",
       "TCGA-02-0003    GBM  TCGA-02-0003\n",
       "TCGA-02-0004    GBM  TCGA-02-0004\n",
       "TCGA-02-0006    GBM  TCGA-02-0006\n",
       "TCGA-02-0007    GBM  TCGA-02-0007"
      ]
     },
     "execution_count": 30,
     "metadata": {},
     "output_type": "execute_result"
    }
   ],
   "source": [
    "current_tissue['Sample'] = current_tissue.index\n",
    "current_tissue.head()"
   ]
  },
  {
   "cell_type": "code",
   "execution_count": 29,
   "metadata": {
    "collapsed": false
   },
   "outputs": [
    {
     "data": {
      "text/html": [
       "<div>\n",
       "<table border=\"1\" class=\"dataframe\">\n",
       "  <thead>\n",
       "    <tr style=\"text-align: right;\">\n",
       "      <th></th>\n",
       "      <th>Sample</th>\n",
       "      <th>Tissue</th>\n",
       "    </tr>\n",
       "  </thead>\n",
       "  <tbody>\n",
       "    <tr>\n",
       "      <th>0</th>\n",
       "      <td>TCGA-3H-AB3K</td>\n",
       "      <td>MESO</td>\n",
       "    </tr>\n",
       "    <tr>\n",
       "      <th>1</th>\n",
       "      <td>TCGA-3H-AB3L</td>\n",
       "      <td>MESO</td>\n",
       "    </tr>\n",
       "    <tr>\n",
       "      <th>2</th>\n",
       "      <td>TCGA-3H-AB3M</td>\n",
       "      <td>MESO</td>\n",
       "    </tr>\n",
       "    <tr>\n",
       "      <th>3</th>\n",
       "      <td>TCGA-3H-AB3O</td>\n",
       "      <td>MESO</td>\n",
       "    </tr>\n",
       "    <tr>\n",
       "      <th>4</th>\n",
       "      <td>TCGA-3H-AB3S</td>\n",
       "      <td>MESO</td>\n",
       "    </tr>\n",
       "  </tbody>\n",
       "</table>\n",
       "</div>"
      ],
      "text/plain": [
       "         Sample Tissue\n",
       "0  TCGA-3H-AB3K   MESO\n",
       "1  TCGA-3H-AB3L   MESO\n",
       "2  TCGA-3H-AB3M   MESO\n",
       "3  TCGA-3H-AB3O   MESO\n",
       "4  TCGA-3H-AB3S   MESO"
      ]
     },
     "execution_count": 29,
     "metadata": {},
     "output_type": "execute_result"
    }
   ],
   "source": [
    "old_tissue.head()"
   ]
  },
  {
   "cell_type": "code",
   "execution_count": 35,
   "metadata": {
    "collapsed": false
   },
   "outputs": [],
   "source": [
    "df = pd.concat([current_tissue, old_tissue]).drop_duplicates().reset_index()"
   ]
  },
  {
   "cell_type": "code",
   "execution_count": 38,
   "metadata": {
    "collapsed": false
   },
   "outputs": [
    {
     "data": {
      "text/plain": [
       "11175"
      ]
     },
     "execution_count": 38,
     "metadata": {},
     "output_type": "execute_result"
    }
   ],
   "source": [
    "len(df)"
   ]
  },
  {
   "cell_type": "code",
   "execution_count": 39,
   "metadata": {
    "collapsed": false
   },
   "outputs": [],
   "source": [
    "df[['Sample', 'Tissue']].to_csv('/cellar/users/ramarty/Data/hla_ii/clinical/tissue_type/patient_tissues.csv')"
   ]
  },
  {
   "cell_type": "code",
   "execution_count": null,
   "metadata": {
    "collapsed": true
   },
   "outputs": [],
   "source": []
  }
 ],
 "metadata": {
  "kernelspec": {
   "display_name": "Python 2",
   "language": "python",
   "name": "python2"
  },
  "language_info": {
   "codemirror_mode": {
    "name": "ipython",
    "version": 2
   },
   "file_extension": ".py",
   "mimetype": "text/x-python",
   "name": "python",
   "nbconvert_exporter": "python",
   "pygments_lexer": "ipython2",
   "version": "2.7.14"
  }
 },
 "nbformat": 4,
 "nbformat_minor": 0
}
