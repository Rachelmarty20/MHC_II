{
 "cells": [
  {
   "cell_type": "code",
   "execution_count": 1,
   "metadata": {
    "collapsed": false
   },
   "outputs": [
    {
     "name": "stderr",
     "output_type": "stream",
     "text": [
      "/cellar/users/ramarty/anaconda/lib/python2.7/site-packages/IPython/nbformat/current.py:19: UserWarning: IPython.nbformat.current is deprecated.\n",
      "\n",
      "- use IPython.nbformat for read/write/validate public API\n",
      "- use IPython.nbformat.vX directly to composing notebooks of a particular version\n",
      "\n",
      "  \"\"\")\n",
      "/cellar/users/ramarty/anaconda/lib/python2.7/site-packages/sklearn/cross_validation.py:44: DeprecationWarning: This module was deprecated in version 0.18 in favor of the model_selection module into which all the refactored classes and functions are moved. Also note that the interface of the new CV iterators are different from that of this module. This module will be removed in 0.20.\n",
      "  \"This module will be removed in 0.20.\", DeprecationWarning)\n"
     ]
    },
    {
     "name": "stdout",
     "output_type": "stream",
     "text": [
      "Populating the interactive namespace from numpy and matplotlib\n"
     ]
    }
   ],
   "source": [
    "import io\n",
    "from IPython.nbformat import current\n",
    "def execute_notebook(nbfile):\n",
    "    with io.open(nbfile) as f:\n",
    "        nb = current.read(f, 'json')\n",
    "    ip = get_ipython()\n",
    "    for cell in nb.worksheets[0].cells:\n",
    "        if cell.cell_type != 'code':\n",
    "            continue\n",
    "        ip.run_cell(cell.input)\n",
    "execute_notebook(\"/cellar/users/ramarty/Projects/hla_ii/bin/imports.ipynb\")\n",
    "execute_notebook(\"/cellar/users/ramarty/Projects/hla_ii/bin/gathering_affinities.ipynb\")"
   ]
  },
  {
   "cell_type": "markdown",
   "metadata": {},
   "source": [
    "Response to a reviewer comment about creating a control set of residues in frequently mutated non-cancer genes <br>\n",
    "We will use TTN and olfactory receptor genes to statisfy this comment"
   ]
  },
  {
   "cell_type": "markdown",
   "metadata": {},
   "source": [
    "### Non-cancer genes"
   ]
  },
  {
   "cell_type": "code",
   "execution_count": 3,
   "metadata": {
    "collapsed": false
   },
   "outputs": [],
   "source": [
    "# establish a list of cancer genes: CGC and haploinsufficency \n",
    "cgc = pd.read_csv('/cellar/users/ramarty/Data/hla_ii/references/CGC.csv')\n",
    "cgc_genes = list(cgc['Gene Symbol'])\n",
    "haplo_genes = [x.strip() for x in open('/cellar/users/ramarty/Data/hla/git_data/data/tumor_suppressor_genes.txt').readlines()] \\\n",
    "               + [x.strip() for x in open('/cellar/users/ramarty/Data/hla/git_data/data/onco_genes.txt').readlines()]"
   ]
  },
  {
   "cell_type": "code",
   "execution_count": 8,
   "metadata": {
    "collapsed": true
   },
   "outputs": [],
   "source": [
    "# combine into one set\n",
    "cancer_genes = list(set(cgc_genes + haplo_genes))"
   ]
  },
  {
   "cell_type": "code",
   "execution_count": 6,
   "metadata": {
    "collapsed": false
   },
   "outputs": [],
   "source": [
    "# import set of all mutations\n",
    "df_missense = pd.read_csv('/cellar/users/ramarty/Data/hla/mutations/processed_mutation_files.full_tcga.all_valid_muts.csv',\n",
    "                          index_col=0)"
   ]
  },
  {
   "cell_type": "code",
   "execution_count": 9,
   "metadata": {
    "collapsed": false
   },
   "outputs": [],
   "source": [
    "# exclude all mutations in cancer genes\n",
    "df_missense_non_cancer = df_missense[~df_missense.Hugo_Symbol.isin(cancer_genes)]"
   ]
  },
  {
   "cell_type": "code",
   "execution_count": 11,
   "metadata": {
    "collapsed": false,
    "scrolled": true
   },
   "outputs": [
    {
     "data": {
      "text/html": [
       "<div>\n",
       "<table border=\"1\" class=\"dataframe\">\n",
       "  <thead>\n",
       "    <tr style=\"text-align: right;\">\n",
       "      <th></th>\n",
       "      <th>Tumor_Sample_Barcode</th>\n",
       "      <th>Hugo_Symbol</th>\n",
       "      <th>Variant_Classification</th>\n",
       "      <th>Protein_position</th>\n",
       "      <th>Amino_acids</th>\n",
       "      <th>Chromosome</th>\n",
       "      <th>Start_Position</th>\n",
       "      <th>Strand</th>\n",
       "      <th>Reference_Allele</th>\n",
       "      <th>Tumor_Seq_Allele2</th>\n",
       "      <th>Transcript_ID</th>\n",
       "      <th>Barcode</th>\n",
       "      <th>combined</th>\n",
       "    </tr>\n",
       "  </thead>\n",
       "  <tbody>\n",
       "    <tr>\n",
       "      <th>0</th>\n",
       "      <td>TCGA-FX-A3NJ-01A-11D-A21Q-09</td>\n",
       "      <td>INTS3</td>\n",
       "      <td>Missense_Mutation</td>\n",
       "      <td>500/1042</td>\n",
       "      <td>P/R</td>\n",
       "      <td>chr1</td>\n",
       "      <td>153761659</td>\n",
       "      <td>+</td>\n",
       "      <td>C</td>\n",
       "      <td>G</td>\n",
       "      <td>ENST00000318967</td>\n",
       "      <td>TCGA-FX-A3NJ</td>\n",
       "      <td>INTS3_P500R</td>\n",
       "    </tr>\n",
       "    <tr>\n",
       "      <th>3</th>\n",
       "      <td>TCGA-FX-A3NJ-01A-11D-A21Q-09</td>\n",
       "      <td>PLD5</td>\n",
       "      <td>Missense_Mutation</td>\n",
       "      <td>536/536</td>\n",
       "      <td>V/L</td>\n",
       "      <td>chr1</td>\n",
       "      <td>242089859</td>\n",
       "      <td>+</td>\n",
       "      <td>C</td>\n",
       "      <td>G</td>\n",
       "      <td>ENST00000442594</td>\n",
       "      <td>TCGA-FX-A3NJ</td>\n",
       "      <td>PLD5_V536L</td>\n",
       "    </tr>\n",
       "    <tr>\n",
       "      <th>7</th>\n",
       "      <td>TCGA-FX-A3NJ-01A-11D-A21Q-09</td>\n",
       "      <td>GC</td>\n",
       "      <td>Missense_Mutation</td>\n",
       "      <td>406/474</td>\n",
       "      <td>L/R</td>\n",
       "      <td>chr4</td>\n",
       "      <td>71754456</td>\n",
       "      <td>+</td>\n",
       "      <td>A</td>\n",
       "      <td>C</td>\n",
       "      <td>ENST00000273951</td>\n",
       "      <td>TCGA-FX-A3NJ</td>\n",
       "      <td>GC_L406R</td>\n",
       "    </tr>\n",
       "    <tr>\n",
       "      <th>9</th>\n",
       "      <td>TCGA-FX-A3NJ-01A-11D-A21Q-09</td>\n",
       "      <td>PSMG4</td>\n",
       "      <td>Missense_Mutation</td>\n",
       "      <td>65/123</td>\n",
       "      <td>T/A</td>\n",
       "      <td>chr6</td>\n",
       "      <td>3263702</td>\n",
       "      <td>+</td>\n",
       "      <td>A</td>\n",
       "      <td>G</td>\n",
       "      <td>ENST00000438998</td>\n",
       "      <td>TCGA-FX-A3NJ</td>\n",
       "      <td>PSMG4_T65A</td>\n",
       "    </tr>\n",
       "    <tr>\n",
       "      <th>15</th>\n",
       "      <td>TCGA-FX-A3NJ-01A-11D-A21Q-09</td>\n",
       "      <td>ACADSB</td>\n",
       "      <td>Missense_Mutation</td>\n",
       "      <td>138/432</td>\n",
       "      <td>F/V</td>\n",
       "      <td>chr10</td>\n",
       "      <td>123040574</td>\n",
       "      <td>+</td>\n",
       "      <td>T</td>\n",
       "      <td>G</td>\n",
       "      <td>ENST00000358776</td>\n",
       "      <td>TCGA-FX-A3NJ</td>\n",
       "      <td>ACADSB_F138V</td>\n",
       "    </tr>\n",
       "  </tbody>\n",
       "</table>\n",
       "</div>"
      ],
      "text/plain": [
       "            Tumor_Sample_Barcode Hugo_Symbol Variant_Classification  \\\n",
       "0   TCGA-FX-A3NJ-01A-11D-A21Q-09       INTS3      Missense_Mutation   \n",
       "3   TCGA-FX-A3NJ-01A-11D-A21Q-09        PLD5      Missense_Mutation   \n",
       "7   TCGA-FX-A3NJ-01A-11D-A21Q-09          GC      Missense_Mutation   \n",
       "9   TCGA-FX-A3NJ-01A-11D-A21Q-09       PSMG4      Missense_Mutation   \n",
       "15  TCGA-FX-A3NJ-01A-11D-A21Q-09      ACADSB      Missense_Mutation   \n",
       "\n",
       "   Protein_position Amino_acids Chromosome  Start_Position Strand  \\\n",
       "0          500/1042         P/R       chr1       153761659      +   \n",
       "3           536/536         V/L       chr1       242089859      +   \n",
       "7           406/474         L/R       chr4        71754456      +   \n",
       "9            65/123         T/A       chr6         3263702      +   \n",
       "15          138/432         F/V      chr10       123040574      +   \n",
       "\n",
       "   Reference_Allele Tumor_Seq_Allele2    Transcript_ID       Barcode  \\\n",
       "0                 C                 G  ENST00000318967  TCGA-FX-A3NJ   \n",
       "3                 C                 G  ENST00000442594  TCGA-FX-A3NJ   \n",
       "7                 A                 C  ENST00000273951  TCGA-FX-A3NJ   \n",
       "9                 A                 G  ENST00000438998  TCGA-FX-A3NJ   \n",
       "15                T                 G  ENST00000358776  TCGA-FX-A3NJ   \n",
       "\n",
       "        combined  \n",
       "0    INTS3_P500R  \n",
       "3     PLD5_V536L  \n",
       "7       GC_L406R  \n",
       "9     PSMG4_T65A  \n",
       "15  ACADSB_F138V  "
      ]
     },
     "execution_count": 11,
     "metadata": {},
     "output_type": "execute_result"
    }
   ],
   "source": [
    "df_missense_non_cancer.head()"
   ]
  },
  {
   "cell_type": "code",
   "execution_count": 13,
   "metadata": {
    "collapsed": false
   },
   "outputs": [],
   "source": [
    "# get high frequency mutations that are left and run through pipeline\n",
    "non_cancer_vc = df_missense_non_cancer[['Barcode', 'combined']].drop_duplicates().combined.value_counts()"
   ]
  },
  {
   "cell_type": "code",
   "execution_count": 18,
   "metadata": {
    "collapsed": false,
    "scrolled": true
   },
   "outputs": [
    {
     "data": {
      "text/plain": [
       "1598"
      ]
     },
     "execution_count": 18,
     "metadata": {},
     "output_type": "execute_result"
    }
   ],
   "source": [
    "len(non_cancer_vc[non_cancer_vc > 4])"
   ]
  },
  {
   "cell_type": "code",
   "execution_count": 21,
   "metadata": {
    "collapsed": false
   },
   "outputs": [],
   "source": [
    "non_cancer_mutations = list(non_cancer_vc[:1500].index)"
   ]
  },
  {
   "cell_type": "code",
   "execution_count": 29,
   "metadata": {
    "collapsed": true
   },
   "outputs": [],
   "source": [
    "with open('/cellar/users/ramarty/Data/hla_ii/presentation/residues/non_cancer.test.txt', 'w') as f:\n",
    "    for mutation in non_cancer_mutations:\n",
    "        f.write('{0}\\n'.format(mutation))"
   ]
  },
  {
   "cell_type": "markdown",
   "metadata": {},
   "source": [
    "###known non cancer"
   ]
  },
  {
   "cell_type": "code",
   "execution_count": 2,
   "metadata": {
    "collapsed": false
   },
   "outputs": [],
   "source": [
    "df_missense = pd.read_csv('/cellar/users/ramarty/Data/hla/mutations/processed_mutation_files.full_tcga.all_valid_muts.csv',\n",
    "                          index_col=0)"
   ]
  },
  {
   "cell_type": "code",
   "execution_count": 3,
   "metadata": {
    "collapsed": true
   },
   "outputs": [],
   "source": [
    "putative = open('/cellar/users/ramarty/Data/hla_ii/generated_data/mutations/olfactory.csv').readline().split('\\r')"
   ]
  },
  {
   "cell_type": "code",
   "execution_count": 4,
   "metadata": {
    "collapsed": false
   },
   "outputs": [],
   "source": [
    "olfactory = [x for x in putative if 'OR' in x]"
   ]
  },
  {
   "cell_type": "code",
   "execution_count": 5,
   "metadata": {
    "collapsed": false
   },
   "outputs": [],
   "source": [
    "olfactory = olfactory + ['TTN']"
   ]
  },
  {
   "cell_type": "code",
   "execution_count": 20,
   "metadata": {
    "collapsed": true
   },
   "outputs": [],
   "source": [
    "df_missense_olfactory = df_missense[df_missense.Hugo_Symbol.isin(olfactory)]"
   ]
  },
  {
   "cell_type": "code",
   "execution_count": 21,
   "metadata": {
    "collapsed": true
   },
   "outputs": [],
   "source": [
    "known_non_cancer = df_missense_olfactory[['Barcode', 'combined']].drop_duplicates().combined.value_counts()"
   ]
  },
  {
   "cell_type": "code",
   "execution_count": 27,
   "metadata": {
    "collapsed": false
   },
   "outputs": [
    {
     "data": {
      "text/plain": [
       "1806"
      ]
     },
     "execution_count": 27,
     "metadata": {},
     "output_type": "execute_result"
    }
   ],
   "source": [
    "len(known_non_cancer[known_non_cancer > 1])"
   ]
  },
  {
   "cell_type": "code",
   "execution_count": 30,
   "metadata": {
    "collapsed": true
   },
   "outputs": [],
   "source": [
    "known_non_cancer_mutations = list(known_non_cancer[:1500].index)"
   ]
  },
  {
   "cell_type": "code",
   "execution_count": 31,
   "metadata": {
    "collapsed": true
   },
   "outputs": [],
   "source": [
    "with open('/cellar/users/ramarty/Data/hla_ii/presentation/residues/known_non_cancer.test.txt', 'w') as f:\n",
    "    for mutation in known_non_cancer_mutations[:1500]:\n",
    "        f.write('{0}\\n'.format(mutation))"
   ]
  },
  {
   "cell_type": "markdown",
   "metadata": {},
   "source": [
    "### Make matrix"
   ]
  },
  {
   "cell_type": "code",
   "execution_count": null,
   "metadata": {
    "collapsed": true
   },
   "outputs": [],
   "source": [
    "## see data_gathering/mutations/matrices.ipynb"
   ]
  },
  {
   "cell_type": "markdown",
   "metadata": {
    "collapsed": true
   },
   "source": [
    "###Export to table"
   ]
  },
  {
   "cell_type": "code",
   "execution_count": 7,
   "metadata": {
    "collapsed": false
   },
   "outputs": [],
   "source": [
    "non_cancer = pd.DataFrame({'Gene': olfactory})"
   ]
  },
  {
   "cell_type": "code",
   "execution_count": 8,
   "metadata": {
    "collapsed": true
   },
   "outputs": [],
   "source": [
    "from pandas import ExcelWriter\n",
    "writer = ExcelWriter('/cellar/users/ramarty/Data/hla_ii/generated_data/tables/Established_non_cancer.xlsx')\n",
    "non_cancer.to_excel(writer,'Established non-cancer genes', index=False)\n",
    "writer.save()"
   ]
  },
  {
   "cell_type": "code",
   "execution_count": null,
   "metadata": {
    "collapsed": true
   },
   "outputs": [],
   "source": []
  }
 ],
 "metadata": {
  "kernelspec": {
   "display_name": "Python 2",
   "language": "python",
   "name": "python2"
  },
  "language_info": {
   "codemirror_mode": {
    "name": "ipython",
    "version": 2
   },
   "file_extension": ".py",
   "mimetype": "text/x-python",
   "name": "python",
   "nbconvert_exporter": "python",
   "pygments_lexer": "ipython2",
   "version": "2.7.14"
  }
 },
 "nbformat": 4,
 "nbformat_minor": 0
}
