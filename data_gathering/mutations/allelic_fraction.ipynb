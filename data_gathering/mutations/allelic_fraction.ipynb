{
 "cells": [
  {
   "cell_type": "code",
   "execution_count": 1,
   "metadata": {
    "scrolled": true
   },
   "outputs": [
    {
     "name": "stderr",
     "output_type": "stream",
     "text": [
      "/cellar/users/ramarty/anaconda/lib/python2.7/site-packages/IPython/nbformat/current.py:19: UserWarning: IPython.nbformat.current is deprecated.\n",
      "\n",
      "- use IPython.nbformat for read/write/validate public API\n",
      "- use IPython.nbformat.vX directly to composing notebooks of a particular version\n",
      "\n",
      "  \"\"\")\n",
      "/cellar/users/ramarty/anaconda/lib/python2.7/site-packages/sklearn/cross_validation.py:44: DeprecationWarning: This module was deprecated in version 0.18 in favor of the model_selection module into which all the refactored classes and functions are moved. Also note that the interface of the new CV iterators are different from that of this module. This module will be removed in 0.20.\n",
      "  \"This module will be removed in 0.20.\", DeprecationWarning)\n"
     ]
    },
    {
     "name": "stdout",
     "output_type": "stream",
     "text": [
      "Populating the interactive namespace from numpy and matplotlib\n",
      "Populating the interactive namespace from numpy and matplotlib\n"
     ]
    }
   ],
   "source": [
    "import io\n",
    "from IPython.nbformat import current\n",
    "def execute_notebook(nbfile):\n",
    "    with io.open(nbfile) as f:\n",
    "        nb = current.read(f, 'json')\n",
    "    ip = get_ipython()\n",
    "    for cell in nb.worksheets[0].cells:\n",
    "        if cell.cell_type != 'code':\n",
    "            continue\n",
    "        ip.run_cell(cell.input)\n",
    "execute_notebook(\"/cellar/users/ramarty/Projects/hla_ii/bin/imports.ipynb\")\n",
    "execute_notebook(\"/cellar/users/ramarty/Projects/hla_ii/bin/samples.ipynb\")"
   ]
  },
  {
   "cell_type": "markdown",
   "metadata": {},
   "source": [
    "###Is selection more apparent when mutations happen early in tumorigenesis? <br>\n",
    "#####Approach: Reduce mutation matrix to high allelic fraction mutations and re-run ORs"
   ]
  },
  {
   "cell_type": "markdown",
   "metadata": {},
   "source": [
    "Get the mutations with their allelic fractions"
   ]
  },
  {
   "cell_type": "code",
   "execution_count": 3,
   "metadata": {},
   "outputs": [],
   "source": [
    "df_indels = pd.read_csv('/cellar/users/ramarty/Data/hla/mutations/processed_indel_files.full_tcga.allelic_fraction.csv', index_col=0)"
   ]
  },
  {
   "cell_type": "code",
   "execution_count": 4,
   "metadata": {},
   "outputs": [
    {
     "data": {
      "text/html": [
       "<div>\n",
       "<table border=\"1\" class=\"dataframe\">\n",
       "  <thead>\n",
       "    <tr style=\"text-align: right;\">\n",
       "      <th></th>\n",
       "      <th>Tumor_Sample_Barcode</th>\n",
       "      <th>Hugo_Symbol</th>\n",
       "      <th>Variant_Classification</th>\n",
       "      <th>Start_Position</th>\n",
       "      <th>t_depth</th>\n",
       "      <th>t_ref_count</th>\n",
       "      <th>t_alt_count</th>\n",
       "      <th>Barcode</th>\n",
       "      <th>combined</th>\n",
       "      <th>allelic_fraction</th>\n",
       "    </tr>\n",
       "  </thead>\n",
       "  <tbody>\n",
       "    <tr>\n",
       "      <th>50</th>\n",
       "      <td>TCGA-S9-A7J1-01A-21D-A34J-08</td>\n",
       "      <td>FUBP1</td>\n",
       "      <td>Frame_Shift_Del</td>\n",
       "      <td>77962785</td>\n",
       "      <td>70</td>\n",
       "      <td>33</td>\n",
       "      <td>37</td>\n",
       "      <td>TCGA-S9-A7J1</td>\n",
       "      <td>FUBP1_fsd_77962785</td>\n",
       "      <td>0.528571</td>\n",
       "    </tr>\n",
       "    <tr>\n",
       "      <th>134</th>\n",
       "      <td>TCGA-HT-8105-01A-11D-2395-08</td>\n",
       "      <td>FUBP1</td>\n",
       "      <td>Frame_Shift_Del</td>\n",
       "      <td>77962785</td>\n",
       "      <td>37</td>\n",
       "      <td>8</td>\n",
       "      <td>29</td>\n",
       "      <td>TCGA-HT-8105</td>\n",
       "      <td>FUBP1_fsd_77962785</td>\n",
       "      <td>0.783784</td>\n",
       "    </tr>\n",
       "    <tr>\n",
       "      <th>1916</th>\n",
       "      <td>TCGA-HT-7880-01A-11D-2395-08</td>\n",
       "      <td>NF1</td>\n",
       "      <td>Frame_Shift_Del</td>\n",
       "      <td>31235639</td>\n",
       "      <td>239</td>\n",
       "      <td>215</td>\n",
       "      <td>24</td>\n",
       "      <td>TCGA-HT-7880</td>\n",
       "      <td>NF1_fsd_31235639</td>\n",
       "      <td>0.100418</td>\n",
       "    </tr>\n",
       "    <tr>\n",
       "      <th>17043</th>\n",
       "      <td>TCGA-DU-5847-01A-11D-1705-08</td>\n",
       "      <td>PTEN</td>\n",
       "      <td>Frame_Shift_Ins</td>\n",
       "      <td>87961046</td>\n",
       "      <td>70</td>\n",
       "      <td>17</td>\n",
       "      <td>53</td>\n",
       "      <td>TCGA-DU-5847</td>\n",
       "      <td>PTEN_fsi_87961046</td>\n",
       "      <td>0.757143</td>\n",
       "    </tr>\n",
       "    <tr>\n",
       "      <th>17157</th>\n",
       "      <td>TCGA-FG-6691-01A-11D-1893-08</td>\n",
       "      <td>ATRX</td>\n",
       "      <td>Frame_Shift_Ins</td>\n",
       "      <td>77684181</td>\n",
       "      <td>130</td>\n",
       "      <td>79</td>\n",
       "      <td>51</td>\n",
       "      <td>TCGA-FG-6691</td>\n",
       "      <td>ATRX_fsi_77684181</td>\n",
       "      <td>0.392308</td>\n",
       "    </tr>\n",
       "  </tbody>\n",
       "</table>\n",
       "</div>"
      ],
      "text/plain": [
       "               Tumor_Sample_Barcode Hugo_Symbol Variant_Classification  \\\n",
       "50     TCGA-S9-A7J1-01A-21D-A34J-08       FUBP1        Frame_Shift_Del   \n",
       "134    TCGA-HT-8105-01A-11D-2395-08       FUBP1        Frame_Shift_Del   \n",
       "1916   TCGA-HT-7880-01A-11D-2395-08         NF1        Frame_Shift_Del   \n",
       "17043  TCGA-DU-5847-01A-11D-1705-08        PTEN        Frame_Shift_Ins   \n",
       "17157  TCGA-FG-6691-01A-11D-1893-08        ATRX        Frame_Shift_Ins   \n",
       "\n",
       "       Start_Position  t_depth  t_ref_count  t_alt_count       Barcode  \\\n",
       "50           77962785       70           33           37  TCGA-S9-A7J1   \n",
       "134          77962785       37            8           29  TCGA-HT-8105   \n",
       "1916         31235639      239          215           24  TCGA-HT-7880   \n",
       "17043        87961046       70           17           53  TCGA-DU-5847   \n",
       "17157        77684181      130           79           51  TCGA-FG-6691   \n",
       "\n",
       "                 combined  allelic_fraction  \n",
       "50     FUBP1_fsd_77962785          0.528571  \n",
       "134    FUBP1_fsd_77962785          0.783784  \n",
       "1916     NF1_fsd_31235639          0.100418  \n",
       "17043   PTEN_fsi_87961046          0.757143  \n",
       "17157   ATRX_fsi_77684181          0.392308  "
      ]
     },
     "execution_count": 4,
     "metadata": {},
     "output_type": "execute_result"
    }
   ],
   "source": [
    "df_indels.head()"
   ]
  },
  {
   "cell_type": "code",
   "execution_count": 5,
   "metadata": {},
   "outputs": [
    {
     "name": "stdout",
     "output_type": "stream",
     "text": [
      "10577\n"
     ]
    }
   ],
   "source": [
    "df_missense = pd.read_csv('/cellar/users/ramarty/Data/hla/mutations/processed_mutation_files.full_tcga.allelic_fraction.csv',\n",
    "                          index_col=0)\n",
    "print len(df_missense)"
   ]
  },
  {
   "cell_type": "code",
   "execution_count": 6,
   "metadata": {
    "scrolled": true
   },
   "outputs": [
    {
     "data": {
      "text/html": [
       "<div>\n",
       "<table border=\"1\" class=\"dataframe\">\n",
       "  <thead>\n",
       "    <tr style=\"text-align: right;\">\n",
       "      <th></th>\n",
       "      <th>Tumor_Sample_Barcode</th>\n",
       "      <th>Hugo_Symbol</th>\n",
       "      <th>Variant_Classification</th>\n",
       "      <th>Protein_position</th>\n",
       "      <th>Amino_acids</th>\n",
       "      <th>t_depth</th>\n",
       "      <th>t_ref_count</th>\n",
       "      <th>t_alt_count</th>\n",
       "      <th>Barcode</th>\n",
       "      <th>combined</th>\n",
       "      <th>allelic_fraction</th>\n",
       "    </tr>\n",
       "  </thead>\n",
       "  <tbody>\n",
       "    <tr>\n",
       "      <th>398</th>\n",
       "      <td>TCGA-MB-A8JL-01A-11D-A36J-09</td>\n",
       "      <td>TP53</td>\n",
       "      <td>Missense_Mutation</td>\n",
       "      <td>281/393</td>\n",
       "      <td>D/E</td>\n",
       "      <td>48</td>\n",
       "      <td>26</td>\n",
       "      <td>22</td>\n",
       "      <td>TCGA-MB-A8JL</td>\n",
       "      <td>TP53_D281E</td>\n",
       "      <td>0.458333</td>\n",
       "    </tr>\n",
       "    <tr>\n",
       "      <th>399</th>\n",
       "      <td>TCGA-MB-A8JL-01A-11D-A36J-09</td>\n",
       "      <td>TP53</td>\n",
       "      <td>Missense_Mutation</td>\n",
       "      <td>272/393</td>\n",
       "      <td>V/M</td>\n",
       "      <td>42</td>\n",
       "      <td>24</td>\n",
       "      <td>18</td>\n",
       "      <td>TCGA-MB-A8JL</td>\n",
       "      <td>TP53_V272M</td>\n",
       "      <td>0.428571</td>\n",
       "    </tr>\n",
       "    <tr>\n",
       "      <th>560</th>\n",
       "      <td>TCGA-DX-A6B7-01A-11D-A307-09</td>\n",
       "      <td>TP53</td>\n",
       "      <td>Missense_Mutation</td>\n",
       "      <td>275/393</td>\n",
       "      <td>C/Y</td>\n",
       "      <td>24</td>\n",
       "      <td>3</td>\n",
       "      <td>20</td>\n",
       "      <td>TCGA-DX-A6B7</td>\n",
       "      <td>TP53_C275Y</td>\n",
       "      <td>0.833333</td>\n",
       "    </tr>\n",
       "    <tr>\n",
       "      <th>701</th>\n",
       "      <td>TCGA-QQ-A5VA-01A-12D-A32I-09</td>\n",
       "      <td>TP53</td>\n",
       "      <td>Missense_Mutation</td>\n",
       "      <td>220/393</td>\n",
       "      <td>Y/H</td>\n",
       "      <td>79</td>\n",
       "      <td>52</td>\n",
       "      <td>27</td>\n",
       "      <td>TCGA-QQ-A5VA</td>\n",
       "      <td>TP53_Y220H</td>\n",
       "      <td>0.341772</td>\n",
       "    </tr>\n",
       "    <tr>\n",
       "      <th>905</th>\n",
       "      <td>TCGA-QC-A6FX-01A-11D-A32I-09</td>\n",
       "      <td>TP53</td>\n",
       "      <td>Missense_Mutation</td>\n",
       "      <td>242/393</td>\n",
       "      <td>C/S</td>\n",
       "      <td>44</td>\n",
       "      <td>5</td>\n",
       "      <td>39</td>\n",
       "      <td>TCGA-QC-A6FX</td>\n",
       "      <td>TP53_C242S</td>\n",
       "      <td>0.886364</td>\n",
       "    </tr>\n",
       "  </tbody>\n",
       "</table>\n",
       "</div>"
      ],
      "text/plain": [
       "             Tumor_Sample_Barcode Hugo_Symbol Variant_Classification  \\\n",
       "398  TCGA-MB-A8JL-01A-11D-A36J-09        TP53      Missense_Mutation   \n",
       "399  TCGA-MB-A8JL-01A-11D-A36J-09        TP53      Missense_Mutation   \n",
       "560  TCGA-DX-A6B7-01A-11D-A307-09        TP53      Missense_Mutation   \n",
       "701  TCGA-QQ-A5VA-01A-12D-A32I-09        TP53      Missense_Mutation   \n",
       "905  TCGA-QC-A6FX-01A-11D-A32I-09        TP53      Missense_Mutation   \n",
       "\n",
       "    Protein_position Amino_acids  t_depth  t_ref_count  t_alt_count  \\\n",
       "398          281/393         D/E       48           26           22   \n",
       "399          272/393         V/M       42           24           18   \n",
       "560          275/393         C/Y       24            3           20   \n",
       "701          220/393         Y/H       79           52           27   \n",
       "905          242/393         C/S       44            5           39   \n",
       "\n",
       "          Barcode    combined  allelic_fraction  \n",
       "398  TCGA-MB-A8JL  TP53_D281E          0.458333  \n",
       "399  TCGA-MB-A8JL  TP53_V272M          0.428571  \n",
       "560  TCGA-DX-A6B7  TP53_C275Y          0.833333  \n",
       "701  TCGA-QQ-A5VA  TP53_Y220H          0.341772  \n",
       "905  TCGA-QC-A6FX  TP53_C242S          0.886364  "
      ]
     },
     "execution_count": 6,
     "metadata": {},
     "output_type": "execute_result"
    }
   ],
   "source": [
    "df_missense.head()"
   ]
  },
  {
   "cell_type": "code",
   "execution_count": 7,
   "metadata": {},
   "outputs": [],
   "source": [
    "df_all = pd.concat([df_indels[['Barcode', 'combined', 'allelic_fraction']],\n",
    "                    df_missense[['Barcode', 'combined', 'allelic_fraction']]])"
   ]
  },
  {
   "cell_type": "code",
   "execution_count": 8,
   "metadata": {
    "collapsed": true
   },
   "outputs": [],
   "source": [
    "df_all.to_csv('/cellar/users/ramarty/Data/hla_ii/generated_data/mutations/mutations_with_alleleic fraction.csv')"
   ]
  },
  {
   "cell_type": "markdown",
   "metadata": {},
   "source": [
    "Get mutation names"
   ]
  },
  {
   "cell_type": "code",
   "execution_count": 9,
   "metadata": {},
   "outputs": [],
   "source": [
    "patient_mutations = pd.read_csv('/cellar/users/ramarty/Data/hla_ii/presentation/clean_matrices/combined_classes/patient_affinities.class_ii.csv',\n",
    "                               index_col=0)"
   ]
  },
  {
   "cell_type": "code",
   "execution_count": 10,
   "metadata": {},
   "outputs": [],
   "source": [
    "mutations = list(patient_mutations.columns)\n",
    "samples_with_mutations = list(patient_mutations.index)"
   ]
  },
  {
   "cell_type": "code",
   "execution_count": 11,
   "metadata": {},
   "outputs": [
    {
     "name": "stdout",
     "output_type": "stream",
     "text": [
      "9887\n"
     ]
    }
   ],
   "source": [
    "df_all_driver = df_all[df_all.combined.isin(mutations)]\n",
    "print len(df_all_driver)"
   ]
  },
  {
   "cell_type": "code",
   "execution_count": 15,
   "metadata": {
    "scrolled": true
   },
   "outputs": [
    {
     "data": {
      "image/png": "[encoded data removed]",
      "text/plain": [
       "<matplotlib.figure.Figure at 0x7f7d06129190>"
      ]
     },
     "metadata": {},
     "output_type": "display_data"
    }
   ],
   "source": [
    "df_all_driver.allelic_fraction.hist()\n",
    "plt.axvline(df_all_driver.allelic_fraction.quantile(.3), color='k', lw=4)\n",
    "plt.xlabel('Allelic Fraction')\n",
    "plt.ylabel('Number of Mutations')\n",
    "plt.savefig('/cellar/users/ramarty/Data/hla_ii/generated_figures/mutations/allelic_fraction.histogram.pdf')"
   ]
  },
  {
   "cell_type": "code",
   "execution_count": 16,
   "metadata": {},
   "outputs": [
    {
     "data": {
      "text/plain": [
       "0.24657534246599999"
      ]
     },
     "execution_count": 16,
     "metadata": {},
     "output_type": "execute_result"
    }
   ],
   "source": [
    "df_all_driver.allelic_fraction.quantile(.25)"
   ]
  },
  {
   "cell_type": "code",
   "execution_count": 17,
   "metadata": {
    "collapsed": true
   },
   "outputs": [],
   "source": [
    "df_driver_driver_high_allelic_fraction = df_all_driver[df_all_driver.allelic_fraction \\\n",
    "                                                       > df_all_driver.allelic_fraction.quantile(.3)]\n",
    "df_driver_driver_high_allelic_fraction.to_csv('/cellar/users/ramarty/Data/hla/mutations/processed_mutation_files.high_allelic_fraction.csv')"
   ]
  },
  {
   "cell_type": "code",
   "execution_count": 18,
   "metadata": {
    "collapsed": true
   },
   "outputs": [],
   "source": [
    "df_driver_driver_high_allelic_fraction = df_all_driver[df_all_driver.allelic_fraction \\\n",
    "                                                       < df_all_driver.allelic_fraction.quantile(.3)]\n",
    "df_driver_driver_high_allelic_fraction.to_csv('/cellar/users/ramarty/Data/hla/mutations/processed_mutation_files.low_allelic_fraction.csv')"
   ]
  },
  {
   "cell_type": "markdown",
   "metadata": {},
   "source": [
    "Make mutation dataframe on cluster"
   ]
  },
  {
   "cell_type": "code",
   "execution_count": 13,
   "metadata": {
    "collapsed": true
   },
   "outputs": [],
   "source": [
    "def create_cluster_script(categories):\n",
    "\n",
    "    new_script_file = '/cellar/users/ramarty/Projects/hla_ii/data_gathering/mutations/patient_mutation_matrix.low_allelic_fraction.sh'\n",
    "\n",
    "    with open(new_script_file, 'w') as out_file:\n",
    "        out_file.write(\"#! /bin/csh\\n\")\n",
    "        out_file.write(\"#$ -V\\n\")\n",
    "        out_file.write(\"#$ -S /bin/csh\\n\")\n",
    "        out_file.write(\"#$ -o /cellar/users/ramarty/Data/hla_ii/sge-system_files\\n\")\n",
    "        out_file.write(\"#$ -e /cellar/users/ramarty/Data/hla_ii/sge-system_files\\n\")\n",
    "        out_file.write(\"#$ -cwd\\n\")\n",
    "        out_file.write(\"#$ -t 1-{0}\\n\".format(len(categories)))\n",
    "        out_file.write(\"#$ -l h_vmem=8G\\n\")\n",
    "        out_file.write(\"#$ -l long\")\n",
    "        out_file.write(\"\\n\")\n",
    "\n",
    "        out_file.write(\"set categories=({0})\\n\".format(\" \".join(categories)))\n",
    "        out_file.write(\"\\n\")\n",
    "\n",
    "        out_file.write(\"set category=$categories[$SGE_TASK_ID]\\n\")\n",
    "        out_file.write(\"\\n\")\n",
    "\n",
    "        out_file.write(\"date\\n\")\n",
    "        out_file.write(\"hostname\\n\")\n",
    "        # must update\n",
    "        out_file.write(\"python /cellar/users/ramarty/Projects/hla_ii/data_gathering/mutations/patient_mutation_matrix.low_allelic_fraction.py $category\\n\")\n",
    "        out_file.write(\"date\\n\")"
   ]
  },
  {
   "cell_type": "code",
   "execution_count": 14,
   "metadata": {
    "collapsed": true
   },
   "outputs": [],
   "source": [
    "categories = ['cancer']\n",
    "create_cluster_script(categories)"
   ]
  },
  {
   "cell_type": "markdown",
   "metadata": {},
   "source": [
    "Clean"
   ]
  },
  {
   "cell_type": "code",
   "execution_count": 7,
   "metadata": {},
   "outputs": [
    {
     "name": "stdout",
     "output_type": "stream",
     "text": [
      "5942\n"
     ]
    }
   ],
   "source": [
    "df = pd.read_csv('/cellar/users/ramarty/Data/hla_ii/presentation/clean_matrices/patient_mutations.cancer.TCGA.conservative.mut.csv',\n",
    "                index_col=0)\n",
    "conservative_patients = list(df.index)\n",
    "print len(conservative_patients)"
   ]
  },
  {
   "cell_type": "code",
   "execution_count": 8,
   "metadata": {},
   "outputs": [],
   "source": [
    "# high\n",
    "patient_mutation = pd.read_csv('/cellar/users/ramarty/Data/hla_ii/presentation/clean_matrices/patient_mutations.high_allelic_fraction.TCGA.inclusive.mut.csv',\n",
    "                               index_col=0)\n",
    "patient_mutation.loc[conservative_patients].to_csv('/cellar/users/ramarty/Data/hla_ii/presentation/clean_matrices/patient_mutations.high_allelic_fraction.TCGA.conservative.mut.csv')\n",
    "# low\n",
    "patient_mutation = pd.read_csv('/cellar/users/ramarty/Data/hla_ii/presentation/clean_matrices/patient_mutations.low_allelic_fraction.TCGA.inclusive.mut.csv',\n",
    "                               index_col=0)\n",
    "patient_mutation.loc[conservative_patients].to_csv('/cellar/users/ramarty/Data/hla_ii/presentation/clean_matrices/patient_mutations.low_allelic_fraction.TCGA.conservative.mut.csv')"
   ]
  },
  {
   "cell_type": "markdown",
   "metadata": {},
   "source": [
    "Verify match of dataframes"
   ]
  },
  {
   "cell_type": "code",
   "execution_count": 9,
   "metadata": {
    "collapsed": true
   },
   "outputs": [
    {
     "ename": "IOError",
     "evalue": "File /cellar/users/ramarty/Data/hla_ii/presentation/patient_matrices/cancer.patient_mutation.high_allelic_fraction.csv does not exist",
     "output_type": "error",
     "traceback": [
      "\u001b[1;31m---------------------------------------------------------------------------\u001b[0m",
      "\u001b[1;31mIOError\u001b[0m                                   Traceback (most recent call last)",
      "\u001b[1;32m<ipython-input-9-3a64563708ff>\u001b[0m in \u001b[0;36m<module>\u001b[1;34m()\u001b[0m\n\u001b[0;32m      4\u001b[0m                                  index_col=0)\n\u001b[0;32m      5\u001b[0m patient_mutations = pd.read_csv('/cellar/users/ramarty/Data/hla_ii/presentation/patient_matrices/cancer.patient_mutation.high_allelic_fraction.csv',\n\u001b[1;32m----> 6\u001b[1;33m                                  index_col=0)\n\u001b[0m\u001b[0;32m      7\u001b[0m \u001b[1;32mprint\u001b[0m \u001b[0mpatient_affinitiesI\u001b[0m\u001b[1;33m.\u001b[0m\u001b[0mshape\u001b[0m\u001b[1;33m,\u001b[0m \u001b[0mpatient_affinitiesII\u001b[0m\u001b[1;33m.\u001b[0m\u001b[0mshape\u001b[0m\u001b[1;33m,\u001b[0m \u001b[0mpatient_mutations\u001b[0m\u001b[1;33m.\u001b[0m\u001b[0mshape\u001b[0m\u001b[1;33m\u001b[0m\u001b[0m\n",
      "\u001b[1;32m/cellar/users/ramarty/anaconda/lib/python2.7/site-packages/pandas/io/parsers.pyc\u001b[0m in \u001b[0;36mparser_f\u001b[1;34m(filepath_or_buffer, sep, delimiter, header, names, index_col, usecols, squeeze, prefix, mangle_dupe_cols, dtype, engine, converters, true_values, false_values, skipinitialspace, skiprows, skipfooter, nrows, na_values, keep_default_na, na_filter, verbose, skip_blank_lines, parse_dates, infer_datetime_format, keep_date_col, date_parser, dayfirst, iterator, chunksize, compression, thousands, decimal, lineterminator, quotechar, quoting, escapechar, comment, encoding, dialect, tupleize_cols, error_bad_lines, warn_bad_lines, skip_footer, doublequote, delim_whitespace, as_recarray, compact_ints, use_unsigned, low_memory, buffer_lines, memory_map, float_precision)\u001b[0m\n\u001b[0;32m    560\u001b[0m                     skip_blank_lines=skip_blank_lines)\n\u001b[0;32m    561\u001b[0m \u001b[1;33m\u001b[0m\u001b[0m\n\u001b[1;32m--> 562\u001b[1;33m         \u001b[1;32mreturn\u001b[0m \u001b[0m_read\u001b[0m\u001b[1;33m(\u001b[0m\u001b[0mfilepath_or_buffer\u001b[0m\u001b[1;33m,\u001b[0m \u001b[0mkwds\u001b[0m\u001b[1;33m)\u001b[0m\u001b[1;33m\u001b[0m\u001b[0m\n\u001b[0m\u001b[0;32m    563\u001b[0m \u001b[1;33m\u001b[0m\u001b[0m\n\u001b[0;32m    564\u001b[0m     \u001b[0mparser_f\u001b[0m\u001b[1;33m.\u001b[0m\u001b[0m__name__\u001b[0m \u001b[1;33m=\u001b[0m \u001b[0mname\u001b[0m\u001b[1;33m\u001b[0m\u001b[0m\n",
      "\u001b[1;32m/cellar/users/ramarty/anaconda/lib/python2.7/site-packages/pandas/io/parsers.pyc\u001b[0m in \u001b[0;36m_read\u001b[1;34m(filepath_or_buffer, kwds)\u001b[0m\n\u001b[0;32m    313\u001b[0m \u001b[1;33m\u001b[0m\u001b[0m\n\u001b[0;32m    314\u001b[0m     \u001b[1;31m# Create the parser.\u001b[0m\u001b[1;33m\u001b[0m\u001b[1;33m\u001b[0m\u001b[0m\n\u001b[1;32m--> 315\u001b[1;33m     \u001b[0mparser\u001b[0m \u001b[1;33m=\u001b[0m \u001b[0mTextFileReader\u001b[0m\u001b[1;33m(\u001b[0m\u001b[0mfilepath_or_buffer\u001b[0m\u001b[1;33m,\u001b[0m \u001b[1;33m**\u001b[0m\u001b[0mkwds\u001b[0m\u001b[1;33m)\u001b[0m\u001b[1;33m\u001b[0m\u001b[0m\n\u001b[0m\u001b[0;32m    316\u001b[0m \u001b[1;33m\u001b[0m\u001b[0m\n\u001b[0;32m    317\u001b[0m     \u001b[1;32mif\u001b[0m \u001b[1;33m(\u001b[0m\u001b[0mnrows\u001b[0m \u001b[1;32mis\u001b[0m \u001b[1;32mnot\u001b[0m \u001b[0mNone\u001b[0m\u001b[1;33m)\u001b[0m \u001b[1;32mand\u001b[0m \u001b[1;33m(\u001b[0m\u001b[0mchunksize\u001b[0m \u001b[1;32mis\u001b[0m \u001b[1;32mnot\u001b[0m \u001b[0mNone\u001b[0m\u001b[1;33m)\u001b[0m\u001b[1;33m:\u001b[0m\u001b[1;33m\u001b[0m\u001b[0m\n",
      "\u001b[1;32m/cellar/users/ramarty/anaconda/lib/python2.7/site-packages/pandas/io/parsers.pyc\u001b[0m in \u001b[0;36m__init__\u001b[1;34m(self, f, engine, **kwds)\u001b[0m\n\u001b[0;32m    643\u001b[0m             \u001b[0mself\u001b[0m\u001b[1;33m.\u001b[0m\u001b[0moptions\u001b[0m\u001b[1;33m[\u001b[0m\u001b[1;34m'has_index_names'\u001b[0m\u001b[1;33m]\u001b[0m \u001b[1;33m=\u001b[0m \u001b[0mkwds\u001b[0m\u001b[1;33m[\u001b[0m\u001b[1;34m'has_index_names'\u001b[0m\u001b[1;33m]\u001b[0m\u001b[1;33m\u001b[0m\u001b[0m\n\u001b[0;32m    644\u001b[0m \u001b[1;33m\u001b[0m\u001b[0m\n\u001b[1;32m--> 645\u001b[1;33m         \u001b[0mself\u001b[0m\u001b[1;33m.\u001b[0m\u001b[0m_make_engine\u001b[0m\u001b[1;33m(\u001b[0m\u001b[0mself\u001b[0m\u001b[1;33m.\u001b[0m\u001b[0mengine\u001b[0m\u001b[1;33m)\u001b[0m\u001b[1;33m\u001b[0m\u001b[0m\n\u001b[0m\u001b[0;32m    646\u001b[0m \u001b[1;33m\u001b[0m\u001b[0m\n\u001b[0;32m    647\u001b[0m     \u001b[1;32mdef\u001b[0m \u001b[0mclose\u001b[0m\u001b[1;33m(\u001b[0m\u001b[0mself\u001b[0m\u001b[1;33m)\u001b[0m\u001b[1;33m:\u001b[0m\u001b[1;33m\u001b[0m\u001b[0m\n",
      "\u001b[1;32m/cellar/users/ramarty/anaconda/lib/python2.7/site-packages/pandas/io/parsers.pyc\u001b[0m in \u001b[0;36m_make_engine\u001b[1;34m(self, engine)\u001b[0m\n\u001b[0;32m    797\u001b[0m     \u001b[1;32mdef\u001b[0m \u001b[0m_make_engine\u001b[0m\u001b[1;33m(\u001b[0m\u001b[0mself\u001b[0m\u001b[1;33m,\u001b[0m \u001b[0mengine\u001b[0m\u001b[1;33m=\u001b[0m\u001b[1;34m'c'\u001b[0m\u001b[1;33m)\u001b[0m\u001b[1;33m:\u001b[0m\u001b[1;33m\u001b[0m\u001b[0m\n\u001b[0;32m    798\u001b[0m         \u001b[1;32mif\u001b[0m \u001b[0mengine\u001b[0m \u001b[1;33m==\u001b[0m \u001b[1;34m'c'\u001b[0m\u001b[1;33m:\u001b[0m\u001b[1;33m\u001b[0m\u001b[0m\n\u001b[1;32m--> 799\u001b[1;33m             \u001b[0mself\u001b[0m\u001b[1;33m.\u001b[0m\u001b[0m_engine\u001b[0m \u001b[1;33m=\u001b[0m \u001b[0mCParserWrapper\u001b[0m\u001b[1;33m(\u001b[0m\u001b[0mself\u001b[0m\u001b[1;33m.\u001b[0m\u001b[0mf\u001b[0m\u001b[1;33m,\u001b[0m \u001b[1;33m**\u001b[0m\u001b[0mself\u001b[0m\u001b[1;33m.\u001b[0m\u001b[0moptions\u001b[0m\u001b[1;33m)\u001b[0m\u001b[1;33m\u001b[0m\u001b[0m\n\u001b[0m\u001b[0;32m    800\u001b[0m         \u001b[1;32melse\u001b[0m\u001b[1;33m:\u001b[0m\u001b[1;33m\u001b[0m\u001b[0m\n\u001b[0;32m    801\u001b[0m             \u001b[1;32mif\u001b[0m \u001b[0mengine\u001b[0m \u001b[1;33m==\u001b[0m \u001b[1;34m'python'\u001b[0m\u001b[1;33m:\u001b[0m\u001b[1;33m\u001b[0m\u001b[0m\n",
      "\u001b[1;32m/cellar/users/ramarty/anaconda/lib/python2.7/site-packages/pandas/io/parsers.pyc\u001b[0m in \u001b[0;36m__init__\u001b[1;34m(self, src, **kwds)\u001b[0m\n\u001b[0;32m   1211\u001b[0m         \u001b[0mkwds\u001b[0m\u001b[1;33m[\u001b[0m\u001b[1;34m'allow_leading_cols'\u001b[0m\u001b[1;33m]\u001b[0m \u001b[1;33m=\u001b[0m \u001b[0mself\u001b[0m\u001b[1;33m.\u001b[0m\u001b[0mindex_col\u001b[0m \u001b[1;32mis\u001b[0m \u001b[1;32mnot\u001b[0m \u001b[0mFalse\u001b[0m\u001b[1;33m\u001b[0m\u001b[0m\n\u001b[0;32m   1212\u001b[0m \u001b[1;33m\u001b[0m\u001b[0m\n\u001b[1;32m-> 1213\u001b[1;33m         \u001b[0mself\u001b[0m\u001b[1;33m.\u001b[0m\u001b[0m_reader\u001b[0m \u001b[1;33m=\u001b[0m \u001b[0m_parser\u001b[0m\u001b[1;33m.\u001b[0m\u001b[0mTextReader\u001b[0m\u001b[1;33m(\u001b[0m\u001b[0msrc\u001b[0m\u001b[1;33m,\u001b[0m \u001b[1;33m**\u001b[0m\u001b[0mkwds\u001b[0m\u001b[1;33m)\u001b[0m\u001b[1;33m\u001b[0m\u001b[0m\n\u001b[0m\u001b[0;32m   1214\u001b[0m \u001b[1;33m\u001b[0m\u001b[0m\n\u001b[0;32m   1215\u001b[0m         \u001b[1;31m# XXX\u001b[0m\u001b[1;33m\u001b[0m\u001b[1;33m\u001b[0m\u001b[0m\n",
      "\u001b[1;32mpandas/parser.pyx\u001b[0m in \u001b[0;36mpandas.parser.TextReader.__cinit__ (pandas/parser.c:3427)\u001b[1;34m()\u001b[0m\n",
      "\u001b[1;32mpandas/parser.pyx\u001b[0m in \u001b[0;36mpandas.parser.TextReader._setup_parser_source (pandas/parser.c:6861)\u001b[1;34m()\u001b[0m\n",
      "\u001b[1;31mIOError\u001b[0m: File /cellar/users/ramarty/Data/hla_ii/presentation/patient_matrices/cancer.patient_mutation.high_allelic_fraction.csv does not exist"
     ]
    }
   ],
   "source": [
    "patient_affinitiesI = pd.read_csv('/cellar/users/ramarty/Data/hla_ii/presentation/clean_matrices/patient_affinities.cancer.TCGA.inclusive.mut.ClassI.csv',\n",
    "                                 index_col=0)\n",
    "patient_affinitiesII = pd.read_csv('/cellar/users/ramarty/Data/hla_ii/presentation/clean_matrices/patient_affinities.cancer.TCGA.inclusive.mut.ClassII.csv',\n",
    "                                 index_col=0)\n",
    "patient_mutations = pd.read_csv('/cellar/users/ramarty/Data/hla_ii/presentation/patient_matrices/cancer.patient_mutation.high_allelic_fraction.csv',\n",
    "                                 index_col=0)\n",
    "print patient_affinitiesI.shape, patient_affinitiesII.shape, patient_mutations.shape"
   ]
  },
  {
   "cell_type": "code",
   "execution_count": 10,
   "metadata": {
    "scrolled": true
   },
   "outputs": [
    {
     "name": "stdout",
     "output_type": "stream",
     "text": [
      "(5942, 1018) (5942, 1018) (5942, 1018)\n"
     ]
    }
   ],
   "source": [
    "# for low\n",
    "patient_affinitiesI = pd.read_csv('/cellar/users/ramarty/Data/hla_ii/presentation/clean_matrices/patient_affinities.cancer.TCGA.conservative.mut.ClassI.csv',\n",
    "                                 index_col=0)\n",
    "patient_affinitiesII = pd.read_csv('/cellar/users/ramarty/Data/hla_ii/presentation/clean_matrices/patient_affinities.cancer.TCGA.conservative.mut.ClassII.csv',\n",
    "                                 index_col=0)\n",
    "patient_mutations = pd.read_csv('/cellar/users/ramarty/Data/hla_ii/presentation/clean_matrices/patient_mutations.low_allelic_fraction.TCGA.conservative.mut.csv',\n",
    "                                 index_col=0)\n",
    "print patient_affinitiesI.shape, patient_affinitiesII.shape, patient_mutations.shape"
   ]
  },
  {
   "cell_type": "markdown",
   "metadata": {
    "collapsed": true
   },
   "source": [
    "Run odds ratios"
   ]
  },
  {
   "cell_type": "code",
   "execution_count": 19,
   "metadata": {
    "collapsed": true
   },
   "outputs": [],
   "source": [
    "def create_cluster_script(script_label, pans, classes, names, thresholds, tissue_fs, mut_fs, aff_fs):\n",
    "    \n",
    "    new_script_file = \\\n",
    "    '/cellar/users/ramarty/Projects/hla_ii/data_analysis/patient_selection/cluster/OR.{0}.sh'.format(script_label)\n",
    "    \n",
    "    with open(new_script_file, 'w') as out_file:\n",
    "        out_file.write(\"#! /bin/csh\\n\")\n",
    "        out_file.write(\"#$ -V\\n\")\n",
    "        out_file.write(\"#$ -S /bin/csh\\n\")\n",
    "        out_file.write(\"#$ -o /cellar/users/ramarty/Data/hla_ii/sge-system_files\\n\")\n",
    "        out_file.write(\"#$ -e /cellar/users/ramarty/Data/hla_ii/sge-system_files\\n\")\n",
    "        out_file.write(\"#$ -cwd\\n\")\n",
    "        out_file.write(\"#$ -t 1-{0}\\n\".format(len(thresholds)))\n",
    "        out_file.write(\"#$ -l h_vmem=6G\\n\")\n",
    "        out_file.write(\"#$ -tc 50\\n\")\n",
    "        out_file.write(\"#$ -l long\")\n",
    "        out_file.write(\"\\n\")\n",
    "\n",
    "        out_file.write(\"set thresholds=({0})\\n\".format(\" \".join(thresholds)))\n",
    "        out_file.write(\"set classes=({0})\\n\".format(\" \".join(classes)))\n",
    "        out_file.write(\"set tissue_fs=({0})\\n\".format(\" \".join(tissue_fs)))\n",
    "        out_file.write(\"set mut_fs=({0})\\n\".format(\" \".join(mut_fs)))\n",
    "        out_file.write(\"set aff_fs=({0})\\n\".format(\" \".join(aff_fs)))\n",
    "        out_file.write(\"set names=({0})\\n\".format(\" \".join(names)))\n",
    "        out_file.write(\"set pans=({0})\\n\".format(\" \".join(pans)))\n",
    "        out_file.write(\"\\n\")\n",
    "\n",
    "        out_file.write(\"set threshold=$thresholds[$SGE_TASK_ID]\\n\")\n",
    "        out_file.write(\"set class=$classes[$SGE_TASK_ID]\\n\")\n",
    "        out_file.write(\"set tissue_f=$tissue_fs[$SGE_TASK_ID]\\n\")\n",
    "        out_file.write(\"set mut_f=$mut_fs[$SGE_TASK_ID]\\n\")\n",
    "        out_file.write(\"set aff_f=$aff_fs[$SGE_TASK_ID]\\n\")\n",
    "        out_file.write(\"set name=$names[$SGE_TASK_ID]\\n\")\n",
    "        out_file.write(\"set pan=$pans[$SGE_TASK_ID]\\n\")\n",
    "        out_file.write(\"\\n\")\n",
    "        \n",
    "        out_file.write(\"date\\n\")\n",
    "        out_file.write(\"hostname\\n\")\n",
    "        out_file.write(\"\\n\")\n",
    "  \n",
    "        out_file.write(\"Rscript --vanilla /cellar/users/ramarty/Projects/hla_ii/data_analysis/patient_selection/OR_clean.R \" \\\n",
    "                        \"$pan $class $name $threshold $tissue_f $mut_f $aff_f\\n\")\n",
    "        out_file.write(\"\\n\")\n",
    "                       \n",
    "        out_file.write(\"date\\n\")"
   ]
  },
  {
   "cell_type": "code",
   "execution_count": 20,
   "metadata": {
    "collapsed": true
   },
   "outputs": [],
   "source": [
    "pans = ['1', '1', '0', '0']\n",
    "classes = ['class_i', 'class_ii']*2\n",
    "names = ['high_allelic_fraction']*4\n",
    "thresholds = ['2']*4\n",
    "tissue_fs = ['patient_tissues.conservative.csv']*4\n",
    "mut_fs = ['patient_mutations.high_allelic_fraction.TCGA.conservative.mut.csv']*4\n",
    "aff_fs = ['patient_affinities.cancer.TCGA.conservative.mut.ClassI.csv', \n",
    "          'patient_affinities.cancer.TCGA.conservative.mut.ClassII.csv']*2\n",
    "\n",
    "script_label='high_allelic_fraction'\n",
    "create_cluster_script(script_label, pans, classes, names, thresholds, tissue_fs, mut_fs, aff_fs)"
   ]
  },
  {
   "cell_type": "code",
   "execution_count": 21,
   "metadata": {
    "collapsed": true
   },
   "outputs": [],
   "source": [
    "pans = ['1', '1', '0', '0']\n",
    "classes = ['class_i', 'class_ii']*2\n",
    "names = ['low_allelic_fraction']*4\n",
    "thresholds = ['2']*4\n",
    "tissue_fs = ['patient_tissues.conservative.csv']*4\n",
    "mut_fs = ['patient_mutations.low_allelic_fraction.TCGA.conservative.mut.csv']*4\n",
    "aff_fs = ['patient_affinities.cancer.TCGA.conservative.mut.ClassI.csv', \n",
    "          'patient_affinities.cancer.TCGA.conservative.mut.ClassII.csv']*2\n",
    "\n",
    "script_label='low_allelic_fraction'\n",
    "create_cluster_script(script_label, pans, classes, names, thresholds, tissue_fs, mut_fs, aff_fs)"
   ]
  },
  {
   "cell_type": "code",
   "execution_count": null,
   "metadata": {
    "collapsed": true
   },
   "outputs": [],
   "source": []
  }
 ],
 "metadata": {
  "kernelspec": {
   "display_name": "Python 2",
   "language": "python",
   "name": "python2"
  },
  "language_info": {
   "codemirror_mode": {
    "name": "ipython",
    "version": 2
   },
   "file_extension": ".py",
   "mimetype": "text/x-python",
   "name": "python",
   "nbconvert_exporter": "python",
   "pygments_lexer": "ipython2",
   "version": "2.7.15"
  }
 },
 "nbformat": 4,
 "nbformat_minor": 1
}
