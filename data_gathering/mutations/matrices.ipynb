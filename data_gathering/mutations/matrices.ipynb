{
 "cells": [
  {
   "cell_type": "code",
   "execution_count": 1,
   "metadata": {
    "collapsed": false
   },
   "outputs": [
    {
     "name": "stderr",
     "output_type": "stream",
     "text": [
      "/cellar/users/ramarty/anaconda/lib/python2.7/site-packages/IPython/nbformat/current.py:19: UserWarning: IPython.nbformat.current is deprecated.\n",
      "\n",
      "- use IPython.nbformat for read/write/validate public API\n",
      "- use IPython.nbformat.vX directly to composing notebooks of a particular version\n",
      "\n",
      "  \"\"\")\n",
      "/cellar/users/ramarty/anaconda/lib/python2.7/site-packages/sklearn/cross_validation.py:44: DeprecationWarning: This module was deprecated in version 0.18 in favor of the model_selection module into which all the refactored classes and functions are moved. Also note that the interface of the new CV iterators are different from that of this module. This module will be removed in 0.20.\n",
      "  \"This module will be removed in 0.20.\", DeprecationWarning)\n"
     ]
    },
    {
     "name": "stdout",
     "output_type": "stream",
     "text": [
      "Populating the interactive namespace from numpy and matplotlib\n"
     ]
    }
   ],
   "source": [
    "import io\n",
    "from IPython.nbformat import current\n",
    "def execute_notebook(nbfile):\n",
    "    with io.open(nbfile) as f:\n",
    "        nb = current.read(f, 'json')\n",
    "    ip = get_ipython()\n",
    "    for cell in nb.worksheets[0].cells:\n",
    "        if cell.cell_type != 'code':\n",
    "            continue\n",
    "        ip.run_cell(cell.input)\n",
    "execute_notebook(\"/cellar/users/ramarty/Projects/hla_ii/bin/imports.ipynb\")"
   ]
  },
  {
   "cell_type": "markdown",
   "metadata": {},
   "source": [
    "#### Passengers"
   ]
  },
  {
   "cell_type": "code",
   "execution_count": 2,
   "metadata": {
    "collapsed": true
   },
   "outputs": [],
   "source": [
    "def create_cluster_script(categories):\n",
    "\n",
    "    new_script_file = '/cellar/users/ramarty/Projects/hla_ii/data_gathering/mutations/patient_mutation_matrix.sh'\n",
    "\n",
    "    with open(new_script_file, 'w') as out_file:\n",
    "        out_file.write(\"#! /bin/csh\\n\")\n",
    "        out_file.write(\"#$ -V\\n\")\n",
    "        out_file.write(\"#$ -S /bin/csh\\n\")\n",
    "        out_file.write(\"#$ -o /cellar/users/ramarty/Data/hla_ii/sge-system_files\\n\")\n",
    "        out_file.write(\"#$ -e /cellar/users/ramarty/Data/hla_ii/sge-system_files\\n\")\n",
    "        out_file.write(\"#$ -cwd\\n\")\n",
    "        out_file.write(\"#$ -t 1-{0}\\n\".format(len(categories)))\n",
    "        out_file.write(\"#$ -l h_vmem=8G\\n\")\n",
    "        out_file.write(\"#$ -l long\")\n",
    "        out_file.write(\"\\n\")\n",
    "\n",
    "        out_file.write(\"set categories=({0})\\n\".format(\" \".join(categories)))\n",
    "        out_file.write(\"\\n\")\n",
    "\n",
    "        out_file.write(\"set category=$categories[$SGE_TASK_ID]\\n\")\n",
    "        out_file.write(\"\\n\")\n",
    "\n",
    "        out_file.write(\"date\\n\")\n",
    "        out_file.write(\"hostname\\n\")\n",
    "        out_file.write(\"python /cellar/users/ramarty/Projects/hla_ii/data_gathering/mutations/patient_mutation_matrix.py $category\\n\")\n",
    "        out_file.write(\"date\\n\")"
   ]
  },
  {
   "cell_type": "code",
   "execution_count": 3,
   "metadata": {
    "collapsed": true
   },
   "outputs": [],
   "source": [
    "create_cluster_script(['cgc_new'])"
   ]
  },
  {
   "cell_type": "code",
   "execution_count": 9,
   "metadata": {
    "collapsed": true
   },
   "outputs": [],
   "source": [
    "create_cluster_script(['passenger'])"
   ]
  },
  {
   "cell_type": "markdown",
   "metadata": {},
   "source": [
    "#### Germline <br>\n",
    "see: http://localhost:5000/notebooks/Projects/hla_new/post_submission/individual_analysis/germline_analysis.gather.ipynb"
   ]
  },
  {
   "cell_type": "code",
   "execution_count": 11,
   "metadata": {
    "collapsed": true
   },
   "outputs": [],
   "source": [
    "df = pd.read_csv('/cellar/users/ramarty/Data/hla/git_data/data/patient_affinities.germline.PHBR.csv',index_col=0)"
   ]
  },
  {
   "cell_type": "code",
   "execution_count": 12,
   "metadata": {
    "collapsed": false
   },
   "outputs": [
    {
     "data": {
      "text/plain": [
       "(3657, 1000)"
      ]
     },
     "execution_count": 12,
     "metadata": {},
     "output_type": "execute_result"
    }
   ],
   "source": [
    "df.shape"
   ]
  },
  {
   "cell_type": "code",
   "execution_count": 14,
   "metadata": {
    "collapsed": true
   },
   "outputs": [],
   "source": [
    "def missesense_mutation(x):\n",
    "    if x[0].isupper() and x[-1].isupper() and x[0] != x[-1]:\n",
    "        return True\n",
    "    else:\n",
    "        return False\n",
    "def merge_cols(x):\n",
    "    return '{0}_{1}'.format(x[0], x[1])"
   ]
  },
  {
   "cell_type": "code",
   "execution_count": 24,
   "metadata": {
    "collapsed": false
   },
   "outputs": [],
   "source": [
    "all_dfs = []\n",
    "for x in ['/cellar/users/ramarty/Data/hla/germline/Variant.Result.chr_1.tsv',\n",
    "           '/cellar/users/ramarty/Data/hla/germline/Variant.Result.chr_2_4.tsv',\n",
    "           '/cellar/users/ramarty/Data/hla/germline/Variant.Result.chr_5_7.tsv']:\n",
    "    df = pd.read_csv(x, skiprows=11, sep='\\t')\n",
    "    all_dfs.append(df)\n",
    "df = pd.concat(all_dfs)\n",
    "df['valid'] = df['Protein sequence change'].apply(missesense_mutation)\n",
    "df = df[df.valid]"
   ]
  },
  {
   "cell_type": "code",
   "execution_count": 27,
   "metadata": {
    "collapsed": false
   },
   "outputs": [],
   "source": [
    "df = df[['ID', 'dbSNP', 'HUGO symbol', 'Protein sequence change']]\n",
    "df.columns = ['ID', 'dbSNP', 'gene', 'mutation']"
   ]
  },
  {
   "cell_type": "code",
   "execution_count": 31,
   "metadata": {
    "collapsed": true
   },
   "outputs": [],
   "source": [
    "df['valid'] = df.mutation.apply(missesense_mutation)\n",
    "df['combined'] = df[['gene', 'mutation']].apply(merge_cols, axis=1)\n",
    "df = df[df.valid]"
   ]
  },
  {
   "cell_type": "code",
   "execution_count": 33,
   "metadata": {
    "collapsed": false
   },
   "outputs": [
    {
     "data": {
      "text/html": [
       "<div>\n",
       "<table border=\"1\" class=\"dataframe\">\n",
       "  <thead>\n",
       "    <tr style=\"text-align: right;\">\n",
       "      <th></th>\n",
       "      <th>ID</th>\n",
       "      <th>dbSNP</th>\n",
       "      <th>gene</th>\n",
       "      <th>mutation</th>\n",
       "      <th>valid</th>\n",
       "      <th>combined</th>\n",
       "    </tr>\n",
       "  </thead>\n",
       "  <tbody>\n",
       "    <tr>\n",
       "      <th>1</th>\n",
       "      <td>1:909238</td>\n",
       "      <td>rs3829740</td>\n",
       "      <td>PLEKHN1</td>\n",
       "      <td>R487P</td>\n",
       "      <td>True</td>\n",
       "      <td>PLEKHN1_R487P</td>\n",
       "    </tr>\n",
       "    <tr>\n",
       "      <th>2</th>\n",
       "      <td>1:914333</td>\n",
       "      <td>rs13302979</td>\n",
       "      <td>C1orf170</td>\n",
       "      <td>E599Q</td>\n",
       "      <td>True</td>\n",
       "      <td>C1orf170_E599Q</td>\n",
       "    </tr>\n",
       "    <tr>\n",
       "      <th>3</th>\n",
       "      <td>1:914852</td>\n",
       "      <td>rs13303368</td>\n",
       "      <td>C1orf170</td>\n",
       "      <td>Q426E</td>\n",
       "      <td>True</td>\n",
       "      <td>C1orf170_Q426E</td>\n",
       "    </tr>\n",
       "    <tr>\n",
       "      <th>5</th>\n",
       "      <td>1:916549</td>\n",
       "      <td>rs6660139</td>\n",
       "      <td>C1orf170</td>\n",
       "      <td>W20R</td>\n",
       "      <td>True</td>\n",
       "      <td>C1orf170_W20R</td>\n",
       "    </tr>\n",
       "    <tr>\n",
       "      <th>6</th>\n",
       "      <td>1:935222</td>\n",
       "      <td>rs2298214</td>\n",
       "      <td>HES4</td>\n",
       "      <td>R44S</td>\n",
       "      <td>True</td>\n",
       "      <td>HES4_R44S</td>\n",
       "    </tr>\n",
       "  </tbody>\n",
       "</table>\n",
       "</div>"
      ],
      "text/plain": [
       "         ID       dbSNP      gene mutation valid        combined\n",
       "1  1:909238   rs3829740   PLEKHN1    R487P  True   PLEKHN1_R487P\n",
       "2  1:914333  rs13302979  C1orf170    E599Q  True  C1orf170_E599Q\n",
       "3  1:914852  rs13303368  C1orf170    Q426E  True  C1orf170_Q426E\n",
       "5  1:916549   rs6660139  C1orf170     W20R  True   C1orf170_W20R\n",
       "6  1:935222   rs2298214      HES4     R44S  True       HES4_R44S"
      ]
     },
     "execution_count": 33,
     "metadata": {},
     "output_type": "execute_result"
    }
   ],
   "source": [
    "df.head()"
   ]
  },
  {
   "cell_type": "code",
   "execution_count": 37,
   "metadata": {
    "collapsed": false
   },
   "outputs": [],
   "source": [
    "# reduce to those with affinity\n",
    "mutations = [x.strip() for x in open('/cellar/users/ramarty/Data/hla_ii/presentation/residues/germline.txt').readlines()]\n",
    "df = df[df.combined.isin(mutations)]"
   ]
  },
  {
   "cell_type": "code",
   "execution_count": 43,
   "metadata": {
    "collapsed": false
   },
   "outputs": [
    {
     "name": "stdout",
     "output_type": "stream",
     "text": [
      "1000\n"
     ]
    }
   ],
   "source": [
    "ids_w_affinity_ii = list(df.ID)\n",
    "print len(ids_w_affinity_ii)"
   ]
  },
  {
   "cell_type": "code",
   "execution_count": 45,
   "metadata": {
    "collapsed": true
   },
   "outputs": [],
   "source": [
    "with open('/cellar/users/ramarty/Data/hla/germline/ids_w_affinity_ii.txt', 'w') as out_file:\n",
    "    for snp in ids_w_affinity_ii:\n",
    "        out_file.write('{0}\\n'.format(snp))"
   ]
  },
  {
   "cell_type": "markdown",
   "metadata": {},
   "source": [
    "Use plink to get the patient associated variants <br>\n",
    "cd /cellar/users/ramarty/Data/hla/germline <br>\n",
    "/cellar/users/hcarter/programs/plink-1.9/plink -bfile imputed --snps-only --extract ids_w_affinity_ii.txt --recode A --out ids_w_affinity_ii"
   ]
  },
  {
   "cell_type": "code",
   "execution_count": 46,
   "metadata": {
    "collapsed": true
   },
   "outputs": [],
   "source": [
    "patient_mutation = pd.read_csv('/cellar/users/ramarty/Data/hla/germline/ids_w_affinity_ii.raw', sep=' ')"
   ]
  },
  {
   "cell_type": "code",
   "execution_count": 47,
   "metadata": {
    "collapsed": false
   },
   "outputs": [],
   "source": [
    "patient_mutation.index = patient_mutation.FID\n",
    "patient_mutation = patient_mutation.ix[:, 6:]\n",
    "patient_mutation.columns = list(mutations)"
   ]
  },
  {
   "cell_type": "code",
   "execution_count": 48,
   "metadata": {
    "collapsed": false
   },
   "outputs": [
    {
     "data": {
      "text/plain": [
       "(4165, 1000)"
      ]
     },
     "execution_count": 48,
     "metadata": {},
     "output_type": "execute_result"
    }
   ],
   "source": [
    "patient_mutation.shape"
   ]
  },
  {
   "cell_type": "code",
   "execution_count": 50,
   "metadata": {
    "collapsed": false
   },
   "outputs": [],
   "source": [
    "columns = list(patient_mutation.columns)"
   ]
  },
  {
   "cell_type": "code",
   "execution_count": 51,
   "metadata": {
    "collapsed": true
   },
   "outputs": [],
   "source": [
    "def transform(x):\n",
    "    if x == 2:\n",
    "        return 1\n",
    "    else:\n",
    "        return x"
   ]
  },
  {
   "cell_type": "code",
   "execution_count": 53,
   "metadata": {
    "collapsed": false
   },
   "outputs": [],
   "source": [
    "for col in columns:\n",
    "    patient_mutation[col] = patient_mutation[col].apply(transform)"
   ]
  },
  {
   "cell_type": "code",
   "execution_count": 55,
   "metadata": {
    "collapsed": true
   },
   "outputs": [],
   "source": [
    "patient_mutation.to_csv('/cellar/users/ramarty/Data/hla_ii/presentation/patient_matrices/germline.patient_mutations.csv', index_col=0)"
   ]
  },
  {
   "cell_type": "code",
   "execution_count": null,
   "metadata": {
    "collapsed": true
   },
   "outputs": [],
   "source": []
  }
 ],
 "metadata": {
  "kernelspec": {
   "display_name": "Python 2",
   "language": "python",
   "name": "python2"
  },
  "language_info": {
   "codemirror_mode": {
    "name": "ipython",
    "version": 2
   },
   "file_extension": ".py",
   "mimetype": "text/x-python",
   "name": "python",
   "nbconvert_exporter": "python",
   "pygments_lexer": "ipython2",
   "version": "2.7.14"
  }
 },
 "nbformat": 4,
 "nbformat_minor": 0
}
