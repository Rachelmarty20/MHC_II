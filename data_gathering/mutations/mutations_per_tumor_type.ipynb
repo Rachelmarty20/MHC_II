{
 "cells": [
  {
   "cell_type": "code",
   "execution_count": 3,
   "metadata": {
    "collapsed": false
   },
   "outputs": [
    {
     "name": "stdout",
     "output_type": "stream",
     "text": [
      "Populating the interactive namespace from numpy and matplotlib\n"
     ]
    }
   ],
   "source": [
    "import io\n",
    "from IPython.nbformat import current\n",
    "def execute_notebook(nbfile):\n",
    "    with io.open(nbfile) as f:\n",
    "        nb = current.read(f, 'json')\n",
    "    ip = get_ipython()\n",
    "    for cell in nb.worksheets[0].cells:\n",
    "        if cell.cell_type != 'code':\n",
    "            continue\n",
    "        ip.run_cell(cell.input)\n",
    "execute_notebook(\"/cellar/users/ramarty/Projects/hla_ii/bin/imports.ipynb\")"
   ]
  },
  {
   "cell_type": "code",
   "execution_count": 6,
   "metadata": {
    "collapsed": true
   },
   "outputs": [],
   "source": [
    "patient_tissues = pd.read_csv('/cellar/users/ramarty/Data/hla_ii/presentation/clean_matrices/patient_tissues.csv',\n",
    "                              index_col=0)\n",
    "patient_mutations = pd.read_csv('/cellar/users/ramarty/Data/hla_ii/presentation/clean_matrices/patient_mutations.cancer.TCGA.inclusive.mut.csv',\n",
    "                              index_col=0)\n",
    "patient_affinitiesI = pd.read_csv('/cellar/users/ramarty/Data/hla_ii/presentation/clean_matrices/patient_affinities.cancer.TCGA.inclusive.mut.ClassI.csv',\n",
    "                              index_col=0)\n",
    "patient_affinitiesII = pd.read_csv('/cellar/users/ramarty/Data/hla_ii/presentation/clean_matrices/patient_affinities.cancer.TCGA.inclusive.mut.ClassII.csv',\n",
    "                              index_col=0)"
   ]
  },
  {
   "cell_type": "code",
   "execution_count": 14,
   "metadata": {
    "collapsed": false
   },
   "outputs": [
    {
     "name": "stdout",
     "output_type": "stream",
     "text": [
      "GBM 318\n",
      "OV 138\n",
      "LUAD 478\n",
      "LUSC 399\n",
      "PRAD 123\n",
      "BLCA 415\n",
      "PAAD 240\n",
      "LIHC 175\n",
      "STAD 458\n",
      "SKCM 833\n",
      "THCA 344\n",
      "COAD 702\n",
      "HNSC 475\n",
      "BRCA 199\n",
      "UCEC 276\n",
      "READ 176\n",
      "LGG 727\n",
      "UCS 105\n"
     ]
    }
   ],
   "source": [
    "tissues_to_use = []\n",
    "for tissue in patient_tissues.Tissue.unique():\n",
    "    if patient_mutations.ix[list(patient_tissues[patient_tissues.Tissue == tissue].index)].sum().sum() > 50:\n",
    "        tissues_to_use.append(tissue)\n",
    "        print tissue, patient_mutations.ix[list(patient_tissues[patient_tissues.Tissue == tissue].index)].sum().sum()"
   ]
  },
  {
   "cell_type": "code",
   "execution_count": 15,
   "metadata": {
    "collapsed": false
   },
   "outputs": [
    {
     "data": {
      "text/plain": [
       "18"
      ]
     },
     "execution_count": 15,
     "metadata": {},
     "output_type": "execute_result"
    }
   ],
   "source": [
    "len(tissues_to_use)"
   ]
  },
  {
   "cell_type": "code",
   "execution_count": 16,
   "metadata": {
    "collapsed": false
   },
   "outputs": [
    {
     "data": {
      "text/plain": [
       "['GBM',\n",
       " 'OV',\n",
       " 'LUAD',\n",
       " 'LUSC',\n",
       " 'PRAD',\n",
       " 'BLCA',\n",
       " 'PAAD',\n",
       " 'LIHC',\n",
       " 'STAD',\n",
       " 'SKCM',\n",
       " 'THCA',\n",
       " 'COAD',\n",
       " 'HNSC',\n",
       " 'BRCA',\n",
       " 'UCEC',\n",
       " 'READ',\n",
       " 'LGG',\n",
       " 'UCS']"
      ]
     },
     "execution_count": 16,
     "metadata": {},
     "output_type": "execute_result"
    }
   ],
   "source": [
    "tissues_to_use"
   ]
  },
  {
   "cell_type": "code",
   "execution_count": 8,
   "metadata": {
    "collapsed": false
   },
   "outputs": [
    {
     "data": {
      "text/html": [
       "<div>\n",
       "<table border=\"1\" class=\"dataframe\">\n",
       "  <thead>\n",
       "    <tr style=\"text-align: right;\">\n",
       "      <th></th>\n",
       "      <th>EGFR_ifd_55174772</th>\n",
       "      <th>NOTCH1_ifd_136518618</th>\n",
       "      <th>PIK3R1_ifd_68295304</th>\n",
       "      <th>CTNNB1_ifd_41224643</th>\n",
       "      <th>PIK3R1_ifd_68293795</th>\n",
       "      <th>ERBB2_ifi_39724728</th>\n",
       "      <th>EGFR_ifd_55174773</th>\n",
       "      <th>PIK3R1_ifd_68293758</th>\n",
       "      <th>TP53_ifd_7675066</th>\n",
       "      <th>BRAF_ifd_140778037</th>\n",
       "      <th>...</th>\n",
       "      <th>THRAP3_R504W</th>\n",
       "      <th>KMT2C_W430C</th>\n",
       "      <th>KMT2B_R1597Q</th>\n",
       "      <th>PIK3R1_L573P</th>\n",
       "      <th>KMT2C_D4425Y</th>\n",
       "      <th>TCF12_R589H</th>\n",
       "      <th>TP53_A161D</th>\n",
       "      <th>KEAP1_V155F</th>\n",
       "      <th>NF1_P1990Q</th>\n",
       "      <th>TP53_I254S</th>\n",
       "    </tr>\n",
       "  </thead>\n",
       "  <tbody>\n",
       "    <tr>\n",
       "      <th>Tissue</th>\n",
       "      <td>NaN</td>\n",
       "      <td>NaN</td>\n",
       "      <td>NaN</td>\n",
       "      <td>NaN</td>\n",
       "      <td>NaN</td>\n",
       "      <td>NaN</td>\n",
       "      <td>NaN</td>\n",
       "      <td>NaN</td>\n",
       "      <td>NaN</td>\n",
       "      <td>NaN</td>\n",
       "      <td>...</td>\n",
       "      <td>NaN</td>\n",
       "      <td>NaN</td>\n",
       "      <td>NaN</td>\n",
       "      <td>NaN</td>\n",
       "      <td>NaN</td>\n",
       "      <td>NaN</td>\n",
       "      <td>NaN</td>\n",
       "      <td>NaN</td>\n",
       "      <td>NaN</td>\n",
       "      <td>NaN</td>\n",
       "    </tr>\n",
       "  </tbody>\n",
       "</table>\n",
       "<p>1 rows × 1018 columns</p>\n",
       "</div>"
      ],
      "text/plain": [
       "        EGFR_ifd_55174772  NOTCH1_ifd_136518618  PIK3R1_ifd_68295304  \\\n",
       "Tissue                NaN                   NaN                  NaN   \n",
       "\n",
       "        CTNNB1_ifd_41224643  PIK3R1_ifd_68293795  ERBB2_ifi_39724728  \\\n",
       "Tissue                  NaN                  NaN                 NaN   \n",
       "\n",
       "        EGFR_ifd_55174773  PIK3R1_ifd_68293758  TP53_ifd_7675066  \\\n",
       "Tissue                NaN                  NaN               NaN   \n",
       "\n",
       "        BRAF_ifd_140778037     ...      THRAP3_R504W  KMT2C_W430C  \\\n",
       "Tissue                 NaN     ...               NaN          NaN   \n",
       "\n",
       "        KMT2B_R1597Q  PIK3R1_L573P  KMT2C_D4425Y  TCF12_R589H  TP53_A161D  \\\n",
       "Tissue           NaN           NaN           NaN          NaN         NaN   \n",
       "\n",
       "        KEAP1_V155F  NF1_P1990Q  TP53_I254S  \n",
       "Tissue          NaN         NaN         NaN  \n",
       "\n",
       "[1 rows x 1018 columns]"
      ]
     },
     "execution_count": 8,
     "metadata": {},
     "output_type": "execute_result"
    }
   ],
   "source": [
    "patient_mutations.ix[list(patient_tissues[patient_tissues.Tissue == tissue])]"
   ]
  },
  {
   "cell_type": "code",
   "execution_count": 11,
   "metadata": {
    "collapsed": false
   },
   "outputs": [
    {
     "data": {
      "text/plain": [
       "['TCGA-RZ-AB0B',\n",
       " 'TCGA-V4-A9E5',\n",
       " 'TCGA-V4-A9E7',\n",
       " 'TCGA-V4-A9E8',\n",
       " 'TCGA-V4-A9E9',\n",
       " 'TCGA-V4-A9EA',\n",
       " 'TCGA-V4-A9EC',\n",
       " 'TCGA-V4-A9ED',\n",
       " 'TCGA-V4-A9EE',\n",
       " 'TCGA-V4-A9EF',\n",
       " 'TCGA-V4-A9EH',\n",
       " 'TCGA-V4-A9EI',\n",
       " 'TCGA-V4-A9EJ',\n",
       " 'TCGA-V4-A9EK',\n",
       " 'TCGA-V4-A9EL',\n",
       " 'TCGA-V4-A9EM',\n",
       " 'TCGA-V4-A9EO',\n",
       " 'TCGA-V4-A9EQ',\n",
       " 'TCGA-V4-A9ES',\n",
       " 'TCGA-V4-A9ET',\n",
       " 'TCGA-V4-A9EU',\n",
       " 'TCGA-V4-A9EV',\n",
       " 'TCGA-V4-A9EW',\n",
       " 'TCGA-V4-A9EX',\n",
       " 'TCGA-V4-A9EY',\n",
       " 'TCGA-V4-A9EZ',\n",
       " 'TCGA-V4-A9F0',\n",
       " 'TCGA-V4-A9F1',\n",
       " 'TCGA-V4-A9F2',\n",
       " 'TCGA-V4-A9F3',\n",
       " 'TCGA-V4-A9F4',\n",
       " 'TCGA-V4-A9F5',\n",
       " 'TCGA-V4-A9F7',\n",
       " 'TCGA-V4-A9F8',\n",
       " 'TCGA-VD-A8K8',\n",
       " 'TCGA-VD-A8K9',\n",
       " 'TCGA-VD-A8KA',\n",
       " 'TCGA-VD-A8KB',\n",
       " 'TCGA-VD-A8KD',\n",
       " 'TCGA-VD-A8KE',\n",
       " 'TCGA-VD-A8KF',\n",
       " 'TCGA-VD-A8KG',\n",
       " 'TCGA-VD-A8KH',\n",
       " 'TCGA-VD-A8KI',\n",
       " 'TCGA-VD-A8KJ',\n",
       " 'TCGA-VD-A8KK',\n",
       " 'TCGA-VD-A8KL',\n",
       " 'TCGA-VD-A8KM',\n",
       " 'TCGA-VD-A8KN',\n",
       " 'TCGA-VD-A8KO',\n",
       " 'TCGA-VD-AA8M',\n",
       " 'TCGA-VD-AA8N',\n",
       " 'TCGA-VD-AA8O',\n",
       " 'TCGA-VD-AA8P',\n",
       " 'TCGA-VD-AA8Q',\n",
       " 'TCGA-VD-AA8R',\n",
       " 'TCGA-VD-AA8S',\n",
       " 'TCGA-VD-AA8T',\n",
       " 'TCGA-WC-A87T',\n",
       " 'TCGA-WC-A87U',\n",
       " 'TCGA-WC-A87W',\n",
       " 'TCGA-WC-A87Y',\n",
       " 'TCGA-WC-A880',\n",
       " 'TCGA-WC-A881',\n",
       " 'TCGA-WC-A882',\n",
       " 'TCGA-WC-A883',\n",
       " 'TCGA-WC-A884',\n",
       " 'TCGA-WC-A888',\n",
       " 'TCGA-WC-A88A',\n",
       " 'TCGA-WC-AA9A',\n",
       " 'TCGA-WC-AA9E',\n",
       " 'TCGA-YZ-A980',\n",
       " 'TCGA-YZ-A982',\n",
       " 'TCGA-YZ-A983',\n",
       " 'TCGA-YZ-A984',\n",
       " 'TCGA-YZ-A985']"
      ]
     },
     "execution_count": 11,
     "metadata": {},
     "output_type": "execute_result"
    }
   ],
   "source": [
    "list(patient_tissues[patient_tissues.Tissue == tissue].index)"
   ]
  },
  {
   "cell_type": "code",
   "execution_count": 10,
   "metadata": {
    "collapsed": false
   },
   "outputs": [
    {
     "data": {
      "text/plain": [
       "'UVM'"
      ]
     },
     "execution_count": 10,
     "metadata": {},
     "output_type": "execute_result"
    }
   ],
   "source": [
    "tissue"
   ]
  },
  {
   "cell_type": "code",
   "execution_count": null,
   "metadata": {
    "collapsed": true
   },
   "outputs": [],
   "source": []
  }
 ],
 "metadata": {
  "kernelspec": {
   "display_name": "Python 2",
   "language": "python",
   "name": "python2"
  },
  "language_info": {
   "codemirror_mode": {
    "name": "ipython",
    "version": 2
   },
   "file_extension": ".py",
   "mimetype": "text/x-python",
   "name": "python",
   "nbconvert_exporter": "python",
   "pygments_lexer": "ipython2",
   "version": "2.7.14"
  }
 },
 "nbformat": 4,
 "nbformat_minor": 0
}
