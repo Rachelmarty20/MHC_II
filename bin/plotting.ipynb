{
 "cells": [
  {
   "cell_type": "code",
   "execution_count": 1,
   "metadata": {
    "collapsed": true
   },
   "outputs": [],
   "source": [
    "def plot_tissues(df, outfile):\n",
    "    df['Error'] = df['OR'] - df['Lci']\n",
    "    ordered_tissues = df.OR.sort_values(ascending=False).index\n",
    "    df = df.ix[ordered_tissues]\n",
    "    plt.axvline(1, color='lightgrey')\n",
    "    plt.errorbar(df.OR, [x + 0.2 for x in range(len(df))[::-1]], \n",
    "                 xerr=list(df.Error), fmt='o', \n",
    "                 color='grey', label='Class I')\n",
    "    plt.yticks(range(len(df))[::-1], list(df.index))\n",
    "    plt.ylim(-0.5, len(df)-0.5)\n",
    "    plt.xlabel('Odds ratio')\n",
    "    if outfile != None:\n",
    "        plt.savefig(outfile, bbox_inches='tight')\n",
    "    return plt\n",
    "def plot_tissue_comparison(df1, df2, cat_name1, cat_name2, outfile):\n",
    "    df1['Error'] = df1['OR'] - df1['Lci']\n",
    "    df2['Error'] = df2['OR'] - df2['Lci']\n",
    "    ordered_tissues = df1.OR.sort_values(ascending=False).index\n",
    "    df1 = df1.ix[ordered_tissues]\n",
    "    df2 = df2.ix[ordered_tissues]\n",
    "\n",
    "    plt.axvline(1, color='lightgrey')\n",
    "    plt.errorbar(df1.OR, [x + 0.1 for x in range(len(df1))[::-1]], \n",
    "                 xerr=list(df1.Error), fmt='o', \n",
    "                 color='k', label=cat_name1)\n",
    "    plt.errorbar(df2.OR, [x - 0.1 for x in range(len(df2))[::-1]], \n",
    "                 xerr=list(df2.Error), fmt='o', \n",
    "                 color='grey', label=cat_name2)\n",
    "    plt.yticks(range(len(ordered_tissues))[::-1], list(ordered_tissues))\n",
    "    plt.ylabel('')\n",
    "    plt.ylim(-0.5, len(ordered_tissues)-0.5)\n",
    "    plt.legend(loc=4)\n",
    "    plt.xlabel('Odds ratio')\n",
    "    if outfile != None:\n",
    "        plt.savefig(outfile, bbox_inches='tight')\n",
    "    return plt\n",
    "def plot_pan_comparison(pan, cat, outfile):\n",
    "    cat_name1, cat_name2 = pan[cat].unique()    \n",
    "    pan['Error'] = pan['OR'] - pan['conf_OR_low']\n",
    "    #plt.axvline(1, color='lightgrey')\n",
    "    plt.errorbar(pan[pan[cat] == cat_name1].OR, [x + 0.1 for x in range(len(pan[pan[cat] == cat_name1]))[::-1]], \n",
    "                 xerr=list(pan[pan[cat] == cat_name1].Error), fmt='o', \n",
    "                 color='k', label=cat_name1)\n",
    "    plt.errorbar(pan[pan[cat] == cat_name2].OR, [x - 0.1 for x in range(len(pan[pan[cat] == cat_name2]))[::-1]], \n",
    "                 xerr=list(pan[pan[cat] == cat_name2].Error), fmt='o', \n",
    "                 color='grey', label=cat_name2)\n",
    "    plt.yticks([1, 0], ['MHC {0}'.format(x) for x in list(pan[pan[cat] == cat_name2].Class)])\n",
    "    plt.ylabel('')\n",
    "    plt.xlabel('Odds ratio')\n",
    "    plt.ylim(-0.5, 1.5)\n",
    "    plt.legend(loc=4)\n",
    "    if outfile != None:\n",
    "        plt.savefig(outfile, bbox_inches='tight')\n",
    "    return plt"
   ]
  },
  {
   "cell_type": "code",
   "execution_count": null,
   "metadata": {
    "collapsed": true
   },
   "outputs": [],
   "source": [
    "def plot_pan_comparison_by_subject(pan, cat, outfile):\n",
    "    cat_name1, cat_name2 = pan[cat].unique()    \n",
    "    pan['Error'] = pan['OR'] - pan['conf_OR_low']\n",
    "    #plt.axvline(1, color='lightgrey')\n",
    "    plt.errorbar(pan[pan[cat] == cat_name1].OR, [x + 0.1 for x in range(len(pan[pan[cat] == cat_name1]))[::-1]], \n",
    "                 xerr=list(pan[pan[cat] == cat_name1].Error), fmt='o', \n",
    "                 color='k', label=cat_name1)\n",
    "    plt.errorbar(pan[pan[cat] == cat_name2].OR, [x - 0.1 for x in range(len(pan[pan[cat] == cat_name2]))[::-1]], \n",
    "                 xerr=list(pan[pan[cat] == cat_name2].Error), fmt='o', \n",
    "                 color='grey', label=cat_name2)\n",
    "    plt.yticks([1, 0], ['MHC {0}'.format(x) for x in list(pan[pan[cat] == cat_name2].Class)])\n",
    "    plt.ylabel('')\n",
    "    plt.xlabel('Odds ratio')\n",
    "    plt.ylim(-0.5, 1.5)\n",
    "    plt.legend(loc=4)\n",
    "    if outfile != None:\n",
    "        plt.savefig(outfile, bbox_inches='tight')\n",
    "    return plt"
   ]
  },
  {
   "cell_type": "code",
   "execution_count": null,
   "metadata": {
    "collapsed": true
   },
   "outputs": [],
   "source": [
    "def plot_pan_comparison_single(pan, cat, outfile):\n",
    "    cat_name1, cat_name2 = pan[cat].unique()    \n",
    "    pan['Error'] = pan['OR'] - pan['conf_OR_low']\n",
    "    plt.axvline(1, color='lightgrey')\n",
    "    plt.errorbar(pan[pan[cat] == cat_name1].OR, [x + 0.1 for x in range(len(pan[pan[cat] == cat_name1]))[::-1]], \n",
    "                 xerr=list(pan[pan[cat] == cat_name1].Error), fmt='o', \n",
    "                 color='k', label=cat_name1)\n",
    "    plt.errorbar(pan[pan[cat] == cat_name2].OR, [x - 0.1 for x in range(len(pan[pan[cat] == cat_name2]))[::-1]], \n",
    "                 xerr=list(pan[pan[cat] == cat_name2].Error), fmt='o', \n",
    "                 color='grey', label=cat_name2)\n",
    "    plt.yticks([0], ['MHC {0}'.format(x) for x in list(pan[pan[cat] == cat_name2].Class)])\n",
    "    plt.ylabel('')\n",
    "    plt.xlabel('Odds ratio')\n",
    "    plt.ylim(-0.5, 0.5)\n",
    "    plt.legend(loc=4)\n",
    "    if outfile != None:\n",
    "        plt.savefig(outfile, bbox_inches='tight')\n",
    "    \n",
    "    return plt"
   ]
  }
 ],
 "metadata": {
  "kernelspec": {
   "display_name": "Python 2",
   "language": "python",
   "name": "python2"
  },
  "language_info": {
   "codemirror_mode": {
    "name": "ipython",
    "version": 2
   },
   "file_extension": ".py",
   "mimetype": "text/x-python",
   "name": "python",
   "nbconvert_exporter": "python",
   "pygments_lexer": "ipython2",
   "version": "2.7.14"
  }
 },
 "nbformat": 4,
 "nbformat_minor": 0
}
