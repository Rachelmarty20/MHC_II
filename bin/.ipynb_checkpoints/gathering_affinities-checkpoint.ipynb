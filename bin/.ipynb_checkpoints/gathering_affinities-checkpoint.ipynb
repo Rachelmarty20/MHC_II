{
 "cells": [
  {
   "cell_type": "markdown",
   "metadata": {},
   "source": [
    "Helper Methods"
   ]
  },
  {
   "cell_type": "code",
   "execution_count": 1,
   "metadata": {
    "collapsed": true
   },
   "outputs": [],
   "source": [
    "def check_for_correct_residue(x):\n",
    "    if x[0].isupper() and x[-1].isupper() and x[1:-1].isdigit():\n",
    "        return True\n",
    "    else:\n",
    "        return False\n",
    "def combine(x):\n",
    "    return str(x[0]) + \"_\" + str(x[1])\n",
    "def combine_index(x):\n",
    "    return str(x[0]) + \"_\" + str(x[1][1:-1])\n",
    "def synonymous(x):\n",
    "    if (x[0] == x[-1:]) or (x[0] == '*') or (x[-1] == '*') or (x[0] == '_') or (x[-1] == '_'):\n",
    "        return False\n",
    "    else:\n",
    "        return True\n",
    "def get_index(x):\n",
    "    return x[1:-1]\n",
    "def get_gene(x):\n",
    "    return x.split('_')[0]\n",
    "def get_position(x):\n",
    "    return x.split('_')[1][1:-1]"
   ]
  },
  {
   "cell_type": "code",
   "execution_count": null,
   "metadata": {
    "collapsed": true
   },
   "outputs": [],
   "source": [
    "def PHBR(x):\n",
    "    number_of_alleles = len(x)\n",
    "    s = 0\n",
    "    for i in range(number_of_alleles):\n",
    "        s += 1/float(x[i])\n",
    "    return number_of_alleles / float(s)"
   ]
  },
  {
   "cell_type": "markdown",
   "metadata": {},
   "source": [
    "Gather protein sequences"
   ]
  },
  {
   "cell_type": "code",
   "execution_count": 2,
   "metadata": {
    "collapsed": true
   },
   "outputs": [],
   "source": [
    "def get_length(x):\n",
    "    return len(x)"
   ]
  },
  {
   "cell_type": "code",
   "execution_count": 5,
   "metadata": {
    "collapsed": true
   },
   "outputs": [],
   "source": [
    "def gather_protein_sequences():\n",
    "    # Ensemble (with sequences)\n",
    "    proteins, genes, sequences = [], [], []\n",
    "    fasta_sequences = SeqIO.parse(open(\"/cellar/users/ramarty/Data/hla_ii/references/Homo_sapiens.GRCh38.pep.all.fa\"),'fasta')\n",
    "    for fasta in fasta_sequences:\n",
    "        gene, protein, sequence = fasta.description.split('gene_symbol:')[1].split(' ')[0], fasta.id, fasta.seq.tostring()\n",
    "        proteins.append(protein)\n",
    "        genes.append(gene)\n",
    "        sequences.append(sequence)\n",
    "    ensemble = pd.DataFrame({'protein': proteins, 'gene': genes, 'sequence': sequences})\n",
    "    ensemble['protein'] = ensemble['protein'].map(lambda x: str(x)[:-2])\n",
    "\n",
    "    # Uniprot (mapping)\n",
    "    uniprot_import = pd.read_csv('/cellar/users/ramarty/Data/hla_ii/references/HUMAN_9606_idmapping_selected.tab', sep='\\t', header=None)\n",
    "    proteins, uniprot_ACs = [], []\n",
    "    for i in range(len(uniprot_import)):\n",
    "        try:\n",
    "            proteins.append(uniprot_import.ix[i, 20].split(';')[0])\n",
    "            uniprot_ACs.append(uniprot_import.ix[i, 0])\n",
    "        except:\n",
    "            None\n",
    "    uniprot = pd.DataFrame({'protein': proteins, 'uniprot_AC': uniprot_ACs})\n",
    "    # Drop all rows without a Uniprot AC\n",
    "    merged = pd.merge(ensemble, uniprot, on='protein', how='left')\n",
    "    merged = merged.drop_duplicates()\n",
    "    merged = merged.dropna()\n",
    "    # Merge to make single, connonical entry per gene\n",
    "    merged['length'] = merged['sequence'].apply(get_length)\n",
    "    merged = merged.sort_values('length', ascending=False)\n",
    "    merged = merged.drop_duplicates(subset='protein')\n",
    "    return merged"
   ]
  },
  {
   "cell_type": "code",
   "execution_count": 9,
   "metadata": {
    "collapsed": true
   },
   "outputs": [],
   "source": [
    "def gather_protein_sequences_all():\n",
    "    # Ensemble (with sequences)\n",
    "    proteins, genes, sequences = [], [], []\n",
    "    fasta_sequences = SeqIO.parse(open(\"/cellar/users/ramarty/Data/hla_ii/references/Homo_sapiens.GRCh38.pep.all.fa\"),'fasta')\n",
    "    for fasta in fasta_sequences:\n",
    "        gene, protein, sequence = fasta.description.split('gene_symbol:')[1].split(' ')[0], fasta.id, fasta.seq.tostring()\n",
    "        proteins.append(protein)\n",
    "        genes.append(gene)\n",
    "        sequences.append(sequence)\n",
    "    ensemble = pd.DataFrame({'protein': proteins, 'gene': genes, 'sequence': sequences})\n",
    "    ensemble['protein'] = ensemble['protein'].map(lambda x: str(x)[:-2])\n",
    "    # Add missing gene\n",
    "    ensemble.loc[len(ensemble)+1] = ['CRIPAK', '_', 'MHEPSLCANVECPPAHTCPCGVPACSCAHVECPPAHTCRCGVPACSHMPMWSARLLTRAHVECPPAHTRVHVECPPAHVPMWSAHLLTCADVECHLLTHVPMWSARLLTCPCGVPACSHVPMRSARLLTRAHAECPPAHTCPCGVPACSHVPMRSARLLTRADVECPPAHTCPCGVPACSHVPTWSARLITRAHVECSPAHTCRCGVPACSHVPMWSVRLLTRADAECPPAHTCRCGVPACSHVPMWSARLLTCRCGVPACSHVPMWSARLLTCRCGVPACSHVPMWSARLLTRAHVECPPAHTCRRGVPACSRAHMECPPAHTCHCGVPACSHTCRCGVPACSHVPMWSARLLTRAHVECPPAHTRAHVECPPAHTCPCGVPACSHTCPCGVPACSHKALAWWFCRFPVLPAESDAVTVHSTHGGFLIRFYVKDPFYISLHLEIT']\n",
    "    return ensemble"
   ]
  },
  {
   "cell_type": "code",
   "execution_count": null,
   "metadata": {
    "collapsed": true
   },
   "outputs": [],
   "source": []
  },
  {
   "cell_type": "markdown",
   "metadata": {},
   "source": [
    "Create the fasta files"
   ]
  },
  {
   "cell_type": "code",
   "execution_count": 2,
   "metadata": {
    "collapsed": true
   },
   "outputs": [],
   "source": [
    "def create_fasta_files(gene_sequence_df, category, mutations, mhc_class, status):\n",
    "    # put mutations in dataframe\n",
    "    success = []\n",
    "    gene, residue = [], []\n",
    "    for mutation in mutations:\n",
    "        c = mutation.split('_')\n",
    "        gene.append(c[0])\n",
    "        residue.append(c[1])\n",
    "    gene_residue = pd.DataFrame({'gene': gene, 'residue': residue})\n",
    "\n",
    "    # get format with gene, residue, sequence\n",
    "    combined = pd.merge(gene_residue, gene_sequence_df, on='gene', how='left')\n",
    "    combined = combined[['gene', 'residue', 'sequence']]\n",
    "\n",
    "    # check that all mutations are in table\n",
    "    if len(gene_residue) > len(combined):\n",
    "        print \"Error: missing sequences for residues\", len(gene_residue) - len(combined)\n",
    "\n",
    "    # create fasta files\n",
    "    for row in combined.iterrows():\n",
    "        output = fasta_machinery(row, category, mhc_class, status)\n",
    "        success.append(output)\n",
    "    return success"
   ]
  },
  {
   "cell_type": "code",
   "execution_count": 1,
   "metadata": {
    "collapsed": false
   },
   "outputs": [],
   "source": [
    "def fasta_machinery(row, category, mhc_class, status):\n",
    "    if mhc_class == 'class_i':\n",
    "        y = 10\n",
    "    else:\n",
    "        # double check this before I run mhc-ii\n",
    "        y = 14\n",
    "    gene = row[1]['gene']\n",
    "    residue = row[1]['residue']\n",
    "    sequence = str(row[1]['sequence'])\n",
    "    position = int(residue[1:len(residue)-1]) -1\n",
    "    old_aa = residue[0]\n",
    "    new_aa = residue[-1:]\n",
    "    \n",
    "    if len(sequence) >= position and sequence[position] == old_aa: #(not accurate for random)\n",
    "        mutated_sequence = sequence[:position] + new_aa + sequence[position+1:]\n",
    "        output_f = open('/cellar/users/ramarty/Data/hla/residue/fasta_files/{0}/{1}/{2}/{3}_{4}.fa'.format(status, mhc_class, category, gene, residue), 'w')\n",
    "        \n",
    "        # specify start and end\n",
    "        if (position-1) - y >= 0:\n",
    "            start = (position-1) - y \n",
    "        else:\n",
    "            start = -1\n",
    "            \n",
    "        if (position-1) + y <= len(sequence)-1:\n",
    "            end = (position-1) + y\n",
    "        else:\n",
    "            end = len(sequence) - 2\n",
    "\n",
    "        output_f.write('>gi {0}_{1}\\n'.format(gene, residue))\n",
    "        if status == 'mut':\n",
    "            output_f.write(mutated_sequence[start+1:end+2])\n",
    "        else:\n",
    "            output_f.write(sequence[start+1:end+2])\n",
    "        output_f.close()\n",
    "        return True\n",
    "\n",
    "    else:\n",
    "        print \"Error: sequence is not long enough or not the same background\", gene, residue\n",
    "        return False"
   ]
  },
  {
   "cell_type": "markdown",
   "metadata": {
    "collapsed": true
   },
   "source": [
    "Pathogens"
   ]
  },
  {
   "cell_type": "code",
   "execution_count": null,
   "metadata": {
    "collapsed": true
   },
   "outputs": [],
   "source": []
  },
  {
   "cell_type": "code",
   "execution_count": null,
   "metadata": {
    "collapsed": true
   },
   "outputs": [],
   "source": []
  },
  {
   "cell_type": "code",
   "execution_count": null,
   "metadata": {
    "collapsed": true
   },
   "outputs": [],
   "source": []
  },
  {
   "cell_type": "code",
   "execution_count": null,
   "metadata": {
    "collapsed": true
   },
   "outputs": [],
   "source": []
  },
  {
   "cell_type": "code",
   "execution_count": 1,
   "metadata": {
    "collapsed": true
   },
   "outputs": [],
   "source": [
    "def update_viral(f, kind):\n",
    "    try:\n",
    "        gene = f.split('.')[0]\n",
    "        sequence = open('/cellar/users/ramarty/Data/nrnb01_nobackup/hla/fasta_files/{0}/{1}.i.fa'.format(kind, f)).readlines()[1]\n",
    "\n",
    "        possible_seqs = list(virus[virus.Entry == gene].Sequence)\n",
    "\n",
    "        for seq in possible_seqs:\n",
    "            if sequence in seq:\n",
    "                position = seq.find(sequence)\n",
    "                if position >= 15:\n",
    "                    new_sequence = seq[position-2:position+27]\n",
    "                else:\n",
    "                    new_sequence = list(virus.sample().Sequence)[0][:29]\n",
    "                    position = 15\n",
    "                #print len(new_sequence)\n",
    "                break\n",
    "\n",
    "        output_f = open('/cellar/users/ramarty/Data/hla/residue/fasta_files/mut/class_i/{0}/{1}.fa'.format(kind, gene), 'w')\n",
    "        output_f.write('>gi {0}_{1}\\n'.format(gene, position))\n",
    "        output_f.write(new_sequence)\n",
    "        output_f.close()\n",
    "    except:\n",
    "        \n",
    "        new_sequence = list(virus.sample().Sequence)[0][:21]\n",
    "        position = 11\n",
    "        \n",
    "        output_f = open('/cellar/users/ramarty/Data/hla/residue/fasta_files/mut/class_i/{0}/{1}.fa'.format(kind, gene), 'w')\n",
    "        output_f.write('>gi {0}_{1}\\n'.format(gene, position))\n",
    "        output_f.write(new_sequence)\n",
    "        output_f.close()\n",
    "        "
   ]
  },
  {
   "cell_type": "code",
   "execution_count": 2,
   "metadata": {
    "collapsed": true
   },
   "outputs": [],
   "source": [
    "def update_bacterial(f, kind):\n",
    "    try:\n",
    "        gene = f.split('.')[0]\n",
    "        sequence = open('/cellar/users/ramarty/Data/nrnb01_nobackup/hla/fasta_files/{0}/{1}.i.fa'.format(kind, f)).readlines()[1]\n",
    "\n",
    "        possible_seqs = list(bacteria[bacteria.Entry == gene].Sequence)\n",
    "\n",
    "        for seq in possible_seqs:\n",
    "            if sequence in seq:\n",
    "                position = seq.find(sequence)\n",
    "                if position >= 11:\n",
    "                    new_sequence = seq[position-2:position+19]\n",
    "                else:\n",
    "                    new_sequence = seq[:21]\n",
    "                    position = 11\n",
    "                #print len(new_sequence)\n",
    "                break\n",
    "\n",
    "        output_f = open('/cellar/users/ramarty/Data/hla/residue/fasta_files/mut/class_i/{0}/{1}.fa'.format(kind, gene), 'w')\n",
    "        output_f.write('>gi {0}_{1}\\n'.format(gene, position))\n",
    "        output_f.write(new_sequence)\n",
    "        output_f.close()\n",
    "    except:\n",
    "        new_sequence = list(bacteria.sample().Sequence)[0][:21]\n",
    "        position = 11\n",
    "        \n",
    "        output_f = open('/cellar/users/ramarty/Data/hla/residue/fasta_files/mut/class_i/{0}/{1}.fa'.format(kind, gene), 'w')\n",
    "        output_f.write('>gi {0}_{1}\\n'.format(gene, position))\n",
    "        output_f.write(new_sequence)\n",
    "        output_f.close()"
   ]
  }
 ],
 "metadata": {
  "kernelspec": {
   "display_name": "Python 2",
   "language": "python",
   "name": "python2"
  },
  "language_info": {
   "codemirror_mode": {
    "name": "ipython",
    "version": 2
   },
   "file_extension": ".py",
   "mimetype": "text/x-python",
   "name": "python",
   "nbconvert_exporter": "python",
   "pygments_lexer": "ipython2",
   "version": "2.7.14"
  }
 },
 "nbformat": 4,
 "nbformat_minor": 0
}
