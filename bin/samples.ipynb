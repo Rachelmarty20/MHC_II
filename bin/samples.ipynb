{
 "cells": [
  {
   "cell_type": "code",
   "execution_count": 1,
   "metadata": {
    "collapsed": false
   },
   "outputs": [
    {
     "name": "stdout",
     "output_type": "stream",
     "text": [
      "Populating the interactive namespace from numpy and matplotlib\n"
     ]
    },
    {
     "name": "stderr",
     "output_type": "stream",
     "text": [
      "/cellar/users/ramarty/anaconda/lib/python2.7/site-packages/IPython/nbformat/current.py:19: UserWarning: IPython.nbformat.current is deprecated.\n",
      "\n",
      "- use IPython.nbformat for read/write/validate public API\n",
      "- use IPython.nbformat.vX directly to composing notebooks of a particular version\n",
      "\n",
      "  \"\"\")\n"
     ]
    }
   ],
   "source": [
    "import io\n",
    "from IPython.nbformat import current\n",
    "def execute_notebook(nbfile):\n",
    "    with io.open(nbfile) as f:\n",
    "        nb = current.read(f, 'json')\n",
    "    ip = get_ipython()\n",
    "    for cell in nb.worksheets[0].cells:\n",
    "        if cell.cell_type != 'code':\n",
    "            continue\n",
    "        ip.run_cell(cell.input)\n",
    "execute_notebook(\"/cellar/users/ramarty/Projects/kir/KIR_development/bin/imports.ipynb\")"
   ]
  },
  {
   "cell_type": "code",
   "execution_count": 2,
   "metadata": {
    "collapsed": true
   },
   "outputs": [],
   "source": [
    "def valid_barcode(x):\n",
    "    try: \n",
    "        x.index('TCGA')\n",
    "        return True\n",
    "    except:\n",
    "        return False\n",
    "def get_barcode(x):\n",
    "    i = x.index('TCGA')\n",
    "    return x[i:i+12]\n",
    "def get_origin(x):\n",
    "    try:\n",
    "        if int(x.split('-')[3][:2]) > 9:\n",
    "            return 'normal'\n",
    "        else:\n",
    "            return 'tumor'\n",
    "    except:\n",
    "        try:\n",
    "            if x.split('-')[3] == 'NT' or x.split('-')[3] == 'NB':\n",
    "                return 'normal'\n",
    "            else:\n",
    "                return 'tumor'\n",
    "        except:\n",
    "            return 'tumor'"
   ]
  },
  {
   "cell_type": "code",
   "execution_count": 3,
   "metadata": {
    "collapsed": true
   },
   "outputs": [],
   "source": [
    "manifest = pd.read_csv('/cellar/users/ramarty/Data/kir/TCGA/manifests/whole_exome.all_samples.tsv', sep='\\t')"
   ]
  },
  {
   "cell_type": "code",
   "execution_count": 4,
   "metadata": {
    "collapsed": true
   },
   "outputs": [],
   "source": [
    "manifest['valid'] = manifest.filename.apply(valid_barcode)\n",
    "manifest = manifest[manifest.valid]\n",
    "manifest['barcode'] = manifest.filename.apply(get_barcode)\n",
    "manifest['origin'] = manifest.filename.apply(get_origin)\n",
    "normal = manifest[manifest.origin == 'normal']\n",
    "normal = normal.drop_duplicates('barcode')\n",
    "normal_samples = list(normal.id)\n",
    "normal_barcodes = list(normal.barcode)"
   ]
  },
  {
   "cell_type": "code",
   "execution_count": null,
   "metadata": {
    "collapsed": true
   },
   "outputs": [],
   "source": []
  }
 ],
 "metadata": {
  "kernelspec": {
   "display_name": "Python 2",
   "language": "python",
   "name": "python2"
  },
  "language_info": {
   "codemirror_mode": {
    "name": "ipython",
    "version": 2
   },
   "file_extension": ".py",
   "mimetype": "text/x-python",
   "name": "python",
   "nbconvert_exporter": "python",
   "pygments_lexer": "ipython2",
   "version": "2.7.12"
  }
 },
 "nbformat": 4,
 "nbformat_minor": 0
}
